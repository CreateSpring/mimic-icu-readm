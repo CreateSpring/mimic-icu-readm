{
 "cells": [
  {
   "cell_type": "markdown",
   "metadata": {},
   "source": [
    "# Final Project: ICU LOS Predictive Model\n",
    "\n",
    "### Objective\n",
    "  1. Create a predictive model to forecast the length of stay in the hospital's critical care units, otherwise known as Intensive Care Unit (ICU), for patients prone to readmission.\n",
    "\n",
    "### Modeling Approach\n",
    "An array of Random Forest sub-models tailored to disease groups. The composite dataset (after feature extraction) is stratified based on the disease organ system, grouping similar diseases. Weak performing disease groups are further stratified into *surgical* and *medical* sub-groups."
   ]
  },
  {
   "cell_type": "code",
   "execution_count": 243,
   "metadata": {
    "collapsed": false,
    "scrolled": true
   },
   "outputs": [],
   "source": [
    "import psycopg2\n",
    "from psycopg2 import extras\n",
    "import sys, os\n",
    "import numpy as np\n",
    "import pandas as pd\n",
    "from scipy import stats\n",
    "import itertools\n",
    "from sklearn import grid_search\n",
    "from sklearn.utils import resample\n",
    "from sklearn.linear_model import LinearRegression\n",
    "from sklearn.svm import SVR\n",
    "from sklearn.neighbors import KNeighborsRegressor\n",
    "from sklearn.ensemble import RandomForestRegressor, GradientBoostingRegressor\n",
    "from sklearn.preprocessing import StandardScaler\n",
    "from sklearn.feature_selection import SelectKBest, f_regression\n",
    "from sklearn.metrics import mean_absolute_error, mean_squared_error, r2_score, silhouette_score\n",
    "import matplotlib.pyplot as plt\n",
    "import seaborn as sns\n",
    "\n",
    "%matplotlib inline"
   ]
  },
  {
   "cell_type": "code",
   "execution_count": 2,
   "metadata": {
    "collapsed": false,
    "scrolled": true
   },
   "outputs": [],
   "source": [
    "def cursor_connect(cursor_factory=None):\n",
    "    \"\"\"\n",
    "    Connects to the DB and returns the connection and cursor, ready to use.\n",
    "    \n",
    "    Parameters\n",
    "    ----------\n",
    "    cursor_factory : psycopg2.extras\n",
    "    \n",
    "    Returns\n",
    "    -------\n",
    "    (psycopg2.extensions.connection, psycopg2.extensions.cursor)\n",
    "        A tuple of (psycopg2 connection, psycopg2 cursor).\n",
    "    \"\"\"\n",
    "    #DB connection\n",
    "    conn = psycopg2.connect(dbname=\"mimic\", user=\"mimic\", host=\"172.31.28.5\",\n",
    "                            password=\"mimic\")\n",
    "    if not cursor_factory:\n",
    "        cur = conn.cursor()\n",
    "    else:\n",
    "        cur = conn.cursor(cursor_factory=cursor_factory)\n",
    "    return conn, cur\n",
    "\n",
    "def exec_query(query, curs_dict=False):\n",
    "    \"\"\"\n",
    "    Execute query and returns the SQL output.\n",
    "    \n",
    "    Parameters\n",
    "    ----------\n",
    "    query: string containing SQL SELECT command\n",
    "    curs_dict: dict cursor factory (output is dict)\n",
    "    \n",
    "    Returns\n",
    "    -------\n",
    "    rows: list of rows/records (SQL output)\n",
    "    \"\"\"\n",
    "    if curs_dict == True: \n",
    "        conn, cur = cursor_connect(psycopg2.extras.DictCursor)\n",
    "    else:\n",
    "        conn, cur = cursor_connect()\n",
    "    cur.execute('SET search_path TO mimiciii;')\n",
    "    cur.execute(query)\n",
    "    rows = cur.fetchall()\n",
    "    return rows"
   ]
  },
  {
   "cell_type": "markdown",
   "metadata": {},
   "source": [
    "# Dataset\n",
    "\n",
    "## Interval: 30 Days\n",
    "Patients' ICU admissions within the last 30 days from the current ICU stay.\n",
    "\n",
    "## Exclusion Criteria\n",
    "1. Minors\n",
    "2. No Readmissions\n",
    "\n",
    "## Features (`X`)\n",
    "\n",
    "### Operations\n",
    "* **`subjectid`**: subject ID of patients\n",
    "* **`icustayid`**: ID of a unique ICU stay\n",
    "* **`readm_days`**: number of days since discharge of previous ICU stay\n",
    "* **`prev_iculos`**: total length of stay (LOS) of the previous unique ICU stay\n",
    "* **`age`**: age of patient at the times of ICU admission\n",
    "* **`ethnicity`**: categorical feature indicating ethnicity group\n",
    "* **`marital_status`**: categorical feature indicating marital status.\n",
    "* **`insurance`**: categorical feature indicating insurance type.\n",
    "* **`NonEnglish`**: binary feature indicating non-english speaker.\n",
    "* **`N`<sub>icutrav</sub>**: the number of total intra-ICU ward transfers (non-unique ICU stays)\n",
    "* **`prev_cu`**: categorical feature indicating previous care unit\n",
    "* **`curr_cu`**: categorical feature indicating current care unit\n",
    "* **`prev_ICU`**: binary feature indicating if previous care unit was an ICU type\n",
    "* **`disch_cu`**: categorical feature indicating discharge care unit from ICU stay\n",
    "* **`disch_ICU`**: binary feature indicating if discharge care unit was an ICU type\n",
    "* **`icu_in_day`**: time of ICU admission (day/night)\n",
    "* **`icu_out_day`**: time of ICU discharge (day/night)\n",
    "* **`readm_risk`**: risk score of intra-patient unique ICU readmissions\n",
    "* Transfer Pairs\n",
    "    * **`nonicu-MICU`**\t\n",
    "    * **`nonicu-SICU`**\t\n",
    "    * **`nonicu-TSICU`**\t\n",
    "    * **`nonicu-CSRU`**\t\n",
    "    * **`MICU-MICU`**\t\n",
    "    * **`TSICU-TSICU`**\t\n",
    "    * **`nonicu-CCU`**\t\n",
    "    * **`CCU-CCU`**\n",
    "    * **`CSRU-CSRU`**\t\n",
    "    * **`SICU-SICU`**\t\n",
    "    \n",
    "### Clinical\n",
    "  * **Surgical Patients**: binary feature indicating the presence of surgery during an ICU stay \n",
    "  * **Abnormal Hemoglobin**: binary feature indicating the presence of abnormal hemoglobin results\n",
    "  * **HADM Procedures**: series of binary features indicating presence of procedures during hospital admission.\n",
    "  \n",
    "**Note**: Clinical features were obtained from Luyan's work. Please refer to her IPython notebook's for further information and details on their processing and extraction.\n",
    " \n",
    "## Dependent Variables/Response (`Y`) \n",
    "  * **`icu_los`**: ICU length of stay"
   ]
  },
  {
   "cell_type": "markdown",
   "metadata": {},
   "source": [
    "### Unique ICU stays\n",
    "\n",
    "Features:\n",
    "  * **`subjectid`**: subject ID of patients\n",
    "  * **`icustaysid`**: ID of a unique ICU stay\n",
    "  * **`readm_days`**: number of days since discharge of previous ICU stay to admission of current ICU stay (ICU readmission)"
   ]
  },
  {
   "cell_type": "code",
   "execution_count": 3,
   "metadata": {
    "collapsed": true,
    "scrolled": true
   },
   "outputs": [],
   "source": [
    "def prev_icutime(data):\n",
    "    \"\"\"\n",
    "    Helper function determining time of the previous ICU discharge/transfer.\n",
    "    \n",
    "    :param data: pandas DataFrame\n",
    "    :return: pandas Series \n",
    "    \"\"\"\n",
    "    if data['readm_days'] == np.nan:\n",
    "        pass\n",
    "    else:\n",
    "        prev_icutime = data['icu_intime'] - data['readm_days'] # time of previous ICU discharge/transfer\n",
    "        return prev_icutime"
   ]
  },
  {
   "cell_type": "code",
   "execution_count": 4,
   "metadata": {
    "collapsed": false,
    "scrolled": true
   },
   "outputs": [
    {
     "name": "stdout",
     "output_type": "stream",
     "text": [
      "(61532, 7)\n"
     ]
    },
    {
     "data": {
      "text/html": [
       "<div>\n",
       "<table border=\"1\" class=\"dataframe\">\n",
       "  <thead>\n",
       "    <tr style=\"text-align: right;\">\n",
       "      <th></th>\n",
       "      <th>subjectid</th>\n",
       "      <th>hadmid</th>\n",
       "      <th>icustayid</th>\n",
       "      <th>icu_intime</th>\n",
       "      <th>icu_outtime</th>\n",
       "      <th>readm_days</th>\n",
       "      <th>icu_prev_outtime</th>\n",
       "    </tr>\n",
       "  </thead>\n",
       "  <tbody>\n",
       "    <tr>\n",
       "      <th>0</th>\n",
       "      <td>2</td>\n",
       "      <td>163353</td>\n",
       "      <td>243653</td>\n",
       "      <td>2138-07-17 21:20:07</td>\n",
       "      <td>2138-07-17 23:32:21</td>\n",
       "      <td>NaN</td>\n",
       "      <td>NaT</td>\n",
       "    </tr>\n",
       "    <tr>\n",
       "      <th>1</th>\n",
       "      <td>3</td>\n",
       "      <td>145834</td>\n",
       "      <td>211552</td>\n",
       "      <td>2101-10-20 19:10:11</td>\n",
       "      <td>2101-10-26 20:43:09</td>\n",
       "      <td>NaN</td>\n",
       "      <td>NaT</td>\n",
       "    </tr>\n",
       "    <tr>\n",
       "      <th>2</th>\n",
       "      <td>4</td>\n",
       "      <td>185777</td>\n",
       "      <td>294638</td>\n",
       "      <td>2191-03-16 00:29:31</td>\n",
       "      <td>2191-03-17 16:46:31</td>\n",
       "      <td>NaN</td>\n",
       "      <td>NaT</td>\n",
       "    </tr>\n",
       "    <tr>\n",
       "      <th>3</th>\n",
       "      <td>5</td>\n",
       "      <td>178980</td>\n",
       "      <td>214757</td>\n",
       "      <td>2103-02-02 06:04:24</td>\n",
       "      <td>2103-02-02 08:06:00</td>\n",
       "      <td>NaN</td>\n",
       "      <td>NaT</td>\n",
       "    </tr>\n",
       "    <tr>\n",
       "      <th>4</th>\n",
       "      <td>6</td>\n",
       "      <td>107064</td>\n",
       "      <td>228232</td>\n",
       "      <td>2175-05-30 21:30:54</td>\n",
       "      <td>2175-06-03 13:39:54</td>\n",
       "      <td>NaN</td>\n",
       "      <td>NaT</td>\n",
       "    </tr>\n",
       "  </tbody>\n",
       "</table>\n",
       "</div>"
      ],
      "text/plain": [
       "   subjectid  hadmid  icustayid          icu_intime         icu_outtime  \\\n",
       "0          2  163353     243653 2138-07-17 21:20:07 2138-07-17 23:32:21   \n",
       "1          3  145834     211552 2101-10-20 19:10:11 2101-10-26 20:43:09   \n",
       "2          4  185777     294638 2191-03-16 00:29:31 2191-03-17 16:46:31   \n",
       "3          5  178980     214757 2103-02-02 06:04:24 2103-02-02 08:06:00   \n",
       "4          6  107064     228232 2175-05-30 21:30:54 2175-06-03 13:39:54   \n",
       "\n",
       "   readm_days icu_prev_outtime  \n",
       "0         NaN              NaT  \n",
       "1         NaN              NaT  \n",
       "2         NaN              NaT  \n",
       "3         NaN              NaT  \n",
       "4         NaN              NaT  "
      ]
     },
     "execution_count": 4,
     "metadata": {},
     "output_type": "execute_result"
    }
   ],
   "source": [
    "# query\n",
    "q_icustay=\"\"\"SELECT subject_id, hadm_id, icustay_id, min_in, max_out,\n",
    "min_in - lag(max_out)\n",
    "OVER (PARTITION BY subject_id ORDER BY min_in) AS diff\n",
    "FROM\n",
    "(SELECT subject_id, hadm_id, icustay_id, \n",
    "MIN(intime) as min_in, MAX(outtime) AS max_out\n",
    "FROM transfers\n",
    "WHERE icustay_id IS NOT NULL\n",
    "GROUP BY subject_id, hadm_id, icustay_id) as sub_q\n",
    "ORDER BY subject_id\n",
    "\"\"\"\n",
    "\n",
    "# Query output\n",
    "icustay = exec_query(q_icustay)\n",
    "df_icustay = pd.DataFrame(icustay, columns=['subjectid', 'hadmid', 'icustayid', \n",
    "                                            'icu_intime', # first unique ICU admission time \n",
    "                                            'icu_outtime', #  unique ICU discharge time\n",
    "                                            'readm_days']) # number of days since last ICU discharge/transfer\n",
    "\n",
    "df_icustay['icu_prev_outtime'] = df_icustay.apply(prev_icutime, axis=1) # previous icu stay time\n",
    "df_icustay.readm_days.dropna(inplace=True)\n",
    "df_icustay['readm_days'] = np.round(df_icustay['readm_days'].astype(int) * (1/8.64e13), 3) # convert to units of days\n",
    "print df_icustay.shape\n",
    "df_icustay.head()"
   ]
  },
  {
   "cell_type": "markdown",
   "metadata": {},
   "source": [
    "Filter for patients with ICU readmissions."
   ]
  },
  {
   "cell_type": "code",
   "execution_count": 5,
   "metadata": {
    "collapsed": false,
    "scrolled": true
   },
   "outputs": [
    {
     "name": "stdout",
     "output_type": "stream",
     "text": [
      "(23811, 7)\n"
     ]
    },
    {
     "data": {
      "text/html": [
       "<div>\n",
       "<table border=\"1\" class=\"dataframe\">\n",
       "  <thead>\n",
       "    <tr style=\"text-align: right;\">\n",
       "      <th></th>\n",
       "      <th>subjectid</th>\n",
       "      <th>hadmid</th>\n",
       "      <th>icustayid</th>\n",
       "      <th>icu_intime</th>\n",
       "      <th>icu_outtime</th>\n",
       "      <th>readm_days</th>\n",
       "      <th>icu_prev_outtime</th>\n",
       "    </tr>\n",
       "  </thead>\n",
       "  <tbody>\n",
       "    <tr>\n",
       "      <th>5</th>\n",
       "      <td>7</td>\n",
       "      <td>118037</td>\n",
       "      <td>278444</td>\n",
       "      <td>2121-05-23 15:35:29</td>\n",
       "      <td>2121-05-23 22:01:00</td>\n",
       "      <td>NaN</td>\n",
       "      <td>NaT</td>\n",
       "    </tr>\n",
       "    <tr>\n",
       "      <th>6</th>\n",
       "      <td>7</td>\n",
       "      <td>118037</td>\n",
       "      <td>236754</td>\n",
       "      <td>2121-05-25 03:26:01</td>\n",
       "      <td>2121-05-25 21:10:19</td>\n",
       "      <td>1.226</td>\n",
       "      <td>2121-05-23 22:01:00</td>\n",
       "    </tr>\n",
       "    <tr>\n",
       "      <th>14</th>\n",
       "      <td>17</td>\n",
       "      <td>194023</td>\n",
       "      <td>277042</td>\n",
       "      <td>2134-12-27 16:21:48</td>\n",
       "      <td>2134-12-29 18:04:03</td>\n",
       "      <td>NaN</td>\n",
       "      <td>NaT</td>\n",
       "    </tr>\n",
       "    <tr>\n",
       "      <th>15</th>\n",
       "      <td>17</td>\n",
       "      <td>161087</td>\n",
       "      <td>257980</td>\n",
       "      <td>2135-05-09 14:12:06</td>\n",
       "      <td>2135-05-10 11:18:34</td>\n",
       "      <td>130.839</td>\n",
       "      <td>2134-12-29 18:04:03</td>\n",
       "    </tr>\n",
       "    <tr>\n",
       "      <th>19</th>\n",
       "      <td>21</td>\n",
       "      <td>109451</td>\n",
       "      <td>217847</td>\n",
       "      <td>2134-09-11 20:50:04</td>\n",
       "      <td>2134-09-17 18:28:32</td>\n",
       "      <td>NaN</td>\n",
       "      <td>NaT</td>\n",
       "    </tr>\n",
       "  </tbody>\n",
       "</table>\n",
       "</div>"
      ],
      "text/plain": [
       "    subjectid  hadmid  icustayid          icu_intime         icu_outtime  \\\n",
       "5           7  118037     278444 2121-05-23 15:35:29 2121-05-23 22:01:00   \n",
       "6           7  118037     236754 2121-05-25 03:26:01 2121-05-25 21:10:19   \n",
       "14         17  194023     277042 2134-12-27 16:21:48 2134-12-29 18:04:03   \n",
       "15         17  161087     257980 2135-05-09 14:12:06 2135-05-10 11:18:34   \n",
       "19         21  109451     217847 2134-09-11 20:50:04 2134-09-17 18:28:32   \n",
       "\n",
       "    readm_days    icu_prev_outtime  \n",
       "5          NaN                 NaT  \n",
       "6        1.226 2121-05-23 22:01:00  \n",
       "14         NaN                 NaT  \n",
       "15     130.839 2134-12-29 18:04:03  \n",
       "19         NaN                 NaT  "
      ]
     },
     "execution_count": 5,
     "metadata": {},
     "output_type": "execute_result"
    }
   ],
   "source": [
    "# query\n",
    "q_readm_pat =\"\"\"SELECT * FROM\n",
    "    (SELECT subject_id, COUNT(icustay_id) AS n_icustays\n",
    "    FROM icustays\n",
    "    GROUP BY subject_id) AS sub_q\n",
    "WHERE n_icustays > 1;\"\"\"\n",
    "\n",
    "# Query output\n",
    "readm_pat = exec_query(q_readm_pat, False)\n",
    "df_readm_pat = pd.DataFrame(readm_pat, columns=['subjectid', 'n_icustays']) # patient w/ ICU readmissions (multiple)\n",
    "\n",
    "df_readm = df_icustay[df_icustay['subjectid'].isin(df_readm_pat.subjectid)] # filter patients w/ ICU readmissions\n",
    "print df_readm.shape\n",
    "df_readm.head()"
   ]
  },
  {
   "cell_type": "markdown",
   "metadata": {},
   "source": [
    "Extract prior ICUstay ID through `icu_prior_outtime`.\n",
    "\n",
    "**Note**: Some ICUstays have duplicate entries (use of `DISTINCT ON` prevents duplicates)"
   ]
  },
  {
   "cell_type": "code",
   "execution_count": 6,
   "metadata": {
    "collapsed": false,
    "scrolled": false
   },
   "outputs": [
    {
     "data": {
      "text/html": [
       "<div>\n",
       "<table border=\"1\" class=\"dataframe\">\n",
       "  <thead>\n",
       "    <tr style=\"text-align: right;\">\n",
       "      <th></th>\n",
       "      <th>subjectid</th>\n",
       "      <th>hadmid</th>\n",
       "      <th>icustayid</th>\n",
       "      <th>icu_intime</th>\n",
       "      <th>icu_outtime</th>\n",
       "      <th>readm_days</th>\n",
       "      <th>prev_icustayid</th>\n",
       "    </tr>\n",
       "  </thead>\n",
       "  <tbody>\n",
       "    <tr>\n",
       "      <th>0</th>\n",
       "      <td>7</td>\n",
       "      <td>118037</td>\n",
       "      <td>278444</td>\n",
       "      <td>2121-05-23 15:35:29</td>\n",
       "      <td>2121-05-23 22:01:00</td>\n",
       "      <td>NaN</td>\n",
       "      <td>NaN</td>\n",
       "    </tr>\n",
       "    <tr>\n",
       "      <th>1</th>\n",
       "      <td>7</td>\n",
       "      <td>118037</td>\n",
       "      <td>236754</td>\n",
       "      <td>2121-05-25 03:26:01</td>\n",
       "      <td>2121-05-25 21:10:19</td>\n",
       "      <td>1.226</td>\n",
       "      <td>278444.0</td>\n",
       "    </tr>\n",
       "    <tr>\n",
       "      <th>2</th>\n",
       "      <td>17</td>\n",
       "      <td>194023</td>\n",
       "      <td>277042</td>\n",
       "      <td>2134-12-27 16:21:48</td>\n",
       "      <td>2134-12-29 18:04:03</td>\n",
       "      <td>NaN</td>\n",
       "      <td>NaN</td>\n",
       "    </tr>\n",
       "    <tr>\n",
       "      <th>3</th>\n",
       "      <td>17</td>\n",
       "      <td>161087</td>\n",
       "      <td>257980</td>\n",
       "      <td>2135-05-09 14:12:06</td>\n",
       "      <td>2135-05-10 11:18:34</td>\n",
       "      <td>130.839</td>\n",
       "      <td>277042.0</td>\n",
       "    </tr>\n",
       "    <tr>\n",
       "      <th>4</th>\n",
       "      <td>21</td>\n",
       "      <td>109451</td>\n",
       "      <td>217847</td>\n",
       "      <td>2134-09-11 20:50:04</td>\n",
       "      <td>2134-09-17 18:28:32</td>\n",
       "      <td>NaN</td>\n",
       "      <td>NaN</td>\n",
       "    </tr>\n",
       "  </tbody>\n",
       "</table>\n",
       "</div>"
      ],
      "text/plain": [
       "   subjectid  hadmid  icustayid          icu_intime         icu_outtime  \\\n",
       "0          7  118037     278444 2121-05-23 15:35:29 2121-05-23 22:01:00   \n",
       "1          7  118037     236754 2121-05-25 03:26:01 2121-05-25 21:10:19   \n",
       "2         17  194023     277042 2134-12-27 16:21:48 2134-12-29 18:04:03   \n",
       "3         17  161087     257980 2135-05-09 14:12:06 2135-05-10 11:18:34   \n",
       "4         21  109451     217847 2134-09-11 20:50:04 2134-09-17 18:28:32   \n",
       "\n",
       "   readm_days  prev_icustayid  \n",
       "0         NaN             NaN  \n",
       "1       1.226        278444.0  \n",
       "2         NaN             NaN  \n",
       "3     130.839        277042.0  \n",
       "4         NaN             NaN  "
      ]
     },
     "execution_count": 6,
     "metadata": {},
     "output_type": "execute_result"
    }
   ],
   "source": [
    "q_previcu = \"\"\"SELECT DISTINCT ON (subject_id, icustay_id, outtime) subject_id, icustay_id, outtime \n",
    "FROM transfers \n",
    "WHERE icustay_id IS NOT NULL;\n",
    "\"\"\"\n",
    "# Query output\n",
    "prev_icustay = exec_query(q_previcu)\n",
    "df_previcu = pd.DataFrame(prev_icustay, columns=['subjectid', 'prev_icustayid', 'icu_prev_outtime']) # ID of previous ICU stay\n",
    "\n",
    "df_readm = pd.merge(df_readm, df_previcu, on=['subjectid', 'icu_prev_outtime'], how='left')\n",
    "df_readm.drop(labels='icu_prev_outtime', axis=1, inplace=True)\n",
    "df_readm.head()"
   ]
  },
  {
   "cell_type": "markdown",
   "metadata": {},
   "source": [
    "## Exclusion"
   ]
  },
  {
   "cell_type": "markdown",
   "metadata": {},
   "source": [
    "#### Neonate Patients"
   ]
  },
  {
   "cell_type": "code",
   "execution_count": 7,
   "metadata": {
    "collapsed": false,
    "scrolled": true
   },
   "outputs": [
    {
     "data": {
      "text/plain": [
       "(23357, 7)"
      ]
     },
     "execution_count": 7,
     "metadata": {},
     "output_type": "execute_result"
    }
   ],
   "source": [
    "q_nicu = \"\"\"SELECT DISTINCT icustay_id FROM transfers              \n",
    "WHERE curr_careunit = 'NICU' AND icustay_id IS NOT NULL;\n",
    "\"\"\"\n",
    "nicu_stays = exec_query(q_nicu)\n",
    "df_nicu_stays = pd.DataFrame(nicu_stays, columns=['icustayid'])\n",
    "\n",
    "df_readm = df_readm[df_readm['icustayid'].isin(df_nicu_stays.icustayid)==False] # filter for non-neonate patients\n",
    "df_readm.shape"
   ]
  },
  {
   "cell_type": "markdown",
   "metadata": {},
   "source": [
    "#### Minors\n",
    "Note: Patients' age must be readjusted for those age > 89 per MIMIC-III documentation. The dataset adjusts the values of older patients."
   ]
  },
  {
   "cell_type": "code",
   "execution_count": 8,
   "metadata": {
    "collapsed": false,
    "scrolled": true
   },
   "outputs": [
    {
     "data": {
      "text/plain": [
       "(23353, 7)"
      ]
     },
     "execution_count": 8,
     "metadata": {},
     "output_type": "execute_result"
    }
   ],
   "source": [
    "# age of patients < 90\n",
    "q_age_hadm1 = \"\"\"SELECT a.subject_id,\n",
    "    FLOOR((a.admittime::date - p.dob::date)/365.0) AS age\n",
    "    FROM admissions as a\n",
    "    INNER JOIN patients as p\n",
    "    ON a.subject_id = p.subject_id\n",
    "    WHERE FLOOR((a.admittime::date - p.dob::date)/365.0) < 90;\"\"\"\n",
    "\n",
    "# adjusted age of patients > 89\n",
    "q_age_hadm2 = \"\"\"SELECT a.subject_id,\n",
    "    FLOOR((a.admittime::date - p.dob::date)/365.0) -210 AS age\n",
    "    FROM admissions as a\n",
    "    INNER JOIN patients as p\n",
    "    ON a.subject_id = p.subject_id\n",
    "    WHERE FLOOR((a.admittime::date - p.dob::date)/365.0) > 89;\"\"\"\n",
    "\n",
    "age_hadm1 = exec_query(q_age_hadm1, False) \n",
    "age_hadm2 = exec_query(q_age_hadm2, False) # patients > 89 yrs old requiring adjustment\n",
    "df_age_hadm1 = pd.DataFrame(age_hadm1, columns=['subjectid', 'age'])\n",
    "df_age_hadm2 = pd.DataFrame(age_hadm2, columns=['subjectid', 'age'])\n",
    "\n",
    "df_age_hadm = pd.concat([df_age_hadm1, df_age_hadm2]) # patient age dataframe\n",
    "df_adults = df_age_hadm[df_age_hadm.age > 17] # filter for adults\n",
    "df_adults_sid = list(df_adults.subjectid.value_counts().index.sort_values()) # list of subject IDs\n",
    "\n",
    "df_readm = df_readm[df_readm.subjectid.isin(df_adults_sid)]\n",
    "df_readm.shape"
   ]
  },
  {
   "cell_type": "markdown",
   "metadata": {},
   "source": [
    "## Dataset Interval/Period \n",
    "\n",
    "### Count for each Cutoff\n",
    "Cutoff for days between last ICU stay discharge and current ICU admission."
   ]
  },
  {
   "cell_type": "code",
   "execution_count": 9,
   "metadata": {
    "collapsed": false
   },
   "outputs": [
    {
     "data": {
      "text/html": [
       "<div>\n",
       "<table border=\"1\" class=\"dataframe\">\n",
       "  <thead>\n",
       "    <tr style=\"text-align: right;\">\n",
       "      <th></th>\n",
       "      <th>days_cutoff</th>\n",
       "      <th>count</th>\n",
       "    </tr>\n",
       "  </thead>\n",
       "  <tbody>\n",
       "    <tr>\n",
       "      <th>5</th>\n",
       "      <td>30</td>\n",
       "      <td>6161</td>\n",
       "    </tr>\n",
       "    <tr>\n",
       "      <th>4</th>\n",
       "      <td>60</td>\n",
       "      <td>7626</td>\n",
       "    </tr>\n",
       "    <tr>\n",
       "      <th>3</th>\n",
       "      <td>90</td>\n",
       "      <td>8494</td>\n",
       "    </tr>\n",
       "    <tr>\n",
       "      <th>2</th>\n",
       "      <td>120</td>\n",
       "      <td>9061</td>\n",
       "    </tr>\n",
       "    <tr>\n",
       "      <th>1</th>\n",
       "      <td>150</td>\n",
       "      <td>9525</td>\n",
       "    </tr>\n",
       "    <tr>\n",
       "      <th>0</th>\n",
       "      <td>180</td>\n",
       "      <td>9914</td>\n",
       "    </tr>\n",
       "  </tbody>\n",
       "</table>\n",
       "</div>"
      ],
      "text/plain": [
       "   days_cutoff  count\n",
       "5           30   6161\n",
       "4           60   7626\n",
       "3           90   8494\n",
       "2          120   9061\n",
       "1          150   9525\n",
       "0          180   9914"
      ]
     },
     "execution_count": 9,
     "metadata": {},
     "output_type": "execute_result"
    }
   ],
   "source": [
    "count_disch = dict()\n",
    "for elem in [30, 60, 90, 120, 150, 180]:\n",
    "    count_disch[elem] = df_readm[df_readm.readm_days <= elem].shape[0]\n",
    "\n",
    "df_count = pd.DataFrame.from_dict(count_disch, orient='index').reset_index()\n",
    "df_count.columns = ['days_cutoff', 'count']\n",
    "df_count.sort_values('days_cutoff', ascending=True)"
   ]
  },
  {
   "cell_type": "markdown",
   "metadata": {},
   "source": [
    "### Interval: 30 Days"
   ]
  },
  {
   "cell_type": "code",
   "execution_count": 10,
   "metadata": {
    "collapsed": true
   },
   "outputs": [],
   "source": [
    "period = 30\n",
    "df_readm = df_readm[df_readm['readm_days'] <= period]"
   ]
  },
  {
   "cell_type": "markdown",
   "metadata": {},
   "source": [
    "### Previous ICU LOS\n",
    "The total LOS of the previous unique ICU stay, *includes the duration of all intra-ICU stays*."
   ]
  },
  {
   "cell_type": "code",
   "execution_count": 11,
   "metadata": {
    "collapsed": false,
    "scrolled": true
   },
   "outputs": [
    {
     "name": "stdout",
     "output_type": "stream",
     "text": [
      "(6161, 8)\n"
     ]
    },
    {
     "data": {
      "text/html": [
       "<div>\n",
       "<table border=\"1\" class=\"dataframe\">\n",
       "  <thead>\n",
       "    <tr style=\"text-align: right;\">\n",
       "      <th></th>\n",
       "      <th>subjectid</th>\n",
       "      <th>hadmid</th>\n",
       "      <th>icustayid</th>\n",
       "      <th>icu_intime</th>\n",
       "      <th>icu_outtime</th>\n",
       "      <th>readm_days</th>\n",
       "      <th>prev_icustayid</th>\n",
       "      <th>prev_iculos</th>\n",
       "    </tr>\n",
       "  </thead>\n",
       "  <tbody>\n",
       "    <tr>\n",
       "      <th>0</th>\n",
       "      <td>36</td>\n",
       "      <td>122659</td>\n",
       "      <td>211200</td>\n",
       "      <td>2131-05-16 23:18:26</td>\n",
       "      <td>2131-05-23 19:56:11</td>\n",
       "      <td>11.425</td>\n",
       "      <td>280987.0</td>\n",
       "      <td>1.1096</td>\n",
       "    </tr>\n",
       "    <tr>\n",
       "      <th>1</th>\n",
       "      <td>41</td>\n",
       "      <td>101757</td>\n",
       "      <td>237024</td>\n",
       "      <td>2133-01-09 12:18:30</td>\n",
       "      <td>2133-01-12 15:51:03</td>\n",
       "      <td>2.845</td>\n",
       "      <td>261027.0</td>\n",
       "      <td>3.3937</td>\n",
       "    </tr>\n",
       "    <tr>\n",
       "      <th>2</th>\n",
       "      <td>68</td>\n",
       "      <td>170467</td>\n",
       "      <td>225771</td>\n",
       "      <td>2173-12-31 01:52:46</td>\n",
       "      <td>2173-12-31 21:33:34</td>\n",
       "      <td>11.418</td>\n",
       "      <td>294232.0</td>\n",
       "      <td>3.5368</td>\n",
       "    </tr>\n",
       "    <tr>\n",
       "      <th>3</th>\n",
       "      <td>68</td>\n",
       "      <td>108329</td>\n",
       "      <td>272667</td>\n",
       "      <td>2174-01-08 13:12:06</td>\n",
       "      <td>2174-01-14 22:45:42</td>\n",
       "      <td>7.652</td>\n",
       "      <td>225771.0</td>\n",
       "      <td>0.8200</td>\n",
       "    </tr>\n",
       "    <tr>\n",
       "      <th>4</th>\n",
       "      <td>91</td>\n",
       "      <td>121205</td>\n",
       "      <td>256972</td>\n",
       "      <td>2177-05-07 03:52:00</td>\n",
       "      <td>2177-05-10 15:16:00</td>\n",
       "      <td>9.576</td>\n",
       "      <td>218528.0</td>\n",
       "      <td>0.4965</td>\n",
       "    </tr>\n",
       "  </tbody>\n",
       "</table>\n",
       "</div>"
      ],
      "text/plain": [
       "   subjectid  hadmid  icustayid          icu_intime         icu_outtime  \\\n",
       "0         36  122659     211200 2131-05-16 23:18:26 2131-05-23 19:56:11   \n",
       "1         41  101757     237024 2133-01-09 12:18:30 2133-01-12 15:51:03   \n",
       "2         68  170467     225771 2173-12-31 01:52:46 2173-12-31 21:33:34   \n",
       "3         68  108329     272667 2174-01-08 13:12:06 2174-01-14 22:45:42   \n",
       "4         91  121205     256972 2177-05-07 03:52:00 2177-05-10 15:16:00   \n",
       "\n",
       "   readm_days  prev_icustayid  prev_iculos  \n",
       "0      11.425        280987.0       1.1096  \n",
       "1       2.845        261027.0       3.3937  \n",
       "2      11.418        294232.0       3.5368  \n",
       "3       7.652        225771.0       0.8200  \n",
       "4       9.576        218528.0       0.4965  "
      ]
     },
     "execution_count": 11,
     "metadata": {},
     "output_type": "execute_result"
    }
   ],
   "source": [
    "q_prevlos = \"\"\"SELECT icustay_id, los \n",
    "FROM icustays;\"\"\"\n",
    "\n",
    "prevlos = exec_query(q_prevlos)\n",
    "df_prevlos = pd.DataFrame(prevlos, columns=['prev_icustayid', 'prev_iculos'])\n",
    "\n",
    "df_readm1 = pd.merge(df_readm, df_prevlos, on='prev_icustayid', how='left')\n",
    "\n",
    "print df_readm1.shape\n",
    "df_readm1.head()"
   ]
  },
  {
   "cell_type": "markdown",
   "metadata": {},
   "source": [
    "### Age\n",
    "Age of times at the time of ICU admission.\n",
    "\n",
    "**Notes**: \n",
    "  * Patients may have different age, depending on the time of admission.\n",
    "  * MIMIC-III adjusts age of patients > 89 years old (+ 210 years)"
   ]
  },
  {
   "cell_type": "code",
   "execution_count": 12,
   "metadata": {
    "collapsed": true
   },
   "outputs": [],
   "source": [
    "def age_adj(age):\n",
    "    \"\"\"Helper function adjust patients age per MIMIC-III documentation.\n",
    "    \n",
    "    :param age: integer \n",
    "    :return: integer\n",
    "    \"\"\"\n",
    "    if age > 89:\n",
    "        return age - 210\n",
    "    else:\n",
    "        return age"
   ]
  },
  {
   "cell_type": "code",
   "execution_count": 13,
   "metadata": {
    "collapsed": false
   },
   "outputs": [
    {
     "name": "stdout",
     "output_type": "stream",
     "text": [
      "(6161, 9)\n"
     ]
    },
    {
     "data": {
      "text/html": [
       "<div>\n",
       "<table border=\"1\" class=\"dataframe\">\n",
       "  <thead>\n",
       "    <tr style=\"text-align: right;\">\n",
       "      <th></th>\n",
       "      <th>subjectid</th>\n",
       "      <th>hadmid</th>\n",
       "      <th>icustayid</th>\n",
       "      <th>icu_intime</th>\n",
       "      <th>icu_outtime</th>\n",
       "      <th>readm_days</th>\n",
       "      <th>prev_icustayid</th>\n",
       "      <th>prev_iculos</th>\n",
       "      <th>age</th>\n",
       "    </tr>\n",
       "  </thead>\n",
       "  <tbody>\n",
       "    <tr>\n",
       "      <th>0</th>\n",
       "      <td>36</td>\n",
       "      <td>122659</td>\n",
       "      <td>211200</td>\n",
       "      <td>2131-05-16 23:18:26</td>\n",
       "      <td>2131-05-23 19:56:11</td>\n",
       "      <td>11.425</td>\n",
       "      <td>280987.0</td>\n",
       "      <td>1.1096</td>\n",
       "      <td>69</td>\n",
       "    </tr>\n",
       "    <tr>\n",
       "      <th>1</th>\n",
       "      <td>41</td>\n",
       "      <td>101757</td>\n",
       "      <td>237024</td>\n",
       "      <td>2133-01-09 12:18:30</td>\n",
       "      <td>2133-01-12 15:51:03</td>\n",
       "      <td>2.845</td>\n",
       "      <td>261027.0</td>\n",
       "      <td>3.3937</td>\n",
       "      <td>56</td>\n",
       "    </tr>\n",
       "    <tr>\n",
       "      <th>2</th>\n",
       "      <td>68</td>\n",
       "      <td>170467</td>\n",
       "      <td>225771</td>\n",
       "      <td>2173-12-31 01:52:46</td>\n",
       "      <td>2173-12-31 21:33:34</td>\n",
       "      <td>11.418</td>\n",
       "      <td>294232.0</td>\n",
       "      <td>3.5368</td>\n",
       "      <td>41</td>\n",
       "    </tr>\n",
       "    <tr>\n",
       "      <th>3</th>\n",
       "      <td>68</td>\n",
       "      <td>108329</td>\n",
       "      <td>272667</td>\n",
       "      <td>2174-01-08 13:12:06</td>\n",
       "      <td>2174-01-14 22:45:42</td>\n",
       "      <td>7.652</td>\n",
       "      <td>225771.0</td>\n",
       "      <td>0.8200</td>\n",
       "      <td>41</td>\n",
       "    </tr>\n",
       "    <tr>\n",
       "      <th>4</th>\n",
       "      <td>91</td>\n",
       "      <td>121205</td>\n",
       "      <td>256972</td>\n",
       "      <td>2177-05-07 03:52:00</td>\n",
       "      <td>2177-05-10 15:16:00</td>\n",
       "      <td>9.576</td>\n",
       "      <td>218528.0</td>\n",
       "      <td>0.4965</td>\n",
       "      <td>81</td>\n",
       "    </tr>\n",
       "  </tbody>\n",
       "</table>\n",
       "</div>"
      ],
      "text/plain": [
       "   subjectid  hadmid  icustayid          icu_intime         icu_outtime  \\\n",
       "0         36  122659     211200 2131-05-16 23:18:26 2131-05-23 19:56:11   \n",
       "1         41  101757     237024 2133-01-09 12:18:30 2133-01-12 15:51:03   \n",
       "2         68  170467     225771 2173-12-31 01:52:46 2173-12-31 21:33:34   \n",
       "3         68  108329     272667 2174-01-08 13:12:06 2174-01-14 22:45:42   \n",
       "4         91  121205     256972 2177-05-07 03:52:00 2177-05-10 15:16:00   \n",
       "\n",
       "   readm_days  prev_icustayid  prev_iculos  age  \n",
       "0      11.425        280987.0       1.1096   69  \n",
       "1       2.845        261027.0       3.3937   56  \n",
       "2      11.418        294232.0       3.5368   41  \n",
       "3       7.652        225771.0       0.8200   41  \n",
       "4       9.576        218528.0       0.4965   81  "
      ]
     },
     "execution_count": 13,
     "metadata": {},
     "output_type": "execute_result"
    }
   ],
   "source": [
    "q_age = \"\"\"SELECT DISTINCT subject_id, dob FROM patients;\"\"\"\n",
    "\n",
    "age = exec_query(q_age) # query output\n",
    "df_age = pd.DataFrame(age, columns=['subjectid', 'dob'])\n",
    "\n",
    "df_readm2 = pd.merge(df_readm1, df_age, on='subjectid', how='left')\n",
    "\n",
    "# Calculate age\n",
    "age = df_readm2.icu_intime.values.astype('datetime64[D]') - df_readm2.dob.values.astype('datetime64[D]')\n",
    "age = age / 365\n",
    "df_readm2['age'] = age.astype(int)\n",
    "df_readm2['age'] = df_readm2.age.apply(age_adj)\n",
    "\n",
    "df_readm2 = df_readm2[df_readm2.age > 17]\n",
    "df_readm2.drop('dob', axis=1, inplace=True)\n",
    "\n",
    "print df_readm2.shape\n",
    "df_readm2.head()"
   ]
  },
  {
   "cell_type": "markdown",
   "metadata": {},
   "source": [
    "### Ethnicity\n",
    "Ethnicity of the patients.\n",
    "\n",
    "Legend:\n",
    "  * `0`: Asian\n",
    "  * `1`: Black\n",
    "  * `2`: Hispanic\n",
    "  * `3`: White\n",
    "  * `4`: Other\n",
    "  * `5`: N/A\n",
    "\n",
    "**Notes**:\n",
    "  * Prior exploratory data analyses found that African-Americans were the leading group for being prone to ICU readmissions.  85% of their group were readmitted into the ICU.\n",
    "  * Dataset provides many specific ethnicity categories, thus providing little sample size when grouping the data by ethnicity. The feature/column has been processed in order to bin the data into more broad ethnicity categorizations.\n",
    "    * Ethnicity na accounts for data unable to be collected or declined by patients."
   ]
  },
  {
   "cell_type": "code",
   "execution_count": 14,
   "metadata": {
    "collapsed": true
   },
   "outputs": [],
   "source": [
    "def overall_ethn(ethn):\n",
    "    \"\"\"Helper function binning patients' ethnicity into broader level classification.\n",
    "    \n",
    "    :param ethn: string \n",
    "    :return: lower-case string\n",
    "    \"\"\"\n",
    "    if 'hispanic' in ethn.lower():\n",
    "        new_ethn = 'hispanic'\n",
    "    elif 'asian' in ethn.lower() or 'pacific islander' in ethn.lower():\n",
    "        new_ethn = 'asian'\n",
    "    elif 'white' in ethn.lower():\n",
    "        new_ethn = 'white'\n",
    "    elif 'black' in ethn.lower():\n",
    "        new_ethn = 'black'\n",
    "    elif 'decline' in ethn.lower() or 'unable' in ethn.lower():\n",
    "        new_ethn = 'na'\n",
    "    else:\n",
    "        new_ethn = 'other'\n",
    "    return new_ethn"
   ]
  },
  {
   "cell_type": "code",
   "execution_count": 15,
   "metadata": {
    "collapsed": false
   },
   "outputs": [
    {
     "name": "stdout",
     "output_type": "stream",
     "text": [
      "(6161, 10)\n"
     ]
    },
    {
     "data": {
      "text/html": [
       "<div>\n",
       "<table border=\"1\" class=\"dataframe\">\n",
       "  <thead>\n",
       "    <tr style=\"text-align: right;\">\n",
       "      <th></th>\n",
       "      <th>subjectid</th>\n",
       "      <th>hadmid</th>\n",
       "      <th>icustayid</th>\n",
       "      <th>icu_intime</th>\n",
       "      <th>icu_outtime</th>\n",
       "      <th>readm_days</th>\n",
       "      <th>prev_icustayid</th>\n",
       "      <th>prev_iculos</th>\n",
       "      <th>age</th>\n",
       "      <th>ethnicity</th>\n",
       "    </tr>\n",
       "  </thead>\n",
       "  <tbody>\n",
       "    <tr>\n",
       "      <th>0</th>\n",
       "      <td>36</td>\n",
       "      <td>122659</td>\n",
       "      <td>211200</td>\n",
       "      <td>2131-05-16 23:18:26</td>\n",
       "      <td>2131-05-23 19:56:11</td>\n",
       "      <td>11.425</td>\n",
       "      <td>280987.0</td>\n",
       "      <td>1.1096</td>\n",
       "      <td>69</td>\n",
       "      <td>3</td>\n",
       "    </tr>\n",
       "    <tr>\n",
       "      <th>1</th>\n",
       "      <td>41</td>\n",
       "      <td>101757</td>\n",
       "      <td>237024</td>\n",
       "      <td>2133-01-09 12:18:30</td>\n",
       "      <td>2133-01-12 15:51:03</td>\n",
       "      <td>2.845</td>\n",
       "      <td>261027.0</td>\n",
       "      <td>3.3937</td>\n",
       "      <td>56</td>\n",
       "      <td>3</td>\n",
       "    </tr>\n",
       "    <tr>\n",
       "      <th>2</th>\n",
       "      <td>68</td>\n",
       "      <td>170467</td>\n",
       "      <td>225771</td>\n",
       "      <td>2173-12-31 01:52:46</td>\n",
       "      <td>2173-12-31 21:33:34</td>\n",
       "      <td>11.418</td>\n",
       "      <td>294232.0</td>\n",
       "      <td>3.5368</td>\n",
       "      <td>41</td>\n",
       "      <td>1</td>\n",
       "    </tr>\n",
       "    <tr>\n",
       "      <th>3</th>\n",
       "      <td>68</td>\n",
       "      <td>108329</td>\n",
       "      <td>272667</td>\n",
       "      <td>2174-01-08 13:12:06</td>\n",
       "      <td>2174-01-14 22:45:42</td>\n",
       "      <td>7.652</td>\n",
       "      <td>225771.0</td>\n",
       "      <td>0.8200</td>\n",
       "      <td>41</td>\n",
       "      <td>1</td>\n",
       "    </tr>\n",
       "    <tr>\n",
       "      <th>4</th>\n",
       "      <td>91</td>\n",
       "      <td>121205</td>\n",
       "      <td>256972</td>\n",
       "      <td>2177-05-07 03:52:00</td>\n",
       "      <td>2177-05-10 15:16:00</td>\n",
       "      <td>9.576</td>\n",
       "      <td>218528.0</td>\n",
       "      <td>0.4965</td>\n",
       "      <td>81</td>\n",
       "      <td>3</td>\n",
       "    </tr>\n",
       "  </tbody>\n",
       "</table>\n",
       "</div>"
      ],
      "text/plain": [
       "   subjectid  hadmid  icustayid          icu_intime         icu_outtime  \\\n",
       "0         36  122659     211200 2131-05-16 23:18:26 2131-05-23 19:56:11   \n",
       "1         41  101757     237024 2133-01-09 12:18:30 2133-01-12 15:51:03   \n",
       "2         68  170467     225771 2173-12-31 01:52:46 2173-12-31 21:33:34   \n",
       "3         68  108329     272667 2174-01-08 13:12:06 2174-01-14 22:45:42   \n",
       "4         91  121205     256972 2177-05-07 03:52:00 2177-05-10 15:16:00   \n",
       "\n",
       "   readm_days  prev_icustayid  prev_iculos  age  ethnicity  \n",
       "0      11.425        280987.0       1.1096   69          3  \n",
       "1       2.845        261027.0       3.3937   56          3  \n",
       "2      11.418        294232.0       3.5368   41          1  \n",
       "3       7.652        225771.0       0.8200   41          1  \n",
       "4       9.576        218528.0       0.4965   81          3  "
      ]
     },
     "execution_count": 15,
     "metadata": {},
     "output_type": "execute_result"
    }
   ],
   "source": [
    "q_ethn = \"\"\"SELECT DISTINCT ON (subject_id) subject_id, ethnicity \n",
    "FROM admissions;\"\"\"\n",
    "\n",
    "ethnicity = exec_query(q_ethn) # query output\n",
    "df_ethn = pd.DataFrame(ethnicity, columns=['subjectid', 'ethnicity'])\n",
    "\n",
    "df_readm3 = pd.merge(df_readm2, df_ethn, on='subjectid', how='left')\n",
    "df_readm3['ethnicity'] = df_readm3.ethnicity.apply(overall_ethn)\n",
    "df_readm3['ethnicity'].replace(to_replace = \n",
    "                               {'asian': 0, 'black':1, 'hispanic': 2,\n",
    "                               'white': 3, 'other': 4, 'na': 5}, inplace=True) # create numerical category values\n",
    "\n",
    "print df_readm3.shape\n",
    "df_readm3.head()"
   ]
  },
  {
   "cell_type": "markdown",
   "metadata": {},
   "source": [
    "### Marital Status\n",
    "Martial status of the patients.\n",
    "\n",
    "Legend:\n",
    "  * `0`: Single\n",
    "  * `1`: Married\n",
    "  * `2`: Divorced\n",
    "  * `3`: Separated\n",
    "  * `4`: Widowed\n",
    "  * `5`: Life Partner\n",
    "  * `6`: Unknown (*default*)"
   ]
  },
  {
   "cell_type": "code",
   "execution_count": 16,
   "metadata": {
    "collapsed": false
   },
   "outputs": [
    {
     "name": "stdout",
     "output_type": "stream",
     "text": [
      "(6161, 11)\n"
     ]
    },
    {
     "data": {
      "text/html": [
       "<div>\n",
       "<table border=\"1\" class=\"dataframe\">\n",
       "  <thead>\n",
       "    <tr style=\"text-align: right;\">\n",
       "      <th></th>\n",
       "      <th>subjectid</th>\n",
       "      <th>hadmid</th>\n",
       "      <th>icustayid</th>\n",
       "      <th>icu_intime</th>\n",
       "      <th>icu_outtime</th>\n",
       "      <th>readm_days</th>\n",
       "      <th>prev_icustayid</th>\n",
       "      <th>prev_iculos</th>\n",
       "      <th>age</th>\n",
       "      <th>ethnicity</th>\n",
       "      <th>marital_status</th>\n",
       "    </tr>\n",
       "  </thead>\n",
       "  <tbody>\n",
       "    <tr>\n",
       "      <th>0</th>\n",
       "      <td>36</td>\n",
       "      <td>122659</td>\n",
       "      <td>211200</td>\n",
       "      <td>2131-05-16 23:18:26</td>\n",
       "      <td>2131-05-23 19:56:11</td>\n",
       "      <td>11.425</td>\n",
       "      <td>280987.0</td>\n",
       "      <td>1.1096</td>\n",
       "      <td>69</td>\n",
       "      <td>3</td>\n",
       "      <td>1</td>\n",
       "    </tr>\n",
       "    <tr>\n",
       "      <th>1</th>\n",
       "      <td>41</td>\n",
       "      <td>101757</td>\n",
       "      <td>237024</td>\n",
       "      <td>2133-01-09 12:18:30</td>\n",
       "      <td>2133-01-12 15:51:03</td>\n",
       "      <td>2.845</td>\n",
       "      <td>261027.0</td>\n",
       "      <td>3.3937</td>\n",
       "      <td>56</td>\n",
       "      <td>3</td>\n",
       "      <td>0</td>\n",
       "    </tr>\n",
       "    <tr>\n",
       "      <th>2</th>\n",
       "      <td>68</td>\n",
       "      <td>170467</td>\n",
       "      <td>225771</td>\n",
       "      <td>2173-12-31 01:52:46</td>\n",
       "      <td>2173-12-31 21:33:34</td>\n",
       "      <td>11.418</td>\n",
       "      <td>294232.0</td>\n",
       "      <td>3.5368</td>\n",
       "      <td>41</td>\n",
       "      <td>1</td>\n",
       "      <td>0</td>\n",
       "    </tr>\n",
       "    <tr>\n",
       "      <th>3</th>\n",
       "      <td>68</td>\n",
       "      <td>108329</td>\n",
       "      <td>272667</td>\n",
       "      <td>2174-01-08 13:12:06</td>\n",
       "      <td>2174-01-14 22:45:42</td>\n",
       "      <td>7.652</td>\n",
       "      <td>225771.0</td>\n",
       "      <td>0.8200</td>\n",
       "      <td>41</td>\n",
       "      <td>1</td>\n",
       "      <td>0</td>\n",
       "    </tr>\n",
       "    <tr>\n",
       "      <th>4</th>\n",
       "      <td>91</td>\n",
       "      <td>121205</td>\n",
       "      <td>256972</td>\n",
       "      <td>2177-05-07 03:52:00</td>\n",
       "      <td>2177-05-10 15:16:00</td>\n",
       "      <td>9.576</td>\n",
       "      <td>218528.0</td>\n",
       "      <td>0.4965</td>\n",
       "      <td>81</td>\n",
       "      <td>3</td>\n",
       "      <td>1</td>\n",
       "    </tr>\n",
       "  </tbody>\n",
       "</table>\n",
       "</div>"
      ],
      "text/plain": [
       "   subjectid  hadmid  icustayid          icu_intime         icu_outtime  \\\n",
       "0         36  122659     211200 2131-05-16 23:18:26 2131-05-23 19:56:11   \n",
       "1         41  101757     237024 2133-01-09 12:18:30 2133-01-12 15:51:03   \n",
       "2         68  170467     225771 2173-12-31 01:52:46 2173-12-31 21:33:34   \n",
       "3         68  108329     272667 2174-01-08 13:12:06 2174-01-14 22:45:42   \n",
       "4         91  121205     256972 2177-05-07 03:52:00 2177-05-10 15:16:00   \n",
       "\n",
       "   readm_days  prev_icustayid  prev_iculos  age  ethnicity  marital_status  \n",
       "0      11.425        280987.0       1.1096   69          3               1  \n",
       "1       2.845        261027.0       3.3937   56          3               0  \n",
       "2      11.418        294232.0       3.5368   41          1               0  \n",
       "3       7.652        225771.0       0.8200   41          1               0  \n",
       "4       9.576        218528.0       0.4965   81          3               1  "
      ]
     },
     "execution_count": 16,
     "metadata": {},
     "output_type": "execute_result"
    }
   ],
   "source": [
    "q_marital = \"\"\"SELECT DISTINCT ON (subject_id, hadm_id) subject_id, \n",
    "hadm_id, marital_status \n",
    "FROM admissions;\"\"\"\n",
    "\n",
    "marital_status = exec_query(q_marital) # query output\n",
    "df_marital = pd.DataFrame(marital_status, \n",
    "                          columns=['subjectid', 'hadmid', 'marital_status'])\n",
    "\n",
    "df_readm4 = pd.merge(df_readm3, df_marital, on=['subjectid', 'hadmid'], how='left')\n",
    "df_readm4['marital_status'].replace(to_replace = \n",
    "                                   {'SINGLE': 0, 'MARRIED':1, 'DIVORCED': 2,\n",
    "                                    'SEPARATED': 3, 'WIDOWED': 4, \n",
    "                                    'LIFE PARTNER': 5, 'UNKNOWN (DEFAULT)': 6, \n",
    "                                    '':6}, inplace=True) # create numerical category values\n",
    "print df_readm4.shape\n",
    "df_readm4.head()"
   ]
  },
  {
   "cell_type": "markdown",
   "metadata": {},
   "source": [
    "### Insurance Type\n",
    "Insurance type of the patients.\n",
    "\n",
    "Legend:\n",
    "  * `0`: Government\n",
    "  * `1`: Medicaid\n",
    "  * `2`: Medicare\n",
    "  * `3`: Private\n",
    "  * `4`: Self Pay"
   ]
  },
  {
   "cell_type": "code",
   "execution_count": 17,
   "metadata": {
    "collapsed": false
   },
   "outputs": [
    {
     "name": "stdout",
     "output_type": "stream",
     "text": [
      "(6161, 12)\n"
     ]
    },
    {
     "data": {
      "text/html": [
       "<div>\n",
       "<table border=\"1\" class=\"dataframe\">\n",
       "  <thead>\n",
       "    <tr style=\"text-align: right;\">\n",
       "      <th></th>\n",
       "      <th>subjectid</th>\n",
       "      <th>hadmid</th>\n",
       "      <th>icustayid</th>\n",
       "      <th>icu_intime</th>\n",
       "      <th>icu_outtime</th>\n",
       "      <th>readm_days</th>\n",
       "      <th>prev_icustayid</th>\n",
       "      <th>prev_iculos</th>\n",
       "      <th>age</th>\n",
       "      <th>ethnicity</th>\n",
       "      <th>marital_status</th>\n",
       "      <th>insurance</th>\n",
       "    </tr>\n",
       "  </thead>\n",
       "  <tbody>\n",
       "    <tr>\n",
       "      <th>0</th>\n",
       "      <td>36</td>\n",
       "      <td>122659</td>\n",
       "      <td>211200</td>\n",
       "      <td>2131-05-16 23:18:26</td>\n",
       "      <td>2131-05-23 19:56:11</td>\n",
       "      <td>11.425</td>\n",
       "      <td>280987.0</td>\n",
       "      <td>1.1096</td>\n",
       "      <td>69</td>\n",
       "      <td>3</td>\n",
       "      <td>1</td>\n",
       "      <td>2</td>\n",
       "    </tr>\n",
       "    <tr>\n",
       "      <th>1</th>\n",
       "      <td>41</td>\n",
       "      <td>101757</td>\n",
       "      <td>237024</td>\n",
       "      <td>2133-01-09 12:18:30</td>\n",
       "      <td>2133-01-12 15:51:03</td>\n",
       "      <td>2.845</td>\n",
       "      <td>261027.0</td>\n",
       "      <td>3.3937</td>\n",
       "      <td>56</td>\n",
       "      <td>3</td>\n",
       "      <td>0</td>\n",
       "      <td>3</td>\n",
       "    </tr>\n",
       "    <tr>\n",
       "      <th>2</th>\n",
       "      <td>68</td>\n",
       "      <td>170467</td>\n",
       "      <td>225771</td>\n",
       "      <td>2173-12-31 01:52:46</td>\n",
       "      <td>2173-12-31 21:33:34</td>\n",
       "      <td>11.418</td>\n",
       "      <td>294232.0</td>\n",
       "      <td>3.5368</td>\n",
       "      <td>41</td>\n",
       "      <td>1</td>\n",
       "      <td>0</td>\n",
       "      <td>2</td>\n",
       "    </tr>\n",
       "    <tr>\n",
       "      <th>3</th>\n",
       "      <td>68</td>\n",
       "      <td>108329</td>\n",
       "      <td>272667</td>\n",
       "      <td>2174-01-08 13:12:06</td>\n",
       "      <td>2174-01-14 22:45:42</td>\n",
       "      <td>7.652</td>\n",
       "      <td>225771.0</td>\n",
       "      <td>0.8200</td>\n",
       "      <td>41</td>\n",
       "      <td>1</td>\n",
       "      <td>0</td>\n",
       "      <td>2</td>\n",
       "    </tr>\n",
       "    <tr>\n",
       "      <th>4</th>\n",
       "      <td>91</td>\n",
       "      <td>121205</td>\n",
       "      <td>256972</td>\n",
       "      <td>2177-05-07 03:52:00</td>\n",
       "      <td>2177-05-10 15:16:00</td>\n",
       "      <td>9.576</td>\n",
       "      <td>218528.0</td>\n",
       "      <td>0.4965</td>\n",
       "      <td>81</td>\n",
       "      <td>3</td>\n",
       "      <td>1</td>\n",
       "      <td>2</td>\n",
       "    </tr>\n",
       "  </tbody>\n",
       "</table>\n",
       "</div>"
      ],
      "text/plain": [
       "   subjectid  hadmid  icustayid          icu_intime         icu_outtime  \\\n",
       "0         36  122659     211200 2131-05-16 23:18:26 2131-05-23 19:56:11   \n",
       "1         41  101757     237024 2133-01-09 12:18:30 2133-01-12 15:51:03   \n",
       "2         68  170467     225771 2173-12-31 01:52:46 2173-12-31 21:33:34   \n",
       "3         68  108329     272667 2174-01-08 13:12:06 2174-01-14 22:45:42   \n",
       "4         91  121205     256972 2177-05-07 03:52:00 2177-05-10 15:16:00   \n",
       "\n",
       "   readm_days  prev_icustayid  prev_iculos  age  ethnicity  marital_status  \\\n",
       "0      11.425        280987.0       1.1096   69          3               1   \n",
       "1       2.845        261027.0       3.3937   56          3               0   \n",
       "2      11.418        294232.0       3.5368   41          1               0   \n",
       "3       7.652        225771.0       0.8200   41          1               0   \n",
       "4       9.576        218528.0       0.4965   81          3               1   \n",
       "\n",
       "   insurance  \n",
       "0          2  \n",
       "1          3  \n",
       "2          2  \n",
       "3          2  \n",
       "4          2  "
      ]
     },
     "execution_count": 17,
     "metadata": {},
     "output_type": "execute_result"
    }
   ],
   "source": [
    "q_insurance = \"\"\"SELECT DISTINCT ON (subject_id, hadm_id) subject_id, \n",
    "hadm_id, insurance \n",
    "FROM admissions;\"\"\"\n",
    "\n",
    "insurance = exec_query(q_insurance) # query output\n",
    "df_insurance = pd.DataFrame(insurance, \n",
    "                          columns=['subjectid', 'hadmid', 'insurance'])\n",
    "\n",
    "df_readm5 = pd.merge(df_readm4, df_insurance, on=['subjectid', 'hadmid'], how='left')\n",
    "df_readm5['insurance'].replace(to_replace = \n",
    "                                   {'Government': 0, 'Medicaid':1, 'Medicare': 2,\n",
    "                                    'Private': 3, 'Self Pay': 4}, inplace=True) # create numerical category values\n",
    "print df_readm5.shape\n",
    "df_readm5.head()"
   ]
  },
  {
   "cell_type": "markdown",
   "metadata": {},
   "source": [
    "### Non-English Speakers\n",
    "Binary feature indicating whether the patient is a non-english speaker or not.\n",
    "\n",
    "Legend:\n",
    "  * `0`: English speaker\n",
    "  * `1`: Non-English speaker"
   ]
  },
  {
   "cell_type": "code",
   "execution_count": 18,
   "metadata": {
    "collapsed": false
   },
   "outputs": [
    {
     "name": "stdout",
     "output_type": "stream",
     "text": [
      "(6161, 13)\n"
     ]
    },
    {
     "data": {
      "text/html": [
       "<div>\n",
       "<table border=\"1\" class=\"dataframe\">\n",
       "  <thead>\n",
       "    <tr style=\"text-align: right;\">\n",
       "      <th></th>\n",
       "      <th>subjectid</th>\n",
       "      <th>hadmid</th>\n",
       "      <th>icustayid</th>\n",
       "      <th>icu_intime</th>\n",
       "      <th>icu_outtime</th>\n",
       "      <th>readm_days</th>\n",
       "      <th>prev_icustayid</th>\n",
       "      <th>prev_iculos</th>\n",
       "      <th>age</th>\n",
       "      <th>ethnicity</th>\n",
       "      <th>marital_status</th>\n",
       "      <th>insurance</th>\n",
       "      <th>NonEnglish</th>\n",
       "    </tr>\n",
       "  </thead>\n",
       "  <tbody>\n",
       "    <tr>\n",
       "      <th>0</th>\n",
       "      <td>36</td>\n",
       "      <td>122659</td>\n",
       "      <td>211200</td>\n",
       "      <td>2131-05-16 23:18:26</td>\n",
       "      <td>2131-05-23 19:56:11</td>\n",
       "      <td>11.425</td>\n",
       "      <td>280987.0</td>\n",
       "      <td>1.1096</td>\n",
       "      <td>69</td>\n",
       "      <td>3</td>\n",
       "      <td>1</td>\n",
       "      <td>2</td>\n",
       "      <td>0</td>\n",
       "    </tr>\n",
       "    <tr>\n",
       "      <th>1</th>\n",
       "      <td>41</td>\n",
       "      <td>101757</td>\n",
       "      <td>237024</td>\n",
       "      <td>2133-01-09 12:18:30</td>\n",
       "      <td>2133-01-12 15:51:03</td>\n",
       "      <td>2.845</td>\n",
       "      <td>261027.0</td>\n",
       "      <td>3.3937</td>\n",
       "      <td>56</td>\n",
       "      <td>3</td>\n",
       "      <td>0</td>\n",
       "      <td>3</td>\n",
       "      <td>1</td>\n",
       "    </tr>\n",
       "    <tr>\n",
       "      <th>2</th>\n",
       "      <td>68</td>\n",
       "      <td>170467</td>\n",
       "      <td>225771</td>\n",
       "      <td>2173-12-31 01:52:46</td>\n",
       "      <td>2173-12-31 21:33:34</td>\n",
       "      <td>11.418</td>\n",
       "      <td>294232.0</td>\n",
       "      <td>3.5368</td>\n",
       "      <td>41</td>\n",
       "      <td>1</td>\n",
       "      <td>0</td>\n",
       "      <td>2</td>\n",
       "      <td>1</td>\n",
       "    </tr>\n",
       "    <tr>\n",
       "      <th>3</th>\n",
       "      <td>68</td>\n",
       "      <td>108329</td>\n",
       "      <td>272667</td>\n",
       "      <td>2174-01-08 13:12:06</td>\n",
       "      <td>2174-01-14 22:45:42</td>\n",
       "      <td>7.652</td>\n",
       "      <td>225771.0</td>\n",
       "      <td>0.8200</td>\n",
       "      <td>41</td>\n",
       "      <td>1</td>\n",
       "      <td>0</td>\n",
       "      <td>2</td>\n",
       "      <td>1</td>\n",
       "    </tr>\n",
       "    <tr>\n",
       "      <th>4</th>\n",
       "      <td>91</td>\n",
       "      <td>121205</td>\n",
       "      <td>256972</td>\n",
       "      <td>2177-05-07 03:52:00</td>\n",
       "      <td>2177-05-10 15:16:00</td>\n",
       "      <td>9.576</td>\n",
       "      <td>218528.0</td>\n",
       "      <td>0.4965</td>\n",
       "      <td>81</td>\n",
       "      <td>3</td>\n",
       "      <td>1</td>\n",
       "      <td>2</td>\n",
       "      <td>1</td>\n",
       "    </tr>\n",
       "  </tbody>\n",
       "</table>\n",
       "</div>"
      ],
      "text/plain": [
       "   subjectid  hadmid  icustayid          icu_intime         icu_outtime  \\\n",
       "0         36  122659     211200 2131-05-16 23:18:26 2131-05-23 19:56:11   \n",
       "1         41  101757     237024 2133-01-09 12:18:30 2133-01-12 15:51:03   \n",
       "2         68  170467     225771 2173-12-31 01:52:46 2173-12-31 21:33:34   \n",
       "3         68  108329     272667 2174-01-08 13:12:06 2174-01-14 22:45:42   \n",
       "4         91  121205     256972 2177-05-07 03:52:00 2177-05-10 15:16:00   \n",
       "\n",
       "   readm_days  prev_icustayid  prev_iculos  age  ethnicity  marital_status  \\\n",
       "0      11.425        280987.0       1.1096   69          3               1   \n",
       "1       2.845        261027.0       3.3937   56          3               0   \n",
       "2      11.418        294232.0       3.5368   41          1               0   \n",
       "3       7.652        225771.0       0.8200   41          1               0   \n",
       "4       9.576        218528.0       0.4965   81          3               1   \n",
       "\n",
       "   insurance  NonEnglish  \n",
       "0          2           0  \n",
       "1          3           1  \n",
       "2          2           1  \n",
       "3          2           1  \n",
       "4          2           1  "
      ]
     },
     "execution_count": 18,
     "metadata": {},
     "output_type": "execute_result"
    }
   ],
   "source": [
    "q_lang = \"\"\"SELECT DISTINCT ON (subject_id, hadm_id) subject_id, \n",
    "hadm_id, language \n",
    "FROM admissions;\"\"\"\n",
    "\n",
    "lang = exec_query(q_lang) # query output\n",
    "df_noneng = pd.DataFrame(lang, \n",
    "                          columns=['subjectid', 'hadmid', 'NonEnglish'])\n",
    "\n",
    "df_readm6 = pd.merge(df_readm5, df_noneng, on=['subjectid', 'hadmid'], how='left')\n",
    "df_readm6['NonEnglish'] = df_readm6['NonEnglish'].apply(lambda x: 0 if x == 'ENGL' else 1) # binary labels for Non-English speakers\n",
    "\n",
    "print df_readm6.shape\n",
    "df_readm6.head()"
   ]
  },
  {
   "cell_type": "markdown",
   "metadata": {},
   "source": [
    "### N<sub>icutrav</sub>\n",
    "The number of total *ICU* ward transfers for each patient's unique ICU stay. The value indicates the number of (non-unique) intra-ICU ward transfers."
   ]
  },
  {
   "cell_type": "code",
   "execution_count": 19,
   "metadata": {
    "collapsed": false,
    "scrolled": true
   },
   "outputs": [
    {
     "name": "stdout",
     "output_type": "stream",
     "text": [
      "(6161, 14)\n"
     ]
    },
    {
     "data": {
      "text/html": [
       "<div>\n",
       "<table border=\"1\" class=\"dataframe\">\n",
       "  <thead>\n",
       "    <tr style=\"text-align: right;\">\n",
       "      <th></th>\n",
       "      <th>subjectid</th>\n",
       "      <th>hadmid</th>\n",
       "      <th>icustayid</th>\n",
       "      <th>icu_intime</th>\n",
       "      <th>icu_outtime</th>\n",
       "      <th>readm_days</th>\n",
       "      <th>prev_icustayid</th>\n",
       "      <th>prev_iculos</th>\n",
       "      <th>age</th>\n",
       "      <th>ethnicity</th>\n",
       "      <th>marital_status</th>\n",
       "      <th>insurance</th>\n",
       "      <th>NonEnglish</th>\n",
       "      <th>n_icutrav</th>\n",
       "    </tr>\n",
       "  </thead>\n",
       "  <tbody>\n",
       "    <tr>\n",
       "      <th>0</th>\n",
       "      <td>36</td>\n",
       "      <td>122659</td>\n",
       "      <td>211200</td>\n",
       "      <td>2131-05-16 23:18:26</td>\n",
       "      <td>2131-05-23 19:56:11</td>\n",
       "      <td>11.425</td>\n",
       "      <td>280987.0</td>\n",
       "      <td>1.1096</td>\n",
       "      <td>69</td>\n",
       "      <td>3</td>\n",
       "      <td>1</td>\n",
       "      <td>2</td>\n",
       "      <td>0</td>\n",
       "      <td>3</td>\n",
       "    </tr>\n",
       "    <tr>\n",
       "      <th>1</th>\n",
       "      <td>41</td>\n",
       "      <td>101757</td>\n",
       "      <td>237024</td>\n",
       "      <td>2133-01-09 12:18:30</td>\n",
       "      <td>2133-01-12 15:51:03</td>\n",
       "      <td>2.845</td>\n",
       "      <td>261027.0</td>\n",
       "      <td>3.3937</td>\n",
       "      <td>56</td>\n",
       "      <td>3</td>\n",
       "      <td>0</td>\n",
       "      <td>3</td>\n",
       "      <td>1</td>\n",
       "      <td>1</td>\n",
       "    </tr>\n",
       "    <tr>\n",
       "      <th>2</th>\n",
       "      <td>68</td>\n",
       "      <td>170467</td>\n",
       "      <td>225771</td>\n",
       "      <td>2173-12-31 01:52:46</td>\n",
       "      <td>2173-12-31 21:33:34</td>\n",
       "      <td>11.418</td>\n",
       "      <td>294232.0</td>\n",
       "      <td>3.5368</td>\n",
       "      <td>41</td>\n",
       "      <td>1</td>\n",
       "      <td>0</td>\n",
       "      <td>2</td>\n",
       "      <td>1</td>\n",
       "      <td>1</td>\n",
       "    </tr>\n",
       "    <tr>\n",
       "      <th>3</th>\n",
       "      <td>68</td>\n",
       "      <td>108329</td>\n",
       "      <td>272667</td>\n",
       "      <td>2174-01-08 13:12:06</td>\n",
       "      <td>2174-01-14 22:45:42</td>\n",
       "      <td>7.652</td>\n",
       "      <td>225771.0</td>\n",
       "      <td>0.8200</td>\n",
       "      <td>41</td>\n",
       "      <td>1</td>\n",
       "      <td>0</td>\n",
       "      <td>2</td>\n",
       "      <td>1</td>\n",
       "      <td>1</td>\n",
       "    </tr>\n",
       "    <tr>\n",
       "      <th>4</th>\n",
       "      <td>91</td>\n",
       "      <td>121205</td>\n",
       "      <td>256972</td>\n",
       "      <td>2177-05-07 03:52:00</td>\n",
       "      <td>2177-05-10 15:16:00</td>\n",
       "      <td>9.576</td>\n",
       "      <td>218528.0</td>\n",
       "      <td>0.4965</td>\n",
       "      <td>81</td>\n",
       "      <td>3</td>\n",
       "      <td>1</td>\n",
       "      <td>2</td>\n",
       "      <td>1</td>\n",
       "      <td>1</td>\n",
       "    </tr>\n",
       "  </tbody>\n",
       "</table>\n",
       "</div>"
      ],
      "text/plain": [
       "   subjectid  hadmid  icustayid          icu_intime         icu_outtime  \\\n",
       "0         36  122659     211200 2131-05-16 23:18:26 2131-05-23 19:56:11   \n",
       "1         41  101757     237024 2133-01-09 12:18:30 2133-01-12 15:51:03   \n",
       "2         68  170467     225771 2173-12-31 01:52:46 2173-12-31 21:33:34   \n",
       "3         68  108329     272667 2174-01-08 13:12:06 2174-01-14 22:45:42   \n",
       "4         91  121205     256972 2177-05-07 03:52:00 2177-05-10 15:16:00   \n",
       "\n",
       "   readm_days  prev_icustayid  prev_iculos  age  ethnicity  marital_status  \\\n",
       "0      11.425        280987.0       1.1096   69          3               1   \n",
       "1       2.845        261027.0       3.3937   56          3               0   \n",
       "2      11.418        294232.0       3.5368   41          1               0   \n",
       "3       7.652        225771.0       0.8200   41          1               0   \n",
       "4       9.576        218528.0       0.4965   81          3               1   \n",
       "\n",
       "   insurance  NonEnglish  n_icutrav  \n",
       "0          2           0          3  \n",
       "1          3           1          1  \n",
       "2          2           1          1  \n",
       "3          2           1          1  \n",
       "4          2           1          1  "
      ]
     },
     "execution_count": 19,
     "metadata": {},
     "output_type": "execute_result"
    }
   ],
   "source": [
    "q_multtrav = \"\"\"SELECT icustay_id, COUNT(*)\n",
    "FROM transfers\n",
    "WHERE icustay_id IS NOT NULL\n",
    "GROUP BY icustay_id\"\"\"\n",
    "\n",
    "mult_trav = exec_query(q_multtrav)\n",
    "df_multtrav = pd.DataFrame(mult_trav, columns=['icustayid', 'n_icutrav'])\n",
    "\n",
    "df_readm7 = pd.merge(df_readm6, df_multtrav, on='icustayid', how='left')\n",
    "\n",
    "print df_readm7.shape\n",
    "df_readm7.head()"
   ]
  },
  {
   "cell_type": "markdown",
   "metadata": {},
   "source": [
    "### Current Care Unit\n",
    "Type of ICU admitted/transferred into.\n",
    "\n",
    "**`prev_cu`**: categorical feature indicating previous care unit  \n",
    "**`curr_cu`**: categorical feature indicating current care unit  \n",
    "**`prev_ICU`**: binary feature indicating previous ICU  \n",
    "\n",
    "Legend:\n",
    "  * nonICU : 0\n",
    "  * MICU : 1\n",
    "  * CSRU : 2\n",
    "  * SICU : 3\n",
    "  * CCU : 4 \n",
    "  * TSICU : 5\n",
    "  * NICU :6 \n",
    "  * NWARD :7"
   ]
  },
  {
   "cell_type": "code",
   "execution_count": 20,
   "metadata": {
    "collapsed": false,
    "scrolled": true
   },
   "outputs": [],
   "source": [
    "def binary_cu(careunit):\n",
    "    \"\"\"Helper function binarizing ward of patient stay - whether the ward was a critical care unit or not.\n",
    "    \n",
    "    :param careunit: integer indicating care unit\n",
    "    :return: binary value (integer)\n",
    "    \"\"\"\n",
    "    if careunit > 0 and careunit < 7:\n",
    "        x = 1\n",
    "    else:\n",
    "        x = 0\n",
    "    return x"
   ]
  },
  {
   "cell_type": "code",
   "execution_count": 21,
   "metadata": {
    "collapsed": false,
    "scrolled": true
   },
   "outputs": [
    {
     "name": "stdout",
     "output_type": "stream",
     "text": [
      "(6161, 17)\n"
     ]
    },
    {
     "data": {
      "text/html": [
       "<div>\n",
       "<table border=\"1\" class=\"dataframe\">\n",
       "  <thead>\n",
       "    <tr style=\"text-align: right;\">\n",
       "      <th></th>\n",
       "      <th>subjectid</th>\n",
       "      <th>hadmid</th>\n",
       "      <th>icustayid</th>\n",
       "      <th>icu_intime</th>\n",
       "      <th>icu_outtime</th>\n",
       "      <th>readm_days</th>\n",
       "      <th>prev_icustayid</th>\n",
       "      <th>prev_iculos</th>\n",
       "      <th>age</th>\n",
       "      <th>ethnicity</th>\n",
       "      <th>marital_status</th>\n",
       "      <th>insurance</th>\n",
       "      <th>NonEnglish</th>\n",
       "      <th>n_icutrav</th>\n",
       "      <th>curr_cu</th>\n",
       "      <th>prev_cu</th>\n",
       "      <th>prev_ICU</th>\n",
       "    </tr>\n",
       "  </thead>\n",
       "  <tbody>\n",
       "    <tr>\n",
       "      <th>0</th>\n",
       "      <td>36</td>\n",
       "      <td>122659</td>\n",
       "      <td>211200</td>\n",
       "      <td>2131-05-16 23:18:26</td>\n",
       "      <td>2131-05-23 19:56:11</td>\n",
       "      <td>11.425</td>\n",
       "      <td>280987.0</td>\n",
       "      <td>1.1096</td>\n",
       "      <td>69</td>\n",
       "      <td>3</td>\n",
       "      <td>1</td>\n",
       "      <td>2</td>\n",
       "      <td>0</td>\n",
       "      <td>3</td>\n",
       "      <td>2</td>\n",
       "      <td>0</td>\n",
       "      <td>0</td>\n",
       "    </tr>\n",
       "    <tr>\n",
       "      <th>1</th>\n",
       "      <td>41</td>\n",
       "      <td>101757</td>\n",
       "      <td>237024</td>\n",
       "      <td>2133-01-09 12:18:30</td>\n",
       "      <td>2133-01-12 15:51:03</td>\n",
       "      <td>2.845</td>\n",
       "      <td>261027.0</td>\n",
       "      <td>3.3937</td>\n",
       "      <td>56</td>\n",
       "      <td>3</td>\n",
       "      <td>0</td>\n",
       "      <td>3</td>\n",
       "      <td>1</td>\n",
       "      <td>1</td>\n",
       "      <td>2</td>\n",
       "      <td>0</td>\n",
       "      <td>0</td>\n",
       "    </tr>\n",
       "    <tr>\n",
       "      <th>2</th>\n",
       "      <td>68</td>\n",
       "      <td>170467</td>\n",
       "      <td>225771</td>\n",
       "      <td>2173-12-31 01:52:46</td>\n",
       "      <td>2173-12-31 21:33:34</td>\n",
       "      <td>11.418</td>\n",
       "      <td>294232.0</td>\n",
       "      <td>3.5368</td>\n",
       "      <td>41</td>\n",
       "      <td>1</td>\n",
       "      <td>0</td>\n",
       "      <td>2</td>\n",
       "      <td>1</td>\n",
       "      <td>1</td>\n",
       "      <td>1</td>\n",
       "      <td>0</td>\n",
       "      <td>0</td>\n",
       "    </tr>\n",
       "    <tr>\n",
       "      <th>3</th>\n",
       "      <td>68</td>\n",
       "      <td>108329</td>\n",
       "      <td>272667</td>\n",
       "      <td>2174-01-08 13:12:06</td>\n",
       "      <td>2174-01-14 22:45:42</td>\n",
       "      <td>7.652</td>\n",
       "      <td>225771.0</td>\n",
       "      <td>0.8200</td>\n",
       "      <td>41</td>\n",
       "      <td>1</td>\n",
       "      <td>0</td>\n",
       "      <td>2</td>\n",
       "      <td>1</td>\n",
       "      <td>1</td>\n",
       "      <td>1</td>\n",
       "      <td>0</td>\n",
       "      <td>0</td>\n",
       "    </tr>\n",
       "    <tr>\n",
       "      <th>4</th>\n",
       "      <td>91</td>\n",
       "      <td>121205</td>\n",
       "      <td>256972</td>\n",
       "      <td>2177-05-07 03:52:00</td>\n",
       "      <td>2177-05-10 15:16:00</td>\n",
       "      <td>9.576</td>\n",
       "      <td>218528.0</td>\n",
       "      <td>0.4965</td>\n",
       "      <td>81</td>\n",
       "      <td>3</td>\n",
       "      <td>1</td>\n",
       "      <td>2</td>\n",
       "      <td>1</td>\n",
       "      <td>1</td>\n",
       "      <td>1</td>\n",
       "      <td>0</td>\n",
       "      <td>0</td>\n",
       "    </tr>\n",
       "  </tbody>\n",
       "</table>\n",
       "</div>"
      ],
      "text/plain": [
       "   subjectid  hadmid  icustayid          icu_intime         icu_outtime  \\\n",
       "0         36  122659     211200 2131-05-16 23:18:26 2131-05-23 19:56:11   \n",
       "1         41  101757     237024 2133-01-09 12:18:30 2133-01-12 15:51:03   \n",
       "2         68  170467     225771 2173-12-31 01:52:46 2173-12-31 21:33:34   \n",
       "3         68  108329     272667 2174-01-08 13:12:06 2174-01-14 22:45:42   \n",
       "4         91  121205     256972 2177-05-07 03:52:00 2177-05-10 15:16:00   \n",
       "\n",
       "   readm_days  prev_icustayid  prev_iculos  age  ethnicity  marital_status  \\\n",
       "0      11.425        280987.0       1.1096   69          3               1   \n",
       "1       2.845        261027.0       3.3937   56          3               0   \n",
       "2      11.418        294232.0       3.5368   41          1               0   \n",
       "3       7.652        225771.0       0.8200   41          1               0   \n",
       "4       9.576        218528.0       0.4965   81          3               1   \n",
       "\n",
       "   insurance  NonEnglish  n_icutrav  curr_cu  prev_cu  prev_ICU  \n",
       "0          2           0          3        2        0         0  \n",
       "1          3           1          1        2        0         0  \n",
       "2          2           1          1        1        0         0  \n",
       "3          2           1          1        1        0         0  \n",
       "4          2           1          1        1        0         0  "
      ]
     },
     "execution_count": 21,
     "metadata": {},
     "output_type": "execute_result"
    }
   ],
   "source": [
    "q_careunit = \"\"\"SELECT DISTINCT ON (icustay_id, intime) icustay_id, \n",
    "intime, curr_careunit, prev_careunit\n",
    "FROM transfers WHERE icustay_id IS NOT NULL;\"\"\"\n",
    "\n",
    "careunit = exec_query(q_careunit)\n",
    "df_careunit = pd.DataFrame(careunit, \n",
    "                           columns = ['icustayid', 'icu_intime', \n",
    "                                      'curr_cu', 'prev_cu'])\n",
    "\n",
    "df_careunit.prev_cu.replace(to_replace = \n",
    "                            {'':0, 'MICU':1, 'CSRU': 2, 'SICU': 3, 'CCU': 4, \n",
    "                             'TSICU': 5,  'NICU':6, 'NWARD':7}, inplace=True) # numerical category values\n",
    "df_careunit.curr_cu.replace(to_replace = \n",
    "                            {'':0, 'MICU':1, 'CSRU': 2, 'SICU': 3, 'CCU': 4, \n",
    "                             'TSICU': 5,  'NICU':6, 'NWARD':7}, inplace=True) # numerical category values\n",
    "\n",
    "df_careunit['prev_ICU'] = df_careunit.prev_cu.apply(binary_cu) # binary labels indicating if ward is an ICU type\n",
    "# df_careunit['curr_ICU'] = df_careunit.curr_cu.apply(binary_cu)\n",
    "\n",
    "df_readm8 = pd.merge(df_readm7, df_careunit, on=['icustayid', 'icu_intime'], how='left')\n",
    "\n",
    "print df_readm8.shape\n",
    "df_readm8.head()"
   ]
  },
  {
   "cell_type": "markdown",
   "metadata": {},
   "source": [
    "### ICU Discharge Care Unit\n",
    "Ward patient was transferred to after ICU stay.\n",
    "\n",
    "  * **`disch_cu`**: categorical feature indicating discharge unit from ICU\n",
    "  * **`disch_ICU`**: binary feature indicating ICU discharge\n",
    "\n",
    "Legend:\n",
    "  * nonICU : 0\n",
    "  * MICU : 1\n",
    "  * CSRU : 2\n",
    "  * SICU : 3\n",
    "  * CCU : 4 \n",
    "  * TSICU : 5\n",
    "  * NICU :6 \n",
    "  * NWARD :7\n",
    "  \n",
    "**Note**: Some records are missing information such as transfer from an ICU, indicating the end of the ICU stay. These `NULL` rows have been omitted."
   ]
  },
  {
   "cell_type": "code",
   "execution_count": 22,
   "metadata": {
    "collapsed": false,
    "scrolled": false
   },
   "outputs": [
    {
     "name": "stdout",
     "output_type": "stream",
     "text": [
      "(6160, 19)\n"
     ]
    },
    {
     "data": {
      "text/html": [
       "<div>\n",
       "<table border=\"1\" class=\"dataframe\">\n",
       "  <thead>\n",
       "    <tr style=\"text-align: right;\">\n",
       "      <th></th>\n",
       "      <th>subjectid</th>\n",
       "      <th>hadmid</th>\n",
       "      <th>icustayid</th>\n",
       "      <th>icu_intime</th>\n",
       "      <th>icu_outtime</th>\n",
       "      <th>readm_days</th>\n",
       "      <th>prev_icustayid</th>\n",
       "      <th>prev_iculos</th>\n",
       "      <th>age</th>\n",
       "      <th>ethnicity</th>\n",
       "      <th>marital_status</th>\n",
       "      <th>insurance</th>\n",
       "      <th>NonEnglish</th>\n",
       "      <th>n_icutrav</th>\n",
       "      <th>curr_cu</th>\n",
       "      <th>prev_cu</th>\n",
       "      <th>prev_ICU</th>\n",
       "      <th>disch_cu</th>\n",
       "      <th>disch_ICU</th>\n",
       "    </tr>\n",
       "  </thead>\n",
       "  <tbody>\n",
       "    <tr>\n",
       "      <th>0</th>\n",
       "      <td>36</td>\n",
       "      <td>122659</td>\n",
       "      <td>211200</td>\n",
       "      <td>2131-05-16 23:18:26</td>\n",
       "      <td>2131-05-23 19:56:11</td>\n",
       "      <td>11.425</td>\n",
       "      <td>280987.0</td>\n",
       "      <td>1.1096</td>\n",
       "      <td>69</td>\n",
       "      <td>3</td>\n",
       "      <td>1</td>\n",
       "      <td>2</td>\n",
       "      <td>0</td>\n",
       "      <td>3</td>\n",
       "      <td>2</td>\n",
       "      <td>0</td>\n",
       "      <td>0</td>\n",
       "      <td>0</td>\n",
       "      <td>0</td>\n",
       "    </tr>\n",
       "    <tr>\n",
       "      <th>1</th>\n",
       "      <td>41</td>\n",
       "      <td>101757</td>\n",
       "      <td>237024</td>\n",
       "      <td>2133-01-09 12:18:30</td>\n",
       "      <td>2133-01-12 15:51:03</td>\n",
       "      <td>2.845</td>\n",
       "      <td>261027.0</td>\n",
       "      <td>3.3937</td>\n",
       "      <td>56</td>\n",
       "      <td>3</td>\n",
       "      <td>0</td>\n",
       "      <td>3</td>\n",
       "      <td>1</td>\n",
       "      <td>1</td>\n",
       "      <td>2</td>\n",
       "      <td>0</td>\n",
       "      <td>0</td>\n",
       "      <td>0</td>\n",
       "      <td>0</td>\n",
       "    </tr>\n",
       "    <tr>\n",
       "      <th>2</th>\n",
       "      <td>68</td>\n",
       "      <td>170467</td>\n",
       "      <td>225771</td>\n",
       "      <td>2173-12-31 01:52:46</td>\n",
       "      <td>2173-12-31 21:33:34</td>\n",
       "      <td>11.418</td>\n",
       "      <td>294232.0</td>\n",
       "      <td>3.5368</td>\n",
       "      <td>41</td>\n",
       "      <td>1</td>\n",
       "      <td>0</td>\n",
       "      <td>2</td>\n",
       "      <td>1</td>\n",
       "      <td>1</td>\n",
       "      <td>1</td>\n",
       "      <td>0</td>\n",
       "      <td>0</td>\n",
       "      <td>0</td>\n",
       "      <td>0</td>\n",
       "    </tr>\n",
       "    <tr>\n",
       "      <th>3</th>\n",
       "      <td>68</td>\n",
       "      <td>108329</td>\n",
       "      <td>272667</td>\n",
       "      <td>2174-01-08 13:12:06</td>\n",
       "      <td>2174-01-14 22:45:42</td>\n",
       "      <td>7.652</td>\n",
       "      <td>225771.0</td>\n",
       "      <td>0.8200</td>\n",
       "      <td>41</td>\n",
       "      <td>1</td>\n",
       "      <td>0</td>\n",
       "      <td>2</td>\n",
       "      <td>1</td>\n",
       "      <td>1</td>\n",
       "      <td>1</td>\n",
       "      <td>0</td>\n",
       "      <td>0</td>\n",
       "      <td>0</td>\n",
       "      <td>0</td>\n",
       "    </tr>\n",
       "    <tr>\n",
       "      <th>4</th>\n",
       "      <td>91</td>\n",
       "      <td>121205</td>\n",
       "      <td>256972</td>\n",
       "      <td>2177-05-07 03:52:00</td>\n",
       "      <td>2177-05-10 15:16:00</td>\n",
       "      <td>9.576</td>\n",
       "      <td>218528.0</td>\n",
       "      <td>0.4965</td>\n",
       "      <td>81</td>\n",
       "      <td>3</td>\n",
       "      <td>1</td>\n",
       "      <td>2</td>\n",
       "      <td>1</td>\n",
       "      <td>1</td>\n",
       "      <td>1</td>\n",
       "      <td>0</td>\n",
       "      <td>0</td>\n",
       "      <td>0</td>\n",
       "      <td>0</td>\n",
       "    </tr>\n",
       "  </tbody>\n",
       "</table>\n",
       "</div>"
      ],
      "text/plain": [
       "   subjectid  hadmid  icustayid          icu_intime         icu_outtime  \\\n",
       "0         36  122659     211200 2131-05-16 23:18:26 2131-05-23 19:56:11   \n",
       "1         41  101757     237024 2133-01-09 12:18:30 2133-01-12 15:51:03   \n",
       "2         68  170467     225771 2173-12-31 01:52:46 2173-12-31 21:33:34   \n",
       "3         68  108329     272667 2174-01-08 13:12:06 2174-01-14 22:45:42   \n",
       "4         91  121205     256972 2177-05-07 03:52:00 2177-05-10 15:16:00   \n",
       "\n",
       "   readm_days  prev_icustayid  prev_iculos  age  ethnicity  marital_status  \\\n",
       "0      11.425        280987.0       1.1096   69          3               1   \n",
       "1       2.845        261027.0       3.3937   56          3               0   \n",
       "2      11.418        294232.0       3.5368   41          1               0   \n",
       "3       7.652        225771.0       0.8200   41          1               0   \n",
       "4       9.576        218528.0       0.4965   81          3               1   \n",
       "\n",
       "   insurance  NonEnglish  n_icutrav  curr_cu  prev_cu  prev_ICU  disch_cu  \\\n",
       "0          2           0          3        2        0         0         0   \n",
       "1          3           1          1        2        0         0         0   \n",
       "2          2           1          1        1        0         0         0   \n",
       "3          2           1          1        1        0         0         0   \n",
       "4          2           1          1        1        0         0         0   \n",
       "\n",
       "   disch_ICU  \n",
       "0          0  \n",
       "1          0  \n",
       "2          0  \n",
       "3          0  \n",
       "4          0  "
      ]
     },
     "execution_count": 22,
     "metadata": {},
     "output_type": "execute_result"
    }
   ],
   "source": [
    "q_disch = \"\"\"SELECT DISTINCT ON (t1.outtime) t1.subject_id, t1.icustay_id, t2.curr_careunit, t1.outtime \n",
    "FROM\n",
    "  (SELECT * FROM transfers WHERE curr_careunit LIKE '%U') as t1\n",
    "INNER JOIN\n",
    "  (SELECT * FROM transfers WHERE prev_careunit != '') as t2\n",
    "ON t1.outtime = t2.intime\"\"\"\n",
    "\n",
    "disch_unit = exec_query(q_disch)\n",
    "df_disch = pd.DataFrame(disch_unit, \n",
    "                        columns=['subjectid', 'icustayid', 'disch_cu', 'icu_outtime'])\n",
    "df_disch['disch_cu'].replace(to_replace = \n",
    "                            {'':0, 'MICU':1, 'CSRU': 2, 'SICU': 3, 'CCU': 4, \n",
    "                             'TSICU': 5,  'NICU':6, 'NWARD':7}, inplace=True) # numerical category values\n",
    "\n",
    "df_disch['disch_ICU'] = df_disch.disch_cu.apply(binary_cu) # binary labels for whether previous ward was of ICU type\n",
    "\n",
    "df_readm9 = pd.merge(df_readm8, df_disch[['icustayid', 'disch_cu', 'icu_outtime', 'disch_ICU']], \n",
    "                       on=['icustayid', 'icu_outtime'], how='inner')\n",
    "print df_readm9.shape\n",
    "df_readm9.head()"
   ]
  },
  {
   "cell_type": "markdown",
   "metadata": {},
   "source": [
    "### ICU Time (Day/Night)\n",
    "Time of ICU \"admission\" and \"discharge\" (day or night)\n",
    "\n",
    "Features\n",
    "  * **`icu_in_day`**: Time of ICU admission\n",
    "  * **`icu_out_day`**: Time of ICU discharge\n",
    "\n",
    "Legend:\n",
    "  * **`0`**: night\n",
    "  * **`1`**: day"
   ]
  },
  {
   "cell_type": "code",
   "execution_count": 23,
   "metadata": {
    "collapsed": false,
    "scrolled": true
   },
   "outputs": [],
   "source": [
    "def day_night(datetime):\n",
    "    \"\"\"Helper function creating binary labels indicating if time was during the day or night\n",
    "    \n",
    "    Day (1): 6am-6pm\n",
    "    Night(2): 6:01pm-5:59am\n",
    "    \n",
    "    :param: datetime64 indicating time\n",
    "    :return: binary label (integer)\n",
    "    \"\"\"\n",
    "    hour = np.timedelta64(np.datetime64(datetime, 'h') - (np.datetime64(datetime, 'D')), 'h')\n",
    "    if hour.astype(np.int64) >=6 and hour.astype(np.int64) <=18:\n",
    "        time = 1 # day\n",
    "    else:\n",
    "        time = 0 # night\n",
    "    return time"
   ]
  },
  {
   "cell_type": "code",
   "execution_count": 24,
   "metadata": {
    "collapsed": false,
    "scrolled": true
   },
   "outputs": [
    {
     "name": "stdout",
     "output_type": "stream",
     "text": [
      "(6160, 21)\n"
     ]
    },
    {
     "data": {
      "text/html": [
       "<div>\n",
       "<table border=\"1\" class=\"dataframe\">\n",
       "  <thead>\n",
       "    <tr style=\"text-align: right;\">\n",
       "      <th></th>\n",
       "      <th>subjectid</th>\n",
       "      <th>hadmid</th>\n",
       "      <th>icustayid</th>\n",
       "      <th>icu_intime</th>\n",
       "      <th>icu_outtime</th>\n",
       "      <th>readm_days</th>\n",
       "      <th>prev_icustayid</th>\n",
       "      <th>prev_iculos</th>\n",
       "      <th>age</th>\n",
       "      <th>ethnicity</th>\n",
       "      <th>...</th>\n",
       "      <th>insurance</th>\n",
       "      <th>NonEnglish</th>\n",
       "      <th>n_icutrav</th>\n",
       "      <th>curr_cu</th>\n",
       "      <th>prev_cu</th>\n",
       "      <th>prev_ICU</th>\n",
       "      <th>disch_cu</th>\n",
       "      <th>disch_ICU</th>\n",
       "      <th>icu_in_day</th>\n",
       "      <th>icu_out_day</th>\n",
       "    </tr>\n",
       "  </thead>\n",
       "  <tbody>\n",
       "    <tr>\n",
       "      <th>0</th>\n",
       "      <td>36</td>\n",
       "      <td>122659</td>\n",
       "      <td>211200</td>\n",
       "      <td>2131-05-16 23:18:26</td>\n",
       "      <td>2131-05-23 19:56:11</td>\n",
       "      <td>11.425</td>\n",
       "      <td>280987.0</td>\n",
       "      <td>1.1096</td>\n",
       "      <td>69</td>\n",
       "      <td>3</td>\n",
       "      <td>...</td>\n",
       "      <td>2</td>\n",
       "      <td>0</td>\n",
       "      <td>3</td>\n",
       "      <td>2</td>\n",
       "      <td>0</td>\n",
       "      <td>0</td>\n",
       "      <td>0</td>\n",
       "      <td>0</td>\n",
       "      <td>0</td>\n",
       "      <td>0</td>\n",
       "    </tr>\n",
       "    <tr>\n",
       "      <th>1</th>\n",
       "      <td>41</td>\n",
       "      <td>101757</td>\n",
       "      <td>237024</td>\n",
       "      <td>2133-01-09 12:18:30</td>\n",
       "      <td>2133-01-12 15:51:03</td>\n",
       "      <td>2.845</td>\n",
       "      <td>261027.0</td>\n",
       "      <td>3.3937</td>\n",
       "      <td>56</td>\n",
       "      <td>3</td>\n",
       "      <td>...</td>\n",
       "      <td>3</td>\n",
       "      <td>1</td>\n",
       "      <td>1</td>\n",
       "      <td>2</td>\n",
       "      <td>0</td>\n",
       "      <td>0</td>\n",
       "      <td>0</td>\n",
       "      <td>0</td>\n",
       "      <td>1</td>\n",
       "      <td>1</td>\n",
       "    </tr>\n",
       "    <tr>\n",
       "      <th>2</th>\n",
       "      <td>68</td>\n",
       "      <td>170467</td>\n",
       "      <td>225771</td>\n",
       "      <td>2173-12-31 01:52:46</td>\n",
       "      <td>2173-12-31 21:33:34</td>\n",
       "      <td>11.418</td>\n",
       "      <td>294232.0</td>\n",
       "      <td>3.5368</td>\n",
       "      <td>41</td>\n",
       "      <td>1</td>\n",
       "      <td>...</td>\n",
       "      <td>2</td>\n",
       "      <td>1</td>\n",
       "      <td>1</td>\n",
       "      <td>1</td>\n",
       "      <td>0</td>\n",
       "      <td>0</td>\n",
       "      <td>0</td>\n",
       "      <td>0</td>\n",
       "      <td>0</td>\n",
       "      <td>0</td>\n",
       "    </tr>\n",
       "    <tr>\n",
       "      <th>3</th>\n",
       "      <td>68</td>\n",
       "      <td>108329</td>\n",
       "      <td>272667</td>\n",
       "      <td>2174-01-08 13:12:06</td>\n",
       "      <td>2174-01-14 22:45:42</td>\n",
       "      <td>7.652</td>\n",
       "      <td>225771.0</td>\n",
       "      <td>0.8200</td>\n",
       "      <td>41</td>\n",
       "      <td>1</td>\n",
       "      <td>...</td>\n",
       "      <td>2</td>\n",
       "      <td>1</td>\n",
       "      <td>1</td>\n",
       "      <td>1</td>\n",
       "      <td>0</td>\n",
       "      <td>0</td>\n",
       "      <td>0</td>\n",
       "      <td>0</td>\n",
       "      <td>1</td>\n",
       "      <td>0</td>\n",
       "    </tr>\n",
       "    <tr>\n",
       "      <th>4</th>\n",
       "      <td>91</td>\n",
       "      <td>121205</td>\n",
       "      <td>256972</td>\n",
       "      <td>2177-05-07 03:52:00</td>\n",
       "      <td>2177-05-10 15:16:00</td>\n",
       "      <td>9.576</td>\n",
       "      <td>218528.0</td>\n",
       "      <td>0.4965</td>\n",
       "      <td>81</td>\n",
       "      <td>3</td>\n",
       "      <td>...</td>\n",
       "      <td>2</td>\n",
       "      <td>1</td>\n",
       "      <td>1</td>\n",
       "      <td>1</td>\n",
       "      <td>0</td>\n",
       "      <td>0</td>\n",
       "      <td>0</td>\n",
       "      <td>0</td>\n",
       "      <td>0</td>\n",
       "      <td>1</td>\n",
       "    </tr>\n",
       "  </tbody>\n",
       "</table>\n",
       "<p>5 rows × 21 columns</p>\n",
       "</div>"
      ],
      "text/plain": [
       "   subjectid  hadmid  icustayid          icu_intime         icu_outtime  \\\n",
       "0         36  122659     211200 2131-05-16 23:18:26 2131-05-23 19:56:11   \n",
       "1         41  101757     237024 2133-01-09 12:18:30 2133-01-12 15:51:03   \n",
       "2         68  170467     225771 2173-12-31 01:52:46 2173-12-31 21:33:34   \n",
       "3         68  108329     272667 2174-01-08 13:12:06 2174-01-14 22:45:42   \n",
       "4         91  121205     256972 2177-05-07 03:52:00 2177-05-10 15:16:00   \n",
       "\n",
       "   readm_days  prev_icustayid  prev_iculos  age  ethnicity     ...       \\\n",
       "0      11.425        280987.0       1.1096   69          3     ...        \n",
       "1       2.845        261027.0       3.3937   56          3     ...        \n",
       "2      11.418        294232.0       3.5368   41          1     ...        \n",
       "3       7.652        225771.0       0.8200   41          1     ...        \n",
       "4       9.576        218528.0       0.4965   81          3     ...        \n",
       "\n",
       "   insurance  NonEnglish  n_icutrav  curr_cu  prev_cu  prev_ICU  disch_cu  \\\n",
       "0          2           0          3        2        0         0         0   \n",
       "1          3           1          1        2        0         0         0   \n",
       "2          2           1          1        1        0         0         0   \n",
       "3          2           1          1        1        0         0         0   \n",
       "4          2           1          1        1        0         0         0   \n",
       "\n",
       "   disch_ICU  icu_in_day  icu_out_day  \n",
       "0          0           0            0  \n",
       "1          0           1            1  \n",
       "2          0           0            0  \n",
       "3          0           1            0  \n",
       "4          0           0            1  \n",
       "\n",
       "[5 rows x 21 columns]"
      ]
     },
     "execution_count": 24,
     "metadata": {},
     "output_type": "execute_result"
    }
   ],
   "source": [
    "df_readm9['icu_in_day'] = df_readm9['icu_intime'].apply(day_night)\n",
    "df_readm9['icu_out_day'] = df_readm9['icu_outtime'].apply(day_night)\n",
    "print df_readm9.shape\n",
    "df_readm9.head()"
   ]
  },
  {
   "cell_type": "markdown",
   "metadata": {},
   "source": [
    "### ICU Readmission\n",
    "Risk Scores based on ICU readmissions (*multiple unique ICU admissions within the specified interval*).\n",
    "\n",
    "**`Risk Score = N`<sub>ICU readmission</sub> ` = N`<sub>Total ICU admissions</sub>` - 1`**  \n",
    "The value of the risk score indicates the count/frequency of readmission for the given ICU stay.\n",
    " * `0`: indicates first ICU stay during the interval\n",
    " * `2`: indicates 3 total ICU stays and 2 ICU readmissions during the interval "
   ]
  },
  {
   "cell_type": "code",
   "execution_count": 25,
   "metadata": {
    "collapsed": true,
    "scrolled": true
   },
   "outputs": [],
   "source": [
    "d_risk = dict()\n",
    "for i, row in df_readm4.iterrows():\n",
    "    if d_risk.has_key(row.subjectid): # accumulate count of ICU readmissions\n",
    "        d_risk[row.subjectid]['count'] += 1\n",
    "        d_risk[row.subjectid][row.icustayid] = d_risk[row.subjectid]['count'] \n",
    "\n",
    "    else: # first instance of ICU stay\n",
    "        d_icu = {'count': 0}\n",
    "        d_icu[row.icustayid] = d_icu['count']\n",
    "        d_risk[row.subjectid] = d_icu\n",
    "        \n",
    "        \n",
    "df_readm9['readm_risk'] = df_readm9.subjectid.astype(str)+'-'+df_readm9.astype(str).icustayid"
   ]
  },
  {
   "cell_type": "code",
   "execution_count": 26,
   "metadata": {
    "collapsed": true,
    "scrolled": true
   },
   "outputs": [],
   "source": [
    "def intra_interval(stay):\n",
    "    \"\"\"Helper function calculating the risk score of the patient based on the frequency of their ICU readmissions.\n",
    "    \n",
    "    :param stay: string of ID for subject and stay\n",
    "    :return: risk score\n",
    "    \"\"\"\n",
    "    risk_score = str.split(stay, '-')\n",
    "    sid = int(risk_score[0])\n",
    "    stayid = int(risk_score[1])\n",
    "    \n",
    "    return d_risk[sid][stayid]    "
   ]
  },
  {
   "cell_type": "code",
   "execution_count": 27,
   "metadata": {
    "collapsed": false,
    "scrolled": true
   },
   "outputs": [
    {
     "name": "stdout",
     "output_type": "stream",
     "text": [
      "(6160, 22)\n"
     ]
    },
    {
     "data": {
      "text/html": [
       "<div>\n",
       "<table border=\"1\" class=\"dataframe\">\n",
       "  <thead>\n",
       "    <tr style=\"text-align: right;\">\n",
       "      <th></th>\n",
       "      <th>subjectid</th>\n",
       "      <th>hadmid</th>\n",
       "      <th>icustayid</th>\n",
       "      <th>icu_intime</th>\n",
       "      <th>icu_outtime</th>\n",
       "      <th>readm_days</th>\n",
       "      <th>prev_icustayid</th>\n",
       "      <th>prev_iculos</th>\n",
       "      <th>age</th>\n",
       "      <th>ethnicity</th>\n",
       "      <th>...</th>\n",
       "      <th>NonEnglish</th>\n",
       "      <th>n_icutrav</th>\n",
       "      <th>curr_cu</th>\n",
       "      <th>prev_cu</th>\n",
       "      <th>prev_ICU</th>\n",
       "      <th>disch_cu</th>\n",
       "      <th>disch_ICU</th>\n",
       "      <th>icu_in_day</th>\n",
       "      <th>icu_out_day</th>\n",
       "      <th>readm_risk</th>\n",
       "    </tr>\n",
       "  </thead>\n",
       "  <tbody>\n",
       "    <tr>\n",
       "      <th>0</th>\n",
       "      <td>36</td>\n",
       "      <td>122659</td>\n",
       "      <td>211200</td>\n",
       "      <td>2131-05-16 23:18:26</td>\n",
       "      <td>2131-05-23 19:56:11</td>\n",
       "      <td>11.425</td>\n",
       "      <td>280987.0</td>\n",
       "      <td>1.1096</td>\n",
       "      <td>69</td>\n",
       "      <td>3</td>\n",
       "      <td>...</td>\n",
       "      <td>0</td>\n",
       "      <td>3</td>\n",
       "      <td>2</td>\n",
       "      <td>0</td>\n",
       "      <td>0</td>\n",
       "      <td>0</td>\n",
       "      <td>0</td>\n",
       "      <td>0</td>\n",
       "      <td>0</td>\n",
       "      <td>0</td>\n",
       "    </tr>\n",
       "    <tr>\n",
       "      <th>1</th>\n",
       "      <td>41</td>\n",
       "      <td>101757</td>\n",
       "      <td>237024</td>\n",
       "      <td>2133-01-09 12:18:30</td>\n",
       "      <td>2133-01-12 15:51:03</td>\n",
       "      <td>2.845</td>\n",
       "      <td>261027.0</td>\n",
       "      <td>3.3937</td>\n",
       "      <td>56</td>\n",
       "      <td>3</td>\n",
       "      <td>...</td>\n",
       "      <td>1</td>\n",
       "      <td>1</td>\n",
       "      <td>2</td>\n",
       "      <td>0</td>\n",
       "      <td>0</td>\n",
       "      <td>0</td>\n",
       "      <td>0</td>\n",
       "      <td>1</td>\n",
       "      <td>1</td>\n",
       "      <td>0</td>\n",
       "    </tr>\n",
       "    <tr>\n",
       "      <th>2</th>\n",
       "      <td>68</td>\n",
       "      <td>170467</td>\n",
       "      <td>225771</td>\n",
       "      <td>2173-12-31 01:52:46</td>\n",
       "      <td>2173-12-31 21:33:34</td>\n",
       "      <td>11.418</td>\n",
       "      <td>294232.0</td>\n",
       "      <td>3.5368</td>\n",
       "      <td>41</td>\n",
       "      <td>1</td>\n",
       "      <td>...</td>\n",
       "      <td>1</td>\n",
       "      <td>1</td>\n",
       "      <td>1</td>\n",
       "      <td>0</td>\n",
       "      <td>0</td>\n",
       "      <td>0</td>\n",
       "      <td>0</td>\n",
       "      <td>0</td>\n",
       "      <td>0</td>\n",
       "      <td>0</td>\n",
       "    </tr>\n",
       "    <tr>\n",
       "      <th>3</th>\n",
       "      <td>68</td>\n",
       "      <td>108329</td>\n",
       "      <td>272667</td>\n",
       "      <td>2174-01-08 13:12:06</td>\n",
       "      <td>2174-01-14 22:45:42</td>\n",
       "      <td>7.652</td>\n",
       "      <td>225771.0</td>\n",
       "      <td>0.8200</td>\n",
       "      <td>41</td>\n",
       "      <td>1</td>\n",
       "      <td>...</td>\n",
       "      <td>1</td>\n",
       "      <td>1</td>\n",
       "      <td>1</td>\n",
       "      <td>0</td>\n",
       "      <td>0</td>\n",
       "      <td>0</td>\n",
       "      <td>0</td>\n",
       "      <td>1</td>\n",
       "      <td>0</td>\n",
       "      <td>1</td>\n",
       "    </tr>\n",
       "    <tr>\n",
       "      <th>4</th>\n",
       "      <td>91</td>\n",
       "      <td>121205</td>\n",
       "      <td>256972</td>\n",
       "      <td>2177-05-07 03:52:00</td>\n",
       "      <td>2177-05-10 15:16:00</td>\n",
       "      <td>9.576</td>\n",
       "      <td>218528.0</td>\n",
       "      <td>0.4965</td>\n",
       "      <td>81</td>\n",
       "      <td>3</td>\n",
       "      <td>...</td>\n",
       "      <td>1</td>\n",
       "      <td>1</td>\n",
       "      <td>1</td>\n",
       "      <td>0</td>\n",
       "      <td>0</td>\n",
       "      <td>0</td>\n",
       "      <td>0</td>\n",
       "      <td>0</td>\n",
       "      <td>1</td>\n",
       "      <td>0</td>\n",
       "    </tr>\n",
       "  </tbody>\n",
       "</table>\n",
       "<p>5 rows × 22 columns</p>\n",
       "</div>"
      ],
      "text/plain": [
       "   subjectid  hadmid  icustayid          icu_intime         icu_outtime  \\\n",
       "0         36  122659     211200 2131-05-16 23:18:26 2131-05-23 19:56:11   \n",
       "1         41  101757     237024 2133-01-09 12:18:30 2133-01-12 15:51:03   \n",
       "2         68  170467     225771 2173-12-31 01:52:46 2173-12-31 21:33:34   \n",
       "3         68  108329     272667 2174-01-08 13:12:06 2174-01-14 22:45:42   \n",
       "4         91  121205     256972 2177-05-07 03:52:00 2177-05-10 15:16:00   \n",
       "\n",
       "   readm_days  prev_icustayid  prev_iculos  age  ethnicity     ...      \\\n",
       "0      11.425        280987.0       1.1096   69          3     ...       \n",
       "1       2.845        261027.0       3.3937   56          3     ...       \n",
       "2      11.418        294232.0       3.5368   41          1     ...       \n",
       "3       7.652        225771.0       0.8200   41          1     ...       \n",
       "4       9.576        218528.0       0.4965   81          3     ...       \n",
       "\n",
       "   NonEnglish  n_icutrav  curr_cu  prev_cu  prev_ICU  disch_cu  disch_ICU  \\\n",
       "0           0          3        2        0         0         0          0   \n",
       "1           1          1        2        0         0         0          0   \n",
       "2           1          1        1        0         0         0          0   \n",
       "3           1          1        1        0         0         0          0   \n",
       "4           1          1        1        0         0         0          0   \n",
       "\n",
       "   icu_in_day  icu_out_day  readm_risk  \n",
       "0           0            0           0  \n",
       "1           1            1           0  \n",
       "2           0            0           0  \n",
       "3           1            0           1  \n",
       "4           0            1           0  \n",
       "\n",
       "[5 rows x 22 columns]"
      ]
     },
     "execution_count": 27,
     "metadata": {},
     "output_type": "execute_result"
    }
   ],
   "source": [
    "df_readm9['readm_risk'] = df_readm9['readm_risk'].apply(intra_interval)\n",
    "print df_readm9.shape\n",
    "df_readm9.head()"
   ]
  },
  {
   "cell_type": "markdown",
   "metadata": {},
   "source": [
    "### Traversal Pairs\n",
    "**Feature transformation**: The probability of the feature combination pair is used as weight and applied onto the count for each row. Only the top 10 pairs are converted to features (each pair has their own column indicating the risk score for that respective pair).\n",
    "\n",
    "**Note**: The overall hospital admission LOS may be extracted by taking the aggregate mean of the DataFrame, after it has been grouped by `subject_id`."
   ]
  },
  {
   "cell_type": "code",
   "execution_count": 28,
   "metadata": {
    "collapsed": true,
    "scrolled": true
   },
   "outputs": [],
   "source": [
    "q_trav = \"\"\"SELECT subject_id, icustay_id, eventtype,\n",
    "prev_careunit, curr_careunit\n",
    "FROM transfers\n",
    "WHERE icustay_id IS NOT NULL;\"\"\"\n",
    "\n",
    "mult_trav = exec_query(q_trav, False)\n",
    "mult_col = ['subjectid', 'icustayid', 'eventtype', 'prev_cu', 'curr_cu']\n",
    "df_trav = pd.DataFrame(mult_trav, columns = mult_col)\n",
    "df_trav.replace(to_replace='', value=np.nan, inplace=True, regex=True)\n",
    "\n",
    "# Exclude Neonate ICU\n",
    "df_trav = df_trav[df_trav.prev_cu != 'NICU']\n",
    "df_trav = df_trav[df_trav.prev_cu != 'NWARD']\n",
    "df_trav = df_trav[df_trav.curr_cu != 'NICU']\n",
    "df_trav = df_trav[df_trav.curr_cu != 'NWARD']\n",
    "\n",
    "# Fill in NULL values - Non-ICU wards\n",
    "df_trav.prev_cu.fillna('nonicu', inplace=True)\n",
    "df_trav.curr_cu.fillna('nonicu', inplace=True)\n",
    "\n",
    "df_trav['trans'] = df_trav.prev_cu+'-'+df_trav.curr_cu # traversal/transfer pair string\n",
    "\n",
    "# Filter for Patients with ICU readmission\n",
    "q_icupat=\"\"\"SELECT * FROM\n",
    "    (SELECT subject_id, COUNT(icustay_id) AS n_icustays\n",
    "    FROM icustays\n",
    "    GROUP BY subject_id) AS sub_q\n",
    "WHERE n_icustays > 1;\"\"\"\n",
    "\n",
    "icupat = exec_query(q_icupat)\n",
    "df_icupat = pd.DataFrame(icupat, columns=['subjectid', 'n_icustays'])\n",
    "\n",
    "# filter for ICU patients with readmissions\n",
    "filter_preadm = list(df_icupat.subjectid) # list of patients with multiple ICU readmissions\n",
    "df_trav = df_trav[df_trav.subjectid.isin(filter_preadm)]"
   ]
  },
  {
   "cell_type": "code",
   "execution_count": 29,
   "metadata": {
    "collapsed": true,
    "scrolled": true
   },
   "outputs": [],
   "source": [
    "from collections import Counter\n",
    "\n",
    "icuid = list(df_trav.icustayid.value_counts().index) # unique subject_id\n",
    "\n",
    "main_d = dict()\n",
    "for stay in icuid:\n",
    "    pair_d = dict(Counter(df_trav[df_trav.icustayid==stay].trans))\n",
    "    pair_d['icustayid'] = stay # add subjectid key\n",
    "    main_d[stay] = pair_d"
   ]
  },
  {
   "cell_type": "markdown",
   "metadata": {},
   "source": [
    "#### Count of Traversal Pair"
   ]
  },
  {
   "cell_type": "code",
   "execution_count": 30,
   "metadata": {
    "collapsed": true,
    "scrolled": true
   },
   "outputs": [],
   "source": [
    "# Top 10 Pairs\n",
    "df_toppairs = df_trav.trans.value_counts(ascending=False).to_frame()\n",
    "df_top = df_toppairs.transpose().iloc[:,0:11]\n",
    "\n",
    "df_pairct = pd.DataFrame.from_dict(main_d, orient='index')\n",
    "\n",
    "# drop non-top trans pair cols\n",
    "pairs_drop = list(df_toppairs.iloc[10:].index)\n",
    "df_pairct.drop(pairs_drop, axis=1, inplace=True) \n",
    "\n",
    "df_readm10 = pd.merge(df_readm9, df_pairct, on='icustayid', how='left')"
   ]
  },
  {
   "cell_type": "markdown",
   "metadata": {},
   "source": [
    "#### Probability Transformation (Weight)\n",
    "Probability is read column-wise. All pairs for each current care unit should have a sum of 1.0."
   ]
  },
  {
   "cell_type": "code",
   "execution_count": 31,
   "metadata": {
    "collapsed": false,
    "scrolled": true
   },
   "outputs": [
    {
     "data": {
      "text/html": [
       "<div>\n",
       "<table border=\"1\" class=\"dataframe\">\n",
       "  <thead>\n",
       "    <tr style=\"text-align: right;\">\n",
       "      <th>curr_cu</th>\n",
       "      <th>CCU</th>\n",
       "      <th>CSRU</th>\n",
       "      <th>MICU</th>\n",
       "      <th>SICU</th>\n",
       "      <th>TSICU</th>\n",
       "    </tr>\n",
       "    <tr>\n",
       "      <th>prev_cu</th>\n",
       "      <th></th>\n",
       "      <th></th>\n",
       "      <th></th>\n",
       "      <th></th>\n",
       "      <th></th>\n",
       "    </tr>\n",
       "  </thead>\n",
       "  <tbody>\n",
       "    <tr>\n",
       "      <th>CCU</th>\n",
       "      <td>0.058462</td>\n",
       "      <td>0.029022</td>\n",
       "      <td>0.018337</td>\n",
       "      <td>0.009021</td>\n",
       "      <td>0.008323</td>\n",
       "    </tr>\n",
       "    <tr>\n",
       "      <th>CSRU</th>\n",
       "      <td>0.039126</td>\n",
       "      <td>0.230929</td>\n",
       "      <td>0.008767</td>\n",
       "      <td>0.011963</td>\n",
       "      <td>0.007491</td>\n",
       "    </tr>\n",
       "    <tr>\n",
       "      <th>MICU</th>\n",
       "      <td>0.039126</td>\n",
       "      <td>0.012852</td>\n",
       "      <td>0.100891</td>\n",
       "      <td>0.036478</td>\n",
       "      <td>0.032043</td>\n",
       "    </tr>\n",
       "    <tr>\n",
       "      <th>SICU</th>\n",
       "      <td>0.012056</td>\n",
       "      <td>0.006633</td>\n",
       "      <td>0.015488</td>\n",
       "      <td>0.083742</td>\n",
       "      <td>0.014149</td>\n",
       "    </tr>\n",
       "    <tr>\n",
       "      <th>TSICU</th>\n",
       "      <td>0.009099</td>\n",
       "      <td>0.003731</td>\n",
       "      <td>0.010520</td>\n",
       "      <td>0.018631</td>\n",
       "      <td>0.110695</td>\n",
       "    </tr>\n",
       "    <tr>\n",
       "      <th>nonicu</th>\n",
       "      <td>0.842129</td>\n",
       "      <td>0.716833</td>\n",
       "      <td>0.845996</td>\n",
       "      <td>0.840165</td>\n",
       "      <td>0.827299</td>\n",
       "    </tr>\n",
       "  </tbody>\n",
       "</table>\n",
       "</div>"
      ],
      "text/plain": [
       "curr_cu       CCU      CSRU      MICU      SICU     TSICU\n",
       "prev_cu                                                  \n",
       "CCU      0.058462  0.029022  0.018337  0.009021  0.008323\n",
       "CSRU     0.039126  0.230929  0.008767  0.011963  0.007491\n",
       "MICU     0.039126  0.012852  0.100891  0.036478  0.032043\n",
       "SICU     0.012056  0.006633  0.015488  0.083742  0.014149\n",
       "TSICU    0.009099  0.003731  0.010520  0.018631  0.110695\n",
       "nonicu   0.842129  0.716833  0.845996  0.840165  0.827299"
      ]
     },
     "execution_count": 31,
     "metadata": {},
     "output_type": "execute_result"
    }
   ],
   "source": [
    "prev_cu = df_trav.prev_cu\n",
    "curr_cu = df_trav.curr_cu\n",
    "pair_prob = pd.crosstab(prev_cu, curr_cu) / pd.crosstab(prev_cu, curr_cu).sum() # pandas cross-tabulation - probability of pair\n",
    "pair_prob"
   ]
  },
  {
   "cell_type": "code",
   "execution_count": 32,
   "metadata": {
    "collapsed": true,
    "scrolled": true
   },
   "outputs": [],
   "source": [
    "# Convert each pair to be their own respective column\n",
    "df_pairprob = pair_prob.unstack().to_frame(name='prob').reset_index()\n",
    "df_pairprob['trans'] = df_pairprob.prev_cu+'-'+df_pairprob.curr_cu # each possible pair\n",
    "df_pairprob.drop(['curr_cu', 'prev_cu'], axis=1, inplace=True)\n",
    "df_pairprob.set_index('trans', drop=True, inplace=True)\n",
    "# df_pairprob.sort_values('prob', ascending=False).head()"
   ]
  },
  {
   "cell_type": "code",
   "execution_count": 33,
   "metadata": {
    "collapsed": false,
    "scrolled": true
   },
   "outputs": [
    {
     "name": "stdout",
     "output_type": "stream",
     "text": [
      "(6160, 32)\n"
     ]
    },
    {
     "data": {
      "text/html": [
       "<div>\n",
       "<table border=\"1\" class=\"dataframe\">\n",
       "  <thead>\n",
       "    <tr style=\"text-align: right;\">\n",
       "      <th></th>\n",
       "      <th>subjectid</th>\n",
       "      <th>hadmid</th>\n",
       "      <th>icustayid</th>\n",
       "      <th>icu_intime</th>\n",
       "      <th>icu_outtime</th>\n",
       "      <th>readm_days</th>\n",
       "      <th>prev_icustayid</th>\n",
       "      <th>prev_iculos</th>\n",
       "      <th>age</th>\n",
       "      <th>ethnicity</th>\n",
       "      <th>...</th>\n",
       "      <th>nonicu-SICU</th>\n",
       "      <th>nonicu-CSRU</th>\n",
       "      <th>nonicu-MICU</th>\n",
       "      <th>MICU-MICU</th>\n",
       "      <th>nonicu-TSICU</th>\n",
       "      <th>nonicu-CCU</th>\n",
       "      <th>TSICU-TSICU</th>\n",
       "      <th>SICU-SICU</th>\n",
       "      <th>CSRU-CSRU</th>\n",
       "      <th>CCU-CCU</th>\n",
       "    </tr>\n",
       "  </thead>\n",
       "  <tbody>\n",
       "    <tr>\n",
       "      <th>0</th>\n",
       "      <td>36</td>\n",
       "      <td>122659</td>\n",
       "      <td>211200</td>\n",
       "      <td>2131-05-16 23:18:26</td>\n",
       "      <td>2131-05-23 19:56:11</td>\n",
       "      <td>11.425</td>\n",
       "      <td>280987.0</td>\n",
       "      <td>1.1096</td>\n",
       "      <td>69</td>\n",
       "      <td>3</td>\n",
       "      <td>...</td>\n",
       "      <td>0.0</td>\n",
       "      <td>0.717</td>\n",
       "      <td>0.000</td>\n",
       "      <td>0.0</td>\n",
       "      <td>0.0</td>\n",
       "      <td>0.0</td>\n",
       "      <td>0.0</td>\n",
       "      <td>0.0</td>\n",
       "      <td>0.462</td>\n",
       "      <td>0.0</td>\n",
       "    </tr>\n",
       "    <tr>\n",
       "      <th>1</th>\n",
       "      <td>41</td>\n",
       "      <td>101757</td>\n",
       "      <td>237024</td>\n",
       "      <td>2133-01-09 12:18:30</td>\n",
       "      <td>2133-01-12 15:51:03</td>\n",
       "      <td>2.845</td>\n",
       "      <td>261027.0</td>\n",
       "      <td>3.3937</td>\n",
       "      <td>56</td>\n",
       "      <td>3</td>\n",
       "      <td>...</td>\n",
       "      <td>0.0</td>\n",
       "      <td>0.717</td>\n",
       "      <td>0.000</td>\n",
       "      <td>0.0</td>\n",
       "      <td>0.0</td>\n",
       "      <td>0.0</td>\n",
       "      <td>0.0</td>\n",
       "      <td>0.0</td>\n",
       "      <td>0.000</td>\n",
       "      <td>0.0</td>\n",
       "    </tr>\n",
       "    <tr>\n",
       "      <th>2</th>\n",
       "      <td>68</td>\n",
       "      <td>170467</td>\n",
       "      <td>225771</td>\n",
       "      <td>2173-12-31 01:52:46</td>\n",
       "      <td>2173-12-31 21:33:34</td>\n",
       "      <td>11.418</td>\n",
       "      <td>294232.0</td>\n",
       "      <td>3.5368</td>\n",
       "      <td>41</td>\n",
       "      <td>1</td>\n",
       "      <td>...</td>\n",
       "      <td>0.0</td>\n",
       "      <td>0.000</td>\n",
       "      <td>0.846</td>\n",
       "      <td>0.0</td>\n",
       "      <td>0.0</td>\n",
       "      <td>0.0</td>\n",
       "      <td>0.0</td>\n",
       "      <td>0.0</td>\n",
       "      <td>0.000</td>\n",
       "      <td>0.0</td>\n",
       "    </tr>\n",
       "    <tr>\n",
       "      <th>3</th>\n",
       "      <td>68</td>\n",
       "      <td>108329</td>\n",
       "      <td>272667</td>\n",
       "      <td>2174-01-08 13:12:06</td>\n",
       "      <td>2174-01-14 22:45:42</td>\n",
       "      <td>7.652</td>\n",
       "      <td>225771.0</td>\n",
       "      <td>0.8200</td>\n",
       "      <td>41</td>\n",
       "      <td>1</td>\n",
       "      <td>...</td>\n",
       "      <td>0.0</td>\n",
       "      <td>0.000</td>\n",
       "      <td>0.846</td>\n",
       "      <td>0.0</td>\n",
       "      <td>0.0</td>\n",
       "      <td>0.0</td>\n",
       "      <td>0.0</td>\n",
       "      <td>0.0</td>\n",
       "      <td>0.000</td>\n",
       "      <td>0.0</td>\n",
       "    </tr>\n",
       "    <tr>\n",
       "      <th>4</th>\n",
       "      <td>91</td>\n",
       "      <td>121205</td>\n",
       "      <td>256972</td>\n",
       "      <td>2177-05-07 03:52:00</td>\n",
       "      <td>2177-05-10 15:16:00</td>\n",
       "      <td>9.576</td>\n",
       "      <td>218528.0</td>\n",
       "      <td>0.4965</td>\n",
       "      <td>81</td>\n",
       "      <td>3</td>\n",
       "      <td>...</td>\n",
       "      <td>0.0</td>\n",
       "      <td>0.000</td>\n",
       "      <td>0.846</td>\n",
       "      <td>0.0</td>\n",
       "      <td>0.0</td>\n",
       "      <td>0.0</td>\n",
       "      <td>0.0</td>\n",
       "      <td>0.0</td>\n",
       "      <td>0.000</td>\n",
       "      <td>0.0</td>\n",
       "    </tr>\n",
       "  </tbody>\n",
       "</table>\n",
       "<p>5 rows × 32 columns</p>\n",
       "</div>"
      ],
      "text/plain": [
       "   subjectid  hadmid  icustayid          icu_intime         icu_outtime  \\\n",
       "0         36  122659     211200 2131-05-16 23:18:26 2131-05-23 19:56:11   \n",
       "1         41  101757     237024 2133-01-09 12:18:30 2133-01-12 15:51:03   \n",
       "2         68  170467     225771 2173-12-31 01:52:46 2173-12-31 21:33:34   \n",
       "3         68  108329     272667 2174-01-08 13:12:06 2174-01-14 22:45:42   \n",
       "4         91  121205     256972 2177-05-07 03:52:00 2177-05-10 15:16:00   \n",
       "\n",
       "   readm_days  prev_icustayid  prev_iculos  age  ethnicity   ...     \\\n",
       "0      11.425        280987.0       1.1096   69          3   ...      \n",
       "1       2.845        261027.0       3.3937   56          3   ...      \n",
       "2      11.418        294232.0       3.5368   41          1   ...      \n",
       "3       7.652        225771.0       0.8200   41          1   ...      \n",
       "4       9.576        218528.0       0.4965   81          3   ...      \n",
       "\n",
       "   nonicu-SICU  nonicu-CSRU  nonicu-MICU  MICU-MICU  nonicu-TSICU  nonicu-CCU  \\\n",
       "0          0.0        0.717        0.000        0.0           0.0         0.0   \n",
       "1          0.0        0.717        0.000        0.0           0.0         0.0   \n",
       "2          0.0        0.000        0.846        0.0           0.0         0.0   \n",
       "3          0.0        0.000        0.846        0.0           0.0         0.0   \n",
       "4          0.0        0.000        0.846        0.0           0.0         0.0   \n",
       "\n",
       "   TSICU-TSICU  SICU-SICU  CSRU-CSRU  CCU-CCU  \n",
       "0          0.0        0.0      0.462      0.0  \n",
       "1          0.0        0.0      0.000      0.0  \n",
       "2          0.0        0.0      0.000      0.0  \n",
       "3          0.0        0.0      0.000      0.0  \n",
       "4          0.0        0.0      0.000      0.0  \n",
       "\n",
       "[5 rows x 32 columns]"
      ]
     },
     "execution_count": 33,
     "metadata": {},
     "output_type": "execute_result"
    }
   ],
   "source": [
    "pairs = ['nonicu-MICU', 'nonicu-SICU', 'nonicu-TSICU', 'nonicu-CSRU',\n",
    "         'MICU-MICU', 'TSICU-TSICU', 'nonicu-CCU', 'CCU-CCU', 'CSRU-CSRU',\n",
    "         'SICU-SICU']\n",
    "\n",
    "# Create feature for risk score of each care unit traversal pair\n",
    "for elem in pairs:\n",
    "    df_readm10[elem].fillna(0, inplace=True)\n",
    "    df_readm10[elem] = np.round(df_readm10[elem] * df_pairprob.loc[elem].values[0],3)\n",
    "    \n",
    "print df_readm10.shape\n",
    "df_readm10.head()"
   ]
  },
  {
   "cell_type": "markdown",
   "metadata": {},
   "source": [
    "## Clinical Features\n",
    "Compiled my operations-focused features with Luyan's clinical features. Please refer to Luyan's notes for further information.\n",
    "\n",
    "### Surgical Patients\n",
    "Feature indicating whether ICU stay involved a surgical procedure.\n",
    "\n",
    "Legend:\n",
    "  * **`0`**: No surgery\n",
    "  * **`1`**: Surgery"
   ]
  },
  {
   "cell_type": "code",
   "execution_count": 34,
   "metadata": {
    "collapsed": true
   },
   "outputs": [],
   "source": [
    "def icu_surg(data):\n",
    "    \"\"\"Helper function indicating if surgery of patient occurred during their ICU stay for that given hospital admission stay.\n",
    "    \n",
    "    :param data: pandas DataFrame\n",
    "    :return: binary labels (integer)\n",
    "    \"\"\"\n",
    "    if data['surgtime'] >= data['icu_intime'] and data['surgtime'] <= data['icu_outtime']:\n",
    "        surg = 1\n",
    "    else:\n",
    "        surg = 0\n",
    "    return surg"
   ]
  },
  {
   "cell_type": "code",
   "execution_count": 35,
   "metadata": {
    "collapsed": false
   },
   "outputs": [
    {
     "name": "stdout",
     "output_type": "stream",
     "text": [
      "(6160, 33)\n"
     ]
    },
    {
     "data": {
      "text/html": [
       "<div>\n",
       "<table border=\"1\" class=\"dataframe\">\n",
       "  <thead>\n",
       "    <tr style=\"text-align: right;\">\n",
       "      <th></th>\n",
       "      <th>subjectid</th>\n",
       "      <th>hadmid</th>\n",
       "      <th>icustayid</th>\n",
       "      <th>icu_intime</th>\n",
       "      <th>icu_outtime</th>\n",
       "      <th>readm_days</th>\n",
       "      <th>prev_icustayid</th>\n",
       "      <th>prev_iculos</th>\n",
       "      <th>age</th>\n",
       "      <th>ethnicity</th>\n",
       "      <th>...</th>\n",
       "      <th>nonicu-CSRU</th>\n",
       "      <th>nonicu-MICU</th>\n",
       "      <th>MICU-MICU</th>\n",
       "      <th>nonicu-TSICU</th>\n",
       "      <th>nonicu-CCU</th>\n",
       "      <th>TSICU-TSICU</th>\n",
       "      <th>SICU-SICU</th>\n",
       "      <th>CSRU-CSRU</th>\n",
       "      <th>CCU-CCU</th>\n",
       "      <th>surg</th>\n",
       "    </tr>\n",
       "  </thead>\n",
       "  <tbody>\n",
       "    <tr>\n",
       "      <th>0</th>\n",
       "      <td>36</td>\n",
       "      <td>122659</td>\n",
       "      <td>211200</td>\n",
       "      <td>2131-05-16 23:18:26</td>\n",
       "      <td>2131-05-23 19:56:11</td>\n",
       "      <td>11.425</td>\n",
       "      <td>280987.0</td>\n",
       "      <td>1.1096</td>\n",
       "      <td>69</td>\n",
       "      <td>3</td>\n",
       "      <td>...</td>\n",
       "      <td>0.717</td>\n",
       "      <td>0.000</td>\n",
       "      <td>0.0</td>\n",
       "      <td>0.0</td>\n",
       "      <td>0.0</td>\n",
       "      <td>0.0</td>\n",
       "      <td>0.0</td>\n",
       "      <td>0.462</td>\n",
       "      <td>0.0</td>\n",
       "      <td>0</td>\n",
       "    </tr>\n",
       "    <tr>\n",
       "      <th>1</th>\n",
       "      <td>41</td>\n",
       "      <td>101757</td>\n",
       "      <td>237024</td>\n",
       "      <td>2133-01-09 12:18:30</td>\n",
       "      <td>2133-01-12 15:51:03</td>\n",
       "      <td>2.845</td>\n",
       "      <td>261027.0</td>\n",
       "      <td>3.3937</td>\n",
       "      <td>56</td>\n",
       "      <td>3</td>\n",
       "      <td>...</td>\n",
       "      <td>0.717</td>\n",
       "      <td>0.000</td>\n",
       "      <td>0.0</td>\n",
       "      <td>0.0</td>\n",
       "      <td>0.0</td>\n",
       "      <td>0.0</td>\n",
       "      <td>0.0</td>\n",
       "      <td>0.000</td>\n",
       "      <td>0.0</td>\n",
       "      <td>0</td>\n",
       "    </tr>\n",
       "    <tr>\n",
       "      <th>2</th>\n",
       "      <td>68</td>\n",
       "      <td>170467</td>\n",
       "      <td>225771</td>\n",
       "      <td>2173-12-31 01:52:46</td>\n",
       "      <td>2173-12-31 21:33:34</td>\n",
       "      <td>11.418</td>\n",
       "      <td>294232.0</td>\n",
       "      <td>3.5368</td>\n",
       "      <td>41</td>\n",
       "      <td>1</td>\n",
       "      <td>...</td>\n",
       "      <td>0.000</td>\n",
       "      <td>0.846</td>\n",
       "      <td>0.0</td>\n",
       "      <td>0.0</td>\n",
       "      <td>0.0</td>\n",
       "      <td>0.0</td>\n",
       "      <td>0.0</td>\n",
       "      <td>0.000</td>\n",
       "      <td>0.0</td>\n",
       "      <td>0</td>\n",
       "    </tr>\n",
       "    <tr>\n",
       "      <th>3</th>\n",
       "      <td>68</td>\n",
       "      <td>108329</td>\n",
       "      <td>272667</td>\n",
       "      <td>2174-01-08 13:12:06</td>\n",
       "      <td>2174-01-14 22:45:42</td>\n",
       "      <td>7.652</td>\n",
       "      <td>225771.0</td>\n",
       "      <td>0.8200</td>\n",
       "      <td>41</td>\n",
       "      <td>1</td>\n",
       "      <td>...</td>\n",
       "      <td>0.000</td>\n",
       "      <td>0.846</td>\n",
       "      <td>0.0</td>\n",
       "      <td>0.0</td>\n",
       "      <td>0.0</td>\n",
       "      <td>0.0</td>\n",
       "      <td>0.0</td>\n",
       "      <td>0.000</td>\n",
       "      <td>0.0</td>\n",
       "      <td>0</td>\n",
       "    </tr>\n",
       "    <tr>\n",
       "      <th>4</th>\n",
       "      <td>91</td>\n",
       "      <td>121205</td>\n",
       "      <td>256972</td>\n",
       "      <td>2177-05-07 03:52:00</td>\n",
       "      <td>2177-05-10 15:16:00</td>\n",
       "      <td>9.576</td>\n",
       "      <td>218528.0</td>\n",
       "      <td>0.4965</td>\n",
       "      <td>81</td>\n",
       "      <td>3</td>\n",
       "      <td>...</td>\n",
       "      <td>0.000</td>\n",
       "      <td>0.846</td>\n",
       "      <td>0.0</td>\n",
       "      <td>0.0</td>\n",
       "      <td>0.0</td>\n",
       "      <td>0.0</td>\n",
       "      <td>0.0</td>\n",
       "      <td>0.000</td>\n",
       "      <td>0.0</td>\n",
       "      <td>0</td>\n",
       "    </tr>\n",
       "  </tbody>\n",
       "</table>\n",
       "<p>5 rows × 33 columns</p>\n",
       "</div>"
      ],
      "text/plain": [
       "   subjectid  hadmid  icustayid          icu_intime         icu_outtime  \\\n",
       "0         36  122659     211200 2131-05-16 23:18:26 2131-05-23 19:56:11   \n",
       "1         41  101757     237024 2133-01-09 12:18:30 2133-01-12 15:51:03   \n",
       "2         68  170467     225771 2173-12-31 01:52:46 2173-12-31 21:33:34   \n",
       "3         68  108329     272667 2174-01-08 13:12:06 2174-01-14 22:45:42   \n",
       "4         91  121205     256972 2177-05-07 03:52:00 2177-05-10 15:16:00   \n",
       "\n",
       "   readm_days  prev_icustayid  prev_iculos  age  ethnicity  ...   nonicu-CSRU  \\\n",
       "0      11.425        280987.0       1.1096   69          3  ...         0.717   \n",
       "1       2.845        261027.0       3.3937   56          3  ...         0.717   \n",
       "2      11.418        294232.0       3.5368   41          1  ...         0.000   \n",
       "3       7.652        225771.0       0.8200   41          1  ...         0.000   \n",
       "4       9.576        218528.0       0.4965   81          3  ...         0.000   \n",
       "\n",
       "   nonicu-MICU  MICU-MICU  nonicu-TSICU  nonicu-CCU  TSICU-TSICU  SICU-SICU  \\\n",
       "0        0.000        0.0           0.0         0.0          0.0        0.0   \n",
       "1        0.000        0.0           0.0         0.0          0.0        0.0   \n",
       "2        0.846        0.0           0.0         0.0          0.0        0.0   \n",
       "3        0.846        0.0           0.0         0.0          0.0        0.0   \n",
       "4        0.846        0.0           0.0         0.0          0.0        0.0   \n",
       "\n",
       "   CSRU-CSRU  CCU-CCU  surg  \n",
       "0      0.462      0.0     0  \n",
       "1      0.000      0.0     0  \n",
       "2      0.000      0.0     0  \n",
       "3      0.000      0.0     0  \n",
       "4      0.000      0.0     0  \n",
       "\n",
       "[5 rows x 33 columns]"
      ]
     },
     "execution_count": 35,
     "metadata": {},
     "output_type": "execute_result"
    }
   ],
   "source": [
    "q_surg = \"\"\"SELECT DISTINCT ON (subject_id, hadm_id) subject_id, hadm_id, transfertime, curr_service\n",
    "FROM services\n",
    "WHERE curr_service LIKE '%SURG%';\"\"\"\n",
    "\n",
    "surg = exec_query(q_surg)\n",
    "df_surg = pd.DataFrame(surg, columns=['subjectid', 'hadmid', 'surgtime', 'surg'])\n",
    "\n",
    "df_readm11 = df_readm10.merge(df_surg, \n",
    "                       on=['subjectid','hadmid'], how='left')\n",
    "\n",
    "df_readm11['surg'].fillna(0, inplace=True)\n",
    "df_readm11['surg'] = df_readm11.apply(icu_surg, axis=1) # binary labels indicate if surgery occurred during ICU stay\n",
    "df_readm11.drop(['surgtime'], axis=1, inplace=True)\n",
    "\n",
    "print df_readm11.shape\n",
    "df_readm11.head()"
   ]
  },
  {
   "cell_type": "markdown",
   "metadata": {},
   "source": [
    "### Abnormal Hemoglobin\n",
    "Feature indicating whether patient has abnormal hemoglobin results.\n",
    "\n",
    "Legend:\n",
    "  * **`0`**: Normal hemoglobin or unknown\n",
    "  * **`1`**: Abnormal hemoglobin"
   ]
  },
  {
   "cell_type": "code",
   "execution_count": 36,
   "metadata": {
    "collapsed": false
   },
   "outputs": [
    {
     "name": "stdout",
     "output_type": "stream",
     "text": [
      "(6160, 34)\n"
     ]
    },
    {
     "data": {
      "text/html": [
       "<div>\n",
       "<table border=\"1\" class=\"dataframe\">\n",
       "  <thead>\n",
       "    <tr style=\"text-align: right;\">\n",
       "      <th></th>\n",
       "      <th>subjectid</th>\n",
       "      <th>hadmid</th>\n",
       "      <th>icustayid</th>\n",
       "      <th>icu_intime</th>\n",
       "      <th>icu_outtime</th>\n",
       "      <th>readm_days</th>\n",
       "      <th>prev_icustayid</th>\n",
       "      <th>prev_iculos</th>\n",
       "      <th>age</th>\n",
       "      <th>ethnicity</th>\n",
       "      <th>...</th>\n",
       "      <th>nonicu-MICU</th>\n",
       "      <th>MICU-MICU</th>\n",
       "      <th>nonicu-TSICU</th>\n",
       "      <th>nonicu-CCU</th>\n",
       "      <th>TSICU-TSICU</th>\n",
       "      <th>SICU-SICU</th>\n",
       "      <th>CSRU-CSRU</th>\n",
       "      <th>CCU-CCU</th>\n",
       "      <th>surg</th>\n",
       "      <th>hemoglobin</th>\n",
       "    </tr>\n",
       "  </thead>\n",
       "  <tbody>\n",
       "    <tr>\n",
       "      <th>0</th>\n",
       "      <td>36</td>\n",
       "      <td>122659</td>\n",
       "      <td>211200</td>\n",
       "      <td>2131-05-16 23:18:26</td>\n",
       "      <td>2131-05-23 19:56:11</td>\n",
       "      <td>11.425</td>\n",
       "      <td>280987.0</td>\n",
       "      <td>1.1096</td>\n",
       "      <td>69</td>\n",
       "      <td>3</td>\n",
       "      <td>...</td>\n",
       "      <td>0.000</td>\n",
       "      <td>0.0</td>\n",
       "      <td>0.0</td>\n",
       "      <td>0.0</td>\n",
       "      <td>0.0</td>\n",
       "      <td>0.0</td>\n",
       "      <td>0.462</td>\n",
       "      <td>0.0</td>\n",
       "      <td>0</td>\n",
       "      <td>1.0</td>\n",
       "    </tr>\n",
       "    <tr>\n",
       "      <th>1</th>\n",
       "      <td>41</td>\n",
       "      <td>101757</td>\n",
       "      <td>237024</td>\n",
       "      <td>2133-01-09 12:18:30</td>\n",
       "      <td>2133-01-12 15:51:03</td>\n",
       "      <td>2.845</td>\n",
       "      <td>261027.0</td>\n",
       "      <td>3.3937</td>\n",
       "      <td>56</td>\n",
       "      <td>3</td>\n",
       "      <td>...</td>\n",
       "      <td>0.000</td>\n",
       "      <td>0.0</td>\n",
       "      <td>0.0</td>\n",
       "      <td>0.0</td>\n",
       "      <td>0.0</td>\n",
       "      <td>0.0</td>\n",
       "      <td>0.000</td>\n",
       "      <td>0.0</td>\n",
       "      <td>0</td>\n",
       "      <td>1.0</td>\n",
       "    </tr>\n",
       "    <tr>\n",
       "      <th>2</th>\n",
       "      <td>68</td>\n",
       "      <td>170467</td>\n",
       "      <td>225771</td>\n",
       "      <td>2173-12-31 01:52:46</td>\n",
       "      <td>2173-12-31 21:33:34</td>\n",
       "      <td>11.418</td>\n",
       "      <td>294232.0</td>\n",
       "      <td>3.5368</td>\n",
       "      <td>41</td>\n",
       "      <td>1</td>\n",
       "      <td>...</td>\n",
       "      <td>0.846</td>\n",
       "      <td>0.0</td>\n",
       "      <td>0.0</td>\n",
       "      <td>0.0</td>\n",
       "      <td>0.0</td>\n",
       "      <td>0.0</td>\n",
       "      <td>0.000</td>\n",
       "      <td>0.0</td>\n",
       "      <td>0</td>\n",
       "      <td>1.0</td>\n",
       "    </tr>\n",
       "    <tr>\n",
       "      <th>3</th>\n",
       "      <td>68</td>\n",
       "      <td>108329</td>\n",
       "      <td>272667</td>\n",
       "      <td>2174-01-08 13:12:06</td>\n",
       "      <td>2174-01-14 22:45:42</td>\n",
       "      <td>7.652</td>\n",
       "      <td>225771.0</td>\n",
       "      <td>0.8200</td>\n",
       "      <td>41</td>\n",
       "      <td>1</td>\n",
       "      <td>...</td>\n",
       "      <td>0.846</td>\n",
       "      <td>0.0</td>\n",
       "      <td>0.0</td>\n",
       "      <td>0.0</td>\n",
       "      <td>0.0</td>\n",
       "      <td>0.0</td>\n",
       "      <td>0.000</td>\n",
       "      <td>0.0</td>\n",
       "      <td>0</td>\n",
       "      <td>1.0</td>\n",
       "    </tr>\n",
       "    <tr>\n",
       "      <th>4</th>\n",
       "      <td>91</td>\n",
       "      <td>121205</td>\n",
       "      <td>256972</td>\n",
       "      <td>2177-05-07 03:52:00</td>\n",
       "      <td>2177-05-10 15:16:00</td>\n",
       "      <td>9.576</td>\n",
       "      <td>218528.0</td>\n",
       "      <td>0.4965</td>\n",
       "      <td>81</td>\n",
       "      <td>3</td>\n",
       "      <td>...</td>\n",
       "      <td>0.846</td>\n",
       "      <td>0.0</td>\n",
       "      <td>0.0</td>\n",
       "      <td>0.0</td>\n",
       "      <td>0.0</td>\n",
       "      <td>0.0</td>\n",
       "      <td>0.000</td>\n",
       "      <td>0.0</td>\n",
       "      <td>0</td>\n",
       "      <td>1.0</td>\n",
       "    </tr>\n",
       "  </tbody>\n",
       "</table>\n",
       "<p>5 rows × 34 columns</p>\n",
       "</div>"
      ],
      "text/plain": [
       "   subjectid  hadmid  icustayid          icu_intime         icu_outtime  \\\n",
       "0         36  122659     211200 2131-05-16 23:18:26 2131-05-23 19:56:11   \n",
       "1         41  101757     237024 2133-01-09 12:18:30 2133-01-12 15:51:03   \n",
       "2         68  170467     225771 2173-12-31 01:52:46 2173-12-31 21:33:34   \n",
       "3         68  108329     272667 2174-01-08 13:12:06 2174-01-14 22:45:42   \n",
       "4         91  121205     256972 2177-05-07 03:52:00 2177-05-10 15:16:00   \n",
       "\n",
       "   readm_days  prev_icustayid  prev_iculos  age  ethnicity     ...      \\\n",
       "0      11.425        280987.0       1.1096   69          3     ...       \n",
       "1       2.845        261027.0       3.3937   56          3     ...       \n",
       "2      11.418        294232.0       3.5368   41          1     ...       \n",
       "3       7.652        225771.0       0.8200   41          1     ...       \n",
       "4       9.576        218528.0       0.4965   81          3     ...       \n",
       "\n",
       "   nonicu-MICU  MICU-MICU  nonicu-TSICU  nonicu-CCU  TSICU-TSICU  SICU-SICU  \\\n",
       "0        0.000        0.0           0.0         0.0          0.0        0.0   \n",
       "1        0.000        0.0           0.0         0.0          0.0        0.0   \n",
       "2        0.846        0.0           0.0         0.0          0.0        0.0   \n",
       "3        0.846        0.0           0.0         0.0          0.0        0.0   \n",
       "4        0.846        0.0           0.0         0.0          0.0        0.0   \n",
       "\n",
       "   CSRU-CSRU  CCU-CCU  surg  hemoglobin  \n",
       "0      0.462      0.0     0         1.0  \n",
       "1      0.000      0.0     0         1.0  \n",
       "2      0.000      0.0     0         1.0  \n",
       "3      0.000      0.0     0         1.0  \n",
       "4      0.000      0.0     0         1.0  \n",
       "\n",
       "[5 rows x 34 columns]"
      ]
     },
     "execution_count": 36,
     "metadata": {},
     "output_type": "execute_result"
    }
   ],
   "source": [
    "q_hemoglb = \"\"\"\n",
    "select subject_id,hadm_id, hemoglobin from \n",
    "(select icu.subject_id,icu.hadm_id, label,fluid,charttime,outtime,(outtime-charttime)/24.0 as timegap,value,flag,\n",
    "case when flag='abnormal' then 1 else 0 end as hemoglobin,\n",
    "ROW_NUMBER() OVER(PARTITION BY icu.subject_id,icu.hadm_id ORDER BY charttime DESC) AS rk\n",
    "from  d_labitems as dlab \n",
    "inner join labevents as lab \n",
    "on dlab.itemid=lab.itemid \n",
    "inner join icustays as icu \n",
    "on icu.subject_id= lab.subject_id \n",
    "and icu.hadm_id = lab.hadm_id \n",
    "where dlab.label='HEMOGLOBIN' and fluid = 'BLOOD'and charttime<=outtime) as sub_query \n",
    "where rk=1;\"\"\"\n",
    "\n",
    "hemoglb = exec_query(q_hemoglb)\n",
    "df_hemoglb = pd.DataFrame(hemoglb, columns=['subjectid', 'hadmid', 'hemoglobin'])\n",
    "\n",
    "df_readm12 = df_readm11.merge(df_hemoglb, on=['subjectid','hadmid'], how='left')\n",
    "\n",
    "print df_readm12.shape\n",
    "df_readm12.head()"
   ]
  },
  {
   "cell_type": "markdown",
   "metadata": {},
   "source": [
    "###  HADM Procedures\n",
    "Features indicating presence of a procedure."
   ]
  },
  {
   "cell_type": "code",
   "execution_count": 37,
   "metadata": {
    "collapsed": false
   },
   "outputs": [
    {
     "name": "stdout",
     "output_type": "stream",
     "text": [
      "(6160, 41)\n"
     ]
    },
    {
     "data": {
      "text/html": [
       "<div>\n",
       "<table border=\"1\" class=\"dataframe\">\n",
       "  <thead>\n",
       "    <tr style=\"text-align: right;\">\n",
       "      <th></th>\n",
       "      <th>subjectid</th>\n",
       "      <th>hadmid</th>\n",
       "      <th>icustayid</th>\n",
       "      <th>icu_intime</th>\n",
       "      <th>icu_outtime</th>\n",
       "      <th>readm_days</th>\n",
       "      <th>prev_icustayid</th>\n",
       "      <th>prev_iculos</th>\n",
       "      <th>age</th>\n",
       "      <th>ethnicity</th>\n",
       "      <th>...</th>\n",
       "      <th>CCU-CCU</th>\n",
       "      <th>surg</th>\n",
       "      <th>hemoglobin</th>\n",
       "      <th>operation_nervous</th>\n",
       "      <th>operation_respiratory</th>\n",
       "      <th>operation_cardiovascular</th>\n",
       "      <th>operation_digestive</th>\n",
       "      <th>dialysis</th>\n",
       "      <th>intubation_res_gas</th>\n",
       "      <th>num_operations</th>\n",
       "    </tr>\n",
       "  </thead>\n",
       "  <tbody>\n",
       "    <tr>\n",
       "      <th>0</th>\n",
       "      <td>36</td>\n",
       "      <td>122659</td>\n",
       "      <td>211200</td>\n",
       "      <td>2131-05-16 23:18:26</td>\n",
       "      <td>2131-05-23 19:56:11</td>\n",
       "      <td>11.425</td>\n",
       "      <td>280987.0</td>\n",
       "      <td>1.1096</td>\n",
       "      <td>69</td>\n",
       "      <td>3</td>\n",
       "      <td>...</td>\n",
       "      <td>0.0</td>\n",
       "      <td>0</td>\n",
       "      <td>1.0</td>\n",
       "      <td>0.0</td>\n",
       "      <td>0.0</td>\n",
       "      <td>1.0</td>\n",
       "      <td>0.0</td>\n",
       "      <td>0.0</td>\n",
       "      <td>0.0</td>\n",
       "      <td>2.0</td>\n",
       "    </tr>\n",
       "    <tr>\n",
       "      <th>1</th>\n",
       "      <td>41</td>\n",
       "      <td>101757</td>\n",
       "      <td>237024</td>\n",
       "      <td>2133-01-09 12:18:30</td>\n",
       "      <td>2133-01-12 15:51:03</td>\n",
       "      <td>2.845</td>\n",
       "      <td>261027.0</td>\n",
       "      <td>3.3937</td>\n",
       "      <td>56</td>\n",
       "      <td>3</td>\n",
       "      <td>...</td>\n",
       "      <td>0.0</td>\n",
       "      <td>0</td>\n",
       "      <td>1.0</td>\n",
       "      <td>1.0</td>\n",
       "      <td>1.0</td>\n",
       "      <td>1.0</td>\n",
       "      <td>1.0</td>\n",
       "      <td>0.0</td>\n",
       "      <td>1.0</td>\n",
       "      <td>2.0</td>\n",
       "    </tr>\n",
       "    <tr>\n",
       "      <th>2</th>\n",
       "      <td>68</td>\n",
       "      <td>170467</td>\n",
       "      <td>225771</td>\n",
       "      <td>2173-12-31 01:52:46</td>\n",
       "      <td>2173-12-31 21:33:34</td>\n",
       "      <td>11.418</td>\n",
       "      <td>294232.0</td>\n",
       "      <td>3.5368</td>\n",
       "      <td>41</td>\n",
       "      <td>1</td>\n",
       "      <td>...</td>\n",
       "      <td>0.0</td>\n",
       "      <td>0</td>\n",
       "      <td>1.0</td>\n",
       "      <td>0.0</td>\n",
       "      <td>0.0</td>\n",
       "      <td>1.0</td>\n",
       "      <td>0.0</td>\n",
       "      <td>0.0</td>\n",
       "      <td>0.0</td>\n",
       "      <td>1.0</td>\n",
       "    </tr>\n",
       "    <tr>\n",
       "      <th>3</th>\n",
       "      <td>68</td>\n",
       "      <td>108329</td>\n",
       "      <td>272667</td>\n",
       "      <td>2174-01-08 13:12:06</td>\n",
       "      <td>2174-01-14 22:45:42</td>\n",
       "      <td>7.652</td>\n",
       "      <td>225771.0</td>\n",
       "      <td>0.8200</td>\n",
       "      <td>41</td>\n",
       "      <td>1</td>\n",
       "      <td>...</td>\n",
       "      <td>0.0</td>\n",
       "      <td>0</td>\n",
       "      <td>1.0</td>\n",
       "      <td>0.0</td>\n",
       "      <td>0.0</td>\n",
       "      <td>1.0</td>\n",
       "      <td>0.0</td>\n",
       "      <td>0.0</td>\n",
       "      <td>0.0</td>\n",
       "      <td>1.0</td>\n",
       "    </tr>\n",
       "    <tr>\n",
       "      <th>4</th>\n",
       "      <td>91</td>\n",
       "      <td>121205</td>\n",
       "      <td>256972</td>\n",
       "      <td>2177-05-07 03:52:00</td>\n",
       "      <td>2177-05-10 15:16:00</td>\n",
       "      <td>9.576</td>\n",
       "      <td>218528.0</td>\n",
       "      <td>0.4965</td>\n",
       "      <td>81</td>\n",
       "      <td>3</td>\n",
       "      <td>...</td>\n",
       "      <td>0.0</td>\n",
       "      <td>0</td>\n",
       "      <td>1.0</td>\n",
       "      <td>1.0</td>\n",
       "      <td>0.0</td>\n",
       "      <td>1.0</td>\n",
       "      <td>1.0</td>\n",
       "      <td>0.0</td>\n",
       "      <td>1.0</td>\n",
       "      <td>2.0</td>\n",
       "    </tr>\n",
       "  </tbody>\n",
       "</table>\n",
       "<p>5 rows × 41 columns</p>\n",
       "</div>"
      ],
      "text/plain": [
       "   subjectid  hadmid  icustayid          icu_intime         icu_outtime  \\\n",
       "0         36  122659     211200 2131-05-16 23:18:26 2131-05-23 19:56:11   \n",
       "1         41  101757     237024 2133-01-09 12:18:30 2133-01-12 15:51:03   \n",
       "2         68  170467     225771 2173-12-31 01:52:46 2173-12-31 21:33:34   \n",
       "3         68  108329     272667 2174-01-08 13:12:06 2174-01-14 22:45:42   \n",
       "4         91  121205     256972 2177-05-07 03:52:00 2177-05-10 15:16:00   \n",
       "\n",
       "   readm_days  prev_icustayid  prev_iculos  age  ethnicity       ...        \\\n",
       "0      11.425        280987.0       1.1096   69          3       ...         \n",
       "1       2.845        261027.0       3.3937   56          3       ...         \n",
       "2      11.418        294232.0       3.5368   41          1       ...         \n",
       "3       7.652        225771.0       0.8200   41          1       ...         \n",
       "4       9.576        218528.0       0.4965   81          3       ...         \n",
       "\n",
       "   CCU-CCU  surg  hemoglobin  operation_nervous  operation_respiratory  \\\n",
       "0      0.0     0         1.0                0.0                    0.0   \n",
       "1      0.0     0         1.0                1.0                    1.0   \n",
       "2      0.0     0         1.0                0.0                    0.0   \n",
       "3      0.0     0         1.0                0.0                    0.0   \n",
       "4      0.0     0         1.0                1.0                    0.0   \n",
       "\n",
       "   operation_cardiovascular  operation_digestive  dialysis  \\\n",
       "0                       1.0                  0.0       0.0   \n",
       "1                       1.0                  1.0       0.0   \n",
       "2                       1.0                  0.0       0.0   \n",
       "3                       1.0                  0.0       0.0   \n",
       "4                       1.0                  1.0       0.0   \n",
       "\n",
       "   intubation_res_gas  num_operations  \n",
       "0                 0.0             2.0  \n",
       "1                 1.0             2.0  \n",
       "2                 0.0             1.0  \n",
       "3                 0.0             1.0  \n",
       "4                 1.0             2.0  \n",
       "\n",
       "[5 rows x 41 columns]"
      ]
     },
     "execution_count": 37,
     "metadata": {},
     "output_type": "execute_result"
    }
   ],
   "source": [
    "q_proc = procedure = \"\"\"\n",
    "with procedure_table AS (select *,\n",
    "case when icd9_code between '01' and '05'    \n",
    "    then 1\n",
    "    else 0\n",
    "    end as operation_nervous,  \n",
    "case when (icd9_code between '30' and '34')\n",
    "     or (icd9_code between '9390' and '9399')\n",
    "     then 1\n",
    "     else 0\n",
    "     end as operation_respiratory,   \n",
    "case when (icd9_code between '35' and '39')\n",
    "       or (icd9_code='0013')\n",
    "       or (icd9_code='0017')\n",
    "       or (icd9_code between'9960' and '9969')\n",
    "    then 1\n",
    "    else 0\n",
    "    end as operation_cardiovascular,\n",
    "case when (icd9_code='3995')\n",
    "     or (icd9_code='5498')\n",
    "     then 1\n",
    "     else 0\n",
    "     end as dialysis, \n",
    "case when icd9_code between '42' and '54'\n",
    "    then 1\n",
    "    else 0\n",
    "    end as operation_digestive,    \n",
    "case when icd9_code between'960' and '967'\n",
    "     then 1\n",
    "     else 0\n",
    "     end as intubation_res_gas\n",
    "from procedures_icd)\n",
    "select subject_id,hadm_id,\n",
    "MAX(operation_nervous) AS operation_nervous,\n",
    "MAX(operation_respiratory) AS operation_respiratory,\n",
    "MAX(operation_cardiovascular) AS operation_cardiovascular,\n",
    "MAX(operation_digestive) AS operation_digestive,\n",
    "MAX(dialysis) AS dialysis,\n",
    "MAX(intubation_res_gas) AS intubation_res_gas,\n",
    "case \n",
    "when max(seq_num)<=5 then 1\n",
    "when max(seq_num)<=10 then 2\n",
    "else 3\n",
    "end as num_operations\n",
    "from procedure_table group by subject_id,hadm_id;\n",
    "\"\"\"\n",
    "\n",
    "proced = exec_query(q_proc)\n",
    "proc_cols = ['subjectid', 'hadmid', 'operation_nervous','operation_respiratory', 'operation_cardiovascular', \n",
    "             'operation_digestive', 'dialysis', 'intubation_res_gas','num_operations']\n",
    "df_proced = pd.DataFrame(proced, columns=proc_cols)\n",
    "\n",
    "df_readm13 = df_readm12.merge(df_proced, on=['subjectid','hadmid'], how='left')\n",
    "\n",
    "print df_readm13.shape\n",
    "df_readm13.head()"
   ]
  },
  {
   "cell_type": "markdown",
   "metadata": {},
   "source": [
    "## DRG Code\n",
    "Helper column used for stratification of dataset into disease groups/categories."
   ]
  },
  {
   "cell_type": "code",
   "execution_count": 38,
   "metadata": {
    "collapsed": false,
    "scrolled": true
   },
   "outputs": [
    {
     "name": "stdout",
     "output_type": "stream",
     "text": [
      "(14271, 42)\n"
     ]
    },
    {
     "data": {
      "text/html": [
       "<div>\n",
       "<table border=\"1\" class=\"dataframe\">\n",
       "  <thead>\n",
       "    <tr style=\"text-align: right;\">\n",
       "      <th></th>\n",
       "      <th>subjectid</th>\n",
       "      <th>hadmid</th>\n",
       "      <th>icustayid</th>\n",
       "      <th>icu_intime</th>\n",
       "      <th>icu_outtime</th>\n",
       "      <th>readm_days</th>\n",
       "      <th>prev_icustayid</th>\n",
       "      <th>prev_iculos</th>\n",
       "      <th>age</th>\n",
       "      <th>ethnicity</th>\n",
       "      <th>...</th>\n",
       "      <th>surg</th>\n",
       "      <th>hemoglobin</th>\n",
       "      <th>operation_nervous</th>\n",
       "      <th>operation_respiratory</th>\n",
       "      <th>operation_cardiovascular</th>\n",
       "      <th>operation_digestive</th>\n",
       "      <th>dialysis</th>\n",
       "      <th>intubation_res_gas</th>\n",
       "      <th>num_operations</th>\n",
       "      <th>drg_code</th>\n",
       "    </tr>\n",
       "  </thead>\n",
       "  <tbody>\n",
       "    <tr>\n",
       "      <th>0</th>\n",
       "      <td>36</td>\n",
       "      <td>122659</td>\n",
       "      <td>211200</td>\n",
       "      <td>2131-05-16 23:18:26</td>\n",
       "      <td>2131-05-23 19:56:11</td>\n",
       "      <td>11.425</td>\n",
       "      <td>280987.0</td>\n",
       "      <td>1.1096</td>\n",
       "      <td>69</td>\n",
       "      <td>3</td>\n",
       "      <td>...</td>\n",
       "      <td>0</td>\n",
       "      <td>1.0</td>\n",
       "      <td>0.0</td>\n",
       "      <td>0.0</td>\n",
       "      <td>1.0</td>\n",
       "      <td>0.0</td>\n",
       "      <td>0.0</td>\n",
       "      <td>0.0</td>\n",
       "      <td>2.0</td>\n",
       "      <td>439</td>\n",
       "    </tr>\n",
       "    <tr>\n",
       "      <th>1</th>\n",
       "      <td>36</td>\n",
       "      <td>122659</td>\n",
       "      <td>211200</td>\n",
       "      <td>2131-05-16 23:18:26</td>\n",
       "      <td>2131-05-23 19:56:11</td>\n",
       "      <td>11.425</td>\n",
       "      <td>280987.0</td>\n",
       "      <td>1.1096</td>\n",
       "      <td>69</td>\n",
       "      <td>3</td>\n",
       "      <td>...</td>\n",
       "      <td>0</td>\n",
       "      <td>1.0</td>\n",
       "      <td>0.0</td>\n",
       "      <td>0.0</td>\n",
       "      <td>1.0</td>\n",
       "      <td>0.0</td>\n",
       "      <td>0.0</td>\n",
       "      <td>0.0</td>\n",
       "      <td>2.0</td>\n",
       "      <td>7912</td>\n",
       "    </tr>\n",
       "    <tr>\n",
       "      <th>2</th>\n",
       "      <td>41</td>\n",
       "      <td>101757</td>\n",
       "      <td>237024</td>\n",
       "      <td>2133-01-09 12:18:30</td>\n",
       "      <td>2133-01-12 15:51:03</td>\n",
       "      <td>2.845</td>\n",
       "      <td>261027.0</td>\n",
       "      <td>3.3937</td>\n",
       "      <td>56</td>\n",
       "      <td>3</td>\n",
       "      <td>...</td>\n",
       "      <td>0</td>\n",
       "      <td>1.0</td>\n",
       "      <td>1.0</td>\n",
       "      <td>1.0</td>\n",
       "      <td>1.0</td>\n",
       "      <td>1.0</td>\n",
       "      <td>0.0</td>\n",
       "      <td>1.0</td>\n",
       "      <td>2.0</td>\n",
       "      <td>001</td>\n",
       "    </tr>\n",
       "    <tr>\n",
       "      <th>3</th>\n",
       "      <td>41</td>\n",
       "      <td>101757</td>\n",
       "      <td>237024</td>\n",
       "      <td>2133-01-09 12:18:30</td>\n",
       "      <td>2133-01-12 15:51:03</td>\n",
       "      <td>2.845</td>\n",
       "      <td>261027.0</td>\n",
       "      <td>3.3937</td>\n",
       "      <td>56</td>\n",
       "      <td>3</td>\n",
       "      <td>...</td>\n",
       "      <td>0</td>\n",
       "      <td>1.0</td>\n",
       "      <td>1.0</td>\n",
       "      <td>1.0</td>\n",
       "      <td>1.0</td>\n",
       "      <td>1.0</td>\n",
       "      <td>0.0</td>\n",
       "      <td>1.0</td>\n",
       "      <td>2.0</td>\n",
       "      <td>0214</td>\n",
       "    </tr>\n",
       "    <tr>\n",
       "      <th>4</th>\n",
       "      <td>68</td>\n",
       "      <td>170467</td>\n",
       "      <td>225771</td>\n",
       "      <td>2173-12-31 01:52:46</td>\n",
       "      <td>2173-12-31 21:33:34</td>\n",
       "      <td>11.418</td>\n",
       "      <td>294232.0</td>\n",
       "      <td>3.5368</td>\n",
       "      <td>41</td>\n",
       "      <td>1</td>\n",
       "      <td>...</td>\n",
       "      <td>0</td>\n",
       "      <td>1.0</td>\n",
       "      <td>0.0</td>\n",
       "      <td>0.0</td>\n",
       "      <td>1.0</td>\n",
       "      <td>0.0</td>\n",
       "      <td>0.0</td>\n",
       "      <td>0.0</td>\n",
       "      <td>1.0</td>\n",
       "      <td>8924</td>\n",
       "    </tr>\n",
       "  </tbody>\n",
       "</table>\n",
       "<p>5 rows × 42 columns</p>\n",
       "</div>"
      ],
      "text/plain": [
       "   subjectid  hadmid  icustayid          icu_intime         icu_outtime  \\\n",
       "0         36  122659     211200 2131-05-16 23:18:26 2131-05-23 19:56:11   \n",
       "1         36  122659     211200 2131-05-16 23:18:26 2131-05-23 19:56:11   \n",
       "2         41  101757     237024 2133-01-09 12:18:30 2133-01-12 15:51:03   \n",
       "3         41  101757     237024 2133-01-09 12:18:30 2133-01-12 15:51:03   \n",
       "4         68  170467     225771 2173-12-31 01:52:46 2173-12-31 21:33:34   \n",
       "\n",
       "   readm_days  prev_icustayid  prev_iculos  age  ethnicity    ...     surg  \\\n",
       "0      11.425        280987.0       1.1096   69          3    ...        0   \n",
       "1      11.425        280987.0       1.1096   69          3    ...        0   \n",
       "2       2.845        261027.0       3.3937   56          3    ...        0   \n",
       "3       2.845        261027.0       3.3937   56          3    ...        0   \n",
       "4      11.418        294232.0       3.5368   41          1    ...        0   \n",
       "\n",
       "   hemoglobin  operation_nervous  operation_respiratory  \\\n",
       "0         1.0                0.0                    0.0   \n",
       "1         1.0                0.0                    0.0   \n",
       "2         1.0                1.0                    1.0   \n",
       "3         1.0                1.0                    1.0   \n",
       "4         1.0                0.0                    0.0   \n",
       "\n",
       "   operation_cardiovascular  operation_digestive  dialysis  \\\n",
       "0                       1.0                  0.0       0.0   \n",
       "1                       1.0                  0.0       0.0   \n",
       "2                       1.0                  1.0       0.0   \n",
       "3                       1.0                  1.0       0.0   \n",
       "4                       1.0                  0.0       0.0   \n",
       "\n",
       "   intubation_res_gas  num_operations  drg_code  \n",
       "0                 0.0             2.0       439  \n",
       "1                 0.0             2.0      7912  \n",
       "2                 1.0             2.0       001  \n",
       "3                 1.0             2.0      0214  \n",
       "4                 0.0             1.0      8924  \n",
       "\n",
       "[5 rows x 42 columns]"
      ]
     },
     "execution_count": 38,
     "metadata": {},
     "output_type": "execute_result"
    }
   ],
   "source": [
    "q_drg = procedure = \"\"\"\n",
    "SELECT subject_id, hadm_id, drg_code\n",
    "FROM drgcodes;\n",
    "\"\"\"\n",
    "\n",
    "drg = exec_query(q_drg)\n",
    "\n",
    "df_drg = pd.DataFrame(drg, columns=['subjectid', 'hadmid', 'drg_code'])\n",
    "\n",
    "df_readm14 = df_readm13.merge(df_drg, on=['subjectid','hadmid'], how='left')\n",
    "\n",
    "print df_readm14.shape\n",
    "df_readm14.head()"
   ]
  },
  {
   "cell_type": "markdown",
   "metadata": {},
   "source": [
    "## Response Variable\n",
    "### Average ICU LOS\n",
    "Feature (Response): The average length of stay in the ICU (`icustay_id`) for each patient's hospital admission.\n",
    "  * Feature is the response/dependent variable (`y`)"
   ]
  },
  {
   "cell_type": "code",
   "execution_count": 39,
   "metadata": {
    "collapsed": false,
    "scrolled": false
   },
   "outputs": [
    {
     "name": "stdout",
     "output_type": "stream",
     "text": [
      "(14271, 43)\n"
     ]
    },
    {
     "data": {
      "text/html": [
       "<div>\n",
       "<table border=\"1\" class=\"dataframe\">\n",
       "  <thead>\n",
       "    <tr style=\"text-align: right;\">\n",
       "      <th></th>\n",
       "      <th>subjectid</th>\n",
       "      <th>hadmid</th>\n",
       "      <th>icustayid</th>\n",
       "      <th>icu_intime</th>\n",
       "      <th>icu_outtime</th>\n",
       "      <th>readm_days</th>\n",
       "      <th>prev_icustayid</th>\n",
       "      <th>prev_iculos</th>\n",
       "      <th>age</th>\n",
       "      <th>ethnicity</th>\n",
       "      <th>...</th>\n",
       "      <th>hemoglobin</th>\n",
       "      <th>operation_nervous</th>\n",
       "      <th>operation_respiratory</th>\n",
       "      <th>operation_cardiovascular</th>\n",
       "      <th>operation_digestive</th>\n",
       "      <th>dialysis</th>\n",
       "      <th>intubation_res_gas</th>\n",
       "      <th>num_operations</th>\n",
       "      <th>drg_code</th>\n",
       "      <th>icu_los</th>\n",
       "    </tr>\n",
       "  </thead>\n",
       "  <tbody>\n",
       "    <tr>\n",
       "      <th>0</th>\n",
       "      <td>36</td>\n",
       "      <td>122659</td>\n",
       "      <td>211200</td>\n",
       "      <td>2131-05-16 23:18:26</td>\n",
       "      <td>2131-05-23 19:56:11</td>\n",
       "      <td>11.425</td>\n",
       "      <td>280987</td>\n",
       "      <td>1.1096</td>\n",
       "      <td>69</td>\n",
       "      <td>3</td>\n",
       "      <td>...</td>\n",
       "      <td>1</td>\n",
       "      <td>0.0</td>\n",
       "      <td>0.0</td>\n",
       "      <td>1.0</td>\n",
       "      <td>0.0</td>\n",
       "      <td>0.0</td>\n",
       "      <td>0.0</td>\n",
       "      <td>2.0</td>\n",
       "      <td>439</td>\n",
       "      <td>6.8595</td>\n",
       "    </tr>\n",
       "    <tr>\n",
       "      <th>1</th>\n",
       "      <td>36</td>\n",
       "      <td>122659</td>\n",
       "      <td>211200</td>\n",
       "      <td>2131-05-16 23:18:26</td>\n",
       "      <td>2131-05-23 19:56:11</td>\n",
       "      <td>11.425</td>\n",
       "      <td>280987</td>\n",
       "      <td>1.1096</td>\n",
       "      <td>69</td>\n",
       "      <td>3</td>\n",
       "      <td>...</td>\n",
       "      <td>1</td>\n",
       "      <td>0.0</td>\n",
       "      <td>0.0</td>\n",
       "      <td>1.0</td>\n",
       "      <td>0.0</td>\n",
       "      <td>0.0</td>\n",
       "      <td>0.0</td>\n",
       "      <td>2.0</td>\n",
       "      <td>7912</td>\n",
       "      <td>6.8595</td>\n",
       "    </tr>\n",
       "    <tr>\n",
       "      <th>2</th>\n",
       "      <td>41</td>\n",
       "      <td>101757</td>\n",
       "      <td>237024</td>\n",
       "      <td>2133-01-09 12:18:30</td>\n",
       "      <td>2133-01-12 15:51:03</td>\n",
       "      <td>2.845</td>\n",
       "      <td>261027</td>\n",
       "      <td>3.3937</td>\n",
       "      <td>56</td>\n",
       "      <td>3</td>\n",
       "      <td>...</td>\n",
       "      <td>1</td>\n",
       "      <td>1.0</td>\n",
       "      <td>1.0</td>\n",
       "      <td>1.0</td>\n",
       "      <td>1.0</td>\n",
       "      <td>0.0</td>\n",
       "      <td>1.0</td>\n",
       "      <td>2.0</td>\n",
       "      <td>1</td>\n",
       "      <td>3.1476</td>\n",
       "    </tr>\n",
       "    <tr>\n",
       "      <th>3</th>\n",
       "      <td>41</td>\n",
       "      <td>101757</td>\n",
       "      <td>237024</td>\n",
       "      <td>2133-01-09 12:18:30</td>\n",
       "      <td>2133-01-12 15:51:03</td>\n",
       "      <td>2.845</td>\n",
       "      <td>261027</td>\n",
       "      <td>3.3937</td>\n",
       "      <td>56</td>\n",
       "      <td>3</td>\n",
       "      <td>...</td>\n",
       "      <td>1</td>\n",
       "      <td>1.0</td>\n",
       "      <td>1.0</td>\n",
       "      <td>1.0</td>\n",
       "      <td>1.0</td>\n",
       "      <td>0.0</td>\n",
       "      <td>1.0</td>\n",
       "      <td>2.0</td>\n",
       "      <td>214</td>\n",
       "      <td>3.1476</td>\n",
       "    </tr>\n",
       "    <tr>\n",
       "      <th>4</th>\n",
       "      <td>68</td>\n",
       "      <td>170467</td>\n",
       "      <td>225771</td>\n",
       "      <td>2173-12-31 01:52:46</td>\n",
       "      <td>2173-12-31 21:33:34</td>\n",
       "      <td>11.418</td>\n",
       "      <td>294232</td>\n",
       "      <td>3.5368</td>\n",
       "      <td>41</td>\n",
       "      <td>1</td>\n",
       "      <td>...</td>\n",
       "      <td>1</td>\n",
       "      <td>0.0</td>\n",
       "      <td>0.0</td>\n",
       "      <td>1.0</td>\n",
       "      <td>0.0</td>\n",
       "      <td>0.0</td>\n",
       "      <td>0.0</td>\n",
       "      <td>1.0</td>\n",
       "      <td>8924</td>\n",
       "      <td>0.8200</td>\n",
       "    </tr>\n",
       "  </tbody>\n",
       "</table>\n",
       "<p>5 rows × 43 columns</p>\n",
       "</div>"
      ],
      "text/plain": [
       "   subjectid  hadmid  icustayid          icu_intime         icu_outtime  \\\n",
       "0         36  122659     211200 2131-05-16 23:18:26 2131-05-23 19:56:11   \n",
       "1         36  122659     211200 2131-05-16 23:18:26 2131-05-23 19:56:11   \n",
       "2         41  101757     237024 2133-01-09 12:18:30 2133-01-12 15:51:03   \n",
       "3         41  101757     237024 2133-01-09 12:18:30 2133-01-12 15:51:03   \n",
       "4         68  170467     225771 2173-12-31 01:52:46 2173-12-31 21:33:34   \n",
       "\n",
       "   readm_days  prev_icustayid  prev_iculos  age  ethnicity   ...     \\\n",
       "0      11.425          280987       1.1096   69          3   ...      \n",
       "1      11.425          280987       1.1096   69          3   ...      \n",
       "2       2.845          261027       3.3937   56          3   ...      \n",
       "3       2.845          261027       3.3937   56          3   ...      \n",
       "4      11.418          294232       3.5368   41          1   ...      \n",
       "\n",
       "   hemoglobin  operation_nervous  operation_respiratory  \\\n",
       "0           1                0.0                    0.0   \n",
       "1           1                0.0                    0.0   \n",
       "2           1                1.0                    1.0   \n",
       "3           1                1.0                    1.0   \n",
       "4           1                0.0                    0.0   \n",
       "\n",
       "   operation_cardiovascular  operation_digestive  dialysis  \\\n",
       "0                       1.0                  0.0       0.0   \n",
       "1                       1.0                  0.0       0.0   \n",
       "2                       1.0                  1.0       0.0   \n",
       "3                       1.0                  1.0       0.0   \n",
       "4                       1.0                  0.0       0.0   \n",
       "\n",
       "   intubation_res_gas  num_operations  drg_code  icu_los  \n",
       "0                 0.0             2.0       439   6.8595  \n",
       "1                 0.0             2.0      7912   6.8595  \n",
       "2                 1.0             2.0         1   3.1476  \n",
       "3                 1.0             2.0       214   3.1476  \n",
       "4                 0.0             1.0      8924   0.8200  \n",
       "\n",
       "[5 rows x 43 columns]"
      ]
     },
     "execution_count": 39,
     "metadata": {},
     "output_type": "execute_result"
    }
   ],
   "source": [
    "q_iculos = \"\"\"SELECT icustay_id, los \n",
    "FROM icustays;\"\"\"\n",
    "\n",
    "iculos = exec_query(q_iculos)\n",
    "df_iculos = pd.DataFrame(iculos, columns=['icustayid', 'icu_los'])\n",
    "\n",
    "df_icustay_f = pd.merge(df_readm14, df_iculos, on='icustayid', how='left')\n",
    "df_icustay_f.fillna(0, inplace=True)\n",
    "\n",
    "# Convert to integer data type\n",
    "df_icustay_f['prev_icustayid'] = df_icustay_f['prev_icustayid'].astype(int)\n",
    "df_icustay_f['hemoglobin'] = df_icustay_f['hemoglobin'].astype(int)\n",
    "df_icustay_f['drg_code'] = df_icustay_f['drg_code'].astype(int)\n",
    "\n",
    "\n",
    "print df_icustay_f.shape\n",
    "df_icustay_f.head()"
   ]
  },
  {
   "cell_type": "markdown",
   "metadata": {},
   "source": [
    "## Composite Dataset\n",
    "Drop unneeded features that were used for data engineering/feature extraction.\n",
    "  * **`icu_intime`**\n",
    "  * **`icu_outtime`**\n",
    "  * **`prev_icustayid`**"
   ]
  },
  {
   "cell_type": "code",
   "execution_count": 40,
   "metadata": {
    "collapsed": false,
    "scrolled": true
   },
   "outputs": [
    {
     "name": "stdout",
     "output_type": "stream",
     "text": [
      "(14271, 40)\n"
     ]
    },
    {
     "data": {
      "text/html": [
       "<div>\n",
       "<table border=\"1\" class=\"dataframe\">\n",
       "  <thead>\n",
       "    <tr style=\"text-align: right;\">\n",
       "      <th></th>\n",
       "      <th>subjectid</th>\n",
       "      <th>hadmid</th>\n",
       "      <th>icustayid</th>\n",
       "      <th>readm_days</th>\n",
       "      <th>prev_iculos</th>\n",
       "      <th>age</th>\n",
       "      <th>ethnicity</th>\n",
       "      <th>marital_status</th>\n",
       "      <th>insurance</th>\n",
       "      <th>NonEnglish</th>\n",
       "      <th>...</th>\n",
       "      <th>hemoglobin</th>\n",
       "      <th>operation_nervous</th>\n",
       "      <th>operation_respiratory</th>\n",
       "      <th>operation_cardiovascular</th>\n",
       "      <th>operation_digestive</th>\n",
       "      <th>dialysis</th>\n",
       "      <th>intubation_res_gas</th>\n",
       "      <th>num_operations</th>\n",
       "      <th>drg_code</th>\n",
       "      <th>icu_los</th>\n",
       "    </tr>\n",
       "  </thead>\n",
       "  <tbody>\n",
       "    <tr>\n",
       "      <th>0</th>\n",
       "      <td>36</td>\n",
       "      <td>122659</td>\n",
       "      <td>211200</td>\n",
       "      <td>11.425</td>\n",
       "      <td>1.1096</td>\n",
       "      <td>69</td>\n",
       "      <td>3</td>\n",
       "      <td>1</td>\n",
       "      <td>2</td>\n",
       "      <td>0</td>\n",
       "      <td>...</td>\n",
       "      <td>1</td>\n",
       "      <td>0.0</td>\n",
       "      <td>0.0</td>\n",
       "      <td>1.0</td>\n",
       "      <td>0.0</td>\n",
       "      <td>0.0</td>\n",
       "      <td>0.0</td>\n",
       "      <td>2.0</td>\n",
       "      <td>439</td>\n",
       "      <td>6.8595</td>\n",
       "    </tr>\n",
       "    <tr>\n",
       "      <th>1</th>\n",
       "      <td>36</td>\n",
       "      <td>122659</td>\n",
       "      <td>211200</td>\n",
       "      <td>11.425</td>\n",
       "      <td>1.1096</td>\n",
       "      <td>69</td>\n",
       "      <td>3</td>\n",
       "      <td>1</td>\n",
       "      <td>2</td>\n",
       "      <td>0</td>\n",
       "      <td>...</td>\n",
       "      <td>1</td>\n",
       "      <td>0.0</td>\n",
       "      <td>0.0</td>\n",
       "      <td>1.0</td>\n",
       "      <td>0.0</td>\n",
       "      <td>0.0</td>\n",
       "      <td>0.0</td>\n",
       "      <td>2.0</td>\n",
       "      <td>7912</td>\n",
       "      <td>6.8595</td>\n",
       "    </tr>\n",
       "    <tr>\n",
       "      <th>2</th>\n",
       "      <td>41</td>\n",
       "      <td>101757</td>\n",
       "      <td>237024</td>\n",
       "      <td>2.845</td>\n",
       "      <td>3.3937</td>\n",
       "      <td>56</td>\n",
       "      <td>3</td>\n",
       "      <td>0</td>\n",
       "      <td>3</td>\n",
       "      <td>1</td>\n",
       "      <td>...</td>\n",
       "      <td>1</td>\n",
       "      <td>1.0</td>\n",
       "      <td>1.0</td>\n",
       "      <td>1.0</td>\n",
       "      <td>1.0</td>\n",
       "      <td>0.0</td>\n",
       "      <td>1.0</td>\n",
       "      <td>2.0</td>\n",
       "      <td>1</td>\n",
       "      <td>3.1476</td>\n",
       "    </tr>\n",
       "    <tr>\n",
       "      <th>3</th>\n",
       "      <td>41</td>\n",
       "      <td>101757</td>\n",
       "      <td>237024</td>\n",
       "      <td>2.845</td>\n",
       "      <td>3.3937</td>\n",
       "      <td>56</td>\n",
       "      <td>3</td>\n",
       "      <td>0</td>\n",
       "      <td>3</td>\n",
       "      <td>1</td>\n",
       "      <td>...</td>\n",
       "      <td>1</td>\n",
       "      <td>1.0</td>\n",
       "      <td>1.0</td>\n",
       "      <td>1.0</td>\n",
       "      <td>1.0</td>\n",
       "      <td>0.0</td>\n",
       "      <td>1.0</td>\n",
       "      <td>2.0</td>\n",
       "      <td>214</td>\n",
       "      <td>3.1476</td>\n",
       "    </tr>\n",
       "    <tr>\n",
       "      <th>4</th>\n",
       "      <td>68</td>\n",
       "      <td>170467</td>\n",
       "      <td>225771</td>\n",
       "      <td>11.418</td>\n",
       "      <td>3.5368</td>\n",
       "      <td>41</td>\n",
       "      <td>1</td>\n",
       "      <td>0</td>\n",
       "      <td>2</td>\n",
       "      <td>1</td>\n",
       "      <td>...</td>\n",
       "      <td>1</td>\n",
       "      <td>0.0</td>\n",
       "      <td>0.0</td>\n",
       "      <td>1.0</td>\n",
       "      <td>0.0</td>\n",
       "      <td>0.0</td>\n",
       "      <td>0.0</td>\n",
       "      <td>1.0</td>\n",
       "      <td>8924</td>\n",
       "      <td>0.8200</td>\n",
       "    </tr>\n",
       "  </tbody>\n",
       "</table>\n",
       "<p>5 rows × 40 columns</p>\n",
       "</div>"
      ],
      "text/plain": [
       "   subjectid  hadmid  icustayid  readm_days  prev_iculos  age  ethnicity  \\\n",
       "0         36  122659     211200      11.425       1.1096   69          3   \n",
       "1         36  122659     211200      11.425       1.1096   69          3   \n",
       "2         41  101757     237024       2.845       3.3937   56          3   \n",
       "3         41  101757     237024       2.845       3.3937   56          3   \n",
       "4         68  170467     225771      11.418       3.5368   41          1   \n",
       "\n",
       "   marital_status  insurance  NonEnglish   ...     hemoglobin  \\\n",
       "0               1          2           0   ...              1   \n",
       "1               1          2           0   ...              1   \n",
       "2               0          3           1   ...              1   \n",
       "3               0          3           1   ...              1   \n",
       "4               0          2           1   ...              1   \n",
       "\n",
       "   operation_nervous  operation_respiratory  operation_cardiovascular  \\\n",
       "0                0.0                    0.0                       1.0   \n",
       "1                0.0                    0.0                       1.0   \n",
       "2                1.0                    1.0                       1.0   \n",
       "3                1.0                    1.0                       1.0   \n",
       "4                0.0                    0.0                       1.0   \n",
       "\n",
       "   operation_digestive  dialysis  intubation_res_gas  num_operations  \\\n",
       "0                  0.0       0.0                 0.0             2.0   \n",
       "1                  0.0       0.0                 0.0             2.0   \n",
       "2                  1.0       0.0                 1.0             2.0   \n",
       "3                  1.0       0.0                 1.0             2.0   \n",
       "4                  0.0       0.0                 0.0             1.0   \n",
       "\n",
       "   drg_code  icu_los  \n",
       "0       439   6.8595  \n",
       "1      7912   6.8595  \n",
       "2         1   3.1476  \n",
       "3       214   3.1476  \n",
       "4      8924   0.8200  \n",
       "\n",
       "[5 rows x 40 columns]"
      ]
     },
     "execution_count": 40,
     "metadata": {},
     "output_type": "execute_result"
    }
   ],
   "source": [
    "df_icustay_f.drop(['icu_intime', 'icu_outtime', 'prev_icustayid'], axis=1, inplace=True)\n",
    "\n",
    "print df_icustay_f.shape\n",
    "df_icustay_f.head()"
   ]
  },
  {
   "cell_type": "code",
   "execution_count": 41,
   "metadata": {
    "collapsed": false,
    "scrolled": true
   },
   "outputs": [
    {
     "name": "stdout",
     "output_type": "stream",
     "text": [
      "<class 'pandas.core.frame.DataFrame'>\n",
      "Int64Index: 14271 entries, 0 to 14270\n",
      "Data columns (total 40 columns):\n",
      "subjectid                   14271 non-null int64\n",
      "hadmid                      14271 non-null int64\n",
      "icustayid                   14271 non-null int64\n",
      "readm_days                  14271 non-null float64\n",
      "prev_iculos                 14271 non-null float64\n",
      "age                         14271 non-null int64\n",
      "ethnicity                   14271 non-null int64\n",
      "marital_status              14271 non-null int64\n",
      "insurance                   14271 non-null int64\n",
      "NonEnglish                  14271 non-null int64\n",
      "n_icutrav                   14271 non-null int64\n",
      "curr_cu                     14271 non-null int64\n",
      "prev_cu                     14271 non-null int64\n",
      "prev_ICU                    14271 non-null int64\n",
      "disch_cu                    14271 non-null int64\n",
      "disch_ICU                   14271 non-null int64\n",
      "icu_in_day                  14271 non-null int64\n",
      "icu_out_day                 14271 non-null int64\n",
      "readm_risk                  14271 non-null int64\n",
      "nonicu-SICU                 14271 non-null float64\n",
      "nonicu-CSRU                 14271 non-null float64\n",
      "nonicu-MICU                 14271 non-null float64\n",
      "MICU-MICU                   14271 non-null float64\n",
      "nonicu-TSICU                14271 non-null float64\n",
      "nonicu-CCU                  14271 non-null float64\n",
      "TSICU-TSICU                 14271 non-null float64\n",
      "SICU-SICU                   14271 non-null float64\n",
      "CSRU-CSRU                   14271 non-null float64\n",
      "CCU-CCU                     14271 non-null float64\n",
      "surg                        14271 non-null int64\n",
      "hemoglobin                  14271 non-null int64\n",
      "operation_nervous           14271 non-null float64\n",
      "operation_respiratory       14271 non-null float64\n",
      "operation_cardiovascular    14271 non-null float64\n",
      "operation_digestive         14271 non-null float64\n",
      "dialysis                    14271 non-null float64\n",
      "intubation_res_gas          14271 non-null float64\n",
      "num_operations              14271 non-null float64\n",
      "drg_code                    14271 non-null int64\n",
      "icu_los                     14271 non-null float64\n",
      "dtypes: float64(20), int64(20)\n",
      "memory usage: 4.5 MB\n"
     ]
    }
   ],
   "source": [
    "df_icustay_f.info()"
   ]
  },
  {
   "cell_type": "code",
   "execution_count": 42,
   "metadata": {
    "collapsed": false,
    "scrolled": false
   },
   "outputs": [
    {
     "data": {
      "text/html": [
       "<div>\n",
       "<table border=\"1\" class=\"dataframe\">\n",
       "  <thead>\n",
       "    <tr style=\"text-align: right;\">\n",
       "      <th></th>\n",
       "      <th>subjectid</th>\n",
       "      <th>hadmid</th>\n",
       "      <th>icustayid</th>\n",
       "      <th>readm_days</th>\n",
       "      <th>prev_iculos</th>\n",
       "      <th>age</th>\n",
       "      <th>ethnicity</th>\n",
       "      <th>marital_status</th>\n",
       "      <th>insurance</th>\n",
       "      <th>NonEnglish</th>\n",
       "      <th>...</th>\n",
       "      <th>hemoglobin</th>\n",
       "      <th>operation_nervous</th>\n",
       "      <th>operation_respiratory</th>\n",
       "      <th>operation_cardiovascular</th>\n",
       "      <th>operation_digestive</th>\n",
       "      <th>dialysis</th>\n",
       "      <th>intubation_res_gas</th>\n",
       "      <th>num_operations</th>\n",
       "      <th>drg_code</th>\n",
       "      <th>icu_los</th>\n",
       "    </tr>\n",
       "  </thead>\n",
       "  <tbody>\n",
       "    <tr>\n",
       "      <th>count</th>\n",
       "      <td>14271.000000</td>\n",
       "      <td>14271.000000</td>\n",
       "      <td>14271.000000</td>\n",
       "      <td>14271.000000</td>\n",
       "      <td>14271.000000</td>\n",
       "      <td>14271.000000</td>\n",
       "      <td>14271.000000</td>\n",
       "      <td>14271.000000</td>\n",
       "      <td>14271.000000</td>\n",
       "      <td>14271.000000</td>\n",
       "      <td>...</td>\n",
       "      <td>14271.000000</td>\n",
       "      <td>14271.000000</td>\n",
       "      <td>14271.000000</td>\n",
       "      <td>14271.000000</td>\n",
       "      <td>14271.000000</td>\n",
       "      <td>14271.000000</td>\n",
       "      <td>14271.000000</td>\n",
       "      <td>14271.000000</td>\n",
       "      <td>14271.000000</td>\n",
       "      <td>14271.000000</td>\n",
       "    </tr>\n",
       "    <tr>\n",
       "      <th>mean</th>\n",
       "      <td>42435.322122</td>\n",
       "      <td>149910.159554</td>\n",
       "      <td>249568.158924</td>\n",
       "      <td>9.223935</td>\n",
       "      <td>4.914445</td>\n",
       "      <td>64.650060</td>\n",
       "      <td>2.770794</td>\n",
       "      <td>1.383085</td>\n",
       "      <td>2.124518</td>\n",
       "      <td>0.273912</td>\n",
       "      <td>...</td>\n",
       "      <td>0.959288</td>\n",
       "      <td>0.114288</td>\n",
       "      <td>0.235232</td>\n",
       "      <td>0.647747</td>\n",
       "      <td>0.315955</td>\n",
       "      <td>0.145190</td>\n",
       "      <td>0.439212</td>\n",
       "      <td>1.610539</td>\n",
       "      <td>1892.224721</td>\n",
       "      <td>4.810023</td>\n",
       "    </tr>\n",
       "    <tr>\n",
       "      <th>std</th>\n",
       "      <td>29472.624266</td>\n",
       "      <td>28875.852387</td>\n",
       "      <td>28816.201225</td>\n",
       "      <td>7.826954</td>\n",
       "      <td>7.145175</td>\n",
       "      <td>16.363483</td>\n",
       "      <td>0.903597</td>\n",
       "      <td>1.501662</td>\n",
       "      <td>0.668425</td>\n",
       "      <td>0.445980</td>\n",
       "      <td>...</td>\n",
       "      <td>0.197629</td>\n",
       "      <td>0.318172</td>\n",
       "      <td>0.424159</td>\n",
       "      <td>0.477689</td>\n",
       "      <td>0.464912</td>\n",
       "      <td>0.352304</td>\n",
       "      <td>0.496308</td>\n",
       "      <td>0.900338</td>\n",
       "      <td>2402.950210</td>\n",
       "      <td>7.016887</td>\n",
       "    </tr>\n",
       "    <tr>\n",
       "      <th>min</th>\n",
       "      <td>36.000000</td>\n",
       "      <td>100021.000000</td>\n",
       "      <td>200001.000000</td>\n",
       "      <td>0.001000</td>\n",
       "      <td>0.000100</td>\n",
       "      <td>18.000000</td>\n",
       "      <td>0.000000</td>\n",
       "      <td>0.000000</td>\n",
       "      <td>0.000000</td>\n",
       "      <td>0.000000</td>\n",
       "      <td>...</td>\n",
       "      <td>0.000000</td>\n",
       "      <td>0.000000</td>\n",
       "      <td>0.000000</td>\n",
       "      <td>0.000000</td>\n",
       "      <td>0.000000</td>\n",
       "      <td>0.000000</td>\n",
       "      <td>0.000000</td>\n",
       "      <td>0.000000</td>\n",
       "      <td>0.000000</td>\n",
       "      <td>0.000300</td>\n",
       "    </tr>\n",
       "    <tr>\n",
       "      <th>25%</th>\n",
       "      <td>17610.000000</td>\n",
       "      <td>125173.000000</td>\n",
       "      <td>224478.000000</td>\n",
       "      <td>2.846000</td>\n",
       "      <td>1.354300</td>\n",
       "      <td>54.000000</td>\n",
       "      <td>3.000000</td>\n",
       "      <td>0.000000</td>\n",
       "      <td>2.000000</td>\n",
       "      <td>0.000000</td>\n",
       "      <td>...</td>\n",
       "      <td>1.000000</td>\n",
       "      <td>0.000000</td>\n",
       "      <td>0.000000</td>\n",
       "      <td>0.000000</td>\n",
       "      <td>0.000000</td>\n",
       "      <td>0.000000</td>\n",
       "      <td>0.000000</td>\n",
       "      <td>1.000000</td>\n",
       "      <td>240.500000</td>\n",
       "      <td>1.389500</td>\n",
       "    </tr>\n",
       "    <tr>\n",
       "      <th>50%</th>\n",
       "      <td>31683.000000</td>\n",
       "      <td>149685.000000</td>\n",
       "      <td>249532.000000</td>\n",
       "      <td>6.323000</td>\n",
       "      <td>2.542200</td>\n",
       "      <td>66.000000</td>\n",
       "      <td>3.000000</td>\n",
       "      <td>1.000000</td>\n",
       "      <td>2.000000</td>\n",
       "      <td>0.000000</td>\n",
       "      <td>...</td>\n",
       "      <td>1.000000</td>\n",
       "      <td>0.000000</td>\n",
       "      <td>0.000000</td>\n",
       "      <td>1.000000</td>\n",
       "      <td>0.000000</td>\n",
       "      <td>0.000000</td>\n",
       "      <td>0.000000</td>\n",
       "      <td>1.000000</td>\n",
       "      <td>870.000000</td>\n",
       "      <td>2.588700</td>\n",
       "    </tr>\n",
       "    <tr>\n",
       "      <th>75%</th>\n",
       "      <td>67735.000000</td>\n",
       "      <td>174918.000000</td>\n",
       "      <td>274307.000000</td>\n",
       "      <td>14.067500</td>\n",
       "      <td>5.085900</td>\n",
       "      <td>78.000000</td>\n",
       "      <td>3.000000</td>\n",
       "      <td>2.000000</td>\n",
       "      <td>3.000000</td>\n",
       "      <td>1.000000</td>\n",
       "      <td>...</td>\n",
       "      <td>1.000000</td>\n",
       "      <td>0.000000</td>\n",
       "      <td>0.000000</td>\n",
       "      <td>1.000000</td>\n",
       "      <td>1.000000</td>\n",
       "      <td>0.000000</td>\n",
       "      <td>1.000000</td>\n",
       "      <td>2.000000</td>\n",
       "      <td>2234.000000</td>\n",
       "      <td>5.104150</td>\n",
       "    </tr>\n",
       "    <tr>\n",
       "      <th>max</th>\n",
       "      <td>99865.000000</td>\n",
       "      <td>199958.000000</td>\n",
       "      <td>299994.000000</td>\n",
       "      <td>29.997000</td>\n",
       "      <td>116.832700</td>\n",
       "      <td>100.000000</td>\n",
       "      <td>5.000000</td>\n",
       "      <td>6.000000</td>\n",
       "      <td>4.000000</td>\n",
       "      <td>1.000000</td>\n",
       "      <td>...</td>\n",
       "      <td>1.000000</td>\n",
       "      <td>1.000000</td>\n",
       "      <td>1.000000</td>\n",
       "      <td>1.000000</td>\n",
       "      <td>1.000000</td>\n",
       "      <td>1.000000</td>\n",
       "      <td>1.000000</td>\n",
       "      <td>3.000000</td>\n",
       "      <td>9524.000000</td>\n",
       "      <td>173.072500</td>\n",
       "    </tr>\n",
       "  </tbody>\n",
       "</table>\n",
       "<p>8 rows × 40 columns</p>\n",
       "</div>"
      ],
      "text/plain": [
       "          subjectid         hadmid      icustayid    readm_days   prev_iculos  \\\n",
       "count  14271.000000   14271.000000   14271.000000  14271.000000  14271.000000   \n",
       "mean   42435.322122  149910.159554  249568.158924      9.223935      4.914445   \n",
       "std    29472.624266   28875.852387   28816.201225      7.826954      7.145175   \n",
       "min       36.000000  100021.000000  200001.000000      0.001000      0.000100   \n",
       "25%    17610.000000  125173.000000  224478.000000      2.846000      1.354300   \n",
       "50%    31683.000000  149685.000000  249532.000000      6.323000      2.542200   \n",
       "75%    67735.000000  174918.000000  274307.000000     14.067500      5.085900   \n",
       "max    99865.000000  199958.000000  299994.000000     29.997000    116.832700   \n",
       "\n",
       "                age     ethnicity  marital_status     insurance    NonEnglish  \\\n",
       "count  14271.000000  14271.000000    14271.000000  14271.000000  14271.000000   \n",
       "mean      64.650060      2.770794        1.383085      2.124518      0.273912   \n",
       "std       16.363483      0.903597        1.501662      0.668425      0.445980   \n",
       "min       18.000000      0.000000        0.000000      0.000000      0.000000   \n",
       "25%       54.000000      3.000000        0.000000      2.000000      0.000000   \n",
       "50%       66.000000      3.000000        1.000000      2.000000      0.000000   \n",
       "75%       78.000000      3.000000        2.000000      3.000000      1.000000   \n",
       "max      100.000000      5.000000        6.000000      4.000000      1.000000   \n",
       "\n",
       "           ...         hemoglobin  operation_nervous  operation_respiratory  \\\n",
       "count      ...       14271.000000       14271.000000           14271.000000   \n",
       "mean       ...           0.959288           0.114288               0.235232   \n",
       "std        ...           0.197629           0.318172               0.424159   \n",
       "min        ...           0.000000           0.000000               0.000000   \n",
       "25%        ...           1.000000           0.000000               0.000000   \n",
       "50%        ...           1.000000           0.000000               0.000000   \n",
       "75%        ...           1.000000           0.000000               0.000000   \n",
       "max        ...           1.000000           1.000000               1.000000   \n",
       "\n",
       "       operation_cardiovascular  operation_digestive      dialysis  \\\n",
       "count              14271.000000         14271.000000  14271.000000   \n",
       "mean                   0.647747             0.315955      0.145190   \n",
       "std                    0.477689             0.464912      0.352304   \n",
       "min                    0.000000             0.000000      0.000000   \n",
       "25%                    0.000000             0.000000      0.000000   \n",
       "50%                    1.000000             0.000000      0.000000   \n",
       "75%                    1.000000             1.000000      0.000000   \n",
       "max                    1.000000             1.000000      1.000000   \n",
       "\n",
       "       intubation_res_gas  num_operations      drg_code       icu_los  \n",
       "count        14271.000000    14271.000000  14271.000000  14271.000000  \n",
       "mean             0.439212        1.610539   1892.224721      4.810023  \n",
       "std              0.496308        0.900338   2402.950210      7.016887  \n",
       "min              0.000000        0.000000      0.000000      0.000300  \n",
       "25%              0.000000        1.000000    240.500000      1.389500  \n",
       "50%              0.000000        1.000000    870.000000      2.588700  \n",
       "75%              1.000000        2.000000   2234.000000      5.104150  \n",
       "max              1.000000        3.000000   9524.000000    173.072500  \n",
       "\n",
       "[8 rows x 40 columns]"
      ]
     },
     "execution_count": 42,
     "metadata": {},
     "output_type": "execute_result"
    }
   ],
   "source": [
    "df_icustay_f.describe()"
   ]
  },
  {
   "cell_type": "markdown",
   "metadata": {},
   "source": [
    "### Correlation Heatmap\n",
    "Pearson Correlation (linear relationship) between the target (`icu_los`) and explanatory variables. Those with a correlation coefficient of `NaN` indiciate that there is not much variation."
   ]
  },
  {
   "cell_type": "code",
   "execution_count": 173,
   "metadata": {
    "collapsed": false
   },
   "outputs": [
    {
     "data": {
      "image/png": "[encoded data removed]",
      "text/plain": [
       "<matplotlib.figure.Figure at 0x7f5fe6ad1d50>"
      ]
     },
     "metadata": {},
     "output_type": "display_data"
    }
   ],
   "source": [
    "plt.figure(figsize=(5,7))\n",
    "data_pcorr = df_icustay_f.corr() # Pearson's correlation\n",
    "cmap = sns.diverging_palette(10, 220, as_cmap=True) # heatmap colorm map\n",
    "sns.heatmap(data_pcorr[['icu_los']], annot=True, cmap = cmap, \n",
    "            linewidths=0.3)\n",
    "plt.show()"
   ]
  },
  {
   "cell_type": "markdown",
   "metadata": {},
   "source": [
    "# Predictive Modeling\n",
    "Array of Random Forest sub-models tailored to disease groups."
   ]
  },
  {
   "cell_type": "code",
   "execution_count": 50,
   "metadata": {
    "collapsed": false,
    "scrolled": true
   },
   "outputs": [],
   "source": [
    "am_debugging = True\n",
    "if am_debugging:\n",
    "    np.random.seed(2)\n",
    "else:\n",
    "    np.random.seed()"
   ]
  },
  {
   "cell_type": "code",
   "execution_count": 51,
   "metadata": {
    "collapsed": true
   },
   "outputs": [],
   "source": [
    "def rf_gridsearch(X_train, X_test, y_train):\n",
    "    # Parameter Grid - dictionary of parameters (map parameter names to values to be searched)\n",
    "    param_grid = [\n",
    "        {'n_estimators': [1, 2, 3, 4, 5, 6, 7, 8, 9, 10], \n",
    "         'criterion': ['mse', 'mae']}\n",
    "    ]\n",
    "\n",
    "    rfr = RandomForestRegressor(random_state=2\n",
    "#                                 , n_jobs=-1\n",
    "                               ) # AWS unable to do parallel computing\n",
    "\n",
    "    # Grid search to find \"best\" random forest classifier -- Hyperparameters Optimization\n",
    "    clf = grid_search.GridSearchCV(rfr, param_grid)  # classifier + optimal parameters\n",
    "    clf = clf.fit(X_train, y_train)  # fitted classifier -- Training Set\n",
    "    best_est = clf.best_estimator_\n",
    "    clf_pred = best_est.predict(X_test)  # apply classifier on test set for label predictions\n",
    "    params = clf.best_params_  # optimal parameters\n",
    "    score = clf.best_score_  # best grid score\n",
    "    imp = best_est.feature_importances_\n",
    "    return (best_est, clf_pred, params, score, imp)"
   ]
  },
  {
   "cell_type": "markdown",
   "metadata": {},
   "source": [
    "## Heart (Cardiovascular) Diseases\n",
    "### Cardiovascular Disease - Surgical"
   ]
  },
  {
   "cell_type": "code",
   "execution_count": 52,
   "metadata": {
    "collapsed": false
   },
   "outputs": [
    {
     "data": {
      "text/plain": [
       "(2579, 40)"
      ]
     },
     "execution_count": 52,
     "metadata": {},
     "output_type": "execute_result"
    }
   ],
   "source": [
    "q_cardio = procedure = \"\"\"\n",
    "SELECT drg_code\n",
    "FROM drgcodes\n",
    "WHERE LOWER(description) LIKE '%with acute myocardial infarction%' OR\n",
    "LOWER(description) LIKE '%heart failure%' OR\n",
    "LOWER(description) LIKE '%coronary bypass%' OR\n",
    "LOWER(description) LIKE '%cardiac%' OR\n",
    "LOWER(description) LIKE '%heart transplant%' OR\n",
    "LOWER(description) LIKE '%cardiothoracic%' OR\n",
    "LOWER(description) LIKE '%percutaneous cardiovascular procedure%'\n",
    "GROUP BY drg_code;\n",
    "\"\"\"\n",
    "\n",
    "cdv = exec_query(q_cardio)\n",
    "cdv = np.array(cdv).flatten().astype(int)\n",
    "\n",
    "df_icustay_cdv = df_icustay_f[df_icustay_f['drg_code'].isin(cdv)]\n",
    "df_icustay_cdv.shape"
   ]
  },
  {
   "cell_type": "code",
   "execution_count": 53,
   "metadata": {
    "collapsed": false
   },
   "outputs": [
    {
     "data": {
      "text/plain": [
       "count    2579.000000\n",
       "mean        3.802191\n",
       "std         4.340727\n",
       "min         0.001400\n",
       "25%         1.311000\n",
       "50%         2.380700\n",
       "75%         4.344800\n",
       "max        58.798700\n",
       "Name: icu_los, dtype: float64"
      ]
     },
     "execution_count": 53,
     "metadata": {},
     "output_type": "execute_result"
    }
   ],
   "source": [
    "df_icustay_cdv['icu_los'].describe()"
   ]
  },
  {
   "cell_type": "code",
   "execution_count": 54,
   "metadata": {
    "collapsed": false
   },
   "outputs": [
    {
     "data": {
      "text/plain": [
       "<matplotlib.axes._subplots.AxesSubplot at 0x7f6000669cd0>"
      ]
     },
     "execution_count": 54,
     "metadata": {},
     "output_type": "execute_result"
    },
    {
     "data": {
      "image/png": "[encoded data removed]",
      "text/plain": [
       "<matplotlib.figure.Figure at 0x7f6001aeb450>"
      ]
     },
     "metadata": {},
     "output_type": "display_data"
    }
   ],
   "source": [
    "df_icustay_cdv['icu_los'].plot(kind='box', ylim=[0, 15])"
   ]
  },
  {
   "cell_type": "markdown",
   "metadata": {},
   "source": [
    "#### Partition: Training & Testing Sets"
   ]
  },
  {
   "cell_type": "code",
   "execution_count": 55,
   "metadata": {
    "collapsed": true
   },
   "outputs": [],
   "source": [
    "def data_partition(data, train_thres=0.75):\n",
    "    \"\"\"\n",
    "    Helper function identifying indices for each record to be a part of the\n",
    "    training set. The quantity of a given subject's set of records is determined\n",
    "    by the training threshold.\n",
    "    \n",
    "    :param data: pandas DataFrame\n",
    "    :param train_thres: float indicating threshold\n",
    "    :return: list of training indices\n",
    "    \"\"\"\n",
    "    if train_thres > 0.83:\n",
    "        return \"This helper function is not appropriate for training threshold > 83%.\"\n",
    "    \n",
    "    idx_lst = []\n",
    "    subj_count = dict(Counter(data.subjectid))\n",
    "    sid_lst = list(data.subjectid.value_counts().index.sort_values(ascending=True))\n",
    "    for sid in sid_lst:\n",
    "        idx_min = data['subjectid'][data.subjectid == sid].idxmin() # find first index for each subject\n",
    "        if subj_count[sid] > 2:\n",
    "            end_idx = idx_min + int(np.round(subj_count[sid] * train_thres))\n",
    "            idx_lst += range(idx_min, end_idx) # list of index for each subject\n",
    "        else:\n",
    "            idx_lst += [idx_min]\n",
    "    return idx_lst"
   ]
  },
  {
   "cell_type": "code",
   "execution_count": 56,
   "metadata": {
    "collapsed": false
   },
   "outputs": [
    {
     "data": {
      "text/plain": [
       "((1842, 40), (786, 40))"
      ]
     },
     "execution_count": 56,
     "metadata": {},
     "output_type": "execute_result"
    }
   ],
   "source": [
    "data = df_icustay_cdv.copy()\n",
    "\n",
    "train_idx = data_partition(data, 0.80) # training set indices\n",
    "train_data = data.ix[train_idx]\n",
    "test_idx = data.index[data.index.isin(train_idx)==False] # test set indices\n",
    "test_data = data.ix[test_idx]\n",
    "\n",
    "train_data.shape, test_data.shape"
   ]
  },
  {
   "cell_type": "markdown",
   "metadata": {},
   "source": [
    "#### Drop Arbitrary Identifiers\n",
    "Drop `subjectid`, `hadmid`, and `icustayid` that serve only for the purpose of identification."
   ]
  },
  {
   "cell_type": "code",
   "execution_count": 57,
   "metadata": {
    "collapsed": false
   },
   "outputs": [],
   "source": [
    "train_data.drop(['subjectid','hadmid', 'icustayid'], axis=1, inplace=True)\n",
    "test_data.drop(['subjectid','hadmid', 'icustayid'], axis=1, inplace=True)\n",
    "\n",
    "train_data.dropna(inplace=True)\n",
    "test_data.dropna(inplace=True)"
   ]
  },
  {
   "cell_type": "code",
   "execution_count": 58,
   "metadata": {
    "collapsed": false
   },
   "outputs": [
    {
     "data": {
      "text/plain": [
       "((1793, 36), (786, 36), (1793,), (786,))"
      ]
     },
     "execution_count": 58,
     "metadata": {},
     "output_type": "execute_result"
    }
   ],
   "source": [
    "X_train = train_data.iloc[:, :-1]\n",
    "X_test = test_data.iloc[:, :-1]\n",
    "y_train = np.array(train_data.iloc[:, -1])\n",
    "y_test = np.array(test_data.iloc[:, -1])\n",
    "X_train.shape, X_test.shape, y_train.shape, y_test.shape"
   ]
  },
  {
   "cell_type": "markdown",
   "metadata": {},
   "source": [
    "#### Normalization"
   ]
  },
  {
   "cell_type": "code",
   "execution_count": 59,
   "metadata": {
    "collapsed": false
   },
   "outputs": [
    {
     "data": {
      "text/plain": [
       "((1793, 36), (786, 36), (1793,), (786,))"
      ]
     },
     "execution_count": 59,
     "metadata": {},
     "output_type": "execute_result"
    }
   ],
   "source": [
    "scaler = StandardScaler().fit(X_train) # scaler object fitted to training set\n",
    "\n",
    "# Transform\n",
    "scaled_X_train = scaler.transform(X_train)\n",
    "scaled_X_test = scaler.transform(X_test)\n",
    "\n",
    "scaled_X_train.shape, scaled_X_test.shape, y_train.shape, y_test.shape"
   ]
  },
  {
   "cell_type": "markdown",
   "metadata": {},
   "source": [
    "### Model: Random Forest\n",
    "\n",
    "#### Criterion\n",
    "  1. **mse**: mean squared error\n",
    "  2. **mae**: mean absolute error"
   ]
  },
  {
   "cell_type": "code",
   "execution_count": 60,
   "metadata": {
    "collapsed": false
   },
   "outputs": [
    {
     "name": "stdout",
     "output_type": "stream",
     "text": [
      "Best Parameters:  {'n_estimators': 10, 'criterion': 'mse'}\n",
      "Best Grid Search Score:  -0.0187191624124\n",
      "Best Estimator:  RandomForestRegressor(bootstrap=True, criterion='mse', max_depth=None,\n",
      "           max_features='auto', max_leaf_nodes=None,\n",
      "           min_impurity_split=1e-07, min_samples_leaf=1,\n",
      "           min_samples_split=2, min_weight_fraction_leaf=0.0,\n",
      "           n_estimators=10, n_jobs=1, oob_score=False, random_state=2,\n",
      "           verbose=0, warm_start=False)\n"
     ]
    }
   ],
   "source": [
    "rf_model, rf_pred, rf_p, rf_score, rf_imp = rf_gridsearch(scaled_X_train, scaled_X_test, y_train)\n",
    "print \"Best Parameters: \", rf_p\n",
    "print \"Best Grid Search Score: \", rf_score\n",
    "print \"Best Estimator: \", rf_model"
   ]
  },
  {
   "cell_type": "markdown",
   "metadata": {},
   "source": [
    "### Metrics\n",
    "\n",
    "#### Root Mean Squared Error (RMSE)\n",
    "Indicates the *absolute fit* of the model to the data. In other words, how close the observed data points are to the model's predicted values.\n",
    "\n",
    "Also, it is the standard deviation of unexplained variance (residuals)."
   ]
  },
  {
   "cell_type": "code",
   "execution_count": 61,
   "metadata": {
    "collapsed": false
   },
   "outputs": [
    {
     "name": "stdout",
     "output_type": "stream",
     "text": [
      "RMSE = 2.432 days\n"
     ]
    }
   ],
   "source": [
    "print \"RMSE = %.3f days\" % np.sqrt(mean_squared_error(y_test, rf_pred))"
   ]
  },
  {
   "cell_type": "code",
   "execution_count": 62,
   "metadata": {
    "collapsed": false
   },
   "outputs": [
    {
     "name": "stdout",
     "output_type": "stream",
     "text": [
      "[0.00,58.80]\n"
     ]
    }
   ],
   "source": [
    "print \"[%.2f,%.2f]\" % (y_test.min(), y_test.max())"
   ]
  },
  {
   "cell_type": "markdown",
   "metadata": {},
   "source": [
    "#### Mean Absolute Error\n",
    "The Mean Absolute Error measures how close the model's predictions are to the observed values."
   ]
  },
  {
   "cell_type": "code",
   "execution_count": 63,
   "metadata": {
    "collapsed": false,
    "scrolled": true
   },
   "outputs": [
    {
     "name": "stdout",
     "output_type": "stream",
     "text": [
      " MAE = 1.334\n"
     ]
    }
   ],
   "source": [
    "print \" MAE = %.3f\" % mean_absolute_error(y_test, rf_pred)"
   ]
  },
  {
   "cell_type": "markdown",
   "metadata": {},
   "source": [
    "#### R<sup>2</sup>: Coefficient of Determination\n",
    "R<sup>2</sup> quantifies the goodness of fit of the linear model. More specifically, it depicts the predictive power of the model.\n",
    "\n",
    "Range: [0, 1]"
   ]
  },
  {
   "cell_type": "code",
   "execution_count": 64,
   "metadata": {
    "collapsed": false,
    "scrolled": true
   },
   "outputs": [
    {
     "name": "stdout",
     "output_type": "stream",
     "text": [
      "r2 = 0.710\n"
     ]
    }
   ],
   "source": [
    "print \"r2 = %.3f\" % r2_score(y_test, rf_pred)"
   ]
  },
  {
   "cell_type": "markdown",
   "metadata": {},
   "source": [
    "### Prediction Comparison"
   ]
  },
  {
   "cell_type": "code",
   "execution_count": 171,
   "metadata": {
    "collapsed": false
   },
   "outputs": [
    {
     "data": {
      "image/png": "[encoded data removed]",
      "text/plain": [
       "<matplotlib.figure.Figure at 0x7f5fe5dd0e90>"
      ]
     },
     "metadata": {},
     "output_type": "display_data"
    }
   ],
   "source": [
    "x_lim = [0,50]\n",
    "y_lim = [0,750]\n",
    "\n",
    "plt.figure(figsize=(10, 4))\n",
    "plt.subplot(1,2,1)\n",
    "plt.hist(np.round(y_test), bins=12, color='b')\n",
    "plt.title(\"True (y-test)\")\n",
    "plt.xlabel('ICU LOS (days)')\n",
    "plt.ylabel('Frequency')\n",
    "plt.xlim(x_lim)\n",
    "plt.ylim(y_lim)\n",
    "plt.legend(loc='upper right')\n",
    "\n",
    "plt.subplot(1,2,2)\n",
    "plt.hist(np.round(rf_pred), bins=8, color='g')\n",
    "plt.title(\"Model\")\n",
    "plt.xlabel('ICU LOS (days)')\n",
    "plt.xlim(x_lim)\n",
    "plt.ylim(y_lim)\n",
    "plt.legend(loc='upper right')\n",
    "\n",
    "plt.suptitle('Histogram: Response (Models vs. True) \\n Heart Diseases')\n",
    "\n",
    "plt.show()"
   ]
  },
  {
   "cell_type": "markdown",
   "metadata": {},
   "source": [
    "### Error Visualization: MAE"
   ]
  },
  {
   "cell_type": "code",
   "execution_count": 198,
   "metadata": {
    "collapsed": false
   },
   "outputs": [
    {
     "data": {
      "image/png": "[encoded data removed]",
      "text/plain": [
       "<matplotlib.figure.Figure at 0x7f5fe62bd650>"
      ]
     },
     "metadata": {},
     "output_type": "display_data"
    }
   ],
   "source": [
    "df_rfpred = pd.Series(rf_pred, name=\"pred\").round()\n",
    "df_true = pd.Series(y_test, name = \"true\").round()\n",
    "\n",
    "df_rfresults = pd.concat([df_true, df_rfpred], axis=1)\n",
    "rf_residual = pd.Series(df_rfresults['true'].sub(df_rfresults['pred'], axis=0).abs(), name='resid')\n",
    "df_rfresults = pd.concat([df_rfresults, rf_residual], axis=1)\n",
    "\n",
    "rf_errort = df_rfresults[['true', 'pred']].groupby('true').agg([np.mean, np.median, np.std, np.max, np.min, 'count'])\n",
    "\n",
    "# Error Plot\n",
    "plt.subplots(1,1,figsize=(15,9))\n",
    "\n",
    "# # error bar - range\n",
    "# plt.bar(left=[i for i in rf_errort.index.tolist()], \n",
    "#         height=rf_errort[['pred']].values[:,3] - rf_errort[['pred']].values[:,4], # range (max-min)\n",
    "#         width=0.8, \n",
    "#         bottom=rf_errort[['pred']].values[:,4], # min\n",
    "#         color='b', alpha=0.3, align='center', orientation='vertical') \n",
    "\n",
    "\n",
    "plt.bar(left=[i for i in rf_errort.index.tolist()], \n",
    "        height=[0]*len(rf_errort), \n",
    "        width=0.8, \n",
    "        bottom=rf_errort[['pred']].values[:,0], # mean of predictions\n",
    "        linewidth=5, edgecolor='r', align='center',\n",
    "        yerr=rf_errort[['pred']].values[:,2] / rf_errort[['pred']].values[:,-1] ** 0.5,  # error: standard deviation\n",
    "        orientation='vertical',\n",
    "        error_kw=dict(ecolor='blue', lw=2, capsize=5, capthick=2))\n",
    "    \n",
    "plt.xlabel('True LOS')\n",
    "plt.xticks(rf_errort.index)\n",
    "plt.yticks(rf_errort.index)\n",
    "plt.ylabel('Predicted LOS')\n",
    "plt.xlim([-1,20.5])\n",
    "plt.ylim([0,20])\n",
    "plt.title('Mean Absolute Error \\n Heart Disease')\n",
    "\n",
    "# plt.gca().set_axis_bgcolor('white')\n",
    "\n",
    "plt.show()"
   ]
  },
  {
   "cell_type": "markdown",
   "metadata": {},
   "source": [
    "## Respiratory Systems\n",
    "### Respiratory Systems - Surgical"
   ]
  },
  {
   "cell_type": "code",
   "execution_count": 66,
   "metadata": {
    "collapsed": false
   },
   "outputs": [
    {
     "data": {
      "text/plain": [
       "(261, 40)"
      ]
     },
     "execution_count": 66,
     "metadata": {},
     "output_type": "execute_result"
    }
   ],
   "source": [
    "q_resp_surg = \"\"\"\n",
    "SELECT drg_code, description\n",
    "FROM drgcodes\n",
    "WHERE LOWER(description) LIKE ANY \n",
    "        (array['%major chest%', '%pulmonary%', '%respiratory%', '%pneumonia%', '%asthma%'])\n",
    "    AND LOWER(description) LIKE '%proc%'\n",
    "GROUP BY drg_code, description;\n",
    "\"\"\"\n",
    "resp_surg = exec_query(q_resp_surg)\n",
    "resp_surg_df = pd.DataFrame(resp_surg, columns=['code', 'desc'])\n",
    "resp_surg_lst = resp_surg_df['code'].values.astype(int)\n",
    "\n",
    "df_icustay_resp_surg = df_icustay_f[df_icustay_f['drg_code'].isin(resp_surg_lst)]\n",
    "df_icustay_resp_surg.shape"
   ]
  },
  {
   "cell_type": "code",
   "execution_count": 67,
   "metadata": {
    "collapsed": false
   },
   "outputs": [
    {
     "data": {
      "text/plain": [
       "count    261.000000\n",
       "mean       5.478103\n",
       "std        7.544074\n",
       "min        0.077400\n",
       "25%        1.855500\n",
       "50%        3.141200\n",
       "75%        5.618800\n",
       "max       47.531600\n",
       "Name: icu_los, dtype: float64"
      ]
     },
     "execution_count": 67,
     "metadata": {},
     "output_type": "execute_result"
    }
   ],
   "source": [
    "df_icustay_resp_surg['icu_los'].describe()"
   ]
  },
  {
   "cell_type": "code",
   "execution_count": 68,
   "metadata": {
    "collapsed": false
   },
   "outputs": [
    {
     "data": {
      "text/plain": [
       "<matplotlib.axes._subplots.AxesSubplot at 0x7f5fe6a99310>"
      ]
     },
     "execution_count": 68,
     "metadata": {},
     "output_type": "execute_result"
    },
    {
     "data": {
      "image/png": "[encoded data removed]",
      "text/plain": [
       "<matplotlib.figure.Figure at 0x7f5fe688c110>"
      ]
     },
     "metadata": {},
     "output_type": "display_data"
    }
   ],
   "source": [
    "df_icustay_resp_surg['icu_los'].plot(kind='box', ylim=[0, 15])"
   ]
  },
  {
   "cell_type": "markdown",
   "metadata": {},
   "source": [
    "#### Partition: Training & Testing Sets"
   ]
  },
  {
   "cell_type": "code",
   "execution_count": 69,
   "metadata": {
    "collapsed": false
   },
   "outputs": [
    {
     "data": {
      "text/plain": [
       "((180, 40), (86, 40))"
      ]
     },
     "execution_count": 69,
     "metadata": {},
     "output_type": "execute_result"
    }
   ],
   "source": [
    "data1 = df_icustay_resp_surg.copy()\n",
    "\n",
    "train_idx1 = data_partition(data1, 0.80)\n",
    "train_data1 = data1.ix[train_idx1]\n",
    "test_idx1 = data1.index[data1.index.isin(train_idx1)==False]\n",
    "test_data1 = data1.ix[test_idx1]\n",
    "\n",
    "train_data1.shape, test_data1.shape"
   ]
  },
  {
   "cell_type": "markdown",
   "metadata": {},
   "source": [
    "#### Drop Arbitrary Identifiers\n",
    "Drop `subjectid`, `hadmid`, and `icustayid` that serve only for the purpose of identification."
   ]
  },
  {
   "cell_type": "code",
   "execution_count": 70,
   "metadata": {
    "collapsed": false
   },
   "outputs": [],
   "source": [
    "train_data1.drop(['subjectid','hadmid', 'icustayid'], axis=1, inplace=True)\n",
    "test_data1.drop(['subjectid','hadmid', 'icustayid'], axis=1, inplace=True)\n",
    "\n",
    "train_data1.dropna(inplace=True)\n",
    "test_data1.dropna(inplace=True)"
   ]
  },
  {
   "cell_type": "code",
   "execution_count": 71,
   "metadata": {
    "collapsed": false
   },
   "outputs": [
    {
     "data": {
      "text/plain": [
       "((175, 36), (86, 36), (175,), (86,))"
      ]
     },
     "execution_count": 71,
     "metadata": {},
     "output_type": "execute_result"
    }
   ],
   "source": [
    "X_train1 = train_data1.iloc[:, :-1]\n",
    "X_test1 = test_data1.iloc[:, :-1]\n",
    "y_train1 = np.array(train_data1.iloc[:, -1])\n",
    "y_test1 = np.array(test_data1.iloc[:, -1])\n",
    "X_train1.shape, X_test1.shape, y_train1.shape, y_test1.shape"
   ]
  },
  {
   "cell_type": "markdown",
   "metadata": {},
   "source": [
    "#### Normalization"
   ]
  },
  {
   "cell_type": "code",
   "execution_count": 72,
   "metadata": {
    "collapsed": false
   },
   "outputs": [
    {
     "data": {
      "text/plain": [
       "((175, 36), (86, 36), (175,), (86,))"
      ]
     },
     "execution_count": 72,
     "metadata": {},
     "output_type": "execute_result"
    }
   ],
   "source": [
    "scaler1 = StandardScaler().fit(X_train1) # scaler object fitted to training set\n",
    "\n",
    "# Transform\n",
    "scaled_X_train1 = scaler1.transform(X_train1)\n",
    "scaled_X_test1 = scaler1.transform(X_test1)\n",
    "\n",
    "scaled_X_train1.shape, scaled_X_test1.shape, y_train1.shape, y_test1.shape"
   ]
  },
  {
   "cell_type": "markdown",
   "metadata": {},
   "source": [
    "### Model: Random Forest\n",
    "\n",
    "#### Criterion\n",
    "  1. **mse**: mean squared error\n",
    "  2. **mae**: mean absolute error"
   ]
  },
  {
   "cell_type": "code",
   "execution_count": 73,
   "metadata": {
    "collapsed": false
   },
   "outputs": [
    {
     "name": "stdout",
     "output_type": "stream",
     "text": [
      "Best Parameters:  {'n_estimators': 10, 'criterion': 'mse'}\n",
      "Best Grid Search Score:  -0.592711108748\n",
      "Best Estimator:  RandomForestRegressor(bootstrap=True, criterion='mse', max_depth=None,\n",
      "           max_features='auto', max_leaf_nodes=None,\n",
      "           min_impurity_split=1e-07, min_samples_leaf=1,\n",
      "           min_samples_split=2, min_weight_fraction_leaf=0.0,\n",
      "           n_estimators=10, n_jobs=1, oob_score=False, random_state=2,\n",
      "           verbose=0, warm_start=False)\n"
     ]
    }
   ],
   "source": [
    "rf_model1, rf_pred1, rf_p1, rf_score1, rf_imp1 = rf_gridsearch(scaled_X_train1, scaled_X_test1, y_train1)\n",
    "print \"Best Parameters: \", rf_p1\n",
    "print \"Best Grid Search Score: \", rf_score1\n",
    "print \"Best Estimator: \", rf_model1"
   ]
  },
  {
   "cell_type": "markdown",
   "metadata": {},
   "source": [
    "### Metrics\n",
    "\n",
    "#### Root Mean Squared Error (RMSE)\n",
    "Indicates the *absolute fit* of the model to the data. In other words, how close the observed data points are to the model's predicted values.\n",
    "\n",
    "Also, it is the standard deviation of unexplained variance (residuals)."
   ]
  },
  {
   "cell_type": "code",
   "execution_count": 74,
   "metadata": {
    "collapsed": false
   },
   "outputs": [
    {
     "name": "stdout",
     "output_type": "stream",
     "text": [
      "RMSE = 2.586 days\n"
     ]
    }
   ],
   "source": [
    "print \"RMSE = %.3f days\" % np.sqrt(mean_squared_error(y_test1, rf_pred1))"
   ]
  },
  {
   "cell_type": "code",
   "execution_count": 75,
   "metadata": {
    "collapsed": false
   },
   "outputs": [
    {
     "name": "stdout",
     "output_type": "stream",
     "text": [
      "[0.08,47.53]\n"
     ]
    }
   ],
   "source": [
    "print \"[%.2f,%.2f]\" % (y_test1.min(), y_test1.max())"
   ]
  },
  {
   "cell_type": "markdown",
   "metadata": {},
   "source": [
    "#### Mean Absolute Error\n",
    "The Mean Absolute Error measures how close the model's predictions are to the observed values."
   ]
  },
  {
   "cell_type": "code",
   "execution_count": 76,
   "metadata": {
    "collapsed": false,
    "scrolled": true
   },
   "outputs": [
    {
     "name": "stdout",
     "output_type": "stream",
     "text": [
      " MAE = 1.696\n"
     ]
    }
   ],
   "source": [
    "print \" MAE = %.3f\" % mean_absolute_error(y_test1, rf_pred1)"
   ]
  },
  {
   "cell_type": "markdown",
   "metadata": {},
   "source": [
    "#### R<sup>2</sup>: Coefficient of Determination\n",
    "R<sup>2</sup> quantifies the goodness of fit of the linear model. More specifically, it depicts the predictive power of the model.\n",
    "\n",
    "Range: [0, 1]"
   ]
  },
  {
   "cell_type": "code",
   "execution_count": 77,
   "metadata": {
    "collapsed": false
   },
   "outputs": [
    {
     "name": "stdout",
     "output_type": "stream",
     "text": [
      "r2 = 0.874\n"
     ]
    }
   ],
   "source": [
    "print \"r2 = %.3f\" % r2_score(y_test1, rf_pred1)"
   ]
  },
  {
   "cell_type": "markdown",
   "metadata": {},
   "source": [
    "### Respiratory System - Medical"
   ]
  },
  {
   "cell_type": "code",
   "execution_count": 78,
   "metadata": {
    "collapsed": false
   },
   "outputs": [
    {
     "data": {
      "text/plain": [
       "(1780, 40)"
      ]
     },
     "execution_count": 78,
     "metadata": {},
     "output_type": "execute_result"
    }
   ],
   "source": [
    "q_resp_med = \"\"\"\n",
    "SELECT drg_code, description\n",
    "FROM drgcodes\n",
    "WHERE LOWER(description) LIKE ANY \n",
    "        (array['%major chest trauma%', '%pulmonary%', '%respiratory%', '%pneumonia%', '%asthma%', '%pleural effusion%',\n",
    "        '%lung disease%', '%interstitial%', '%bronhitis%'])\n",
    "    AND LOWER(description) NOT LIKE '%proc%'\n",
    "GROUP BY drg_code, description;\n",
    "\"\"\"\n",
    "resp_med = exec_query(q_resp_med)\n",
    "resp_med_df = pd.DataFrame(resp_med, columns=['code', 'desc'])\n",
    "resp_med_lst = resp_med_df['code'].values.astype(int)\n",
    "\n",
    "df_icustay_resp_med = df_icustay_f[df_icustay_f['drg_code'].isin(resp_med_lst)]\n",
    "df_icustay_resp_med.shape"
   ]
  },
  {
   "cell_type": "code",
   "execution_count": 79,
   "metadata": {
    "collapsed": false
   },
   "outputs": [
    {
     "data": {
      "text/plain": [
       "count    1780.000000\n",
       "mean        4.473982\n",
       "std         5.745641\n",
       "min         0.003600\n",
       "25%         1.384100\n",
       "50%         2.727250\n",
       "75%         5.224700\n",
       "max        97.489700\n",
       "Name: icu_los, dtype: float64"
      ]
     },
     "execution_count": 79,
     "metadata": {},
     "output_type": "execute_result"
    }
   ],
   "source": [
    "df_icustay_resp_med['icu_los'].describe()"
   ]
  },
  {
   "cell_type": "code",
   "execution_count": 80,
   "metadata": {
    "collapsed": false
   },
   "outputs": [
    {
     "data": {
      "text/plain": [
       "<matplotlib.axes._subplots.AxesSubplot at 0x7f5fe679f590>"
      ]
     },
     "execution_count": 80,
     "metadata": {},
     "output_type": "execute_result"
    },
    {
     "data": {
      "image/png": "[encoded data removed]",
      "text/plain": [
       "<matplotlib.figure.Figure at 0x7f5ff0a05fd0>"
      ]
     },
     "metadata": {},
     "output_type": "display_data"
    }
   ],
   "source": [
    "df_icustay_resp_med['icu_los'].plot(kind='box', ylim=[0, 15])"
   ]
  },
  {
   "cell_type": "markdown",
   "metadata": {},
   "source": [
    "#### Partition: Training & Testing Sets"
   ]
  },
  {
   "cell_type": "code",
   "execution_count": 81,
   "metadata": {
    "collapsed": false
   },
   "outputs": [
    {
     "data": {
      "text/plain": [
       "((1289, 40), (519, 40))"
      ]
     },
     "execution_count": 81,
     "metadata": {},
     "output_type": "execute_result"
    }
   ],
   "source": [
    "data3 = df_icustay_resp_med.copy()\n",
    "\n",
    "train_idx3 = data_partition(data3, 0.80)\n",
    "train_data3 = data3.ix[train_idx3]\n",
    "test_idx3 = data3.index[data3.index.isin(train_idx3)==False]\n",
    "test_data3 = data3.ix[test_idx3]\n",
    "\n",
    "train_data3.shape, test_data3.shape"
   ]
  },
  {
   "cell_type": "markdown",
   "metadata": {},
   "source": [
    "#### Drop Arbitrary Identifiers\n",
    "Drop `subjectid`, `hadmid`, and `icustayid` that serve only for the purpose of identification."
   ]
  },
  {
   "cell_type": "code",
   "execution_count": 82,
   "metadata": {
    "collapsed": false
   },
   "outputs": [],
   "source": [
    "train_data3.drop(['subjectid','hadmid', 'icustayid'], axis=1, inplace=True)\n",
    "test_data3.drop(['subjectid','hadmid', 'icustayid'], axis=1, inplace=True)\n",
    "\n",
    "train_data3.dropna(inplace=True)\n",
    "test_data3.dropna(inplace=True)"
   ]
  },
  {
   "cell_type": "code",
   "execution_count": 83,
   "metadata": {
    "collapsed": false
   },
   "outputs": [
    {
     "data": {
      "text/plain": [
       "((1261, 36), (519, 36), (1261,), (519,))"
      ]
     },
     "execution_count": 83,
     "metadata": {},
     "output_type": "execute_result"
    }
   ],
   "source": [
    "X_train3 = train_data3.iloc[:, :-1]\n",
    "X_test3 = test_data3.iloc[:, :-1]\n",
    "y_train3 = np.array(train_data3.iloc[:, -1])\n",
    "y_test3 = np.array(test_data3.iloc[:, -1])\n",
    "X_train3.shape, X_test3.shape, y_train3.shape, y_test3.shape"
   ]
  },
  {
   "cell_type": "markdown",
   "metadata": {},
   "source": [
    "#### Normalization"
   ]
  },
  {
   "cell_type": "code",
   "execution_count": 84,
   "metadata": {
    "collapsed": false
   },
   "outputs": [
    {
     "data": {
      "text/plain": [
       "((1261, 36), (519, 36), (1261,), (519,))"
      ]
     },
     "execution_count": 84,
     "metadata": {},
     "output_type": "execute_result"
    }
   ],
   "source": [
    "scaler3 = StandardScaler().fit(X_train3) # scaler object fitted to training set\n",
    "\n",
    "# Transform\n",
    "scaled_X_train3 = scaler3.transform(X_train3)\n",
    "scaled_X_test3 = scaler3.transform(X_test3)\n",
    "\n",
    "scaled_X_train3.shape, scaled_X_test3.shape, y_train3.shape, y_test3.shape"
   ]
  },
  {
   "cell_type": "markdown",
   "metadata": {},
   "source": [
    "### Model: Random Forest\n",
    "\n",
    "#### Criterion\n",
    "  1. **mse**: mean squared error\n",
    "  2. **mae**: mean absolute error"
   ]
  },
  {
   "cell_type": "code",
   "execution_count": 85,
   "metadata": {
    "collapsed": false
   },
   "outputs": [
    {
     "name": "stdout",
     "output_type": "stream",
     "text": [
      "Best Parameters:  {'n_estimators': 10, 'criterion': 'mae'}\n",
      "Best Grid Search Score:  0.0711288601286\n",
      "Best Estimator:  RandomForestRegressor(bootstrap=True, criterion='mae', max_depth=None,\n",
      "           max_features='auto', max_leaf_nodes=None,\n",
      "           min_impurity_split=1e-07, min_samples_leaf=1,\n",
      "           min_samples_split=2, min_weight_fraction_leaf=0.0,\n",
      "           n_estimators=10, n_jobs=1, oob_score=False, random_state=2,\n",
      "           verbose=0, warm_start=False)\n"
     ]
    }
   ],
   "source": [
    "rf_model3, rf_pred3, rf_p3, rf_score3, rf_imp3 = rf_gridsearch(scaled_X_train3, scaled_X_test3, y_train3)\n",
    "print \"Best Parameters: \", rf_p3\n",
    "print \"Best Grid Search Score: \", rf_score3\n",
    "print \"Best Estimator: \", rf_model3"
   ]
  },
  {
   "cell_type": "markdown",
   "metadata": {},
   "source": [
    "### Metrics\n",
    "\n",
    "#### Root Mean Squared Error (RMSE)\n",
    "Indicates the *absolute fit* of the model to the data. In other words, how close the observed data points are to the model's predicted values.\n",
    "\n",
    "Also, it is the standard deviation of unexplained variance (residuals)."
   ]
  },
  {
   "cell_type": "code",
   "execution_count": 81,
   "metadata": {
    "collapsed": false
   },
   "outputs": [
    {
     "name": "stdout",
     "output_type": "stream",
     "text": [
      "RMSE = 5.086 days\n"
     ]
    }
   ],
   "source": [
    "print \"RMSE = %.3f days\" % np.sqrt(mean_squared_error(y_test3, rf_pred3))"
   ]
  },
  {
   "cell_type": "code",
   "execution_count": 82,
   "metadata": {
    "collapsed": false
   },
   "outputs": [
    {
     "name": "stdout",
     "output_type": "stream",
     "text": [
      "[0.00,97.49]\n"
     ]
    }
   ],
   "source": [
    "print \"[%.2f,%.2f]\" % (y_test3.min(), y_test3.max())"
   ]
  },
  {
   "cell_type": "markdown",
   "metadata": {},
   "source": [
    "#### Mean Absolute Error\n",
    "The Mean Absolute Error measures how close the model's predictions are to the observed values."
   ]
  },
  {
   "cell_type": "code",
   "execution_count": 83,
   "metadata": {
    "collapsed": false,
    "scrolled": true
   },
   "outputs": [
    {
     "name": "stdout",
     "output_type": "stream",
     "text": [
      " MAE = 1.964\n"
     ]
    }
   ],
   "source": [
    "print \" MAE = %.3f\" % mean_absolute_error(y_test3, rf_pred3)"
   ]
  },
  {
   "cell_type": "markdown",
   "metadata": {},
   "source": [
    "#### R<sup>2</sup>: Coefficient of Determination\n",
    "R<sup>2</sup> quantifies the goodness of fit of the linear model. More specifically, it depicts the predictive power of the model.\n",
    "\n",
    "Range: [0, 1]"
   ]
  },
  {
   "cell_type": "code",
   "execution_count": 88,
   "metadata": {
    "collapsed": false
   },
   "outputs": [
    {
     "name": "stdout",
     "output_type": "stream",
     "text": [
      "r2 = 0.468\n"
     ]
    }
   ],
   "source": [
    "print \"r2 = %.3f\" % r2_score(y_test3, rf_pred3)"
   ]
  },
  {
   "cell_type": "markdown",
   "metadata": {},
   "source": [
    "### Prediction Comparison"
   ]
  },
  {
   "cell_type": "code",
   "execution_count": 98,
   "metadata": {
    "collapsed": false
   },
   "outputs": [
    {
     "data": {
      "image/png": "[encoded data removed]",
      "text/plain": [
       "<matplotlib.figure.Figure at 0x7feafbf7d2d0>"
      ]
     },
     "metadata": {},
     "output_type": "display_data"
    }
   ],
   "source": [
    "x_lim = [0,50]\n",
    "y_lim = [0,450]\n",
    "\n",
    "plt.figure(figsize=(15, 8))\n",
    "plt.subplot(2,2,1)\n",
    "plt.hist(np.round(y_test1), bins=10, color='b')\n",
    "plt.title(\"True (y-test)\")\n",
    "plt.ylabel('Frequency')\n",
    "plt.xlim(x_lim)\n",
    "plt.ylim([0,100])\n",
    "plt.legend(loc='upper right')\n",
    "\n",
    "plt.subplot(2,2,2)\n",
    "plt.hist(np.round(rf_pred1), bins=10, color='g')\n",
    "plt.title(\"Surgical\")\n",
    "plt.xlim(x_lim)\n",
    "plt.ylim([0,100])\n",
    "plt.legend(loc='upper right')\n",
    "\n",
    "plt.subplot(2,2,3)\n",
    "plt.hist(np.round(y_test3), bins=18, color='b')\n",
    "plt.title(\"True\")\n",
    "plt.xlim(x_lim)\n",
    "plt.ylim(y_lim)\n",
    "plt.legend(loc='upper right')\n",
    "\n",
    "plt.subplot(2,2,4)\n",
    "plt.hist(np.round(rf_pred3), bins=9, color='g')\n",
    "plt.title(\"Medical\")\n",
    "plt.xlim(x_lim)\n",
    "plt.ylim(y_lim)\n",
    "plt.legend(loc='upper right')\n",
    "\n",
    "plt.suptitle('Histogram: Response (Models vs. True) \\n Respiratory Diseases')\n",
    "\n",
    "plt.show()"
   ]
  },
  {
   "cell_type": "markdown",
   "metadata": {},
   "source": [
    "### Error Visualization: MAE"
   ]
  },
  {
   "cell_type": "code",
   "execution_count": 222,
   "metadata": {
    "collapsed": false
   },
   "outputs": [
    {
     "data": {
      "image/png": "[encoded data removed]",
      "text/plain": [
       "<matplotlib.figure.Figure at 0x7f5fe5519610>"
      ]
     },
     "metadata": {},
     "output_type": "display_data"
    }
   ],
   "source": [
    "# Surgical\n",
    "df_rfpred1 = pd.Series(rf_pred1, name=\"pred\").round()\n",
    "df_true1 = pd.Series(y_test1, name = \"true\").round()\n",
    "\n",
    "df_rfresults1 = pd.concat([df_true1, df_rfpred1], axis=1)\n",
    "rf_residual1 = pd.Series(df_rfresults1['true'].sub(df_rfresults1['pred'], axis=0).abs(), name='resid')\n",
    "df_rfresults1 = pd.concat([df_rfresults1, rf_residual1], axis=1)\n",
    "\n",
    "rf_errort1 = df_rfresults1[['true', 'pred']].groupby('true').agg([np.mean, np.median, np.std, np.max, np.min, 'count'])\n",
    "\n",
    "# Medical\n",
    "df_rfpred3 = pd.Series(rf_pred3, name=\"pred\").round()\n",
    "df_true3 = pd.Series(y_test3, name = \"true\").round()\n",
    "\n",
    "df_rfresults3 = pd.concat([df_true3, df_rfpred3], axis=1)\n",
    "rf_residual3 = pd.Series(df_rfresults3['true'].sub(df_rfresults3['pred'], axis=0).abs(), name='resid')\n",
    "df_rfresults3 = pd.concat([df_rfresults3, rf_residual3], axis=1)\n",
    "\n",
    "rf_errort3 = df_rfresults3[['true', 'pred']].groupby('true').agg([np.mean, np.median, np.std, np.max, np.min, 'count'])\n",
    "\n",
    "# Error Plot\n",
    "plt.figure(figsize=(15,12))\n",
    "plt.subplot(2,1,1)\n",
    "\n",
    "plt.bar(left=[i for i in rf_errort1.index.tolist()], \n",
    "        height=[0]*len(rf_errort1), \n",
    "        width=0.8, \n",
    "        bottom=rf_errort1[['pred']].values[:,0], # mean of predictions\n",
    "        linewidth=5, edgecolor='r', align='center',\n",
    "        yerr=rf_errort1[['pred']].values[:,2] / rf_errort1[['pred']].values[:,-1] ** 0.5,  # error: standard deviation\n",
    "        orientation='vertical',\n",
    "        error_kw=dict(ecolor='blue', lw=2, capsize=5, capthick=2))\n",
    "    \n",
    "plt.xlabel('True LOS')\n",
    "plt.xticks(rf_errort1.index)\n",
    "plt.yticks(rf_errort1.index)\n",
    "plt.ylabel('Predicted LOS')\n",
    "plt.xlim([-1,20.5])\n",
    "plt.ylim([0,20])\n",
    "plt.title('Surgical sub-group')\n",
    "\n",
    "plt.subplot(2,1,2)\n",
    "plt.bar(left=[i for i in rf_errort3.index.tolist()], \n",
    "        height=[0]*len(rf_errort3), \n",
    "        width=0.8, \n",
    "        bottom=rf_errort3[['pred']].values[:,0], # mean of predictions\n",
    "        linewidth=5, edgecolor='r', align='center',\n",
    "        yerr=rf_errort3[['pred']].values[:,2] / rf_errort3[['pred']].values[:,-1] ** 0.5,  # error: standard deviation\n",
    "        orientation='vertical',\n",
    "        error_kw=dict(ecolor='blue', lw=2, capsize=5, capthick=2))\n",
    "    \n",
    "plt.xlabel('True LOS')\n",
    "plt.xticks(rf_errort3.index)\n",
    "plt.yticks(rf_errort3.index)\n",
    "plt.ylabel('Predicted LOS')\n",
    "plt.xlim([-1,20.5])\n",
    "plt.ylim([0,20])\n",
    "plt.title('Medical sub-group')\n",
    "\n",
    "plt.suptitle('Mean Absolute Error \\n Respiratory Disease')\n",
    "\n",
    "plt.show()\n"
   ]
  },
  {
   "cell_type": "markdown",
   "metadata": {},
   "source": [
    "## Musculoskeletal Systems\n",
    "### Musculoskeletal Systems - Surgical"
   ]
  },
  {
   "cell_type": "code",
   "execution_count": 206,
   "metadata": {
    "collapsed": false
   },
   "outputs": [
    {
     "data": {
      "text/plain": [
       "(578, 40)"
      ]
     },
     "execution_count": 206,
     "metadata": {},
     "output_type": "execute_result"
    }
   ],
   "source": [
    "q_muscoskeletal_surg = \"\"\"\n",
    "SELECT drg_code, description\n",
    "FROM drgcodes\n",
    "WHERE LOWER(description) LIKE ANY \n",
    "        (array['%spinal fusion%', '%skn grft%', '%knee replacement%', '%hip replacement%', '%joint replacement%'\n",
    "        '%amputation for musculoskeletal%', '%biopsies of musculo%','%femur procedures%','%limb reatacchment%', \n",
    "        '%knee proc%', '%humer proc%', '%local excision%', '%soft tissue proc%', '%foot proc%', '%joint proc%', \n",
    "        '%arthroscopy%', 'forearm proc%', '%pathological fracture%'])\n",
    "GROUP BY drg_code, description;\n",
    "\"\"\"\n",
    "muscoskeletal_surg = exec_query(q_muscoskeletal_surg)\n",
    "muscoskeletal_surg_df = pd.DataFrame(muscoskeletal_surg, columns=['code', 'desc'])\n",
    "muscoskeletal_surg_lst = muscoskeletal_surg_df['code'].values.astype(int)\n",
    "\n",
    "df_icustay_muscoskeletal_surg = df_icustay_f[df_icustay_f['drg_code'].isin(muscoskeletal_surg_lst)]\n",
    "df_icustay_muscoskeletal_surg.shape"
   ]
  },
  {
   "cell_type": "code",
   "execution_count": 207,
   "metadata": {
    "collapsed": false,
    "scrolled": true
   },
   "outputs": [
    {
     "data": {
      "text/plain": [
       "count    578.000000\n",
       "mean       4.687609\n",
       "std        7.668103\n",
       "min        0.004300\n",
       "25%        1.416375\n",
       "50%        2.412350\n",
       "75%        4.575450\n",
       "max       84.040900\n",
       "Name: icu_los, dtype: float64"
      ]
     },
     "execution_count": 207,
     "metadata": {},
     "output_type": "execute_result"
    }
   ],
   "source": [
    "df_icustay_muscoskeletal_surg['icu_los'].describe()"
   ]
  },
  {
   "cell_type": "code",
   "execution_count": 208,
   "metadata": {
    "collapsed": false
   },
   "outputs": [
    {
     "data": {
      "text/plain": [
       "<matplotlib.axes._subplots.AxesSubplot at 0x7f5fe5ff08d0>"
      ]
     },
     "execution_count": 208,
     "metadata": {},
     "output_type": "execute_result"
    },
    {
     "data": {
      "image/png": "[encoded data removed]",
      "text/plain": [
       "<matplotlib.figure.Figure at 0x7f5fe64f3f90>"
      ]
     },
     "metadata": {},
     "output_type": "display_data"
    }
   ],
   "source": [
    "df_icustay_muscoskeletal_surg['icu_los'].plot(kind='box', ylim=[0, 15])"
   ]
  },
  {
   "cell_type": "markdown",
   "metadata": {},
   "source": [
    "#### Partition: Training & Testing Sets"
   ]
  },
  {
   "cell_type": "code",
   "execution_count": 209,
   "metadata": {
    "collapsed": false
   },
   "outputs": [
    {
     "data": {
      "text/plain": [
       "((450, 40), (141, 40))"
      ]
     },
     "execution_count": 209,
     "metadata": {},
     "output_type": "execute_result"
    }
   ],
   "source": [
    "data2 = df_icustay_muscoskeletal_surg.copy()\n",
    "\n",
    "train_idx2 = data_partition(data2, 0.80)\n",
    "train_data2 = data2.ix[train_idx2]\n",
    "test_idx2 = data2.index[data2.index.isin(train_idx2)==False]\n",
    "test_data2 = data2.ix[test_idx2]\n",
    "\n",
    "train_data2.shape, test_data2.shape"
   ]
  },
  {
   "cell_type": "markdown",
   "metadata": {},
   "source": [
    "#### Drop Arbitrary Identifiers\n",
    "Drop `subjectid`, `hadmid`, and `icustayid` that serve only for the purpose of identification."
   ]
  },
  {
   "cell_type": "code",
   "execution_count": 210,
   "metadata": {
    "collapsed": false
   },
   "outputs": [],
   "source": [
    "train_data2.drop(['subjectid','hadmid', 'icustayid'], axis=1, inplace=True)\n",
    "test_data2.drop(['subjectid','hadmid', 'icustayid'], axis=1, inplace=True)\n",
    "\n",
    "train_data2.dropna(inplace=True)\n",
    "test_data2.dropna(inplace=True)"
   ]
  },
  {
   "cell_type": "code",
   "execution_count": 211,
   "metadata": {
    "collapsed": false
   },
   "outputs": [
    {
     "data": {
      "text/plain": [
       "((437, 36), (141, 36), (437,), (141,))"
      ]
     },
     "execution_count": 211,
     "metadata": {},
     "output_type": "execute_result"
    }
   ],
   "source": [
    "X_train2 = train_data2.iloc[:, :-1]\n",
    "X_test2 = test_data2.iloc[:, :-1]\n",
    "y_train2 = np.array(train_data2.iloc[:, -1])\n",
    "y_test2 = np.array(test_data2.iloc[:, -1])\n",
    "X_train2.shape, X_test2.shape, y_train2.shape, y_test2.shape"
   ]
  },
  {
   "cell_type": "markdown",
   "metadata": {},
   "source": [
    "#### Normalization"
   ]
  },
  {
   "cell_type": "code",
   "execution_count": 212,
   "metadata": {
    "collapsed": false
   },
   "outputs": [
    {
     "data": {
      "text/plain": [
       "((437, 36), (141, 36), (437,), (141,))"
      ]
     },
     "execution_count": 212,
     "metadata": {},
     "output_type": "execute_result"
    }
   ],
   "source": [
    "scaler2 = StandardScaler().fit(X_train2) # scaler object fitted to training set\n",
    "\n",
    "# Transform\n",
    "scaled_X_train2 = scaler2.transform(X_train2)\n",
    "scaled_X_test2 = scaler2.transform(X_test2)\n",
    "\n",
    "scaled_X_train2.shape, scaled_X_test2.shape, y_train2.shape, y_test2.shape"
   ]
  },
  {
   "cell_type": "markdown",
   "metadata": {},
   "source": [
    "### Model: Random Forest\n",
    "\n",
    "#### Criterion\n",
    "  1. **mse**: mean squared error\n",
    "  2. **mae**: mean absolute error"
   ]
  },
  {
   "cell_type": "code",
   "execution_count": 213,
   "metadata": {
    "collapsed": false
   },
   "outputs": [
    {
     "name": "stdout",
     "output_type": "stream",
     "text": [
      "Best Parameters:  {'n_estimators': 9, 'criterion': 'mse'}\n",
      "Best Grid Search Score:  -0.466636925662\n",
      "Best Estimator:  RandomForestRegressor(bootstrap=True, criterion='mse', max_depth=None,\n",
      "           max_features='auto', max_leaf_nodes=None,\n",
      "           min_impurity_split=1e-07, min_samples_leaf=1,\n",
      "           min_samples_split=2, min_weight_fraction_leaf=0.0,\n",
      "           n_estimators=9, n_jobs=1, oob_score=False, random_state=2,\n",
      "           verbose=0, warm_start=False)\n"
     ]
    }
   ],
   "source": [
    "rf_model2, rf_pred2, rf_p2, rf_score2, rf_imp2 = rf_gridsearch(scaled_X_train2, scaled_X_test2, y_train2)\n",
    "print \"Best Parameters: \", rf_p2\n",
    "print \"Best Grid Search Score: \", rf_score2\n",
    "print \"Best Estimator: \", rf_model2"
   ]
  },
  {
   "cell_type": "markdown",
   "metadata": {},
   "source": [
    "### Metrics\n",
    "\n",
    "#### Root Mean Squared Error (RMSE)\n",
    "Indicates the *absolute fit* of the model to the data. In other words, how close the observed data points are to the model's predicted values.\n",
    "\n",
    "Also, it is the standard deviation of unexplained variance (residuals)."
   ]
  },
  {
   "cell_type": "code",
   "execution_count": 93,
   "metadata": {
    "collapsed": false
   },
   "outputs": [
    {
     "name": "stdout",
     "output_type": "stream",
     "text": [
      "RMSE = 5.728 days\n"
     ]
    }
   ],
   "source": [
    "print \"RMSE = %.3f days\" % np.sqrt(mean_squared_error(y_test2, rf_pred2))"
   ]
  },
  {
   "cell_type": "code",
   "execution_count": 94,
   "metadata": {
    "collapsed": false
   },
   "outputs": [
    {
     "name": "stdout",
     "output_type": "stream",
     "text": [
      "[0.00,36.12]\n"
     ]
    }
   ],
   "source": [
    "print \"[%.2f,%.2f]\" % (y_test2.min(), y_test2.max())"
   ]
  },
  {
   "cell_type": "markdown",
   "metadata": {},
   "source": [
    "#### Mean Absolute Error\n",
    "The Mean Absolute Error measures how close the model's predictions are to the observed values."
   ]
  },
  {
   "cell_type": "code",
   "execution_count": 95,
   "metadata": {
    "collapsed": false,
    "scrolled": true
   },
   "outputs": [
    {
     "name": "stdout",
     "output_type": "stream",
     "text": [
      " MAE = 3.203\n"
     ]
    }
   ],
   "source": [
    "print \" MAE = %.3f\" % mean_absolute_error(y_test2, rf_pred2)"
   ]
  },
  {
   "cell_type": "markdown",
   "metadata": {},
   "source": [
    "#### R<sup>2</sup>: Coefficient of Determination\n",
    "R<sup>2</sup> quantifies the goodness of fit of the linear model. More specifically, it depicts the predictive power of the model.\n",
    "\n",
    "Range: [0, 1]"
   ]
  },
  {
   "cell_type": "code",
   "execution_count": 96,
   "metadata": {
    "collapsed": false,
    "scrolled": false
   },
   "outputs": [
    {
     "name": "stdout",
     "output_type": "stream",
     "text": [
      "r2 = -0.115\n"
     ]
    }
   ],
   "source": [
    "print \"r2 = %.3f\" % r2_score(y_test2, rf_pred2)"
   ]
  },
  {
   "cell_type": "markdown",
   "metadata": {},
   "source": [
    "### Musculoskeletal Systems - Medical"
   ]
  },
  {
   "cell_type": "code",
   "execution_count": 214,
   "metadata": {
    "collapsed": false
   },
   "outputs": [
    {
     "data": {
      "text/plain": [
       "(394, 40)"
      ]
     },
     "execution_count": 214,
     "metadata": {},
     "output_type": "execute_result"
    }
   ],
   "source": [
    "q_muscoskeletal_med = \"\"\"\n",
    "SELECT drg_code, description\n",
    "FROM drgcodes\n",
    "WHERE LOWER(description) LIKE ANY \n",
    "        (array['%fractures%', '%sprains%', '%dislocation%', '%osteomyelitis%', '%connective tissue disorders%'\n",
    "        '%arthritis%', '%back problem%','%bone disease%','%arthropathies%', \n",
    "        '%tendonitis%', '%musculotskeletal system%', '%connective tissue diag'])\n",
    "GROUP BY drg_code, description;\n",
    "\"\"\"\n",
    "muscoskeletal_med = exec_query(q_muscoskeletal_med)\n",
    "muscoskeletal_med_df = pd.DataFrame(muscoskeletal_med, columns=['code', 'desc'])\n",
    "muscoskeletal_med_lst = muscoskeletal_med_df['code'].values.astype(int)\n",
    "\n",
    "df_icustay_muscoskeletal_med = df_icustay_f[df_icustay_f['drg_code'].isin(muscoskeletal_med_lst)]\n",
    "df_icustay_muscoskeletal_med.shape"
   ]
  },
  {
   "cell_type": "code",
   "execution_count": 215,
   "metadata": {
    "collapsed": false,
    "scrolled": true
   },
   "outputs": [
    {
     "data": {
      "text/plain": [
       "count    394.000000\n",
       "mean       4.449780\n",
       "std        5.937692\n",
       "min        0.058600\n",
       "25%        1.284100\n",
       "50%        2.462100\n",
       "75%        5.085750\n",
       "max       49.120000\n",
       "Name: icu_los, dtype: float64"
      ]
     },
     "execution_count": 215,
     "metadata": {},
     "output_type": "execute_result"
    }
   ],
   "source": [
    "df_icustay_muscoskeletal_med['icu_los'].describe()"
   ]
  },
  {
   "cell_type": "code",
   "execution_count": 216,
   "metadata": {
    "collapsed": false
   },
   "outputs": [
    {
     "data": {
      "text/plain": [
       "<matplotlib.axes._subplots.AxesSubplot at 0x7f5fe5ff0750>"
      ]
     },
     "execution_count": 216,
     "metadata": {},
     "output_type": "execute_result"
    },
    {
     "data": {
      "image/png": "[encoded data removed]",
      "text/plain": [
       "<matplotlib.figure.Figure at 0x7f6045ea47d0>"
      ]
     },
     "metadata": {},
     "output_type": "display_data"
    }
   ],
   "source": [
    "df_icustay_muscoskeletal_med['icu_los'].plot(kind='box', ylim=[0, 15])"
   ]
  },
  {
   "cell_type": "markdown",
   "metadata": {},
   "source": [
    "#### Partition: Training & Testing Sets"
   ]
  },
  {
   "cell_type": "code",
   "execution_count": 217,
   "metadata": {
    "collapsed": false
   },
   "outputs": [
    {
     "data": {
      "text/plain": [
       "((309, 40), (94, 40))"
      ]
     },
     "execution_count": 217,
     "metadata": {},
     "output_type": "execute_result"
    }
   ],
   "source": [
    "data4 = df_icustay_muscoskeletal_med.copy()\n",
    "\n",
    "train_idx4 = data_partition(data4, 0.80)\n",
    "train_data4 = data4.ix[train_idx4]\n",
    "test_idx4 = data4.index[data4.index.isin(train_idx4)==False]\n",
    "test_data4 = data4.ix[test_idx4]\n",
    "\n",
    "train_data4.shape, test_data4.shape"
   ]
  },
  {
   "cell_type": "markdown",
   "metadata": {},
   "source": [
    "#### Drop Arbitrary Identifiers\n",
    "Drop `subjectid`, `hadmid`, and `icustayid` that serve only for the purpose of identification."
   ]
  },
  {
   "cell_type": "code",
   "execution_count": 218,
   "metadata": {
    "collapsed": false
   },
   "outputs": [],
   "source": [
    "train_data4.drop(['subjectid','hadmid', 'icustayid'], axis=1, inplace=True)\n",
    "test_data4.drop(['subjectid','hadmid', 'icustayid'], axis=1, inplace=True)\n",
    "\n",
    "train_data4.dropna(inplace=True)\n",
    "test_data4.dropna(inplace=True)"
   ]
  },
  {
   "cell_type": "code",
   "execution_count": 219,
   "metadata": {
    "collapsed": false
   },
   "outputs": [
    {
     "data": {
      "text/plain": [
       "((300, 36), (94, 36), (300,), (94,))"
      ]
     },
     "execution_count": 219,
     "metadata": {},
     "output_type": "execute_result"
    }
   ],
   "source": [
    "X_train4 = train_data4.iloc[:, :-1]\n",
    "X_test4 = test_data4.iloc[:, :-1]\n",
    "y_train4 = np.array(train_data4.iloc[:, -1])\n",
    "y_test4 = np.array(test_data4.iloc[:, -1])\n",
    "X_train4.shape, X_test4.shape, y_train4.shape, y_test4.shape"
   ]
  },
  {
   "cell_type": "markdown",
   "metadata": {},
   "source": [
    "#### Normalization"
   ]
  },
  {
   "cell_type": "code",
   "execution_count": 220,
   "metadata": {
    "collapsed": false
   },
   "outputs": [
    {
     "data": {
      "text/plain": [
       "((300, 36), (94, 36), (300,), (94,))"
      ]
     },
     "execution_count": 220,
     "metadata": {},
     "output_type": "execute_result"
    }
   ],
   "source": [
    "scaler4 = StandardScaler().fit(X_train4) # scaler object fitted to training set\n",
    "\n",
    "# Transform\n",
    "scaled_X_train4 = scaler4.transform(X_train4)\n",
    "scaled_X_test4 = scaler4.transform(X_test4)\n",
    "\n",
    "scaled_X_train4.shape, scaled_X_test4.shape, y_train4.shape, y_test4.shape"
   ]
  },
  {
   "cell_type": "markdown",
   "metadata": {},
   "source": [
    "### Model: Random Forest\n",
    "\n",
    "#### Criterion\n",
    "  1. **mse**: mean squared error\n",
    "  2. **mae**: mean absolute error"
   ]
  },
  {
   "cell_type": "code",
   "execution_count": 221,
   "metadata": {
    "collapsed": false
   },
   "outputs": [
    {
     "name": "stdout",
     "output_type": "stream",
     "text": [
      "Best Parameters:  {'n_estimators': 9, 'criterion': 'mse'}\n",
      "Best Grid Search Score:  -0.00779642256267\n",
      "Best Estimator:  RandomForestRegressor(bootstrap=True, criterion='mse', max_depth=None,\n",
      "           max_features='auto', max_leaf_nodes=None,\n",
      "           min_impurity_split=1e-07, min_samples_leaf=1,\n",
      "           min_samples_split=2, min_weight_fraction_leaf=0.0,\n",
      "           n_estimators=9, n_jobs=1, oob_score=False, random_state=2,\n",
      "           verbose=0, warm_start=False)\n"
     ]
    }
   ],
   "source": [
    "rf_model4, rf_pred4, rf_p4, rf_score4, rf_imp4 = rf_gridsearch(scaled_X_train4, scaled_X_test4, y_train4)\n",
    "print \"Best Parameters: \", rf_p4\n",
    "print \"Best Grid Search Score: \", rf_score4\n",
    "print \"Best Estimator: \", rf_model4"
   ]
  },
  {
   "cell_type": "markdown",
   "metadata": {},
   "source": [
    "### Metrics\n",
    "\n",
    "#### Root Mean Squared Error (RMSE)\n",
    "Indicates the *absolute fit* of the model to the data. In other words, how close the observed data points are to the model's predicted values.\n",
    "\n",
    "Also, it is the standard deviation of unexplained variance (residuals)."
   ]
  },
  {
   "cell_type": "code",
   "execution_count": 105,
   "metadata": {
    "collapsed": false
   },
   "outputs": [
    {
     "name": "stdout",
     "output_type": "stream",
     "text": [
      "RMSE = 4.577 days\n"
     ]
    }
   ],
   "source": [
    "print \"RMSE = %.3f days\" % np.sqrt(mean_squared_error(y_test4, rf_pred4))"
   ]
  },
  {
   "cell_type": "code",
   "execution_count": 106,
   "metadata": {
    "collapsed": false
   },
   "outputs": [
    {
     "name": "stdout",
     "output_type": "stream",
     "text": [
      "[0.20,36.12]\n"
     ]
    }
   ],
   "source": [
    "print \"[%.2f,%.2f]\" % (y_test4.min(), y_test4.max())"
   ]
  },
  {
   "cell_type": "markdown",
   "metadata": {},
   "source": [
    "#### Mean Absolute Error\n",
    "The Mean Absolute Error measures how close the model's predictions are to the observed values."
   ]
  },
  {
   "cell_type": "code",
   "execution_count": 107,
   "metadata": {
    "collapsed": false,
    "scrolled": true
   },
   "outputs": [
    {
     "name": "stdout",
     "output_type": "stream",
     "text": [
      " MAE = 2.509\n"
     ]
    }
   ],
   "source": [
    "print \" MAE = %.3f\" % mean_absolute_error(y_test4, rf_pred4)"
   ]
  },
  {
   "cell_type": "markdown",
   "metadata": {},
   "source": [
    "#### R<sup>2</sup>: Coefficient of Determination\n",
    "R<sup>2</sup> quantifies the goodness of fit of the linear model. More specifically, it depicts the predictive power of the model.\n",
    "\n",
    "Range: [0, 1]"
   ]
  },
  {
   "cell_type": "code",
   "execution_count": 108,
   "metadata": {
    "collapsed": false,
    "scrolled": false
   },
   "outputs": [
    {
     "name": "stdout",
     "output_type": "stream",
     "text": [
      "r2 = 0.234\n"
     ]
    }
   ],
   "source": [
    "print \"r2 = %.3f\" % r2_score(y_test4, rf_pred4)"
   ]
  },
  {
   "cell_type": "code",
   "execution_count": 109,
   "metadata": {
    "collapsed": false
   },
   "outputs": [
    {
     "data": {
      "image/png": "[encoded data removed]",
      "text/plain": [
       "<matplotlib.figure.Figure at 0x7f2f5185e3d0>"
      ]
     },
     "metadata": {},
     "output_type": "display_data"
    }
   ],
   "source": [
    "x_lim = [0,50]\n",
    "y_lim = [0,450]\n",
    "\n",
    "plt.figure(figsize=(15, 8))\n",
    "plt.subplot(2,2,1)\n",
    "plt.hist(np.round(y_test2), bins=7, color='b')\n",
    "plt.title(\"True (y-test)\")\n",
    "plt.ylabel('Frequency')\n",
    "plt.xlim(x_lim)\n",
    "plt.ylim([0,100])\n",
    "plt.legend(loc='upper right')\n",
    "\n",
    "plt.subplot(2,2,2)\n",
    "plt.hist(np.round(rf_pred2), bins=6, color='g')\n",
    "plt.title(\"Surgical\")\n",
    "plt.xlim(x_lim)\n",
    "plt.ylim([0,100])\n",
    "plt.legend(loc='upper right')\n",
    "\n",
    "plt.subplot(2,2,3)\n",
    "plt.hist(np.round(y_test4), bins=8, color='b')\n",
    "plt.title(\"True\")\n",
    "plt.xlim(x_lim)\n",
    "plt.ylim([0,100])\n",
    "plt.legend(loc='upper right')\n",
    "\n",
    "plt.subplot(2,2,4)\n",
    "plt.hist(np.round(rf_pred4), bins=3, color='g')\n",
    "plt.title(\"Medical\")\n",
    "plt.xlim(x_lim)\n",
    "plt.ylim([0,100])\n",
    "plt.legend(loc='upper right')\n",
    "\n",
    "plt.suptitle('Histogram: Response (Models vs. True) \\n Musculoskeletal Diseases')\n",
    "\n",
    "plt.show()"
   ]
  },
  {
   "cell_type": "markdown",
   "metadata": {},
   "source": [
    "### Error Visualization: MAE"
   ]
  },
  {
   "cell_type": "code",
   "execution_count": 224,
   "metadata": {
    "collapsed": false
   },
   "outputs": [
    {
     "data": {
      "image/png": "[encoded data removed]",
      "text/plain": [
       "<matplotlib.figure.Figure at 0x7f5fe5c216d0>"
      ]
     },
     "metadata": {},
     "output_type": "display_data"
    }
   ],
   "source": [
    "# Surgical\n",
    "df_rfpred2 = pd.Series(rf_pred2, name=\"pred\").round()\n",
    "df_true2 = pd.Series(y_test2, name = \"true\").round()\n",
    "\n",
    "df_rfresults2 = pd.concat([df_true2, df_rfpred2], axis=1)\n",
    "rf_residual2 = pd.Series(df_rfresults2['true'].sub(df_rfresults1['pred'], axis=0).abs(), name='resid')\n",
    "df_rfresults2 = pd.concat([df_rfresults2, rf_residual2], axis=1)\n",
    "\n",
    "rf_errort2 = df_rfresults2[['true', 'pred']].groupby('true').agg([np.mean, np.median, np.std, np.max, np.min, 'count'])\n",
    "\n",
    "# Medical\n",
    "df_rfpred4 = pd.Series(rf_pred4, name=\"pred\").round()\n",
    "df_true4 = pd.Series(y_test4, name = \"true\").round()\n",
    "\n",
    "df_rfresults4 = pd.concat([df_true4, df_rfpred4], axis=1)\n",
    "rf_residual4 = pd.Series(df_rfresults4['true'].sub(df_rfresults4['pred'], axis=0).abs(), name='resid')\n",
    "df_rfresults4 = pd.concat([df_rfresults4, rf_residual4], axis=1)\n",
    "\n",
    "rf_errort4 = df_rfresults4[['true', 'pred']].groupby('true').agg([np.mean, np.median, np.std, np.max, np.min, 'count'])\n",
    "\n",
    "# Error Plot\n",
    "plt.figure(figsize=(15,12))\n",
    "plt.subplot(2,1,1)\n",
    "\n",
    "plt.bar(left=[i for i in rf_errort2.index.tolist()], \n",
    "        height=[0]*len(rf_errort2), \n",
    "        width=0.8, \n",
    "        bottom=rf_errort2[['pred']].values[:,0], # mean of predictions\n",
    "        linewidth=5, edgecolor='r', align='center',\n",
    "        yerr=rf_errort2[['pred']].values[:,2] / rf_errort2[['pred']].values[:,-1] ** 0.5,  # error: standard deviation\n",
    "        orientation='vertical',\n",
    "        error_kw=dict(ecolor='blue', lw=2, capsize=5, capthick=2))\n",
    "    \n",
    "plt.xlabel('True LOS')\n",
    "plt.xticks(rf_errort2.index)\n",
    "plt.yticks(rf_errort2.index)\n",
    "plt.ylabel('Predicted LOS')\n",
    "plt.xlim([-1,20.5])\n",
    "plt.ylim([0,20])\n",
    "plt.title('Surgical sub-group')\n",
    "\n",
    "plt.subplot(2,1,2)\n",
    "plt.bar(left=[i for i in rf_errort4.index.tolist()], \n",
    "        height=[0]*len(rf_errort4), \n",
    "        width=0.8, \n",
    "        bottom=rf_errort4[['pred']].values[:,0], # mean of predictions\n",
    "        linewidth=5, edgecolor='r', align='center',\n",
    "        yerr=rf_errort4[['pred']].values[:,2] / rf_errort4[['pred']].values[:,-1] ** 0.5,  # error: standard deviation\n",
    "        orientation='vertical',\n",
    "        error_kw=dict(ecolor='blue', lw=2, capsize=5, capthick=2))\n",
    "    \n",
    "plt.xlabel('True LOS')\n",
    "plt.xticks(rf_errort4.index)\n",
    "plt.yticks(rf_errort4.index)\n",
    "plt.ylabel('Predicted LOS')\n",
    "plt.xlim([-1,20.5])\n",
    "plt.ylim([0,20])\n",
    "plt.title('Medical sub-group')\n",
    "\n",
    "plt.suptitle('Mean Absolute Error \\n Musculoskeletal Disease')\n",
    "\n",
    "plt.show()"
   ]
  },
  {
   "cell_type": "markdown",
   "metadata": {},
   "source": [
    "## Nervous System Diseases\n",
    "\n",
    "### Nervous System - Surgical"
   ]
  },
  {
   "cell_type": "code",
   "execution_count": 104,
   "metadata": {
    "collapsed": false
   },
   "outputs": [],
   "source": [
    "q_nerv_surg = \"\"\"\n",
    "SELECT drg_code, description\n",
    "FROM drgcodes\n",
    "WHERE LOWER(description) LIKE ANY \n",
    "        (array['%nervous%', '%encephalopathy%', '%coma%','%stupor%', \n",
    "        '%cerebrovascular disorders%','%nerve disorders%','%meningitis%', \n",
    "        '%cranial%', '%ventricular shunt%'])\n",
    "    AND LOWER(description) LIKE '%proc%'\n",
    "GROUP BY drg_code, description;\n",
    "\"\"\"\n",
    "nerv_surg = exec_query(q_nerv_surg)\n",
    "nerv_surg_lst = pd.DataFrame(nerv_surg, columns=['code', 'desc'])['code']\n",
    "nerv_surg_lst = nerv_surg_lst.values.astype(int)"
   ]
  },
  {
   "cell_type": "code",
   "execution_count": 105,
   "metadata": {
    "collapsed": false
   },
   "outputs": [
    {
     "data": {
      "text/plain": [
       "(440, 40)"
      ]
     },
     "execution_count": 105,
     "metadata": {},
     "output_type": "execute_result"
    }
   ],
   "source": [
    "df_icustay_nerv_surg = df_icustay_f[df_icustay_f['drg_code'].isin(nerv_surg_lst)]\n",
    "df_icustay_nerv_surg.shape"
   ]
  },
  {
   "cell_type": "code",
   "execution_count": 106,
   "metadata": {
    "collapsed": false
   },
   "outputs": [
    {
     "data": {
      "text/plain": [
       "count    440.000000\n",
       "mean       3.461402\n",
       "std        3.783283\n",
       "min        0.003600\n",
       "25%        1.142700\n",
       "50%        2.195900\n",
       "75%        4.124675\n",
       "max       30.872500\n",
       "Name: icu_los, dtype: float64"
      ]
     },
     "execution_count": 106,
     "metadata": {},
     "output_type": "execute_result"
    }
   ],
   "source": [
    "df_icustay_nerv_surg['icu_los'].describe()"
   ]
  },
  {
   "cell_type": "code",
   "execution_count": 107,
   "metadata": {
    "collapsed": false
   },
   "outputs": [
    {
     "data": {
      "text/plain": [
       "<matplotlib.axes._subplots.AxesSubplot at 0x7f5ff0752710>"
      ]
     },
     "execution_count": 107,
     "metadata": {},
     "output_type": "execute_result"
    },
    {
     "data": {
      "image/png": "[encoded data removed]",
      "text/plain": [
       "<matplotlib.figure.Figure at 0x7f5fe6978ad0>"
      ]
     },
     "metadata": {},
     "output_type": "display_data"
    }
   ],
   "source": [
    "df_icustay_nerv_surg['icu_los'].plot(kind='box', ylim=[0, 15])"
   ]
  },
  {
   "cell_type": "markdown",
   "metadata": {},
   "source": [
    "#### Partition: Training & Testing Sets"
   ]
  },
  {
   "cell_type": "code",
   "execution_count": 108,
   "metadata": {
    "collapsed": false
   },
   "outputs": [
    {
     "data": {
      "text/plain": [
       "((349, 40), (116, 40))"
      ]
     },
     "execution_count": 108,
     "metadata": {},
     "output_type": "execute_result"
    }
   ],
   "source": [
    "data5 = df_icustay_nerv_surg.copy()\n",
    "\n",
    "train_idx5 = data_partition(data5, 0.80)\n",
    "train_data5 = data5.ix[train_idx5]\n",
    "test_idx5 = data5.index[data5.index.isin(train_idx5)==False]\n",
    "test_data5 = data5.ix[test_idx5]\n",
    "\n",
    "train_data5.shape, test_data5.shape"
   ]
  },
  {
   "cell_type": "markdown",
   "metadata": {},
   "source": [
    "#### Drop Arbitrary Identifiers\n",
    "Drop `subjectid`, `hadmid`, and `icustayid` that serve only for the purpose of identification."
   ]
  },
  {
   "cell_type": "code",
   "execution_count": 109,
   "metadata": {
    "collapsed": false
   },
   "outputs": [],
   "source": [
    "train_data5.drop(['subjectid','hadmid', 'icustayid'], axis=1, inplace=True)\n",
    "test_data5.drop(['subjectid','hadmid', 'icustayid'], axis=1, inplace=True)\n",
    "\n",
    "train_data5.dropna(inplace=True)\n",
    "test_data5.dropna(inplace=True)"
   ]
  },
  {
   "cell_type": "code",
   "execution_count": 110,
   "metadata": {
    "collapsed": false
   },
   "outputs": [
    {
     "data": {
      "text/plain": [
       "((324, 36), (116, 36), (324,), (116,))"
      ]
     },
     "execution_count": 110,
     "metadata": {},
     "output_type": "execute_result"
    }
   ],
   "source": [
    "X_train5 = train_data5.iloc[:, :-1]\n",
    "X_test5 = test_data5.iloc[:, :-1]\n",
    "y_train5 = np.array(train_data5.iloc[:, -1])\n",
    "y_test5 = np.array(test_data5.iloc[:, -1])\n",
    "X_train5.shape, X_test5.shape, y_train5.shape, y_test5.shape"
   ]
  },
  {
   "cell_type": "markdown",
   "metadata": {},
   "source": [
    "#### Normalization"
   ]
  },
  {
   "cell_type": "code",
   "execution_count": 111,
   "metadata": {
    "collapsed": false
   },
   "outputs": [
    {
     "data": {
      "text/plain": [
       "((324, 36), (116, 36), (324,), (116,))"
      ]
     },
     "execution_count": 111,
     "metadata": {},
     "output_type": "execute_result"
    }
   ],
   "source": [
    "scaler5 = StandardScaler().fit(X_train5) # scaler object fitted to training set\n",
    "\n",
    "# Transform\n",
    "scaled_X_train5 = scaler5.transform(X_train5)\n",
    "scaled_X_test5 = scaler5.transform(X_test5)\n",
    "\n",
    "scaled_X_train5.shape, scaled_X_test5.shape, y_train5.shape, y_test5.shape"
   ]
  },
  {
   "cell_type": "markdown",
   "metadata": {},
   "source": [
    "## Model: Random Forest\n",
    "\n",
    "#### Criterion\n",
    "  1. **mse**: mean squared error\n",
    "  2. **mae**: mean absolute error"
   ]
  },
  {
   "cell_type": "code",
   "execution_count": 112,
   "metadata": {
    "collapsed": false
   },
   "outputs": [
    {
     "name": "stdout",
     "output_type": "stream",
     "text": [
      "Best Parameters:  {'n_estimators': 8, 'criterion': 'mse'}\n",
      "Best Grid Search Score:  -0.101979978958\n",
      "Best Estimator:  RandomForestRegressor(bootstrap=True, criterion='mse', max_depth=None,\n",
      "           max_features='auto', max_leaf_nodes=None,\n",
      "           min_impurity_split=1e-07, min_samples_leaf=1,\n",
      "           min_samples_split=2, min_weight_fraction_leaf=0.0,\n",
      "           n_estimators=8, n_jobs=1, oob_score=False, random_state=2,\n",
      "           verbose=0, warm_start=False)\n"
     ]
    }
   ],
   "source": [
    "rf_model5, rf_pred5, rf_p5, rf_score5, rf_imp5 = rf_gridsearch(scaled_X_train5, scaled_X_test5, y_train5)\n",
    "print \"Best Parameters: \", rf_p5\n",
    "print \"Best Grid Search Score: \", rf_score5\n",
    "print \"Best Estimator: \", rf_model5"
   ]
  },
  {
   "cell_type": "markdown",
   "metadata": {},
   "source": [
    "### Metrics\n",
    "\n",
    "#### Root Mean Squared Error (RMSE)\n",
    "Indicates the *absolute fit* of the model to the data. In other words, how close the observed data points are to the model's predicted values.\n",
    "\n",
    "Also, it is the standard deviation of unexplained variance (residuals)."
   ]
  },
  {
   "cell_type": "code",
   "execution_count": 120,
   "metadata": {
    "collapsed": false
   },
   "outputs": [
    {
     "name": "stdout",
     "output_type": "stream",
     "text": [
      "RMSE = 4.244 days\n"
     ]
    }
   ],
   "source": [
    "print \"RMSE = %.3f days\" % np.sqrt(mean_squared_error(y_test5, rf_pred5))"
   ]
  },
  {
   "cell_type": "code",
   "execution_count": 121,
   "metadata": {
    "collapsed": false
   },
   "outputs": [
    {
     "name": "stdout",
     "output_type": "stream",
     "text": [
      "[0.57,22.78]\n"
     ]
    }
   ],
   "source": [
    "print \"[%.2f,%.2f]\" % (y_test5.min(), y_test5.max())"
   ]
  },
  {
   "cell_type": "markdown",
   "metadata": {},
   "source": [
    "#### Mean Absolute Error\n",
    "The Mean Absolute Error measures how close the model's predictions are to the observed values."
   ]
  },
  {
   "cell_type": "code",
   "execution_count": 122,
   "metadata": {
    "collapsed": false,
    "scrolled": true
   },
   "outputs": [
    {
     "name": "stdout",
     "output_type": "stream",
     "text": [
      " MAE = 2.322\n"
     ]
    }
   ],
   "source": [
    "print \" MAE = %.3f\" % mean_absolute_error(y_test5, rf_pred5)"
   ]
  },
  {
   "cell_type": "markdown",
   "metadata": {},
   "source": [
    "#### R<sup>2</sup>: Coefficient of Determination\n",
    "R<sup>2</sup> quantifies the goodness of fit of the linear model. More specifically, it depicts the predictive power of the model.\n",
    "\n",
    "Range: [0, 1]"
   ]
  },
  {
   "cell_type": "code",
   "execution_count": 123,
   "metadata": {
    "collapsed": false
   },
   "outputs": [
    {
     "name": "stdout",
     "output_type": "stream",
     "text": [
      "r2 = -0.150\n"
     ]
    }
   ],
   "source": [
    "print \"r2 = %.3f\" % r2_score(y_test5, rf_pred5)"
   ]
  },
  {
   "cell_type": "markdown",
   "metadata": {},
   "source": [
    "### Nervous System - Medical"
   ]
  },
  {
   "cell_type": "code",
   "execution_count": 113,
   "metadata": {
    "collapsed": false
   },
   "outputs": [],
   "source": [
    "q_nerv_med = \"\"\"\n",
    "SELECT drg_code, description\n",
    "FROM drgcodes\n",
    "WHERE LOWER(description) LIKE ANY \n",
    "        (array['%nervous%', '%encephalopathy%', '%coma%','%stupor%', \n",
    "        '%cerebrovascular disorders%','%nerve disorders%','%meningitis%', \n",
    "        '%multiple sclerosis%', '%degenerative nervous system%', \n",
    "        '%cerebellar ataxia%', '%ischemic stroke%', '%cerebral infarction%', \n",
    "        '%cranial hemmorrhage%', '%seizure%', '%headache%'])\n",
    "    AND LOWER(description) NOT LIKE '%proc%'\n",
    "GROUP BY drg_code, description;\n",
    "\"\"\"\n",
    "nerv_med = exec_query(q_nerv_med)\n",
    "nerv_med_df = pd.DataFrame(nerv_med, columns=['code', 'desc'])\n",
    "nerv_med_lst = nerv_med_df['code'].values.astype(int)"
   ]
  },
  {
   "cell_type": "code",
   "execution_count": 114,
   "metadata": {
    "collapsed": false
   },
   "outputs": [
    {
     "data": {
      "text/plain": [
       "(1669, 40)"
      ]
     },
     "execution_count": 114,
     "metadata": {},
     "output_type": "execute_result"
    }
   ],
   "source": [
    "df_icustay_nerv_med = df_icustay_f[df_icustay_f['drg_code'].isin(nerv_med_lst)]\n",
    "df_icustay_nerv_med.shape"
   ]
  },
  {
   "cell_type": "code",
   "execution_count": 115,
   "metadata": {
    "collapsed": false
   },
   "outputs": [
    {
     "data": {
      "text/plain": [
       "count    1669.000000\n",
       "mean        6.916665\n",
       "std        11.383915\n",
       "min         0.003600\n",
       "25%         1.400200\n",
       "50%         2.968800\n",
       "75%         6.943300\n",
       "max       173.072500\n",
       "Name: icu_los, dtype: float64"
      ]
     },
     "execution_count": 115,
     "metadata": {},
     "output_type": "execute_result"
    }
   ],
   "source": [
    "df_icustay_nerv_med['icu_los'].describe()"
   ]
  },
  {
   "cell_type": "code",
   "execution_count": 116,
   "metadata": {
    "collapsed": false
   },
   "outputs": [
    {
     "data": {
      "text/plain": [
       "<matplotlib.axes._subplots.AxesSubplot at 0x7f5fe665b910>"
      ]
     },
     "execution_count": 116,
     "metadata": {},
     "output_type": "execute_result"
    },
    {
     "data": {
      "image/png": "[encoded data removed]",
      "text/plain": [
       "<matplotlib.figure.Figure at 0x7f5fe66e22d0>"
      ]
     },
     "metadata": {},
     "output_type": "display_data"
    }
   ],
   "source": [
    "df_icustay_nerv_med['icu_los'].plot(kind='box', ylim=[0, 15])"
   ]
  },
  {
   "cell_type": "markdown",
   "metadata": {},
   "source": [
    "#### Partition: Training & Testing Sets"
   ]
  },
  {
   "cell_type": "code",
   "execution_count": 117,
   "metadata": {
    "collapsed": false
   },
   "outputs": [
    {
     "data": {
      "text/plain": [
       "((1291, 40), (445, 40))"
      ]
     },
     "execution_count": 117,
     "metadata": {},
     "output_type": "execute_result"
    }
   ],
   "source": [
    "data6 = df_icustay_nerv_med.copy()\n",
    "\n",
    "train_idx6 = data_partition(data6, 0.80)\n",
    "train_data6 = data6.ix[train_idx6]\n",
    "test_idx6 = data6.index[data6.index.isin(train_idx6)==False]\n",
    "test_data6 = data6.ix[test_idx6]\n",
    "\n",
    "train_data6.shape, test_data6.shape"
   ]
  },
  {
   "cell_type": "code",
   "execution_count": 118,
   "metadata": {
    "collapsed": false
   },
   "outputs": [
    {
     "data": {
      "text/plain": [
       "((1224, 36), (445, 36), (1224,), (445,))"
      ]
     },
     "execution_count": 118,
     "metadata": {},
     "output_type": "execute_result"
    }
   ],
   "source": [
    "train_data6.drop(['subjectid','hadmid', 'icustayid'], axis=1, inplace=True)\n",
    "test_data6.drop(['subjectid','hadmid', 'icustayid'], axis=1, inplace=True)\n",
    "\n",
    "train_data6.dropna(inplace=True)\n",
    "test_data6.dropna(inplace=True)\n",
    "\n",
    "X_train6 = train_data6.iloc[:, :-1]\n",
    "X_test6 = test_data6.iloc[:, :-1]\n",
    "y_train6 = np.array(train_data6.iloc[:, -1])\n",
    "y_test6 = np.array(test_data6.iloc[:, -1])\n",
    "X_train6.shape, X_test6.shape, y_train6.shape, y_test6.shape"
   ]
  },
  {
   "cell_type": "code",
   "execution_count": 119,
   "metadata": {
    "collapsed": false
   },
   "outputs": [
    {
     "data": {
      "text/plain": [
       "((1224, 36), (445, 36), (1224,), (445,))"
      ]
     },
     "execution_count": 119,
     "metadata": {},
     "output_type": "execute_result"
    }
   ],
   "source": [
    "scaler6 = StandardScaler().fit(X_train6) # scaler object fitted to training set\n",
    "\n",
    "# Transform\n",
    "scaled_X_train6 = scaler6.transform(X_train6)\n",
    "scaled_X_test6 = scaler6.transform(X_test6)\n",
    "\n",
    "scaled_X_train6.shape, scaled_X_test6.shape, y_train6.shape, y_test6.shape"
   ]
  },
  {
   "cell_type": "markdown",
   "metadata": {},
   "source": [
    "## Model: Random Forest\n",
    "\n",
    "#### Criterion\n",
    "  1. **mse**: mean squared error\n",
    "  2. **mae**: mean absolute error"
   ]
  },
  {
   "cell_type": "code",
   "execution_count": 120,
   "metadata": {
    "collapsed": false
   },
   "outputs": [
    {
     "name": "stdout",
     "output_type": "stream",
     "text": [
      "Best Parameters:  {'n_estimators': 10, 'criterion': 'mae'}\n",
      "Best Grid Search Score:  0.166515152458\n",
      "Best Estimator:  RandomForestRegressor(bootstrap=True, criterion='mae', max_depth=None,\n",
      "           max_features='auto', max_leaf_nodes=None,\n",
      "           min_impurity_split=1e-07, min_samples_leaf=1,\n",
      "           min_samples_split=2, min_weight_fraction_leaf=0.0,\n",
      "           n_estimators=10, n_jobs=1, oob_score=False, random_state=2,\n",
      "           verbose=0, warm_start=False)\n"
     ]
    }
   ],
   "source": [
    "rf_model6, rf_pred6, rf_p6, rf_score6, rf_imp6 = rf_gridsearch(scaled_X_train6, scaled_X_test6, y_train6)\n",
    "print \"Best Parameters: \", rf_p6\n",
    "print \"Best Grid Search Score: \", rf_score6\n",
    "print \"Best Estimator: \", rf_model6"
   ]
  },
  {
   "cell_type": "markdown",
   "metadata": {},
   "source": [
    "### Metrics\n",
    "\n",
    "#### Root Mean Squared Error (RMSE)\n",
    "Indicates the *absolute fit* of the model to the data. In other words, how close the observed data points are to the model's predicted values.\n",
    "\n",
    "Also, it is the standard deviation of unexplained variance (residuals)."
   ]
  },
  {
   "cell_type": "code",
   "execution_count": 132,
   "metadata": {
    "collapsed": false
   },
   "outputs": [
    {
     "name": "stdout",
     "output_type": "stream",
     "text": [
      "RMSE = 7.403 days\n"
     ]
    }
   ],
   "source": [
    "print \"RMSE = %.3f days\" % np.sqrt(mean_squared_error(y_test6, rf_pred6))"
   ]
  },
  {
   "cell_type": "code",
   "execution_count": 133,
   "metadata": {
    "collapsed": false
   },
   "outputs": [
    {
     "name": "stdout",
     "output_type": "stream",
     "text": [
      "[0.00,74.31]\n"
     ]
    }
   ],
   "source": [
    "print \"[%.2f,%.2f]\" % (y_test6.min(), y_test6.max())"
   ]
  },
  {
   "cell_type": "markdown",
   "metadata": {},
   "source": [
    "#### Mean Absolute Error\n",
    "The Mean Absolute Error measures how close the model's predictions are to the observed values."
   ]
  },
  {
   "cell_type": "code",
   "execution_count": 134,
   "metadata": {
    "collapsed": false
   },
   "outputs": [
    {
     "name": "stdout",
     "output_type": "stream",
     "text": [
      " MAE = 4.304\n"
     ]
    }
   ],
   "source": [
    "print \" MAE = %.3f\" % mean_absolute_error(y_test6, rf_pred6)"
   ]
  },
  {
   "cell_type": "markdown",
   "metadata": {},
   "source": [
    "#### R<sup>2</sup>: Coefficient of Determination\n",
    "R<sup>2</sup> quantifies the goodness of fit of the linear model. More specifically, it depicts the predictive power of the model.\n",
    "\n",
    "Range: [0, 1]"
   ]
  },
  {
   "cell_type": "code",
   "execution_count": 135,
   "metadata": {
    "collapsed": false
   },
   "outputs": [
    {
     "name": "stdout",
     "output_type": "stream",
     "text": [
      "r2 = 0.540\n"
     ]
    }
   ],
   "source": [
    "print \"r2 = %.3f\" % r2_score(y_test6, rf_pred6)"
   ]
  },
  {
   "cell_type": "code",
   "execution_count": 136,
   "metadata": {
    "collapsed": false
   },
   "outputs": [
    {
     "data": {
      "image/png": "[encoded data removed]",
      "text/plain": [
       "<matplotlib.figure.Figure at 0x7f2f5188cad0>"
      ]
     },
     "metadata": {},
     "output_type": "display_data"
    }
   ],
   "source": [
    "x_lim = [0,50]\n",
    "y_lim = [0,450]\n",
    "\n",
    "plt.figure(figsize=(15, 8))\n",
    "plt.subplot(2,2,1)\n",
    "plt.hist(np.round(y_test5), bins=5, color='b')\n",
    "plt.title(\"True (y-test)\")\n",
    "plt.ylabel('Frequency')\n",
    "plt.xlim(x_lim)\n",
    "plt.ylim([0,100])\n",
    "plt.legend(loc='upper right')\n",
    "\n",
    "plt.subplot(2,2,2)\n",
    "plt.hist(np.round(rf_pred5), bins=5, color='g')\n",
    "plt.title(\"Surgical\")\n",
    "plt.xlim(x_lim)\n",
    "plt.ylim([0,100])\n",
    "plt.legend(loc='upper right')\n",
    "\n",
    "plt.subplot(2,2,3)\n",
    "plt.hist(np.round(y_test6), bins=14, color='b')\n",
    "plt.title(\"True\")\n",
    "plt.xlim(x_lim)\n",
    "plt.ylim([0,250])\n",
    "plt.legend(loc='upper right')\n",
    "\n",
    "plt.subplot(2,2,4)\n",
    "plt.hist(np.round(rf_pred6), bins=11, color='g')\n",
    "plt.title(\"Medical\")\n",
    "plt.xlim(x_lim)\n",
    "plt.ylim([0,250])\n",
    "plt.legend(loc='upper right')\n",
    "\n",
    "plt.suptitle('Histogram: Response (Models vs. True) \\n Nervous Diseases')\n",
    "\n",
    "plt.show()"
   ]
  },
  {
   "cell_type": "markdown",
   "metadata": {},
   "source": [
    "### Error Visualization: MAE"
   ]
  },
  {
   "cell_type": "code",
   "execution_count": 227,
   "metadata": {
    "collapsed": false
   },
   "outputs": [
    {
     "data": {
      "image/png": "[encoded data removed]",
      "text/plain": [
       "<matplotlib.figure.Figure at 0x7f5fe62a1150>"
      ]
     },
     "metadata": {},
     "output_type": "display_data"
    }
   ],
   "source": [
    "# Surgical\n",
    "df_rfpred5 = pd.Series(rf_pred5, name=\"pred\").round()\n",
    "df_true5 = pd.Series(y_test5, name = \"true\").round()\n",
    "\n",
    "df_rfresults5 = pd.concat([df_true5, df_rfpred5], axis=1)\n",
    "rf_residual5 = pd.Series(df_rfresults5['true'].sub(df_rfresults5['pred'], axis=0).abs(), name='resid')\n",
    "df_rfresults5 = pd.concat([df_rfresults5, rf_residual5], axis=1)\n",
    "\n",
    "rf_errort5 = df_rfresults5[['true', 'pred']].groupby('true').agg([np.mean, np.median, np.std, np.max, np.min, 'count'])\n",
    "\n",
    "# Medical\n",
    "df_rfpred6 = pd.Series(rf_pred6, name=\"pred\").round()\n",
    "df_true6 = pd.Series(y_test6, name = \"true\").round()\n",
    "\n",
    "df_rfresults6 = pd.concat([df_true6, df_rfpred6], axis=1)\n",
    "rf_residual6 = pd.Series(df_rfresults6['true'].sub(df_rfresults6['pred'], axis=0).abs(), name='resid')\n",
    "df_rfresults6 = pd.concat([df_rfresults6, rf_residual6], axis=1)\n",
    "\n",
    "rf_errort6 = df_rfresults6[['true', 'pred']].groupby('true').agg([np.mean, np.median, np.std, np.max, np.min, 'count'])\n",
    "\n",
    "# Error Plot\n",
    "plt.figure(figsize=(15,12))\n",
    "plt.subplot(2,1,1)\n",
    "\n",
    "plt.bar(left=[i for i in rf_errort5.index.tolist()], \n",
    "        height=[0]*len(rf_errort5), \n",
    "        width=0.8, \n",
    "        bottom=rf_errort5[['pred']].values[:,0], # mean of predictions\n",
    "        linewidth=5, edgecolor='r', align='center',\n",
    "        yerr=rf_errort5[['pred']].values[:,2] / rf_errort5[['pred']].values[:,-1] ** 0.5,  # error: standard deviation\n",
    "        orientation='vertical',\n",
    "        error_kw=dict(ecolor='blue', lw=2, capsize=5, capthick=2))\n",
    "    \n",
    "plt.xlabel('True LOS')\n",
    "plt.xticks(rf_errort5.index)\n",
    "plt.yticks(rf_errort5.index)\n",
    "plt.ylabel('Predicted LOS')\n",
    "plt.xlim([-1,20.5])\n",
    "plt.ylim([0,20])\n",
    "plt.title('Surgical sub-group')\n",
    "\n",
    "plt.subplot(2,1,2)\n",
    "plt.bar(left=[i for i in rf_errort6.index.tolist()], \n",
    "        height=[0]*len(rf_errort6), \n",
    "        width=0.8, \n",
    "        bottom=rf_errort6[['pred']].values[:,0], # mean of predictions\n",
    "        linewidth=5, edgecolor='r', align='center',\n",
    "        yerr=rf_errort6[['pred']].values[:,2] / rf_errort6[['pred']].values[:,-1] ** 0.5,  # error: standard deviation\n",
    "        orientation='vertical',\n",
    "        error_kw=dict(ecolor='blue', lw=2, capsize=5, capthick=2))\n",
    "    \n",
    "plt.xlabel('True LOS')\n",
    "plt.xticks(rf_errort6.index)\n",
    "plt.yticks(rf_errort6.index)\n",
    "plt.ylabel('Predicted LOS')\n",
    "plt.xlim([-1,20.5])\n",
    "plt.ylim([0,20])\n",
    "plt.title('Medical sub-group')\n",
    "\n",
    "plt.suptitle('Mean Absolute Error \\n Nervous System Disease')\n",
    "\n",
    "plt.show()"
   ]
  },
  {
   "cell_type": "markdown",
   "metadata": {},
   "source": [
    "## Infectious Diseases"
   ]
  },
  {
   "cell_type": "code",
   "execution_count": 124,
   "metadata": {
    "collapsed": false
   },
   "outputs": [
    {
     "data": {
      "text/plain": [
       "(979, 40)"
      ]
     },
     "execution_count": 124,
     "metadata": {},
     "output_type": "execute_result"
    }
   ],
   "source": [
    "q_infectious = procedure = \"\"\"\n",
    "SELECT drg_code\n",
    "FROM drgcodes\n",
    "WHERE LOWER(description) LIKE '%septicemia%' OR\n",
    "LOWER(description) LIKE '%sepsis%' OR\n",
    "LOWER(description) LIKE '%infectious & parsitic%'\n",
    "GROUP BY drg_code;\n",
    "\"\"\"\n",
    "\n",
    "infectious = exec_query(q_infectious)\n",
    "infectious = np.array(infectious).flatten().astype(int)\n",
    "\n",
    "df_icustay_infect = df_icustay_f[df_icustay_f['drg_code'].isin(infectious)]\n",
    "df_icustay_infect.shape"
   ]
  },
  {
   "cell_type": "code",
   "execution_count": 125,
   "metadata": {
    "collapsed": false
   },
   "outputs": [
    {
     "data": {
      "text/plain": [
       "count    979.000000\n",
       "mean       4.986382\n",
       "std        5.284557\n",
       "min        0.007900\n",
       "25%        1.777800\n",
       "50%        3.011000\n",
       "75%        6.010000\n",
       "max       35.882000\n",
       "Name: icu_los, dtype: float64"
      ]
     },
     "execution_count": 125,
     "metadata": {},
     "output_type": "execute_result"
    }
   ],
   "source": [
    "df_icustay_infect['icu_los'].describe()"
   ]
  },
  {
   "cell_type": "code",
   "execution_count": 126,
   "metadata": {
    "collapsed": false
   },
   "outputs": [
    {
     "data": {
      "text/plain": [
       "<matplotlib.axes._subplots.AxesSubplot at 0x7f5fe6540a90>"
      ]
     },
     "execution_count": 126,
     "metadata": {},
     "output_type": "execute_result"
    },
    {
     "data": {
      "image/png": "[encoded data removed]",
      "text/plain": [
       "<matplotlib.figure.Figure at 0x7f5fe669fc10>"
      ]
     },
     "metadata": {},
     "output_type": "display_data"
    }
   ],
   "source": [
    "df_icustay_infect['icu_los'].plot(kind='box', ylim=[0, 15])"
   ]
  },
  {
   "cell_type": "markdown",
   "metadata": {},
   "source": [
    "#### Partition: Training & Testing Sets"
   ]
  },
  {
   "cell_type": "code",
   "execution_count": 127,
   "metadata": {
    "collapsed": false
   },
   "outputs": [
    {
     "data": {
      "text/plain": [
       "((648, 40), (338, 40))"
      ]
     },
     "execution_count": 127,
     "metadata": {},
     "output_type": "execute_result"
    }
   ],
   "source": [
    "data7 = df_icustay_infect[:3000].copy()\n",
    "\n",
    "train_idx7 = data_partition(data7, 0.70)\n",
    "train_data7 = data7.ix[train_idx7]\n",
    "test_idx7 = data7.index[data7.index.isin(train_idx7)==False]\n",
    "test_data7 = data7.ix[test_idx7]\n",
    "\n",
    "train_data7.shape, test_data7.shape"
   ]
  },
  {
   "cell_type": "markdown",
   "metadata": {},
   "source": [
    "#### Drop Arbitrary Identifiers\n",
    "Drop `subjectid`, `hadmid`, and `icustayid` that serve only for the purpose of identification."
   ]
  },
  {
   "cell_type": "code",
   "execution_count": 128,
   "metadata": {
    "collapsed": false
   },
   "outputs": [
    {
     "data": {
      "text/plain": [
       "((641, 36), (338, 36), (641,), (338,))"
      ]
     },
     "execution_count": 128,
     "metadata": {},
     "output_type": "execute_result"
    }
   ],
   "source": [
    "train_data7.drop(['subjectid','hadmid', 'icustayid'], axis=1, inplace=True)\n",
    "test_data7.drop(['subjectid','hadmid', 'icustayid'], axis=1, inplace=True)\n",
    "\n",
    "train_data7.dropna(inplace=True)\n",
    "test_data7.dropna(inplace=True)\n",
    "\n",
    "X_train7 = train_data7.iloc[:, :-1]\n",
    "X_test7 = test_data7.iloc[:, :-1]\n",
    "y_train7 = np.array(train_data7.iloc[:, -1])\n",
    "y_test7 = np.array(test_data7.iloc[:, -1])\n",
    "X_train7.shape, X_test7.shape, y_train7.shape, y_test7.shape"
   ]
  },
  {
   "cell_type": "markdown",
   "metadata": {},
   "source": [
    "#### Normalization"
   ]
  },
  {
   "cell_type": "code",
   "execution_count": 129,
   "metadata": {
    "collapsed": false
   },
   "outputs": [
    {
     "data": {
      "text/plain": [
       "((641, 36), (338, 36), (641,), (338,))"
      ]
     },
     "execution_count": 129,
     "metadata": {},
     "output_type": "execute_result"
    }
   ],
   "source": [
    "scaler7 = StandardScaler().fit(X_train7) # scaler object fitted to training set\n",
    "\n",
    "# Transform\n",
    "scaled_X_train7 = scaler7.transform(X_train7)\n",
    "scaled_X_test7 = scaler7.transform(X_test7)\n",
    "\n",
    "scaled_X_train7.shape, scaled_X_test7.shape, y_train7.shape, y_test7.shape"
   ]
  },
  {
   "cell_type": "markdown",
   "metadata": {},
   "source": [
    "## Model: Random Forest\n",
    "\n",
    "#### Criterion\n",
    "  1. **mse**: mean squared error\n",
    "  2. **mae**: mean absolute error"
   ]
  },
  {
   "cell_type": "code",
   "execution_count": 130,
   "metadata": {
    "collapsed": false
   },
   "outputs": [
    {
     "name": "stdout",
     "output_type": "stream",
     "text": [
      "Best Parameters:  {'n_estimators': 10, 'criterion': 'mse'}\n",
      "Best Grid Search Score:  -0.108340064938\n",
      "Best Estimator:  RandomForestRegressor(bootstrap=True, criterion='mse', max_depth=None,\n",
      "           max_features='auto', max_leaf_nodes=None,\n",
      "           min_impurity_split=1e-07, min_samples_leaf=1,\n",
      "           min_samples_split=2, min_weight_fraction_leaf=0.0,\n",
      "           n_estimators=10, n_jobs=1, oob_score=False, random_state=2,\n",
      "           verbose=0, warm_start=False)\n"
     ]
    }
   ],
   "source": [
    "rf_model7, rf_pred7, rf_p7, rf_score7, rf_imp7 = rf_gridsearch(scaled_X_train7, scaled_X_test7, y_train7)\n",
    "print \"Best Parameters: \", rf_p7\n",
    "print \"Best Grid Search Score: \", rf_score7\n",
    "print \"Best Estimator: \", rf_model7"
   ]
  },
  {
   "cell_type": "markdown",
   "metadata": {},
   "source": [
    "### Metrics\n",
    "\n",
    "#### Root Mean Squared Error (RMSE)\n",
    "Indicates the *absolute fit* of the model to the data. In other words, how close the observed data points are to the model's predicted values.\n",
    "\n",
    "Also, it is the standard deviation of unexplained variance (residuals)."
   ]
  },
  {
   "cell_type": "code",
   "execution_count": 131,
   "metadata": {
    "collapsed": false
   },
   "outputs": [
    {
     "name": "stdout",
     "output_type": "stream",
     "text": [
      "RMSE = 2.774 days\n"
     ]
    }
   ],
   "source": [
    "print \"RMSE = %.3f days\" % np.sqrt(mean_squared_error(y_test7, rf_pred7))"
   ]
  },
  {
   "cell_type": "code",
   "execution_count": 132,
   "metadata": {
    "collapsed": false
   },
   "outputs": [
    {
     "name": "stdout",
     "output_type": "stream",
     "text": [
      "[0.01,28.74]\n"
     ]
    }
   ],
   "source": [
    "print \"[%.2f,%.2f]\" % (y_test7.min(), y_test7.max())"
   ]
  },
  {
   "cell_type": "markdown",
   "metadata": {},
   "source": [
    "#### Mean Absolute Error\n",
    "The Mean Absolute Error measures how close the model's predictions are to the observed values."
   ]
  },
  {
   "cell_type": "code",
   "execution_count": 133,
   "metadata": {
    "collapsed": false,
    "scrolled": true
   },
   "outputs": [
    {
     "name": "stdout",
     "output_type": "stream",
     "text": [
      " MAE = 1.510\n"
     ]
    }
   ],
   "source": [
    "print \" MAE = %.3f\" % mean_absolute_error(y_test7, rf_pred7)"
   ]
  },
  {
   "cell_type": "markdown",
   "metadata": {},
   "source": [
    "#### R<sup>2</sup>: Coefficient of Determination\n",
    "R<sup>2</sup> quantifies the goodness of fit of the linear model. More specifically, it depicts the predictive power of the model.\n",
    "\n",
    "Range: [0, 1]"
   ]
  },
  {
   "cell_type": "code",
   "execution_count": 134,
   "metadata": {
    "collapsed": false,
    "scrolled": true
   },
   "outputs": [
    {
     "name": "stdout",
     "output_type": "stream",
     "text": [
      "r2 = 0.745\n"
     ]
    }
   ],
   "source": [
    "print \"r2 = %.3f\" % r2_score(y_test7, rf_pred7)"
   ]
  },
  {
   "cell_type": "code",
   "execution_count": 230,
   "metadata": {
    "collapsed": false
   },
   "outputs": [
    {
     "data": {
      "image/png": "[encoded data removed]",
      "text/plain": [
       "<matplotlib.figure.Figure at 0x7f5fe5429f10>"
      ]
     },
     "metadata": {},
     "output_type": "display_data"
    }
   ],
   "source": [
    "plt.figure(figsize=(10, 5))\n",
    "plt.subplot(1,2,1)\n",
    "plt.hist(np.round(y_test7), bins=5, color='b')\n",
    "plt.title(\"True (y-test)\")\n",
    "plt.ylabel('Frequency')\n",
    "plt.xlim(x_lim)\n",
    "plt.ylim([0,250])\n",
    "plt.legend(loc='upper right')\n",
    "\n",
    "plt.subplot(1,2,2)\n",
    "plt.hist(np.round(rf_pred7), bins=5, color='g')\n",
    "plt.title(\"Model\")\n",
    "plt.xlim(x_lim)\n",
    "plt.ylim([0,250])\n",
    "plt.legend(loc='upper right')\n",
    "\n",
    "plt.suptitle('Histogram: Response (Models vs. True) \\n Infectious Diseases')\n",
    "\n",
    "plt.show()"
   ]
  },
  {
   "cell_type": "markdown",
   "metadata": {},
   "source": [
    "### Error Visualization: MAE"
   ]
  },
  {
   "cell_type": "code",
   "execution_count": 233,
   "metadata": {
    "collapsed": false
   },
   "outputs": [
    {
     "data": {
      "image/png": "[encoded data removed]",
      "text/plain": [
       "<matplotlib.figure.Figure at 0x7f5fe5c426d0>"
      ]
     },
     "metadata": {},
     "output_type": "display_data"
    }
   ],
   "source": [
    "df_rfpred7 = pd.Series(rf_pred7, name=\"pred\").round()\n",
    "df_true7 = pd.Series(y_test7, name = \"true\").round()\n",
    "\n",
    "df_rfresults7 = pd.concat([df_true7, df_rfpred7], axis=1)\n",
    "rf_residual7 = pd.Series(df_rfresults7['true'].sub(df_rfresults7['pred'], axis=0).abs(), name='resid')\n",
    "df_rfresults7 = pd.concat([df_rfresults7, rf_residual7], axis=1)\n",
    "\n",
    "rf_errort7 = df_rfresults7[['true', 'pred']].groupby('true').agg([np.mean, np.median, np.std, np.max, np.min, 'count'])\n",
    "\n",
    "# Error Plot\n",
    "plt.figure(figsize=(12,5))\n",
    "plt.bar(left=[i for i in rf_errort7.index.tolist()], \n",
    "        height=[0]*len(rf_errort7), \n",
    "        width=0.8, \n",
    "        bottom=rf_errort7[['pred']].values[:,0], # mean of predictions\n",
    "        linewidth=5, edgecolor='r', align='center',\n",
    "        yerr=rf_errort7[['pred']].values[:,2] / rf_errort7[['pred']].values[:,-1] ** 0.5,  # error: standard deviation\n",
    "        orientation='vertical',\n",
    "        error_kw=dict(ecolor='blue', lw=2, capsize=5, capthick=2))\n",
    "    \n",
    "plt.xlabel('True LOS')\n",
    "plt.xticks(rf_errort7.index)\n",
    "plt.yticks(rf_errort7.index)\n",
    "plt.ylabel('Predicted LOS')\n",
    "plt.xlim([-1,20.5])\n",
    "plt.ylim([0,20])\n",
    "plt.title('Mean Absolute Error \\n Infectious Disease')\n",
    "\n",
    "plt.show()"
   ]
  },
  {
   "cell_type": "markdown",
   "metadata": {},
   "source": [
    "## Other"
   ]
  },
  {
   "cell_type": "code",
   "execution_count": 136,
   "metadata": {
    "collapsed": false
   },
   "outputs": [
    {
     "data": {
      "text/plain": [
       "(13292, 40)"
      ]
     },
     "execution_count": 136,
     "metadata": {},
     "output_type": "execute_result"
    }
   ],
   "source": [
    "df_icustay_other = df_icustay_f[df_icustay_f['drg_code'].isin(cdv)==False]\n",
    "df_icustay_other = df_icustay_f[df_icustay_f['drg_code'].isin(resp_surg_lst)==False]\n",
    "df_icustay_other = df_icustay_f[df_icustay_f['drg_code'].isin(resp_med_lst)==False]\n",
    "# df_icustay_other = df_icustay_f[df_icustay_f['drg_code'].isin(muscoskeletal_surg_lst)==False]\n",
    "# df_icustay_other = df_icustay_f[df_icustay_f['drg_code'].isin(muscoskeletal_med_lst)==False]\n",
    "df_icustay_other = df_icustay_f[df_icustay_f['drg_code'].isin(nerv_surg_lst)==False]\n",
    "df_icustay_other = df_icustay_f[df_icustay_f['drg_code'].isin(nerv_med_lst)==False]\n",
    "df_icustay_other = df_icustay_f[df_icustay_f['drg_code'].isin(infectious)==False]\n",
    "\n",
    "df_icustay_other.shape"
   ]
  },
  {
   "cell_type": "code",
   "execution_count": 137,
   "metadata": {
    "collapsed": false
   },
   "outputs": [
    {
     "data": {
      "text/plain": [
       "count    13292.000000\n",
       "mean         4.797033\n",
       "std          7.127835\n",
       "min          0.000300\n",
       "25%          1.376050\n",
       "50%          2.534100\n",
       "75%          5.035000\n",
       "max        173.072500\n",
       "Name: icu_los, dtype: float64"
      ]
     },
     "execution_count": 137,
     "metadata": {},
     "output_type": "execute_result"
    }
   ],
   "source": [
    "df_icustay_other['icu_los'].describe()"
   ]
  },
  {
   "cell_type": "code",
   "execution_count": 138,
   "metadata": {
    "collapsed": false
   },
   "outputs": [
    {
     "data": {
      "text/plain": [
       "<matplotlib.axes._subplots.AxesSubplot at 0x7f5fe67d9e10>"
      ]
     },
     "execution_count": 138,
     "metadata": {},
     "output_type": "execute_result"
    },
    {
     "data": {
      "image/png": "[encoded data removed]",
      "text/plain": [
       "<matplotlib.figure.Figure at 0x7f5fe65cf3d0>"
      ]
     },
     "metadata": {},
     "output_type": "display_data"
    }
   ],
   "source": [
    "df_icustay_other['icu_los'].plot(kind='box', ylim=[0, 15])"
   ]
  },
  {
   "cell_type": "markdown",
   "metadata": {},
   "source": [
    "#### Partition: Training & Testing Sets"
   ]
  },
  {
   "cell_type": "code",
   "execution_count": 139,
   "metadata": {
    "collapsed": false
   },
   "outputs": [
    {
     "data": {
      "text/plain": [
       "((2104, 40), (902, 40))"
      ]
     },
     "execution_count": 139,
     "metadata": {},
     "output_type": "execute_result"
    }
   ],
   "source": [
    "data8 = df_icustay_other[:3000].copy()\n",
    "\n",
    "train_idx8 = data_partition(data8, 0.70)\n",
    "train_data8 = data8.ix[train_idx8]\n",
    "test_idx8 = data8.index[data8.index.isin(train_idx8)==False]\n",
    "test_data8 = data8.ix[test_idx8]\n",
    "\n",
    "train_data8.shape, test_data8.shape"
   ]
  },
  {
   "cell_type": "markdown",
   "metadata": {},
   "source": [
    "#### Drop Arbitrary Identifiers\n",
    "Drop `subjectid`, `hadmid`, and `icustayid` that serve only for the purpose of identification."
   ]
  },
  {
   "cell_type": "code",
   "execution_count": 140,
   "metadata": {
    "collapsed": false
   },
   "outputs": [],
   "source": [
    "train_data8.drop(['subjectid','hadmid', 'icustayid'], axis=1, inplace=True)\n",
    "test_data8.drop(['subjectid','hadmid', 'icustayid'], axis=1, inplace=True)\n",
    "\n",
    "train_data8.dropna(inplace=True)\n",
    "test_data8.dropna(inplace=True)"
   ]
  },
  {
   "cell_type": "code",
   "execution_count": 141,
   "metadata": {
    "collapsed": false
   },
   "outputs": [
    {
     "data": {
      "text/plain": [
       "((2098, 36), (902, 36), (2098,), (902,))"
      ]
     },
     "execution_count": 141,
     "metadata": {},
     "output_type": "execute_result"
    }
   ],
   "source": [
    "X_train8 = train_data8.iloc[:, :-1]\n",
    "X_test8 = test_data8.iloc[:, :-1]\n",
    "y_train8 = np.array(train_data8.iloc[:, -1])\n",
    "y_test8 = np.array(test_data8.iloc[:, -1])\n",
    "X_train8.shape, X_test8.shape, y_train8.shape, y_test8.shape"
   ]
  },
  {
   "cell_type": "markdown",
   "metadata": {},
   "source": [
    "#### Normalization"
   ]
  },
  {
   "cell_type": "code",
   "execution_count": 142,
   "metadata": {
    "collapsed": false
   },
   "outputs": [
    {
     "data": {
      "text/plain": [
       "((2098, 36), (902, 36), (2098,), (902,))"
      ]
     },
     "execution_count": 142,
     "metadata": {},
     "output_type": "execute_result"
    }
   ],
   "source": [
    "scaler8 = StandardScaler().fit(X_train8) # scaler object fitted to training set\n",
    "\n",
    "# Transform\n",
    "scaled_X_train8 = scaler8.transform(X_train8)\n",
    "scaled_X_test8 = scaler8.transform(X_test8)\n",
    "\n",
    "scaled_X_train8.shape, scaled_X_test8.shape, y_train8.shape, y_test8.shape"
   ]
  },
  {
   "cell_type": "markdown",
   "metadata": {},
   "source": [
    "## Model: Random Forest\n",
    "\n",
    "#### Criterion\n",
    "  1. **mse**: mean squared error\n",
    "  2. **mae**: mean absolute error"
   ]
  },
  {
   "cell_type": "code",
   "execution_count": 143,
   "metadata": {
    "collapsed": false
   },
   "outputs": [
    {
     "name": "stdout",
     "output_type": "stream",
     "text": [
      "Best Parameters:  {'n_estimators': 10, 'criterion': 'mae'}\n",
      "Best Grid Search Score:  0.0700811810226\n",
      "Best Estimator:  RandomForestRegressor(bootstrap=True, criterion='mae', max_depth=None,\n",
      "           max_features='auto', max_leaf_nodes=None,\n",
      "           min_impurity_split=1e-07, min_samples_leaf=1,\n",
      "           min_samples_split=2, min_weight_fraction_leaf=0.0,\n",
      "           n_estimators=10, n_jobs=1, oob_score=False, random_state=2,\n",
      "           verbose=0, warm_start=False)\n"
     ]
    }
   ],
   "source": [
    "rf_model8, rf_pred8, rf_p8, rf_score8, rf_imp8 = rf_gridsearch(scaled_X_train8, scaled_X_test8, y_train8)\n",
    "print \"Best Parameters: \", rf_p8\n",
    "print \"Best Grid Search Score: \", rf_score8\n",
    "print \"Best Estimator: \", rf_model8"
   ]
  },
  {
   "cell_type": "markdown",
   "metadata": {},
   "source": [
    "### Metrics\n",
    "\n",
    "#### Root Mean Squared Error (RMSE)\n",
    "Indicates the *absolute fit* of the model to the data. In other words, how close the observed data points are to the model's predicted values.\n",
    "\n",
    "Also, it is the standard deviation of unexplained variance (residuals)."
   ]
  },
  {
   "cell_type": "code",
   "execution_count": 144,
   "metadata": {
    "collapsed": false
   },
   "outputs": [
    {
     "name": "stdout",
     "output_type": "stream",
     "text": [
      "RMSE = 6.069 days\n"
     ]
    }
   ],
   "source": [
    "print \"RMSE = %.3f days\" % np.sqrt(mean_squared_error(y_test8, rf_pred8))"
   ]
  },
  {
   "cell_type": "code",
   "execution_count": 145,
   "metadata": {
    "collapsed": false
   },
   "outputs": [
    {
     "name": "stdout",
     "output_type": "stream",
     "text": [
      "[0.00,68.03]\n"
     ]
    }
   ],
   "source": [
    "print \"[%.2f,%.2f]\" % (y_test8.min(), y_test8.max())"
   ]
  },
  {
   "cell_type": "markdown",
   "metadata": {},
   "source": [
    "#### Mean Absolute Error\n",
    "The Mean Absolute Error measures how close the model's predictions are to the observed values."
   ]
  },
  {
   "cell_type": "code",
   "execution_count": 146,
   "metadata": {
    "collapsed": false,
    "scrolled": true
   },
   "outputs": [
    {
     "name": "stdout",
     "output_type": "stream",
     "text": [
      " MAE = 2.838\n"
     ]
    }
   ],
   "source": [
    "print \" MAE = %.3f\" % mean_absolute_error(y_test8, rf_pred8)"
   ]
  },
  {
   "cell_type": "markdown",
   "metadata": {},
   "source": [
    "#### R<sup>2</sup>: Coefficient of Determination\n",
    "R<sup>2</sup> quantifies the goodness of fit of the linear model. More specifically, it depicts the predictive power of the model.\n",
    "\n",
    "Range: [0, 1]"
   ]
  },
  {
   "cell_type": "code",
   "execution_count": 147,
   "metadata": {
    "collapsed": false
   },
   "outputs": [
    {
     "name": "stdout",
     "output_type": "stream",
     "text": [
      "r2 = 0.537\n"
     ]
    }
   ],
   "source": [
    "print \"r2 = %.3f\" % r2_score(y_test8, rf_pred8)"
   ]
  },
  {
   "cell_type": "code",
   "execution_count": 238,
   "metadata": {
    "collapsed": false,
    "scrolled": true
   },
   "outputs": [
    {
     "data": {
      "image/png": "[encoded data removed]",
      "text/plain": [
       "<matplotlib.figure.Figure at 0x7f5fe5a6c410>"
      ]
     },
     "metadata": {},
     "output_type": "display_data"
    }
   ],
   "source": [
    "plt.figure(figsize=(9, 5))\n",
    "plt.subplot(1,2,1)\n",
    "plt.hist(np.round(y_test8), bins=15, color='b')\n",
    "plt.title(\"True (y-test)\")\n",
    "plt.ylabel('Frequency')\n",
    "plt.xlim([0,50])\n",
    "plt.ylim([0,700])\n",
    "plt.legend(loc='upper right')\n",
    "\n",
    "plt.subplot(1,2,2)\n",
    "plt.hist(np.round(rf_pred8), bins=13, color='g')\n",
    "plt.title(\"Model Prediction\")\n",
    "plt.xlim([0,50])\n",
    "plt.ylim([0,700])\n",
    "plt.legend(loc='upper right')\n",
    "\n",
    "plt.suptitle('Histogram: Response (Models vs. True) \\n Other Diseases')\n",
    "\n",
    "plt.show()"
   ]
  },
  {
   "cell_type": "markdown",
   "metadata": {},
   "source": [
    "### Error Visualization: MAE"
   ]
  },
  {
   "cell_type": "code",
   "execution_count": 241,
   "metadata": {
    "collapsed": false
   },
   "outputs": [
    {
     "data": {
      "image/png": "[encoded data removed]",
      "text/plain": [
       "<matplotlib.figure.Figure at 0x7f5fe61ab810>"
      ]
     },
     "metadata": {},
     "output_type": "display_data"
    }
   ],
   "source": [
    "df_rfpred8 = pd.Series(rf_pred8, name=\"pred\").round()\n",
    "df_true8 = pd.Series(y_test8, name = \"true\").round()\n",
    "\n",
    "df_rfresults8 = pd.concat([df_true8, df_rfpred8], axis=1)\n",
    "rf_residual8 = pd.Series(df_rfresults8['true'].sub(df_rfresults8['pred'], axis=0).abs(), name='resid')\n",
    "df_rfresults8 = pd.concat([df_rfresults8, rf_residual8], axis=1)\n",
    "\n",
    "rf_errort8 = df_rfresults8[['true', 'pred']].groupby('true').agg([np.mean, np.median, np.std, np.max, np.min, 'count'])\n",
    "\n",
    "# Error Plot\n",
    "plt.figure(figsize=(10,5))\n",
    "plt.bar(left=[i for i in rf_errort8.index.tolist()], \n",
    "        height=[0]*len(rf_errort8), \n",
    "        width=0.8, \n",
    "        bottom=rf_errort8[['pred']].values[:,0], # mean of predictions\n",
    "        linewidth=5, edgecolor='r', align='center',\n",
    "        yerr=rf_errort8[['pred']].values[:,2] / rf_errort8[['pred']].values[:,-1] ** 0.5,  # error: standard deviation\n",
    "        orientation='vertical',\n",
    "        error_kw=dict(ecolor='blue', lw=2, capsize=5, capthick=2))\n",
    "    \n",
    "plt.xlabel('True LOS')\n",
    "plt.xticks(rf_errort8.index)\n",
    "plt.yticks(rf_errort8.index)\n",
    "plt.ylabel('Predicted LOS')\n",
    "plt.xlim([-1,20.5])\n",
    "plt.ylim([0,20])\n",
    "plt.title('Mean Absolute Error \\n Other Disease')\n",
    "\n",
    "plt.show()"
   ]
  },
  {
   "cell_type": "markdown",
   "metadata": {},
   "source": [
    "## Conclusion\n",
    "**Background**: The DRG classification system was originally developed to identify the \"products\" patients received. The healthcare industry has evolved and developed an increased demand for a classification system at a higher level of precision. As a result, *multiple branches* of the DRG system has expanded to serve various purposes.\n",
    "\n",
    "MIMIC-III dataset does not only use 1 of these systems, but a variety. Thus, creating inconsistencies as a numerical DRG code varies between each branch/system.\n",
    "\n",
    "**Notes**: \n",
    "  * Other category is mainly based on those diseases have very little sample size and insufficient to be a category on their own.\n",
    "  * Further stratification by *surgery/medical* is only possible due to the reimbursement nature of DRG codes. Classification by pathology may not be feasible due to how diseases are grouped. Specificity may be loss if a medicine-centric stratification was pursued.\n",
    "\n",
    "### Main Points\n",
    "1. As previously discovered, **Random Forest** yields the best metrics in terms of error estimates (**RMSE** & **MAE**) and goodness-of-fit (**R<sup>2</sup>**). This is most likely attributed to the *bagging* component of its ensemble learning.\n",
    "2. Further stratifying (*surgical/medical*) the *manual* classification of patients by major disease categories yielded \n",
    "   * no improvements in metrics for **Heart Disease**, **Infectious Disease**, & **Musculoskeletal System**\n",
    "   * some improvements for **Respiratory Disease** and **Nervous System Disease**, though only the *surgical* and *medical* sub-groups respectively\n",
    "   * **Musculoskeletal Diseases** appear to be irrelevant in comparison to other groups (*poor metrics*)"
   ]
  },
  {
   "cell_type": "markdown",
   "metadata": {},
   "source": [
    "### Results\n",
    "<table>\n",
    "  <tr>\n",
    "    <th rowspan=\"2\" colspan=\"1\"> </th>\n",
    "    <th rowspan=\"1\", colspan=\"2\">Heart Disease</th>\n",
    "    <th rowspan=\"1\", colspan=\"2\">Respiratory Disease</th> \n",
    "    <th rowspan=\"1\", colspan=\"2\">Musculoskeletal Disease</th>\n",
    "    <th rowspan=\"1\", colspan=\"2\">Nervous System Disease</th>\n",
    "    <th rowspan=\"1\", colspan=\"2\">Infectious Diseases</th>\n",
    "    <th rowspan=\"2\", colspan=\"1\">Others</th>\n",
    "    <th rowspan=\"2\", colspan=\"1\">Average</th>\n",
    "  </tr>\n",
    "  <tr>\n",
    "    <td>Surgical</td>\n",
    "    <td>Medical</td> \n",
    "    <td>Surgical</td>\n",
    "    <td>Medical</td> \n",
    "    <td>Surgical</td>\n",
    "    <td>Medical</td> \n",
    "    <td>Surgical</td>\n",
    "    <td>Medical</td> \n",
    "    <td>Surgical</td>\n",
    "    <td>Medical</td>\n",
    "  </tr>\n",
    "  <tr>\n",
    "    <td>**RMSE**</td>\n",
    "    <td>3.3</td>\n",
    "    <td>2.9</td> \n",
    "    <td>2.6</td>\n",
    "    <td>5.1</td> \n",
    "    <td>5.7</td>\n",
    "    <td>4.6</td> \n",
    "    <td>4.2</td>\n",
    "    <td>7.4</td> \n",
    "    <td>8.8</td>\n",
    "    <td>3.1</td>\n",
    "    <td>6.1</td>\n",
    "    <td>4.9</td>\n",
    "  </tr>\n",
    "  <tr>\n",
    "    <td>**MAE**</td>\n",
    "    <td>1.8</td>\n",
    "    <td>2.9</td> \n",
    "    <td>1.7</td>\n",
    "    <td>2.0</td> \n",
    "    <td>3.2</td>\n",
    "    <td>2.5</td> \n",
    "    <td>2.3</td>\n",
    "    <td>4.3</td> \n",
    "    <td>3.8</td>\n",
    "    <td>1.6</td>\n",
    "    <td>2.9</td>\n",
    "    <td>2.5</td>\n",
    "  </tr>\n",
    "  <tr>\n",
    "    <td>**R<sup>2</sup>**</td>\n",
    "    <td>0.55</td>\n",
    "    <td>0.58</td> \n",
    "    <td>0.87</td>\n",
    "    <td>0.47</td> \n",
    "    <td>-0.12</td>\n",
    "    <td>0.23</td> \n",
    "    <td>-0.15</td>\n",
    "    <td>0.54</td> \n",
    "    <td>0.26</td>\n",
    "    <td>0.68</td>\n",
    "    <td>0.54</td>\n",
    "    <td>0.46</td>\n",
    "  </tr>\n",
    "</table>"
   ]
  },
  {
   "cell_type": "markdown",
   "metadata": {},
   "source": [
    "### Summary\n",
    "In conclusion, **Random Forest** sub-models should be created for these categories to yield optimal results:\n",
    "  * Disease Category by Organ System\n",
    "    * **Heart Disease**\n",
    "    * **Infectious Disease**\n",
    "  * Sub-stratification (*surgical + medical*)\n",
    "    * **Respiratory Disease** (*surgical only*)\n",
    "    * **Nervous System Diseases** (*medical only*)\n",
    "\n",
    "\n",
    "It should be noted that the high variation within the Nervous System Disease and Musculoskeletal groups may be due to the high variation in the severity of the diseases that they encompass, which may make their models appropriate to include.\n",
    "\n",
    "\n",
    "<table>\n",
    "  <tr>\n",
    "    <th rowspan=\"2\" colspan=\"1\"> </th>\n",
    "    <th rowspan=\"2\", colspan=\"1\">Heart Disease</th>\n",
    "    <th rowspan=\"1\", colspan=\"2\">Respiratory Disease</th> \n",
    "    <th rowspan=\"1\", colspan=\"2\">Nervous System Disease</th>\n",
    "    <th rowspan=\"2\", colspan=\"1\">Infectious Diseases</th>\n",
    "    <th rowspan=\"2\", colspan=\"1\">Others</th>\n",
    "    <th rowspan=\"2\", colspan=\"1\">Average</th>\n",
    "  </tr>\n",
    "  <tr>\n",
    "    <td>Surgical</td>\n",
    "    <td>Medical</td>  \n",
    "    <td>Surgical</td>\n",
    "    <td>Medical</td> \n",
    "  </tr>\n",
    "  <tr>\n",
    "    <td>**RMSE**</td>\n",
    "    <td>2.4</td>\n",
    "    <td>2.6</td>\n",
    "    <td>5.1</td> \n",
    "    <td>4.2</td>\n",
    "    <td>7.4</td> \n",
    "    <td>2.8</td>\n",
    "    <td>6.1</td>\n",
    "    <td>4.3</td>\n",
    "  </tr>\n",
    "  <tr>\n",
    "    <td>**MAE**</td>\n",
    "    <td>1.3</td> \n",
    "    <td>1.7</td>\n",
    "    <td>2.0</td> \n",
    "\n",
    "    <td>2.3</td>\n",
    "    <td>4.3</td> \n",
    "    <td>1.5</td>\n",
    "    <td>2.9</td>\n",
    "    <td>2.3</td>\n",
    "  </tr>\n",
    "  <tr>\n",
    "    <td>**R<sup>2</sup>**</td>\n",
    "    <td>0.71</td>\n",
    "    <td>0.87</td>\n",
    "    <td>0.47</td> \n",
    "    <td>-0.15</td>\n",
    "    <td>0.54</td> \n",
    "    <td>0.75</td>\n",
    "    <td>0.54</td>\n",
    "    <td>0.68</td>\n",
    "  </tr>\n",
    "</table>"
   ]
  }
 ],
 "metadata": {
  "kernelspec": {
   "display_name": "Python 2",
   "language": "python",
   "name": "python2"
  },
  "language_info": {
   "codemirror_mode": {
    "name": "ipython",
    "version": 2
   },
   "file_extension": ".py",
   "mimetype": "text/x-python",
   "name": "python",
   "nbconvert_exporter": "python",
   "pygments_lexer": "ipython2",
   "version": "2.7.12"
  }
 },
 "nbformat": 4,
 "nbformat_minor": 2
}
