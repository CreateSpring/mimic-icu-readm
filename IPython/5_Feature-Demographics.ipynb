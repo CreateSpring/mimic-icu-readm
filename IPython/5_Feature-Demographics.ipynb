{
 "cells": [
  {
   "cell_type": "markdown",
   "metadata": {},
   "source": [
    "# Week 5 - Feature Engineering: Demographics\n",
    "\n",
    "### March 24, 2017\n",
    "\n",
    "#### Purpose\n",
    "To extract features related to the demographics of patients that have multiple ICU stays and evaluate the performance of regression models to predict the length of stay in the ICU using such features."
   ]
  },
  {
   "cell_type": "code",
   "execution_count": 31,
   "metadata": {
    "collapsed": false
   },
   "outputs": [],
   "source": [
    "import psycopg2\n",
    "from psycopg2 import extras\n",
    "import numpy as np\n",
    "import pandas as pd\n",
    "from scipy import stats\n",
    "import matplotlib.pyplot as plt\n",
    "import seaborn as sns\n",
    "import itertools\n",
    "from collections import Counter\n",
    "from sklearn.preprocessing import MinMaxScaler, StandardScaler\n",
    "from sklearn.feature_selection import SelectKBest, f_classif, chi2\n",
    "from sklearn import metrics, grid_search\n",
    "from sklearn.linear_model import LinearRegression\n",
    "from sklearn.svm import SVR\n",
    "from sklearn.neighbors import KNeighborsRegressor\n",
    "from sklearn.ensemble import RandomForestRegressor\n",
    "\n",
    "%matplotlib inline"
   ]
  },
  {
   "cell_type": "code",
   "execution_count": 2,
   "metadata": {
    "collapsed": true
   },
   "outputs": [],
   "source": [
    "def cursor_connect(cursor_factory=None):\n",
    "    \"\"\"\n",
    "    Connects to the DB and returns the connection and cursor, ready to use.\n",
    "    \n",
    "    Parameters\n",
    "    ----------\n",
    "    cursor_factory : psycopg2.extras\n",
    "    \n",
    "    Returns\n",
    "    -------\n",
    "    (psycopg2.extensions.connection, psycopg2.extensions.cursor)\n",
    "        A tuple of (psycopg2 connection, psycopg2 cursor).\n",
    "    \"\"\"\n",
    "    #DB connection\n",
    "    conn = psycopg2.connect(dbname=\"mimic\", user=\"mimic\", host=\"172.31.28.5\",\n",
    "                            password=\"mimic\")\n",
    "    if not cursor_factory:\n",
    "        cur = conn.cursor()\n",
    "    else:\n",
    "        cur = conn.cursor(cursor_factory=cursor_factory)\n",
    "    return conn, cur\n",
    "\n",
    "def exec_query(query, curs_dict=False):\n",
    "    \"\"\"\n",
    "    Execute query and returns the SQL output.\n",
    "    \n",
    "    Parameters\n",
    "    ----------\n",
    "    query: string containing SQL SELECT command\n",
    "    curs_dict: dict cursor factory (output is dict)\n",
    "    \n",
    "    Returns\n",
    "    -------\n",
    "    rows: list of rows/records (SQL output)\n",
    "    \"\"\"\n",
    "    if curs_dict == True: \n",
    "        conn, cur = cursor_connect(psycopg2.extras.DictCursor)\n",
    "        \n",
    "    else:\n",
    "        conn, cur = cursor_connect()\n",
    "    cur.execute('SET search_path TO mimiciii;')\n",
    "    cur.execute(query)\n",
    "    rows = cur.fetchall()\n",
    "    return rows"
   ]
  },
  {
   "cell_type": "markdown",
   "metadata": {},
   "source": [
    "# Dataset\n",
    "\n",
    "## Exclusion Criteria\n",
    "1. Minors\n",
    "\n",
    "## Features (`X`)\n",
    "\n",
    "* **`subjectid`**: subject ID of patients\n",
    "* **`icustayid`**: ID of a unique ICU stay\n",
    "* **`readm_days`**: number of days since discharge of previous ICU stay\n",
    "* **`prev_iculos`**: total length of stay (LOS) of the previous unique ICU stay\n",
    "* **`age`**: age of patient at the times of ICU admission\n",
    "* **`ethnicity`**: categorical feature indicating ethnicity group\n",
    "* **`marital_status`**: categorical feature indicating marital status.\n",
    "* **`insurance`**: categorical feature indicating insurance type.\n",
    "* **`NonEnglish`**: binary feature indicating non-english speaker.\n",
    " \n",
    "## Dependent Variables/Response (`Y`) \n",
    "  * **`icu_los`**: ICU length of stay"
   ]
  },
  {
   "cell_type": "markdown",
   "metadata": {},
   "source": [
    "### Unique ICU stays\n",
    "\n",
    "Features:\n",
    "  * **`subjectid`**: subject ID of patients\n",
    "  * **`icustaysid`**: ID of a unique ICU stay\n",
    "  * **`readm_days`**: number of days since discharge of previous ICU stay to admission of current ICU stay (ICU readmission)"
   ]
  },
  {
   "cell_type": "code",
   "execution_count": 3,
   "metadata": {
    "collapsed": true
   },
   "outputs": [],
   "source": [
    "def prev_icutime(data):\n",
    "    if data['readm_days'] == np.nan:\n",
    "        pass\n",
    "    else:\n",
    "        prev_icutime = data['icu_intime'] - data['readm_days'] # time of previous ICU discharge/transfer\n",
    "        return prev_icutime"
   ]
  },
  {
   "cell_type": "code",
   "execution_count": 4,
   "metadata": {
    "collapsed": false
   },
   "outputs": [
    {
     "name": "stdout",
     "output_type": "stream",
     "text": [
      "(61532, 7)\n"
     ]
    },
    {
     "data": {
      "text/html": [
       "<div style=\"max-height:1000px;max-width:1500px;overflow:auto;\">\n",
       "<table border=\"1\" class=\"dataframe\">\n",
       "  <thead>\n",
       "    <tr style=\"text-align: right;\">\n",
       "      <th></th>\n",
       "      <th>subjectid</th>\n",
       "      <th>hadmid</th>\n",
       "      <th>icustayid</th>\n",
       "      <th>icu_intime</th>\n",
       "      <th>icu_outtime</th>\n",
       "      <th>readm_days</th>\n",
       "      <th>icu_prev_outtime</th>\n",
       "    </tr>\n",
       "  </thead>\n",
       "  <tbody>\n",
       "    <tr>\n",
       "      <th>0</th>\n",
       "      <td>2</td>\n",
       "      <td>163353</td>\n",
       "      <td>243653</td>\n",
       "      <td>2138-07-17 21:20:07</td>\n",
       "      <td>2138-07-17 23:32:21</td>\n",
       "      <td>NaN</td>\n",
       "      <td>NaT</td>\n",
       "    </tr>\n",
       "    <tr>\n",
       "      <th>1</th>\n",
       "      <td>3</td>\n",
       "      <td>145834</td>\n",
       "      <td>211552</td>\n",
       "      <td>2101-10-20 19:10:11</td>\n",
       "      <td>2101-10-26 20:43:09</td>\n",
       "      <td>NaN</td>\n",
       "      <td>NaT</td>\n",
       "    </tr>\n",
       "    <tr>\n",
       "      <th>2</th>\n",
       "      <td>4</td>\n",
       "      <td>185777</td>\n",
       "      <td>294638</td>\n",
       "      <td>2191-03-16 00:29:31</td>\n",
       "      <td>2191-03-17 16:46:31</td>\n",
       "      <td>NaN</td>\n",
       "      <td>NaT</td>\n",
       "    </tr>\n",
       "    <tr>\n",
       "      <th>3</th>\n",
       "      <td>5</td>\n",
       "      <td>178980</td>\n",
       "      <td>214757</td>\n",
       "      <td>2103-02-02 06:04:24</td>\n",
       "      <td>2103-02-02 08:06:00</td>\n",
       "      <td>NaN</td>\n",
       "      <td>NaT</td>\n",
       "    </tr>\n",
       "    <tr>\n",
       "      <th>4</th>\n",
       "      <td>6</td>\n",
       "      <td>107064</td>\n",
       "      <td>228232</td>\n",
       "      <td>2175-05-30 21:30:54</td>\n",
       "      <td>2175-06-03 13:39:54</td>\n",
       "      <td>NaN</td>\n",
       "      <td>NaT</td>\n",
       "    </tr>\n",
       "  </tbody>\n",
       "</table>\n",
       "</div>"
      ],
      "text/plain": [
       "   subjectid  hadmid  icustayid          icu_intime         icu_outtime  \\\n",
       "0          2  163353     243653 2138-07-17 21:20:07 2138-07-17 23:32:21   \n",
       "1          3  145834     211552 2101-10-20 19:10:11 2101-10-26 20:43:09   \n",
       "2          4  185777     294638 2191-03-16 00:29:31 2191-03-17 16:46:31   \n",
       "3          5  178980     214757 2103-02-02 06:04:24 2103-02-02 08:06:00   \n",
       "4          6  107064     228232 2175-05-30 21:30:54 2175-06-03 13:39:54   \n",
       "\n",
       "   readm_days icu_prev_outtime  \n",
       "0         NaN              NaT  \n",
       "1         NaN              NaT  \n",
       "2         NaN              NaT  \n",
       "3         NaN              NaT  \n",
       "4         NaN              NaT  "
      ]
     },
     "execution_count": 4,
     "metadata": {},
     "output_type": "execute_result"
    }
   ],
   "source": [
    "# query\n",
    "q_icustay=\"\"\"SELECT subject_id, hadm_id, icustay_id, min_in, max_out,\n",
    "min_in - lag(max_out)\n",
    "OVER (PARTITION BY subject_id ORDER BY min_in) AS diff\n",
    "FROM\n",
    "(SELECT subject_id, hadm_id, icustay_id, \n",
    "MIN(intime) as min_in, MAX(outtime) AS max_out\n",
    "FROM transfers\n",
    "WHERE icustay_id IS NOT NULL\n",
    "GROUP BY subject_id, hadm_id, icustay_id) as sub_q\n",
    "ORDER BY subject_id\n",
    "\"\"\"\n",
    "\n",
    "# Query output\n",
    "icustay = exec_query(q_icustay)\n",
    "df_icustay = pd.DataFrame(icustay, columns=['subjectid', 'hadmid', 'icustayid', \n",
    "                                            'icu_intime', # first unique ICU admission time \n",
    "                                            'icu_outtime', #  unique ICU discharge time\n",
    "                                            'readm_days']) # number of days since last ICU discharge/transfer\n",
    "\n",
    "df_icustay['icu_prev_outtime'] = df_icustay.apply(prev_icutime, axis=1)\n",
    "# df_icustay.readm_days.fillna(0, inplace=True)\n",
    "df_icustay.readm_days.dropna(inplace=True)\n",
    "df_icustay['readm_days'] = np.round(df_icustay['readm_days'].astype(int) * (1/8.64e13), 3)\n",
    "print df_icustay.shape\n",
    "df_icustay.head()"
   ]
  },
  {
   "cell_type": "markdown",
   "metadata": {},
   "source": [
    "Filter for patients with ICU readmissions."
   ]
  },
  {
   "cell_type": "code",
   "execution_count": 5,
   "metadata": {
    "collapsed": false
   },
   "outputs": [
    {
     "name": "stdout",
     "output_type": "stream",
     "text": [
      "(23811, 7)\n"
     ]
    },
    {
     "data": {
      "text/html": [
       "<div style=\"max-height:1000px;max-width:1500px;overflow:auto;\">\n",
       "<table border=\"1\" class=\"dataframe\">\n",
       "  <thead>\n",
       "    <tr style=\"text-align: right;\">\n",
       "      <th></th>\n",
       "      <th>subjectid</th>\n",
       "      <th>hadmid</th>\n",
       "      <th>icustayid</th>\n",
       "      <th>icu_intime</th>\n",
       "      <th>icu_outtime</th>\n",
       "      <th>readm_days</th>\n",
       "      <th>icu_prev_outtime</th>\n",
       "    </tr>\n",
       "  </thead>\n",
       "  <tbody>\n",
       "    <tr>\n",
       "      <th>5</th>\n",
       "      <td>7</td>\n",
       "      <td>118037</td>\n",
       "      <td>278444</td>\n",
       "      <td>2121-05-23 15:35:29</td>\n",
       "      <td>2121-05-23 22:01:00</td>\n",
       "      <td>NaN</td>\n",
       "      <td>NaT</td>\n",
       "    </tr>\n",
       "    <tr>\n",
       "      <th>6</th>\n",
       "      <td>7</td>\n",
       "      <td>118037</td>\n",
       "      <td>236754</td>\n",
       "      <td>2121-05-25 03:26:01</td>\n",
       "      <td>2121-05-25 21:10:19</td>\n",
       "      <td>1.226</td>\n",
       "      <td>2121-05-23 22:01:00</td>\n",
       "    </tr>\n",
       "    <tr>\n",
       "      <th>14</th>\n",
       "      <td>17</td>\n",
       "      <td>194023</td>\n",
       "      <td>277042</td>\n",
       "      <td>2134-12-27 16:21:48</td>\n",
       "      <td>2134-12-29 18:04:03</td>\n",
       "      <td>NaN</td>\n",
       "      <td>NaT</td>\n",
       "    </tr>\n",
       "    <tr>\n",
       "      <th>15</th>\n",
       "      <td>17</td>\n",
       "      <td>161087</td>\n",
       "      <td>257980</td>\n",
       "      <td>2135-05-09 14:12:06</td>\n",
       "      <td>2135-05-10 11:18:34</td>\n",
       "      <td>130.839</td>\n",
       "      <td>2134-12-29 18:04:03</td>\n",
       "    </tr>\n",
       "    <tr>\n",
       "      <th>19</th>\n",
       "      <td>21</td>\n",
       "      <td>109451</td>\n",
       "      <td>217847</td>\n",
       "      <td>2134-09-11 20:50:04</td>\n",
       "      <td>2134-09-17 18:28:32</td>\n",
       "      <td>NaN</td>\n",
       "      <td>NaT</td>\n",
       "    </tr>\n",
       "  </tbody>\n",
       "</table>\n",
       "</div>"
      ],
      "text/plain": [
       "    subjectid  hadmid  icustayid          icu_intime         icu_outtime  \\\n",
       "5           7  118037     278444 2121-05-23 15:35:29 2121-05-23 22:01:00   \n",
       "6           7  118037     236754 2121-05-25 03:26:01 2121-05-25 21:10:19   \n",
       "14         17  194023     277042 2134-12-27 16:21:48 2134-12-29 18:04:03   \n",
       "15         17  161087     257980 2135-05-09 14:12:06 2135-05-10 11:18:34   \n",
       "19         21  109451     217847 2134-09-11 20:50:04 2134-09-17 18:28:32   \n",
       "\n",
       "    readm_days    icu_prev_outtime  \n",
       "5          NaN                 NaT  \n",
       "6        1.226 2121-05-23 22:01:00  \n",
       "14         NaN                 NaT  \n",
       "15     130.839 2134-12-29 18:04:03  \n",
       "19         NaN                 NaT  "
      ]
     },
     "execution_count": 5,
     "metadata": {},
     "output_type": "execute_result"
    }
   ],
   "source": [
    "# query\n",
    "q_readm_pat =\"\"\"SELECT * FROM\n",
    "    (SELECT subject_id, COUNT(icustay_id) AS n_icustays\n",
    "    FROM icustays\n",
    "    GROUP BY subject_id) AS sub_q\n",
    "WHERE n_icustays > 1;\"\"\"\n",
    "\n",
    "# Query output\n",
    "readm_pat = exec_query(q_readm_pat, False)\n",
    "df_readm_pat = pd.DataFrame(readm_pat, columns=['subjectid', 'n_icustays'])\n",
    "\n",
    "df_readm = df_icustay[df_icustay['subjectid'].isin(df_readm_pat.subjectid)]\n",
    "print df_readm.shape\n",
    "df_readm.head()"
   ]
  },
  {
   "cell_type": "markdown",
   "metadata": {},
   "source": [
    "Extract prior ICUstay ID through `icu_prior_outtime`.\n",
    "\n",
    "**Note**: Some ICUstays have duplicate entries (use of `DISTINCT ON` prevents duplicates)"
   ]
  },
  {
   "cell_type": "code",
   "execution_count": 6,
   "metadata": {
    "collapsed": false
   },
   "outputs": [
    {
     "name": "stdout",
     "output_type": "stream",
     "text": [
      "(23811, 7)\n"
     ]
    },
    {
     "data": {
      "text/html": [
       "<div style=\"max-height:1000px;max-width:1500px;overflow:auto;\">\n",
       "<table border=\"1\" class=\"dataframe\">\n",
       "  <thead>\n",
       "    <tr style=\"text-align: right;\">\n",
       "      <th></th>\n",
       "      <th>subjectid</th>\n",
       "      <th>hadmid</th>\n",
       "      <th>icustayid</th>\n",
       "      <th>icu_intime</th>\n",
       "      <th>icu_outtime</th>\n",
       "      <th>readm_days</th>\n",
       "      <th>prev_icustayid</th>\n",
       "    </tr>\n",
       "  </thead>\n",
       "  <tbody>\n",
       "    <tr>\n",
       "      <th>0</th>\n",
       "      <td>7</td>\n",
       "      <td>118037</td>\n",
       "      <td>278444</td>\n",
       "      <td>2121-05-23 15:35:29</td>\n",
       "      <td>2121-05-23 22:01:00</td>\n",
       "      <td>NaN</td>\n",
       "      <td>NaN</td>\n",
       "    </tr>\n",
       "    <tr>\n",
       "      <th>1</th>\n",
       "      <td>7</td>\n",
       "      <td>118037</td>\n",
       "      <td>236754</td>\n",
       "      <td>2121-05-25 03:26:01</td>\n",
       "      <td>2121-05-25 21:10:19</td>\n",
       "      <td>1.226</td>\n",
       "      <td>278444</td>\n",
       "    </tr>\n",
       "    <tr>\n",
       "      <th>2</th>\n",
       "      <td>17</td>\n",
       "      <td>194023</td>\n",
       "      <td>277042</td>\n",
       "      <td>2134-12-27 16:21:48</td>\n",
       "      <td>2134-12-29 18:04:03</td>\n",
       "      <td>NaN</td>\n",
       "      <td>NaN</td>\n",
       "    </tr>\n",
       "    <tr>\n",
       "      <th>3</th>\n",
       "      <td>17</td>\n",
       "      <td>161087</td>\n",
       "      <td>257980</td>\n",
       "      <td>2135-05-09 14:12:06</td>\n",
       "      <td>2135-05-10 11:18:34</td>\n",
       "      <td>130.839</td>\n",
       "      <td>277042</td>\n",
       "    </tr>\n",
       "    <tr>\n",
       "      <th>4</th>\n",
       "      <td>21</td>\n",
       "      <td>109451</td>\n",
       "      <td>217847</td>\n",
       "      <td>2134-09-11 20:50:04</td>\n",
       "      <td>2134-09-17 18:28:32</td>\n",
       "      <td>NaN</td>\n",
       "      <td>NaN</td>\n",
       "    </tr>\n",
       "  </tbody>\n",
       "</table>\n",
       "</div>"
      ],
      "text/plain": [
       "   subjectid  hadmid  icustayid          icu_intime         icu_outtime  \\\n",
       "0          7  118037     278444 2121-05-23 15:35:29 2121-05-23 22:01:00   \n",
       "1          7  118037     236754 2121-05-25 03:26:01 2121-05-25 21:10:19   \n",
       "2         17  194023     277042 2134-12-27 16:21:48 2134-12-29 18:04:03   \n",
       "3         17  161087     257980 2135-05-09 14:12:06 2135-05-10 11:18:34   \n",
       "4         21  109451     217847 2134-09-11 20:50:04 2134-09-17 18:28:32   \n",
       "\n",
       "   readm_days  prev_icustayid  \n",
       "0         NaN             NaN  \n",
       "1       1.226          278444  \n",
       "2         NaN             NaN  \n",
       "3     130.839          277042  \n",
       "4         NaN             NaN  "
      ]
     },
     "execution_count": 6,
     "metadata": {},
     "output_type": "execute_result"
    }
   ],
   "source": [
    "q_previcu = \"\"\"SELECT DISTINCT ON (subject_id, icustay_id, outtime) subject_id, icustay_id, outtime \n",
    "FROM transfers \n",
    "WHERE icustay_id IS NOT NULL;\n",
    "\"\"\"\n",
    "# Query output\n",
    "prev_icustay = exec_query(q_previcu)\n",
    "df_previcu = pd.DataFrame(prev_icustay, columns=['subjectid', 'prev_icustayid', 'icu_prev_outtime'])\n",
    "\n",
    "df_readm = pd.merge(df_readm, df_previcu, on=['subjectid', 'icu_prev_outtime'], how='left')\n",
    "df_readm.drop(labels='icu_prev_outtime', axis=1, inplace=True)\n",
    "print df_readm.shape\n",
    "df_readm.head()"
   ]
  },
  {
   "cell_type": "markdown",
   "metadata": {},
   "source": [
    "## Exclusion\n",
    "\n",
    "#### Neonate Patients"
   ]
  },
  {
   "cell_type": "code",
   "execution_count": 7,
   "metadata": {
    "collapsed": false
   },
   "outputs": [
    {
     "data": {
      "text/plain": [
       "(23357, 7)"
      ]
     },
     "execution_count": 7,
     "metadata": {},
     "output_type": "execute_result"
    }
   ],
   "source": [
    "q_nicu = \"\"\"SELECT DISTINCT icustay_id FROM transfers              \n",
    "WHERE curr_careunit = 'NICU' AND icustay_id IS NOT NULL;\n",
    "\"\"\"\n",
    "nicu_stays = exec_query(q_nicu)\n",
    "df_nicu_stays = pd.DataFrame(nicu_stays, columns=['icustayid'])\n",
    "\n",
    "df_readm = df_readm[df_readm['icustayid'].isin(df_nicu_stays.icustayid)==False]\n",
    "df_readm.shape"
   ]
  },
  {
   "cell_type": "markdown",
   "metadata": {},
   "source": [
    "#### Minors"
   ]
  },
  {
   "cell_type": "code",
   "execution_count": 8,
   "metadata": {
    "collapsed": false
   },
   "outputs": [
    {
     "data": {
      "text/plain": [
       "(23353, 7)"
      ]
     },
     "execution_count": 8,
     "metadata": {},
     "output_type": "execute_result"
    }
   ],
   "source": [
    "# age of patients < 90\n",
    "q_age_hadm1 = \"\"\"SELECT a.subject_id,\n",
    "    FLOOR((a.admittime::date - p.dob::date)/365.0) AS age\n",
    "    FROM admissions as a\n",
    "    INNER JOIN patients as p\n",
    "    ON a.subject_id = p.subject_id\n",
    "    WHERE FLOOR((a.admittime::date - p.dob::date)/365.0) < 90;\"\"\"\n",
    "\n",
    "# adjusted age of patients > 89\n",
    "q_age_hadm2 = \"\"\"SELECT a.subject_id,\n",
    "    FLOOR((a.admittime::date - p.dob::date)/365.0) -210 AS age\n",
    "    FROM admissions as a\n",
    "    INNER JOIN patients as p\n",
    "    ON a.subject_id = p.subject_id\n",
    "    WHERE FLOOR((a.admittime::date - p.dob::date)/365.0) > 89;\"\"\"\n",
    "\n",
    "age_hadm1 = exec_query(q_age_hadm1, False)\n",
    "age_hadm2 = exec_query(q_age_hadm2, False)\n",
    "df_age_hadm1 = pd.DataFrame(age_hadm1, columns=['subjectid', 'age'])\n",
    "df_age_hadm2 = pd.DataFrame(age_hadm2, columns=['subjectid', 'age'])\n",
    "\n",
    "df_age_hadm = pd.concat([df_age_hadm1, df_age_hadm2])\n",
    "df_adults = df_age_hadm[df_age_hadm.age > 17]\n",
    "\n",
    "df_adults_sid = list(df_adults.subjectid.value_counts().index)\n",
    "\n",
    "df_readm = df_readm[df_readm.subjectid.isin(df_adults_sid)]\n",
    "df_readm.shape"
   ]
  },
  {
   "cell_type": "markdown",
   "metadata": {},
   "source": [
    "### Previous ICU LOS\n",
    "The total LOS of the previous unique ICU stay, *includes the duration of all intra-ICU stays*."
   ]
  },
  {
   "cell_type": "code",
   "execution_count": 9,
   "metadata": {
    "collapsed": false
   },
   "outputs": [
    {
     "name": "stdout",
     "output_type": "stream",
     "text": [
      "(23353, 8)\n"
     ]
    },
    {
     "data": {
      "text/html": [
       "<div style=\"max-height:1000px;max-width:1500px;overflow:auto;\">\n",
       "<table border=\"1\" class=\"dataframe\">\n",
       "  <thead>\n",
       "    <tr style=\"text-align: right;\">\n",
       "      <th></th>\n",
       "      <th>subjectid</th>\n",
       "      <th>hadmid</th>\n",
       "      <th>icustayid</th>\n",
       "      <th>icu_intime</th>\n",
       "      <th>icu_outtime</th>\n",
       "      <th>readm_days</th>\n",
       "      <th>prev_icustayid</th>\n",
       "      <th>prev_iculos</th>\n",
       "    </tr>\n",
       "  </thead>\n",
       "  <tbody>\n",
       "    <tr>\n",
       "      <th>0</th>\n",
       "      <td>17</td>\n",
       "      <td>194023</td>\n",
       "      <td>277042</td>\n",
       "      <td>2134-12-27 16:21:48</td>\n",
       "      <td>2134-12-29 18:04:03</td>\n",
       "      <td>NaN</td>\n",
       "      <td>NaN</td>\n",
       "      <td>NaN</td>\n",
       "    </tr>\n",
       "    <tr>\n",
       "      <th>1</th>\n",
       "      <td>17</td>\n",
       "      <td>161087</td>\n",
       "      <td>257980</td>\n",
       "      <td>2135-05-09 14:12:06</td>\n",
       "      <td>2135-05-10 11:18:34</td>\n",
       "      <td>130.839</td>\n",
       "      <td>277042</td>\n",
       "      <td>2.0710</td>\n",
       "    </tr>\n",
       "    <tr>\n",
       "      <th>2</th>\n",
       "      <td>21</td>\n",
       "      <td>109451</td>\n",
       "      <td>217847</td>\n",
       "      <td>2134-09-11 20:50:04</td>\n",
       "      <td>2134-09-17 18:28:32</td>\n",
       "      <td>NaN</td>\n",
       "      <td>NaN</td>\n",
       "      <td>NaN</td>\n",
       "    </tr>\n",
       "    <tr>\n",
       "      <th>3</th>\n",
       "      <td>21</td>\n",
       "      <td>111970</td>\n",
       "      <td>216859</td>\n",
       "      <td>2135-01-30 20:53:34</td>\n",
       "      <td>2135-02-08 05:38:46</td>\n",
       "      <td>135.101</td>\n",
       "      <td>217847</td>\n",
       "      <td>5.9017</td>\n",
       "    </tr>\n",
       "    <tr>\n",
       "      <th>4</th>\n",
       "      <td>23</td>\n",
       "      <td>152223</td>\n",
       "      <td>227807</td>\n",
       "      <td>2153-09-03 09:38:55</td>\n",
       "      <td>2153-09-04 15:59:11</td>\n",
       "      <td>NaN</td>\n",
       "      <td>NaN</td>\n",
       "      <td>NaN</td>\n",
       "    </tr>\n",
       "  </tbody>\n",
       "</table>\n",
       "</div>"
      ],
      "text/plain": [
       "   subjectid  hadmid  icustayid          icu_intime         icu_outtime  \\\n",
       "0         17  194023     277042 2134-12-27 16:21:48 2134-12-29 18:04:03   \n",
       "1         17  161087     257980 2135-05-09 14:12:06 2135-05-10 11:18:34   \n",
       "2         21  109451     217847 2134-09-11 20:50:04 2134-09-17 18:28:32   \n",
       "3         21  111970     216859 2135-01-30 20:53:34 2135-02-08 05:38:46   \n",
       "4         23  152223     227807 2153-09-03 09:38:55 2153-09-04 15:59:11   \n",
       "\n",
       "   readm_days  prev_icustayid  prev_iculos  \n",
       "0         NaN             NaN          NaN  \n",
       "1     130.839          277042       2.0710  \n",
       "2         NaN             NaN          NaN  \n",
       "3     135.101          217847       5.9017  \n",
       "4         NaN             NaN          NaN  "
      ]
     },
     "execution_count": 9,
     "metadata": {},
     "output_type": "execute_result"
    }
   ],
   "source": [
    "q_prevlos = \"\"\"SELECT icustay_id, los \n",
    "FROM icustays;\"\"\"\n",
    "\n",
    "prevlos = exec_query(q_prevlos)\n",
    "df_prevlos = pd.DataFrame(prevlos, columns=['prev_icustayid', 'prev_iculos'])\n",
    "\n",
    "df_readm1 = pd.merge(df_readm, df_prevlos, on='prev_icustayid', how='left')\n",
    "\n",
    "print df_readm1.shape\n",
    "df_readm1.head()"
   ]
  },
  {
   "cell_type": "markdown",
   "metadata": {},
   "source": [
    "### Age\n",
    "Age of times at the time of ICU admission.\n",
    "\n",
    "**Notes**: \n",
    "  * Patients may have different age, depending on the time of admission.\n",
    "  * MIMIC-III adjusts age of patients > 89 years old (+ 210 years)"
   ]
  },
  {
   "cell_type": "code",
   "execution_count": 10,
   "metadata": {
    "collapsed": true
   },
   "outputs": [],
   "source": [
    "def age_adj(age):\n",
    "    if age > 89:\n",
    "        return age - 210\n",
    "    else:\n",
    "        return age"
   ]
  },
  {
   "cell_type": "code",
   "execution_count": 11,
   "metadata": {
    "collapsed": false
   },
   "outputs": [
    {
     "name": "stdout",
     "output_type": "stream",
     "text": [
      "(23349, 9)\n"
     ]
    },
    {
     "data": {
      "text/html": [
       "<div style=\"max-height:1000px;max-width:1500px;overflow:auto;\">\n",
       "<table border=\"1\" class=\"dataframe\">\n",
       "  <thead>\n",
       "    <tr style=\"text-align: right;\">\n",
       "      <th></th>\n",
       "      <th>subjectid</th>\n",
       "      <th>hadmid</th>\n",
       "      <th>icustayid</th>\n",
       "      <th>icu_intime</th>\n",
       "      <th>icu_outtime</th>\n",
       "      <th>readm_days</th>\n",
       "      <th>prev_icustayid</th>\n",
       "      <th>prev_iculos</th>\n",
       "      <th>age</th>\n",
       "    </tr>\n",
       "  </thead>\n",
       "  <tbody>\n",
       "    <tr>\n",
       "      <th>0</th>\n",
       "      <td>17</td>\n",
       "      <td>194023</td>\n",
       "      <td>277042</td>\n",
       "      <td>2134-12-27 16:21:48</td>\n",
       "      <td>2134-12-29 18:04:03</td>\n",
       "      <td>NaN</td>\n",
       "      <td>NaN</td>\n",
       "      <td>NaN</td>\n",
       "      <td>47</td>\n",
       "    </tr>\n",
       "    <tr>\n",
       "      <th>1</th>\n",
       "      <td>17</td>\n",
       "      <td>161087</td>\n",
       "      <td>257980</td>\n",
       "      <td>2135-05-09 14:12:06</td>\n",
       "      <td>2135-05-10 11:18:34</td>\n",
       "      <td>130.839</td>\n",
       "      <td>277042</td>\n",
       "      <td>2.0710</td>\n",
       "      <td>47</td>\n",
       "    </tr>\n",
       "    <tr>\n",
       "      <th>2</th>\n",
       "      <td>21</td>\n",
       "      <td>109451</td>\n",
       "      <td>217847</td>\n",
       "      <td>2134-09-11 20:50:04</td>\n",
       "      <td>2134-09-17 18:28:32</td>\n",
       "      <td>NaN</td>\n",
       "      <td>NaN</td>\n",
       "      <td>NaN</td>\n",
       "      <td>87</td>\n",
       "    </tr>\n",
       "    <tr>\n",
       "      <th>3</th>\n",
       "      <td>21</td>\n",
       "      <td>111970</td>\n",
       "      <td>216859</td>\n",
       "      <td>2135-01-30 20:53:34</td>\n",
       "      <td>2135-02-08 05:38:46</td>\n",
       "      <td>135.101</td>\n",
       "      <td>217847</td>\n",
       "      <td>5.9017</td>\n",
       "      <td>87</td>\n",
       "    </tr>\n",
       "    <tr>\n",
       "      <th>4</th>\n",
       "      <td>23</td>\n",
       "      <td>152223</td>\n",
       "      <td>227807</td>\n",
       "      <td>2153-09-03 09:38:55</td>\n",
       "      <td>2153-09-04 15:59:11</td>\n",
       "      <td>NaN</td>\n",
       "      <td>NaN</td>\n",
       "      <td>NaN</td>\n",
       "      <td>71</td>\n",
       "    </tr>\n",
       "  </tbody>\n",
       "</table>\n",
       "</div>"
      ],
      "text/plain": [
       "   subjectid  hadmid  icustayid          icu_intime         icu_outtime  \\\n",
       "0         17  194023     277042 2134-12-27 16:21:48 2134-12-29 18:04:03   \n",
       "1         17  161087     257980 2135-05-09 14:12:06 2135-05-10 11:18:34   \n",
       "2         21  109451     217847 2134-09-11 20:50:04 2134-09-17 18:28:32   \n",
       "3         21  111970     216859 2135-01-30 20:53:34 2135-02-08 05:38:46   \n",
       "4         23  152223     227807 2153-09-03 09:38:55 2153-09-04 15:59:11   \n",
       "\n",
       "   readm_days  prev_icustayid  prev_iculos  age  \n",
       "0         NaN             NaN          NaN   47  \n",
       "1     130.839          277042       2.0710   47  \n",
       "2         NaN             NaN          NaN   87  \n",
       "3     135.101          217847       5.9017   87  \n",
       "4         NaN             NaN          NaN   71  "
      ]
     },
     "execution_count": 11,
     "metadata": {},
     "output_type": "execute_result"
    }
   ],
   "source": [
    "q_age = \"\"\"SELECT DISTINCT subject_id, dob FROM patients;\"\"\"\n",
    "\n",
    "age = exec_query(q_age) # query output\n",
    "df_age = pd.DataFrame(age, columns=['subjectid', 'dob'])\n",
    "\n",
    "df_readm2 = pd.merge(df_readm1, df_age, on='subjectid', how='left')\n",
    "\n",
    "# Calculate age\n",
    "age = df_readm2.icu_intime.values.astype('datetime64[D]') - df_readm2.dob.values.astype('datetime64[D]')\n",
    "age = age / 365\n",
    "df_readm2['age'] = age.astype(int)\n",
    "df_readm2['age'] = df_readm2.age.apply(age_adj)\n",
    "\n",
    "df_readm2 = df_readm2[df_readm2.age > 17]\n",
    "df_readm2.drop('dob', axis=1, inplace=True)\n",
    "\n",
    "print df_readm2.shape\n",
    "df_readm2.head()"
   ]
  },
  {
   "cell_type": "markdown",
   "metadata": {},
   "source": [
    "### Ethnicity\n",
    "Ethnicity of the patients.\n",
    "\n",
    "Legend:\n",
    "  * `0`: Asian\n",
    "  * `1`: Black\n",
    "  * `2`: Hispanic\n",
    "  * `3`: White\n",
    "  * `4`: Other\n",
    "  * `5`: N/A\n",
    "\n",
    "**Notes**:\n",
    "  * Prior exploratory data analyses found that African-Americans were the leading group for being prone to ICU readmissions.  85% of their group were readmitted into the ICU.\n",
    "  * Dataset provides many specific ethnicity categories, thus providing little sample size when grouping the data by ethnicity. The feature/column has been processed in order to bin the data into more broad ethnicity categorizations.\n",
    "    * Ethnicity na accounts for data unable to be collected or declined by patients."
   ]
  },
  {
   "cell_type": "code",
   "execution_count": 12,
   "metadata": {
    "collapsed": true
   },
   "outputs": [],
   "source": [
    "def overall_ethn(ethn):\n",
    "    if 'hispanic' in ethn.lower():\n",
    "        new_ethn = 'hispanic'\n",
    "    elif 'asian' in ethn.lower() or 'pacific islander' in ethn.lower():\n",
    "        new_ethn = 'asian'\n",
    "    elif 'white' in ethn.lower():\n",
    "        new_ethn = 'white'\n",
    "    elif 'black' in ethn.lower():\n",
    "        new_ethn = 'black'\n",
    "    elif 'decline' in ethn.lower() or 'unable' in ethn.lower():\n",
    "        new_ethn = 'na'\n",
    "    else:\n",
    "        new_ethn = 'other'\n",
    "    return new_ethn"
   ]
  },
  {
   "cell_type": "code",
   "execution_count": 13,
   "metadata": {
    "collapsed": false
   },
   "outputs": [
    {
     "name": "stdout",
     "output_type": "stream",
     "text": [
      "(23349, 10)\n"
     ]
    },
    {
     "data": {
      "text/html": [
       "<div style=\"max-height:1000px;max-width:1500px;overflow:auto;\">\n",
       "<table border=\"1\" class=\"dataframe\">\n",
       "  <thead>\n",
       "    <tr style=\"text-align: right;\">\n",
       "      <th></th>\n",
       "      <th>subjectid</th>\n",
       "      <th>hadmid</th>\n",
       "      <th>icustayid</th>\n",
       "      <th>icu_intime</th>\n",
       "      <th>icu_outtime</th>\n",
       "      <th>readm_days</th>\n",
       "      <th>prev_icustayid</th>\n",
       "      <th>prev_iculos</th>\n",
       "      <th>age</th>\n",
       "      <th>ethnicity</th>\n",
       "    </tr>\n",
       "  </thead>\n",
       "  <tbody>\n",
       "    <tr>\n",
       "      <th>0</th>\n",
       "      <td>17</td>\n",
       "      <td>194023</td>\n",
       "      <td>277042</td>\n",
       "      <td>2134-12-27 16:21:48</td>\n",
       "      <td>2134-12-29 18:04:03</td>\n",
       "      <td>NaN</td>\n",
       "      <td>NaN</td>\n",
       "      <td>NaN</td>\n",
       "      <td>47</td>\n",
       "      <td>3</td>\n",
       "    </tr>\n",
       "    <tr>\n",
       "      <th>1</th>\n",
       "      <td>17</td>\n",
       "      <td>161087</td>\n",
       "      <td>257980</td>\n",
       "      <td>2135-05-09 14:12:06</td>\n",
       "      <td>2135-05-10 11:18:34</td>\n",
       "      <td>130.839</td>\n",
       "      <td>277042</td>\n",
       "      <td>2.0710</td>\n",
       "      <td>47</td>\n",
       "      <td>3</td>\n",
       "    </tr>\n",
       "    <tr>\n",
       "      <th>2</th>\n",
       "      <td>21</td>\n",
       "      <td>109451</td>\n",
       "      <td>217847</td>\n",
       "      <td>2134-09-11 20:50:04</td>\n",
       "      <td>2134-09-17 18:28:32</td>\n",
       "      <td>NaN</td>\n",
       "      <td>NaN</td>\n",
       "      <td>NaN</td>\n",
       "      <td>87</td>\n",
       "      <td>3</td>\n",
       "    </tr>\n",
       "    <tr>\n",
       "      <th>3</th>\n",
       "      <td>21</td>\n",
       "      <td>111970</td>\n",
       "      <td>216859</td>\n",
       "      <td>2135-01-30 20:53:34</td>\n",
       "      <td>2135-02-08 05:38:46</td>\n",
       "      <td>135.101</td>\n",
       "      <td>217847</td>\n",
       "      <td>5.9017</td>\n",
       "      <td>87</td>\n",
       "      <td>3</td>\n",
       "    </tr>\n",
       "    <tr>\n",
       "      <th>4</th>\n",
       "      <td>23</td>\n",
       "      <td>152223</td>\n",
       "      <td>227807</td>\n",
       "      <td>2153-09-03 09:38:55</td>\n",
       "      <td>2153-09-04 15:59:11</td>\n",
       "      <td>NaN</td>\n",
       "      <td>NaN</td>\n",
       "      <td>NaN</td>\n",
       "      <td>71</td>\n",
       "      <td>3</td>\n",
       "    </tr>\n",
       "  </tbody>\n",
       "</table>\n",
       "</div>"
      ],
      "text/plain": [
       "   subjectid  hadmid  icustayid          icu_intime         icu_outtime  \\\n",
       "0         17  194023     277042 2134-12-27 16:21:48 2134-12-29 18:04:03   \n",
       "1         17  161087     257980 2135-05-09 14:12:06 2135-05-10 11:18:34   \n",
       "2         21  109451     217847 2134-09-11 20:50:04 2134-09-17 18:28:32   \n",
       "3         21  111970     216859 2135-01-30 20:53:34 2135-02-08 05:38:46   \n",
       "4         23  152223     227807 2153-09-03 09:38:55 2153-09-04 15:59:11   \n",
       "\n",
       "   readm_days  prev_icustayid  prev_iculos  age  ethnicity  \n",
       "0         NaN             NaN          NaN   47          3  \n",
       "1     130.839          277042       2.0710   47          3  \n",
       "2         NaN             NaN          NaN   87          3  \n",
       "3     135.101          217847       5.9017   87          3  \n",
       "4         NaN             NaN          NaN   71          3  "
      ]
     },
     "execution_count": 13,
     "metadata": {},
     "output_type": "execute_result"
    }
   ],
   "source": [
    "q_ethn = \"\"\"SELECT DISTINCT ON (subject_id) subject_id, ethnicity \n",
    "FROM admissions;\"\"\"\n",
    "\n",
    "ethnicity = exec_query(q_ethn) # query output\n",
    "df_ethn = pd.DataFrame(ethnicity, columns=['subjectid', 'ethnicity'])\n",
    "\n",
    "df_readm3 = pd.merge(df_readm2, df_ethn, on='subjectid', how='left')\n",
    "df_readm3['ethnicity'] = df_readm3.ethnicity.apply(overall_ethn)\n",
    "df_readm3['ethnicity'].replace(to_replace = \n",
    "                               {'asian': 0, 'black':1, 'hispanic': 2,\n",
    "                               'white': 3, 'other': 4, 'na': 5}, inplace=True)\n",
    "\n",
    "print df_readm3.shape\n",
    "df_readm3.head()"
   ]
  },
  {
   "cell_type": "markdown",
   "metadata": {},
   "source": [
    "### Marital Status\n",
    "Martial status of the patients.\n",
    "\n",
    "Legend:\n",
    "  * `0`: Single\n",
    "  * `1`: Married\n",
    "  * `2`: Divorced\n",
    "  * `3`: Separated\n",
    "  * `4`: Widowed\n",
    "  * `5`: Life Partner\n",
    "  * `6`: Unknown (*default*)"
   ]
  },
  {
   "cell_type": "code",
   "execution_count": 14,
   "metadata": {
    "collapsed": false
   },
   "outputs": [
    {
     "name": "stdout",
     "output_type": "stream",
     "text": [
      "(23349, 11)\n"
     ]
    },
    {
     "data": {
      "text/html": [
       "<div style=\"max-height:1000px;max-width:1500px;overflow:auto;\">\n",
       "<table border=\"1\" class=\"dataframe\">\n",
       "  <thead>\n",
       "    <tr style=\"text-align: right;\">\n",
       "      <th></th>\n",
       "      <th>subjectid</th>\n",
       "      <th>hadmid</th>\n",
       "      <th>icustayid</th>\n",
       "      <th>icu_intime</th>\n",
       "      <th>icu_outtime</th>\n",
       "      <th>readm_days</th>\n",
       "      <th>prev_icustayid</th>\n",
       "      <th>prev_iculos</th>\n",
       "      <th>age</th>\n",
       "      <th>ethnicity</th>\n",
       "      <th>marital_status</th>\n",
       "    </tr>\n",
       "  </thead>\n",
       "  <tbody>\n",
       "    <tr>\n",
       "      <th>0</th>\n",
       "      <td>17</td>\n",
       "      <td>194023</td>\n",
       "      <td>277042</td>\n",
       "      <td>2134-12-27 16:21:48</td>\n",
       "      <td>2134-12-29 18:04:03</td>\n",
       "      <td>NaN</td>\n",
       "      <td>NaN</td>\n",
       "      <td>NaN</td>\n",
       "      <td>47</td>\n",
       "      <td>3</td>\n",
       "      <td>1</td>\n",
       "    </tr>\n",
       "    <tr>\n",
       "      <th>1</th>\n",
       "      <td>17</td>\n",
       "      <td>161087</td>\n",
       "      <td>257980</td>\n",
       "      <td>2135-05-09 14:12:06</td>\n",
       "      <td>2135-05-10 11:18:34</td>\n",
       "      <td>130.839</td>\n",
       "      <td>277042</td>\n",
       "      <td>2.0710</td>\n",
       "      <td>47</td>\n",
       "      <td>3</td>\n",
       "      <td>1</td>\n",
       "    </tr>\n",
       "    <tr>\n",
       "      <th>2</th>\n",
       "      <td>21</td>\n",
       "      <td>109451</td>\n",
       "      <td>217847</td>\n",
       "      <td>2134-09-11 20:50:04</td>\n",
       "      <td>2134-09-17 18:28:32</td>\n",
       "      <td>NaN</td>\n",
       "      <td>NaN</td>\n",
       "      <td>NaN</td>\n",
       "      <td>87</td>\n",
       "      <td>3</td>\n",
       "      <td>1</td>\n",
       "    </tr>\n",
       "    <tr>\n",
       "      <th>3</th>\n",
       "      <td>21</td>\n",
       "      <td>111970</td>\n",
       "      <td>216859</td>\n",
       "      <td>2135-01-30 20:53:34</td>\n",
       "      <td>2135-02-08 05:38:46</td>\n",
       "      <td>135.101</td>\n",
       "      <td>217847</td>\n",
       "      <td>5.9017</td>\n",
       "      <td>87</td>\n",
       "      <td>3</td>\n",
       "      <td>1</td>\n",
       "    </tr>\n",
       "    <tr>\n",
       "      <th>4</th>\n",
       "      <td>23</td>\n",
       "      <td>152223</td>\n",
       "      <td>227807</td>\n",
       "      <td>2153-09-03 09:38:55</td>\n",
       "      <td>2153-09-04 15:59:11</td>\n",
       "      <td>NaN</td>\n",
       "      <td>NaN</td>\n",
       "      <td>NaN</td>\n",
       "      <td>71</td>\n",
       "      <td>3</td>\n",
       "      <td>1</td>\n",
       "    </tr>\n",
       "  </tbody>\n",
       "</table>\n",
       "</div>"
      ],
      "text/plain": [
       "   subjectid  hadmid  icustayid          icu_intime         icu_outtime  \\\n",
       "0         17  194023     277042 2134-12-27 16:21:48 2134-12-29 18:04:03   \n",
       "1         17  161087     257980 2135-05-09 14:12:06 2135-05-10 11:18:34   \n",
       "2         21  109451     217847 2134-09-11 20:50:04 2134-09-17 18:28:32   \n",
       "3         21  111970     216859 2135-01-30 20:53:34 2135-02-08 05:38:46   \n",
       "4         23  152223     227807 2153-09-03 09:38:55 2153-09-04 15:59:11   \n",
       "\n",
       "   readm_days  prev_icustayid  prev_iculos  age  ethnicity  marital_status  \n",
       "0         NaN             NaN          NaN   47          3               1  \n",
       "1     130.839          277042       2.0710   47          3               1  \n",
       "2         NaN             NaN          NaN   87          3               1  \n",
       "3     135.101          217847       5.9017   87          3               1  \n",
       "4         NaN             NaN          NaN   71          3               1  "
      ]
     },
     "execution_count": 14,
     "metadata": {},
     "output_type": "execute_result"
    }
   ],
   "source": [
    "q_marital = \"\"\"SELECT DISTINCT ON (subject_id, hadm_id) subject_id, \n",
    "hadm_id, marital_status \n",
    "FROM admissions;\"\"\"\n",
    "\n",
    "marital_status = exec_query(q_marital) # query output\n",
    "df_marital = pd.DataFrame(marital_status, \n",
    "                          columns=['subjectid', 'hadmid', 'marital_status'])\n",
    "\n",
    "df_readm4 = pd.merge(df_readm3, df_marital, on=['subjectid', 'hadmid'], how='left')\n",
    "df_readm4['marital_status'].replace(to_replace = \n",
    "                                   {'SINGLE': 0, 'MARRIED':1, 'DIVORCED': 2,\n",
    "                                    'SEPARATED': 3, 'WIDOWED': 4, \n",
    "                                    'LIFE PARTNER': 5, 'UNKNOWN (DEFAULT)': 6, \n",
    "                                    '':6}, inplace=True)\n",
    "print df_readm4.shape\n",
    "df_readm4.head()"
   ]
  },
  {
   "cell_type": "markdown",
   "metadata": {},
   "source": [
    "### Insurance Type\n",
    "Insurance type of the patients.\n",
    "\n",
    "Legend:\n",
    "  * `0`: Government\n",
    "  * `1`: Medicaid\n",
    "  * `2`: Medicare\n",
    "  * `3`: Private\n",
    "  * `4`: Self Pay"
   ]
  },
  {
   "cell_type": "code",
   "execution_count": 15,
   "metadata": {
    "collapsed": false
   },
   "outputs": [
    {
     "name": "stdout",
     "output_type": "stream",
     "text": [
      "(23349, 12)\n"
     ]
    },
    {
     "data": {
      "text/html": [
       "<div style=\"max-height:1000px;max-width:1500px;overflow:auto;\">\n",
       "<table border=\"1\" class=\"dataframe\">\n",
       "  <thead>\n",
       "    <tr style=\"text-align: right;\">\n",
       "      <th></th>\n",
       "      <th>subjectid</th>\n",
       "      <th>hadmid</th>\n",
       "      <th>icustayid</th>\n",
       "      <th>icu_intime</th>\n",
       "      <th>icu_outtime</th>\n",
       "      <th>readm_days</th>\n",
       "      <th>prev_icustayid</th>\n",
       "      <th>prev_iculos</th>\n",
       "      <th>age</th>\n",
       "      <th>ethnicity</th>\n",
       "      <th>marital_status</th>\n",
       "      <th>insurance</th>\n",
       "    </tr>\n",
       "  </thead>\n",
       "  <tbody>\n",
       "    <tr>\n",
       "      <th>0</th>\n",
       "      <td>17</td>\n",
       "      <td>194023</td>\n",
       "      <td>277042</td>\n",
       "      <td>2134-12-27 16:21:48</td>\n",
       "      <td>2134-12-29 18:04:03</td>\n",
       "      <td>NaN</td>\n",
       "      <td>NaN</td>\n",
       "      <td>NaN</td>\n",
       "      <td>47</td>\n",
       "      <td>3</td>\n",
       "      <td>1</td>\n",
       "      <td>3</td>\n",
       "    </tr>\n",
       "    <tr>\n",
       "      <th>1</th>\n",
       "      <td>17</td>\n",
       "      <td>161087</td>\n",
       "      <td>257980</td>\n",
       "      <td>2135-05-09 14:12:06</td>\n",
       "      <td>2135-05-10 11:18:34</td>\n",
       "      <td>130.839</td>\n",
       "      <td>277042</td>\n",
       "      <td>2.0710</td>\n",
       "      <td>47</td>\n",
       "      <td>3</td>\n",
       "      <td>1</td>\n",
       "      <td>3</td>\n",
       "    </tr>\n",
       "    <tr>\n",
       "      <th>2</th>\n",
       "      <td>21</td>\n",
       "      <td>109451</td>\n",
       "      <td>217847</td>\n",
       "      <td>2134-09-11 20:50:04</td>\n",
       "      <td>2134-09-17 18:28:32</td>\n",
       "      <td>NaN</td>\n",
       "      <td>NaN</td>\n",
       "      <td>NaN</td>\n",
       "      <td>87</td>\n",
       "      <td>3</td>\n",
       "      <td>1</td>\n",
       "      <td>2</td>\n",
       "    </tr>\n",
       "    <tr>\n",
       "      <th>3</th>\n",
       "      <td>21</td>\n",
       "      <td>111970</td>\n",
       "      <td>216859</td>\n",
       "      <td>2135-01-30 20:53:34</td>\n",
       "      <td>2135-02-08 05:38:46</td>\n",
       "      <td>135.101</td>\n",
       "      <td>217847</td>\n",
       "      <td>5.9017</td>\n",
       "      <td>87</td>\n",
       "      <td>3</td>\n",
       "      <td>1</td>\n",
       "      <td>2</td>\n",
       "    </tr>\n",
       "    <tr>\n",
       "      <th>4</th>\n",
       "      <td>23</td>\n",
       "      <td>152223</td>\n",
       "      <td>227807</td>\n",
       "      <td>2153-09-03 09:38:55</td>\n",
       "      <td>2153-09-04 15:59:11</td>\n",
       "      <td>NaN</td>\n",
       "      <td>NaN</td>\n",
       "      <td>NaN</td>\n",
       "      <td>71</td>\n",
       "      <td>3</td>\n",
       "      <td>1</td>\n",
       "      <td>2</td>\n",
       "    </tr>\n",
       "  </tbody>\n",
       "</table>\n",
       "</div>"
      ],
      "text/plain": [
       "   subjectid  hadmid  icustayid          icu_intime         icu_outtime  \\\n",
       "0         17  194023     277042 2134-12-27 16:21:48 2134-12-29 18:04:03   \n",
       "1         17  161087     257980 2135-05-09 14:12:06 2135-05-10 11:18:34   \n",
       "2         21  109451     217847 2134-09-11 20:50:04 2134-09-17 18:28:32   \n",
       "3         21  111970     216859 2135-01-30 20:53:34 2135-02-08 05:38:46   \n",
       "4         23  152223     227807 2153-09-03 09:38:55 2153-09-04 15:59:11   \n",
       "\n",
       "   readm_days  prev_icustayid  prev_iculos  age  ethnicity  marital_status  \\\n",
       "0         NaN             NaN          NaN   47          3               1   \n",
       "1     130.839          277042       2.0710   47          3               1   \n",
       "2         NaN             NaN          NaN   87          3               1   \n",
       "3     135.101          217847       5.9017   87          3               1   \n",
       "4         NaN             NaN          NaN   71          3               1   \n",
       "\n",
       "   insurance  \n",
       "0          3  \n",
       "1          3  \n",
       "2          2  \n",
       "3          2  \n",
       "4          2  "
      ]
     },
     "execution_count": 15,
     "metadata": {},
     "output_type": "execute_result"
    }
   ],
   "source": [
    "q_insurance = \"\"\"SELECT DISTINCT ON (subject_id, hadm_id) subject_id, \n",
    "hadm_id, insurance \n",
    "FROM admissions;\"\"\"\n",
    "\n",
    "insurance = exec_query(q_insurance) # query output\n",
    "df_insurance = pd.DataFrame(insurance, \n",
    "                          columns=['subjectid', 'hadmid', 'insurance'])\n",
    "\n",
    "df_readm5 = pd.merge(df_readm4, df_insurance, on=['subjectid', 'hadmid'], how='left')\n",
    "df_readm5['insurance'].replace(to_replace = \n",
    "                                   {'Government': 0, 'Medicaid':1, 'Medicare': 2,\n",
    "                                    'Private': 3, 'Self Pay': 4}, inplace=True)\n",
    "print df_readm5.shape\n",
    "df_readm5.head()"
   ]
  },
  {
   "cell_type": "markdown",
   "metadata": {},
   "source": [
    "### Non-English Speakers\n",
    "Binary feature indicating whether the patient is a non-english speaker or not.\n",
    "\n",
    "Legend:\n",
    "  * `0`: English speaker\n",
    "  * `1`: Non-English speaker"
   ]
  },
  {
   "cell_type": "code",
   "execution_count": 16,
   "metadata": {
    "collapsed": false
   },
   "outputs": [
    {
     "name": "stdout",
     "output_type": "stream",
     "text": [
      "(23349, 13)\n"
     ]
    },
    {
     "data": {
      "text/html": [
       "<div style=\"max-height:1000px;max-width:1500px;overflow:auto;\">\n",
       "<table border=\"1\" class=\"dataframe\">\n",
       "  <thead>\n",
       "    <tr style=\"text-align: right;\">\n",
       "      <th></th>\n",
       "      <th>subjectid</th>\n",
       "      <th>hadmid</th>\n",
       "      <th>icustayid</th>\n",
       "      <th>icu_intime</th>\n",
       "      <th>icu_outtime</th>\n",
       "      <th>readm_days</th>\n",
       "      <th>prev_icustayid</th>\n",
       "      <th>prev_iculos</th>\n",
       "      <th>age</th>\n",
       "      <th>ethnicity</th>\n",
       "      <th>marital_status</th>\n",
       "      <th>insurance</th>\n",
       "      <th>NonEnglish</th>\n",
       "    </tr>\n",
       "  </thead>\n",
       "  <tbody>\n",
       "    <tr>\n",
       "      <th>0</th>\n",
       "      <td>17</td>\n",
       "      <td>194023</td>\n",
       "      <td>277042</td>\n",
       "      <td>2134-12-27 16:21:48</td>\n",
       "      <td>2134-12-29 18:04:03</td>\n",
       "      <td>NaN</td>\n",
       "      <td>NaN</td>\n",
       "      <td>NaN</td>\n",
       "      <td>47</td>\n",
       "      <td>3</td>\n",
       "      <td>1</td>\n",
       "      <td>3</td>\n",
       "      <td>0</td>\n",
       "    </tr>\n",
       "    <tr>\n",
       "      <th>1</th>\n",
       "      <td>17</td>\n",
       "      <td>161087</td>\n",
       "      <td>257980</td>\n",
       "      <td>2135-05-09 14:12:06</td>\n",
       "      <td>2135-05-10 11:18:34</td>\n",
       "      <td>130.839</td>\n",
       "      <td>277042</td>\n",
       "      <td>2.0710</td>\n",
       "      <td>47</td>\n",
       "      <td>3</td>\n",
       "      <td>1</td>\n",
       "      <td>3</td>\n",
       "      <td>0</td>\n",
       "    </tr>\n",
       "    <tr>\n",
       "      <th>2</th>\n",
       "      <td>21</td>\n",
       "      <td>109451</td>\n",
       "      <td>217847</td>\n",
       "      <td>2134-09-11 20:50:04</td>\n",
       "      <td>2134-09-17 18:28:32</td>\n",
       "      <td>NaN</td>\n",
       "      <td>NaN</td>\n",
       "      <td>NaN</td>\n",
       "      <td>87</td>\n",
       "      <td>3</td>\n",
       "      <td>1</td>\n",
       "      <td>2</td>\n",
       "      <td>1</td>\n",
       "    </tr>\n",
       "    <tr>\n",
       "      <th>3</th>\n",
       "      <td>21</td>\n",
       "      <td>111970</td>\n",
       "      <td>216859</td>\n",
       "      <td>2135-01-30 20:53:34</td>\n",
       "      <td>2135-02-08 05:38:46</td>\n",
       "      <td>135.101</td>\n",
       "      <td>217847</td>\n",
       "      <td>5.9017</td>\n",
       "      <td>87</td>\n",
       "      <td>3</td>\n",
       "      <td>1</td>\n",
       "      <td>2</td>\n",
       "      <td>1</td>\n",
       "    </tr>\n",
       "    <tr>\n",
       "      <th>4</th>\n",
       "      <td>23</td>\n",
       "      <td>152223</td>\n",
       "      <td>227807</td>\n",
       "      <td>2153-09-03 09:38:55</td>\n",
       "      <td>2153-09-04 15:59:11</td>\n",
       "      <td>NaN</td>\n",
       "      <td>NaN</td>\n",
       "      <td>NaN</td>\n",
       "      <td>71</td>\n",
       "      <td>3</td>\n",
       "      <td>1</td>\n",
       "      <td>2</td>\n",
       "      <td>1</td>\n",
       "    </tr>\n",
       "  </tbody>\n",
       "</table>\n",
       "</div>"
      ],
      "text/plain": [
       "   subjectid  hadmid  icustayid          icu_intime         icu_outtime  \\\n",
       "0         17  194023     277042 2134-12-27 16:21:48 2134-12-29 18:04:03   \n",
       "1         17  161087     257980 2135-05-09 14:12:06 2135-05-10 11:18:34   \n",
       "2         21  109451     217847 2134-09-11 20:50:04 2134-09-17 18:28:32   \n",
       "3         21  111970     216859 2135-01-30 20:53:34 2135-02-08 05:38:46   \n",
       "4         23  152223     227807 2153-09-03 09:38:55 2153-09-04 15:59:11   \n",
       "\n",
       "   readm_days  prev_icustayid  prev_iculos  age  ethnicity  marital_status  \\\n",
       "0         NaN             NaN          NaN   47          3               1   \n",
       "1     130.839          277042       2.0710   47          3               1   \n",
       "2         NaN             NaN          NaN   87          3               1   \n",
       "3     135.101          217847       5.9017   87          3               1   \n",
       "4         NaN             NaN          NaN   71          3               1   \n",
       "\n",
       "   insurance  NonEnglish  \n",
       "0          3           0  \n",
       "1          3           0  \n",
       "2          2           1  \n",
       "3          2           1  \n",
       "4          2           1  "
      ]
     },
     "execution_count": 16,
     "metadata": {},
     "output_type": "execute_result"
    }
   ],
   "source": [
    "q_lang = \"\"\"SELECT DISTINCT ON (subject_id, hadm_id) subject_id, \n",
    "hadm_id, language \n",
    "FROM admissions;\"\"\"\n",
    "\n",
    "lang = exec_query(q_lang) # query output\n",
    "df_noneng = pd.DataFrame(lang, \n",
    "                          columns=['subjectid', 'hadmid', 'NonEnglish'])\n",
    "\n",
    "df_readm6 = pd.merge(df_readm5, df_noneng, on=['subjectid', 'hadmid'], how='left')\n",
    "df_readm6['NonEnglish'] = df_readm6['NonEnglish'].apply(lambda x: 0 if x == 'ENGL' else 1)\n",
    "\n",
    "print df_readm6.shape\n",
    "df_readm6.head()"
   ]
  },
  {
   "cell_type": "markdown",
   "metadata": {},
   "source": [
    "## Response Variable\n",
    "### Average ICU LOS\n",
    "Feature (Response): The average length of stay in the ICU (`icustay_id`) for each patient's hospital admission.\n",
    "  * Feature is the response/dependent variable (`y`)"
   ]
  },
  {
   "cell_type": "code",
   "execution_count": 17,
   "metadata": {
    "collapsed": false
   },
   "outputs": [
    {
     "name": "stdout",
     "output_type": "stream",
     "text": [
      "(23348, 13)\n"
     ]
    },
    {
     "data": {
      "text/html": [
       "<div style=\"max-height:1000px;max-width:1500px;overflow:auto;\">\n",
       "<table border=\"1\" class=\"dataframe\">\n",
       "  <thead>\n",
       "    <tr style=\"text-align: right;\">\n",
       "      <th></th>\n",
       "      <th>subjectid</th>\n",
       "      <th>hadmid</th>\n",
       "      <th>icustayid</th>\n",
       "      <th>icu_intime</th>\n",
       "      <th>icu_outtime</th>\n",
       "      <th>readm_days</th>\n",
       "      <th>prev_icustayid</th>\n",
       "      <th>prev_iculos</th>\n",
       "      <th>age</th>\n",
       "      <th>ethnicity</th>\n",
       "      <th>marital_status</th>\n",
       "      <th>insurance</th>\n",
       "      <th>icu_los</th>\n",
       "    </tr>\n",
       "  </thead>\n",
       "  <tbody>\n",
       "    <tr>\n",
       "      <th>0</th>\n",
       "      <td>17</td>\n",
       "      <td>194023</td>\n",
       "      <td>277042</td>\n",
       "      <td>2134-12-27 16:21:48</td>\n",
       "      <td>2134-12-29 18:04:03</td>\n",
       "      <td>0.000</td>\n",
       "      <td>0</td>\n",
       "      <td>0.0000</td>\n",
       "      <td>47</td>\n",
       "      <td>3</td>\n",
       "      <td>1</td>\n",
       "      <td>3</td>\n",
       "      <td>2.0710</td>\n",
       "    </tr>\n",
       "    <tr>\n",
       "      <th>1</th>\n",
       "      <td>17</td>\n",
       "      <td>161087</td>\n",
       "      <td>257980</td>\n",
       "      <td>2135-05-09 14:12:06</td>\n",
       "      <td>2135-05-10 11:18:34</td>\n",
       "      <td>130.839</td>\n",
       "      <td>277042</td>\n",
       "      <td>2.0710</td>\n",
       "      <td>47</td>\n",
       "      <td>3</td>\n",
       "      <td>1</td>\n",
       "      <td>3</td>\n",
       "      <td>0.8795</td>\n",
       "    </tr>\n",
       "    <tr>\n",
       "      <th>2</th>\n",
       "      <td>21</td>\n",
       "      <td>109451</td>\n",
       "      <td>217847</td>\n",
       "      <td>2134-09-11 20:50:04</td>\n",
       "      <td>2134-09-17 18:28:32</td>\n",
       "      <td>0.000</td>\n",
       "      <td>0</td>\n",
       "      <td>0.0000</td>\n",
       "      <td>87</td>\n",
       "      <td>3</td>\n",
       "      <td>1</td>\n",
       "      <td>2</td>\n",
       "      <td>5.9017</td>\n",
       "    </tr>\n",
       "    <tr>\n",
       "      <th>3</th>\n",
       "      <td>21</td>\n",
       "      <td>111970</td>\n",
       "      <td>216859</td>\n",
       "      <td>2135-01-30 20:53:34</td>\n",
       "      <td>2135-02-08 05:38:46</td>\n",
       "      <td>135.101</td>\n",
       "      <td>217847</td>\n",
       "      <td>5.9017</td>\n",
       "      <td>87</td>\n",
       "      <td>3</td>\n",
       "      <td>1</td>\n",
       "      <td>2</td>\n",
       "      <td>8.3647</td>\n",
       "    </tr>\n",
       "    <tr>\n",
       "      <th>4</th>\n",
       "      <td>23</td>\n",
       "      <td>152223</td>\n",
       "      <td>227807</td>\n",
       "      <td>2153-09-03 09:38:55</td>\n",
       "      <td>2153-09-04 15:59:11</td>\n",
       "      <td>0.000</td>\n",
       "      <td>0</td>\n",
       "      <td>0.0000</td>\n",
       "      <td>71</td>\n",
       "      <td>3</td>\n",
       "      <td>1</td>\n",
       "      <td>2</td>\n",
       "      <td>1.2641</td>\n",
       "    </tr>\n",
       "  </tbody>\n",
       "</table>\n",
       "</div>"
      ],
      "text/plain": [
       "   subjectid  hadmid  icustayid          icu_intime         icu_outtime  \\\n",
       "0         17  194023     277042 2134-12-27 16:21:48 2134-12-29 18:04:03   \n",
       "1         17  161087     257980 2135-05-09 14:12:06 2135-05-10 11:18:34   \n",
       "2         21  109451     217847 2134-09-11 20:50:04 2134-09-17 18:28:32   \n",
       "3         21  111970     216859 2135-01-30 20:53:34 2135-02-08 05:38:46   \n",
       "4         23  152223     227807 2153-09-03 09:38:55 2153-09-04 15:59:11   \n",
       "\n",
       "   readm_days  prev_icustayid  prev_iculos  age  ethnicity  marital_status  \\\n",
       "0       0.000               0       0.0000   47          3               1   \n",
       "1     130.839          277042       2.0710   47          3               1   \n",
       "2       0.000               0       0.0000   87          3               1   \n",
       "3     135.101          217847       5.9017   87          3               1   \n",
       "4       0.000               0       0.0000   71          3               1   \n",
       "\n",
       "   insurance  icu_los  \n",
       "0          3   2.0710  \n",
       "1          3   0.8795  \n",
       "2          2   5.9017  \n",
       "3          2   8.3647  \n",
       "4          2   1.2641  "
      ]
     },
     "execution_count": 17,
     "metadata": {},
     "output_type": "execute_result"
    }
   ],
   "source": [
    "q_iculos = \"\"\"SELECT icustay_id, los \n",
    "FROM icustays;\"\"\"\n",
    "\n",
    "iculos = exec_query(q_iculos)\n",
    "df_iculos = pd.DataFrame(iculos, columns=['icustayid', 'icu_los'])\n",
    "\n",
    "df_icustay_f = pd.merge(df_readm5, df_iculos, on='icustayid', how='left')\n",
    "df_icustay_f.dropna(subset = ['icu_outtime'], inplace=True)\n",
    "df_icustay_f.fillna(0, inplace=True)\n",
    "df_icustay_f['prev_icustayid'] = df_icustay_f['prev_icustayid'].astype(int)\n",
    "\n",
    "print df_icustay_f.shape\n",
    "df_icustay_f.head()"
   ]
  },
  {
   "cell_type": "markdown",
   "metadata": {},
   "source": [
    "## Composite Dataset\n",
    "Drop unneeded features that were used for data engineering/feature extraction.\n",
    "  * **`icu_intime`**\n",
    "  * **`icu_outtime`**\n",
    "  * **`prev_icustayid`**"
   ]
  },
  {
   "cell_type": "code",
   "execution_count": 18,
   "metadata": {
    "collapsed": false
   },
   "outputs": [
    {
     "name": "stdout",
     "output_type": "stream",
     "text": [
      "(23348, 10)\n"
     ]
    },
    {
     "data": {
      "text/html": [
       "<div style=\"max-height:1000px;max-width:1500px;overflow:auto;\">\n",
       "<table border=\"1\" class=\"dataframe\">\n",
       "  <thead>\n",
       "    <tr style=\"text-align: right;\">\n",
       "      <th></th>\n",
       "      <th>subjectid</th>\n",
       "      <th>hadmid</th>\n",
       "      <th>icustayid</th>\n",
       "      <th>readm_days</th>\n",
       "      <th>prev_iculos</th>\n",
       "      <th>age</th>\n",
       "      <th>ethnicity</th>\n",
       "      <th>marital_status</th>\n",
       "      <th>insurance</th>\n",
       "      <th>icu_los</th>\n",
       "    </tr>\n",
       "  </thead>\n",
       "  <tbody>\n",
       "    <tr>\n",
       "      <th>0</th>\n",
       "      <td>17</td>\n",
       "      <td>194023</td>\n",
       "      <td>277042</td>\n",
       "      <td>0.000</td>\n",
       "      <td>0.0000</td>\n",
       "      <td>47</td>\n",
       "      <td>3</td>\n",
       "      <td>1</td>\n",
       "      <td>3</td>\n",
       "      <td>2.0710</td>\n",
       "    </tr>\n",
       "    <tr>\n",
       "      <th>1</th>\n",
       "      <td>17</td>\n",
       "      <td>161087</td>\n",
       "      <td>257980</td>\n",
       "      <td>130.839</td>\n",
       "      <td>2.0710</td>\n",
       "      <td>47</td>\n",
       "      <td>3</td>\n",
       "      <td>1</td>\n",
       "      <td>3</td>\n",
       "      <td>0.8795</td>\n",
       "    </tr>\n",
       "    <tr>\n",
       "      <th>2</th>\n",
       "      <td>21</td>\n",
       "      <td>109451</td>\n",
       "      <td>217847</td>\n",
       "      <td>0.000</td>\n",
       "      <td>0.0000</td>\n",
       "      <td>87</td>\n",
       "      <td>3</td>\n",
       "      <td>1</td>\n",
       "      <td>2</td>\n",
       "      <td>5.9017</td>\n",
       "    </tr>\n",
       "    <tr>\n",
       "      <th>3</th>\n",
       "      <td>21</td>\n",
       "      <td>111970</td>\n",
       "      <td>216859</td>\n",
       "      <td>135.101</td>\n",
       "      <td>5.9017</td>\n",
       "      <td>87</td>\n",
       "      <td>3</td>\n",
       "      <td>1</td>\n",
       "      <td>2</td>\n",
       "      <td>8.3647</td>\n",
       "    </tr>\n",
       "    <tr>\n",
       "      <th>4</th>\n",
       "      <td>23</td>\n",
       "      <td>152223</td>\n",
       "      <td>227807</td>\n",
       "      <td>0.000</td>\n",
       "      <td>0.0000</td>\n",
       "      <td>71</td>\n",
       "      <td>3</td>\n",
       "      <td>1</td>\n",
       "      <td>2</td>\n",
       "      <td>1.2641</td>\n",
       "    </tr>\n",
       "  </tbody>\n",
       "</table>\n",
       "</div>"
      ],
      "text/plain": [
       "   subjectid  hadmid  icustayid  readm_days  prev_iculos  age  ethnicity  \\\n",
       "0         17  194023     277042       0.000       0.0000   47          3   \n",
       "1         17  161087     257980     130.839       2.0710   47          3   \n",
       "2         21  109451     217847       0.000       0.0000   87          3   \n",
       "3         21  111970     216859     135.101       5.9017   87          3   \n",
       "4         23  152223     227807       0.000       0.0000   71          3   \n",
       "\n",
       "   marital_status  insurance  icu_los  \n",
       "0               1          3   2.0710  \n",
       "1               1          3   0.8795  \n",
       "2               1          2   5.9017  \n",
       "3               1          2   8.3647  \n",
       "4               1          2   1.2641  "
      ]
     },
     "execution_count": 18,
     "metadata": {},
     "output_type": "execute_result"
    }
   ],
   "source": [
    "df_icustay_f.drop(['icu_intime', 'icu_outtime', 'prev_icustayid'], axis=1, inplace=1)\n",
    "\n",
    "print df_icustay_f.shape\n",
    "df_icustay_f.head()"
   ]
  },
  {
   "cell_type": "code",
   "execution_count": 19,
   "metadata": {
    "collapsed": false
   },
   "outputs": [
    {
     "name": "stdout",
     "output_type": "stream",
     "text": [
      "<class 'pandas.core.frame.DataFrame'>\n",
      "Int64Index: 23348 entries, 0 to 23348\n",
      "Data columns (total 10 columns):\n",
      "subjectid         23348 non-null int64\n",
      "hadmid            23348 non-null int64\n",
      "icustayid         23348 non-null int64\n",
      "readm_days        23348 non-null float64\n",
      "prev_iculos       23348 non-null float64\n",
      "age               23348 non-null int64\n",
      "ethnicity         23348 non-null int64\n",
      "marital_status    23348 non-null int64\n",
      "insurance         23348 non-null int64\n",
      "icu_los           23348 non-null float64\n",
      "dtypes: float64(3), int64(7)\n",
      "memory usage: 2.0 MB\n"
     ]
    }
   ],
   "source": [
    "df_icustay_f.info()"
   ]
  },
  {
   "cell_type": "code",
   "execution_count": 20,
   "metadata": {
    "collapsed": false
   },
   "outputs": [
    {
     "data": {
      "text/html": [
       "<div style=\"max-height:1000px;max-width:1500px;overflow:auto;\">\n",
       "<table border=\"1\" class=\"dataframe\">\n",
       "  <thead>\n",
       "    <tr style=\"text-align: right;\">\n",
       "      <th></th>\n",
       "      <th>subjectid</th>\n",
       "      <th>hadmid</th>\n",
       "      <th>icustayid</th>\n",
       "      <th>readm_days</th>\n",
       "      <th>prev_iculos</th>\n",
       "      <th>age</th>\n",
       "      <th>ethnicity</th>\n",
       "      <th>marital_status</th>\n",
       "      <th>insurance</th>\n",
       "      <th>icu_los</th>\n",
       "    </tr>\n",
       "  </thead>\n",
       "  <tbody>\n",
       "    <tr>\n",
       "      <th>count</th>\n",
       "      <td>23348.000000</td>\n",
       "      <td>23348.000000</td>\n",
       "      <td>23348.000000</td>\n",
       "      <td>23348.000000</td>\n",
       "      <td>23348.000000</td>\n",
       "      <td>23348.000000</td>\n",
       "      <td>23348.000000</td>\n",
       "      <td>23348.000000</td>\n",
       "      <td>23348.000000</td>\n",
       "      <td>23348.000000</td>\n",
       "    </tr>\n",
       "    <tr>\n",
       "      <th>mean</th>\n",
       "      <td>33409.860502</td>\n",
       "      <td>149854.871766</td>\n",
       "      <td>249872.788719</td>\n",
       "      <td>196.303489</td>\n",
       "      <td>2.911885</td>\n",
       "      <td>64.495631</td>\n",
       "      <td>2.743490</td>\n",
       "      <td>1.392282</td>\n",
       "      <td>2.122580</td>\n",
       "      <td>4.523522</td>\n",
       "    </tr>\n",
       "    <tr>\n",
       "      <th>std</th>\n",
       "      <td>27905.246978</td>\n",
       "      <td>28915.789439</td>\n",
       "      <td>28932.059589</td>\n",
       "      <td>477.965544</td>\n",
       "      <td>6.025435</td>\n",
       "      <td>16.132425</td>\n",
       "      <td>0.897705</td>\n",
       "      <td>1.476796</td>\n",
       "      <td>0.669831</td>\n",
       "      <td>6.814703</td>\n",
       "    </tr>\n",
       "    <tr>\n",
       "      <th>min</th>\n",
       "      <td>17.000000</td>\n",
       "      <td>100001.000000</td>\n",
       "      <td>200001.000000</td>\n",
       "      <td>0.000000</td>\n",
       "      <td>0.000000</td>\n",
       "      <td>18.000000</td>\n",
       "      <td>0.000000</td>\n",
       "      <td>0.000000</td>\n",
       "      <td>0.000000</td>\n",
       "      <td>0.000100</td>\n",
       "    </tr>\n",
       "    <tr>\n",
       "      <th>25%</th>\n",
       "      <td>11826.000000</td>\n",
       "      <td>124988.750000</td>\n",
       "      <td>224752.250000</td>\n",
       "      <td>0.000000</td>\n",
       "      <td>0.000000</td>\n",
       "      <td>54.000000</td>\n",
       "      <td>3.000000</td>\n",
       "      <td>0.000000</td>\n",
       "      <td>2.000000</td>\n",
       "      <td>1.293575</td>\n",
       "    </tr>\n",
       "    <tr>\n",
       "      <th>50%</th>\n",
       "      <td>24108.000000</td>\n",
       "      <td>149696.000000</td>\n",
       "      <td>250002.000000</td>\n",
       "      <td>6.495000</td>\n",
       "      <td>1.179350</td>\n",
       "      <td>66.000000</td>\n",
       "      <td>3.000000</td>\n",
       "      <td>1.000000</td>\n",
       "      <td>2.000000</td>\n",
       "      <td>2.333550</td>\n",
       "    </tr>\n",
       "    <tr>\n",
       "      <th>75%</th>\n",
       "      <td>52957.500000</td>\n",
       "      <td>174677.750000</td>\n",
       "      <td>274959.250000</td>\n",
       "      <td>114.947500</td>\n",
       "      <td>3.063675</td>\n",
       "      <td>77.000000</td>\n",
       "      <td>3.000000</td>\n",
       "      <td>2.000000</td>\n",
       "      <td>3.000000</td>\n",
       "      <td>4.714650</td>\n",
       "    </tr>\n",
       "    <tr>\n",
       "      <th>max</th>\n",
       "      <td>99982.000000</td>\n",
       "      <td>199995.000000</td>\n",
       "      <td>299998.000000</td>\n",
       "      <td>4116.430000</td>\n",
       "      <td>173.072500</td>\n",
       "      <td>101.000000</td>\n",
       "      <td>5.000000</td>\n",
       "      <td>6.000000</td>\n",
       "      <td>4.000000</td>\n",
       "      <td>173.072500</td>\n",
       "    </tr>\n",
       "  </tbody>\n",
       "</table>\n",
       "</div>"
      ],
      "text/plain": [
       "          subjectid         hadmid      icustayid    readm_days   prev_iculos  \\\n",
       "count  23348.000000   23348.000000   23348.000000  23348.000000  23348.000000   \n",
       "mean   33409.860502  149854.871766  249872.788719    196.303489      2.911885   \n",
       "std    27905.246978   28915.789439   28932.059589    477.965544      6.025435   \n",
       "min       17.000000  100001.000000  200001.000000      0.000000      0.000000   \n",
       "25%    11826.000000  124988.750000  224752.250000      0.000000      0.000000   \n",
       "50%    24108.000000  149696.000000  250002.000000      6.495000      1.179350   \n",
       "75%    52957.500000  174677.750000  274959.250000    114.947500      3.063675   \n",
       "max    99982.000000  199995.000000  299998.000000   4116.430000    173.072500   \n",
       "\n",
       "                age     ethnicity  marital_status     insurance       icu_los  \n",
       "count  23348.000000  23348.000000    23348.000000  23348.000000  23348.000000  \n",
       "mean      64.495631      2.743490        1.392282      2.122580      4.523522  \n",
       "std       16.132425      0.897705        1.476796      0.669831      6.814703  \n",
       "min       18.000000      0.000000        0.000000      0.000000      0.000100  \n",
       "25%       54.000000      3.000000        0.000000      2.000000      1.293575  \n",
       "50%       66.000000      3.000000        1.000000      2.000000      2.333550  \n",
       "75%       77.000000      3.000000        2.000000      3.000000      4.714650  \n",
       "max      101.000000      5.000000        6.000000      4.000000    173.072500  "
      ]
     },
     "execution_count": 20,
     "metadata": {},
     "output_type": "execute_result"
    }
   ],
   "source": [
    "df_icustay_f.describe()"
   ]
  },
  {
   "cell_type": "markdown",
   "metadata": {},
   "source": [
    "# Predictive Modeling"
   ]
  },
  {
   "cell_type": "code",
   "execution_count": 21,
   "metadata": {
    "collapsed": true
   },
   "outputs": [],
   "source": [
    "am_debugging = True\n",
    "if am_debugging:\n",
    "    np.random.seed(2)\n",
    "else:\n",
    "    np.random.seed()"
   ]
  },
  {
   "cell_type": "markdown",
   "metadata": {},
   "source": [
    "#### Partition: Training & Testing Sets"
   ]
  },
  {
   "cell_type": "code",
   "execution_count": 22,
   "metadata": {
    "collapsed": true
   },
   "outputs": [],
   "source": [
    "def data_partition(data, train_thres=0.75):\n",
    "    \"\"\"\n",
    "    Helper function identifying indices for each record to be a part of the\n",
    "    training set. The quantity of a given subject's set of records is determined\n",
    "    by the training threshold.\n",
    "    \n",
    "    :param data: pandas DataFrame\n",
    "    :param train_thres: float indicating threshold\n",
    "    :return: list of training indices\n",
    "    \"\"\"\n",
    "    if train_thres > 0.83:\n",
    "        return \"This helper function is not appropriate for training threshold > 83%.\"\n",
    "    \n",
    "    idx_lst = []\n",
    "    subj_count = dict(Counter(data.subjectid))\n",
    "    sid_lst = np.sort(list(data.subjectid.value_counts().index))\n",
    "    for sid in sid_lst:\n",
    "        idx_min = data['subjectid'][data.subjectid == sid].idxmin()\n",
    "        if subj_count[sid] > 2:\n",
    "            end_idx = idx_min + int(np.round(subj_count[sid] * train_thres))\n",
    "            idx_lst += range(idx_min, end_idx)\n",
    "        else:\n",
    "            idx_lst += [idx_min]\n",
    "    return idx_lst"
   ]
  },
  {
   "cell_type": "code",
   "execution_count": 23,
   "metadata": {
    "collapsed": false
   },
   "outputs": [
    {
     "data": {
      "text/plain": [
       "((614, 10), (386, 10))"
      ]
     },
     "execution_count": 23,
     "metadata": {},
     "output_type": "execute_result"
    }
   ],
   "source": [
    "data = df_icustay_f.copy().iloc[:1000, :]\n",
    "\n",
    "train_idx = data_partition(data, 0.75)\n",
    "\n",
    "train_data = data.ix[train_idx]\n",
    "test_idx = data.index[data.index.isin(train_idx)==False]\n",
    "test_data = data.ix[test_idx]\n",
    "\n",
    "train_data.shape, test_data.shape"
   ]
  },
  {
   "cell_type": "code",
   "execution_count": 24,
   "metadata": {
    "collapsed": false
   },
   "outputs": [
    {
     "data": {
      "text/plain": [
       "((614, 9), (386, 9), (614,), (386,))"
      ]
     },
     "execution_count": 24,
     "metadata": {},
     "output_type": "execute_result"
    }
   ],
   "source": [
    "X_train = train_data.iloc[:, :-1]\n",
    "X_test = test_data.iloc[:, :-1]\n",
    "y_train = np.array(train_data.iloc[:, -1])\n",
    "y_test = np.array(test_data.iloc[:, -1])\n",
    "X_train.shape, X_test.shape, y_train.shape, y_test.shape"
   ]
  },
  {
   "cell_type": "markdown",
   "metadata": {},
   "source": [
    "#### Normalization"
   ]
  },
  {
   "cell_type": "code",
   "execution_count": 25,
   "metadata": {
    "collapsed": false
   },
   "outputs": [
    {
     "data": {
      "text/plain": [
       "((614, 9), (386, 9), (614,), (386,))"
      ]
     },
     "execution_count": 25,
     "metadata": {},
     "output_type": "execute_result"
    }
   ],
   "source": [
    "scaler = StandardScaler().fit(X_train) # scaler object fitted to training set\n",
    "\n",
    "# Transform\n",
    "scaled_X_train = scaler.transform(X_train)\n",
    "scaled_X_test = scaler.transform(X_test)\n",
    "\n",
    "scaled_X_train.shape, scaled_X_test.shape, y_train.shape, y_test.shape"
   ]
  },
  {
   "cell_type": "markdown",
   "metadata": {},
   "source": [
    "#### Feature Selection"
   ]
  },
  {
   "cell_type": "code",
   "execution_count": 26,
   "metadata": {
    "collapsed": true
   },
   "outputs": [],
   "source": [
    "pass"
   ]
  },
  {
   "cell_type": "markdown",
   "metadata": {},
   "source": [
    "#### Metrics"
   ]
  },
  {
   "cell_type": "code",
   "execution_count": 27,
   "metadata": {
    "collapsed": true
   },
   "outputs": [],
   "source": [
    "def RMSE(model_pred, target):\n",
    "    \"\"\"\n",
    "    Function calculates the root mean square error of the regression model's prediction.\n",
    "    rmse =  np.sqrt(np.mean((y_test-y_pred)**2))\n",
    "    :param model_pred: model's predictions\n",
    "    :param target: labels (y_test)\n",
    "    :return: RMSE value\n",
    "    \"\"\"\n",
    "    y_pred = model_pred # prediction\n",
    "    y_true = target # true labels\n",
    "    mse = metrics.mean_squared_error(y_true, y_pred)\n",
    "    rmse = np.sqrt(mse)\n",
    "    return rmse\n",
    "\n",
    "\n",
    "def MAE(model_pred, target):\n",
    "    \"\"\"\n",
    "    Function calculates the mean absolute error of the regression model's prediction.\n",
    "    :param model_pred: model's predictions\n",
    "    :param target: labels (y_test)\n",
    "    :return: mean absolute error\n",
    "    \"\"\"\n",
    "    y_pred = model_pred # prediction\n",
    "    y_true = target # true labels\n",
    "    return metrics.median_absolute_error(y_true, y_pred)\n",
    "\n",
    "\n",
    "def r2(model_pred, target):\n",
    "    \"\"\"\n",
    "    Function calculates the R-squared score (coefficient of determination) of the regression model's prediction.\n",
    "    :param model_pred: model's prediction\n",
    "    :param target: labels (y_tesT)\n",
    "    :return: coefficient of determination\n",
    "    \"\"\"\n",
    "    y_pred = model_pred # prediction\n",
    "    y_true = target # true labels\n",
    "    return metrics.r2_score(y_true, y_pred)"
   ]
  },
  {
   "cell_type": "markdown",
   "metadata": {},
   "source": [
    "## Model: Linear Regression"
   ]
  },
  {
   "cell_type": "code",
   "execution_count": 30,
   "metadata": {
    "collapsed": true
   },
   "outputs": [],
   "source": [
    "def lr_gridsearch(X_train, X_test, y_train):\n",
    "    \"\"\"\n",
    "    Function determines the optimal parameters of the best classifier model/estimator by \n",
    "    performing a grid search. The best model will be fitted with the Training set and subsequently \n",
    "    used to predict the classification/labels of the Testing set. The function returns the \n",
    "    \"best\" classifier instance, classifier predictions, best parameters, and grid score.\n",
    "    :param X_train: Training set features\n",
    "    :param X_test: Testing set features\n",
    "    :param y_train: Training set labels\n",
    "    :return: tuple of (best classifier instance, clf predictions, dict of best params, grid score)\n",
    "    \"\"\"\n",
    "    param_grid = [\n",
    "        {'fit_intercept': [True, False], 'normalize': [True, False]}]\n",
    "\n",
    "    # Blank clf instance\n",
    "    blank_clf = LinearRegression()\n",
    "\n",
    "    # Grid Search - Hyperparameters Optimization\n",
    "    clf = grid_search.GridSearchCV(blank_clf, param_grid, n_jobs=-1)  # classifier + optimal params\n",
    "    clf = clf.fit(X_train, y_train)  # fitted classifier\n",
    "    best_est = clf.best_estimator_\n",
    "    clf_pred = best_est.predict(X_test)\n",
    "\n",
    "    best_params = clf.best_params_  # best parameters identified by grid search\n",
    "    score = clf.best_score_  # best grid score\n",
    "    return (best_est, clf_pred, best_params, score)"
   ]
  },
  {
   "cell_type": "code",
   "execution_count": 31,
   "metadata": {
    "collapsed": false
   },
   "outputs": [
    {
     "name": "stdout",
     "output_type": "stream",
     "text": [
      "Best Parameters:  {'normalize': True, 'fit_intercept': True}\n",
      "Best Grid Search Score:  -0.0940391143989\n",
      "Best Estimator:  LinearRegression(copy_X=True, fit_intercept=True, n_jobs=1, normalize=True) \n",
      "\n"
     ]
    }
   ],
   "source": [
    "lr_model, lr_pred, lr_p, lr_score = lr_gridsearch(scaled_X_train, scaled_X_test, y_train)\n",
    "print \"Best Parameters: \", lr_p\n",
    "print \"Best Grid Search Score: \", lr_score\n",
    "print \"Best Estimator: \", lr_model, \"\\n\""
   ]
  },
  {
   "cell_type": "markdown",
   "metadata": {},
   "source": [
    "#### Compare Predictions"
   ]
  },
  {
   "cell_type": "code",
   "execution_count": 32,
   "metadata": {
    "collapsed": false
   },
   "outputs": [
    {
     "data": {
      "text/plain": [
       "array([ 4.32393615,  4.96478534,  3.92635902,  4.56236048,  9.49031028,\n",
       "        3.46365207,  6.83266174,  4.52474147,  4.24295091,  5.24375267])"
      ]
     },
     "execution_count": 32,
     "metadata": {},
     "output_type": "execute_result"
    }
   ],
   "source": [
    "lr_pred[-10:]"
   ]
  },
  {
   "cell_type": "code",
   "execution_count": 33,
   "metadata": {
    "collapsed": false
   },
   "outputs": [
    {
     "data": {
      "text/plain": [
       "array([ 11.6744,   9.2824,  21.8131,  11.6055,   4.5255,   4.0701,\n",
       "         1.1331,   2.7381,   0.6534,   4.8671])"
      ]
     },
     "execution_count": 33,
     "metadata": {},
     "output_type": "execute_result"
    }
   ],
   "source": [
    "y_test[-10:]"
   ]
  },
  {
   "cell_type": "code",
   "execution_count": 39,
   "metadata": {
    "collapsed": false
   },
   "outputs": [
    {
     "data": {
      "image/png": "[encoded data removed]",
      "text/plain": [
       "<matplotlib.figure.Figure at 0x7f34f16b57d0>"
      ]
     },
     "metadata": {},
     "output_type": "display_data"
    }
   ],
   "source": [
    "plt.figure(figsize=(14, 5))\n",
    "plt.subplot(1,2,1)\n",
    "plt.hist(np.round(lr_pred), bins=5, color='g')\n",
    "plt.title(\"Model: Linear Regression\")\n",
    "plt.xlabel('ICU Length of Stay (days)')\n",
    "plt.ylabel('Frequency')\n",
    "plt.xlim([0,50])\n",
    "plt.ylim([0, 250])\n",
    "plt.legend(loc='upper right')\n",
    "\n",
    "plt.subplot(1,2,2)\n",
    "plt.hist(np.round(y_test), bins=20, color='g')\n",
    "plt.title(\"True (y-test)\")\n",
    "plt.xlabel('ICU Length of Stay (days)')\n",
    "plt.xlim([0,50])\n",
    "plt.ylim([0, 250])\n",
    "plt.legend(loc='upper right')\n",
    "plt.suptitle('Histogram: Response Variable Comparison \\n Model vs. True')\n",
    "\n",
    "plt.show()"
   ]
  },
  {
   "cell_type": "markdown",
   "metadata": {},
   "source": [
    "### Metrics\n",
    "\n",
    "#### Root Mean Squared Error (RMSE)\n",
    "Indicates the *absolute fit* of the model to the data. In other words, how close the observed data points are to the model's predicted values.\n",
    "\n",
    "Also, it is the standard deviation of unexplained variance (residuals)."
   ]
  },
  {
   "cell_type": "code",
   "execution_count": 40,
   "metadata": {
    "collapsed": false
   },
   "outputs": [
    {
     "name": "stdout",
     "output_type": "stream",
     "text": [
      "RMSE = 8.279 days\n"
     ]
    }
   ],
   "source": [
    "lr_rmse = RMSE(lr_pred, y_test)\n",
    "print \"RMSE = %.3f days\" % lr_rmse"
   ]
  },
  {
   "cell_type": "code",
   "execution_count": 41,
   "metadata": {
    "collapsed": false
   },
   "outputs": [
    {
     "name": "stdout",
     "output_type": "stream",
     "text": [
      "[0.21,76.92]\n"
     ]
    }
   ],
   "source": [
    "print \"[%.2f,%.2f]\" % (y_test.min(), y_test.max())"
   ]
  },
  {
   "cell_type": "markdown",
   "metadata": {},
   "source": [
    "The linear regression model has an RMSE value of 8.28 days. The value is somewhat small relative to the range of the `dependent variable` (average ICU LOS). Thus, indicating that model has decent accuracy in predicting the response.\n",
    "\n",
    "#### Mean Absolute Error\n",
    "The Mean Absolute Error measures how close the model's predictions are to the observed values."
   ]
  },
  {
   "cell_type": "code",
   "execution_count": 42,
   "metadata": {
    "collapsed": false
   },
   "outputs": [
    {
     "name": "stdout",
     "output_type": "stream",
     "text": [
      "MAE = 3.135 days\n"
     ]
    }
   ],
   "source": [
    "lr_mae = MAE(lr_pred, y_test)\n",
    "print \"MAE = %.3f days\" % lr_mae"
   ]
  },
  {
   "cell_type": "markdown",
   "metadata": {},
   "source": [
    "The average difference between prediction and observation is 3.14 days, which is low.\n",
    "\n",
    "#### R<sup>2</sup>: Coefficient of Determination\n",
    "R<sup>2</sup> quantifies the goodness of fit of the linear model. More specifically, it depicts the predictive power of the model.\n",
    "\n",
    "Range: [0, 1]"
   ]
  },
  {
   "cell_type": "code",
   "execution_count": 43,
   "metadata": {
    "collapsed": false
   },
   "outputs": [
    {
     "name": "stdout",
     "output_type": "stream",
     "text": [
      "r2 = 0.002\n"
     ]
    }
   ],
   "source": [
    "lr_r2 = r2(lr_pred, y_test)\n",
    "print \"r2 = %.3f\" % lr_r2"
   ]
  },
  {
   "cell_type": "markdown",
   "metadata": {},
   "source": [
    "The R<sup>2</sup> value is approximately 0.002, which indicates that the model does not have strong predictive power."
   ]
  },
  {
   "cell_type": "markdown",
   "metadata": {},
   "source": [
    "## Model: Support Vector Regression"
   ]
  },
  {
   "cell_type": "code",
   "execution_count": 28,
   "metadata": {
    "collapsed": true
   },
   "outputs": [],
   "source": [
    "def svr_gridsearch(X_train, X_test, y_train):\n",
    "    \"\"\"\n",
    "    Function determines the optimal parameters of the best classifier model/estimator \n",
    "    by performing a grid search. The best model will be fitted with the Training set \n",
    "    and subsequently used to predict the classification/labels of the Testing set. \n",
    "    The function returns the \"best\" classifier instance, classifier predictions, \n",
    "    best params, and grid score.\n",
    "\n",
    "    :param X_train: Training set features\n",
    "    :param X_test: Testing set features\n",
    "    :param y_train: Training set labels\n",
    "    :return: tuple of (best classifier instance, clf predictions, dict of best params, grid score)\n",
    "    \"\"\"\n",
    "    # Parameter Grid - dictionary of parameters (map parameter names to values to be searched)\n",
    "    param_grid = [\n",
    "        {'C': [0.01, 0.1, 1, 10, 100, 1000], 'gamma': [0.0001, 0.001, 0.01, 0.1, 1, 10], 'kernel': ['linear']},\n",
    "        {'C': [0.01, 0.1, 1, 10, 100, 1000], 'gamma': [0.0001, 0.001, 0.01, 0.1, 1, 10], 'kernel': ['rbf']}\n",
    "#         {'C':[0.01, 0.1, 1, 10, 100, 1000], 'gamma': [0.0001, 0.001, 0.01, 0.1, 1, 10], 'degree': [2], 'kernel': ['poly']}\n",
    "    ]\n",
    "\n",
    "    \n",
    "    # Blank clf instance\n",
    "    blank_clf = SVR()\n",
    "\n",
    "    # Grid Search - Hyperparameters Optimization\n",
    "    clf = grid_search.GridSearchCV(blank_clf, param_grid, n_jobs=-1)  # classifier + optimal parameters\n",
    "    clf = clf.fit(X_train, y_train)  # fitted classifier\n",
    "    best_est = clf.best_estimator_\n",
    "    clf_pred = best_est.predict(X_test)\n",
    "\n",
    "    best_params = clf.best_params_  # best parameters identified by grid search\n",
    "    score = clf.best_score_  # best grid score\n",
    "    return (best_est, clf_pred, best_params, score)"
   ]
  },
  {
   "cell_type": "code",
   "execution_count": 91,
   "metadata": {
    "collapsed": false
   },
   "outputs": [
    {
     "name": "stdout",
     "output_type": "stream",
     "text": [
      "Best Parameters:  {'kernel': 'rbf', 'C': 10, 'gamma': 10}\n",
      "Best Grid Search Score:  -0.0211042940104\n",
      "Best Estimator:  SVR(C=10, cache_size=200, coef0=0.0, degree=3, epsilon=0.1, gamma=10,\n",
      "  kernel='rbf', max_iter=-1, shrinking=True, tol=0.001, verbose=False) \n",
      "\n"
     ]
    }
   ],
   "source": [
    "svr_model, svr_pred, svr_p, svr_score = svr_gridsearch(scaled_X_train, scaled_X_test, y_train)\n",
    "print \"Best Parameters: \", svr_p\n",
    "print \"Best Grid Search Score: \", svr_score\n",
    "print \"Best Estimator: \", svr_model, \"\\n\""
   ]
  },
  {
   "cell_type": "markdown",
   "metadata": {},
   "source": [
    "#### Compare Predictions"
   ]
  },
  {
   "cell_type": "code",
   "execution_count": 92,
   "metadata": {
    "collapsed": false
   },
   "outputs": [
    {
     "data": {
      "text/plain": [
       "array([ 4.06463828,  4.06463828,  4.06466803,  4.15710905,  4.06463828,\n",
       "        3.8555837 ,  4.05960709,  4.06463828,  4.06463828,  4.06463828])"
      ]
     },
     "execution_count": 92,
     "metadata": {},
     "output_type": "execute_result"
    }
   ],
   "source": [
    "svr_pred[-10:]"
   ]
  },
  {
   "cell_type": "code",
   "execution_count": 93,
   "metadata": {
    "collapsed": false
   },
   "outputs": [
    {
     "data": {
      "text/plain": [
       "array([ 11.6744,   9.2824,  21.8131,  11.6055,   4.5255,   4.0701,\n",
       "         1.1331,   2.7381,   0.6534,   4.8671])"
      ]
     },
     "execution_count": 93,
     "metadata": {},
     "output_type": "execute_result"
    }
   ],
   "source": [
    "y_test[-10:]"
   ]
  },
  {
   "cell_type": "code",
   "execution_count": 101,
   "metadata": {
    "collapsed": false
   },
   "outputs": [
    {
     "data": {
      "image/png": "[encoded data removed]",
      "text/plain": [
       "<matplotlib.figure.Figure at 0x7f35041cb410>"
      ]
     },
     "metadata": {},
     "output_type": "display_data"
    }
   ],
   "source": [
    "plt.figure(figsize=(14, 5))\n",
    "plt.subplot(1,2,1)\n",
    "plt.hist(np.round(svr_pred), bins=8, color='g')\n",
    "plt.title(\"Model: SVR\")\n",
    "plt.xlabel('ICU Length of Stay (days)')\n",
    "plt.ylabel('Frequency')\n",
    "plt.xlim([0,10])\n",
    "# plt.ylim([0, 120])\n",
    "plt.legend(loc='upper right')\n",
    "\n",
    "plt.subplot(1,2,2)\n",
    "plt.hist(np.round(y_test), bins=20, color='g')\n",
    "plt.title(\"True (y-test)\")\n",
    "plt.xlabel('ICU Length of Stay (days)')\n",
    "plt.xlim([0,50])\n",
    "# plt.ylim([0, 150])\n",
    "plt.legend(loc='upper right')\n",
    "plt.suptitle('Histogram: Response Variable Comparison \\n Model vs. True')\n",
    "\n",
    "plt.show()"
   ]
  },
  {
   "cell_type": "markdown",
   "metadata": {},
   "source": [
    "### Metrics\n",
    "\n",
    "#### Root Mean Squared Error (RMSE)\n",
    "Indicates the *absolute fit* of the model to the data. In other words, how close the observed data points are to the model's predicted values.\n",
    "\n",
    "Also, it is the standard deviation of unexplained variance (residuals)."
   ]
  },
  {
   "cell_type": "code",
   "execution_count": 102,
   "metadata": {
    "collapsed": false
   },
   "outputs": [
    {
     "name": "stdout",
     "output_type": "stream",
     "text": [
      "RMSE = 8.392 days\n"
     ]
    }
   ],
   "source": [
    "svr_rmse = RMSE(svr_pred, y_test)\n",
    "print \"RMSE = %.3f days\" % svr_rmse"
   ]
  },
  {
   "cell_type": "code",
   "execution_count": 103,
   "metadata": {
    "collapsed": false
   },
   "outputs": [
    {
     "name": "stdout",
     "output_type": "stream",
     "text": [
      "[0.21,76.92]\n"
     ]
    }
   ],
   "source": [
    "print \"[%.2f,%.2f]\" % (y_test.min(), y_test.max())"
   ]
  },
  {
   "cell_type": "markdown",
   "metadata": {},
   "source": [
    "The SVR model has an RMSE value of 8.4 days. The value is somewhat small relative to the range of the `dependent variable` (average ICU LOS). Thus, indicating that model has decent accuracy in predicting the response.\n",
    "\n",
    "#### Mean Absolute Error\n",
    "The Mean Absolute Error measures how close the model's predictions are to the observed values."
   ]
  },
  {
   "cell_type": "code",
   "execution_count": 104,
   "metadata": {
    "collapsed": false
   },
   "outputs": [
    {
     "name": "stdout",
     "output_type": "stream",
     "text": [
      "MAE = 2.474 days\n"
     ]
    }
   ],
   "source": [
    "svr_mae = MAE(svr_pred, y_test)\n",
    "print \"MAE = %.3f days\" % svr_mae"
   ]
  },
  {
   "cell_type": "markdown",
   "metadata": {},
   "source": [
    "The average difference between prediction and observation is 2.47 days, which is relatively low.\n",
    "\n",
    "#### R<sup>2</sup>: Coefficient of Determination\n",
    "R<sup>2</sup> quantifies the goodness of fit of the linear model. More specifically, it depicts the predictive power of the model.\n",
    "\n",
    "Range: [0, 1]"
   ]
  },
  {
   "cell_type": "code",
   "execution_count": 105,
   "metadata": {
    "collapsed": false
   },
   "outputs": [
    {
     "data": {
      "text/plain": [
       "-0.025668823297310572"
      ]
     },
     "execution_count": 105,
     "metadata": {},
     "output_type": "execute_result"
    }
   ],
   "source": [
    "r2(svr_pred, y_test)"
   ]
  },
  {
   "cell_type": "markdown",
   "metadata": {},
   "source": [
    "The R<sup>2</sup> value is approximately -0.03, which is low and indicates that the model does not have strong predictive power. The negative (out of range) value also suggests that the model could be arbitrarily worse."
   ]
  },
  {
   "cell_type": "markdown",
   "metadata": {},
   "source": [
    "## Model: k-Nearest Neighbors"
   ]
  },
  {
   "cell_type": "code",
   "execution_count": 44,
   "metadata": {
    "collapsed": true
   },
   "outputs": [],
   "source": [
    "knn_model = KNeighborsRegressor(n_neighbors=5, weights='uniform') # look at 5 closest neighbors\n",
    "knn_model.fit(scaled_X_train, y_train) # fit model on training data\n",
    "knn_pred = knn_model.predict(scaled_X_test)"
   ]
  },
  {
   "cell_type": "markdown",
   "metadata": {},
   "source": [
    "#### Compare Predictions"
   ]
  },
  {
   "cell_type": "code",
   "execution_count": 45,
   "metadata": {
    "collapsed": false
   },
   "outputs": [
    {
     "data": {
      "text/plain": [
       "array([ 1.49308,  3.25374,  5.7332 ,  3.55196,  3.64386,  1.6292 ,\n",
       "        2.57974,  1.36588,  3.4398 ,  2.25012])"
      ]
     },
     "execution_count": 45,
     "metadata": {},
     "output_type": "execute_result"
    }
   ],
   "source": [
    "knn_pred[-10:]"
   ]
  },
  {
   "cell_type": "code",
   "execution_count": 46,
   "metadata": {
    "collapsed": false
   },
   "outputs": [
    {
     "data": {
      "text/plain": [
       "array([ 11.6744,   9.2824,  21.8131,  11.6055,   4.5255,   4.0701,\n",
       "         1.1331,   2.7381,   0.6534,   4.8671])"
      ]
     },
     "execution_count": 46,
     "metadata": {},
     "output_type": "execute_result"
    }
   ],
   "source": [
    "y_test[-10:]"
   ]
  },
  {
   "cell_type": "code",
   "execution_count": 48,
   "metadata": {
    "collapsed": false
   },
   "outputs": [
    {
     "data": {
      "image/png": "[encoded data removed]",
      "text/plain": [
       "<matplotlib.figure.Figure at 0x7f350415eed0>"
      ]
     },
     "metadata": {},
     "output_type": "display_data"
    }
   ],
   "source": [
    "plt.figure(figsize=(14, 5))\n",
    "plt.subplot(1,2,1)\n",
    "plt.hist(np.round(knn_pred), bins=6, color='g')\n",
    "plt.title(\"Model: k-Nearest Neighbors\")\n",
    "plt.xlabel('ICU Length of Stay (days)')\n",
    "plt.ylabel('Frequency')\n",
    "plt.xlim([0,50])\n",
    "plt.ylim([0, 250])\n",
    "plt.legend(loc='upper right')\n",
    "\n",
    "plt.subplot(1,2,2)\n",
    "plt.hist(np.round(y_test), bins=25, color='g')\n",
    "plt.title(\"True (y-test)\")\n",
    "plt.xlabel('ICU Length of Stay (days)')\n",
    "plt.xlim([0,50])\n",
    "plt.ylim([0, 250])\n",
    "plt.legend(loc='upper right')\n",
    "plt.suptitle('Histogram: Response Variable Comparison \\n Model vs. True')\n",
    "\n",
    "plt.show()"
   ]
  },
  {
   "cell_type": "markdown",
   "metadata": {},
   "source": [
    "### Metrics\n",
    "\n",
    "#### Root Mean Squared Error (RMSE)\n",
    "Indicates the *absolute fit* of the model to the data. In other words, how close the observed data points are to the model's predicted values.\n",
    "\n",
    "Also, it is the standard deviation of unexplained variance (residuals)."
   ]
  },
  {
   "cell_type": "code",
   "execution_count": 49,
   "metadata": {
    "collapsed": false
   },
   "outputs": [
    {
     "name": "stdout",
     "output_type": "stream",
     "text": [
      "RMSE = 8.720 days\n"
     ]
    }
   ],
   "source": [
    "knn_rmse = RMSE(knn_pred, y_test)\n",
    "print \"RMSE = %.3f days\" % knn_rmse"
   ]
  },
  {
   "cell_type": "code",
   "execution_count": 50,
   "metadata": {
    "collapsed": false
   },
   "outputs": [
    {
     "name": "stdout",
     "output_type": "stream",
     "text": [
      "[0.21,76.92]\n"
     ]
    }
   ],
   "source": [
    "print \"[%.2f,%.2f]\" % (y_test.min(), y_test.max())"
   ]
  },
  {
   "cell_type": "markdown",
   "metadata": {},
   "source": [
    "The k-NN model has an RMSE value of 8.72 days. The value is somewhat small relative to the range of the `dependent variable` (average ICU LOS). Thus, indicating that model has decent accuracy in predicting the response.\n",
    "\n",
    "#### Mean Absolute Error\n",
    "The Mean Absolute Error measures how close the model's predictions are to the observed values."
   ]
  },
  {
   "cell_type": "code",
   "execution_count": 51,
   "metadata": {
    "collapsed": false
   },
   "outputs": [
    {
     "name": "stdout",
     "output_type": "stream",
     "text": [
      "MAE = 2.735 days\n"
     ]
    }
   ],
   "source": [
    "knn_mae = MAE(knn_pred, y_test)\n",
    "print \"MAE = %.3f days\" % knn_mae"
   ]
  },
  {
   "cell_type": "markdown",
   "metadata": {},
   "source": [
    "The average difference between prediction and observation is 2.74 days, which is relatively low.\n",
    "\n",
    "#### R<sup>2</sup>: Coefficient of Determination\n",
    "R<sup>2</sup> quantifies the goodness of fit of the linear model. More specifically, it depicts the predictive power of the model.\n",
    "\n",
    "Range: [0, 1]"
   ]
  },
  {
   "cell_type": "code",
   "execution_count": 52,
   "metadata": {
    "collapsed": false
   },
   "outputs": [
    {
     "name": "stdout",
     "output_type": "stream",
     "text": [
      "r2 = -0.11\n"
     ]
    }
   ],
   "source": [
    "knn_r2 = r2(knn_pred, y_test)\n",
    "print \"r2 = %.2f\" % knn_r2"
   ]
  },
  {
   "cell_type": "markdown",
   "metadata": {},
   "source": [
    "The k-NN model has poor predictive power. The negative R<sup>2</sup> is out of range, but possible as it indicates that the model can be arbitrarily worse. \n",
    "\n",
    "This may be attributed to the fact that it's a \"lazy learning\" algorithm, *lacking generalization*. The model only does work (build a model) at the time of prediction and uses minimal, if any Training data."
   ]
  },
  {
   "cell_type": "markdown",
   "metadata": {},
   "source": [
    "## Model: Random Forest\n",
    "\n",
    "#### Criterion\n",
    "  1. **mse**: mean squared error\n",
    "  2. **mae**: mean absolute error"
   ]
  },
  {
   "cell_type": "code",
   "execution_count": 53,
   "metadata": {
    "collapsed": true
   },
   "outputs": [],
   "source": [
    "def rf_gridsearch(X_train, X_test, y_train):\n",
    "    # Parameter Grid - dictionary of parameters (map parameter names to values to be searched)\n",
    "    param_grid = [\n",
    "        {'n_estimators': [1, 2, 3, 4, 5, 6, 7, 8, 9, 10], \n",
    "         'criterion': ['mse', 'mae']}\n",
    "    ]\n",
    "\n",
    "    rfr = RandomForestRegressor(random_state=2, n_jobs=-1)\n",
    "\n",
    "    # Grid search to find \"best\" random forest classifier -- Hyperparameters Optimization\n",
    "    clf = grid_search.GridSearchCV(rfr, param_grid)  # classifier + optimal parameters\n",
    "    clf = clf.fit(X_train, y_train)  # fitted classifier -- Training Set\n",
    "    best_est = clf.best_estimator_\n",
    "    clf_pred = best_est.predict(X_test)  # apply classifier on test set for label predictions\n",
    "    params = clf.best_params_  # optimal parameters\n",
    "    score = clf.best_score_  # best grid score\n",
    "    imp = best_est.feature_importances_\n",
    "    return (best_est, clf_pred, params, score, imp)"
   ]
  },
  {
   "cell_type": "code",
   "execution_count": 54,
   "metadata": {
    "collapsed": false
   },
   "outputs": [
    {
     "name": "stdout",
     "output_type": "stream",
     "text": [
      "Best Parameters:  {'n_estimators': 10, 'criterion': 'mse'}\n",
      "Best Grid Search Score:  -1.21682474787\n",
      "Best Estimator:  RandomForestRegressor(bootstrap=True, criterion='mse', max_depth=None,\n",
      "           max_features='auto', max_leaf_nodes=None,\n",
      "           min_impurity_split=1e-07, min_samples_leaf=1,\n",
      "           min_samples_split=2, min_weight_fraction_leaf=0.0,\n",
      "           n_estimators=10, n_jobs=-1, oob_score=False, random_state=2,\n",
      "           verbose=0, warm_start=False) \n",
      "\n"
     ]
    }
   ],
   "source": [
    "rf_model, rf_pred, rf_p, rf_score, rf_imp = rf_gridsearch(scaled_X_train, scaled_X_test, y_train)\n",
    "print \"Best Parameters: \", rf_p\n",
    "print \"Best Grid Search Score: \", rf_score\n",
    "print \"Best Estimator: \", rf_model, \"\\n\""
   ]
  },
  {
   "cell_type": "code",
   "execution_count": 55,
   "metadata": {
    "collapsed": false
   },
   "outputs": [
    {
     "data": {
      "text/plain": [
       "<matplotlib.text.Text at 0x7f34f1c78910>"
      ]
     },
     "execution_count": 55,
     "metadata": {},
     "output_type": "execute_result"
    },
    {
     "data": {
      "image/png": "[encoded data removed]",
      "text/plain": [
       "<matplotlib.figure.Figure at 0x7f34f1af1510>"
      ]
     },
     "metadata": {},
     "output_type": "display_data"
    }
   ],
   "source": [
    "feats = data.drop('icu_los', axis=1)\n",
    "feat_imp = pd.Series(rf_imp, \n",
    "                     index=feats.columns.values)\n",
    "feat_imp.sort(inplace=True)\n",
    "feat_imp.plot(kind='barh')\n",
    "plt.title('Feature Importances')"
   ]
  },
  {
   "cell_type": "markdown",
   "metadata": {},
   "source": [
    "#### Compare Predictions"
   ]
  },
  {
   "cell_type": "code",
   "execution_count": 56,
   "metadata": {
    "collapsed": false
   },
   "outputs": [
    {
     "data": {
      "text/plain": [
       "array([  2.77903,   5.30268,   6.76462,   8.37581,  13.2092 ,   8.03489,\n",
       "         8.29919,   2.10448,  10.75695,   7.60514])"
      ]
     },
     "execution_count": 56,
     "metadata": {},
     "output_type": "execute_result"
    }
   ],
   "source": [
    "rf_pred[-10:]"
   ]
  },
  {
   "cell_type": "code",
   "execution_count": 57,
   "metadata": {
    "collapsed": false
   },
   "outputs": [
    {
     "data": {
      "text/plain": [
       "array([ 11.6744,   9.2824,  21.8131,  11.6055,   4.5255,   4.0701,\n",
       "         1.1331,   2.7381,   0.6534,   4.8671])"
      ]
     },
     "execution_count": 57,
     "metadata": {},
     "output_type": "execute_result"
    }
   ],
   "source": [
    "y_test[-10:]"
   ]
  },
  {
   "cell_type": "code",
   "execution_count": 58,
   "metadata": {
    "collapsed": false
   },
   "outputs": [
    {
     "data": {
      "image/png": "[encoded data removed]",
      "text/plain": [
       "<matplotlib.figure.Figure at 0x7f34f1775d90>"
      ]
     },
     "metadata": {},
     "output_type": "display_data"
    }
   ],
   "source": [
    "plt.figure(figsize=(14, 5))\n",
    "plt.subplot(1,2,1)\n",
    "plt.hist(np.round(rf_pred), bins=10, color='g')\n",
    "plt.title(\"Model: Random Forest\")\n",
    "plt.xlabel('ICU Length of Stay (days)')\n",
    "plt.ylabel('Frequency')\n",
    "plt.xlim([0,50])\n",
    "plt.ylim([0, 250])\n",
    "plt.legend(loc='upper right')\n",
    "\n",
    "plt.subplot(1,2,2)\n",
    "plt.hist(np.round(y_test), bins=25, color='g')\n",
    "plt.title(\"True (y-test)\")\n",
    "plt.xlabel('ICU Length of Stay (days)')\n",
    "plt.xlim([0,50])\n",
    "plt.ylim([0, 250])\n",
    "plt.legend(loc='upper right')\n",
    "plt.suptitle('Histogram: Response Variable Comparison \\n Model vs. True')\n",
    "\n",
    "plt.show()"
   ]
  },
  {
   "cell_type": "markdown",
   "metadata": {},
   "source": [
    "### Metrics\n",
    "\n",
    "#### Root Mean Squared Error (RMSE)\n",
    "Indicates the *absolute fit* of the model to the data. In other words, how close the observed data points are to the model's predicted values.\n",
    "\n",
    "Also, it is the standard deviation of unexplained variance (residuals)."
   ]
  },
  {
   "cell_type": "code",
   "execution_count": 59,
   "metadata": {
    "collapsed": false
   },
   "outputs": [
    {
     "name": "stdout",
     "output_type": "stream",
     "text": [
      "RMSE = 9.164 days\n"
     ]
    }
   ],
   "source": [
    "rf_rmse = RMSE(rf_pred, y_test)\n",
    "print \"RMSE = %.3f days\" % rf_rmse"
   ]
  },
  {
   "cell_type": "code",
   "execution_count": 60,
   "metadata": {
    "collapsed": false
   },
   "outputs": [
    {
     "name": "stdout",
     "output_type": "stream",
     "text": [
      "[0.21,76.92]\n"
     ]
    }
   ],
   "source": [
    "print \"[%.2f,%.2f]\" % (y_test.min(), y_test.max())"
   ]
  },
  {
   "cell_type": "markdown",
   "metadata": {},
   "source": [
    "The Random Forest regression model has an RMSE value of 9.16 days, which is relatively low compared to the response range.\n",
    "\n",
    "#### Mean Absolute Error\n",
    "The Mean Absolute Error measures how close the model's predictions are to the observed values."
   ]
  },
  {
   "cell_type": "code",
   "execution_count": 61,
   "metadata": {
    "collapsed": false
   },
   "outputs": [
    {
     "name": "stdout",
     "output_type": "stream",
     "text": [
      "MAE = 3.428 days\n"
     ]
    }
   ],
   "source": [
    "rf_mae = MAE(rf_pred, y_test)\n",
    "print \"MAE = %.3f days\" % rf_mae"
   ]
  },
  {
   "cell_type": "markdown",
   "metadata": {},
   "source": [
    "The average difference between prediction and observation is 3.43 days, which is relatively low.\n",
    "\n",
    "#### R<sup>2</sup>: Coefficient of Determination\n",
    "R<sup>2</sup> quantifies the goodness of fit of the linear model. More specifically, it depicts the predictive power of the model.\n",
    "\n",
    "Range: [0, 1]"
   ]
  },
  {
   "cell_type": "code",
   "execution_count": 62,
   "metadata": {
    "collapsed": false
   },
   "outputs": [
    {
     "name": "stdout",
     "output_type": "stream",
     "text": [
      "r2 = -0.22\n"
     ]
    }
   ],
   "source": [
    "rf_r2 = r2(rf_pred, y_test)\n",
    "print \"r2 = %.2f\" % rf_r2"
   ]
  },
  {
   "cell_type": "markdown",
   "metadata": {},
   "source": [
    "The Random Forest model has poor predictive power and could be arbitrarily worse as the R<sup>2</sup> score is out of range (negative)."
   ]
  },
  {
   "cell_type": "markdown",
   "metadata": {},
   "source": [
    "## BoxCox Transformations\n",
    "\n",
    "A BoxCox transformation is a normalization approach that is applicable to only continuous values. Features that are categorical or binary in nature are not appropriate due to the semantics of their numerical values.\n",
    "\n",
    "**Note**: Box-Cox transformations can only handle positive values, non-positive values, including 0, are unapplicable."
   ]
  },
  {
   "cell_type": "code",
   "execution_count": 29,
   "metadata": {
    "collapsed": false
   },
   "outputs": [],
   "source": [
    "scaled_X_train_boxcox = scaled_X_train.copy()\n",
    "scaled_X_test_boxcox = scaled_X_test.copy()\n",
    "\n",
    "# # inverse transform\n",
    "orig_X_train_boxcox = scaler.inverse_transform(scaled_X_train_boxcox)\n",
    "orig_X_test_boxcox = scaler.inverse_transform(scaled_X_test_boxcox)\n",
    "\n",
    "# Box Cox Transformation\n",
    "train_age_bc = stats.boxcox(orig_X_train_boxcox[:,5])[0]\n",
    "test_age_bc = stats.boxcox(orig_X_test_boxcox[:,5])[0]\n",
    "\n",
    "# Replace applicable features\n",
    "scaled_X_train_boxcox[:,5] = train_age_bc\n",
    "scaled_X_test_boxcox[:,5] = test_age_bc"
   ]
  },
  {
   "cell_type": "markdown",
   "metadata": {},
   "source": [
    "### Model: Linear Regression"
   ]
  },
  {
   "cell_type": "code",
   "execution_count": 64,
   "metadata": {
    "collapsed": false
   },
   "outputs": [
    {
     "name": "stdout",
     "output_type": "stream",
     "text": [
      "Best Parameters:  {'normalize': True, 'fit_intercept': False}\n",
      "Best Grid Search Score:  -0.0646630498647\n",
      "Best Estimator:  LinearRegression(copy_X=True, fit_intercept=False, n_jobs=1, normalize=True)\n"
     ]
    }
   ],
   "source": [
    "lr_model_bc, lr_pred_bc, lr_p_bc, lr_score_bc = lr_gridsearch(scaled_X_train_boxcox, scaled_X_test_boxcox, y_train)\n",
    "print \"Best Parameters: \", lr_p_bc\n",
    "print \"Best Grid Search Score: \", lr_score_bc\n",
    "print \"Best Estimator: \", lr_model_bc"
   ]
  },
  {
   "cell_type": "markdown",
   "metadata": {},
   "source": [
    "#### Compare Predictions"
   ]
  },
  {
   "cell_type": "code",
   "execution_count": 65,
   "metadata": {
    "collapsed": false
   },
   "outputs": [
    {
     "data": {
      "text/plain": [
       "array([  3.31055364,   6.92189101,   5.34893809,   6.32817637,\n",
       "        12.63614691,   4.3545337 ,   6.43930395,   5.54138046,\n",
       "         2.17930311,   5.0925694 ])"
      ]
     },
     "execution_count": 65,
     "metadata": {},
     "output_type": "execute_result"
    }
   ],
   "source": [
    "lr_pred_bc[-10:]"
   ]
  },
  {
   "cell_type": "code",
   "execution_count": 66,
   "metadata": {
    "collapsed": false
   },
   "outputs": [
    {
     "data": {
      "text/plain": [
       "array([ 11.6744,   9.2824,  21.8131,  11.6055,   4.5255,   4.0701,\n",
       "         1.1331,   2.7381,   0.6534,   4.8671])"
      ]
     },
     "execution_count": 66,
     "metadata": {},
     "output_type": "execute_result"
    }
   ],
   "source": [
    "y_test[-10:]"
   ]
  },
  {
   "cell_type": "code",
   "execution_count": 72,
   "metadata": {
    "collapsed": false
   },
   "outputs": [
    {
     "data": {
      "image/png": "[encoded data removed]",
      "text/plain": [
       "<matplotlib.figure.Figure at 0x7f3504229390>"
      ]
     },
     "metadata": {},
     "output_type": "display_data"
    }
   ],
   "source": [
    "plt.figure(figsize=(14, 5))\n",
    "plt.subplot(1,2,1)\n",
    "plt.hist(np.round(lr_pred_bc), bins=5, color='g')\n",
    "plt.title(\"Model: Linear Regression\")\n",
    "plt.xlabel('ICU Length of Stay (days)')\n",
    "plt.ylabel('Frequency')\n",
    "plt.xlim([0,50])\n",
    "plt.ylim([0, 250])\n",
    "plt.legend(loc='upper right')\n",
    "\n",
    "plt.subplot(1,2,2)\n",
    "plt.hist(np.round(y_test), bins=20, color='g')\n",
    "plt.title(\"True (y-test)\")\n",
    "plt.xlabel('ICU Length of Stay (days)')\n",
    "plt.xlim([0,50])\n",
    "plt.ylim([0, 250])\n",
    "plt.legend(loc='upper right')\n",
    "plt.suptitle('Histogram: Response Variable Comparison \\n Model vs. True')\n",
    "\n",
    "plt.show()"
   ]
  },
  {
   "cell_type": "markdown",
   "metadata": {},
   "source": [
    "#### Metrics\n",
    "\n",
    "1. RMSE\n",
    "2. MAE\n",
    "3. R<sup>2</sup>"
   ]
  },
  {
   "cell_type": "code",
   "execution_count": 73,
   "metadata": {
    "collapsed": false
   },
   "outputs": [
    {
     "name": "stdout",
     "output_type": "stream",
     "text": [
      "RMSE = 8.559 days\n",
      "[0.21,76.92]\n",
      "\n",
      "MAE = 3.834 days\n",
      "\n",
      "r2 = -0.067\n"
     ]
    }
   ],
   "source": [
    "lr_rmse_bc = RMSE(lr_pred_bc, y_test)\n",
    "print \"RMSE = %.3f days\" % lr_rmse_bc\n",
    "print \"[%.2f,%.2f]\" % (y_test.min(), y_test.max())\n",
    "print6\n",
    "lr_mae_bc = MAE(lr_pred_bc, y_test)\n",
    "print \"MAE = %.3f days\" % lr_mae_bc\n",
    "print\n",
    "lr_r2_bc = r2(lr_pred_bc, y_test)\n",
    "print \"r2 = %.3f\" % lr_r2_bc"
   ]
  },
  {
   "cell_type": "markdown",
   "metadata": {},
   "source": [
    "The Linear Regression model with Box Cox transformation of applicable features has slightly worse metrics compared to its counterpart with standard scaling.\n",
    "\n",
    "The RMSE and MAE increased by 0.3 and 0.7 days respectively. The values are still low, indicating small prediction errors. On the contrary, R<sup>2</sup> has decreased to a negative, out of range value of -0.07 suggesting that the model is now arbitrarily worse."
   ]
  },
  {
   "cell_type": "markdown",
   "metadata": {},
   "source": [
    "### Model: Support Vector Regression"
   ]
  },
  {
   "cell_type": "code",
   "execution_count": 30,
   "metadata": {
    "collapsed": false
   },
   "outputs": [
    {
     "name": "stdout",
     "output_type": "stream",
     "text": [
      "Best Parameters:  {'kernel': 'rbf', 'C': 10, 'gamma': 10}\n",
      "Best Grid Search Score:  -0.0211842143187\n",
      "Best Estimator:  SVR(C=10, cache_size=200, coef0=0.0, degree=3, epsilon=0.1, gamma=10,\n",
      "  kernel='rbf', max_iter=-1, shrinking=True, tol=0.001, verbose=False)\n"
     ]
    }
   ],
   "source": [
    "svr_model_bc, svr_pred_bc, svr_p_bc, svr_score_bc = svr_gridsearch(scaled_X_train_boxcox, scaled_X_test_boxcox, y_train)\n",
    "print \"Best Parameters: \", svr_p_bc\n",
    "print \"Best Grid Search Score: \", svr_score_bc\n",
    "print \"Best Estimator: \", svr_model_bc"
   ]
  },
  {
   "cell_type": "markdown",
   "metadata": {},
   "source": [
    "#### Compare Predictions"
   ]
  },
  {
   "cell_type": "code",
   "execution_count": 32,
   "metadata": {
    "collapsed": false
   },
   "outputs": [
    {
     "data": {
      "text/plain": [
       "array([ 4.04806584,  4.04806584,  4.04806584,  4.04806584,  4.04806584,\n",
       "        4.04806584,  4.04806584,  4.04806584,  4.04806584,  4.04806584])"
      ]
     },
     "execution_count": 32,
     "metadata": {},
     "output_type": "execute_result"
    }
   ],
   "source": [
    "svr_pred_bc[-10:]"
   ]
  },
  {
   "cell_type": "code",
   "execution_count": 33,
   "metadata": {
    "collapsed": false
   },
   "outputs": [
    {
     "data": {
      "text/plain": [
       "array([ 11.6744,   9.2824,  21.8131,  11.6055,   4.5255,   4.0701,\n",
       "         1.1331,   2.7381,   0.6534,   4.8671])"
      ]
     },
     "execution_count": 33,
     "metadata": {},
     "output_type": "execute_result"
    }
   ],
   "source": [
    "y_test[-10:]"
   ]
  },
  {
   "cell_type": "code",
   "execution_count": 43,
   "metadata": {
    "collapsed": false
   },
   "outputs": [
    {
     "data": {
      "image/png": "[encoded data removed]",
      "text/plain": [
       "<matplotlib.figure.Figure at 0x7f452c13f1d0>"
      ]
     },
     "metadata": {},
     "output_type": "display_data"
    }
   ],
   "source": [
    "plt.figure(figsize=(14, 5))\n",
    "plt.subplot(1,2,1)\n",
    "plt.hist(np.round(svr_pred_bc), bins=7, color='g')\n",
    "plt.title(\"Model: SVR\")\n",
    "plt.xlabel('ICU Length of Stay (days)')\n",
    "plt.ylabel('Frequency')\n",
    "plt.xlim([0,10])\n",
    "# plt.ylim([0, 120])\n",
    "plt.legend(loc='upper right')\n",
    "\n",
    "plt.subplot(1,2,2)\n",
    "plt.hist(np.round(y_test), bins=15, color='g')\n",
    "plt.title(\"True (y-test)\")\n",
    "plt.xlabel('ICU Length of Stay (days)')\n",
    "plt.xlim([0,50])\n",
    "# plt.ylim([0, 150])\n",
    "plt.legend(loc='upper right')\n",
    "plt.suptitle('Histogram: Response Variable Comparison \\n Model vs. True')\n",
    "\n",
    "plt.show()"
   ]
  },
  {
   "cell_type": "markdown",
   "metadata": {},
   "source": [
    "#### Metrics\n",
    "\n",
    "1. RMSE\n",
    "2. MAE\n",
    "3. R<sup>2</sup>"
   ]
  },
  {
   "cell_type": "code",
   "execution_count": 44,
   "metadata": {
    "collapsed": false
   },
   "outputs": [
    {
     "name": "stdout",
     "output_type": "stream",
     "text": [
      "RMSE = 8.401 days\n",
      "[0.21,76.92]\n",
      "\n",
      "MAE = 2.466 days\n",
      "\n",
      "r2 = -0.028\n"
     ]
    }
   ],
   "source": [
    "svr_rmse_bc = RMSE(svr_pred_bc, y_test)\n",
    "print \"RMSE = %.3f days\" % svr_rmse_bc\n",
    "print \"[%.2f,%.2f]\" % (y_test.min(), y_test.max())\n",
    "print\n",
    "svr_mae_bc = MAE(svr_pred_bc, y_test)\n",
    "print \"MAE = %.3f days\" % svr_mae_bc\n",
    "print\n",
    "svr_r2_bc = r2(svr_pred_bc, y_test)\n",
    "print \"r2 = %.3f\" % svr_r2_bc"
   ]
  },
  {
   "cell_type": "markdown",
   "metadata": {},
   "source": [
    "The Support Vector Regression model with Box Cox transformation of applicable features showed no improvements compared to its counterpart with standard scaling. No changes occured in the metrics RMSE, MAE, nor R<sup>2</sup>."
   ]
  },
  {
   "cell_type": "markdown",
   "metadata": {},
   "source": [
    "### Model: k-Nearest Neighbors"
   ]
  },
  {
   "cell_type": "code",
   "execution_count": 74,
   "metadata": {
    "collapsed": true
   },
   "outputs": [],
   "source": [
    "knn_model_bc = KNeighborsRegressor(n_neighbors=5, weights='uniform') # look at 5 closest neighbors\n",
    "knn_model_bc.fit(scaled_X_train_boxcox, y_train) # fit model on training data\n",
    "knn_pred_bc = knn_model_bc.predict(scaled_X_test_boxcox)"
   ]
  },
  {
   "cell_type": "markdown",
   "metadata": {},
   "source": [
    "#### Compare Predictions"
   ]
  },
  {
   "cell_type": "code",
   "execution_count": 75,
   "metadata": {
    "collapsed": false
   },
   "outputs": [
    {
     "data": {
      "text/plain": [
       "array([ 4.06686,  2.75604,  4.9453 ,  2.79302,  6.00906,  3.40238,\n",
       "        2.25382,  8.60316,  4.61634,  3.21866])"
      ]
     },
     "execution_count": 75,
     "metadata": {},
     "output_type": "execute_result"
    }
   ],
   "source": [
    "knn_pred_bc[-10:]"
   ]
  },
  {
   "cell_type": "code",
   "execution_count": 76,
   "metadata": {
    "collapsed": false
   },
   "outputs": [
    {
     "data": {
      "text/plain": [
       "array([ 11.6744,   9.2824,  21.8131,  11.6055,   4.5255,   4.0701,\n",
       "         1.1331,   2.7381,   0.6534,   4.8671])"
      ]
     },
     "execution_count": 76,
     "metadata": {},
     "output_type": "execute_result"
    }
   ],
   "source": [
    "y_test[-10:]"
   ]
  },
  {
   "cell_type": "code",
   "execution_count": 80,
   "metadata": {
    "collapsed": false
   },
   "outputs": [
    {
     "data": {
      "image/png": "[encoded data removed]",
      "text/plain": [
       "<matplotlib.figure.Figure at 0x7f35040dd4d0>"
      ]
     },
     "metadata": {},
     "output_type": "display_data"
    }
   ],
   "source": [
    "plt.figure(figsize=(14, 5))\n",
    "plt.subplot(1,2,1)\n",
    "plt.hist(np.round(knn_pred_bc), bins=5, color='g')\n",
    "plt.title(\"Model: k-Nearest Neighbors\")\n",
    "plt.xlabel('ICU Length of Stay (days)')\n",
    "plt.ylabel('Frequency')\n",
    "plt.xlim([0,50])\n",
    "plt.ylim([0, 250])\n",
    "plt.legend(loc='upper right')\n",
    "\n",
    "plt.subplot(1,2,2)\n",
    "plt.hist(np.round(y_test), bins=20, color='g')\n",
    "plt.title(\"True (y-test)\")\n",
    "plt.xlabel('ICU Length of Stay (days)')\n",
    "plt.xlim([0,50])\n",
    "plt.ylim([0, 250])\n",
    "plt.legend(loc='upper right')\n",
    "plt.suptitle('Histogram: Response Variable Comparison \\n Model vs. True')\n",
    "\n",
    "plt.show()"
   ]
  },
  {
   "cell_type": "markdown",
   "metadata": {},
   "source": [
    "#### Metrics\n",
    "\n",
    "1. RMSE\n",
    "2. MAE\n",
    "3. R<sup>2</sup>"
   ]
  },
  {
   "cell_type": "code",
   "execution_count": 81,
   "metadata": {
    "collapsed": false
   },
   "outputs": [
    {
     "name": "stdout",
     "output_type": "stream",
     "text": [
      "RMSE = 8.791 days\n",
      "[0.21,76.92]\n",
      "\n",
      "MAE = 2.966 days\n",
      "\n",
      "r2 = -0.126\n"
     ]
    }
   ],
   "source": [
    "knn_rmse_bc = RMSE(knn_pred_bc, y_test)\n",
    "print \"RMSE = %.3f days\" % knn_rmse_bc\n",
    "print \"[%.2f,%.2f]\" % (y_test.min(), y_test.max())\n",
    "print\n",
    "knn_mae_bc = MAE(knn_pred_bc, y_test)\n",
    "print \"MAE = %.3f days\" % knn_mae_bc\n",
    "print\n",
    "knn_r2_bc = r2(knn_pred_bc, y_test)\n",
    "print \"r2 = %.3f\" % knn_r2_bc"
   ]
  },
  {
   "cell_type": "markdown",
   "metadata": {},
   "source": [
    "The k-Nearest Neighbors model with Box Cox transformation of applicable features has slightly worse metrics compared to its counterpart with standard scaling.\n",
    "\n",
    "The RMSE and MAE increased by 0.1 and 0.3 days respectively. The values are still low, indicating small prediction errors. The R<sup>2</sup> decreased by 0.02, suggesting that the model's predtive power got slightly worse."
   ]
  },
  {
   "cell_type": "markdown",
   "metadata": {},
   "source": [
    "### Model: Random Forest"
   ]
  },
  {
   "cell_type": "code",
   "execution_count": 82,
   "metadata": {
    "collapsed": false
   },
   "outputs": [
    {
     "name": "stdout",
     "output_type": "stream",
     "text": [
      "Best Parameters:  {'n_estimators': 10, 'criterion': 'mse'}\n",
      "Best Grid Search Score:  -1.21606699362\n",
      "Best Estimator:  RandomForestRegressor(bootstrap=True, criterion='mse', max_depth=None,\n",
      "           max_features='auto', max_leaf_nodes=None,\n",
      "           min_impurity_split=1e-07, min_samples_leaf=1,\n",
      "           min_samples_split=2, min_weight_fraction_leaf=0.0,\n",
      "           n_estimators=10, n_jobs=-1, oob_score=False, random_state=2,\n",
      "           verbose=0, warm_start=False)\n"
     ]
    }
   ],
   "source": [
    "rf_model_bc, rf_pred_bc, rf_p_bc, rf_score_bc, rf_imp_bc = rf_gridsearch(scaled_X_train_boxcox, scaled_X_test_boxcox, y_train)\n",
    "print \"Best Parameters: \", rf_p_bc\n",
    "print \"Best Grid Search Score: \", rf_score_bc\n",
    "print \"Best Estimator: \", rf_model_bc"
   ]
  },
  {
   "cell_type": "code",
   "execution_count": 83,
   "metadata": {
    "collapsed": false
   },
   "outputs": [
    {
     "data": {
      "text/plain": [
       "<matplotlib.text.Text at 0x7f34f1aac4d0>"
      ]
     },
     "execution_count": 83,
     "metadata": {},
     "output_type": "execute_result"
    },
    {
     "data": {
      "image/png": "[encoded data removed]",
      "text/plain": [
       "<matplotlib.figure.Figure at 0x7f3504112f10>"
      ]
     },
     "metadata": {},
     "output_type": "display_data"
    }
   ],
   "source": [
    "# feats = data.drop('icu_los', axis=1)\n",
    "feat_imp_bc = pd.Series(rf_imp_bc, \n",
    "                     index=feats.columns.values)\n",
    "feat_imp_bc.sort(inplace=True)\n",
    "feat_imp_bc.plot(kind='barh')\n",
    "plt.title('Feature Importances')"
   ]
  },
  {
   "cell_type": "markdown",
   "metadata": {},
   "source": [
    "#### Compare Predictions"
   ]
  },
  {
   "cell_type": "code",
   "execution_count": 84,
   "metadata": {
    "collapsed": false
   },
   "outputs": [
    {
     "data": {
      "text/plain": [
       "array([  3.11498,  10.26594,   4.62444,   7.7706 ,  10.23747,   9.96622,\n",
       "         8.09266,   4.63674,  10.75695,   7.70208])"
      ]
     },
     "execution_count": 84,
     "metadata": {},
     "output_type": "execute_result"
    }
   ],
   "source": [
    "rf_pred_bc[-10:]"
   ]
  },
  {
   "cell_type": "code",
   "execution_count": 85,
   "metadata": {
    "collapsed": false
   },
   "outputs": [
    {
     "data": {
      "text/plain": [
       "array([ 11.6744,   9.2824,  21.8131,  11.6055,   4.5255,   4.0701,\n",
       "         1.1331,   2.7381,   0.6534,   4.8671])"
      ]
     },
     "execution_count": 85,
     "metadata": {},
     "output_type": "execute_result"
    }
   ],
   "source": [
    "y_test[-10:]"
   ]
  },
  {
   "cell_type": "code",
   "execution_count": 113,
   "metadata": {
    "collapsed": false
   },
   "outputs": [
    {
     "data": {
      "image/png": "[encoded data removed]",
      "text/plain": [
       "<matplotlib.figure.Figure at 0x7f3504492090>"
      ]
     },
     "metadata": {},
     "output_type": "display_data"
    }
   ],
   "source": [
    "plt.figure(figsize=(14, 5))\n",
    "plt.subplot(1,2,1)\n",
    "plt.hist(np.round(rf_pred_bc), bins=6, color='g')\n",
    "plt.title(\"Model: Random Forest\")\n",
    "plt.xlabel('ICU Length of Stay (days)')\n",
    "plt.ylabel('Frequency')\n",
    "plt.xlim([0,50])\n",
    "plt.ylim([0, 250])\n",
    "plt.legend(loc='upper right')\n",
    "\n",
    "plt.subplot(1,2,2)\n",
    "plt.hist(np.round(y_test), bins=20, color='g')\n",
    "plt.title(\"True (y-test)\")\n",
    "plt.xlabel('ICU Length of Stay (days)')\n",
    "plt.xlim([0,50])\n",
    "plt.ylim([0, 250])\n",
    "plt.legend(loc='upper right')\n",
    "plt.suptitle('Histogram: Response Variable Comparison \\n Model vs. True')\n",
    "\n",
    "plt.show()"
   ]
  },
  {
   "cell_type": "markdown",
   "metadata": {},
   "source": [
    "#### Metrics\n",
    "\n",
    "1. RMSE\n",
    "2. MAE\n",
    "3. R<sup>2</sup>"
   ]
  },
  {
   "cell_type": "code",
   "execution_count": 114,
   "metadata": {
    "collapsed": false
   },
   "outputs": [
    {
     "name": "stdout",
     "output_type": "stream",
     "text": [
      "RMSE = 9.095 days\n",
      "[0.21,76.92]\n",
      "\n",
      "MAE = 4.571 days\n",
      "\n",
      "r2 = -0.205\n"
     ]
    }
   ],
   "source": [
    "rf_rmse_bc = RMSE(rf_pred_bc, y_test)\n",
    "print \"RMSE = %.3f days\" % rf_rmse_bc\n",
    "print \"[%.2f,%.2f]\" % (y_test.min(), y_test.max())\n",
    "print\n",
    "rf_mae_bc = MAE(rf_pred_bc, y_test)\n",
    "print \"MAE = %.3f days\" % rf_mae_bc\n",
    "print\n",
    "rf_r2_bc = r2(rf_pred_bc, y_test)\n",
    "print \"r2 = %.3f\" % rf_r2_bc"
   ]
  },
  {
   "cell_type": "markdown",
   "metadata": {
    "collapsed": true
   },
   "source": [
    "The Random Forest Regression model with Box Cox transformation of applicable features has mixed results in terms of improvement compared to its counterpart with standard scaling.\n",
    "\n",
    "The RMSE and MAE decreased by 0.1 and increased by 1.2 days respectively. The model is slightly improved at predicting large errors, but it's at a tradeoff of increasing it's average absolute error of prediction by about a day.\n",
    "\n",
    "The R<sup>2</sup> decreased by 0.01, suggesting that the model's predtive power got slightly better, but is still very poor."
   ]
  },
  {
   "cell_type": "markdown",
   "metadata": {},
   "source": [
    "## Conclusion\n",
    "Model | RMSE | MAE | R<sup>2</sup> |\n",
    ":-----|:----:|:---:| :------------:|\n",
    "Linear Regression|8.3|3.1|0.002\n",
    "Support Vector Regression (*kernel: rbf*)|8.4|2.5|-0.03\n",
    "k-Nearest Neighbors|8.7|2.7|-0.11\n",
    "Random Forest|9.2|3.4|-0.22\n",
    "\n",
    "All regression models have roughly similar metrics. They all have low predictive errors with relatively low RMSE and MAE values. On the contrary, they all have very poor R<sup>2</sup> scores, demonstrating poor predictive power.\n",
    "\n",
    "#### RMSE\n",
    "In regards to RMSE, the models have relatively decent performances in the prediction of ICU length of stay for new, unseen data. The RMSE values are greater than the MAE values for all models, suggesting that there are a higher frequency of larger residuals as the metric penalizes bigger discrepancies.\n",
    "\n",
    "#### MAE\n",
    "All models are proficient in terms of their mean absolute errors with values ranging from 2-4 days for the ICU length of stays. Essentially, the models are only off, on average, 3 days in their prediction.\n",
    "\n",
    "#### R<sup>2</sup> - Coefficient of Determination\n",
    "The very low R<sup>2</sup> values indicate that the models have very poor predictive power. All models, except for Linear Regression have negative, out of range R<sup>2</sup> scores, suggesting that they are arbitrarily worse or ungeneralizable to new data.\n",
    "\n",
    "More specifically, the k-Nearest Neighbors model is a weak model. Its poor generalizability is possibly attributed to the fact that it's approach is \"lazy learning\". The model does not encompass a training phase and instead holds the entire training data and builds its model at the time of prediction. A drawback of this approach is longer run-time.\n",
    "\n",
    "### Box Cox Transformation\n",
    "Box Cox transformation was performed on only the following feature(s): `ages`. These feature(s) are the only one(s) that have positive values and are continuous. Other unapplicable features either had non-positive values or were categorical in nature.\n",
    "\n",
    "Model | RMSE | MAE | R<sup>2</sup> |\n",
    ":-----|:----:|:---:| :------------:|\n",
    "Linear Regression|8.6|3.8|-0.07\n",
    "Support Vector Regression (*kernel: rbf*)|8.4|2.5|-0.03\n",
    "k-Nearest Neighbors|8.8|3.0|-0.13\n",
    "Random Forest|9.1|4.6|-0.21\n",
    "\n",
    "This normalization approach gave no improvements to the model. All metrics indicate that the transformation actually slightly worsened, if not yielded the same results as the models' \"standard scaling\" counterparts. \n",
    "\n",
    "Thus, it's conluded that the transformation is not appropriate for this dataset."
   ]
  }
 ],
 "metadata": {
  "kernelspec": {
   "display_name": "Python 2",
   "language": "python",
   "name": "python2"
  },
  "language_info": {
   "codemirror_mode": {
    "name": "ipython",
    "version": 2
   },
   "file_extension": ".py",
   "mimetype": "text/x-python",
   "name": "python",
   "nbconvert_exporter": "python",
   "pygments_lexer": "ipython2",
   "version": "2.7.12"
  }
 },
 "nbformat": 4,
 "nbformat_minor": 0
}
