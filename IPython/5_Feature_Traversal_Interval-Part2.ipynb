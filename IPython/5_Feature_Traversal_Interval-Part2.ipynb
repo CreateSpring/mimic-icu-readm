{
 "cells": [
  {
   "cell_type": "markdown",
   "metadata": {},
   "source": [
    "# Week 5 - Feature Engineering: Traversals Part 2\n",
    "### March 24, 2017\n",
    "\n",
    "#### Objectives\n",
    "  * Continue previous feature engineering efforts by exploring the following:\n",
    "    1. New Regression Models: k-Nearest Neighbors, Random Forest\n",
    "    2. Box Cox Transformations\n",
    "    3. Addition of histograms of models' results"
   ]
  },
  {
   "cell_type": "code",
   "execution_count": 2,
   "metadata": {
    "collapsed": false
   },
   "outputs": [],
   "source": [
    "import psycopg2\n",
    "from psycopg2 import extras\n",
    "import numpy as np\n",
    "import pandas as pd\n",
    "from scipy import stats\n",
    "import matplotlib.pyplot as plt\n",
    "import seaborn as sns\n",
    "import itertools\n",
    "from sklearn.neighbors import KNeighborsRegressor\n",
    "from sklearn.ensemble import RandomForestRegressor\n",
    "import sys, os\n",
    "\n",
    "src_abspath = os.path.abspath(os.path.join(\n",
    "    os.path.split(os.getcwd())[0], 'src'))\n",
    "sys.path.append(src_abspath)\n",
    "from db import *\n",
    "from clf import *\n",
    "\n",
    "%matplotlib inline"
   ]
  },
  {
   "cell_type": "markdown",
   "metadata": {},
   "source": [
    "## Composite Dataset"
   ]
  },
  {
   "cell_type": "code",
   "execution_count": 4,
   "metadata": {
    "collapsed": false
   },
   "outputs": [
    {
     "name": "stdout",
     "output_type": "stream",
     "text": [
      "(6160, 24)\n"
     ]
    },
    {
     "data": {
      "text/html": [
       "<div>\n",
       "<table border=\"1\" class=\"dataframe\">\n",
       "  <thead>\n",
       "    <tr style=\"text-align: right;\">\n",
       "      <th></th>\n",
       "      <th>subjectid</th>\n",
       "      <th>icustayid</th>\n",
       "      <th>readm_days</th>\n",
       "      <th>prev_iculos</th>\n",
       "      <th>n_icutrav</th>\n",
       "      <th>curr_cu</th>\n",
       "      <th>prev_cu</th>\n",
       "      <th>prev_ICU</th>\n",
       "      <th>disch_cu</th>\n",
       "      <th>disch_ICU</th>\n",
       "      <th>...</th>\n",
       "      <th>nonicu-CSRU</th>\n",
       "      <th>nonicu-MICU</th>\n",
       "      <th>MICU-MICU</th>\n",
       "      <th>nonicu-TSICU</th>\n",
       "      <th>nonicu-CCU</th>\n",
       "      <th>TSICU-TSICU</th>\n",
       "      <th>SICU-SICU</th>\n",
       "      <th>CSRU-CSRU</th>\n",
       "      <th>CCU-CCU</th>\n",
       "      <th>icu_los</th>\n",
       "    </tr>\n",
       "  </thead>\n",
       "  <tbody>\n",
       "    <tr>\n",
       "      <th>0</th>\n",
       "      <td>36</td>\n",
       "      <td>211200</td>\n",
       "      <td>11.425</td>\n",
       "      <td>1.1096</td>\n",
       "      <td>3</td>\n",
       "      <td>2</td>\n",
       "      <td>0</td>\n",
       "      <td>0</td>\n",
       "      <td>0</td>\n",
       "      <td>0</td>\n",
       "      <td>...</td>\n",
       "      <td>0.717</td>\n",
       "      <td>0.000</td>\n",
       "      <td>0.0</td>\n",
       "      <td>0.0</td>\n",
       "      <td>0.0</td>\n",
       "      <td>0.0</td>\n",
       "      <td>0.0</td>\n",
       "      <td>0.462</td>\n",
       "      <td>0.0</td>\n",
       "      <td>6.8595</td>\n",
       "    </tr>\n",
       "    <tr>\n",
       "      <th>1</th>\n",
       "      <td>41</td>\n",
       "      <td>237024</td>\n",
       "      <td>2.845</td>\n",
       "      <td>3.3937</td>\n",
       "      <td>1</td>\n",
       "      <td>2</td>\n",
       "      <td>0</td>\n",
       "      <td>0</td>\n",
       "      <td>0</td>\n",
       "      <td>0</td>\n",
       "      <td>...</td>\n",
       "      <td>0.717</td>\n",
       "      <td>0.000</td>\n",
       "      <td>0.0</td>\n",
       "      <td>0.0</td>\n",
       "      <td>0.0</td>\n",
       "      <td>0.0</td>\n",
       "      <td>0.0</td>\n",
       "      <td>0.000</td>\n",
       "      <td>0.0</td>\n",
       "      <td>3.1476</td>\n",
       "    </tr>\n",
       "    <tr>\n",
       "      <th>2</th>\n",
       "      <td>68</td>\n",
       "      <td>225771</td>\n",
       "      <td>11.418</td>\n",
       "      <td>3.5368</td>\n",
       "      <td>1</td>\n",
       "      <td>1</td>\n",
       "      <td>0</td>\n",
       "      <td>0</td>\n",
       "      <td>0</td>\n",
       "      <td>0</td>\n",
       "      <td>...</td>\n",
       "      <td>0.000</td>\n",
       "      <td>0.846</td>\n",
       "      <td>0.0</td>\n",
       "      <td>0.0</td>\n",
       "      <td>0.0</td>\n",
       "      <td>0.0</td>\n",
       "      <td>0.0</td>\n",
       "      <td>0.000</td>\n",
       "      <td>0.0</td>\n",
       "      <td>0.8200</td>\n",
       "    </tr>\n",
       "    <tr>\n",
       "      <th>3</th>\n",
       "      <td>68</td>\n",
       "      <td>272667</td>\n",
       "      <td>7.652</td>\n",
       "      <td>0.8200</td>\n",
       "      <td>1</td>\n",
       "      <td>1</td>\n",
       "      <td>0</td>\n",
       "      <td>0</td>\n",
       "      <td>0</td>\n",
       "      <td>0</td>\n",
       "      <td>...</td>\n",
       "      <td>0.000</td>\n",
       "      <td>0.846</td>\n",
       "      <td>0.0</td>\n",
       "      <td>0.0</td>\n",
       "      <td>0.0</td>\n",
       "      <td>0.0</td>\n",
       "      <td>0.0</td>\n",
       "      <td>0.000</td>\n",
       "      <td>0.0</td>\n",
       "      <td>6.3983</td>\n",
       "    </tr>\n",
       "    <tr>\n",
       "      <th>4</th>\n",
       "      <td>91</td>\n",
       "      <td>256972</td>\n",
       "      <td>9.576</td>\n",
       "      <td>0.4965</td>\n",
       "      <td>1</td>\n",
       "      <td>1</td>\n",
       "      <td>0</td>\n",
       "      <td>0</td>\n",
       "      <td>0</td>\n",
       "      <td>0</td>\n",
       "      <td>...</td>\n",
       "      <td>0.000</td>\n",
       "      <td>0.846</td>\n",
       "      <td>0.0</td>\n",
       "      <td>0.0</td>\n",
       "      <td>0.0</td>\n",
       "      <td>0.0</td>\n",
       "      <td>0.0</td>\n",
       "      <td>0.000</td>\n",
       "      <td>0.0</td>\n",
       "      <td>3.4750</td>\n",
       "    </tr>\n",
       "  </tbody>\n",
       "</table>\n",
       "<p>5 rows × 24 columns</p>\n",
       "</div>"
      ],
      "text/plain": [
       "   subjectid  icustayid  readm_days  prev_iculos  n_icutrav  curr_cu  prev_cu  \\\n",
       "0         36     211200      11.425       1.1096          3        2        0   \n",
       "1         41     237024       2.845       3.3937          1        2        0   \n",
       "2         68     225771      11.418       3.5368          1        1        0   \n",
       "3         68     272667       7.652       0.8200          1        1        0   \n",
       "4         91     256972       9.576       0.4965          1        1        0   \n",
       "\n",
       "   prev_ICU  disch_cu  disch_ICU   ...     nonicu-CSRU  nonicu-MICU  \\\n",
       "0         0         0          0   ...           0.717        0.000   \n",
       "1         0         0          0   ...           0.717        0.000   \n",
       "2         0         0          0   ...           0.000        0.846   \n",
       "3         0         0          0   ...           0.000        0.846   \n",
       "4         0         0          0   ...           0.000        0.846   \n",
       "\n",
       "   MICU-MICU  nonicu-TSICU  nonicu-CCU  TSICU-TSICU  SICU-SICU  CSRU-CSRU  \\\n",
       "0        0.0           0.0         0.0          0.0        0.0      0.462   \n",
       "1        0.0           0.0         0.0          0.0        0.0      0.000   \n",
       "2        0.0           0.0         0.0          0.0        0.0      0.000   \n",
       "3        0.0           0.0         0.0          0.0        0.0      0.000   \n",
       "4        0.0           0.0         0.0          0.0        0.0      0.000   \n",
       "\n",
       "   CCU-CCU  icu_los  \n",
       "0      0.0   6.8595  \n",
       "1      0.0   3.1476  \n",
       "2      0.0   0.8200  \n",
       "3      0.0   6.3983  \n",
       "4      0.0   3.4750  \n",
       "\n",
       "[5 rows x 24 columns]"
      ]
     },
     "execution_count": 4,
     "metadata": {},
     "output_type": "execute_result"
    }
   ],
   "source": [
    "data = db.composite_data(interval=30)\n",
    "\n",
    "print data.shape\n",
    "data.head()"
   ]
  },
  {
   "cell_type": "code",
   "execution_count": 39,
   "metadata": {
    "collapsed": false,
    "scrolled": false
   },
   "outputs": [
    {
     "name": "stdout",
     "output_type": "stream",
     "text": [
      "<class 'pandas.core.frame.DataFrame'>\n",
      "Int64Index: 6160 entries, 0 to 6159\n",
      "Data columns (total 24 columns):\n",
      "subjectid       6160 non-null int64\n",
      "icustayid       6160 non-null int64\n",
      "readm_days      6160 non-null float64\n",
      "prev_iculos     6160 non-null float64\n",
      "n_icutrav       6160 non-null int64\n",
      "curr_cu         6160 non-null int64\n",
      "prev_cu         6160 non-null int64\n",
      "prev_ICU        6160 non-null int64\n",
      "disch_cu        6160 non-null int64\n",
      "disch_ICU       6160 non-null int64\n",
      "icu_in_day      6160 non-null int64\n",
      "icu_out_day     6160 non-null int64\n",
      "intra_risk      6160 non-null int64\n",
      "nonicu-SICU     6160 non-null float64\n",
      "nonicu-CSRU     6160 non-null float64\n",
      "nonicu-MICU     6160 non-null float64\n",
      "MICU-MICU       6160 non-null float64\n",
      "nonicu-TSICU    6160 non-null float64\n",
      "nonicu-CCU      6160 non-null float64\n",
      "TSICU-TSICU     6160 non-null float64\n",
      "SICU-SICU       6160 non-null float64\n",
      "CSRU-CSRU       6160 non-null float64\n",
      "CCU-CCU         6160 non-null float64\n",
      "icu_los         6160 non-null float64\n",
      "dtypes: float64(13), int64(11)\n",
      "memory usage: 1.2 MB\n"
     ]
    }
   ],
   "source": [
    "data.info()"
   ]
  },
  {
   "cell_type": "code",
   "execution_count": 40,
   "metadata": {
    "collapsed": false
   },
   "outputs": [
    {
     "data": {
      "text/html": [
       "<div>\n",
       "<table border=\"1\" class=\"dataframe\">\n",
       "  <thead>\n",
       "    <tr style=\"text-align: right;\">\n",
       "      <th></th>\n",
       "      <th>subjectid</th>\n",
       "      <th>icustayid</th>\n",
       "      <th>readm_days</th>\n",
       "      <th>prev_iculos</th>\n",
       "      <th>n_icutrav</th>\n",
       "      <th>curr_cu</th>\n",
       "      <th>prev_cu</th>\n",
       "      <th>prev_ICU</th>\n",
       "      <th>disch_cu</th>\n",
       "      <th>disch_ICU</th>\n",
       "      <th>...</th>\n",
       "      <th>nonicu-CSRU</th>\n",
       "      <th>nonicu-MICU</th>\n",
       "      <th>MICU-MICU</th>\n",
       "      <th>nonicu-TSICU</th>\n",
       "      <th>nonicu-CCU</th>\n",
       "      <th>TSICU-TSICU</th>\n",
       "      <th>SICU-SICU</th>\n",
       "      <th>CSRU-CSRU</th>\n",
       "      <th>CCU-CCU</th>\n",
       "      <th>icu_los</th>\n",
       "    </tr>\n",
       "  </thead>\n",
       "  <tbody>\n",
       "    <tr>\n",
       "      <th>count</th>\n",
       "      <td>6160.000000</td>\n",
       "      <td>6160.000000</td>\n",
       "      <td>6160.000000</td>\n",
       "      <td>6160.000000</td>\n",
       "      <td>6160.000000</td>\n",
       "      <td>6160.000000</td>\n",
       "      <td>6160.000000</td>\n",
       "      <td>6160.000000</td>\n",
       "      <td>6160.0</td>\n",
       "      <td>6160.0</td>\n",
       "      <td>...</td>\n",
       "      <td>6160.000000</td>\n",
       "      <td>6160.000000</td>\n",
       "      <td>6160.000000</td>\n",
       "      <td>6160.000000</td>\n",
       "      <td>6160.000000</td>\n",
       "      <td>6160.000000</td>\n",
       "      <td>6160.000000</td>\n",
       "      <td>6160.000000</td>\n",
       "      <td>6160.000000</td>\n",
       "      <td>6160.000000</td>\n",
       "    </tr>\n",
       "    <tr>\n",
       "      <th>mean</th>\n",
       "      <td>35899.599026</td>\n",
       "      <td>249426.524026</td>\n",
       "      <td>9.127547</td>\n",
       "      <td>5.150684</td>\n",
       "      <td>1.301299</td>\n",
       "      <td>2.263636</td>\n",
       "      <td>0.000325</td>\n",
       "      <td>0.000162</td>\n",
       "      <td>0.0</td>\n",
       "      <td>0.0</td>\n",
       "      <td>...</td>\n",
       "      <td>0.128501</td>\n",
       "      <td>0.387567</td>\n",
       "      <td>0.004591</td>\n",
       "      <td>0.073978</td>\n",
       "      <td>0.116458</td>\n",
       "      <td>0.000936</td>\n",
       "      <td>0.001812</td>\n",
       "      <td>0.013575</td>\n",
       "      <td>0.000556</td>\n",
       "      <td>5.108498</td>\n",
       "    </tr>\n",
       "    <tr>\n",
       "      <th>std</th>\n",
       "      <td>28844.497122</td>\n",
       "      <td>28899.427910</td>\n",
       "      <td>7.784120</td>\n",
       "      <td>7.588340</td>\n",
       "      <td>0.661220</td>\n",
       "      <td>1.350546</td>\n",
       "      <td>0.025482</td>\n",
       "      <td>0.012741</td>\n",
       "      <td>0.0</td>\n",
       "      <td>0.0</td>\n",
       "      <td>...</td>\n",
       "      <td>0.294932</td>\n",
       "      <td>0.455978</td>\n",
       "      <td>0.024462</td>\n",
       "      <td>0.251552</td>\n",
       "      <td>0.303490</td>\n",
       "      <td>0.012110</td>\n",
       "      <td>0.013520</td>\n",
       "      <td>0.068698</td>\n",
       "      <td>0.006306</td>\n",
       "      <td>7.725125</td>\n",
       "    </tr>\n",
       "    <tr>\n",
       "      <th>min</th>\n",
       "      <td>36.000000</td>\n",
       "      <td>200001.000000</td>\n",
       "      <td>0.001000</td>\n",
       "      <td>0.000100</td>\n",
       "      <td>1.000000</td>\n",
       "      <td>1.000000</td>\n",
       "      <td>0.000000</td>\n",
       "      <td>0.000000</td>\n",
       "      <td>0.0</td>\n",
       "      <td>0.0</td>\n",
       "      <td>...</td>\n",
       "      <td>0.000000</td>\n",
       "      <td>0.000000</td>\n",
       "      <td>0.000000</td>\n",
       "      <td>0.000000</td>\n",
       "      <td>0.000000</td>\n",
       "      <td>0.000000</td>\n",
       "      <td>0.000000</td>\n",
       "      <td>0.000000</td>\n",
       "      <td>0.000000</td>\n",
       "      <td>0.000300</td>\n",
       "    </tr>\n",
       "    <tr>\n",
       "      <th>25%</th>\n",
       "      <td>12847.000000</td>\n",
       "      <td>224024.500000</td>\n",
       "      <td>2.811750</td>\n",
       "      <td>1.403475</td>\n",
       "      <td>1.000000</td>\n",
       "      <td>1.000000</td>\n",
       "      <td>0.000000</td>\n",
       "      <td>0.000000</td>\n",
       "      <td>0.0</td>\n",
       "      <td>0.0</td>\n",
       "      <td>...</td>\n",
       "      <td>0.000000</td>\n",
       "      <td>0.000000</td>\n",
       "      <td>0.000000</td>\n",
       "      <td>0.000000</td>\n",
       "      <td>0.000000</td>\n",
       "      <td>0.000000</td>\n",
       "      <td>0.000000</td>\n",
       "      <td>0.000000</td>\n",
       "      <td>0.000000</td>\n",
       "      <td>1.440675</td>\n",
       "    </tr>\n",
       "    <tr>\n",
       "      <th>50%</th>\n",
       "      <td>26229.000000</td>\n",
       "      <td>249333.500000</td>\n",
       "      <td>6.219000</td>\n",
       "      <td>2.674350</td>\n",
       "      <td>1.000000</td>\n",
       "      <td>2.000000</td>\n",
       "      <td>0.000000</td>\n",
       "      <td>0.000000</td>\n",
       "      <td>0.0</td>\n",
       "      <td>0.0</td>\n",
       "      <td>...</td>\n",
       "      <td>0.000000</td>\n",
       "      <td>0.000000</td>\n",
       "      <td>0.000000</td>\n",
       "      <td>0.000000</td>\n",
       "      <td>0.000000</td>\n",
       "      <td>0.000000</td>\n",
       "      <td>0.000000</td>\n",
       "      <td>0.000000</td>\n",
       "      <td>0.000000</td>\n",
       "      <td>2.741000</td>\n",
       "    </tr>\n",
       "    <tr>\n",
       "      <th>75%</th>\n",
       "      <td>58518.250000</td>\n",
       "      <td>274093.750000</td>\n",
       "      <td>13.956750</td>\n",
       "      <td>5.337550</td>\n",
       "      <td>1.000000</td>\n",
       "      <td>3.000000</td>\n",
       "      <td>0.000000</td>\n",
       "      <td>0.000000</td>\n",
       "      <td>0.0</td>\n",
       "      <td>0.0</td>\n",
       "      <td>...</td>\n",
       "      <td>0.000000</td>\n",
       "      <td>0.846000</td>\n",
       "      <td>0.000000</td>\n",
       "      <td>0.000000</td>\n",
       "      <td>0.000000</td>\n",
       "      <td>0.000000</td>\n",
       "      <td>0.000000</td>\n",
       "      <td>0.000000</td>\n",
       "      <td>0.000000</td>\n",
       "      <td>5.344900</td>\n",
       "    </tr>\n",
       "    <tr>\n",
       "      <th>max</th>\n",
       "      <td>99865.000000</td>\n",
       "      <td>299994.000000</td>\n",
       "      <td>29.997000</td>\n",
       "      <td>116.832700</td>\n",
       "      <td>9.000000</td>\n",
       "      <td>5.000000</td>\n",
       "      <td>2.000000</td>\n",
       "      <td>1.000000</td>\n",
       "      <td>0.0</td>\n",
       "      <td>0.0</td>\n",
       "      <td>...</td>\n",
       "      <td>2.867000</td>\n",
       "      <td>3.384000</td>\n",
       "      <td>0.404000</td>\n",
       "      <td>2.482000</td>\n",
       "      <td>1.684000</td>\n",
       "      <td>0.443000</td>\n",
       "      <td>0.251000</td>\n",
       "      <td>1.155000</td>\n",
       "      <td>0.175000</td>\n",
       "      <td>173.072500</td>\n",
       "    </tr>\n",
       "  </tbody>\n",
       "</table>\n",
       "<p>8 rows × 24 columns</p>\n",
       "</div>"
      ],
      "text/plain": [
       "          subjectid      icustayid   readm_days  prev_iculos    n_icutrav  \\\n",
       "count   6160.000000    6160.000000  6160.000000  6160.000000  6160.000000   \n",
       "mean   35899.599026  249426.524026     9.127547     5.150684     1.301299   \n",
       "std    28844.497122   28899.427910     7.784120     7.588340     0.661220   \n",
       "min       36.000000  200001.000000     0.001000     0.000100     1.000000   \n",
       "25%    12847.000000  224024.500000     2.811750     1.403475     1.000000   \n",
       "50%    26229.000000  249333.500000     6.219000     2.674350     1.000000   \n",
       "75%    58518.250000  274093.750000    13.956750     5.337550     1.000000   \n",
       "max    99865.000000  299994.000000    29.997000   116.832700     9.000000   \n",
       "\n",
       "           curr_cu      prev_cu     prev_ICU  disch_cu  disch_ICU  \\\n",
       "count  6160.000000  6160.000000  6160.000000    6160.0     6160.0   \n",
       "mean      2.263636     0.000325     0.000162       0.0        0.0   \n",
       "std       1.350546     0.025482     0.012741       0.0        0.0   \n",
       "min       1.000000     0.000000     0.000000       0.0        0.0   \n",
       "25%       1.000000     0.000000     0.000000       0.0        0.0   \n",
       "50%       2.000000     0.000000     0.000000       0.0        0.0   \n",
       "75%       3.000000     0.000000     0.000000       0.0        0.0   \n",
       "max       5.000000     2.000000     1.000000       0.0        0.0   \n",
       "\n",
       "          ...       nonicu-CSRU  nonicu-MICU    MICU-MICU  nonicu-TSICU  \\\n",
       "count     ...       6160.000000  6160.000000  6160.000000   6160.000000   \n",
       "mean      ...          0.128501     0.387567     0.004591      0.073978   \n",
       "std       ...          0.294932     0.455978     0.024462      0.251552   \n",
       "min       ...          0.000000     0.000000     0.000000      0.000000   \n",
       "25%       ...          0.000000     0.000000     0.000000      0.000000   \n",
       "50%       ...          0.000000     0.000000     0.000000      0.000000   \n",
       "75%       ...          0.000000     0.846000     0.000000      0.000000   \n",
       "max       ...          2.867000     3.384000     0.404000      2.482000   \n",
       "\n",
       "        nonicu-CCU  TSICU-TSICU    SICU-SICU    CSRU-CSRU      CCU-CCU  \\\n",
       "count  6160.000000  6160.000000  6160.000000  6160.000000  6160.000000   \n",
       "mean      0.116458     0.000936     0.001812     0.013575     0.000556   \n",
       "std       0.303490     0.012110     0.013520     0.068698     0.006306   \n",
       "min       0.000000     0.000000     0.000000     0.000000     0.000000   \n",
       "25%       0.000000     0.000000     0.000000     0.000000     0.000000   \n",
       "50%       0.000000     0.000000     0.000000     0.000000     0.000000   \n",
       "75%       0.000000     0.000000     0.000000     0.000000     0.000000   \n",
       "max       1.684000     0.443000     0.251000     1.155000     0.175000   \n",
       "\n",
       "           icu_los  \n",
       "count  6160.000000  \n",
       "mean      5.108498  \n",
       "std       7.725125  \n",
       "min       0.000300  \n",
       "25%       1.440675  \n",
       "50%       2.741000  \n",
       "75%       5.344900  \n",
       "max     173.072500  \n",
       "\n",
       "[8 rows x 24 columns]"
      ]
     },
     "execution_count": 40,
     "metadata": {},
     "output_type": "execute_result"
    }
   ],
   "source": [
    "data.describe()"
   ]
  },
  {
   "cell_type": "markdown",
   "metadata": {},
   "source": [
    "# Predictive Modeling\n",
    "\n",
    "## Normalization Approach 1: Standard Scaling"
   ]
  },
  {
   "cell_type": "code",
   "execution_count": 5,
   "metadata": {
    "collapsed": true
   },
   "outputs": [],
   "source": [
    "am_debugging = True\n",
    "if am_debugging:\n",
    "    np.random.seed(2)\n",
    "else:\n",
    "    np.random.seed()"
   ]
  },
  {
   "cell_type": "markdown",
   "metadata": {},
   "source": [
    "#### Partition: Training & Testing Sets"
   ]
  },
  {
   "cell_type": "code",
   "execution_count": 6,
   "metadata": {
    "collapsed": false
   },
   "outputs": [
    {
     "data": {
      "text/plain": [
       "((700, 23), (300, 23), (700,), (300,))"
      ]
     },
     "execution_count": 6,
     "metadata": {},
     "output_type": "execute_result"
    }
   ],
   "source": [
    "X_train, X_test, y_train, y_test = data_partition(data.iloc[:1000, :])\n",
    "\n",
    "X_train.shape, X_test.shape, y_train.shape, y_test.shape"
   ]
  },
  {
   "cell_type": "markdown",
   "metadata": {},
   "source": [
    "#### Normalization"
   ]
  },
  {
   "cell_type": "code",
   "execution_count": 7,
   "metadata": {
    "collapsed": false
   },
   "outputs": [],
   "source": [
    "scaled_X_train, scaled_X_test = scale(X_train, X_test)"
   ]
  },
  {
   "cell_type": "markdown",
   "metadata": {},
   "source": [
    "#### Feature Selection"
   ]
  },
  {
   "cell_type": "code",
   "execution_count": 44,
   "metadata": {
    "collapsed": true
   },
   "outputs": [],
   "source": [
    "pass"
   ]
  },
  {
   "cell_type": "markdown",
   "metadata": {},
   "source": [
    "### Model: Linear Regression"
   ]
  },
  {
   "cell_type": "code",
   "execution_count": 291,
   "metadata": {
    "collapsed": false,
    "scrolled": true
   },
   "outputs": [
    {
     "name": "stdout",
     "output_type": "stream",
     "text": [
      "Best Parameters:  {'kernel': 'linear', 'C': 1000, 'gamma': 0.0001}\n",
      "Best Grid Search Score:  0.0510005223002\n",
      "Best Estimator:  SVR(C=1000, cache_size=200, coef0=0.0, degree=3, epsilon=0.1, gamma=0.0001,\n",
      "  kernel='linear', max_iter=-1, shrinking=True, tol=0.001, verbose=False) \n",
      "\n"
     ]
    }
   ],
   "source": [
    "lr_model, lr_pred, lr_p, lr_score = gridsearch(scaled_X_train, scaled_X_test, y_train)\n",
    "print \"Best Parameters: \", lr_p\n",
    "print \"Best Grid Search Score: \", lr_score\n",
    "print \"Best Estimator: \", lr_model, \"\\n\""
   ]
  },
  {
   "cell_type": "markdown",
   "metadata": {},
   "source": [
    "#### Compare Predictions"
   ]
  },
  {
   "cell_type": "code",
   "execution_count": 292,
   "metadata": {
    "collapsed": false
   },
   "outputs": [
    {
     "data": {
      "text/plain": [
       "array([  2.53905234,   2.55147744,   6.33025238,   2.33192863,\n",
       "         2.53241604,   2.83256744,  13.31739346,   2.91845799,\n",
       "         1.55092954,   6.40806963])"
      ]
     },
     "execution_count": 292,
     "metadata": {},
     "output_type": "execute_result"
    }
   ],
   "source": [
    "lr_pred[-10:]"
   ]
  },
  {
   "cell_type": "code",
   "execution_count": 293,
   "metadata": {
    "collapsed": false
   },
   "outputs": [
    {
     "data": {
      "text/plain": [
       "array([  4.6149,   6.8684,  13.8397,   0.3632,   1.6397,   3.0585,\n",
       "         3.0521,   0.2826,   3.5426,   0.8828])"
      ]
     },
     "execution_count": 293,
     "metadata": {},
     "output_type": "execute_result"
    }
   ],
   "source": [
    "y_test[-10:]"
   ]
  },
  {
   "cell_type": "code",
   "execution_count": 301,
   "metadata": {
    "collapsed": false
   },
   "outputs": [
    {
     "data": {
      "image/png": "[encoded data removed]",
      "text/plain": [
       "<matplotlib.figure.Figure at 0x7f4a7583b590>"
      ]
     },
     "metadata": {},
     "output_type": "display_data"
    }
   ],
   "source": [
    "plt.figure(figsize=(12, 4))\n",
    "plt.subplot(1,2,1)\n",
    "plt.hist(np.round(lr_pred), color='g')\n",
    "plt.title(\"Model: Linear Regression\")\n",
    "plt.xlabel('ICU Length of Stay (days)')\n",
    "plt.ylabel('Frequency')\n",
    "plt.xlim([0,30])\n",
    "# plt.ylim([0, 120])\n",
    "plt.legend(loc='upper right')\n",
    "\n",
    "plt.subplot(1,2,2)\n",
    "plt.hist(np.round(y_test), bins=25, color='g')\n",
    "plt.title(\"True (y-test)\")\n",
    "plt.xlabel('ICU Length of Stay (days)')\n",
    "plt.xlim([0,30])\n",
    "# plt.ylim([0, 150])\n",
    "plt.legend(loc='upper right')\n",
    "plt.suptitle('Histogram: Response Variable Comparison \\n Model vs. True')\n",
    "\n",
    "plt.show()"
   ]
  },
  {
   "cell_type": "markdown",
   "metadata": {},
   "source": [
    "#### Metrics\n",
    "\n",
    "##### Root Mean Squared Error (RMSE)\n",
    "Indicates the *absolute fit* of the model to the data. In other words, how close the observed data points are to the model's predicted values.\n",
    "\n",
    "Also, it is the standard deviation of unexplained variance (residuals)."
   ]
  },
  {
   "cell_type": "code",
   "execution_count": 297,
   "metadata": {
    "collapsed": false
   },
   "outputs": [
    {
     "name": "stdout",
     "output_type": "stream",
     "text": [
      "RMSE = 10.684 days\n"
     ]
    }
   ],
   "source": [
    "lr_rmse = RMSE(lr_pred, y_test)\n",
    "print \"RMSE = %.3f days\" % lr_rmse"
   ]
  },
  {
   "cell_type": "code",
   "execution_count": 296,
   "metadata": {
    "collapsed": false
   },
   "outputs": [
    {
     "name": "stdout",
     "output_type": "stream",
     "text": [
      "[0.00,71.01]\n"
     ]
    }
   ],
   "source": [
    "print \"[%.2f,%.2f]\" % (y_test.min(), y_test.max())"
   ]
  },
  {
   "cell_type": "markdown",
   "metadata": {
    "collapsed": true
   },
   "source": [
    "The linear regression model has an RMSE value of 10.68 days. The value is somewhat small relative to the range of the `dependent variable` (average ICU LOS). Thus, indicating that model has decent accuracy in predicting the response."
   ]
  },
  {
   "cell_type": "markdown",
   "metadata": {},
   "source": [
    "##### Mean Absolute Error\n",
    "The Mean Absolute Error measures how close the model's predictions are to the observed values."
   ]
  },
  {
   "cell_type": "code",
   "execution_count": 298,
   "metadata": {
    "collapsed": false
   },
   "outputs": [
    {
     "name": "stdout",
     "output_type": "stream",
     "text": [
      "MAE = 1.643 days\n"
     ]
    }
   ],
   "source": [
    "lr_mae = MAE(lr_pred, y_test)\n",
    "print \"MAE = %.3f days\" % lr_mae"
   ]
  },
  {
   "cell_type": "markdown",
   "metadata": {
    "collapsed": true
   },
   "source": [
    "The average difference between prediction and observation is 1.64 days, which is low."
   ]
  },
  {
   "cell_type": "markdown",
   "metadata": {},
   "source": [
    "##### R<sup>2</sup>: Coefficient of Determination\n",
    "R<sup>2</sup> quantifies the goodness of fit of the linear model. More specifically, it depicts the predictive power of the model.\n",
    "\n",
    "Range: [0, 1]"
   ]
  },
  {
   "cell_type": "code",
   "execution_count": 299,
   "metadata": {
    "collapsed": false
   },
   "outputs": [
    {
     "name": "stdout",
     "output_type": "stream",
     "text": [
      "r2 = 0.074\n"
     ]
    }
   ],
   "source": [
    "lr_r2 = r2(lr_pred, y_test)\n",
    "print \"r2 = %.3f\" % lr_r2"
   ]
  },
  {
   "cell_type": "markdown",
   "metadata": {
    "collapsed": true
   },
   "source": [
    "The R<sup>2</sup> value is approximately 0.074, which is low and indicates that the model does not have strong predictive power."
   ]
  },
  {
   "cell_type": "markdown",
   "metadata": {},
   "source": [
    "### Model: Support Vector Regression"
   ]
  },
  {
   "cell_type": "code",
   "execution_count": 45,
   "metadata": {
    "collapsed": true
   },
   "outputs": [],
   "source": [
    "def gridsearch(X_train, X_test, y_train):\n",
    "    \"\"\"\n",
    "    Function determines the optimal parameters of the best classifier model/estimator by performing a grid search.\n",
    "    The best model will be fitted with the Training set and subsequently used to predict the classification/labels\n",
    "    of the Testing set. The function returns the \"best\" classifier instance, classifier predictions, best parameters,\n",
    "    and grid score.\n",
    "\n",
    "    :param X_train: Training set features\n",
    "    :param X_test: Testing set features\n",
    "    :param y_train: Training set labels\n",
    "    :return: tuple of (best classifier instance, clf predictions, dict of best parameters, grid score)\n",
    "    \"\"\"\n",
    "    # Parameter Grid - dictionary of parameters (map parameter names to values to be searched)\n",
    "    param_grid = [\n",
    "        {'C': [0.01, 0.1, 1, 10, 100, 1000], 'gamma': [0.0001, 0.001, 0.01, 0.1, 1, 10], 'kernel': ['linear']},\n",
    "        {'C': [0.01, 0.1, 1, 10, 100, 1000], 'gamma': [0.0001, 0.001, 0.01, 0.1, 1, 10], 'kernel': ['rbf']},\n",
    "        {'C':[0.01, 0.1, 1, 10, 100, 1000], 'gamma': [0.0001, 0.001, 0.01, 0.1, 1, 10], 'degree': [2], 'kernel': ['poly']}\n",
    "    ]\n",
    "\n",
    "    \n",
    "    # Blank clf instance\n",
    "    blank_clf = SVR()\n",
    "\n",
    "    # Grid Search - Hyperparameters Optimization\n",
    "    clf = grid_search.GridSearchCV(blank_clf, param_grid, n_jobs=-1)  # classifier + optimal parameters\n",
    "    clf = clf.fit(X_train, y_train)  # fitted classifier\n",
    "    best_est = clf.best_estimator_\n",
    "    clf_pred = best_est.predict(X_test)\n",
    "\n",
    "    best_params = clf.best_params_  # best parameters identified by grid search\n",
    "    score = clf.best_score_  # best grid score\n",
    "    return (best_est, clf_pred, best_params, score)"
   ]
  },
  {
   "cell_type": "code",
   "execution_count": 46,
   "metadata": {
    "collapsed": false
   },
   "outputs": [
    {
     "name": "stdout",
     "output_type": "stream",
     "text": [
      "Best Parameters:  {'kernel': 'linear', 'C': 1000, 'gamma': 0.0001}\n",
      "Best Grid Search Score:  0.0510005223002\n",
      "Best Estimator:  SVR(C=1000, cache_size=200, coef0=0.0, degree=3, epsilon=0.1, gamma=0.0001,\n",
      "  kernel='linear', max_iter=-1, shrinking=True, tol=0.001, verbose=False) \n",
      "\n"
     ]
    }
   ],
   "source": [
    "svr_model, svr_pred, svr_p, svr_score = gridsearch(scaled_X_train, scaled_X_test, y_train)\n",
    "print \"Best Parameters: \", svr_p\n",
    "print \"Best Grid Search Score: \", svr_score\n",
    "print \"Best Estimator: \", svr_model, \"\\n\""
   ]
  },
  {
   "cell_type": "markdown",
   "metadata": {},
   "source": [
    "Linear kernel was determined to be the most optimal for SVR model. Thus, the model is similar to Linear Regression."
   ]
  },
  {
   "cell_type": "markdown",
   "metadata": {},
   "source": [
    "#### Compare Predictions"
   ]
  },
  {
   "cell_type": "code",
   "execution_count": 47,
   "metadata": {
    "collapsed": false
   },
   "outputs": [
    {
     "data": {
      "text/plain": [
       "array([  2.53905234,   2.55147744,   6.33025238,   2.33192863,\n",
       "         2.53241604,   2.83256744,  13.31739346,   2.91845799,\n",
       "         1.55092954,   6.40806963])"
      ]
     },
     "execution_count": 47,
     "metadata": {},
     "output_type": "execute_result"
    }
   ],
   "source": [
    "svr_pred[-10:]"
   ]
  },
  {
   "cell_type": "code",
   "execution_count": 48,
   "metadata": {
    "collapsed": false
   },
   "outputs": [
    {
     "data": {
      "text/plain": [
       "array([  4.6149,   6.8684,  13.8397,   0.3632,   1.6397,   3.0585,\n",
       "         3.0521,   0.2826,   3.5426,   0.8828])"
      ]
     },
     "execution_count": 48,
     "metadata": {},
     "output_type": "execute_result"
    }
   ],
   "source": [
    "y_test[-10:]"
   ]
  },
  {
   "cell_type": "code",
   "execution_count": 274,
   "metadata": {
    "collapsed": false
   },
   "outputs": [
    {
     "data": {
      "image/png": "[encoded data removed]",
      "text/plain": [
       "<matplotlib.figure.Figure at 0x7f4a8111bc10>"
      ]
     },
     "metadata": {},
     "output_type": "display_data"
    }
   ],
   "source": [
    "plt.figure(figsize=(12, 4))\n",
    "plt.subplot(1,2,1)\n",
    "plt.hist(np.round(svr_pred), color='g')\n",
    "plt.title(\"Model: SVR\")\n",
    "plt.xlabel('ICU Length of Stay (days)')\n",
    "plt.ylabel('Frequency')\n",
    "plt.xlim([0,30])\n",
    "# plt.ylim([0, 120])\n",
    "plt.legend(loc='upper right')\n",
    "\n",
    "plt.subplot(1,2,2)\n",
    "plt.hist(np.round(y_test), bins=25, color='g')\n",
    "plt.title(\"True (y-test)\")\n",
    "plt.xlabel('ICU Length of Stay (days)')\n",
    "plt.xlim([0,30])\n",
    "# plt.ylim([0, 150])\n",
    "plt.legend(loc='upper right')\n",
    "plt.suptitle('Histogram: Response Variable Comparison \\n Model vs. True')\n",
    "\n",
    "plt.show()"
   ]
  },
  {
   "cell_type": "markdown",
   "metadata": {},
   "source": [
    "#### Metrics\n",
    "\n",
    "##### Root Mean Squared Error (RMSE)\n",
    "Indicates the *absolute fit* of the model to the data. In other words, how close the observed data points are to the model's predicted values.\n",
    "\n",
    "Also, it is the standard deviation of unexplained variance (residuals)."
   ]
  },
  {
   "cell_type": "code",
   "execution_count": 236,
   "metadata": {
    "collapsed": false
   },
   "outputs": [
    {
     "name": "stdout",
     "output_type": "stream",
     "text": [
      "RMSE = 10.684 days\n"
     ]
    }
   ],
   "source": [
    "svr_rmse = RMSE(svr_pred, y_test)\n",
    "print \"RMSE = %.3f days\" % svr_rmse"
   ]
  },
  {
   "cell_type": "code",
   "execution_count": 138,
   "metadata": {
    "collapsed": false
   },
   "outputs": [
    {
     "name": "stdout",
     "output_type": "stream",
     "text": [
      "[0.00,71.01]\n"
     ]
    }
   ],
   "source": [
    "print \"[%.2f,%.2f]\" % (y_test.min(), y_test.max())"
   ]
  },
  {
   "cell_type": "markdown",
   "metadata": {},
   "source": [
    "The SVR model has an RMSE value of 10.68 days. The value is somewhat small relative to the range of the `dependent variable` (average ICU LOS). Thus, indicating that model has decent accuracy in predicting the response."
   ]
  },
  {
   "cell_type": "markdown",
   "metadata": {},
   "source": [
    "##### Mean Absolute Error\n",
    "The Mean Absolute Error measures how close the model's predictions are to the observed values."
   ]
  },
  {
   "cell_type": "code",
   "execution_count": 237,
   "metadata": {
    "collapsed": false
   },
   "outputs": [
    {
     "name": "stdout",
     "output_type": "stream",
     "text": [
      "MAE = 1.643 days\n"
     ]
    }
   ],
   "source": [
    "svr_mae = MAE(svr_pred, y_test)\n",
    "print \"MAE = %.3f days\" % svr_mae"
   ]
  },
  {
   "cell_type": "markdown",
   "metadata": {},
   "source": [
    "The average difference between prediction and observation is 1.64 days, which is low."
   ]
  },
  {
   "cell_type": "markdown",
   "metadata": {},
   "source": [
    "##### R<sup>2</sup>: Coefficient of Determination\n",
    "R<sup>2</sup> quantifies the goodness of fit of the linear model. More specifically, it depicts the predictive power of the model.\n",
    "\n",
    "Range: [0, 1]"
   ]
  },
  {
   "cell_type": "code",
   "execution_count": 238,
   "metadata": {
    "collapsed": false
   },
   "outputs": [
    {
     "name": "stdout",
     "output_type": "stream",
     "text": [
      "r2 = 0.074\n"
     ]
    }
   ],
   "source": [
    "svr_r2 = r2(svr_pred, y_test)\n",
    "print \"r2 = %.3f\" % svr_r2"
   ]
  },
  {
   "cell_type": "markdown",
   "metadata": {},
   "source": [
    "The R<sup>2</sup> value is approximately 0.074, which is low and indicates that the model does not have strong predictive power."
   ]
  },
  {
   "cell_type": "markdown",
   "metadata": {},
   "source": [
    "### Model: k-Nearest Neighbors"
   ]
  },
  {
   "cell_type": "code",
   "execution_count": 201,
   "metadata": {
    "collapsed": false
   },
   "outputs": [],
   "source": [
    "knn_model = KNeighborsRegressor(n_neighbors=5, weights='uniform') # look at 5 closest neighbors\n",
    "knn_model.fit(scaled_X_train, y_train) # fit model on training data\n",
    "knn_pred = knn_model.predict(scaled_X_test)"
   ]
  },
  {
   "cell_type": "markdown",
   "metadata": {},
   "source": [
    "#### Compare Predictions"
   ]
  },
  {
   "cell_type": "code",
   "execution_count": 202,
   "metadata": {
    "collapsed": false
   },
   "outputs": [
    {
     "data": {
      "text/plain": [
       "array([ 2.46158,  3.20428,  2.41194,  3.6081 ,  2.0596 ,  3.73802,\n",
       "        4.74774,  4.20168,  2.08698,  3.46718])"
      ]
     },
     "execution_count": 202,
     "metadata": {},
     "output_type": "execute_result"
    }
   ],
   "source": [
    "knn_pred[-10:]"
   ]
  },
  {
   "cell_type": "code",
   "execution_count": 203,
   "metadata": {
    "collapsed": false
   },
   "outputs": [
    {
     "data": {
      "text/plain": [
       "array([  4.6149,   6.8684,  13.8397,   0.3632,   1.6397,   3.0585,\n",
       "         3.0521,   0.2826,   3.5426,   0.8828])"
      ]
     },
     "execution_count": 203,
     "metadata": {},
     "output_type": "execute_result"
    }
   ],
   "source": [
    "y_test[-10:]"
   ]
  },
  {
   "cell_type": "code",
   "execution_count": 275,
   "metadata": {
    "collapsed": false
   },
   "outputs": [
    {
     "data": {
      "image/png": "[encoded data removed]",
      "text/plain": [
       "<matplotlib.figure.Figure at 0x7f4a811f7210>"
      ]
     },
     "metadata": {},
     "output_type": "display_data"
    }
   ],
   "source": [
    "plt.figure(figsize=(12, 4))\n",
    "plt.subplot(1,2,1)\n",
    "plt.hist(np.round(knn_pred), color='g')\n",
    "plt.title(\"Model: k-Nearest Neighbors\")\n",
    "plt.xlabel('ICU Length of Stay (days)')\n",
    "plt.ylabel('Frequency')\n",
    "plt.xlim([0,30])\n",
    "# plt.ylim([0, 120])\n",
    "plt.legend(loc='upper right')\n",
    "\n",
    "plt.subplot(1,2,2)\n",
    "plt.hist(np.round(y_test), bins=25, color='g')\n",
    "plt.title(\"True (y-test)\")\n",
    "plt.xlabel('ICU Length of Stay (days)')\n",
    "plt.xlim([0,30])\n",
    "# plt.ylim([0, 150])\n",
    "plt.legend(loc='upper right')\n",
    "plt.suptitle('Histogram: Response Variable Comparison \\n Model vs. True')\n",
    "\n",
    "plt.show()"
   ]
  },
  {
   "cell_type": "markdown",
   "metadata": {},
   "source": [
    "#### Metrics\n",
    "\n",
    "##### Root Mean Squared Error (RMSE)\n",
    "Indicates the *absolute fit* of the model to the data. In other words, how close the observed data points are to the model's predicted values.\n",
    "\n",
    "Also, it is the standard deviation of unexplained variance (residuals)."
   ]
  },
  {
   "cell_type": "code",
   "execution_count": 239,
   "metadata": {
    "collapsed": false
   },
   "outputs": [
    {
     "name": "stdout",
     "output_type": "stream",
     "text": [
      "RMSE = 11.705 days\n"
     ]
    }
   ],
   "source": [
    "knn_rmse = RMSE(knn_pred, y_test)\n",
    "print \"RMSE = %.3f days\" % knn_rmse"
   ]
  },
  {
   "cell_type": "code",
   "execution_count": 206,
   "metadata": {
    "collapsed": false
   },
   "outputs": [
    {
     "name": "stdout",
     "output_type": "stream",
     "text": [
      "[0.00,71.01]\n"
     ]
    }
   ],
   "source": [
    "print \"[%.2f,%.2f]\" % (y_test.min(), y_test.max())"
   ]
  },
  {
   "cell_type": "markdown",
   "metadata": {},
   "source": [
    "The k-NN model has an RMSE value of 11.71 days. The value is somewhat small relative to the range of the `dependent variable` (average ICU LOS). Thus, indicating that model has decent accuracy in predicting the response."
   ]
  },
  {
   "cell_type": "markdown",
   "metadata": {},
   "source": [
    "##### Mean Absolute Error\n",
    "The Mean Absolute Error measures how close the model's predictions are to the observed values."
   ]
  },
  {
   "cell_type": "code",
   "execution_count": 240,
   "metadata": {
    "collapsed": false
   },
   "outputs": [
    {
     "name": "stdout",
     "output_type": "stream",
     "text": [
      "MAE = 2.480 days\n"
     ]
    }
   ],
   "source": [
    "knn_mae = MAE(knn_pred, y_test)\n",
    "print \"MAE = %.3f days\" % knn_mae"
   ]
  },
  {
   "cell_type": "markdown",
   "metadata": {},
   "source": [
    "The average difference between prediction and observation is 2.5 days, which is relatively low."
   ]
  },
  {
   "cell_type": "markdown",
   "metadata": {},
   "source": [
    "##### R<sup>2</sup>: Coefficient of Determination\n",
    "R<sup>2</sup> quantifies the goodness of fit of the linear model. More specifically, it depicts the predictive power of the model.\n",
    "\n",
    "Range: [0, 1]"
   ]
  },
  {
   "cell_type": "code",
   "execution_count": 242,
   "metadata": {
    "collapsed": false
   },
   "outputs": [
    {
     "name": "stdout",
     "output_type": "stream",
     "text": [
      "r2 = -0.11\n"
     ]
    }
   ],
   "source": [
    "knn_r2 = r2(knn_pred, y_test)\n",
    "print \"r2 = %.2f\" % knn_r2"
   ]
  },
  {
   "cell_type": "markdown",
   "metadata": {},
   "source": [
    "The k-NN model has poor predictive power. The negative R<sup>2</sup> is out of range, but possible as it indicates that the model can be arbitrarily worse. \n",
    "\n",
    "This may be attributed to the fact that it's a \"lazy learning\" algorithm, *lacking generalization*. The model only does work (build a model) at the time of prediction and uses minimal, if any Training data."
   ]
  },
  {
   "cell_type": "markdown",
   "metadata": {},
   "source": [
    "### Model: Random Forest\n",
    "\n",
    "#### Criterion\n",
    "  1. **mse**: mean squared error\n",
    "  2. **mae**: mean absolute error"
   ]
  },
  {
   "cell_type": "code",
   "execution_count": 212,
   "metadata": {
    "collapsed": true
   },
   "outputs": [],
   "source": [
    "def rf_gridsearch(X_train, X_test, y_train):\n",
    "    # Parameter Grid - dictionary of parameters (map parameter names to values to be searched)\n",
    "    param_grid = [\n",
    "        {'n_estimators': [1, 2, 3, 4, 5, 6, 7, 8, 9, 10], \n",
    "         'criterion': ['mse', 'mae']}\n",
    "    ]\n",
    "\n",
    "    rfr = RandomForestRegressor(random_state=2, n_jobs=-1)\n",
    "\n",
    "    # Grid search to find \"best\" random forest classifier -- Hyperparameters Optimization\n",
    "    clf = grid_search.GridSearchCV(rfr, param_grid)  # classifier + optimal parameters\n",
    "    clf = clf.fit(X_train, y_train)  # fitted classifier -- Training Set\n",
    "    best_est = clf.best_estimator_\n",
    "    clf_pred = best_est.predict(X_test)  # apply classifier on test set for label predictions\n",
    "    params = clf.best_params_  # optimal parameters\n",
    "    score = clf.best_score_  # best grid score\n",
    "    imp = best_est.feature_importances_\n",
    "    return (best_est, clf_pred, params, score, imp)"
   ]
  },
  {
   "cell_type": "code",
   "execution_count": 213,
   "metadata": {
    "collapsed": false
   },
   "outputs": [
    {
     "name": "stdout",
     "output_type": "stream",
     "text": [
      "Best Parameters:  {'n_estimators': 10, 'criterion': 'mae'}\n",
      "Best Grid Search Score:  -0.210385016698\n",
      "Best Estimator:  RandomForestRegressor(bootstrap=True, criterion='mae', max_depth=None,\n",
      "           max_features='auto', max_leaf_nodes=None,\n",
      "           min_impurity_split=1e-07, min_samples_leaf=1,\n",
      "           min_samples_split=2, min_weight_fraction_leaf=0.0,\n",
      "           n_estimators=10, n_jobs=-1, oob_score=False, random_state=2,\n",
      "           verbose=0, warm_start=False) \n",
      "\n"
     ]
    }
   ],
   "source": [
    "rf_model, rf_pred, rf_p, rf_score, rf_imp = rf_gridsearch(scaled_X_train, scaled_X_test, y_train)\n",
    "print \"Best Parameters: \", rf_p\n",
    "print \"Best Grid Search Score: \", rf_score\n",
    "print \"Best Estimator: \", rf_model, \"\\n\""
   ]
  },
  {
   "cell_type": "markdown",
   "metadata": {},
   "source": [
    "#### Feature Importance"
   ]
  },
  {
   "cell_type": "code",
   "execution_count": 263,
   "metadata": {
    "collapsed": false
   },
   "outputs": [
    {
     "data": {
      "text/plain": [
       "<matplotlib.text.Text at 0x7f4a75487990>"
      ]
     },
     "execution_count": 263,
     "metadata": {},
     "output_type": "execute_result"
    },
    {
     "data": {
      "image/png": "[encoded data removed]",
      "text/plain": [
       "<matplotlib.figure.Figure at 0x7f4a754cc4d0>"
      ]
     },
     "metadata": {},
     "output_type": "display_data"
    }
   ],
   "source": [
    "feats = data.drop('icu_los', axis=1)\n",
    "feat_imp = pd.Series(rf_imp, \n",
    "                     index=feats.columns.values).sort_values(ascending=True)\n",
    "feat_imp.plot(kind='barh')\n",
    "plt.title('Feature Importances')"
   ]
  },
  {
   "cell_type": "markdown",
   "metadata": {},
   "source": [
    "#### Compare Predictions"
   ]
  },
  {
   "cell_type": "code",
   "execution_count": 215,
   "metadata": {
    "collapsed": false
   },
   "outputs": [
    {
     "data": {
      "text/plain": [
       "array([  2.58516,   2.20518,   9.76718,   8.41386,   3.66734,  25.31914,\n",
       "        10.44873,   2.18418,   2.71791,  16.20222])"
      ]
     },
     "execution_count": 215,
     "metadata": {},
     "output_type": "execute_result"
    }
   ],
   "source": [
    "rf_pred[-10:]"
   ]
  },
  {
   "cell_type": "code",
   "execution_count": 216,
   "metadata": {
    "collapsed": false
   },
   "outputs": [
    {
     "data": {
      "text/plain": [
       "array([  4.6149,   6.8684,  13.8397,   0.3632,   1.6397,   3.0585,\n",
       "         3.0521,   0.2826,   3.5426,   0.8828])"
      ]
     },
     "execution_count": 216,
     "metadata": {},
     "output_type": "execute_result"
    }
   ],
   "source": [
    "y_test[-10:]"
   ]
  },
  {
   "cell_type": "code",
   "execution_count": 276,
   "metadata": {
    "collapsed": false
   },
   "outputs": [
    {
     "data": {
      "image/png": "[encoded data removed]",
      "text/plain": [
       "<matplotlib.figure.Figure at 0x7f4a756612d0>"
      ]
     },
     "metadata": {},
     "output_type": "display_data"
    }
   ],
   "source": [
    "plt.figure(figsize=(12, 4))\n",
    "plt.subplot(1,2,1)\n",
    "plt.hist(np.round(rf_pred), bins=19, color='g')\n",
    "plt.title(\"Model: Random Forest\")\n",
    "plt.xlabel('ICU Length of Stay (days)')\n",
    "plt.ylabel('Frequency')\n",
    "plt.xlim([0,30])\n",
    "plt.ylim([0, 140])\n",
    "plt.legend(loc='upper right')\n",
    "\n",
    "plt.subplot(1,2,2)\n",
    "plt.hist(np.round(y_test), bins=25, color='g')\n",
    "plt.title(\"True (y-test)\")\n",
    "plt.xlabel('ICU Length of Stay (days)')\n",
    "plt.xlim([0,30])\n",
    "plt.ylim([0, 140])\n",
    "plt.legend(loc='upper right')\n",
    "plt.suptitle('Histogram: Response Variable Comparison \\n Model vs. True')\n",
    "\n",
    "plt.show()"
   ]
  },
  {
   "cell_type": "markdown",
   "metadata": {},
   "source": [
    "#### Metrics\n",
    "\n",
    "##### Root Mean Squared Error (RMSE)\n",
    "Indicates the *absolute fit* of the model to the data. In other words, how close the observed data points are to the model's predicted values.\n",
    "\n",
    "Also, it is the standard deviation of unexplained variance (residuals)."
   ]
  },
  {
   "cell_type": "code",
   "execution_count": 243,
   "metadata": {
    "collapsed": false
   },
   "outputs": [
    {
     "name": "stdout",
     "output_type": "stream",
     "text": [
      "RMSE = 10.109 days\n"
     ]
    }
   ],
   "source": [
    "rf_rmse = RMSE(rf_pred, y_test)\n",
    "print \"RMSE = %.3f days\" % rf_rmse"
   ]
  },
  {
   "cell_type": "code",
   "execution_count": 234,
   "metadata": {
    "collapsed": false
   },
   "outputs": [
    {
     "name": "stdout",
     "output_type": "stream",
     "text": [
      "[0.00,71.01]\n"
     ]
    }
   ],
   "source": [
    "print \"[%.2f,%.2f]\" % (y_test.min(), y_test.max())"
   ]
  },
  {
   "cell_type": "markdown",
   "metadata": {},
   "source": [
    "The Random Forest regression model has an RMSE value of 10.11 days, which is relatively low compared to the response range."
   ]
  },
  {
   "cell_type": "markdown",
   "metadata": {},
   "source": [
    "##### Mean Absolute Error\n",
    "The Mean Absolute Error measures how close the model's predictions are to the observed values."
   ]
  },
  {
   "cell_type": "code",
   "execution_count": 244,
   "metadata": {
    "collapsed": false
   },
   "outputs": [
    {
     "name": "stdout",
     "output_type": "stream",
     "text": [
      "MAE = 2.531 days\n"
     ]
    }
   ],
   "source": [
    "rf_mae = MAE(rf_pred, y_test)\n",
    "print \"MAE = %.3f days\" % rf_mae"
   ]
  },
  {
   "cell_type": "markdown",
   "metadata": {},
   "source": [
    "The average difference between prediction and observation is 2.5 days, which is relatively low."
   ]
  },
  {
   "cell_type": "markdown",
   "metadata": {},
   "source": [
    "##### R<sup>2</sup>: Coefficient of Determination\n",
    "R<sup>2</sup> quantifies the goodness of fit of the linear model. More specifically, it depicts the predictive power of the model.\n",
    "\n",
    "Range: [0, 1]"
   ]
  },
  {
   "cell_type": "code",
   "execution_count": 246,
   "metadata": {
    "collapsed": false
   },
   "outputs": [
    {
     "name": "stdout",
     "output_type": "stream",
     "text": [
      "r2 = 0.17\n"
     ]
    }
   ],
   "source": [
    "rf_r2 = r2(rf_pred, y_test)\n",
    "print \"r2 = %.2f\" % rf_r2"
   ]
  },
  {
   "cell_type": "markdown",
   "metadata": {},
   "source": [
    "The Random Forest model has poor predictive power."
   ]
  },
  {
   "cell_type": "markdown",
   "metadata": {},
   "source": [
    "## Normalization Approach 2: Box Cox\n",
    "Can't handle 0 values"
   ]
  },
  {
   "cell_type": "markdown",
   "metadata": {},
   "source": [
    "#### Data Partition & Normalization (Box Cox)"
   ]
  },
  {
   "cell_type": "code",
   "execution_count": 8,
   "metadata": {
    "collapsed": false
   },
   "outputs": [
    {
     "data": {
      "text/html": [
       "<div>\n",
       "<table border=\"1\" class=\"dataframe\">\n",
       "  <thead>\n",
       "    <tr style=\"text-align: right;\">\n",
       "      <th></th>\n",
       "      <th>subjectid</th>\n",
       "      <th>icustayid</th>\n",
       "      <th>readm_days</th>\n",
       "      <th>prev_iculos</th>\n",
       "      <th>n_icutrav</th>\n",
       "      <th>curr_cu</th>\n",
       "      <th>prev_cu</th>\n",
       "      <th>prev_ICU</th>\n",
       "      <th>disch_cu</th>\n",
       "      <th>disch_ICU</th>\n",
       "      <th>...</th>\n",
       "      <th>nonicu-CSRU</th>\n",
       "      <th>nonicu-MICU</th>\n",
       "      <th>MICU-MICU</th>\n",
       "      <th>nonicu-TSICU</th>\n",
       "      <th>nonicu-CCU</th>\n",
       "      <th>TSICU-TSICU</th>\n",
       "      <th>SICU-SICU</th>\n",
       "      <th>CSRU-CSRU</th>\n",
       "      <th>CCU-CCU</th>\n",
       "      <th>icu_los</th>\n",
       "    </tr>\n",
       "  </thead>\n",
       "  <tbody>\n",
       "    <tr>\n",
       "      <th>0</th>\n",
       "      <td>36</td>\n",
       "      <td>211200</td>\n",
       "      <td>2.999182</td>\n",
       "      <td>0.104486</td>\n",
       "      <td>0.200775</td>\n",
       "      <td>2</td>\n",
       "      <td>0</td>\n",
       "      <td>0</td>\n",
       "      <td>0</td>\n",
       "      <td>0</td>\n",
       "      <td>...</td>\n",
       "      <td>0.717</td>\n",
       "      <td>0.000</td>\n",
       "      <td>0.0</td>\n",
       "      <td>0.0</td>\n",
       "      <td>0.0</td>\n",
       "      <td>0.0</td>\n",
       "      <td>0.0</td>\n",
       "      <td>0.462</td>\n",
       "      <td>0.0</td>\n",
       "      <td>6.8595</td>\n",
       "    </tr>\n",
       "    <tr>\n",
       "      <th>1</th>\n",
       "      <td>41</td>\n",
       "      <td>237024</td>\n",
       "      <td>1.141353</td>\n",
       "      <td>1.291416</td>\n",
       "      <td>0.000000</td>\n",
       "      <td>2</td>\n",
       "      <td>0</td>\n",
       "      <td>0</td>\n",
       "      <td>0</td>\n",
       "      <td>0</td>\n",
       "      <td>...</td>\n",
       "      <td>0.717</td>\n",
       "      <td>0.000</td>\n",
       "      <td>0.0</td>\n",
       "      <td>0.0</td>\n",
       "      <td>0.0</td>\n",
       "      <td>0.0</td>\n",
       "      <td>0.0</td>\n",
       "      <td>0.000</td>\n",
       "      <td>0.0</td>\n",
       "      <td>3.1476</td>\n",
       "    </tr>\n",
       "    <tr>\n",
       "      <th>2</th>\n",
       "      <td>68</td>\n",
       "      <td>225771</td>\n",
       "      <td>2.998265</td>\n",
       "      <td>1.337589</td>\n",
       "      <td>0.000000</td>\n",
       "      <td>1</td>\n",
       "      <td>0</td>\n",
       "      <td>0</td>\n",
       "      <td>0</td>\n",
       "      <td>0</td>\n",
       "      <td>...</td>\n",
       "      <td>0.000</td>\n",
       "      <td>0.846</td>\n",
       "      <td>0.0</td>\n",
       "      <td>0.0</td>\n",
       "      <td>0.0</td>\n",
       "      <td>0.0</td>\n",
       "      <td>0.0</td>\n",
       "      <td>0.000</td>\n",
       "      <td>0.0</td>\n",
       "      <td>0.8200</td>\n",
       "    </tr>\n",
       "    <tr>\n",
       "      <th>3</th>\n",
       "      <td>68</td>\n",
       "      <td>272667</td>\n",
       "      <td>2.419057</td>\n",
       "      <td>-0.196695</td>\n",
       "      <td>0.000000</td>\n",
       "      <td>1</td>\n",
       "      <td>0</td>\n",
       "      <td>0</td>\n",
       "      <td>0</td>\n",
       "      <td>0</td>\n",
       "      <td>...</td>\n",
       "      <td>0.000</td>\n",
       "      <td>0.846</td>\n",
       "      <td>0.0</td>\n",
       "      <td>0.0</td>\n",
       "      <td>0.0</td>\n",
       "      <td>0.0</td>\n",
       "      <td>0.0</td>\n",
       "      <td>0.000</td>\n",
       "      <td>0.0</td>\n",
       "      <td>6.3983</td>\n",
       "    </tr>\n",
       "    <tr>\n",
       "      <th>4</th>\n",
       "      <td>91</td>\n",
       "      <td>256972</td>\n",
       "      <td>2.738930</td>\n",
       "      <td>-0.678633</td>\n",
       "      <td>0.000000</td>\n",
       "      <td>1</td>\n",
       "      <td>0</td>\n",
       "      <td>0</td>\n",
       "      <td>0</td>\n",
       "      <td>0</td>\n",
       "      <td>...</td>\n",
       "      <td>0.000</td>\n",
       "      <td>0.846</td>\n",
       "      <td>0.0</td>\n",
       "      <td>0.0</td>\n",
       "      <td>0.0</td>\n",
       "      <td>0.0</td>\n",
       "      <td>0.0</td>\n",
       "      <td>0.000</td>\n",
       "      <td>0.0</td>\n",
       "      <td>3.4750</td>\n",
       "    </tr>\n",
       "  </tbody>\n",
       "</table>\n",
       "<p>5 rows × 24 columns</p>\n",
       "</div>"
      ],
      "text/plain": [
       "   subjectid  icustayid  readm_days  prev_iculos  n_icutrav  curr_cu  prev_cu  \\\n",
       "0         36     211200    2.999182     0.104486   0.200775        2        0   \n",
       "1         41     237024    1.141353     1.291416   0.000000        2        0   \n",
       "2         68     225771    2.998265     1.337589   0.000000        1        0   \n",
       "3         68     272667    2.419057    -0.196695   0.000000        1        0   \n",
       "4         91     256972    2.738930    -0.678633   0.000000        1        0   \n",
       "\n",
       "   prev_ICU  disch_cu  disch_ICU   ...     nonicu-CSRU  nonicu-MICU  \\\n",
       "0         0         0          0   ...           0.717        0.000   \n",
       "1         0         0          0   ...           0.717        0.000   \n",
       "2         0         0          0   ...           0.000        0.846   \n",
       "3         0         0          0   ...           0.000        0.846   \n",
       "4         0         0          0   ...           0.000        0.846   \n",
       "\n",
       "   MICU-MICU  nonicu-TSICU  nonicu-CCU  TSICU-TSICU  SICU-SICU  CSRU-CSRU  \\\n",
       "0        0.0           0.0         0.0          0.0        0.0      0.462   \n",
       "1        0.0           0.0         0.0          0.0        0.0      0.000   \n",
       "2        0.0           0.0         0.0          0.0        0.0      0.000   \n",
       "3        0.0           0.0         0.0          0.0        0.0      0.000   \n",
       "4        0.0           0.0         0.0          0.0        0.0      0.000   \n",
       "\n",
       "   CCU-CCU  icu_los  \n",
       "0      0.0   6.8595  \n",
       "1      0.0   3.1476  \n",
       "2      0.0   0.8200  \n",
       "3      0.0   6.3983  \n",
       "4      0.0   3.4750  \n",
       "\n",
       "[5 rows x 24 columns]"
      ]
     },
     "execution_count": 8,
     "metadata": {},
     "output_type": "execute_result"
    }
   ],
   "source": [
    "data_boxcox = data.copy()\n",
    "data_boxcox.readm_days = stats.boxcox(data_boxcox.readm_days)[0]\n",
    "data_boxcox.prev_iculos = stats.boxcox(data_boxcox.prev_iculos)[0]\n",
    "data_boxcox.n_icutrav = stats.boxcox(data_boxcox.n_icutrav)[0]\n",
    "\n",
    "data_boxcox.head()"
   ]
  },
  {
   "cell_type": "code",
   "execution_count": 9,
   "metadata": {
    "collapsed": false
   },
   "outputs": [
    {
     "data": {
      "text/plain": [
       "((700, 23), (300, 23), (700,), (300,))"
      ]
     },
     "execution_count": 9,
     "metadata": {},
     "output_type": "execute_result"
    }
   ],
   "source": [
    "bc_X_train, bc_X_test, bc_y_train, bc_y_test = data_partition(data_boxcox.iloc[:1000, :])\n",
    "\n",
    "bc_X_train.shape, bc_X_test.shape, bc_y_train.shape, bc_y_test.shape"
   ]
  },
  {
   "cell_type": "markdown",
   "metadata": {},
   "source": [
    "### Model: Linear Regression"
   ]
  },
  {
   "cell_type": "code",
   "execution_count": null,
   "metadata": {
    "collapsed": false,
    "scrolled": true
   },
   "outputs": [],
   "source": [
    "lr_model_bc, lr_pred_bc, lr_p_bc, lr_score_bc = gridsearch(bc_X_train, bc_X_test, bc_y_train)\n",
    "print \"Best Parameters: \", lr_p_bc\n",
    "print \"Best Grid Search Score: \", lr_score_bc\n",
    "print \"Best Estimator: \", lr_model_bc"
   ]
  },
  {
   "cell_type": "markdown",
   "metadata": {},
   "source": [
    "#### Compare Predictions"
   ]
  },
  {
   "cell_type": "code",
   "execution_count": 292,
   "metadata": {
    "collapsed": false
   },
   "outputs": [
    {
     "data": {
      "text/plain": [
       "array([  2.53905234,   2.55147744,   6.33025238,   2.33192863,\n",
       "         2.53241604,   2.83256744,  13.31739346,   2.91845799,\n",
       "         1.55092954,   6.40806963])"
      ]
     },
     "execution_count": 292,
     "metadata": {},
     "output_type": "execute_result"
    }
   ],
   "source": [
    "lr_pred_bc[-10:]"
   ]
  },
  {
   "cell_type": "code",
   "execution_count": 293,
   "metadata": {
    "collapsed": false
   },
   "outputs": [
    {
     "data": {
      "text/plain": [
       "array([  4.6149,   6.8684,  13.8397,   0.3632,   1.6397,   3.0585,\n",
       "         3.0521,   0.2826,   3.5426,   0.8828])"
      ]
     },
     "execution_count": 293,
     "metadata": {},
     "output_type": "execute_result"
    }
   ],
   "source": [
    "bc_y_test[-10:]"
   ]
  },
  {
   "cell_type": "code",
   "execution_count": 301,
   "metadata": {
    "collapsed": false
   },
   "outputs": [
    {
     "data": {
      "image/png": "[encoded data removed]",
      "text/plain": [
       "<matplotlib.figure.Figure at 0x7f4a7583b590>"
      ]
     },
     "metadata": {},
     "output_type": "display_data"
    }
   ],
   "source": [
    "plt.figure(figsize=(12, 4))\n",
    "plt.subplot(1,2,1)\n",
    "plt.hist(np.round(lr_pred_bc), color='g')\n",
    "plt.title(\"Model: Linear Regression\")\n",
    "plt.xlabel('ICU Length of Stay (days)')\n",
    "plt.ylabel('Frequency')\n",
    "plt.xlim([0,30])\n",
    "# plt.ylim([0, 120])\n",
    "plt.legend(loc='upper right')\n",
    "\n",
    "plt.subplot(1,2,2)\n",
    "plt.hist(np.round(bc_y_test), bins=25, color='g')\n",
    "plt.title(\"True (y-test)\")\n",
    "plt.xlabel('ICU Length of Stay (days)')\n",
    "plt.xlim([0,30])\n",
    "# plt.ylim([0, 150])\n",
    "plt.legend(loc='upper right')\n",
    "plt.suptitle('Histogram: Response Variable Comparison \\n Model vs. True')\n",
    "\n",
    "plt.show()"
   ]
  },
  {
   "cell_type": "markdown",
   "metadata": {},
   "source": [
    "#### Metrics\n",
    "\n",
    "##### Root Mean Squared Error (RMSE)\n",
    "Indicates the *absolute fit* of the model to the data. In other words, how close the observed data points are to the model's predicted values.\n",
    "\n",
    "Also, it is the standard deviation of unexplained variance (residuals)."
   ]
  },
  {
   "cell_type": "code",
   "execution_count": 297,
   "metadata": {
    "collapsed": false
   },
   "outputs": [
    {
     "name": "stdout",
     "output_type": "stream",
     "text": [
      "RMSE = 10.684 days\n"
     ]
    }
   ],
   "source": [
    "lr_rmse_bc = RMSE(lr_pred_bc, bc_y_test)\n",
    "print \"RMSE = %.3f days\" % lr_rmse_bc"
   ]
  },
  {
   "cell_type": "code",
   "execution_count": 296,
   "metadata": {
    "collapsed": false
   },
   "outputs": [
    {
     "name": "stdout",
     "output_type": "stream",
     "text": [
      "[0.00,71.01]\n"
     ]
    }
   ],
   "source": [
    "print \"[%.2f,%.2f]\" % (bc_y_test.min(), bc_y_test.max())"
   ]
  },
  {
   "cell_type": "markdown",
   "metadata": {
    "collapsed": true
   },
   "source": [
    "The linear regression model has an RMSE value of 10.68 days. The value is somewhat small relative to the range of the `dependent variable` (average ICU LOS). Thus, indicating that model has decent accuracy in predicting the response."
   ]
  },
  {
   "cell_type": "markdown",
   "metadata": {},
   "source": [
    "##### Mean Absolute Error\n",
    "The Mean Absolute Error measures how close the model's predictions are to the observed values."
   ]
  },
  {
   "cell_type": "code",
   "execution_count": 298,
   "metadata": {
    "collapsed": false
   },
   "outputs": [
    {
     "name": "stdout",
     "output_type": "stream",
     "text": [
      "MAE = 1.643 days\n"
     ]
    }
   ],
   "source": [
    "lr_mae_bc = MAE(lr_pred_bc, bc_y_test)\n",
    "print \"MAE = %.3f days\" % lr_mae_bc"
   ]
  },
  {
   "cell_type": "markdown",
   "metadata": {
    "collapsed": true
   },
   "source": [
    "The average difference between prediction and observation is 1.64 days, which is low."
   ]
  },
  {
   "cell_type": "markdown",
   "metadata": {},
   "source": [
    "##### R<sup>2</sup>: Coefficient of Determination\n",
    "R<sup>2</sup> quantifies the goodness of fit of the linear model. More specifically, it depicts the predictive power of the model.\n",
    "\n",
    "Range: [0, 1]"
   ]
  },
  {
   "cell_type": "code",
   "execution_count": 299,
   "metadata": {
    "collapsed": false
   },
   "outputs": [
    {
     "name": "stdout",
     "output_type": "stream",
     "text": [
      "r2 = 0.074\n"
     ]
    }
   ],
   "source": [
    "lr_r2_bc = r2(lr_pred_bc, bc_y_test)\n",
    "print \"r2 = %.3f\" % lr_r2_bc"
   ]
  },
  {
   "cell_type": "markdown",
   "metadata": {
    "collapsed": true
   },
   "source": [
    "The R<sup>2</sup> value is approximately 0.074, which is low and indicates that the model does not have strong predictive power."
   ]
  },
  {
   "cell_type": "markdown",
   "metadata": {},
   "source": [
    "### Model: Support Vector Regression"
   ]
  },
  {
   "cell_type": "code",
   "execution_count": null,
   "metadata": {
    "collapsed": false
   },
   "outputs": [],
   "source": [
    "svr_model_bc, svr_pred_bc, svr_p_bc, svr_score_bc = gridsearch(bc_X_train, bc_X_test, bc_y_train)\n",
    "print \"Best Parameters: \", svr_p_bc\n",
    "print \"Best Grid Search Score: \", svr_score_bc\n",
    "print \"Best Estimator: \", svr_model_bc, \"\\n\""
   ]
  },
  {
   "cell_type": "markdown",
   "metadata": {},
   "source": [
    "#### Compare Predictions"
   ]
  },
  {
   "cell_type": "code",
   "execution_count": null,
   "metadata": {
    "collapsed": false
   },
   "outputs": [],
   "source": [
    "svr_pred_bc[-10:]"
   ]
  },
  {
   "cell_type": "code",
   "execution_count": null,
   "metadata": {
    "collapsed": false
   },
   "outputs": [],
   "source": [
    "bc_y_test[-10:]"
   ]
  },
  {
   "cell_type": "code",
   "execution_count": null,
   "metadata": {
    "collapsed": false
   },
   "outputs": [],
   "source": [
    "plt.figure(figsize=(12, 4))\n",
    "plt.subplot(1,2,1)\n",
    "plt.hist(np.round(svr_pred_bc), color='g')\n",
    "plt.title(\"Model: SVR\")\n",
    "plt.xlabel('ICU Length of Stay (days)')\n",
    "plt.ylabel('Frequency')\n",
    "plt.xlim([0,30])\n",
    "# plt.ylim([0, 120])\n",
    "plt.legend(loc='upper right')\n",
    "\n",
    "plt.subplot(1,2,2)\n",
    "plt.hist(np.round(bc_y_test), bins=25, color='g')\n",
    "plt.title(\"True (y-test)\")\n",
    "plt.xlabel('ICU Length of Stay (days)')\n",
    "plt.xlim([0,30])\n",
    "# plt.ylim([0, 150])\n",
    "plt.legend(loc='upper right')\n",
    "plt.suptitle('Histogram: Response Variable Comparison \\n Model vs. True')\n",
    "\n",
    "plt.show()"
   ]
  },
  {
   "cell_type": "markdown",
   "metadata": {},
   "source": [
    "#### Metrics\n",
    "\n",
    "##### Root Mean Squared Error (RMSE)\n",
    "Indicates the *absolute fit* of the model to the data. In other words, how close the observed data points are to the model's predicted values.\n",
    "\n",
    "Also, it is the standard deviation of unexplained variance (residuals)."
   ]
  },
  {
   "cell_type": "code",
   "execution_count": null,
   "metadata": {
    "collapsed": false
   },
   "outputs": [],
   "source": [
    "svr_rmse_bc = RMSE(svr_pred_bc, bc_y_test)\n",
    "print \"RMSE = %.3f days\" % svr_rmse_bc"
   ]
  },
  {
   "cell_type": "code",
   "execution_count": null,
   "metadata": {
    "collapsed": false
   },
   "outputs": [],
   "source": [
    "print \"[%.2f,%.2f]\" % (bc_y_test.min(), bc_y_test.max())"
   ]
  },
  {
   "cell_type": "markdown",
   "metadata": {},
   "source": [
    "The SVR model has an RMSE value of 10.68 days. The value is somewhat small relative to the range of the `dependent variable` (average ICU LOS). Thus, indicating that model has decent accuracy in predicting the response."
   ]
  },
  {
   "cell_type": "markdown",
   "metadata": {},
   "source": [
    "##### Mean Absolute Error\n",
    "The Mean Absolute Error measures how close the model's predictions are to the observed values."
   ]
  },
  {
   "cell_type": "code",
   "execution_count": null,
   "metadata": {
    "collapsed": false
   },
   "outputs": [],
   "source": [
    "svr_mae_bc = MAE(svr_pred_bc, bc_y_test)\n",
    "print \"MAE = %.3f days\" % svr_mae_bc"
   ]
  },
  {
   "cell_type": "markdown",
   "metadata": {},
   "source": [
    "The average difference between prediction and observation is 1.64 days, which is low."
   ]
  },
  {
   "cell_type": "markdown",
   "metadata": {},
   "source": [
    "##### R<sup>2</sup>: Coefficient of Determination\n",
    "R<sup>2</sup> quantifies the goodness of fit of the linear model. More specifically, it depicts the predictive power of the model.\n",
    "\n",
    "Range: [0, 1]"
   ]
  },
  {
   "cell_type": "code",
   "execution_count": null,
   "metadata": {
    "collapsed": false
   },
   "outputs": [],
   "source": [
    "svr_r2_bc = r2(svr_pred_bc, bc_y_test)\n",
    "print \"r2 = %.3f\" % svr_r2_bc"
   ]
  },
  {
   "cell_type": "markdown",
   "metadata": {},
   "source": [
    "The R<sup>2</sup> value is approximately 0.074, which is low and indicates that the model does not have strong predictive power."
   ]
  },
  {
   "cell_type": "markdown",
   "metadata": {},
   "source": [
    "### Model: k-Nearest Neighbors"
   ]
  },
  {
   "cell_type": "code",
   "execution_count": 305,
   "metadata": {
    "collapsed": false
   },
   "outputs": [],
   "source": [
    "knn_model_bc = KNeighborsRegressor(n_neighbors=5, weights='uniform') # look at 5 closest neighbors\n",
    "knn_model_bc.fit(bc_X_train, bc_y_train) # fit model on training data\n",
    "knn_pred_bc = knn_model_bc.predict(bc_X_test)"
   ]
  },
  {
   "cell_type": "markdown",
   "metadata": {},
   "source": [
    "#### Compare Predictions"
   ]
  },
  {
   "cell_type": "code",
   "execution_count": 306,
   "metadata": {
    "collapsed": false
   },
   "outputs": [
    {
     "data": {
      "text/plain": [
       "array([ 10.64734,  19.50714,   3.04354,   8.58866,   4.28306,   2.67076,\n",
       "         8.39404,   2.49932,   3.41412,   7.64912])"
      ]
     },
     "execution_count": 306,
     "metadata": {},
     "output_type": "execute_result"
    }
   ],
   "source": [
    "knn_pred_bc[-10:]"
   ]
  },
  {
   "cell_type": "code",
   "execution_count": 307,
   "metadata": {
    "collapsed": false
   },
   "outputs": [
    {
     "data": {
      "text/plain": [
       "array([  4.6149,   6.8684,  13.8397,   0.3632,   1.6397,   3.0585,\n",
       "         3.0521,   0.2826,   3.5426,   0.8828])"
      ]
     },
     "execution_count": 307,
     "metadata": {},
     "output_type": "execute_result"
    }
   ],
   "source": [
    "bc_y_test[-10:]"
   ]
  },
  {
   "cell_type": "code",
   "execution_count": 308,
   "metadata": {
    "collapsed": false
   },
   "outputs": [
    {
     "data": {
      "image/png": "[encoded data removed]",
      "text/plain": [
       "<matplotlib.figure.Figure at 0x7f4a7587f790>"
      ]
     },
     "metadata": {},
     "output_type": "display_data"
    }
   ],
   "source": [
    "plt.figure(figsize=(12, 4))\n",
    "plt.subplot(1,2,1)\n",
    "plt.hist(np.round(knn_pred_bc), color='g')\n",
    "plt.title(\"Model: k-Nearest Neighbors\")\n",
    "plt.xlabel('ICU Length of Stay (days)')\n",
    "plt.ylabel('Frequency')\n",
    "plt.xlim([0,30])\n",
    "# plt.ylim([0, 120])\n",
    "plt.legend(loc='upper right')\n",
    "\n",
    "plt.subplot(1,2,2)\n",
    "plt.hist(np.round(bc_y_test), bins=25, color='g')\n",
    "plt.title(\"True (y-test)\")\n",
    "plt.xlabel('ICU Length of Stay (days)')\n",
    "plt.xlim([0,30])\n",
    "# plt.ylim([0, 150])\n",
    "plt.legend(loc='upper right')\n",
    "plt.suptitle('Histogram: Response Variable Comparison \\n Model vs. True')\n",
    "\n",
    "plt.show()"
   ]
  },
  {
   "cell_type": "markdown",
   "metadata": {},
   "source": [
    "#### Metrics\n",
    "\n",
    "##### Root Mean Squared Error (RMSE)\n",
    "Indicates the *absolute fit* of the model to the data. In other words, how close the observed data points are to the model's predicted values.\n",
    "\n",
    "Also, it is the standard deviation of unexplained variance (residuals)."
   ]
  },
  {
   "cell_type": "code",
   "execution_count": 309,
   "metadata": {
    "collapsed": false
   },
   "outputs": [
    {
     "name": "stdout",
     "output_type": "stream",
     "text": [
      "RMSE = 12.047 days\n"
     ]
    }
   ],
   "source": [
    "knn_rmse_bc = RMSE(knn_pred_bc, bc_y_test)\n",
    "print \"RMSE = %.3f days\" % knn_rmse_bc"
   ]
  },
  {
   "cell_type": "code",
   "execution_count": 310,
   "metadata": {
    "collapsed": false
   },
   "outputs": [
    {
     "name": "stdout",
     "output_type": "stream",
     "text": [
      "[0.00,71.01]\n"
     ]
    }
   ],
   "source": [
    "print \"[%.2f,%.2f]\" % (bc_y_test.min(), bc_y_test.max())"
   ]
  },
  {
   "cell_type": "markdown",
   "metadata": {},
   "source": [
    "##### Mean Absolute Error\n",
    "The Mean Absolute Error measures how close the model's predictions are to the observed values."
   ]
  },
  {
   "cell_type": "code",
   "execution_count": 311,
   "metadata": {
    "collapsed": false
   },
   "outputs": [
    {
     "name": "stdout",
     "output_type": "stream",
     "text": [
      "MAE = 2.864 days\n"
     ]
    }
   ],
   "source": [
    "knn_mae_bc = MAE(knn_pred_bc, bc_y_test)\n",
    "print \"MAE = %.3f days\" % knn_mae_bc"
   ]
  },
  {
   "cell_type": "markdown",
   "metadata": {},
   "source": [
    "##### R<sup>2</sup>: Coefficient of Determination\n",
    "R<sup>2</sup> quantifies the goodness of fit of the linear model. More specifically, it depicts the predictive power of the model.\n",
    "\n",
    "Range: [0, 1]"
   ]
  },
  {
   "cell_type": "code",
   "execution_count": 312,
   "metadata": {
    "collapsed": false
   },
   "outputs": [
    {
     "name": "stdout",
     "output_type": "stream",
     "text": [
      "r2 = -0.18\n"
     ]
    }
   ],
   "source": [
    "knn_r2_bc = r2(knn_pred_bc, bc_y_test)\n",
    "print \"r2 = %.2f\" % knn_r2_bc"
   ]
  },
  {
   "cell_type": "markdown",
   "metadata": {},
   "source": [
    "### Model: Random Forest\n",
    "\n",
    "#### Criterion\n",
    "  1. **mse**: mean squared error\n",
    "  2. **mae**: mean absolute error"
   ]
  },
  {
   "cell_type": "code",
   "execution_count": 313,
   "metadata": {
    "collapsed": false
   },
   "outputs": [
    {
     "name": "stdout",
     "output_type": "stream",
     "text": [
      "Best Parameters:  {'n_estimators': 10, 'criterion': 'mae'}\n",
      "Best Grid Search Score:  -0.212798474376\n",
      "Best Estimator:  RandomForestRegressor(bootstrap=True, criterion='mae', max_depth=None,\n",
      "           max_features='auto', max_leaf_nodes=None,\n",
      "           min_impurity_split=1e-07, min_samples_leaf=1,\n",
      "           min_samples_split=2, min_weight_fraction_leaf=0.0,\n",
      "           n_estimators=10, n_jobs=-1, oob_score=False, random_state=2,\n",
      "           verbose=0, warm_start=False) \n",
      "\n"
     ]
    }
   ],
   "source": [
    "rf_model_bc, rf_pred_bc, rf_p_bc, rf_score_bc, rf_imp_bc = rf_gridsearch(bc_X_train, bc_X_test, bc_y_train)\n",
    "print \"Best Parameters: \", rf_p_bc\n",
    "print \"Best Grid Search Score: \", rf_score_bc\n",
    "print \"Best Estimator: \", rf_model_bc, \"\\n\""
   ]
  },
  {
   "cell_type": "markdown",
   "metadata": {},
   "source": [
    "#### Feature Importance"
   ]
  },
  {
   "cell_type": "code",
   "execution_count": 318,
   "metadata": {
    "collapsed": false
   },
   "outputs": [
    {
     "data": {
      "text/plain": [
       "<matplotlib.text.Text at 0x7f4a7587e750>"
      ]
     },
     "execution_count": 318,
     "metadata": {},
     "output_type": "execute_result"
    },
    {
     "data": {
      "image/png": "[encoded data removed]",
      "text/plain": [
       "<matplotlib.figure.Figure at 0x7f4a74f97690>"
      ]
     },
     "metadata": {},
     "output_type": "display_data"
    }
   ],
   "source": [
    "feats_bc = data_boxcox.drop('icu_los', axis=1)\n",
    "feat_imp_bc = pd.Series(rf_imp_bc, \n",
    "                     index=feats_bc.columns.values).sort_values(ascending=True)\n",
    "feat_imp_bc.plot(kind='barh')\n",
    "plt.title('Feature Importances')"
   ]
  },
  {
   "cell_type": "markdown",
   "metadata": {},
   "source": [
    "#### Compare Predictions"
   ]
  },
  {
   "cell_type": "code",
   "execution_count": 319,
   "metadata": {
    "collapsed": false
   },
   "outputs": [
    {
     "data": {
      "text/plain": [
       "array([  2.58516,   2.20518,   9.76718,   8.41386,   3.66734,  25.31914,\n",
       "        10.44873,   2.18418,   2.71791,  16.20222])"
      ]
     },
     "execution_count": 319,
     "metadata": {},
     "output_type": "execute_result"
    }
   ],
   "source": [
    "rf_pred_bc[-10:]"
   ]
  },
  {
   "cell_type": "code",
   "execution_count": 320,
   "metadata": {
    "collapsed": false
   },
   "outputs": [
    {
     "data": {
      "text/plain": [
       "array([  4.6149,   6.8684,  13.8397,   0.3632,   1.6397,   3.0585,\n",
       "         3.0521,   0.2826,   3.5426,   0.8828])"
      ]
     },
     "execution_count": 320,
     "metadata": {},
     "output_type": "execute_result"
    }
   ],
   "source": [
    "bc_y_test[-10:]"
   ]
  },
  {
   "cell_type": "code",
   "execution_count": 321,
   "metadata": {
    "collapsed": false
   },
   "outputs": [
    {
     "data": {
      "image/png": "[encoded data removed]",
      "text/plain": [
       "<matplotlib.figure.Figure at 0x7f4a7587fa90>"
      ]
     },
     "metadata": {},
     "output_type": "display_data"
    }
   ],
   "source": [
    "plt.figure(figsize=(12, 4))\n",
    "plt.subplot(1,2,1)\n",
    "plt.hist(np.round(rf_pred_bc), bins=19, color='g')\n",
    "plt.title(\"Model: Random Forest\")\n",
    "plt.xlabel('ICU Length of Stay (days)')\n",
    "plt.ylabel('Frequency')\n",
    "plt.xlim([0,30])\n",
    "plt.ylim([0, 140])\n",
    "plt.legend(loc='upper right')\n",
    "\n",
    "plt.subplot(1,2,2)\n",
    "plt.hist(np.round(bc_y_test), bins=25, color='g')\n",
    "plt.title(\"True (y-test)\")\n",
    "plt.xlabel('ICU Length of Stay (days)')\n",
    "plt.xlim([0,30])\n",
    "plt.ylim([0, 140])\n",
    "plt.legend(loc='upper right')\n",
    "plt.suptitle('Histogram: Response Variable Comparison \\n Model vs. True')\n",
    "\n",
    "plt.show()"
   ]
  },
  {
   "cell_type": "markdown",
   "metadata": {},
   "source": [
    "#### Metrics\n",
    "\n",
    "##### Root Mean Squared Error (RMSE)\n",
    "Indicates the *absolute fit* of the model to the data. In other words, how close the observed data points are to the model's predicted values.\n",
    "\n",
    "Also, it is the standard deviation of unexplained variance (residuals)."
   ]
  },
  {
   "cell_type": "code",
   "execution_count": 322,
   "metadata": {
    "collapsed": false
   },
   "outputs": [
    {
     "name": "stdout",
     "output_type": "stream",
     "text": [
      "RMSE = 10.083 days\n"
     ]
    }
   ],
   "source": [
    "rf_rmse_bc = RMSE(rf_pred_bc, bc_y_test)\n",
    "print \"RMSE = %.3f days\" % rf_rmse_bc"
   ]
  },
  {
   "cell_type": "code",
   "execution_count": 323,
   "metadata": {
    "collapsed": false
   },
   "outputs": [
    {
     "name": "stdout",
     "output_type": "stream",
     "text": [
      "[0.00,71.01]\n"
     ]
    }
   ],
   "source": [
    "print \"[%.2f,%.2f]\" % (bc_y_test.min(), bc_y_test.max())"
   ]
  },
  {
   "cell_type": "markdown",
   "metadata": {},
   "source": [
    "##### Mean Absolute Error\n",
    "The Mean Absolute Error measures how close the model's predictions are to the observed values."
   ]
  },
  {
   "cell_type": "code",
   "execution_count": 324,
   "metadata": {
    "collapsed": false
   },
   "outputs": [
    {
     "name": "stdout",
     "output_type": "stream",
     "text": [
      "MAE = 2.531 days\n"
     ]
    }
   ],
   "source": [
    "rf_mae_bc = MAE(rf_pred_bc, bc_y_test)\n",
    "print \"MAE = %.3f days\" % rf_mae_bc"
   ]
  },
  {
   "cell_type": "markdown",
   "metadata": {},
   "source": [
    "##### R<sup>2</sup>: Coefficient of Determination\n",
    "R<sup>2</sup> quantifies the goodness of fit of the linear model. More specifically, it depicts the predictive power of the model.\n",
    "\n",
    "Range: [0, 1]"
   ]
  },
  {
   "cell_type": "code",
   "execution_count": 325,
   "metadata": {
    "collapsed": false
   },
   "outputs": [
    {
     "name": "stdout",
     "output_type": "stream",
     "text": [
      "r2 = 0.18\n"
     ]
    }
   ],
   "source": [
    "rf_r2_bc = r2(rf_pred_bc, bc_y_test)\n",
    "print \"r2 = %.2f\" % rf_r2_bc"
   ]
  },
  {
   "cell_type": "markdown",
   "metadata": {},
   "source": [
    "## Conclusion\n",
    "Model | RMSE | MAE | R<sup>2</sup> |\n",
    ":-----|:----:|:---:| :------------:|\n",
    "Linear Regression|10.68|1.64|0.07\n",
    "Support Vector Regression (*kernel: linear*)|10.68|1.64|0.07\n",
    "k-Nearest Neighbors|11.71|2.48|-0.11\n",
    "Random Forest|10.11|2.53|0.17\n",
    "\n",
    "All regression models have roughly similar metrics. It should be noted that Support Vector Regression has the exact same outputs and metrics as Linear Regression as the *linear kernel* was determined to be the most optimal parameter from a cross-validation grid search. Both models are similar as a linear plane is used to instantiate and fit both models.\n",
    "\n",
    "#### RMSE\n",
    "In regards to RMSE, the models have relatively decent performances in the prediction of ICU length of stay for new, unseen data. The RMSE values are greater than the MAE values for all models, suggesting that there are a higher frequency of larger residuals as the metric penalizes bigger discrepancies.\n",
    "\n",
    "#### MAE\n",
    "All models are very strong in terms of their mean absolute errors with values ranging from 1-3 days for the ICU length of stays. Essentially, the models are only off, on average, 1-3 days in their prediction.\n",
    "\n",
    "#### R<sup>2</sup> - Coefficient of Determination\n",
    "The very low R<sup>2</sup> values indicate that the models have very poor predictive power. \n",
    "\n",
    "More specifically, the k-Nearest Neighbors model is the weakest model and has a negative coefficient of determination. This suggests that the model is not generalizable to future unseen data and is possibly attributed to the fact that it's approach is \"lazy learning\". The model does not encompass a training phase and instead holds the entire training data and builds its model at the time of prediction. A drawback of this approach is longer run-time.\n",
    "\n",
    "### Box Cox Transformation\n",
    "Box Cox transformation was performed on only the following features: `readm_days`, `prev_iculos`, and `n_icutrav`. These features are the only ones that have positive values and are continuous. Other unapplicable features either had non-positive values or were categorical in nature.\n",
    "\n",
    "Model | RMSE | MAE | R<sup>2</sup> |\n",
    ":-----|:----:|:---:| :------------:|\n",
    "Linear Regression|||\n",
    "Support Vector Regression (*kernel: linear*)|||\n",
    "k-Nearest Neighbors|12.05|2.86|-0.18\n",
    "Random Forest|10.08|2.53|0.18\n",
    "\n",
    "This normalization approach gave no improvements to the model. All metrics evaluating the performance of the regression models actually worsened from the transformation."
   ]
  }
 ],
 "metadata": {
  "kernelspec": {
   "display_name": "Python 2",
   "language": "python",
   "name": "python2"
  },
  "language_info": {
   "codemirror_mode": {
    "name": "ipython",
    "version": 2
   },
   "file_extension": ".py",
   "mimetype": "text/x-python",
   "name": "python",
   "nbconvert_exporter": "python",
   "pygments_lexer": "ipython2",
   "version": "2.7.11"
  }
 },
 "nbformat": 4,
 "nbformat_minor": 2
}
