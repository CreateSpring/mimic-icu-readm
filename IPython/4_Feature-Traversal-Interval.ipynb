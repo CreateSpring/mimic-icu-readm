{
 "cells": [
  {
   "cell_type": "code",
   "execution_count": 1,
   "metadata": {
    "collapsed": true
   },
   "outputs": [],
   "source": [
    "import psycopg2\n",
    "from psycopg2 import extras\n",
    "import numpy as np\n",
    "import pandas as pd\n",
    "import matplotlib.pyplot as plt\n",
    "import itertools\n",
    "\n",
    "%matplotlib inline"
   ]
  },
  {
   "cell_type": "code",
   "execution_count": 2,
   "metadata": {
    "collapsed": true
   },
   "outputs": [],
   "source": [
    "def cursor_connect(cursor_factory=None):\n",
    "    \"\"\"\n",
    "    Connects to the DB and returns the connection and cursor, ready to use.\n",
    "    \n",
    "    Parameters\n",
    "    ----------\n",
    "    cursor_factory : psycopg2.extras\n",
    "    \n",
    "    Returns\n",
    "    -------\n",
    "    (psycopg2.extensions.connection, psycopg2.extensions.cursor)\n",
    "        A tuple of (psycopg2 connection, psycopg2 cursor).\n",
    "    \"\"\"\n",
    "    #DB connection\n",
    "    conn = psycopg2.connect(dbname=\"mimic\", user=\"mimic\", host=\"localhost\", port=\"2345\",\n",
    "                            password=\"oNuemmLeix9Yex7W\")\n",
    "    if not cursor_factory:\n",
    "        cur = conn.cursor()\n",
    "    else:\n",
    "        cur = conn.cursor(cursor_factory=cursor_factory)\n",
    "    return conn, cur\n",
    "\n",
    "def exec_query(query, curs_dict=False):\n",
    "    \"\"\"\n",
    "    Execute query and returns the SQL output.\n",
    "    \n",
    "    Parameters\n",
    "    ----------\n",
    "    query: string containing SQL SELECT command\n",
    "    curs_dict: dict cursor factory (output is dict)\n",
    "    \n",
    "    Returns\n",
    "    -------\n",
    "    rows: list of rows/records (SQL output)\n",
    "    \"\"\"\n",
    "    if curs_dict == True: \n",
    "        conn, cur = cursor_connect(psycopg2.extras.DictCursor)\n",
    "    else:\n",
    "        conn, cur = cursor_connect()\n",
    "    cur.execute(query)\n",
    "    rows = cur.fetchall()\n",
    "    return rows"
   ]
  },
  {
   "cell_type": "markdown",
   "metadata": {},
   "source": [
    "# Dataset\n",
    "\n",
    "## Interval: 30 Days\n",
    "Patients' ICU admissions within the last 30 days from the current ICU stay.\n",
    "\n",
    "## Exclusion Criteria\n",
    "1. Minors\n",
    "\n",
    "## Features (`X`)\n",
    "\n",
    "* **`subjectid`**: subject ID of patients\n",
    "* **`icustayid`**: ID of a unique ICU stay\n",
    "* **`readm_days`**: number of days since discharge of previous ICU stay\n",
    "* **`prev_iculos`**: total length of stay (LOS) of the previous unique ICU stay\n",
    "* **`N`<sub>icutrav</sub>**: the number of total intra-ICU ward transfers (non-unique ICU stays)\n",
    "* **`prev_cu`**: categorical feature indicating previous care unit\n",
    "* **`curr_cu`**: categorical feature indicating current care unit\n",
    "* **`prev_ICU`**: binary feature indicating if previous care unit was an ICU type\n",
    "* **`disch_cu`**: categorical feature indicating discharge care unit from ICU stay\n",
    "* **`disch_ICU`**: binary feature indicating if discharge care unit was an ICU type\n",
    "* **`icu_in_day`**: time of ICU admission (day/night)\n",
    "* **`icu_out_day`**: time of ICU discharge (day/night)\n",
    "* **`intra_risk`**: risk score of intra-period unique ICU readmissions\n",
    "* Transfer Pairs\n",
    "    * **`nonicu-MICU`**\t\n",
    "    * **`nonicu-SICU`**\t\n",
    "    * **`nonicu-TSICU`**\t\n",
    "    * **`nonicu-CSRU`**\t\n",
    "    * **`MICU-MICU`**\t\n",
    "    * **`TSICU-TSICU`**\t\n",
    "    * **`nonicu-CCU`**\t\n",
    "    * **`CCU-CCU`**\n",
    "    * **`CSRU-CSRU`**\t\n",
    "    * **`SICU-SICU`**\t\n",
    " \n",
    "## Dependent Variables/Response (`Y`) \n",
    "  * **`icu_los`**: ICU length of stay"
   ]
  },
  {
   "cell_type": "markdown",
   "metadata": {},
   "source": [
    "## Patients (`subject_id`) and their Number of Days till a Unique ICU Readmission\n",
    "\n",
    "Features:\n",
    "  * **`subjectid`**: subject ID of patients\n",
    "  * **`icustaysid`**: ID of a unique ICU stay\n",
    "  * **`readm_days`**: number of days since discharge of previous ICU stay to admission of current ICU stay (ICU readmission)"
   ]
  },
  {
   "cell_type": "code",
   "execution_count": 3,
   "metadata": {
    "collapsed": false,
    "scrolled": false
   },
   "outputs": [
    {
     "data": {
      "text/html": [
       "<div>\n",
       "<table border=\"1\" class=\"dataframe\">\n",
       "  <thead>\n",
       "    <tr style=\"text-align: right;\">\n",
       "      <th></th>\n",
       "      <th>subjectid</th>\n",
       "      <th>icustayid</th>\n",
       "      <th>icu_intime</th>\n",
       "      <th>icu_outtime</th>\n",
       "      <th>readm_days</th>\n",
       "      <th>icu_prev_outtime</th>\n",
       "    </tr>\n",
       "  </thead>\n",
       "  <tbody>\n",
       "    <tr>\n",
       "      <th>0</th>\n",
       "      <td>7</td>\n",
       "      <td>236754</td>\n",
       "      <td>2121-05-25 03:26:01</td>\n",
       "      <td>2121-05-25 21:10:19</td>\n",
       "      <td>1.226</td>\n",
       "      <td>2121-05-23 22:01:00</td>\n",
       "    </tr>\n",
       "    <tr>\n",
       "      <th>1</th>\n",
       "      <td>17</td>\n",
       "      <td>257980</td>\n",
       "      <td>2135-05-09 14:12:06</td>\n",
       "      <td>2135-05-10 11:18:34</td>\n",
       "      <td>130.839</td>\n",
       "      <td>2134-12-29 18:04:03</td>\n",
       "    </tr>\n",
       "    <tr>\n",
       "      <th>2</th>\n",
       "      <td>21</td>\n",
       "      <td>216859</td>\n",
       "      <td>2135-01-30 20:53:34</td>\n",
       "      <td>2135-02-08 05:38:46</td>\n",
       "      <td>135.101</td>\n",
       "      <td>2134-09-17 18:28:32</td>\n",
       "    </tr>\n",
       "    <tr>\n",
       "      <th>3</th>\n",
       "      <td>23</td>\n",
       "      <td>234044</td>\n",
       "      <td>2157-10-21 11:40:38</td>\n",
       "      <td>2157-10-22 16:08:48</td>\n",
       "      <td>1507.820</td>\n",
       "      <td>2153-09-04 15:59:11</td>\n",
       "    </tr>\n",
       "    <tr>\n",
       "      <th>4</th>\n",
       "      <td>34</td>\n",
       "      <td>290505</td>\n",
       "      <td>2191-02-23 05:25:32</td>\n",
       "      <td>2191-02-24 19:24:10</td>\n",
       "      <td>1679.749</td>\n",
       "      <td>2186-07-19 11:27:20</td>\n",
       "    </tr>\n",
       "  </tbody>\n",
       "</table>\n",
       "</div>"
      ],
      "text/plain": [
       "   subjectid  icustayid          icu_intime         icu_outtime  readm_days  \\\n",
       "0          7     236754 2121-05-25 03:26:01 2121-05-25 21:10:19       1.226   \n",
       "1         17     257980 2135-05-09 14:12:06 2135-05-10 11:18:34     130.839   \n",
       "2         21     216859 2135-01-30 20:53:34 2135-02-08 05:38:46     135.101   \n",
       "3         23     234044 2157-10-21 11:40:38 2157-10-22 16:08:48    1507.820   \n",
       "4         34     290505 2191-02-23 05:25:32 2191-02-24 19:24:10    1679.749   \n",
       "\n",
       "     icu_prev_outtime  \n",
       "0 2121-05-23 22:01:00  \n",
       "1 2134-12-29 18:04:03  \n",
       "2 2134-09-17 18:28:32  \n",
       "3 2153-09-04 15:59:11  \n",
       "4 2186-07-19 11:27:20  "
      ]
     },
     "execution_count": 3,
     "metadata": {},
     "output_type": "execute_result"
    }
   ],
   "source": [
    "# query\n",
    "q_icustay=\"\"\"SELECT * FROM\n",
    "(SELECT subject_id, icustay_id, min_in, max_out,\n",
    "min_in - lag(max_out)\n",
    "OVER (PARTITION BY subject_id ORDER BY min_in) AS diff\n",
    "FROM\n",
    "(SELECT subject_id, icustay_id, \n",
    "MIN(intime) as min_in, MAX(outtime) AS max_out\n",
    "FROM transfers\n",
    "WHERE icustay_id IS NOT NULL\n",
    "GROUP BY subject_id, icustay_id) as sub_q\n",
    "ORDER BY subject_id) as sub\n",
    "WHERE diff is not null;\n",
    "\"\"\"\n",
    "\n",
    "# Query output\n",
    "icustay = exec_query(q_icustay)\n",
    "df_icustay_time = pd.DataFrame(icustay, columns=['subjectid', 'icustayid', \n",
    "                                            'icu_intime', # first unique ICU admission time \n",
    "                                            'icu_outtime', #  unique ICU discharge time\n",
    "                                            'readm_days']) # number of days since last ICU discharge/transfer\n",
    "df_icustay_time['icu_prev_outtime'] = df_icustay_time.icu_intime - df_icustay_time.readm_days # time of previous ICU discharge/transfer\n",
    "\n",
    "# df_icustay['30_prior'] = df_icustay.icu_intime - np.timedelta64(30, 'D')\n",
    "df_icustay_time.readm_days = np.round(df_icustay_time.readm_days.astype('int') * (1/8.64e13), 3)\n",
    "df_icustay_time.head()"
   ]
  },
  {
   "cell_type": "markdown",
   "metadata": {},
   "source": [
    "Extract prior ICUstay ID through `icu_prior_outtime`.\n",
    "\n",
    "**Note**: Some ICUstays have duplicate entries (use of `DISTINCT ON` prevents duplicates)"
   ]
  },
  {
   "cell_type": "code",
   "execution_count": 4,
   "metadata": {
    "collapsed": false
   },
   "outputs": [
    {
     "data": {
      "text/html": [
       "<div>\n",
       "<table border=\"1\" class=\"dataframe\">\n",
       "  <thead>\n",
       "    <tr style=\"text-align: right;\">\n",
       "      <th></th>\n",
       "      <th>subjectid</th>\n",
       "      <th>icustayid</th>\n",
       "      <th>icu_intime</th>\n",
       "      <th>icu_outtime</th>\n",
       "      <th>readm_days</th>\n",
       "      <th>prev_icustayid</th>\n",
       "    </tr>\n",
       "  </thead>\n",
       "  <tbody>\n",
       "    <tr>\n",
       "      <th>0</th>\n",
       "      <td>7</td>\n",
       "      <td>236754</td>\n",
       "      <td>2121-05-25 03:26:01</td>\n",
       "      <td>2121-05-25 21:10:19</td>\n",
       "      <td>1.226</td>\n",
       "      <td>278444</td>\n",
       "    </tr>\n",
       "    <tr>\n",
       "      <th>1</th>\n",
       "      <td>17</td>\n",
       "      <td>257980</td>\n",
       "      <td>2135-05-09 14:12:06</td>\n",
       "      <td>2135-05-10 11:18:34</td>\n",
       "      <td>130.839</td>\n",
       "      <td>277042</td>\n",
       "    </tr>\n",
       "    <tr>\n",
       "      <th>2</th>\n",
       "      <td>21</td>\n",
       "      <td>216859</td>\n",
       "      <td>2135-01-30 20:53:34</td>\n",
       "      <td>2135-02-08 05:38:46</td>\n",
       "      <td>135.101</td>\n",
       "      <td>217847</td>\n",
       "    </tr>\n",
       "    <tr>\n",
       "      <th>3</th>\n",
       "      <td>23</td>\n",
       "      <td>234044</td>\n",
       "      <td>2157-10-21 11:40:38</td>\n",
       "      <td>2157-10-22 16:08:48</td>\n",
       "      <td>1507.820</td>\n",
       "      <td>227807</td>\n",
       "    </tr>\n",
       "    <tr>\n",
       "      <th>4</th>\n",
       "      <td>34</td>\n",
       "      <td>290505</td>\n",
       "      <td>2191-02-23 05:25:32</td>\n",
       "      <td>2191-02-24 19:24:10</td>\n",
       "      <td>1679.749</td>\n",
       "      <td>263086</td>\n",
       "    </tr>\n",
       "  </tbody>\n",
       "</table>\n",
       "</div>"
      ],
      "text/plain": [
       "   subjectid  icustayid          icu_intime         icu_outtime  readm_days  \\\n",
       "0          7     236754 2121-05-25 03:26:01 2121-05-25 21:10:19       1.226   \n",
       "1         17     257980 2135-05-09 14:12:06 2135-05-10 11:18:34     130.839   \n",
       "2         21     216859 2135-01-30 20:53:34 2135-02-08 05:38:46     135.101   \n",
       "3         23     234044 2157-10-21 11:40:38 2157-10-22 16:08:48    1507.820   \n",
       "4         34     290505 2191-02-23 05:25:32 2191-02-24 19:24:10    1679.749   \n",
       "\n",
       "   prev_icustayid  \n",
       "0          278444  \n",
       "1          277042  \n",
       "2          217847  \n",
       "3          227807  \n",
       "4          263086  "
      ]
     },
     "execution_count": 4,
     "metadata": {},
     "output_type": "execute_result"
    }
   ],
   "source": [
    "q_previcu = \"\"\"SELECT DISTINCT ON (subject_id, icustay_id, outtime) subject_id, icustay_id, outtime \n",
    "FROM transfers \n",
    "WHERE icustay_id IS NOT NULL;\n",
    "\"\"\"\n",
    "# Query output\n",
    "prev_icustay = exec_query(q_previcu)\n",
    "df_previcu = pd.DataFrame(prev_icustay, columns=['subjectid', 'prev_icustayid', 'icu_prev_outtime'])\n",
    "\n",
    "df_icustay = pd.merge(df_icustay_time, df_previcu, on=['subjectid', 'icu_prev_outtime'], how='left')\n",
    "df_icustay.drop(labels='icu_prev_outtime', axis=1, inplace=True)\n",
    "df_icustay.head()"
   ]
  },
  {
   "cell_type": "markdown",
   "metadata": {},
   "source": [
    "## Exclusion"
   ]
  },
  {
   "cell_type": "markdown",
   "metadata": {},
   "source": [
    "#### Neonate Patients"
   ]
  },
  {
   "cell_type": "code",
   "execution_count": 5,
   "metadata": {
    "collapsed": false
   },
   "outputs": [
    {
     "data": {
      "text/plain": [
       "(14826, 6)"
      ]
     },
     "execution_count": 5,
     "metadata": {},
     "output_type": "execute_result"
    }
   ],
   "source": [
    "q_nicu = \"\"\"SELECT DISTINCT icustay_id FROM transfers              \n",
    "WHERE curr_careunit = 'NICU' AND icustay_id IS NOT NULL;\n",
    "\"\"\"\n",
    "nicu_stays = exec_query(q_nicu)\n",
    "df_nicu_stays = pd.DataFrame(nicu_stays, columns=['icustayid'])\n",
    "\n",
    "df_icustay = df_icustay[df_icustay['icustayid'].isin(df_nicu_stays.icustayid)==False]\n",
    "df_icustay.shape"
   ]
  },
  {
   "cell_type": "markdown",
   "metadata": {},
   "source": [
    "#### Minors"
   ]
  },
  {
   "cell_type": "code",
   "execution_count": 6,
   "metadata": {
    "collapsed": false
   },
   "outputs": [
    {
     "data": {
      "text/plain": [
       "(14824, 6)"
      ]
     },
     "execution_count": 6,
     "metadata": {},
     "output_type": "execute_result"
    }
   ],
   "source": [
    "# age of patients < 90\n",
    "q_age_hadm1 = \"\"\"SELECT a.subject_id,\n",
    "    FLOOR((a.admittime::date - p.dob::date)/365.0) AS age\n",
    "    FROM admissions as a\n",
    "    INNER JOIN patients as p\n",
    "    ON a.subject_id = p.subject_id\n",
    "    WHERE FLOOR((a.admittime::date - p.dob::date)/365.0) < 90;\"\"\"\n",
    "\n",
    "# adjusted age of patients > 89\n",
    "q_age_hadm2 = \"\"\"SELECT a.subject_id,\n",
    "    FLOOR((a.admittime::date - p.dob::date)/365.0) -210 AS age\n",
    "    FROM admissions as a\n",
    "    INNER JOIN patients as p\n",
    "    ON a.subject_id = p.subject_id\n",
    "    WHERE FLOOR((a.admittime::date - p.dob::date)/365.0) > 89;\"\"\"\n",
    "\n",
    "age_hadm1 = exec_query(q_age_hadm1, False)\n",
    "age_hadm2 = exec_query(q_age_hadm2, False)\n",
    "df_age_hadm1 = pd.DataFrame(age_hadm1, columns=['subjectid', 'age'])\n",
    "df_age_hadm2 = pd.DataFrame(age_hadm2, columns=['subjectid', 'age'])\n",
    "\n",
    "df_age_hadm = pd.concat([df_age_hadm1, df_age_hadm2])\n",
    "df_adults = df_age_hadm[df_age_hadm.age > 17]\n",
    "df_adults_sid = list(df_adults.subjectid.value_counts().index.sort_values())\n",
    "\n",
    "df_icustay = df_icustay[df_icustay.subjectid.isin(df_adults_sid)]\n",
    "df_icustay.shape"
   ]
  },
  {
   "cell_type": "markdown",
   "metadata": {},
   "source": [
    "## Dataset Interval/Period \n",
    "\n",
    "### Count for each Cutoff\n",
    "Cutoff for days between last ICU stay discharge and current ICU admission."
   ]
  },
  {
   "cell_type": "code",
   "execution_count": 7,
   "metadata": {
    "collapsed": false
   },
   "outputs": [
    {
     "data": {
      "text/html": [
       "<div>\n",
       "<table border=\"1\" class=\"dataframe\">\n",
       "  <thead>\n",
       "    <tr style=\"text-align: right;\">\n",
       "      <th></th>\n",
       "      <th>days_cutoff</th>\n",
       "      <th>count</th>\n",
       "    </tr>\n",
       "  </thead>\n",
       "  <tbody>\n",
       "    <tr>\n",
       "      <th>5</th>\n",
       "      <td>30</td>\n",
       "      <td>6161</td>\n",
       "    </tr>\n",
       "    <tr>\n",
       "      <th>4</th>\n",
       "      <td>60</td>\n",
       "      <td>7626</td>\n",
       "    </tr>\n",
       "    <tr>\n",
       "      <th>3</th>\n",
       "      <td>90</td>\n",
       "      <td>8494</td>\n",
       "    </tr>\n",
       "    <tr>\n",
       "      <th>2</th>\n",
       "      <td>120</td>\n",
       "      <td>9061</td>\n",
       "    </tr>\n",
       "    <tr>\n",
       "      <th>1</th>\n",
       "      <td>150</td>\n",
       "      <td>9525</td>\n",
       "    </tr>\n",
       "    <tr>\n",
       "      <th>0</th>\n",
       "      <td>180</td>\n",
       "      <td>9914</td>\n",
       "    </tr>\n",
       "  </tbody>\n",
       "</table>\n",
       "</div>"
      ],
      "text/plain": [
       "   days_cutoff  count\n",
       "5           30   6161\n",
       "4           60   7626\n",
       "3           90   8494\n",
       "2          120   9061\n",
       "1          150   9525\n",
       "0          180   9914"
      ]
     },
     "execution_count": 7,
     "metadata": {},
     "output_type": "execute_result"
    }
   ],
   "source": [
    "count_disch = dict()\n",
    "for elem in [30, 60, 90, 120, 150, 180]:\n",
    "    count_disch[elem] = df_icustay[df_icustay.readm_days <= elem].shape[0]\n",
    "\n",
    "df_count = pd.DataFrame.from_dict(count_disch, orient='index').reset_index()\n",
    "df_count.columns = ['days_cutoff', 'count']\n",
    "df_count.sort_values('days_cutoff', ascending=True)"
   ]
  },
  {
   "cell_type": "markdown",
   "metadata": {},
   "source": [
    "### Interval: 30 Days"
   ]
  },
  {
   "cell_type": "code",
   "execution_count": 8,
   "metadata": {
    "collapsed": false
   },
   "outputs": [],
   "source": [
    "period = 30\n",
    "df_icustay_p = df_icustay[df_icustay['readm_days'] <= period]"
   ]
  },
  {
   "cell_type": "markdown",
   "metadata": {},
   "source": [
    "### Previous ICU LOS\n",
    "The total LOS of the previous unique ICU stay, *includes the duration of all intra-ICU stays*."
   ]
  },
  {
   "cell_type": "code",
   "execution_count": 9,
   "metadata": {
    "collapsed": false
   },
   "outputs": [
    {
     "name": "stdout",
     "output_type": "stream",
     "text": [
      "(6161, 7)\n"
     ]
    },
    {
     "data": {
      "text/html": [
       "<div>\n",
       "<table border=\"1\" class=\"dataframe\">\n",
       "  <thead>\n",
       "    <tr style=\"text-align: right;\">\n",
       "      <th></th>\n",
       "      <th>subjectid</th>\n",
       "      <th>icustayid</th>\n",
       "      <th>icu_intime</th>\n",
       "      <th>icu_outtime</th>\n",
       "      <th>readm_days</th>\n",
       "      <th>prev_icustayid</th>\n",
       "      <th>prev_iculos</th>\n",
       "    </tr>\n",
       "  </thead>\n",
       "  <tbody>\n",
       "    <tr>\n",
       "      <th>0</th>\n",
       "      <td>36</td>\n",
       "      <td>211200</td>\n",
       "      <td>2131-05-16 23:18:26</td>\n",
       "      <td>2131-05-23 19:56:11</td>\n",
       "      <td>11.425</td>\n",
       "      <td>280987</td>\n",
       "      <td>1.1096</td>\n",
       "    </tr>\n",
       "    <tr>\n",
       "      <th>1</th>\n",
       "      <td>41</td>\n",
       "      <td>237024</td>\n",
       "      <td>2133-01-09 12:18:30</td>\n",
       "      <td>2133-01-12 15:51:03</td>\n",
       "      <td>2.845</td>\n",
       "      <td>261027</td>\n",
       "      <td>3.3937</td>\n",
       "    </tr>\n",
       "    <tr>\n",
       "      <th>2</th>\n",
       "      <td>68</td>\n",
       "      <td>225771</td>\n",
       "      <td>2173-12-31 01:52:46</td>\n",
       "      <td>2173-12-31 21:33:34</td>\n",
       "      <td>11.418</td>\n",
       "      <td>294232</td>\n",
       "      <td>3.5368</td>\n",
       "    </tr>\n",
       "    <tr>\n",
       "      <th>3</th>\n",
       "      <td>68</td>\n",
       "      <td>272667</td>\n",
       "      <td>2174-01-08 13:12:06</td>\n",
       "      <td>2174-01-14 22:45:42</td>\n",
       "      <td>7.652</td>\n",
       "      <td>225771</td>\n",
       "      <td>0.8200</td>\n",
       "    </tr>\n",
       "    <tr>\n",
       "      <th>4</th>\n",
       "      <td>91</td>\n",
       "      <td>256972</td>\n",
       "      <td>2177-05-07 03:52:00</td>\n",
       "      <td>2177-05-10 15:16:00</td>\n",
       "      <td>9.576</td>\n",
       "      <td>218528</td>\n",
       "      <td>0.4965</td>\n",
       "    </tr>\n",
       "  </tbody>\n",
       "</table>\n",
       "</div>"
      ],
      "text/plain": [
       "   subjectid  icustayid          icu_intime         icu_outtime  readm_days  \\\n",
       "0         36     211200 2131-05-16 23:18:26 2131-05-23 19:56:11      11.425   \n",
       "1         41     237024 2133-01-09 12:18:30 2133-01-12 15:51:03       2.845   \n",
       "2         68     225771 2173-12-31 01:52:46 2173-12-31 21:33:34      11.418   \n",
       "3         68     272667 2174-01-08 13:12:06 2174-01-14 22:45:42       7.652   \n",
       "4         91     256972 2177-05-07 03:52:00 2177-05-10 15:16:00       9.576   \n",
       "\n",
       "   prev_icustayid  prev_iculos  \n",
       "0          280987       1.1096  \n",
       "1          261027       3.3937  \n",
       "2          294232       3.5368  \n",
       "3          225771       0.8200  \n",
       "4          218528       0.4965  "
      ]
     },
     "execution_count": 9,
     "metadata": {},
     "output_type": "execute_result"
    }
   ],
   "source": [
    "q_prevlos = \"\"\"SELECT icustay_id, los \n",
    "FROM icustays;\"\"\"\n",
    "\n",
    "prevlos = exec_query(q_prevlos)\n",
    "df_prevlos = pd.DataFrame(prevlos, columns=['prev_icustayid', 'prev_iculos'])\n",
    "\n",
    "df_icustay1 = pd.merge(df_icustay_p, df_prevlos, on='prev_icustayid', how='left')\n",
    "\n",
    "print df_icustay1.shape\n",
    "df_icustay1.head()"
   ]
  },
  {
   "cell_type": "markdown",
   "metadata": {},
   "source": [
    "### N<sub>icutrav</sub>\n",
    "The number of total *ICU* ward transfers for each patient's unique ICU stay. The value indicates the number of (non-unique) intra-ICU ward transfers."
   ]
  },
  {
   "cell_type": "code",
   "execution_count": 10,
   "metadata": {
    "collapsed": false
   },
   "outputs": [
    {
     "name": "stdout",
     "output_type": "stream",
     "text": [
      "(6161, 8)\n"
     ]
    },
    {
     "data": {
      "text/html": [
       "<div>\n",
       "<table border=\"1\" class=\"dataframe\">\n",
       "  <thead>\n",
       "    <tr style=\"text-align: right;\">\n",
       "      <th></th>\n",
       "      <th>subjectid</th>\n",
       "      <th>icustayid</th>\n",
       "      <th>icu_intime</th>\n",
       "      <th>icu_outtime</th>\n",
       "      <th>readm_days</th>\n",
       "      <th>prev_icustayid</th>\n",
       "      <th>prev_iculos</th>\n",
       "      <th>n_icutrav</th>\n",
       "    </tr>\n",
       "  </thead>\n",
       "  <tbody>\n",
       "    <tr>\n",
       "      <th>0</th>\n",
       "      <td>36</td>\n",
       "      <td>211200</td>\n",
       "      <td>2131-05-16 23:18:26</td>\n",
       "      <td>2131-05-23 19:56:11</td>\n",
       "      <td>11.425</td>\n",
       "      <td>280987</td>\n",
       "      <td>1.1096</td>\n",
       "      <td>3</td>\n",
       "    </tr>\n",
       "    <tr>\n",
       "      <th>1</th>\n",
       "      <td>41</td>\n",
       "      <td>237024</td>\n",
       "      <td>2133-01-09 12:18:30</td>\n",
       "      <td>2133-01-12 15:51:03</td>\n",
       "      <td>2.845</td>\n",
       "      <td>261027</td>\n",
       "      <td>3.3937</td>\n",
       "      <td>1</td>\n",
       "    </tr>\n",
       "    <tr>\n",
       "      <th>2</th>\n",
       "      <td>68</td>\n",
       "      <td>225771</td>\n",
       "      <td>2173-12-31 01:52:46</td>\n",
       "      <td>2173-12-31 21:33:34</td>\n",
       "      <td>11.418</td>\n",
       "      <td>294232</td>\n",
       "      <td>3.5368</td>\n",
       "      <td>1</td>\n",
       "    </tr>\n",
       "    <tr>\n",
       "      <th>3</th>\n",
       "      <td>68</td>\n",
       "      <td>272667</td>\n",
       "      <td>2174-01-08 13:12:06</td>\n",
       "      <td>2174-01-14 22:45:42</td>\n",
       "      <td>7.652</td>\n",
       "      <td>225771</td>\n",
       "      <td>0.8200</td>\n",
       "      <td>1</td>\n",
       "    </tr>\n",
       "    <tr>\n",
       "      <th>4</th>\n",
       "      <td>91</td>\n",
       "      <td>256972</td>\n",
       "      <td>2177-05-07 03:52:00</td>\n",
       "      <td>2177-05-10 15:16:00</td>\n",
       "      <td>9.576</td>\n",
       "      <td>218528</td>\n",
       "      <td>0.4965</td>\n",
       "      <td>1</td>\n",
       "    </tr>\n",
       "  </tbody>\n",
       "</table>\n",
       "</div>"
      ],
      "text/plain": [
       "   subjectid  icustayid          icu_intime         icu_outtime  readm_days  \\\n",
       "0         36     211200 2131-05-16 23:18:26 2131-05-23 19:56:11      11.425   \n",
       "1         41     237024 2133-01-09 12:18:30 2133-01-12 15:51:03       2.845   \n",
       "2         68     225771 2173-12-31 01:52:46 2173-12-31 21:33:34      11.418   \n",
       "3         68     272667 2174-01-08 13:12:06 2174-01-14 22:45:42       7.652   \n",
       "4         91     256972 2177-05-07 03:52:00 2177-05-10 15:16:00       9.576   \n",
       "\n",
       "   prev_icustayid  prev_iculos  n_icutrav  \n",
       "0          280987       1.1096          3  \n",
       "1          261027       3.3937          1  \n",
       "2          294232       3.5368          1  \n",
       "3          225771       0.8200          1  \n",
       "4          218528       0.4965          1  "
      ]
     },
     "execution_count": 10,
     "metadata": {},
     "output_type": "execute_result"
    }
   ],
   "source": [
    "q_multtrav = \"\"\"SELECT icustay_id, COUNT(*)\n",
    "FROM transfers\n",
    "WHERE icustay_id IS NOT NULL\n",
    "GROUP BY icustay_id\"\"\"\n",
    "\n",
    "mult_trav = exec_query(q_multtrav)\n",
    "df_multtrav = pd.DataFrame(mult_trav, columns=['icustayid', 'n_icutrav'])\n",
    "df_icustay2 = pd.merge(df_icustay1, df_multtrav, on='icustayid', how='left')\n",
    "\n",
    "print df_icustay2.shape\n",
    "df_icustay2.head()"
   ]
  },
  {
   "cell_type": "markdown",
   "metadata": {},
   "source": [
    "### Current Care Unit\n",
    "Type of ICU admitted/transferred into.\n",
    "\n",
    "**`prev_cu`**: categorical feature indicating previous care unit  \n",
    "**`curr_cu`**: categorical feature indicating current care unit  \n",
    "**`prev_ICU`**: binary feature indicating previous ICU  \n",
    "\n",
    "Legend:\n",
    "  * nonICU : 0\n",
    "  * MICU : 1\n",
    "  * CSRU : 2\n",
    "  * SICU : 3\n",
    "  * CCU : 4 \n",
    "  * TSICU : 5\n",
    "  * NICU :6 \n",
    "  * NWARD :7"
   ]
  },
  {
   "cell_type": "code",
   "execution_count": 11,
   "metadata": {
    "collapsed": true
   },
   "outputs": [],
   "source": [
    "def binary_cu(careunit):\n",
    "    if careunit > 0 and careunit < 7:\n",
    "        x = 1\n",
    "    else:\n",
    "        x = 0\n",
    "    return x"
   ]
  },
  {
   "cell_type": "code",
   "execution_count": 12,
   "metadata": {
    "collapsed": false
   },
   "outputs": [
    {
     "name": "stdout",
     "output_type": "stream",
     "text": [
      "(6161, 11)\n"
     ]
    },
    {
     "data": {
      "text/html": [
       "<div>\n",
       "<table border=\"1\" class=\"dataframe\">\n",
       "  <thead>\n",
       "    <tr style=\"text-align: right;\">\n",
       "      <th></th>\n",
       "      <th>subjectid</th>\n",
       "      <th>icustayid</th>\n",
       "      <th>icu_intime</th>\n",
       "      <th>icu_outtime</th>\n",
       "      <th>readm_days</th>\n",
       "      <th>prev_icustayid</th>\n",
       "      <th>prev_iculos</th>\n",
       "      <th>n_icutrav</th>\n",
       "      <th>curr_cu</th>\n",
       "      <th>prev_cu</th>\n",
       "      <th>prev_ICU</th>\n",
       "    </tr>\n",
       "  </thead>\n",
       "  <tbody>\n",
       "    <tr>\n",
       "      <th>0</th>\n",
       "      <td>36</td>\n",
       "      <td>211200</td>\n",
       "      <td>2131-05-16 23:18:26</td>\n",
       "      <td>2131-05-23 19:56:11</td>\n",
       "      <td>11.425</td>\n",
       "      <td>280987</td>\n",
       "      <td>1.1096</td>\n",
       "      <td>3</td>\n",
       "      <td>2</td>\n",
       "      <td>0</td>\n",
       "      <td>0</td>\n",
       "    </tr>\n",
       "    <tr>\n",
       "      <th>1</th>\n",
       "      <td>41</td>\n",
       "      <td>237024</td>\n",
       "      <td>2133-01-09 12:18:30</td>\n",
       "      <td>2133-01-12 15:51:03</td>\n",
       "      <td>2.845</td>\n",
       "      <td>261027</td>\n",
       "      <td>3.3937</td>\n",
       "      <td>1</td>\n",
       "      <td>2</td>\n",
       "      <td>0</td>\n",
       "      <td>0</td>\n",
       "    </tr>\n",
       "    <tr>\n",
       "      <th>2</th>\n",
       "      <td>68</td>\n",
       "      <td>225771</td>\n",
       "      <td>2173-12-31 01:52:46</td>\n",
       "      <td>2173-12-31 21:33:34</td>\n",
       "      <td>11.418</td>\n",
       "      <td>294232</td>\n",
       "      <td>3.5368</td>\n",
       "      <td>1</td>\n",
       "      <td>1</td>\n",
       "      <td>0</td>\n",
       "      <td>0</td>\n",
       "    </tr>\n",
       "    <tr>\n",
       "      <th>3</th>\n",
       "      <td>68</td>\n",
       "      <td>272667</td>\n",
       "      <td>2174-01-08 13:12:06</td>\n",
       "      <td>2174-01-14 22:45:42</td>\n",
       "      <td>7.652</td>\n",
       "      <td>225771</td>\n",
       "      <td>0.8200</td>\n",
       "      <td>1</td>\n",
       "      <td>1</td>\n",
       "      <td>0</td>\n",
       "      <td>0</td>\n",
       "    </tr>\n",
       "    <tr>\n",
       "      <th>4</th>\n",
       "      <td>91</td>\n",
       "      <td>256972</td>\n",
       "      <td>2177-05-07 03:52:00</td>\n",
       "      <td>2177-05-10 15:16:00</td>\n",
       "      <td>9.576</td>\n",
       "      <td>218528</td>\n",
       "      <td>0.4965</td>\n",
       "      <td>1</td>\n",
       "      <td>1</td>\n",
       "      <td>0</td>\n",
       "      <td>0</td>\n",
       "    </tr>\n",
       "  </tbody>\n",
       "</table>\n",
       "</div>"
      ],
      "text/plain": [
       "   subjectid  icustayid          icu_intime         icu_outtime  readm_days  \\\n",
       "0         36     211200 2131-05-16 23:18:26 2131-05-23 19:56:11      11.425   \n",
       "1         41     237024 2133-01-09 12:18:30 2133-01-12 15:51:03       2.845   \n",
       "2         68     225771 2173-12-31 01:52:46 2173-12-31 21:33:34      11.418   \n",
       "3         68     272667 2174-01-08 13:12:06 2174-01-14 22:45:42       7.652   \n",
       "4         91     256972 2177-05-07 03:52:00 2177-05-10 15:16:00       9.576   \n",
       "\n",
       "   prev_icustayid  prev_iculos  n_icutrav  curr_cu  prev_cu  prev_ICU  \n",
       "0          280987       1.1096          3        2        0         0  \n",
       "1          261027       3.3937          1        2        0         0  \n",
       "2          294232       3.5368          1        1        0         0  \n",
       "3          225771       0.8200          1        1        0         0  \n",
       "4          218528       0.4965          1        1        0         0  "
      ]
     },
     "execution_count": 12,
     "metadata": {},
     "output_type": "execute_result"
    }
   ],
   "source": [
    "q_careunit = \"\"\"SELECT DISTINCT ON (icustay_id, intime) icustay_id, intime, curr_careunit, prev_careunit\n",
    "FROM transfers WHERE icustay_id IS NOT NULL;\"\"\"\n",
    "\n",
    "careunit = exec_query(q_careunit)\n",
    "df_careunit = pd.DataFrame(careunit, \n",
    "                           columns = ['icustayid', 'icu_intime', 'curr_cu', 'prev_cu'])\n",
    "\n",
    "df_careunit.prev_cu.replace(to_replace = \n",
    "                            {'':0, 'MICU':1, 'CSRU': 2, 'SICU': 3, 'CCU': 4, \n",
    "                             'TSICU': 5,  'NICU':6, 'NWARD':7}, inplace=True)\n",
    "df_careunit.curr_cu.replace(to_replace = \n",
    "                            {'':0, 'MICU':1, 'CSRU': 2, 'SICU': 3, 'CCU': 4, \n",
    "                             'TSICU': 5,  'NICU':6, 'NWARD':7}, inplace=True)\n",
    "\n",
    "df_careunit['prev_ICU'] = df_careunit.prev_cu.apply(binary_cu)\n",
    "# df_careunit['curr_ICU'] = df_careunit.curr_cu.apply(binary_cu)\n",
    "\n",
    "df_icustay3 = pd.merge(df_icustay2, df_careunit, on=['icustayid', 'icu_intime'], how='left')\n",
    "\n",
    "print df_icustay3.shape\n",
    "df_icustay3.head()"
   ]
  },
  {
   "cell_type": "markdown",
   "metadata": {},
   "source": [
    "### ICU Discharge Care Unit\n",
    "Ward patient was transferred to after ICU stay.\n",
    "\n",
    "  * **`disch_cu`**: categorical feature indicating discharge unit from ICU\n",
    "  * **`disch_ICU`**: binary feature indicating ICU discharge\n",
    "\n",
    "Legend:\n",
    "  * nonICU : 0\n",
    "  * MICU : 1\n",
    "  * CSRU : 2\n",
    "  * SICU : 3\n",
    "  * CCU : 4 \n",
    "  * TSICU : 5\n",
    "  * NICU :6 \n",
    "  * NWARD :7\n",
    "  \n",
    "**Note**: Some records are missing information such as transfer from an ICU, indicating the end of the ICU stay. These `NULL` rows have been omitted through an inner join."
   ]
  },
  {
   "cell_type": "code",
   "execution_count": 13,
   "metadata": {
    "collapsed": false
   },
   "outputs": [
    {
     "name": "stdout",
     "output_type": "stream",
     "text": [
      "(6160, 13)\n"
     ]
    },
    {
     "data": {
      "text/html": [
       "<div>\n",
       "<table border=\"1\" class=\"dataframe\">\n",
       "  <thead>\n",
       "    <tr style=\"text-align: right;\">\n",
       "      <th></th>\n",
       "      <th>subjectid</th>\n",
       "      <th>icustayid</th>\n",
       "      <th>icu_intime</th>\n",
       "      <th>icu_outtime</th>\n",
       "      <th>readm_days</th>\n",
       "      <th>prev_icustayid</th>\n",
       "      <th>prev_iculos</th>\n",
       "      <th>n_icutrav</th>\n",
       "      <th>curr_cu</th>\n",
       "      <th>prev_cu</th>\n",
       "      <th>prev_ICU</th>\n",
       "      <th>disch_cu</th>\n",
       "      <th>disch_ICU</th>\n",
       "    </tr>\n",
       "  </thead>\n",
       "  <tbody>\n",
       "    <tr>\n",
       "      <th>0</th>\n",
       "      <td>36</td>\n",
       "      <td>211200</td>\n",
       "      <td>2131-05-16 23:18:26</td>\n",
       "      <td>2131-05-23 19:56:11</td>\n",
       "      <td>11.425</td>\n",
       "      <td>280987</td>\n",
       "      <td>1.1096</td>\n",
       "      <td>3</td>\n",
       "      <td>2</td>\n",
       "      <td>0</td>\n",
       "      <td>0</td>\n",
       "      <td>0</td>\n",
       "      <td>0</td>\n",
       "    </tr>\n",
       "    <tr>\n",
       "      <th>1</th>\n",
       "      <td>41</td>\n",
       "      <td>237024</td>\n",
       "      <td>2133-01-09 12:18:30</td>\n",
       "      <td>2133-01-12 15:51:03</td>\n",
       "      <td>2.845</td>\n",
       "      <td>261027</td>\n",
       "      <td>3.3937</td>\n",
       "      <td>1</td>\n",
       "      <td>2</td>\n",
       "      <td>0</td>\n",
       "      <td>0</td>\n",
       "      <td>0</td>\n",
       "      <td>0</td>\n",
       "    </tr>\n",
       "    <tr>\n",
       "      <th>2</th>\n",
       "      <td>68</td>\n",
       "      <td>225771</td>\n",
       "      <td>2173-12-31 01:52:46</td>\n",
       "      <td>2173-12-31 21:33:34</td>\n",
       "      <td>11.418</td>\n",
       "      <td>294232</td>\n",
       "      <td>3.5368</td>\n",
       "      <td>1</td>\n",
       "      <td>1</td>\n",
       "      <td>0</td>\n",
       "      <td>0</td>\n",
       "      <td>0</td>\n",
       "      <td>0</td>\n",
       "    </tr>\n",
       "    <tr>\n",
       "      <th>3</th>\n",
       "      <td>68</td>\n",
       "      <td>272667</td>\n",
       "      <td>2174-01-08 13:12:06</td>\n",
       "      <td>2174-01-14 22:45:42</td>\n",
       "      <td>7.652</td>\n",
       "      <td>225771</td>\n",
       "      <td>0.8200</td>\n",
       "      <td>1</td>\n",
       "      <td>1</td>\n",
       "      <td>0</td>\n",
       "      <td>0</td>\n",
       "      <td>0</td>\n",
       "      <td>0</td>\n",
       "    </tr>\n",
       "    <tr>\n",
       "      <th>4</th>\n",
       "      <td>91</td>\n",
       "      <td>256972</td>\n",
       "      <td>2177-05-07 03:52:00</td>\n",
       "      <td>2177-05-10 15:16:00</td>\n",
       "      <td>9.576</td>\n",
       "      <td>218528</td>\n",
       "      <td>0.4965</td>\n",
       "      <td>1</td>\n",
       "      <td>1</td>\n",
       "      <td>0</td>\n",
       "      <td>0</td>\n",
       "      <td>0</td>\n",
       "      <td>0</td>\n",
       "    </tr>\n",
       "  </tbody>\n",
       "</table>\n",
       "</div>"
      ],
      "text/plain": [
       "   subjectid  icustayid          icu_intime         icu_outtime  readm_days  \\\n",
       "0         36     211200 2131-05-16 23:18:26 2131-05-23 19:56:11      11.425   \n",
       "1         41     237024 2133-01-09 12:18:30 2133-01-12 15:51:03       2.845   \n",
       "2         68     225771 2173-12-31 01:52:46 2173-12-31 21:33:34      11.418   \n",
       "3         68     272667 2174-01-08 13:12:06 2174-01-14 22:45:42       7.652   \n",
       "4         91     256972 2177-05-07 03:52:00 2177-05-10 15:16:00       9.576   \n",
       "\n",
       "   prev_icustayid  prev_iculos  n_icutrav  curr_cu  prev_cu  prev_ICU  \\\n",
       "0          280987       1.1096          3        2        0         0   \n",
       "1          261027       3.3937          1        2        0         0   \n",
       "2          294232       3.5368          1        1        0         0   \n",
       "3          225771       0.8200          1        1        0         0   \n",
       "4          218528       0.4965          1        1        0         0   \n",
       "\n",
       "   disch_cu  disch_ICU  \n",
       "0         0          0  \n",
       "1         0          0  \n",
       "2         0          0  \n",
       "3         0          0  \n",
       "4         0          0  "
      ]
     },
     "execution_count": 13,
     "metadata": {},
     "output_type": "execute_result"
    }
   ],
   "source": [
    "q_disch = \"\"\"SELECT DISTINCT ON (t1.outtime) t1.subject_id, t1.icustay_id, t2.curr_careunit, t1.outtime \n",
    "FROM\n",
    "  (SELECT * FROM transfers WHERE curr_careunit LIKE '%U') as t1\n",
    "INNER JOIN\n",
    "  (SELECT * FROM transfers WHERE prev_careunit != '') as t2\n",
    "ON t1.outtime = t2.intime\"\"\"\n",
    "\n",
    "disch_unit = exec_query(q_disch)\n",
    "df_disch = pd.DataFrame(disch_unit, \n",
    "                        columns=['subjectid', 'icustayid', 'disch_cu', 'icu_outtime'])\n",
    "df_disch['disch_cu'].replace(to_replace = \n",
    "                            {'':0, 'MICU':1, 'CSRU': 2, 'SICU': 3, 'CCU': 4, \n",
    "                             'TSICU': 5,  'NICU':6, 'NWARD':7}, inplace=True)\n",
    "\n",
    "df_disch['disch_ICU'] = df_disch.disch_cu.apply(binary_cu)\n",
    "\n",
    "df_disch\n",
    "\n",
    "df_icustay4 = pd.merge(df_icustay3, df_disch[['icustayid', 'disch_cu', 'icu_outtime', 'disch_ICU']], \n",
    "                       on=['icustayid', 'icu_outtime'], how='inner')\n",
    "print df_icustay4.shape\n",
    "df_icustay4.head()"
   ]
  },
  {
   "cell_type": "markdown",
   "metadata": {},
   "source": [
    "### ICU Time (Day/Night)\n",
    "Time of ICU \"admission\" and \"discharge\" (day or night)\n",
    "\n",
    "Features\n",
    "  * **`icu_in_day`**: Time of ICU admission\n",
    "  * **`icu_out_day`**: Time of ICU discharge\n",
    "\n",
    "Legend:\n",
    "  * **`0`**: night\n",
    "  * **`1`**: day"
   ]
  },
  {
   "cell_type": "code",
   "execution_count": 14,
   "metadata": {
    "collapsed": true
   },
   "outputs": [],
   "source": [
    "def day_night(datetime):\n",
    "    hour = np.timedelta64(np.datetime64(datetime, 'h') - (np.datetime64(datetime, 'D')), 'h')\n",
    "    if hour.astype(np.int64) >=6 and hour.astype(np.int64) <=18:\n",
    "        time = 1 # day\n",
    "    else:\n",
    "        time = 0 # night\n",
    "    return time"
   ]
  },
  {
   "cell_type": "code",
   "execution_count": 15,
   "metadata": {
    "collapsed": false
   },
   "outputs": [
    {
     "name": "stdout",
     "output_type": "stream",
     "text": [
      "(6160, 15)\n"
     ]
    },
    {
     "data": {
      "text/html": [
       "<div>\n",
       "<table border=\"1\" class=\"dataframe\">\n",
       "  <thead>\n",
       "    <tr style=\"text-align: right;\">\n",
       "      <th></th>\n",
       "      <th>subjectid</th>\n",
       "      <th>icustayid</th>\n",
       "      <th>icu_intime</th>\n",
       "      <th>icu_outtime</th>\n",
       "      <th>readm_days</th>\n",
       "      <th>prev_icustayid</th>\n",
       "      <th>prev_iculos</th>\n",
       "      <th>n_icutrav</th>\n",
       "      <th>curr_cu</th>\n",
       "      <th>prev_cu</th>\n",
       "      <th>prev_ICU</th>\n",
       "      <th>disch_cu</th>\n",
       "      <th>disch_ICU</th>\n",
       "      <th>icu_in_day</th>\n",
       "      <th>icu_out_day</th>\n",
       "    </tr>\n",
       "  </thead>\n",
       "  <tbody>\n",
       "    <tr>\n",
       "      <th>0</th>\n",
       "      <td>36</td>\n",
       "      <td>211200</td>\n",
       "      <td>2131-05-16 23:18:26</td>\n",
       "      <td>2131-05-23 19:56:11</td>\n",
       "      <td>11.425</td>\n",
       "      <td>280987</td>\n",
       "      <td>1.1096</td>\n",
       "      <td>3</td>\n",
       "      <td>2</td>\n",
       "      <td>0</td>\n",
       "      <td>0</td>\n",
       "      <td>0</td>\n",
       "      <td>0</td>\n",
       "      <td>0</td>\n",
       "      <td>0</td>\n",
       "    </tr>\n",
       "    <tr>\n",
       "      <th>1</th>\n",
       "      <td>41</td>\n",
       "      <td>237024</td>\n",
       "      <td>2133-01-09 12:18:30</td>\n",
       "      <td>2133-01-12 15:51:03</td>\n",
       "      <td>2.845</td>\n",
       "      <td>261027</td>\n",
       "      <td>3.3937</td>\n",
       "      <td>1</td>\n",
       "      <td>2</td>\n",
       "      <td>0</td>\n",
       "      <td>0</td>\n",
       "      <td>0</td>\n",
       "      <td>0</td>\n",
       "      <td>1</td>\n",
       "      <td>1</td>\n",
       "    </tr>\n",
       "    <tr>\n",
       "      <th>2</th>\n",
       "      <td>68</td>\n",
       "      <td>225771</td>\n",
       "      <td>2173-12-31 01:52:46</td>\n",
       "      <td>2173-12-31 21:33:34</td>\n",
       "      <td>11.418</td>\n",
       "      <td>294232</td>\n",
       "      <td>3.5368</td>\n",
       "      <td>1</td>\n",
       "      <td>1</td>\n",
       "      <td>0</td>\n",
       "      <td>0</td>\n",
       "      <td>0</td>\n",
       "      <td>0</td>\n",
       "      <td>0</td>\n",
       "      <td>0</td>\n",
       "    </tr>\n",
       "    <tr>\n",
       "      <th>3</th>\n",
       "      <td>68</td>\n",
       "      <td>272667</td>\n",
       "      <td>2174-01-08 13:12:06</td>\n",
       "      <td>2174-01-14 22:45:42</td>\n",
       "      <td>7.652</td>\n",
       "      <td>225771</td>\n",
       "      <td>0.8200</td>\n",
       "      <td>1</td>\n",
       "      <td>1</td>\n",
       "      <td>0</td>\n",
       "      <td>0</td>\n",
       "      <td>0</td>\n",
       "      <td>0</td>\n",
       "      <td>1</td>\n",
       "      <td>0</td>\n",
       "    </tr>\n",
       "    <tr>\n",
       "      <th>4</th>\n",
       "      <td>91</td>\n",
       "      <td>256972</td>\n",
       "      <td>2177-05-07 03:52:00</td>\n",
       "      <td>2177-05-10 15:16:00</td>\n",
       "      <td>9.576</td>\n",
       "      <td>218528</td>\n",
       "      <td>0.4965</td>\n",
       "      <td>1</td>\n",
       "      <td>1</td>\n",
       "      <td>0</td>\n",
       "      <td>0</td>\n",
       "      <td>0</td>\n",
       "      <td>0</td>\n",
       "      <td>0</td>\n",
       "      <td>1</td>\n",
       "    </tr>\n",
       "  </tbody>\n",
       "</table>\n",
       "</div>"
      ],
      "text/plain": [
       "   subjectid  icustayid          icu_intime         icu_outtime  readm_days  \\\n",
       "0         36     211200 2131-05-16 23:18:26 2131-05-23 19:56:11      11.425   \n",
       "1         41     237024 2133-01-09 12:18:30 2133-01-12 15:51:03       2.845   \n",
       "2         68     225771 2173-12-31 01:52:46 2173-12-31 21:33:34      11.418   \n",
       "3         68     272667 2174-01-08 13:12:06 2174-01-14 22:45:42       7.652   \n",
       "4         91     256972 2177-05-07 03:52:00 2177-05-10 15:16:00       9.576   \n",
       "\n",
       "   prev_icustayid  prev_iculos  n_icutrav  curr_cu  prev_cu  prev_ICU  \\\n",
       "0          280987       1.1096          3        2        0         0   \n",
       "1          261027       3.3937          1        2        0         0   \n",
       "2          294232       3.5368          1        1        0         0   \n",
       "3          225771       0.8200          1        1        0         0   \n",
       "4          218528       0.4965          1        1        0         0   \n",
       "\n",
       "   disch_cu  disch_ICU  icu_in_day  icu_out_day  \n",
       "0         0          0           0            0  \n",
       "1         0          0           1            1  \n",
       "2         0          0           0            0  \n",
       "3         0          0           1            0  \n",
       "4         0          0           0            1  "
      ]
     },
     "execution_count": 15,
     "metadata": {},
     "output_type": "execute_result"
    }
   ],
   "source": [
    "df_icustay4['icu_in_day'] = df_icustay4['icu_intime'].apply(day_night)\n",
    "df_icustay4['icu_out_day'] = df_icustay4['icu_outtime'].apply(day_night)\n",
    "print df_icustay4.shape\n",
    "df_icustay4.head()"
   ]
  },
  {
   "cell_type": "markdown",
   "metadata": {},
   "source": [
    "### ICU Intra-Interval Readmission\n",
    "Risk Scores based on intra-period ICU readmissions (*multiple unique ICU admissions within the specified interval*).\n",
    "\n",
    "**`Risk Score = N`<sub>ICU readmission</sub> ` = N`<sub>Total ICU admissions</sub>` - 1`**  \n",
    "The value of the risk score indicates the count/frequency of readmission for the given ICU stay.\n",
    " * `0`: indicates first ICU stay during the interval\n",
    " * `2`: indicates 3 total ICU stays and 2 ICU readmissions during the interval "
   ]
  },
  {
   "cell_type": "code",
   "execution_count": 16,
   "metadata": {
    "collapsed": false
   },
   "outputs": [],
   "source": [
    "# df_icustay4['icustayid'].groupby(df_icustay4['subjectid']).agg('count'-9'')\n",
    "d_risk = dict()\n",
    "for i, row in df_icustay4.iterrows():\n",
    "    if d_risk.has_key(row.subjectid):\n",
    "        d_risk[row.subjectid]['count'] += 1\n",
    "        d_risk[row.subjectid][row.icustayid] = d_risk[row.subjectid]['count'] \n",
    "\n",
    "    else:\n",
    "        d_icu = {'count': 0}\n",
    "        d_icu[row.icustayid] = d_icu['count']\n",
    "        d_risk[row.subjectid] = d_icu\n",
    "        \n",
    "        \n",
    "df_icustay4['intra_risk'] = df_icustay4.subjectid.astype(str)+'-'+df_icustay4.astype(str).icustayid"
   ]
  },
  {
   "cell_type": "code",
   "execution_count": 17,
   "metadata": {
    "collapsed": false
   },
   "outputs": [],
   "source": [
    "def intra_interval(stay):\n",
    "    risk_score = str.split(stay, '-')\n",
    "    sid = int(risk_score[0])\n",
    "    stayid = int(risk_score[1])\n",
    "    \n",
    "    return d_risk[sid][stayid]    "
   ]
  },
  {
   "cell_type": "code",
   "execution_count": 18,
   "metadata": {
    "collapsed": false
   },
   "outputs": [
    {
     "name": "stdout",
     "output_type": "stream",
     "text": [
      "(6160, 16)\n"
     ]
    },
    {
     "data": {
      "text/html": [
       "<div>\n",
       "<table border=\"1\" class=\"dataframe\">\n",
       "  <thead>\n",
       "    <tr style=\"text-align: right;\">\n",
       "      <th></th>\n",
       "      <th>subjectid</th>\n",
       "      <th>icustayid</th>\n",
       "      <th>icu_intime</th>\n",
       "      <th>icu_outtime</th>\n",
       "      <th>readm_days</th>\n",
       "      <th>prev_icustayid</th>\n",
       "      <th>prev_iculos</th>\n",
       "      <th>n_icutrav</th>\n",
       "      <th>curr_cu</th>\n",
       "      <th>prev_cu</th>\n",
       "      <th>prev_ICU</th>\n",
       "      <th>disch_cu</th>\n",
       "      <th>disch_ICU</th>\n",
       "      <th>icu_in_day</th>\n",
       "      <th>icu_out_day</th>\n",
       "      <th>intra_risk</th>\n",
       "    </tr>\n",
       "  </thead>\n",
       "  <tbody>\n",
       "    <tr>\n",
       "      <th>0</th>\n",
       "      <td>36</td>\n",
       "      <td>211200</td>\n",
       "      <td>2131-05-16 23:18:26</td>\n",
       "      <td>2131-05-23 19:56:11</td>\n",
       "      <td>11.425</td>\n",
       "      <td>280987</td>\n",
       "      <td>1.1096</td>\n",
       "      <td>3</td>\n",
       "      <td>2</td>\n",
       "      <td>0</td>\n",
       "      <td>0</td>\n",
       "      <td>0</td>\n",
       "      <td>0</td>\n",
       "      <td>0</td>\n",
       "      <td>0</td>\n",
       "      <td>0</td>\n",
       "    </tr>\n",
       "    <tr>\n",
       "      <th>1</th>\n",
       "      <td>41</td>\n",
       "      <td>237024</td>\n",
       "      <td>2133-01-09 12:18:30</td>\n",
       "      <td>2133-01-12 15:51:03</td>\n",
       "      <td>2.845</td>\n",
       "      <td>261027</td>\n",
       "      <td>3.3937</td>\n",
       "      <td>1</td>\n",
       "      <td>2</td>\n",
       "      <td>0</td>\n",
       "      <td>0</td>\n",
       "      <td>0</td>\n",
       "      <td>0</td>\n",
       "      <td>1</td>\n",
       "      <td>1</td>\n",
       "      <td>0</td>\n",
       "    </tr>\n",
       "    <tr>\n",
       "      <th>2</th>\n",
       "      <td>68</td>\n",
       "      <td>225771</td>\n",
       "      <td>2173-12-31 01:52:46</td>\n",
       "      <td>2173-12-31 21:33:34</td>\n",
       "      <td>11.418</td>\n",
       "      <td>294232</td>\n",
       "      <td>3.5368</td>\n",
       "      <td>1</td>\n",
       "      <td>1</td>\n",
       "      <td>0</td>\n",
       "      <td>0</td>\n",
       "      <td>0</td>\n",
       "      <td>0</td>\n",
       "      <td>0</td>\n",
       "      <td>0</td>\n",
       "      <td>0</td>\n",
       "    </tr>\n",
       "    <tr>\n",
       "      <th>3</th>\n",
       "      <td>68</td>\n",
       "      <td>272667</td>\n",
       "      <td>2174-01-08 13:12:06</td>\n",
       "      <td>2174-01-14 22:45:42</td>\n",
       "      <td>7.652</td>\n",
       "      <td>225771</td>\n",
       "      <td>0.8200</td>\n",
       "      <td>1</td>\n",
       "      <td>1</td>\n",
       "      <td>0</td>\n",
       "      <td>0</td>\n",
       "      <td>0</td>\n",
       "      <td>0</td>\n",
       "      <td>1</td>\n",
       "      <td>0</td>\n",
       "      <td>1</td>\n",
       "    </tr>\n",
       "    <tr>\n",
       "      <th>4</th>\n",
       "      <td>91</td>\n",
       "      <td>256972</td>\n",
       "      <td>2177-05-07 03:52:00</td>\n",
       "      <td>2177-05-10 15:16:00</td>\n",
       "      <td>9.576</td>\n",
       "      <td>218528</td>\n",
       "      <td>0.4965</td>\n",
       "      <td>1</td>\n",
       "      <td>1</td>\n",
       "      <td>0</td>\n",
       "      <td>0</td>\n",
       "      <td>0</td>\n",
       "      <td>0</td>\n",
       "      <td>0</td>\n",
       "      <td>1</td>\n",
       "      <td>0</td>\n",
       "    </tr>\n",
       "  </tbody>\n",
       "</table>\n",
       "</div>"
      ],
      "text/plain": [
       "   subjectid  icustayid          icu_intime         icu_outtime  readm_days  \\\n",
       "0         36     211200 2131-05-16 23:18:26 2131-05-23 19:56:11      11.425   \n",
       "1         41     237024 2133-01-09 12:18:30 2133-01-12 15:51:03       2.845   \n",
       "2         68     225771 2173-12-31 01:52:46 2173-12-31 21:33:34      11.418   \n",
       "3         68     272667 2174-01-08 13:12:06 2174-01-14 22:45:42       7.652   \n",
       "4         91     256972 2177-05-07 03:52:00 2177-05-10 15:16:00       9.576   \n",
       "\n",
       "   prev_icustayid  prev_iculos  n_icutrav  curr_cu  prev_cu  prev_ICU  \\\n",
       "0          280987       1.1096          3        2        0         0   \n",
       "1          261027       3.3937          1        2        0         0   \n",
       "2          294232       3.5368          1        1        0         0   \n",
       "3          225771       0.8200          1        1        0         0   \n",
       "4          218528       0.4965          1        1        0         0   \n",
       "\n",
       "   disch_cu  disch_ICU  icu_in_day  icu_out_day  intra_risk  \n",
       "0         0          0           0            0           0  \n",
       "1         0          0           1            1           0  \n",
       "2         0          0           0            0           0  \n",
       "3         0          0           1            0           1  \n",
       "4         0          0           0            1           0  "
      ]
     },
     "execution_count": 18,
     "metadata": {},
     "output_type": "execute_result"
    }
   ],
   "source": [
    "df_icustay4['intra_risk'] = df_icustay4['intra_risk'].apply(intra_interval)\n",
    "print df_icustay4.shape\n",
    "df_icustay4.head()"
   ]
  },
  {
   "cell_type": "markdown",
   "metadata": {},
   "source": [
    "### Traversal Pairs\n",
    "**Feature transformation** The probability of the feature combination pair is used as weight and applied onto the count for each row.\n",
    "\n",
    "**Note**: The overall hospital admission LOS may be extracted by taking the aggregate mean of the DataFrame, after it has been grouped by `subject_id`."
   ]
  },
  {
   "cell_type": "code",
   "execution_count": 19,
   "metadata": {
    "collapsed": false
   },
   "outputs": [],
   "source": [
    "q_trav = \"\"\"SELECT subject_id, icustay_id, eventtype,\n",
    "prev_careunit, curr_careunit\n",
    "FROM transfers\n",
    "WHERE icustay_id IS NOT NULL;\"\"\"\n",
    "mult_trav = exec_query(q_trav, False)\n",
    "mult_col = ['subjectid', 'icustayid', 'eventtype', 'prev_cu', 'curr_cu']\n",
    "df_trav = pd.DataFrame(mult_trav, columns = mult_col)\n",
    "df_trav.replace(to_replace='', value=np.nan, inplace=True, regex=True)\n",
    "\n",
    "df_trav = df_trav[df_trav.prev_cu != 'NICU']\n",
    "df_trav = df_trav[df_trav.prev_cu != 'NWARD']\n",
    "df_trav = df_trav[df_trav.curr_cu != 'NICU']\n",
    "df_trav = df_trav[df_trav.curr_cu != 'NWARD']\n",
    "df_trav.prev_cu.fillna('nonicu', inplace=True)\n",
    "df_trav.curr_cu.fillna('nonicu', inplace=True)\n",
    "\n",
    "df_trav['trans'] = df_trav.prev_cu+'-'+df_trav.curr_cu\n",
    "\n",
    "# Filter for Patients with ICU readmission\n",
    "q_icupat=\"\"\"SELECT * FROM\n",
    "    (SELECT subject_id, COUNT(icustay_id) AS n_icustays\n",
    "    FROM icustays\n",
    "    GROUP BY subject_id) AS sub_q\n",
    "WHERE n_icustays > 1;\"\"\"\n",
    "\n",
    "icupat = exec_query(q_icupat)\n",
    "df_icupat = pd.DataFrame(icupat, columns=['subjectid', 'n_icustays'])\n",
    "df_icupat\n",
    "# filter for ICU patients with readmissions\n",
    "filter_preadm = list(df_icupat.subjectid)\n",
    "df_trav = df_trav[df_trav.subjectid.isin(filter_preadm)]"
   ]
  },
  {
   "cell_type": "code",
   "execution_count": 20,
   "metadata": {
    "collapsed": false
   },
   "outputs": [],
   "source": [
    "from collections import Counter\n",
    "\n",
    "icuid = list(df_trav.icustayid.value_counts().index) # unique subject_id\n",
    "\n",
    "main_d = dict()\n",
    "for stay in icuid:\n",
    "    pair_d = dict(Counter(df_trav[df_trav.icustayid==stay].trans))\n",
    "    pair_d['icustayid'] = stay # add subjectid key\n",
    "    main_d[stay] = pair_d"
   ]
  },
  {
   "cell_type": "markdown",
   "metadata": {},
   "source": [
    "#### Count of Traversal Pair"
   ]
  },
  {
   "cell_type": "code",
   "execution_count": 21,
   "metadata": {
    "collapsed": false
   },
   "outputs": [],
   "source": [
    "df_toppairs = df_trav.trans.value_counts(ascending=False).to_frame()\n",
    "df_top = df_toppairs.transpose().iloc[:,0:11]\n",
    "\n",
    "df_pairct = pd.DataFrame.from_dict(main_d, orient='index')\n",
    "\n",
    "# drop non-top trans pair cols\n",
    "pairs_drop = list(df_toppairs.iloc[10:].index)\n",
    "df_pairct.drop(pairs_drop, axis=1, inplace=True) \n",
    "\n",
    "df_icustay5 = pd.merge(df_icustay4, df_pairct, on='icustayid', how='left')"
   ]
  },
  {
   "cell_type": "markdown",
   "metadata": {},
   "source": [
    "#### Probability Transformation (Weight)"
   ]
  },
  {
   "cell_type": "code",
   "execution_count": 22,
   "metadata": {
    "collapsed": false
   },
   "outputs": [
    {
     "data": {
      "text/html": [
       "<div>\n",
       "<table border=\"1\" class=\"dataframe\">\n",
       "  <thead>\n",
       "    <tr style=\"text-align: right;\">\n",
       "      <th>curr_cu</th>\n",
       "      <th>CCU</th>\n",
       "      <th>CSRU</th>\n",
       "      <th>MICU</th>\n",
       "      <th>SICU</th>\n",
       "      <th>TSICU</th>\n",
       "    </tr>\n",
       "    <tr>\n",
       "      <th>prev_cu</th>\n",
       "      <th></th>\n",
       "      <th></th>\n",
       "      <th></th>\n",
       "      <th></th>\n",
       "      <th></th>\n",
       "    </tr>\n",
       "  </thead>\n",
       "  <tbody>\n",
       "    <tr>\n",
       "      <th>CCU</th>\n",
       "      <td>0.058462</td>\n",
       "      <td>0.029022</td>\n",
       "      <td>0.018337</td>\n",
       "      <td>0.009021</td>\n",
       "      <td>0.008323</td>\n",
       "    </tr>\n",
       "    <tr>\n",
       "      <th>CSRU</th>\n",
       "      <td>0.039126</td>\n",
       "      <td>0.230929</td>\n",
       "      <td>0.008767</td>\n",
       "      <td>0.011963</td>\n",
       "      <td>0.007491</td>\n",
       "    </tr>\n",
       "    <tr>\n",
       "      <th>MICU</th>\n",
       "      <td>0.039126</td>\n",
       "      <td>0.012852</td>\n",
       "      <td>0.100891</td>\n",
       "      <td>0.036478</td>\n",
       "      <td>0.032043</td>\n",
       "    </tr>\n",
       "    <tr>\n",
       "      <th>SICU</th>\n",
       "      <td>0.012056</td>\n",
       "      <td>0.006633</td>\n",
       "      <td>0.015488</td>\n",
       "      <td>0.083742</td>\n",
       "      <td>0.014149</td>\n",
       "    </tr>\n",
       "    <tr>\n",
       "      <th>TSICU</th>\n",
       "      <td>0.009099</td>\n",
       "      <td>0.003731</td>\n",
       "      <td>0.010520</td>\n",
       "      <td>0.018631</td>\n",
       "      <td>0.110695</td>\n",
       "    </tr>\n",
       "    <tr>\n",
       "      <th>nonicu</th>\n",
       "      <td>0.842129</td>\n",
       "      <td>0.716833</td>\n",
       "      <td>0.845996</td>\n",
       "      <td>0.840165</td>\n",
       "      <td>0.827299</td>\n",
       "    </tr>\n",
       "  </tbody>\n",
       "</table>\n",
       "</div>"
      ],
      "text/plain": [
       "curr_cu       CCU      CSRU      MICU      SICU     TSICU\n",
       "prev_cu                                                  \n",
       "CCU      0.058462  0.029022  0.018337  0.009021  0.008323\n",
       "CSRU     0.039126  0.230929  0.008767  0.011963  0.007491\n",
       "MICU     0.039126  0.012852  0.100891  0.036478  0.032043\n",
       "SICU     0.012056  0.006633  0.015488  0.083742  0.014149\n",
       "TSICU    0.009099  0.003731  0.010520  0.018631  0.110695\n",
       "nonicu   0.842129  0.716833  0.845996  0.840165  0.827299"
      ]
     },
     "execution_count": 22,
     "metadata": {},
     "output_type": "execute_result"
    }
   ],
   "source": [
    "prev_cu = df_trav.prev_cu\n",
    "curr_cu = df_trav.curr_cu\n",
    "pair_prob = pd.crosstab(prev_cu, curr_cu) / pd.crosstab(prev_cu, curr_cu).sum()\n",
    "pair_prob"
   ]
  },
  {
   "cell_type": "code",
   "execution_count": 23,
   "metadata": {
    "collapsed": false
   },
   "outputs": [],
   "source": [
    "df_pairprob = pair_prob.unstack().to_frame(name='prob').reset_index()\n",
    "df_pairprob['trans'] = df_pairprob.prev_cu+'-'+df_pairprob.curr_cu\n",
    "df_pairprob.drop(['curr_cu', 'prev_cu'], axis=1, inplace=True)\n",
    "df_pairprob.set_index('trans', drop=True, inplace=True)\n",
    "# df_pairprob.sort_values('prob', ascending=False).head()"
   ]
  },
  {
   "cell_type": "code",
   "execution_count": 24,
   "metadata": {
    "collapsed": false
   },
   "outputs": [
    {
     "name": "stdout",
     "output_type": "stream",
     "text": [
      "(6160, 26)\n"
     ]
    },
    {
     "data": {
      "text/html": [
       "<div>\n",
       "<table border=\"1\" class=\"dataframe\">\n",
       "  <thead>\n",
       "    <tr style=\"text-align: right;\">\n",
       "      <th></th>\n",
       "      <th>subjectid</th>\n",
       "      <th>icustayid</th>\n",
       "      <th>icu_intime</th>\n",
       "      <th>icu_outtime</th>\n",
       "      <th>readm_days</th>\n",
       "      <th>prev_icustayid</th>\n",
       "      <th>prev_iculos</th>\n",
       "      <th>n_icutrav</th>\n",
       "      <th>curr_cu</th>\n",
       "      <th>prev_cu</th>\n",
       "      <th>...</th>\n",
       "      <th>nonicu-SICU</th>\n",
       "      <th>nonicu-CSRU</th>\n",
       "      <th>nonicu-MICU</th>\n",
       "      <th>MICU-MICU</th>\n",
       "      <th>nonicu-TSICU</th>\n",
       "      <th>nonicu-CCU</th>\n",
       "      <th>TSICU-TSICU</th>\n",
       "      <th>SICU-SICU</th>\n",
       "      <th>CSRU-CSRU</th>\n",
       "      <th>CCU-CCU</th>\n",
       "    </tr>\n",
       "  </thead>\n",
       "  <tbody>\n",
       "    <tr>\n",
       "      <th>0</th>\n",
       "      <td>36</td>\n",
       "      <td>211200</td>\n",
       "      <td>2131-05-16 23:18:26</td>\n",
       "      <td>2131-05-23 19:56:11</td>\n",
       "      <td>11.425</td>\n",
       "      <td>280987</td>\n",
       "      <td>1.1096</td>\n",
       "      <td>3</td>\n",
       "      <td>2</td>\n",
       "      <td>0</td>\n",
       "      <td>...</td>\n",
       "      <td>0.0</td>\n",
       "      <td>0.717</td>\n",
       "      <td>0.000</td>\n",
       "      <td>0.0</td>\n",
       "      <td>0.0</td>\n",
       "      <td>0.0</td>\n",
       "      <td>0.0</td>\n",
       "      <td>0.0</td>\n",
       "      <td>0.462</td>\n",
       "      <td>0.0</td>\n",
       "    </tr>\n",
       "    <tr>\n",
       "      <th>1</th>\n",
       "      <td>41</td>\n",
       "      <td>237024</td>\n",
       "      <td>2133-01-09 12:18:30</td>\n",
       "      <td>2133-01-12 15:51:03</td>\n",
       "      <td>2.845</td>\n",
       "      <td>261027</td>\n",
       "      <td>3.3937</td>\n",
       "      <td>1</td>\n",
       "      <td>2</td>\n",
       "      <td>0</td>\n",
       "      <td>...</td>\n",
       "      <td>0.0</td>\n",
       "      <td>0.717</td>\n",
       "      <td>0.000</td>\n",
       "      <td>0.0</td>\n",
       "      <td>0.0</td>\n",
       "      <td>0.0</td>\n",
       "      <td>0.0</td>\n",
       "      <td>0.0</td>\n",
       "      <td>0.000</td>\n",
       "      <td>0.0</td>\n",
       "    </tr>\n",
       "    <tr>\n",
       "      <th>2</th>\n",
       "      <td>68</td>\n",
       "      <td>225771</td>\n",
       "      <td>2173-12-31 01:52:46</td>\n",
       "      <td>2173-12-31 21:33:34</td>\n",
       "      <td>11.418</td>\n",
       "      <td>294232</td>\n",
       "      <td>3.5368</td>\n",
       "      <td>1</td>\n",
       "      <td>1</td>\n",
       "      <td>0</td>\n",
       "      <td>...</td>\n",
       "      <td>0.0</td>\n",
       "      <td>0.000</td>\n",
       "      <td>0.846</td>\n",
       "      <td>0.0</td>\n",
       "      <td>0.0</td>\n",
       "      <td>0.0</td>\n",
       "      <td>0.0</td>\n",
       "      <td>0.0</td>\n",
       "      <td>0.000</td>\n",
       "      <td>0.0</td>\n",
       "    </tr>\n",
       "    <tr>\n",
       "      <th>3</th>\n",
       "      <td>68</td>\n",
       "      <td>272667</td>\n",
       "      <td>2174-01-08 13:12:06</td>\n",
       "      <td>2174-01-14 22:45:42</td>\n",
       "      <td>7.652</td>\n",
       "      <td>225771</td>\n",
       "      <td>0.8200</td>\n",
       "      <td>1</td>\n",
       "      <td>1</td>\n",
       "      <td>0</td>\n",
       "      <td>...</td>\n",
       "      <td>0.0</td>\n",
       "      <td>0.000</td>\n",
       "      <td>0.846</td>\n",
       "      <td>0.0</td>\n",
       "      <td>0.0</td>\n",
       "      <td>0.0</td>\n",
       "      <td>0.0</td>\n",
       "      <td>0.0</td>\n",
       "      <td>0.000</td>\n",
       "      <td>0.0</td>\n",
       "    </tr>\n",
       "    <tr>\n",
       "      <th>4</th>\n",
       "      <td>91</td>\n",
       "      <td>256972</td>\n",
       "      <td>2177-05-07 03:52:00</td>\n",
       "      <td>2177-05-10 15:16:00</td>\n",
       "      <td>9.576</td>\n",
       "      <td>218528</td>\n",
       "      <td>0.4965</td>\n",
       "      <td>1</td>\n",
       "      <td>1</td>\n",
       "      <td>0</td>\n",
       "      <td>...</td>\n",
       "      <td>0.0</td>\n",
       "      <td>0.000</td>\n",
       "      <td>0.846</td>\n",
       "      <td>0.0</td>\n",
       "      <td>0.0</td>\n",
       "      <td>0.0</td>\n",
       "      <td>0.0</td>\n",
       "      <td>0.0</td>\n",
       "      <td>0.000</td>\n",
       "      <td>0.0</td>\n",
       "    </tr>\n",
       "  </tbody>\n",
       "</table>\n",
       "<p>5 rows × 26 columns</p>\n",
       "</div>"
      ],
      "text/plain": [
       "   subjectid  icustayid          icu_intime         icu_outtime  readm_days  \\\n",
       "0         36     211200 2131-05-16 23:18:26 2131-05-23 19:56:11      11.425   \n",
       "1         41     237024 2133-01-09 12:18:30 2133-01-12 15:51:03       2.845   \n",
       "2         68     225771 2173-12-31 01:52:46 2173-12-31 21:33:34      11.418   \n",
       "3         68     272667 2174-01-08 13:12:06 2174-01-14 22:45:42       7.652   \n",
       "4         91     256972 2177-05-07 03:52:00 2177-05-10 15:16:00       9.576   \n",
       "\n",
       "   prev_icustayid  prev_iculos  n_icutrav  curr_cu  prev_cu   ...     \\\n",
       "0          280987       1.1096          3        2        0   ...      \n",
       "1          261027       3.3937          1        2        0   ...      \n",
       "2          294232       3.5368          1        1        0   ...      \n",
       "3          225771       0.8200          1        1        0   ...      \n",
       "4          218528       0.4965          1        1        0   ...      \n",
       "\n",
       "   nonicu-SICU  nonicu-CSRU  nonicu-MICU  MICU-MICU  nonicu-TSICU  nonicu-CCU  \\\n",
       "0          0.0        0.717        0.000        0.0           0.0         0.0   \n",
       "1          0.0        0.717        0.000        0.0           0.0         0.0   \n",
       "2          0.0        0.000        0.846        0.0           0.0         0.0   \n",
       "3          0.0        0.000        0.846        0.0           0.0         0.0   \n",
       "4          0.0        0.000        0.846        0.0           0.0         0.0   \n",
       "\n",
       "   TSICU-TSICU  SICU-SICU  CSRU-CSRU  CCU-CCU  \n",
       "0          0.0        0.0      0.462      0.0  \n",
       "1          0.0        0.0      0.000      0.0  \n",
       "2          0.0        0.0      0.000      0.0  \n",
       "3          0.0        0.0      0.000      0.0  \n",
       "4          0.0        0.0      0.000      0.0  \n",
       "\n",
       "[5 rows x 26 columns]"
      ]
     },
     "execution_count": 24,
     "metadata": {},
     "output_type": "execute_result"
    }
   ],
   "source": [
    "pairs = ['nonicu-MICU', 'nonicu-SICU', 'nonicu-TSICU', 'nonicu-CSRU',\n",
    "         'MICU-MICU', 'TSICU-TSICU', 'nonicu-CCU', 'CCU-CCU', 'CSRU-CSRU',\n",
    "         'SICU-SICU']\n",
    "\n",
    "for elem in pairs:\n",
    "    df_icustay5[elem].fillna(0, inplace=True)\n",
    "    df_icustay5[elem] = np.round(df_icustay5[elem] * df_pairprob.loc[elem].values[0],3)\n",
    "    \n",
    "print df_icustay5.shape\n",
    "df_icustay5.head()"
   ]
  },
  {
   "cell_type": "markdown",
   "metadata": {},
   "source": [
    "## Response Variable\n",
    "### Average ICU LOS\n",
    "Feature (Response): The average length of stay in the ICU (`icustay_id`) for each patient's hospital admission.\n",
    "  * Feature is the response/dependent variable (`y`)"
   ]
  },
  {
   "cell_type": "code",
   "execution_count": 25,
   "metadata": {
    "collapsed": false,
    "scrolled": true
   },
   "outputs": [
    {
     "name": "stdout",
     "output_type": "stream",
     "text": [
      "(6160, 27)\n"
     ]
    },
    {
     "data": {
      "text/html": [
       "<div>\n",
       "<table border=\"1\" class=\"dataframe\">\n",
       "  <thead>\n",
       "    <tr style=\"text-align: right;\">\n",
       "      <th></th>\n",
       "      <th>subjectid</th>\n",
       "      <th>icustayid</th>\n",
       "      <th>icu_intime</th>\n",
       "      <th>icu_outtime</th>\n",
       "      <th>readm_days</th>\n",
       "      <th>prev_icustayid</th>\n",
       "      <th>prev_iculos</th>\n",
       "      <th>n_icutrav</th>\n",
       "      <th>curr_cu</th>\n",
       "      <th>prev_cu</th>\n",
       "      <th>...</th>\n",
       "      <th>nonicu-CSRU</th>\n",
       "      <th>nonicu-MICU</th>\n",
       "      <th>MICU-MICU</th>\n",
       "      <th>nonicu-TSICU</th>\n",
       "      <th>nonicu-CCU</th>\n",
       "      <th>TSICU-TSICU</th>\n",
       "      <th>SICU-SICU</th>\n",
       "      <th>CSRU-CSRU</th>\n",
       "      <th>CCU-CCU</th>\n",
       "      <th>icu_los</th>\n",
       "    </tr>\n",
       "  </thead>\n",
       "  <tbody>\n",
       "    <tr>\n",
       "      <th>0</th>\n",
       "      <td>36</td>\n",
       "      <td>211200</td>\n",
       "      <td>2131-05-16 23:18:26</td>\n",
       "      <td>2131-05-23 19:56:11</td>\n",
       "      <td>11.425</td>\n",
       "      <td>280987</td>\n",
       "      <td>1.1096</td>\n",
       "      <td>3</td>\n",
       "      <td>2</td>\n",
       "      <td>0</td>\n",
       "      <td>...</td>\n",
       "      <td>0.717</td>\n",
       "      <td>0.000</td>\n",
       "      <td>0.0</td>\n",
       "      <td>0.0</td>\n",
       "      <td>0.0</td>\n",
       "      <td>0.0</td>\n",
       "      <td>0.0</td>\n",
       "      <td>0.462</td>\n",
       "      <td>0.0</td>\n",
       "      <td>6.8595</td>\n",
       "    </tr>\n",
       "    <tr>\n",
       "      <th>1</th>\n",
       "      <td>41</td>\n",
       "      <td>237024</td>\n",
       "      <td>2133-01-09 12:18:30</td>\n",
       "      <td>2133-01-12 15:51:03</td>\n",
       "      <td>2.845</td>\n",
       "      <td>261027</td>\n",
       "      <td>3.3937</td>\n",
       "      <td>1</td>\n",
       "      <td>2</td>\n",
       "      <td>0</td>\n",
       "      <td>...</td>\n",
       "      <td>0.717</td>\n",
       "      <td>0.000</td>\n",
       "      <td>0.0</td>\n",
       "      <td>0.0</td>\n",
       "      <td>0.0</td>\n",
       "      <td>0.0</td>\n",
       "      <td>0.0</td>\n",
       "      <td>0.000</td>\n",
       "      <td>0.0</td>\n",
       "      <td>3.1476</td>\n",
       "    </tr>\n",
       "    <tr>\n",
       "      <th>2</th>\n",
       "      <td>68</td>\n",
       "      <td>225771</td>\n",
       "      <td>2173-12-31 01:52:46</td>\n",
       "      <td>2173-12-31 21:33:34</td>\n",
       "      <td>11.418</td>\n",
       "      <td>294232</td>\n",
       "      <td>3.5368</td>\n",
       "      <td>1</td>\n",
       "      <td>1</td>\n",
       "      <td>0</td>\n",
       "      <td>...</td>\n",
       "      <td>0.000</td>\n",
       "      <td>0.846</td>\n",
       "      <td>0.0</td>\n",
       "      <td>0.0</td>\n",
       "      <td>0.0</td>\n",
       "      <td>0.0</td>\n",
       "      <td>0.0</td>\n",
       "      <td>0.000</td>\n",
       "      <td>0.0</td>\n",
       "      <td>0.8200</td>\n",
       "    </tr>\n",
       "    <tr>\n",
       "      <th>3</th>\n",
       "      <td>68</td>\n",
       "      <td>272667</td>\n",
       "      <td>2174-01-08 13:12:06</td>\n",
       "      <td>2174-01-14 22:45:42</td>\n",
       "      <td>7.652</td>\n",
       "      <td>225771</td>\n",
       "      <td>0.8200</td>\n",
       "      <td>1</td>\n",
       "      <td>1</td>\n",
       "      <td>0</td>\n",
       "      <td>...</td>\n",
       "      <td>0.000</td>\n",
       "      <td>0.846</td>\n",
       "      <td>0.0</td>\n",
       "      <td>0.0</td>\n",
       "      <td>0.0</td>\n",
       "      <td>0.0</td>\n",
       "      <td>0.0</td>\n",
       "      <td>0.000</td>\n",
       "      <td>0.0</td>\n",
       "      <td>6.3983</td>\n",
       "    </tr>\n",
       "    <tr>\n",
       "      <th>4</th>\n",
       "      <td>91</td>\n",
       "      <td>256972</td>\n",
       "      <td>2177-05-07 03:52:00</td>\n",
       "      <td>2177-05-10 15:16:00</td>\n",
       "      <td>9.576</td>\n",
       "      <td>218528</td>\n",
       "      <td>0.4965</td>\n",
       "      <td>1</td>\n",
       "      <td>1</td>\n",
       "      <td>0</td>\n",
       "      <td>...</td>\n",
       "      <td>0.000</td>\n",
       "      <td>0.846</td>\n",
       "      <td>0.0</td>\n",
       "      <td>0.0</td>\n",
       "      <td>0.0</td>\n",
       "      <td>0.0</td>\n",
       "      <td>0.0</td>\n",
       "      <td>0.000</td>\n",
       "      <td>0.0</td>\n",
       "      <td>3.4750</td>\n",
       "    </tr>\n",
       "  </tbody>\n",
       "</table>\n",
       "<p>5 rows × 27 columns</p>\n",
       "</div>"
      ],
      "text/plain": [
       "   subjectid  icustayid          icu_intime         icu_outtime  readm_days  \\\n",
       "0         36     211200 2131-05-16 23:18:26 2131-05-23 19:56:11      11.425   \n",
       "1         41     237024 2133-01-09 12:18:30 2133-01-12 15:51:03       2.845   \n",
       "2         68     225771 2173-12-31 01:52:46 2173-12-31 21:33:34      11.418   \n",
       "3         68     272667 2174-01-08 13:12:06 2174-01-14 22:45:42       7.652   \n",
       "4         91     256972 2177-05-07 03:52:00 2177-05-10 15:16:00       9.576   \n",
       "\n",
       "   prev_icustayid  prev_iculos  n_icutrav  curr_cu  prev_cu   ...     \\\n",
       "0          280987       1.1096          3        2        0   ...      \n",
       "1          261027       3.3937          1        2        0   ...      \n",
       "2          294232       3.5368          1        1        0   ...      \n",
       "3          225771       0.8200          1        1        0   ...      \n",
       "4          218528       0.4965          1        1        0   ...      \n",
       "\n",
       "   nonicu-CSRU  nonicu-MICU  MICU-MICU  nonicu-TSICU  nonicu-CCU  TSICU-TSICU  \\\n",
       "0        0.717        0.000        0.0           0.0         0.0          0.0   \n",
       "1        0.717        0.000        0.0           0.0         0.0          0.0   \n",
       "2        0.000        0.846        0.0           0.0         0.0          0.0   \n",
       "3        0.000        0.846        0.0           0.0         0.0          0.0   \n",
       "4        0.000        0.846        0.0           0.0         0.0          0.0   \n",
       "\n",
       "   SICU-SICU  CSRU-CSRU  CCU-CCU  icu_los  \n",
       "0        0.0      0.462      0.0   6.8595  \n",
       "1        0.0      0.000      0.0   3.1476  \n",
       "2        0.0      0.000      0.0   0.8200  \n",
       "3        0.0      0.000      0.0   6.3983  \n",
       "4        0.0      0.000      0.0   3.4750  \n",
       "\n",
       "[5 rows x 27 columns]"
      ]
     },
     "execution_count": 25,
     "metadata": {},
     "output_type": "execute_result"
    }
   ],
   "source": [
    "q_iculos = \"\"\"SELECT icustay_id, los \n",
    "FROM icustays;\"\"\"\n",
    "\n",
    "iculos = exec_query(q_iculos)\n",
    "df_iculos = pd.DataFrame(iculos, columns=['icustayid', 'icu_los'])\n",
    "\n",
    "df_icustay_f = pd.merge(df_icustay5, df_iculos, on='icustayid', how='left')\n",
    "df_icustay_f.dropna(inplace=True)\n",
    "\n",
    "print df_icustay_f.shape\n",
    "df_icustay_f.head()"
   ]
  },
  {
   "cell_type": "markdown",
   "metadata": {},
   "source": [
    "## Composite Dataset\n",
    "Drop unneeded features that were used for data engineering/feature extraction.\n",
    "  * **`icu_intime`**\n",
    "  * **`icu_outtime`**\n",
    "  * **`prev_icustayid`**"
   ]
  },
  {
   "cell_type": "code",
   "execution_count": 26,
   "metadata": {
    "collapsed": false
   },
   "outputs": [
    {
     "name": "stdout",
     "output_type": "stream",
     "text": [
      "(6160, 24)\n"
     ]
    },
    {
     "data": {
      "text/html": [
       "<div>\n",
       "<table border=\"1\" class=\"dataframe\">\n",
       "  <thead>\n",
       "    <tr style=\"text-align: right;\">\n",
       "      <th></th>\n",
       "      <th>subjectid</th>\n",
       "      <th>icustayid</th>\n",
       "      <th>readm_days</th>\n",
       "      <th>prev_iculos</th>\n",
       "      <th>n_icutrav</th>\n",
       "      <th>curr_cu</th>\n",
       "      <th>prev_cu</th>\n",
       "      <th>prev_ICU</th>\n",
       "      <th>disch_cu</th>\n",
       "      <th>disch_ICU</th>\n",
       "      <th>...</th>\n",
       "      <th>nonicu-CSRU</th>\n",
       "      <th>nonicu-MICU</th>\n",
       "      <th>MICU-MICU</th>\n",
       "      <th>nonicu-TSICU</th>\n",
       "      <th>nonicu-CCU</th>\n",
       "      <th>TSICU-TSICU</th>\n",
       "      <th>SICU-SICU</th>\n",
       "      <th>CSRU-CSRU</th>\n",
       "      <th>CCU-CCU</th>\n",
       "      <th>icu_los</th>\n",
       "    </tr>\n",
       "  </thead>\n",
       "  <tbody>\n",
       "    <tr>\n",
       "      <th>0</th>\n",
       "      <td>36</td>\n",
       "      <td>211200</td>\n",
       "      <td>11.425</td>\n",
       "      <td>1.1096</td>\n",
       "      <td>3</td>\n",
       "      <td>2</td>\n",
       "      <td>0</td>\n",
       "      <td>0</td>\n",
       "      <td>0</td>\n",
       "      <td>0</td>\n",
       "      <td>...</td>\n",
       "      <td>0.717</td>\n",
       "      <td>0.000</td>\n",
       "      <td>0.0</td>\n",
       "      <td>0.0</td>\n",
       "      <td>0.0</td>\n",
       "      <td>0.0</td>\n",
       "      <td>0.0</td>\n",
       "      <td>0.462</td>\n",
       "      <td>0.0</td>\n",
       "      <td>6.8595</td>\n",
       "    </tr>\n",
       "    <tr>\n",
       "      <th>1</th>\n",
       "      <td>41</td>\n",
       "      <td>237024</td>\n",
       "      <td>2.845</td>\n",
       "      <td>3.3937</td>\n",
       "      <td>1</td>\n",
       "      <td>2</td>\n",
       "      <td>0</td>\n",
       "      <td>0</td>\n",
       "      <td>0</td>\n",
       "      <td>0</td>\n",
       "      <td>...</td>\n",
       "      <td>0.717</td>\n",
       "      <td>0.000</td>\n",
       "      <td>0.0</td>\n",
       "      <td>0.0</td>\n",
       "      <td>0.0</td>\n",
       "      <td>0.0</td>\n",
       "      <td>0.0</td>\n",
       "      <td>0.000</td>\n",
       "      <td>0.0</td>\n",
       "      <td>3.1476</td>\n",
       "    </tr>\n",
       "    <tr>\n",
       "      <th>2</th>\n",
       "      <td>68</td>\n",
       "      <td>225771</td>\n",
       "      <td>11.418</td>\n",
       "      <td>3.5368</td>\n",
       "      <td>1</td>\n",
       "      <td>1</td>\n",
       "      <td>0</td>\n",
       "      <td>0</td>\n",
       "      <td>0</td>\n",
       "      <td>0</td>\n",
       "      <td>...</td>\n",
       "      <td>0.000</td>\n",
       "      <td>0.846</td>\n",
       "      <td>0.0</td>\n",
       "      <td>0.0</td>\n",
       "      <td>0.0</td>\n",
       "      <td>0.0</td>\n",
       "      <td>0.0</td>\n",
       "      <td>0.000</td>\n",
       "      <td>0.0</td>\n",
       "      <td>0.8200</td>\n",
       "    </tr>\n",
       "    <tr>\n",
       "      <th>3</th>\n",
       "      <td>68</td>\n",
       "      <td>272667</td>\n",
       "      <td>7.652</td>\n",
       "      <td>0.8200</td>\n",
       "      <td>1</td>\n",
       "      <td>1</td>\n",
       "      <td>0</td>\n",
       "      <td>0</td>\n",
       "      <td>0</td>\n",
       "      <td>0</td>\n",
       "      <td>...</td>\n",
       "      <td>0.000</td>\n",
       "      <td>0.846</td>\n",
       "      <td>0.0</td>\n",
       "      <td>0.0</td>\n",
       "      <td>0.0</td>\n",
       "      <td>0.0</td>\n",
       "      <td>0.0</td>\n",
       "      <td>0.000</td>\n",
       "      <td>0.0</td>\n",
       "      <td>6.3983</td>\n",
       "    </tr>\n",
       "    <tr>\n",
       "      <th>4</th>\n",
       "      <td>91</td>\n",
       "      <td>256972</td>\n",
       "      <td>9.576</td>\n",
       "      <td>0.4965</td>\n",
       "      <td>1</td>\n",
       "      <td>1</td>\n",
       "      <td>0</td>\n",
       "      <td>0</td>\n",
       "      <td>0</td>\n",
       "      <td>0</td>\n",
       "      <td>...</td>\n",
       "      <td>0.000</td>\n",
       "      <td>0.846</td>\n",
       "      <td>0.0</td>\n",
       "      <td>0.0</td>\n",
       "      <td>0.0</td>\n",
       "      <td>0.0</td>\n",
       "      <td>0.0</td>\n",
       "      <td>0.000</td>\n",
       "      <td>0.0</td>\n",
       "      <td>3.4750</td>\n",
       "    </tr>\n",
       "  </tbody>\n",
       "</table>\n",
       "<p>5 rows × 24 columns</p>\n",
       "</div>"
      ],
      "text/plain": [
       "   subjectid  icustayid  readm_days  prev_iculos  n_icutrav  curr_cu  prev_cu  \\\n",
       "0         36     211200      11.425       1.1096          3        2        0   \n",
       "1         41     237024       2.845       3.3937          1        2        0   \n",
       "2         68     225771      11.418       3.5368          1        1        0   \n",
       "3         68     272667       7.652       0.8200          1        1        0   \n",
       "4         91     256972       9.576       0.4965          1        1        0   \n",
       "\n",
       "   prev_ICU  disch_cu  disch_ICU   ...     nonicu-CSRU  nonicu-MICU  \\\n",
       "0         0         0          0   ...           0.717        0.000   \n",
       "1         0         0          0   ...           0.717        0.000   \n",
       "2         0         0          0   ...           0.000        0.846   \n",
       "3         0         0          0   ...           0.000        0.846   \n",
       "4         0         0          0   ...           0.000        0.846   \n",
       "\n",
       "   MICU-MICU  nonicu-TSICU  nonicu-CCU  TSICU-TSICU  SICU-SICU  CSRU-CSRU  \\\n",
       "0        0.0           0.0         0.0          0.0        0.0      0.462   \n",
       "1        0.0           0.0         0.0          0.0        0.0      0.000   \n",
       "2        0.0           0.0         0.0          0.0        0.0      0.000   \n",
       "3        0.0           0.0         0.0          0.0        0.0      0.000   \n",
       "4        0.0           0.0         0.0          0.0        0.0      0.000   \n",
       "\n",
       "   CCU-CCU  icu_los  \n",
       "0      0.0   6.8595  \n",
       "1      0.0   3.1476  \n",
       "2      0.0   0.8200  \n",
       "3      0.0   6.3983  \n",
       "4      0.0   3.4750  \n",
       "\n",
       "[5 rows x 24 columns]"
      ]
     },
     "execution_count": 26,
     "metadata": {},
     "output_type": "execute_result"
    }
   ],
   "source": [
    "df_icustay_f.drop(['icu_intime', 'icu_outtime', 'prev_icustayid'], axis=1, inplace=1)\n",
    "\n",
    "print df_icustay_f.shape\n",
    "df_icustay_f.head()"
   ]
  },
  {
   "cell_type": "code",
   "execution_count": 27,
   "metadata": {
    "collapsed": false
   },
   "outputs": [
    {
     "name": "stdout",
     "output_type": "stream",
     "text": [
      "<class 'pandas.core.frame.DataFrame'>\n",
      "Int64Index: 6160 entries, 0 to 6159\n",
      "Data columns (total 24 columns):\n",
      "subjectid       6160 non-null int64\n",
      "icustayid       6160 non-null int64\n",
      "readm_days      6160 non-null float64\n",
      "prev_iculos     6160 non-null float64\n",
      "n_icutrav       6160 non-null int64\n",
      "curr_cu         6160 non-null int64\n",
      "prev_cu         6160 non-null int64\n",
      "prev_ICU        6160 non-null int64\n",
      "disch_cu        6160 non-null int64\n",
      "disch_ICU       6160 non-null int64\n",
      "icu_in_day      6160 non-null int64\n",
      "icu_out_day     6160 non-null int64\n",
      "intra_risk      6160 non-null int64\n",
      "nonicu-SICU     6160 non-null float64\n",
      "nonicu-CSRU     6160 non-null float64\n",
      "nonicu-MICU     6160 non-null float64\n",
      "MICU-MICU       6160 non-null float64\n",
      "nonicu-TSICU    6160 non-null float64\n",
      "nonicu-CCU      6160 non-null float64\n",
      "TSICU-TSICU     6160 non-null float64\n",
      "SICU-SICU       6160 non-null float64\n",
      "CSRU-CSRU       6160 non-null float64\n",
      "CCU-CCU         6160 non-null float64\n",
      "icu_los         6160 non-null float64\n",
      "dtypes: float64(13), int64(11)\n",
      "memory usage: 1.2 MB\n"
     ]
    }
   ],
   "source": [
    "df_icustay_f.info()"
   ]
  },
  {
   "cell_type": "code",
   "execution_count": 28,
   "metadata": {
    "collapsed": false
   },
   "outputs": [
    {
     "data": {
      "text/html": [
       "<div>\n",
       "<table border=\"1\" class=\"dataframe\">\n",
       "  <thead>\n",
       "    <tr style=\"text-align: right;\">\n",
       "      <th></th>\n",
       "      <th>subjectid</th>\n",
       "      <th>icustayid</th>\n",
       "      <th>readm_days</th>\n",
       "      <th>prev_iculos</th>\n",
       "      <th>n_icutrav</th>\n",
       "      <th>curr_cu</th>\n",
       "      <th>prev_cu</th>\n",
       "      <th>prev_ICU</th>\n",
       "      <th>disch_cu</th>\n",
       "      <th>disch_ICU</th>\n",
       "      <th>...</th>\n",
       "      <th>nonicu-CSRU</th>\n",
       "      <th>nonicu-MICU</th>\n",
       "      <th>MICU-MICU</th>\n",
       "      <th>nonicu-TSICU</th>\n",
       "      <th>nonicu-CCU</th>\n",
       "      <th>TSICU-TSICU</th>\n",
       "      <th>SICU-SICU</th>\n",
       "      <th>CSRU-CSRU</th>\n",
       "      <th>CCU-CCU</th>\n",
       "      <th>icu_los</th>\n",
       "    </tr>\n",
       "  </thead>\n",
       "  <tbody>\n",
       "    <tr>\n",
       "      <th>count</th>\n",
       "      <td>6160.000000</td>\n",
       "      <td>6160.000000</td>\n",
       "      <td>6160.000000</td>\n",
       "      <td>6160.000000</td>\n",
       "      <td>6160.000000</td>\n",
       "      <td>6160.000000</td>\n",
       "      <td>6160.000000</td>\n",
       "      <td>6160.000000</td>\n",
       "      <td>6160.0</td>\n",
       "      <td>6160.0</td>\n",
       "      <td>...</td>\n",
       "      <td>6160.000000</td>\n",
       "      <td>6160.000000</td>\n",
       "      <td>6160.000000</td>\n",
       "      <td>6160.000000</td>\n",
       "      <td>6160.000000</td>\n",
       "      <td>6160.000000</td>\n",
       "      <td>6160.000000</td>\n",
       "      <td>6160.000000</td>\n",
       "      <td>6160.000000</td>\n",
       "      <td>6160.000000</td>\n",
       "    </tr>\n",
       "    <tr>\n",
       "      <th>mean</th>\n",
       "      <td>35899.599026</td>\n",
       "      <td>249426.524026</td>\n",
       "      <td>9.127547</td>\n",
       "      <td>5.150684</td>\n",
       "      <td>1.301299</td>\n",
       "      <td>2.263636</td>\n",
       "      <td>0.000325</td>\n",
       "      <td>0.000162</td>\n",
       "      <td>0.0</td>\n",
       "      <td>0.0</td>\n",
       "      <td>...</td>\n",
       "      <td>0.128501</td>\n",
       "      <td>0.387567</td>\n",
       "      <td>0.004591</td>\n",
       "      <td>0.073978</td>\n",
       "      <td>0.116458</td>\n",
       "      <td>0.000936</td>\n",
       "      <td>0.001812</td>\n",
       "      <td>0.013575</td>\n",
       "      <td>0.000556</td>\n",
       "      <td>5.108498</td>\n",
       "    </tr>\n",
       "    <tr>\n",
       "      <th>std</th>\n",
       "      <td>28844.497122</td>\n",
       "      <td>28899.427910</td>\n",
       "      <td>7.784120</td>\n",
       "      <td>7.588340</td>\n",
       "      <td>0.661220</td>\n",
       "      <td>1.350546</td>\n",
       "      <td>0.025482</td>\n",
       "      <td>0.012741</td>\n",
       "      <td>0.0</td>\n",
       "      <td>0.0</td>\n",
       "      <td>...</td>\n",
       "      <td>0.294932</td>\n",
       "      <td>0.455978</td>\n",
       "      <td>0.024462</td>\n",
       "      <td>0.251552</td>\n",
       "      <td>0.303490</td>\n",
       "      <td>0.012110</td>\n",
       "      <td>0.013520</td>\n",
       "      <td>0.068698</td>\n",
       "      <td>0.006306</td>\n",
       "      <td>7.725125</td>\n",
       "    </tr>\n",
       "    <tr>\n",
       "      <th>min</th>\n",
       "      <td>36.000000</td>\n",
       "      <td>200001.000000</td>\n",
       "      <td>0.001000</td>\n",
       "      <td>0.000100</td>\n",
       "      <td>1.000000</td>\n",
       "      <td>1.000000</td>\n",
       "      <td>0.000000</td>\n",
       "      <td>0.000000</td>\n",
       "      <td>0.0</td>\n",
       "      <td>0.0</td>\n",
       "      <td>...</td>\n",
       "      <td>0.000000</td>\n",
       "      <td>0.000000</td>\n",
       "      <td>0.000000</td>\n",
       "      <td>0.000000</td>\n",
       "      <td>0.000000</td>\n",
       "      <td>0.000000</td>\n",
       "      <td>0.000000</td>\n",
       "      <td>0.000000</td>\n",
       "      <td>0.000000</td>\n",
       "      <td>0.000300</td>\n",
       "    </tr>\n",
       "    <tr>\n",
       "      <th>25%</th>\n",
       "      <td>12847.000000</td>\n",
       "      <td>224024.500000</td>\n",
       "      <td>2.811750</td>\n",
       "      <td>1.403475</td>\n",
       "      <td>1.000000</td>\n",
       "      <td>1.000000</td>\n",
       "      <td>0.000000</td>\n",
       "      <td>0.000000</td>\n",
       "      <td>0.0</td>\n",
       "      <td>0.0</td>\n",
       "      <td>...</td>\n",
       "      <td>0.000000</td>\n",
       "      <td>0.000000</td>\n",
       "      <td>0.000000</td>\n",
       "      <td>0.000000</td>\n",
       "      <td>0.000000</td>\n",
       "      <td>0.000000</td>\n",
       "      <td>0.000000</td>\n",
       "      <td>0.000000</td>\n",
       "      <td>0.000000</td>\n",
       "      <td>1.440675</td>\n",
       "    </tr>\n",
       "    <tr>\n",
       "      <th>50%</th>\n",
       "      <td>26229.000000</td>\n",
       "      <td>249333.500000</td>\n",
       "      <td>6.219000</td>\n",
       "      <td>2.674350</td>\n",
       "      <td>1.000000</td>\n",
       "      <td>2.000000</td>\n",
       "      <td>0.000000</td>\n",
       "      <td>0.000000</td>\n",
       "      <td>0.0</td>\n",
       "      <td>0.0</td>\n",
       "      <td>...</td>\n",
       "      <td>0.000000</td>\n",
       "      <td>0.000000</td>\n",
       "      <td>0.000000</td>\n",
       "      <td>0.000000</td>\n",
       "      <td>0.000000</td>\n",
       "      <td>0.000000</td>\n",
       "      <td>0.000000</td>\n",
       "      <td>0.000000</td>\n",
       "      <td>0.000000</td>\n",
       "      <td>2.741000</td>\n",
       "    </tr>\n",
       "    <tr>\n",
       "      <th>75%</th>\n",
       "      <td>58518.250000</td>\n",
       "      <td>274093.750000</td>\n",
       "      <td>13.956750</td>\n",
       "      <td>5.337550</td>\n",
       "      <td>1.000000</td>\n",
       "      <td>3.000000</td>\n",
       "      <td>0.000000</td>\n",
       "      <td>0.000000</td>\n",
       "      <td>0.0</td>\n",
       "      <td>0.0</td>\n",
       "      <td>...</td>\n",
       "      <td>0.000000</td>\n",
       "      <td>0.846000</td>\n",
       "      <td>0.000000</td>\n",
       "      <td>0.000000</td>\n",
       "      <td>0.000000</td>\n",
       "      <td>0.000000</td>\n",
       "      <td>0.000000</td>\n",
       "      <td>0.000000</td>\n",
       "      <td>0.000000</td>\n",
       "      <td>5.344900</td>\n",
       "    </tr>\n",
       "    <tr>\n",
       "      <th>max</th>\n",
       "      <td>99865.000000</td>\n",
       "      <td>299994.000000</td>\n",
       "      <td>29.997000</td>\n",
       "      <td>116.832700</td>\n",
       "      <td>9.000000</td>\n",
       "      <td>5.000000</td>\n",
       "      <td>2.000000</td>\n",
       "      <td>1.000000</td>\n",
       "      <td>0.0</td>\n",
       "      <td>0.0</td>\n",
       "      <td>...</td>\n",
       "      <td>2.867000</td>\n",
       "      <td>3.384000</td>\n",
       "      <td>0.404000</td>\n",
       "      <td>2.482000</td>\n",
       "      <td>1.684000</td>\n",
       "      <td>0.443000</td>\n",
       "      <td>0.251000</td>\n",
       "      <td>1.155000</td>\n",
       "      <td>0.175000</td>\n",
       "      <td>173.072500</td>\n",
       "    </tr>\n",
       "  </tbody>\n",
       "</table>\n",
       "<p>8 rows × 24 columns</p>\n",
       "</div>"
      ],
      "text/plain": [
       "          subjectid      icustayid   readm_days  prev_iculos    n_icutrav  \\\n",
       "count   6160.000000    6160.000000  6160.000000  6160.000000  6160.000000   \n",
       "mean   35899.599026  249426.524026     9.127547     5.150684     1.301299   \n",
       "std    28844.497122   28899.427910     7.784120     7.588340     0.661220   \n",
       "min       36.000000  200001.000000     0.001000     0.000100     1.000000   \n",
       "25%    12847.000000  224024.500000     2.811750     1.403475     1.000000   \n",
       "50%    26229.000000  249333.500000     6.219000     2.674350     1.000000   \n",
       "75%    58518.250000  274093.750000    13.956750     5.337550     1.000000   \n",
       "max    99865.000000  299994.000000    29.997000   116.832700     9.000000   \n",
       "\n",
       "           curr_cu      prev_cu     prev_ICU  disch_cu  disch_ICU  \\\n",
       "count  6160.000000  6160.000000  6160.000000    6160.0     6160.0   \n",
       "mean      2.263636     0.000325     0.000162       0.0        0.0   \n",
       "std       1.350546     0.025482     0.012741       0.0        0.0   \n",
       "min       1.000000     0.000000     0.000000       0.0        0.0   \n",
       "25%       1.000000     0.000000     0.000000       0.0        0.0   \n",
       "50%       2.000000     0.000000     0.000000       0.0        0.0   \n",
       "75%       3.000000     0.000000     0.000000       0.0        0.0   \n",
       "max       5.000000     2.000000     1.000000       0.0        0.0   \n",
       "\n",
       "          ...       nonicu-CSRU  nonicu-MICU    MICU-MICU  nonicu-TSICU  \\\n",
       "count     ...       6160.000000  6160.000000  6160.000000   6160.000000   \n",
       "mean      ...          0.128501     0.387567     0.004591      0.073978   \n",
       "std       ...          0.294932     0.455978     0.024462      0.251552   \n",
       "min       ...          0.000000     0.000000     0.000000      0.000000   \n",
       "25%       ...          0.000000     0.000000     0.000000      0.000000   \n",
       "50%       ...          0.000000     0.000000     0.000000      0.000000   \n",
       "75%       ...          0.000000     0.846000     0.000000      0.000000   \n",
       "max       ...          2.867000     3.384000     0.404000      2.482000   \n",
       "\n",
       "        nonicu-CCU  TSICU-TSICU    SICU-SICU    CSRU-CSRU      CCU-CCU  \\\n",
       "count  6160.000000  6160.000000  6160.000000  6160.000000  6160.000000   \n",
       "mean      0.116458     0.000936     0.001812     0.013575     0.000556   \n",
       "std       0.303490     0.012110     0.013520     0.068698     0.006306   \n",
       "min       0.000000     0.000000     0.000000     0.000000     0.000000   \n",
       "25%       0.000000     0.000000     0.000000     0.000000     0.000000   \n",
       "50%       0.000000     0.000000     0.000000     0.000000     0.000000   \n",
       "75%       0.000000     0.000000     0.000000     0.000000     0.000000   \n",
       "max       1.684000     0.443000     0.251000     1.155000     0.175000   \n",
       "\n",
       "           icu_los  \n",
       "count  6160.000000  \n",
       "mean      5.108498  \n",
       "std       7.725125  \n",
       "min       0.000300  \n",
       "25%       1.440675  \n",
       "50%       2.741000  \n",
       "75%       5.344900  \n",
       "max     173.072500  \n",
       "\n",
       "[8 rows x 24 columns]"
      ]
     },
     "execution_count": 28,
     "metadata": {},
     "output_type": "execute_result"
    }
   ],
   "source": [
    "df_icustay_f.describe()"
   ]
  },
  {
   "cell_type": "markdown",
   "metadata": {},
   "source": [
    "# Predictive Modeling"
   ]
  },
  {
   "cell_type": "code",
   "execution_count": 29,
   "metadata": {
    "collapsed": false
   },
   "outputs": [
    {
     "name": "stderr",
     "output_type": "stream",
     "text": [
      "/home/cpnguyen/Enthought/Canopy_64bit/User/lib/python2.7/site-packages/sklearn/cross_validation.py:44: DeprecationWarning: This module was deprecated in version 0.18 in favor of the model_selection module into which all the refactored classes and functions are moved. Also note that the interface of the new CV iterators are different from that of this module. This module will be removed in 0.20.\n",
      "  \"This module will be removed in 0.20.\", DeprecationWarning)\n",
      "/home/cpnguyen/Enthought/Canopy_64bit/User/lib/python2.7/site-packages/sklearn/grid_search.py:43: DeprecationWarning: This module was deprecated in version 0.18 in favor of the model_selection module into which all the refactored classes and functions are moved. This module will be removed in 0.20.\n",
      "  DeprecationWarning)\n"
     ]
    }
   ],
   "source": [
    "import sys, os\n",
    "src_abspath = os.path.abspath(os.path.join(os.path.split(os.getcwd())[0], 'src'))\n",
    "sys.path.append(src_abspath)\n",
    "from db import *\n",
    "from clf import *"
   ]
  },
  {
   "cell_type": "code",
   "execution_count": 30,
   "metadata": {
    "collapsed": true
   },
   "outputs": [],
   "source": [
    "am_debugging = True\n",
    "if am_debugging:\n",
    "    np.random.seed(2)\n",
    "else:\n",
    "    np.random.seed()"
   ]
  },
  {
   "cell_type": "markdown",
   "metadata": {},
   "source": [
    "#### Partition: Training & Testing Sets"
   ]
  },
  {
   "cell_type": "code",
   "execution_count": 31,
   "metadata": {
    "collapsed": false
   },
   "outputs": [
    {
     "data": {
      "text/plain": [
       "((700, 23), (300, 23), (700,), (300,))"
      ]
     },
     "execution_count": 31,
     "metadata": {},
     "output_type": "execute_result"
    }
   ],
   "source": [
    "data = df_icustay_f.copy().iloc[:1000, :]\n",
    "X_train, X_test, y_train, y_test = data_partition(data)\n",
    "\n",
    "X_train.shape, X_test.shape, y_train.shape, y_test.shape"
   ]
  },
  {
   "cell_type": "markdown",
   "metadata": {},
   "source": [
    "#### Normalization"
   ]
  },
  {
   "cell_type": "code",
   "execution_count": 32,
   "metadata": {
    "collapsed": false
   },
   "outputs": [],
   "source": [
    "scaled_X_train, scaled_X_test = scale(X_train, X_test)"
   ]
  },
  {
   "cell_type": "markdown",
   "metadata": {},
   "source": [
    "#### Feature Selection"
   ]
  },
  {
   "cell_type": "code",
   "execution_count": 33,
   "metadata": {
    "collapsed": true
   },
   "outputs": [],
   "source": [
    "pass"
   ]
  },
  {
   "cell_type": "markdown",
   "metadata": {},
   "source": [
    "## Model: Linear Regression"
   ]
  },
  {
   "cell_type": "code",
   "execution_count": 34,
   "metadata": {
    "collapsed": false,
    "scrolled": true
   },
   "outputs": [
    {
     "name": "stdout",
     "output_type": "stream",
     "text": [
      "Best Parameters:  {'kernel': 'linear', 'C': 1000, 'gamma': 0.0001}\n",
      "Best Grid Search Score:  0.0510005223002\n",
      "Best Estimator:  SVR(C=1000, cache_size=200, coef0=0.0, degree=3, epsilon=0.1, gamma=0.0001,\n",
      "  kernel='linear', max_iter=-1, shrinking=True, tol=0.001, verbose=False) \n",
      "\n"
     ]
    }
   ],
   "source": [
    "clf_model, y_pred, best_p, best_score = gridsearch(scaled_X_train, scaled_X_test, y_train)\n",
    "print \"Best Parameters: \", best_p\n",
    "print \"Best Grid Search Score: \", best_score\n",
    "print \"Best Estimator: \", clf_model, \"\\n\""
   ]
  },
  {
   "cell_type": "markdown",
   "metadata": {},
   "source": [
    "#### Compare Predictions"
   ]
  },
  {
   "cell_type": "code",
   "execution_count": 35,
   "metadata": {
    "collapsed": false
   },
   "outputs": [
    {
     "data": {
      "text/plain": [
       "array([  2.53905234,   2.55147744,   6.33025238,   2.33192863,\n",
       "         2.53241604,   2.83256744,  13.31739346,   2.91845799,\n",
       "         1.55092954,   6.40806963])"
      ]
     },
     "execution_count": 35,
     "metadata": {},
     "output_type": "execute_result"
    }
   ],
   "source": [
    "y_pred[-10:]"
   ]
  },
  {
   "cell_type": "code",
   "execution_count": 36,
   "metadata": {
    "collapsed": false
   },
   "outputs": [
    {
     "data": {
      "text/plain": [
       "array([  4.6149,   6.8684,  13.8397,   0.3632,   1.6397,   3.0585,\n",
       "         3.0521,   0.2826,   3.5426,   0.8828])"
      ]
     },
     "execution_count": 36,
     "metadata": {},
     "output_type": "execute_result"
    }
   ],
   "source": [
    "y_test[-10:]"
   ]
  },
  {
   "cell_type": "markdown",
   "metadata": {},
   "source": [
    "### Metrics\n",
    "\n",
    "#### Root Mean Squared Error (RMSE)\n",
    "Indicates the *absolute fit* of the model to the data. In other words, how close the observed data points are to the model's predicted values.\n",
    "\n",
    "Also, it is the standard deviation of unexplained variance (residuals)."
   ]
  },
  {
   "cell_type": "code",
   "execution_count": 37,
   "metadata": {
    "collapsed": false
   },
   "outputs": [
    {
     "name": "stdout",
     "output_type": "stream",
     "text": [
      "RMSE = 10.684 days\n"
     ]
    }
   ],
   "source": [
    "rmse = RMSE(y_pred, y_test)\n",
    "print \"RMSE = %.3f days\" % rmse"
   ]
  },
  {
   "cell_type": "code",
   "execution_count": 38,
   "metadata": {
    "collapsed": false
   },
   "outputs": [
    {
     "name": "stdout",
     "output_type": "stream",
     "text": [
      "[0.00,71.01]\n"
     ]
    }
   ],
   "source": [
    "print \"[%.2f,%.2f]\" % (y_test.min(), y_test.max())"
   ]
  },
  {
   "cell_type": "markdown",
   "metadata": {
    "collapsed": true
   },
   "source": [
    "The linear regression model has an RMSE value of 10.68 days. The value is somewhat small relative to the range of the `dependent variable` (average ICU LOS). Thus, indicating that model has decent accuracy in predicting the response."
   ]
  },
  {
   "cell_type": "markdown",
   "metadata": {},
   "source": [
    "#### Mean Absolute Error\n",
    "The Mean Absolute Error measures how close the model's predictions are to the observed values."
   ]
  },
  {
   "cell_type": "code",
   "execution_count": 39,
   "metadata": {
    "collapsed": false
   },
   "outputs": [
    {
     "name": "stdout",
     "output_type": "stream",
     "text": [
      "MAE = 1.643 days\n"
     ]
    }
   ],
   "source": [
    "mae = MAE(y_pred, y_test)\n",
    "print \"MAE = %.3f days\" % mae"
   ]
  },
  {
   "cell_type": "markdown",
   "metadata": {
    "collapsed": true
   },
   "source": [
    "The average difference between prediction and observation is 1.64 days, which is low."
   ]
  },
  {
   "cell_type": "markdown",
   "metadata": {},
   "source": [
    "#### R<sup>2</sup>: Coefficient of Determination\n",
    "R<sup>2</sup> quantifies the goodness of fit of the linear model. More specifically, it depicts the predictive power of the model.\n",
    "\n",
    "Range: [0, 1]"
   ]
  },
  {
   "cell_type": "code",
   "execution_count": 40,
   "metadata": {
    "collapsed": false
   },
   "outputs": [
    {
     "data": {
      "text/plain": [
       "0.074394243452860609"
      ]
     },
     "execution_count": 40,
     "metadata": {},
     "output_type": "execute_result"
    }
   ],
   "source": [
    "r2(y_pred, y_test)"
   ]
  },
  {
   "cell_type": "markdown",
   "metadata": {
    "collapsed": true
   },
   "source": [
    "The R<sup>2</sup> value is approximately 0.074, which is low and indicates that the model does not have strong predictive power."
   ]
  },
  {
   "cell_type": "markdown",
   "metadata": {},
   "source": [
    "## Model: Support Vector Regression"
   ]
  },
  {
   "cell_type": "code",
   "execution_count": 41,
   "metadata": {
    "collapsed": true
   },
   "outputs": [],
   "source": [
    "def gridsearch(X_train, X_test, y_train):\n",
    "    \"\"\"\n",
    "    Function determines the optimal parameters of the best classifier model/estimator by performing a grid search.\n",
    "    The best model will be fitted with the Training set and subsequently used to predict the classification/labels\n",
    "    of the Testing set. The function returns the \"best\" classifier instance, classifier predictions, best parameters,\n",
    "    and grid score.\n",
    "\n",
    "    :param X_train: Training set features\n",
    "    :param X_test: Testing set features\n",
    "    :param y_train: Training set labels\n",
    "    :return: tuple of (best classifier instance, clf predictions, dict of best parameters, grid score)\n",
    "    \"\"\"\n",
    "    # Parameter Grid - dictionary of parameters (map parameter names to values to be searched)\n",
    "    param_grid = [\n",
    "        {'C': [0.01, 0.1, 1, 10, 100, 1000], 'gamma': [0.0001, 0.001, 0.01, 0.1, 1, 10], 'kernel': ['linear']},\n",
    "        {'C': [0.01, 0.1, 1, 10, 100, 1000], 'gamma': [0.0001, 0.001, 0.01, 0.1, 1, 10], 'kernel': ['rbf']},\n",
    "        {'C':[0.01, 0.1, 1, 10, 100, 1000], 'gamma': [0.0001, 0.001, 0.01, 0.1, 1, 10], 'degree': [2], 'kernel': ['poly']}\n",
    "    ]\n",
    "\n",
    "    \n",
    "    # Blank clf instance\n",
    "    blank_clf = SVR()\n",
    "\n",
    "    # Grid Search - Hyperparameters Optimization\n",
    "    clf = grid_search.GridSearchCV(blank_clf, param_grid, n_jobs=-1)  # classifier + optimal parameters\n",
    "    clf = clf.fit(X_train, y_train)  # fitted classifier\n",
    "    best_est = clf.best_estimator_\n",
    "    clf_pred = best_est.predict(X_test)\n",
    "\n",
    "    best_params = clf.best_params_  # best parameters identified by grid search\n",
    "    score = clf.best_score_  # best grid score\n",
    "    return (best_est, clf_pred, best_params, score)"
   ]
  },
  {
   "cell_type": "code",
   "execution_count": 42,
   "metadata": {
    "collapsed": false
   },
   "outputs": [
    {
     "name": "stdout",
     "output_type": "stream",
     "text": [
      "Best Parameters:  {'kernel': 'linear', 'C': 1000, 'gamma': 0.0001}\n",
      "Best Grid Search Score:  0.0510005223002\n",
      "Best Estimator:  SVR(C=1000, cache_size=200, coef0=0.0, degree=3, epsilon=0.1, gamma=0.0001,\n",
      "  kernel='linear', max_iter=-1, shrinking=True, tol=0.001, verbose=False) \n",
      "\n"
     ]
    }
   ],
   "source": [
    "svr_model, svr_pred, svr_p, svr_score = gridsearch(scaled_X_train, scaled_X_test, y_train)\n",
    "print \"Best Parameters: \", svr_p\n",
    "print \"Best Grid Search Score: \", svr_score\n",
    "print \"Best Estimator: \", svr_model, \"\\n\""
   ]
  },
  {
   "cell_type": "markdown",
   "metadata": {},
   "source": [
    "Linear kernel was determined to be the most optimal for SVR model. Thus, the model is similar to Linear Regression."
   ]
  },
  {
   "cell_type": "markdown",
   "metadata": {},
   "source": [
    "#### Compare Predictions"
   ]
  },
  {
   "cell_type": "code",
   "execution_count": 43,
   "metadata": {
    "collapsed": false
   },
   "outputs": [
    {
     "data": {
      "text/plain": [
       "array([  2.53905234,   2.55147744,   6.33025238,   2.33192863,\n",
       "         2.53241604,   2.83256744,  13.31739346,   2.91845799,\n",
       "         1.55092954,   6.40806963])"
      ]
     },
     "execution_count": 43,
     "metadata": {},
     "output_type": "execute_result"
    }
   ],
   "source": [
    "svr_pred[-10:]"
   ]
  },
  {
   "cell_type": "code",
   "execution_count": 44,
   "metadata": {
    "collapsed": false
   },
   "outputs": [
    {
     "data": {
      "text/plain": [
       "array([  4.6149,   6.8684,  13.8397,   0.3632,   1.6397,   3.0585,\n",
       "         3.0521,   0.2826,   3.5426,   0.8828])"
      ]
     },
     "execution_count": 44,
     "metadata": {},
     "output_type": "execute_result"
    }
   ],
   "source": [
    "y_test[-10:]"
   ]
  },
  {
   "cell_type": "markdown",
   "metadata": {},
   "source": [
    "### Metrics\n",
    "\n",
    "#### Root Mean Squared Error (RMSE)\n",
    "Indicates the *absolute fit* of the model to the data. In other words, how close the observed data points are to the model's predicted values.\n",
    "\n",
    "Also, it is the standard deviation of unexplained variance (residuals)."
   ]
  },
  {
   "cell_type": "code",
   "execution_count": 45,
   "metadata": {
    "collapsed": false
   },
   "outputs": [
    {
     "name": "stdout",
     "output_type": "stream",
     "text": [
      "RMSE = 10.684 days\n"
     ]
    }
   ],
   "source": [
    "rmse = RMSE(svr_pred, y_test)\n",
    "print \"RMSE = %.3f days\" % rmse"
   ]
  },
  {
   "cell_type": "code",
   "execution_count": 46,
   "metadata": {
    "collapsed": false
   },
   "outputs": [
    {
     "name": "stdout",
     "output_type": "stream",
     "text": [
      "[0.00,71.01]\n"
     ]
    }
   ],
   "source": [
    "print \"[%.2f,%.2f]\" % (y_test.min(), y_test.max())"
   ]
  },
  {
   "cell_type": "markdown",
   "metadata": {},
   "source": [
    "The SVR model has an RMSE value of 10.68 days. The value is somewhat small relative to the range of the `dependent variable` (average ICU LOS). Thus, indicating that model has decent accuracy in predicting the response."
   ]
  },
  {
   "cell_type": "markdown",
   "metadata": {},
   "source": [
    "#### Mean Absolute Error\n",
    "The Mean Absolute Error measures how close the model's predictions are to the observed values."
   ]
  },
  {
   "cell_type": "code",
   "execution_count": 47,
   "metadata": {
    "collapsed": false
   },
   "outputs": [
    {
     "name": "stdout",
     "output_type": "stream",
     "text": [
      "MAE = 1.643 days\n"
     ]
    }
   ],
   "source": [
    "mae = MAE(svr_pred, y_test)\n",
    "print \"MAE = %.3f days\" % mae"
   ]
  },
  {
   "cell_type": "markdown",
   "metadata": {},
   "source": [
    "The average difference between prediction and observation is 1.64 days, which is low."
   ]
  },
  {
   "cell_type": "markdown",
   "metadata": {},
   "source": [
    "#### R<sup>2</sup>: Coefficient of Determination\n",
    "R<sup>2</sup> quantifies the goodness of fit of the linear model. More specifically, it depicts the predictive power of the model.\n",
    "\n",
    "Range: [0, 1]"
   ]
  },
  {
   "cell_type": "code",
   "execution_count": 48,
   "metadata": {
    "collapsed": false
   },
   "outputs": [
    {
     "data": {
      "text/plain": [
       "0.074394243452860609"
      ]
     },
     "execution_count": 48,
     "metadata": {},
     "output_type": "execute_result"
    }
   ],
   "source": [
    "r2(svr_pred, y_test)"
   ]
  },
  {
   "cell_type": "markdown",
   "metadata": {},
   "source": [
    "The R<sup>2</sup> value is approximately 0.074, which is low and indicates that the model does not have strong predictive power."
   ]
  }
 ],
 "metadata": {
  "kernelspec": {
   "display_name": "Python 2",
   "language": "python",
   "name": "python2"
  },
  "language_info": {
   "codemirror_mode": {
    "name": "ipython",
    "version": 2
   },
   "file_extension": ".py",
   "mimetype": "text/x-python",
   "name": "python",
   "nbconvert_exporter": "python",
   "pygments_lexer": "ipython2",
   "version": "2.7.11"
  }
 },
 "nbformat": 4,
 "nbformat_minor": 2
}
