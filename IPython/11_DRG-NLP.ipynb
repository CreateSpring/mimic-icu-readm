{
 "cells": [
  {
   "cell_type": "markdown",
   "metadata": {},
   "source": [
    "# Week 11: DRG - NLP\n",
    "\n",
    "### May 4, 2017\n",
    "\n",
    "#### Objectives\n",
    "  1. Explore if stratifying the model into sub-models specific to diseases yields improvements in the models' performance.\n",
    "  2. Explore NLP tokenization as an alternative approach to grouping diseases based on DRG code description."
   ]
  },
  {
   "cell_type": "code",
   "execution_count": 1,
   "metadata": {
    "collapsed": false,
    "scrolled": true
   },
   "outputs": [
    {
     "name": "stderr",
     "output_type": "stream",
     "text": [
      "/anaconda/lib/python2.7/site-packages/sklearn/cross_validation.py:44: DeprecationWarning: This module was deprecated in version 0.18 in favor of the model_selection module into which all the refactored classes and functions are moved. Also note that the interface of the new CV iterators are different from that of this module. This module will be removed in 0.20.\n",
      "  \"This module will be removed in 0.20.\", DeprecationWarning)\n",
      "/anaconda/lib/python2.7/site-packages/sklearn/grid_search.py:43: DeprecationWarning: This module was deprecated in version 0.18 in favor of the model_selection module into which all the refactored classes and functions are moved. This module will be removed in 0.20.\n",
      "  DeprecationWarning)\n"
     ]
    }
   ],
   "source": [
    "import psycopg2\n",
    "from psycopg2 import extras\n",
    "import sys, os\n",
    "import numpy as np\n",
    "import pandas as pd\n",
    "from scipy import stats\n",
    "import itertools\n",
    "from sklearn import grid_search\n",
    "from sklearn.utils import resample\n",
    "from sklearn.linear_model import LinearRegression\n",
    "from sklearn.svm import SVR\n",
    "from sklearn.neighbors import KNeighborsRegressor\n",
    "from sklearn.ensemble import RandomForestRegressor, GradientBoostingRegressor\n",
    "from sklearn.preprocessing import StandardScaler\n",
    "from sklearn.feature_selection import SelectKBest, f_regression\n",
    "from sklearn.metrics import mean_absolute_error, mean_squared_error, r2_score, silhouette_score\n",
    "from sklearn.decomposition import PCA\n",
    "from sklearn.cluster import KMeans\n",
    "import matplotlib.pyplot as plt\n",
    "import seaborn as sns\n",
    "import difflib\n",
    "\n",
    "%matplotlib inline"
   ]
  },
  {
   "cell_type": "code",
   "execution_count": 2,
   "metadata": {
    "collapsed": false,
    "scrolled": true
   },
   "outputs": [],
   "source": [
    "def cursor_connect(cursor_factory=None):\n",
    "    \"\"\"\n",
    "    Connects to the DB and returns the connection and cursor, ready to use.\n",
    "    \n",
    "    Parameters\n",
    "    ----------\n",
    "    cursor_factory : psycopg2.extras\n",
    "    \n",
    "    Returns\n",
    "    -------\n",
    "    (psycopg2.extensions.connection, psycopg2.extensions.cursor)\n",
    "        A tuple of (psycopg2 connection, psycopg2 cursor).\n",
    "    \"\"\"\n",
    "    #DB connection\n",
    "    conn = psycopg2.connect(dbname=\"mimic\", user=\"mimic\", host=\"172.31.28.5\",\n",
    "                            password=\"mimic\")\n",
    "    if not cursor_factory:\n",
    "        cur = conn.cursor()\n",
    "    else:\n",
    "        cur = conn.cursor(cursor_factory=cursor_factory)\n",
    "    return conn, cur\n",
    "\n",
    "def exec_query(query, curs_dict=False):\n",
    "    \"\"\"\n",
    "    Execute query and returns the SQL output.\n",
    "    \n",
    "    Parameters\n",
    "    ----------\n",
    "    query: string containing SQL SELECT command\n",
    "    curs_dict: dict cursor factory (output is dict)\n",
    "    \n",
    "    Returns\n",
    "    -------\n",
    "    rows: list of rows/records (SQL output)\n",
    "    \"\"\"\n",
    "    if curs_dict == True: \n",
    "        conn, cur = cursor_connect(psycopg2.extras.DictCursor)\n",
    "    else:\n",
    "        conn, cur = cursor_connect()\n",
    "    cur.execute('SET search_path TO mimiciii;')\n",
    "    cur.execute(query)\n",
    "    rows = cur.fetchall()\n",
    "    return rows"
   ]
  },
  {
   "cell_type": "markdown",
   "metadata": {},
   "source": [
    "# Dataset\n",
    "\n",
    "## Interval: 30 Days\n",
    "Patients' ICU admissions within the last 30 days from the current ICU stay.\n",
    "\n",
    "## Exclusion Criteria\n",
    "1. Minors\n",
    "\n",
    "## Features (`X`)\n",
    "\n",
    "### Operations\n",
    "* **`subjectid`**: subject ID of patients\n",
    "* **`icustayid`**: ID of a unique ICU stay\n",
    "* **`readm_days`**: number of days since discharge of previous ICU stay\n",
    "* **`prev_iculos`**: total length of stay (LOS) of the previous unique ICU stay\n",
    "* **`age`**: age of patient at the times of ICU admission\n",
    "* **`ethnicity`**: categorical feature indicating ethnicity group\n",
    "* **`marital_status`**: categorical feature indicating marital status.\n",
    "* **`insurance`**: categorical feature indicating insurance type.\n",
    "* **`NonEnglish`**: binary feature indicating non-english speaker.\n",
    "* **`N`<sub>icutrav</sub>**: the number of total intra-ICU ward transfers (non-unique ICU stays)\n",
    "* **`prev_cu`**: categorical feature indicating previous care unit\n",
    "* **`curr_cu`**: categorical feature indicating current care unit\n",
    "* **`prev_ICU`**: binary feature indicating if previous care unit was an ICU type\n",
    "* **`disch_cu`**: categorical feature indicating discharge care unit from ICU stay\n",
    "* **`disch_ICU`**: binary feature indicating if discharge care unit was an ICU type\n",
    "* **`icu_in_day`**: time of ICU admission (day/night)\n",
    "* **`icu_out_day`**: time of ICU discharge (day/night)\n",
    "* **`readm_risk`**: risk score of intra-patient unique ICU readmissions\n",
    "* Transfer Pairs\n",
    "    * **`nonicu-MICU`**\t\n",
    "    * **`nonicu-SICU`**\t\n",
    "    * **`nonicu-TSICU`**\t\n",
    "    * **`nonicu-CSRU`**\t\n",
    "    * **`MICU-MICU`**\t\n",
    "    * **`TSICU-TSICU`**\t\n",
    "    * **`nonicu-CCU`**\t\n",
    "    * **`CCU-CCU`**\n",
    "    * **`CSRU-CSRU`**\t\n",
    "    * **`SICU-SICU`**\t\n",
    "    \n",
    "### Clinical\n",
    "  * **Surgical Patients**: binary feature indicating the presence of surgery during an ICU stay \n",
    "  * **Abnormal Hemoglobin**: binary feature indicating the presence of abnormal hemoglobin results\n",
    "  * **HADM Procedures**: series of binary features indicating presence of procedures during hospital admission.\n",
    " \n",
    "## Dependent Variables/Response (`Y`) \n",
    "  * **`icu_los`**: ICU length of stay"
   ]
  },
  {
   "cell_type": "markdown",
   "metadata": {},
   "source": [
    "### Unique ICU stays\n",
    "\n",
    "Features:\n",
    "  * **`subjectid`**: subject ID of patients\n",
    "  * **`icustaysid`**: ID of a unique ICU stay\n",
    "  * **`readm_days`**: number of days since discharge of previous ICU stay to admission of current ICU stay (ICU readmission)"
   ]
  },
  {
   "cell_type": "code",
   "execution_count": 3,
   "metadata": {
    "collapsed": true,
    "scrolled": true
   },
   "outputs": [],
   "source": [
    "def prev_icutime(data):\n",
    "    if data['readm_days'] == np.nan:\n",
    "        pass\n",
    "    else:\n",
    "        prev_icutime = data['icu_intime'] - data['readm_days'] # time of previous ICU discharge/transfer\n",
    "        return prev_icutime"
   ]
  },
  {
   "cell_type": "code",
   "execution_count": 4,
   "metadata": {
    "collapsed": false,
    "scrolled": true
   },
   "outputs": [
    {
     "name": "stdout",
     "output_type": "stream",
     "text": [
      "(61532, 7)\n"
     ]
    },
    {
     "data": {
      "text/html": [
       "<div>\n",
       "<table border=\"1\" class=\"dataframe\">\n",
       "  <thead>\n",
       "    <tr style=\"text-align: right;\">\n",
       "      <th></th>\n",
       "      <th>subjectid</th>\n",
       "      <th>hadmid</th>\n",
       "      <th>icustayid</th>\n",
       "      <th>icu_intime</th>\n",
       "      <th>icu_outtime</th>\n",
       "      <th>readm_days</th>\n",
       "      <th>icu_prev_outtime</th>\n",
       "    </tr>\n",
       "  </thead>\n",
       "  <tbody>\n",
       "    <tr>\n",
       "      <th>0</th>\n",
       "      <td>2</td>\n",
       "      <td>163353</td>\n",
       "      <td>243653</td>\n",
       "      <td>2138-07-17 21:20:07</td>\n",
       "      <td>2138-07-17 23:32:21</td>\n",
       "      <td>NaN</td>\n",
       "      <td>NaT</td>\n",
       "    </tr>\n",
       "    <tr>\n",
       "      <th>1</th>\n",
       "      <td>3</td>\n",
       "      <td>145834</td>\n",
       "      <td>211552</td>\n",
       "      <td>2101-10-20 19:10:11</td>\n",
       "      <td>2101-10-26 20:43:09</td>\n",
       "      <td>NaN</td>\n",
       "      <td>NaT</td>\n",
       "    </tr>\n",
       "    <tr>\n",
       "      <th>2</th>\n",
       "      <td>4</td>\n",
       "      <td>185777</td>\n",
       "      <td>294638</td>\n",
       "      <td>2191-03-16 00:29:31</td>\n",
       "      <td>2191-03-17 16:46:31</td>\n",
       "      <td>NaN</td>\n",
       "      <td>NaT</td>\n",
       "    </tr>\n",
       "    <tr>\n",
       "      <th>3</th>\n",
       "      <td>5</td>\n",
       "      <td>178980</td>\n",
       "      <td>214757</td>\n",
       "      <td>2103-02-02 06:04:24</td>\n",
       "      <td>2103-02-02 08:06:00</td>\n",
       "      <td>NaN</td>\n",
       "      <td>NaT</td>\n",
       "    </tr>\n",
       "    <tr>\n",
       "      <th>4</th>\n",
       "      <td>6</td>\n",
       "      <td>107064</td>\n",
       "      <td>228232</td>\n",
       "      <td>2175-05-30 21:30:54</td>\n",
       "      <td>2175-06-03 13:39:54</td>\n",
       "      <td>NaN</td>\n",
       "      <td>NaT</td>\n",
       "    </tr>\n",
       "  </tbody>\n",
       "</table>\n",
       "</div>"
      ],
      "text/plain": [
       "   subjectid  hadmid  icustayid          icu_intime         icu_outtime  \\\n",
       "0          2  163353     243653 2138-07-17 21:20:07 2138-07-17 23:32:21   \n",
       "1          3  145834     211552 2101-10-20 19:10:11 2101-10-26 20:43:09   \n",
       "2          4  185777     294638 2191-03-16 00:29:31 2191-03-17 16:46:31   \n",
       "3          5  178980     214757 2103-02-02 06:04:24 2103-02-02 08:06:00   \n",
       "4          6  107064     228232 2175-05-30 21:30:54 2175-06-03 13:39:54   \n",
       "\n",
       "   readm_days icu_prev_outtime  \n",
       "0         NaN              NaT  \n",
       "1         NaN              NaT  \n",
       "2         NaN              NaT  \n",
       "3         NaN              NaT  \n",
       "4         NaN              NaT  "
      ]
     },
     "execution_count": 4,
     "metadata": {},
     "output_type": "execute_result"
    }
   ],
   "source": [
    "# query\n",
    "q_icustay=\"\"\"SELECT subject_id, hadm_id, icustay_id, min_in, max_out,\n",
    "min_in - lag(max_out)\n",
    "OVER (PARTITION BY subject_id ORDER BY min_in) AS diff\n",
    "FROM\n",
    "(SELECT subject_id, hadm_id, icustay_id, \n",
    "MIN(intime) as min_in, MAX(outtime) AS max_out\n",
    "FROM transfers\n",
    "WHERE icustay_id IS NOT NULL\n",
    "GROUP BY subject_id, hadm_id, icustay_id) as sub_q\n",
    "ORDER BY subject_id\n",
    "\"\"\"\n",
    "\n",
    "# Query output\n",
    "icustay = exec_query(q_icustay)\n",
    "df_icustay = pd.DataFrame(icustay, columns=['subjectid', 'hadmid', 'icustayid', \n",
    "                                            'icu_intime', # first unique ICU admission time \n",
    "                                            'icu_outtime', #  unique ICU discharge time\n",
    "                                            'readm_days']) # number of days since last ICU discharge/transfer\n",
    "\n",
    "df_icustay['icu_prev_outtime'] = df_icustay.apply(prev_icutime, axis=1)\n",
    "# df_icustay.readm_days.fillna(0, inplace=True)\n",
    "df_icustay.readm_days.dropna(inplace=True)\n",
    "df_icustay['readm_days'] = np.round(df_icustay['readm_days'].astype(int) * (1/8.64e13), 3)\n",
    "print df_icustay.shape\n",
    "df_icustay.head()"
   ]
  },
  {
   "cell_type": "markdown",
   "metadata": {},
   "source": [
    "Filter for patients with ICU readmissions."
   ]
  },
  {
   "cell_type": "code",
   "execution_count": 5,
   "metadata": {
    "collapsed": false,
    "scrolled": true
   },
   "outputs": [
    {
     "name": "stdout",
     "output_type": "stream",
     "text": [
      "(23811, 7)\n"
     ]
    },
    {
     "data": {
      "text/html": [
       "<div>\n",
       "<table border=\"1\" class=\"dataframe\">\n",
       "  <thead>\n",
       "    <tr style=\"text-align: right;\">\n",
       "      <th></th>\n",
       "      <th>subjectid</th>\n",
       "      <th>hadmid</th>\n",
       "      <th>icustayid</th>\n",
       "      <th>icu_intime</th>\n",
       "      <th>icu_outtime</th>\n",
       "      <th>readm_days</th>\n",
       "      <th>icu_prev_outtime</th>\n",
       "    </tr>\n",
       "  </thead>\n",
       "  <tbody>\n",
       "    <tr>\n",
       "      <th>5</th>\n",
       "      <td>7</td>\n",
       "      <td>118037</td>\n",
       "      <td>278444</td>\n",
       "      <td>2121-05-23 15:35:29</td>\n",
       "      <td>2121-05-23 22:01:00</td>\n",
       "      <td>NaN</td>\n",
       "      <td>NaT</td>\n",
       "    </tr>\n",
       "    <tr>\n",
       "      <th>6</th>\n",
       "      <td>7</td>\n",
       "      <td>118037</td>\n",
       "      <td>236754</td>\n",
       "      <td>2121-05-25 03:26:01</td>\n",
       "      <td>2121-05-25 21:10:19</td>\n",
       "      <td>1.226</td>\n",
       "      <td>2121-05-23 22:01:00</td>\n",
       "    </tr>\n",
       "    <tr>\n",
       "      <th>14</th>\n",
       "      <td>17</td>\n",
       "      <td>194023</td>\n",
       "      <td>277042</td>\n",
       "      <td>2134-12-27 16:21:48</td>\n",
       "      <td>2134-12-29 18:04:03</td>\n",
       "      <td>NaN</td>\n",
       "      <td>NaT</td>\n",
       "    </tr>\n",
       "    <tr>\n",
       "      <th>15</th>\n",
       "      <td>17</td>\n",
       "      <td>161087</td>\n",
       "      <td>257980</td>\n",
       "      <td>2135-05-09 14:12:06</td>\n",
       "      <td>2135-05-10 11:18:34</td>\n",
       "      <td>130.839</td>\n",
       "      <td>2134-12-29 18:04:03</td>\n",
       "    </tr>\n",
       "    <tr>\n",
       "      <th>19</th>\n",
       "      <td>21</td>\n",
       "      <td>109451</td>\n",
       "      <td>217847</td>\n",
       "      <td>2134-09-11 20:50:04</td>\n",
       "      <td>2134-09-17 18:28:32</td>\n",
       "      <td>NaN</td>\n",
       "      <td>NaT</td>\n",
       "    </tr>\n",
       "  </tbody>\n",
       "</table>\n",
       "</div>"
      ],
      "text/plain": [
       "    subjectid  hadmid  icustayid          icu_intime         icu_outtime  \\\n",
       "5           7  118037     278444 2121-05-23 15:35:29 2121-05-23 22:01:00   \n",
       "6           7  118037     236754 2121-05-25 03:26:01 2121-05-25 21:10:19   \n",
       "14         17  194023     277042 2134-12-27 16:21:48 2134-12-29 18:04:03   \n",
       "15         17  161087     257980 2135-05-09 14:12:06 2135-05-10 11:18:34   \n",
       "19         21  109451     217847 2134-09-11 20:50:04 2134-09-17 18:28:32   \n",
       "\n",
       "    readm_days    icu_prev_outtime  \n",
       "5          NaN                 NaT  \n",
       "6        1.226 2121-05-23 22:01:00  \n",
       "14         NaN                 NaT  \n",
       "15     130.839 2134-12-29 18:04:03  \n",
       "19         NaN                 NaT  "
      ]
     },
     "execution_count": 5,
     "metadata": {},
     "output_type": "execute_result"
    }
   ],
   "source": [
    "# query\n",
    "q_readm_pat =\"\"\"SELECT * FROM\n",
    "    (SELECT subject_id, COUNT(icustay_id) AS n_icustays\n",
    "    FROM icustays\n",
    "    GROUP BY subject_id) AS sub_q\n",
    "WHERE n_icustays > 1;\"\"\"\n",
    "\n",
    "# Query output\n",
    "readm_pat = exec_query(q_readm_pat, False)\n",
    "df_readm_pat = pd.DataFrame(readm_pat, columns=['subjectid', 'n_icustays'])\n",
    "\n",
    "df_readm = df_icustay[df_icustay['subjectid'].isin(df_readm_pat.subjectid)]\n",
    "print df_readm.shape\n",
    "df_readm.head()"
   ]
  },
  {
   "cell_type": "markdown",
   "metadata": {},
   "source": [
    "Extract prior ICUstay ID through `icu_prior_outtime`.\n",
    "\n",
    "**Note**: Some ICUstays have duplicate entries (use of `DISTINCT ON` prevents duplicates)"
   ]
  },
  {
   "cell_type": "code",
   "execution_count": 6,
   "metadata": {
    "collapsed": false,
    "scrolled": false
   },
   "outputs": [
    {
     "data": {
      "text/html": [
       "<div>\n",
       "<table border=\"1\" class=\"dataframe\">\n",
       "  <thead>\n",
       "    <tr style=\"text-align: right;\">\n",
       "      <th></th>\n",
       "      <th>subjectid</th>\n",
       "      <th>hadmid</th>\n",
       "      <th>icustayid</th>\n",
       "      <th>icu_intime</th>\n",
       "      <th>icu_outtime</th>\n",
       "      <th>readm_days</th>\n",
       "      <th>prev_icustayid</th>\n",
       "    </tr>\n",
       "  </thead>\n",
       "  <tbody>\n",
       "    <tr>\n",
       "      <th>0</th>\n",
       "      <td>7</td>\n",
       "      <td>118037</td>\n",
       "      <td>278444</td>\n",
       "      <td>2121-05-23 15:35:29</td>\n",
       "      <td>2121-05-23 22:01:00</td>\n",
       "      <td>NaN</td>\n",
       "      <td>NaN</td>\n",
       "    </tr>\n",
       "    <tr>\n",
       "      <th>1</th>\n",
       "      <td>7</td>\n",
       "      <td>118037</td>\n",
       "      <td>236754</td>\n",
       "      <td>2121-05-25 03:26:01</td>\n",
       "      <td>2121-05-25 21:10:19</td>\n",
       "      <td>1.226</td>\n",
       "      <td>278444.0</td>\n",
       "    </tr>\n",
       "    <tr>\n",
       "      <th>2</th>\n",
       "      <td>17</td>\n",
       "      <td>194023</td>\n",
       "      <td>277042</td>\n",
       "      <td>2134-12-27 16:21:48</td>\n",
       "      <td>2134-12-29 18:04:03</td>\n",
       "      <td>NaN</td>\n",
       "      <td>NaN</td>\n",
       "    </tr>\n",
       "    <tr>\n",
       "      <th>3</th>\n",
       "      <td>17</td>\n",
       "      <td>161087</td>\n",
       "      <td>257980</td>\n",
       "      <td>2135-05-09 14:12:06</td>\n",
       "      <td>2135-05-10 11:18:34</td>\n",
       "      <td>130.839</td>\n",
       "      <td>277042.0</td>\n",
       "    </tr>\n",
       "    <tr>\n",
       "      <th>4</th>\n",
       "      <td>21</td>\n",
       "      <td>109451</td>\n",
       "      <td>217847</td>\n",
       "      <td>2134-09-11 20:50:04</td>\n",
       "      <td>2134-09-17 18:28:32</td>\n",
       "      <td>NaN</td>\n",
       "      <td>NaN</td>\n",
       "    </tr>\n",
       "  </tbody>\n",
       "</table>\n",
       "</div>"
      ],
      "text/plain": [
       "   subjectid  hadmid  icustayid          icu_intime         icu_outtime  \\\n",
       "0          7  118037     278444 2121-05-23 15:35:29 2121-05-23 22:01:00   \n",
       "1          7  118037     236754 2121-05-25 03:26:01 2121-05-25 21:10:19   \n",
       "2         17  194023     277042 2134-12-27 16:21:48 2134-12-29 18:04:03   \n",
       "3         17  161087     257980 2135-05-09 14:12:06 2135-05-10 11:18:34   \n",
       "4         21  109451     217847 2134-09-11 20:50:04 2134-09-17 18:28:32   \n",
       "\n",
       "   readm_days  prev_icustayid  \n",
       "0         NaN             NaN  \n",
       "1       1.226        278444.0  \n",
       "2         NaN             NaN  \n",
       "3     130.839        277042.0  \n",
       "4         NaN             NaN  "
      ]
     },
     "execution_count": 6,
     "metadata": {},
     "output_type": "execute_result"
    }
   ],
   "source": [
    "q_previcu = \"\"\"SELECT DISTINCT ON (subject_id, icustay_id, outtime) subject_id, icustay_id, outtime \n",
    "FROM transfers \n",
    "WHERE icustay_id IS NOT NULL;\n",
    "\"\"\"\n",
    "# Query output\n",
    "prev_icustay = exec_query(q_previcu)\n",
    "df_previcu = pd.DataFrame(prev_icustay, columns=['subjectid', 'prev_icustayid', 'icu_prev_outtime'])\n",
    "\n",
    "df_readm = pd.merge(df_readm, df_previcu, on=['subjectid', 'icu_prev_outtime'], how='left')\n",
    "df_readm.drop(labels='icu_prev_outtime', axis=1, inplace=True)\n",
    "df_readm.head()"
   ]
  },
  {
   "cell_type": "markdown",
   "metadata": {},
   "source": [
    "## Exclusion"
   ]
  },
  {
   "cell_type": "markdown",
   "metadata": {},
   "source": [
    "#### Neonate Patients"
   ]
  },
  {
   "cell_type": "code",
   "execution_count": 7,
   "metadata": {
    "collapsed": false,
    "scrolled": true
   },
   "outputs": [
    {
     "data": {
      "text/plain": [
       "(23357, 7)"
      ]
     },
     "execution_count": 7,
     "metadata": {},
     "output_type": "execute_result"
    }
   ],
   "source": [
    "q_nicu = \"\"\"SELECT DISTINCT icustay_id FROM transfers              \n",
    "WHERE curr_careunit = 'NICU' AND icustay_id IS NOT NULL;\n",
    "\"\"\"\n",
    "nicu_stays = exec_query(q_nicu)\n",
    "df_nicu_stays = pd.DataFrame(nicu_stays, columns=['icustayid'])\n",
    "\n",
    "df_readm = df_readm[df_readm['icustayid'].isin(df_nicu_stays.icustayid)==False]\n",
    "df_readm.shape"
   ]
  },
  {
   "cell_type": "markdown",
   "metadata": {},
   "source": [
    "#### Minors"
   ]
  },
  {
   "cell_type": "code",
   "execution_count": 8,
   "metadata": {
    "collapsed": false,
    "scrolled": true
   },
   "outputs": [
    {
     "data": {
      "text/plain": [
       "(23353, 7)"
      ]
     },
     "execution_count": 8,
     "metadata": {},
     "output_type": "execute_result"
    }
   ],
   "source": [
    "# age of patients < 90\n",
    "q_age_hadm1 = \"\"\"SELECT a.subject_id,\n",
    "    FLOOR((a.admittime::date - p.dob::date)/365.0) AS age\n",
    "    FROM admissions as a\n",
    "    INNER JOIN patients as p\n",
    "    ON a.subject_id = p.subject_id\n",
    "    WHERE FLOOR((a.admittime::date - p.dob::date)/365.0) < 90;\"\"\"\n",
    "\n",
    "# adjusted age of patients > 89\n",
    "q_age_hadm2 = \"\"\"SELECT a.subject_id,\n",
    "    FLOOR((a.admittime::date - p.dob::date)/365.0) -210 AS age\n",
    "    FROM admissions as a\n",
    "    INNER JOIN patients as p\n",
    "    ON a.subject_id = p.subject_id\n",
    "    WHERE FLOOR((a.admittime::date - p.dob::date)/365.0) > 89;\"\"\"\n",
    "\n",
    "age_hadm1 = exec_query(q_age_hadm1, False)\n",
    "age_hadm2 = exec_query(q_age_hadm2, False)\n",
    "df_age_hadm1 = pd.DataFrame(age_hadm1, columns=['subjectid', 'age'])\n",
    "df_age_hadm2 = pd.DataFrame(age_hadm2, columns=['subjectid', 'age'])\n",
    "\n",
    "df_age_hadm = pd.concat([df_age_hadm1, df_age_hadm2])\n",
    "df_adults = df_age_hadm[df_age_hadm.age > 17]\n",
    "df_adults_sid = list(df_adults.subjectid.value_counts().index.sort_values())\n",
    "\n",
    "df_readm = df_readm[df_readm.subjectid.isin(df_adults_sid)]\n",
    "df_readm.shape"
   ]
  },
  {
   "cell_type": "markdown",
   "metadata": {},
   "source": [
    "## Dataset Interval/Period \n",
    "\n",
    "### Count for each Cutoff\n",
    "Cutoff for days between last ICU stay discharge and current ICU admission."
   ]
  },
  {
   "cell_type": "code",
   "execution_count": 9,
   "metadata": {
    "collapsed": false
   },
   "outputs": [
    {
     "data": {
      "text/html": [
       "<div>\n",
       "<table border=\"1\" class=\"dataframe\">\n",
       "  <thead>\n",
       "    <tr style=\"text-align: right;\">\n",
       "      <th></th>\n",
       "      <th>days_cutoff</th>\n",
       "      <th>count</th>\n",
       "    </tr>\n",
       "  </thead>\n",
       "  <tbody>\n",
       "    <tr>\n",
       "      <th>5</th>\n",
       "      <td>30</td>\n",
       "      <td>6161</td>\n",
       "    </tr>\n",
       "    <tr>\n",
       "      <th>4</th>\n",
       "      <td>60</td>\n",
       "      <td>7626</td>\n",
       "    </tr>\n",
       "    <tr>\n",
       "      <th>3</th>\n",
       "      <td>90</td>\n",
       "      <td>8494</td>\n",
       "    </tr>\n",
       "    <tr>\n",
       "      <th>2</th>\n",
       "      <td>120</td>\n",
       "      <td>9061</td>\n",
       "    </tr>\n",
       "    <tr>\n",
       "      <th>1</th>\n",
       "      <td>150</td>\n",
       "      <td>9525</td>\n",
       "    </tr>\n",
       "    <tr>\n",
       "      <th>0</th>\n",
       "      <td>180</td>\n",
       "      <td>9914</td>\n",
       "    </tr>\n",
       "  </tbody>\n",
       "</table>\n",
       "</div>"
      ],
      "text/plain": [
       "   days_cutoff  count\n",
       "5           30   6161\n",
       "4           60   7626\n",
       "3           90   8494\n",
       "2          120   9061\n",
       "1          150   9525\n",
       "0          180   9914"
      ]
     },
     "execution_count": 9,
     "metadata": {},
     "output_type": "execute_result"
    }
   ],
   "source": [
    "count_disch = dict()\n",
    "for elem in [30, 60, 90, 120, 150, 180]:\n",
    "    count_disch[elem] = df_readm[df_readm.readm_days <= elem].shape[0]\n",
    "\n",
    "df_count = pd.DataFrame.from_dict(count_disch, orient='index').reset_index()\n",
    "df_count.columns = ['days_cutoff', 'count']\n",
    "df_count.sort_values('days_cutoff', ascending=True)"
   ]
  },
  {
   "cell_type": "markdown",
   "metadata": {},
   "source": [
    "### Interval: 30 Days"
   ]
  },
  {
   "cell_type": "code",
   "execution_count": 10,
   "metadata": {
    "collapsed": true
   },
   "outputs": [],
   "source": [
    "period = 30\n",
    "df_readm = df_readm[df_readm['readm_days'] <= period]"
   ]
  },
  {
   "cell_type": "markdown",
   "metadata": {},
   "source": [
    "### Previous ICU LOS\n",
    "The total LOS of the previous unique ICU stay, *includes the duration of all intra-ICU stays*."
   ]
  },
  {
   "cell_type": "code",
   "execution_count": 11,
   "metadata": {
    "collapsed": false,
    "scrolled": true
   },
   "outputs": [
    {
     "name": "stdout",
     "output_type": "stream",
     "text": [
      "(6161, 8)\n"
     ]
    },
    {
     "data": {
      "text/html": [
       "<div>\n",
       "<table border=\"1\" class=\"dataframe\">\n",
       "  <thead>\n",
       "    <tr style=\"text-align: right;\">\n",
       "      <th></th>\n",
       "      <th>subjectid</th>\n",
       "      <th>hadmid</th>\n",
       "      <th>icustayid</th>\n",
       "      <th>icu_intime</th>\n",
       "      <th>icu_outtime</th>\n",
       "      <th>readm_days</th>\n",
       "      <th>prev_icustayid</th>\n",
       "      <th>prev_iculos</th>\n",
       "    </tr>\n",
       "  </thead>\n",
       "  <tbody>\n",
       "    <tr>\n",
       "      <th>0</th>\n",
       "      <td>36</td>\n",
       "      <td>122659</td>\n",
       "      <td>211200</td>\n",
       "      <td>2131-05-16 23:18:26</td>\n",
       "      <td>2131-05-23 19:56:11</td>\n",
       "      <td>11.425</td>\n",
       "      <td>280987.0</td>\n",
       "      <td>1.1096</td>\n",
       "    </tr>\n",
       "    <tr>\n",
       "      <th>1</th>\n",
       "      <td>41</td>\n",
       "      <td>101757</td>\n",
       "      <td>237024</td>\n",
       "      <td>2133-01-09 12:18:30</td>\n",
       "      <td>2133-01-12 15:51:03</td>\n",
       "      <td>2.845</td>\n",
       "      <td>261027.0</td>\n",
       "      <td>3.3937</td>\n",
       "    </tr>\n",
       "    <tr>\n",
       "      <th>2</th>\n",
       "      <td>68</td>\n",
       "      <td>170467</td>\n",
       "      <td>225771</td>\n",
       "      <td>2173-12-31 01:52:46</td>\n",
       "      <td>2173-12-31 21:33:34</td>\n",
       "      <td>11.418</td>\n",
       "      <td>294232.0</td>\n",
       "      <td>3.5368</td>\n",
       "    </tr>\n",
       "    <tr>\n",
       "      <th>3</th>\n",
       "      <td>68</td>\n",
       "      <td>108329</td>\n",
       "      <td>272667</td>\n",
       "      <td>2174-01-08 13:12:06</td>\n",
       "      <td>2174-01-14 22:45:42</td>\n",
       "      <td>7.652</td>\n",
       "      <td>225771.0</td>\n",
       "      <td>0.8200</td>\n",
       "    </tr>\n",
       "    <tr>\n",
       "      <th>4</th>\n",
       "      <td>91</td>\n",
       "      <td>121205</td>\n",
       "      <td>256972</td>\n",
       "      <td>2177-05-07 03:52:00</td>\n",
       "      <td>2177-05-10 15:16:00</td>\n",
       "      <td>9.576</td>\n",
       "      <td>218528.0</td>\n",
       "      <td>0.4965</td>\n",
       "    </tr>\n",
       "  </tbody>\n",
       "</table>\n",
       "</div>"
      ],
      "text/plain": [
       "   subjectid  hadmid  icustayid          icu_intime         icu_outtime  \\\n",
       "0         36  122659     211200 2131-05-16 23:18:26 2131-05-23 19:56:11   \n",
       "1         41  101757     237024 2133-01-09 12:18:30 2133-01-12 15:51:03   \n",
       "2         68  170467     225771 2173-12-31 01:52:46 2173-12-31 21:33:34   \n",
       "3         68  108329     272667 2174-01-08 13:12:06 2174-01-14 22:45:42   \n",
       "4         91  121205     256972 2177-05-07 03:52:00 2177-05-10 15:16:00   \n",
       "\n",
       "   readm_days  prev_icustayid  prev_iculos  \n",
       "0      11.425        280987.0       1.1096  \n",
       "1       2.845        261027.0       3.3937  \n",
       "2      11.418        294232.0       3.5368  \n",
       "3       7.652        225771.0       0.8200  \n",
       "4       9.576        218528.0       0.4965  "
      ]
     },
     "execution_count": 11,
     "metadata": {},
     "output_type": "execute_result"
    }
   ],
   "source": [
    "q_prevlos = \"\"\"SELECT icustay_id, los \n",
    "FROM icustays;\"\"\"\n",
    "\n",
    "prevlos = exec_query(q_prevlos)\n",
    "df_prevlos = pd.DataFrame(prevlos, columns=['prev_icustayid', 'prev_iculos'])\n",
    "\n",
    "df_readm1 = pd.merge(df_readm, df_prevlos, on='prev_icustayid', how='left')\n",
    "\n",
    "print df_readm1.shape\n",
    "df_readm1.head()"
   ]
  },
  {
   "cell_type": "markdown",
   "metadata": {},
   "source": [
    "### Age\n",
    "Age of times at the time of ICU admission.\n",
    "\n",
    "**Notes**: \n",
    "  * Patients may have different age, depending on the time of admission.\n",
    "  * MIMIC-III adjusts age of patients > 89 years old (+ 210 years)"
   ]
  },
  {
   "cell_type": "code",
   "execution_count": 12,
   "metadata": {
    "collapsed": true
   },
   "outputs": [],
   "source": [
    "def age_adj(age):\n",
    "    if age > 89:\n",
    "        return age - 210\n",
    "    else:\n",
    "        return age"
   ]
  },
  {
   "cell_type": "code",
   "execution_count": 13,
   "metadata": {
    "collapsed": false
   },
   "outputs": [
    {
     "name": "stdout",
     "output_type": "stream",
     "text": [
      "(6161, 9)\n"
     ]
    },
    {
     "data": {
      "text/html": [
       "<div>\n",
       "<table border=\"1\" class=\"dataframe\">\n",
       "  <thead>\n",
       "    <tr style=\"text-align: right;\">\n",
       "      <th></th>\n",
       "      <th>subjectid</th>\n",
       "      <th>hadmid</th>\n",
       "      <th>icustayid</th>\n",
       "      <th>icu_intime</th>\n",
       "      <th>icu_outtime</th>\n",
       "      <th>readm_days</th>\n",
       "      <th>prev_icustayid</th>\n",
       "      <th>prev_iculos</th>\n",
       "      <th>age</th>\n",
       "    </tr>\n",
       "  </thead>\n",
       "  <tbody>\n",
       "    <tr>\n",
       "      <th>0</th>\n",
       "      <td>36</td>\n",
       "      <td>122659</td>\n",
       "      <td>211200</td>\n",
       "      <td>2131-05-16 23:18:26</td>\n",
       "      <td>2131-05-23 19:56:11</td>\n",
       "      <td>11.425</td>\n",
       "      <td>280987.0</td>\n",
       "      <td>1.1096</td>\n",
       "      <td>69</td>\n",
       "    </tr>\n",
       "    <tr>\n",
       "      <th>1</th>\n",
       "      <td>41</td>\n",
       "      <td>101757</td>\n",
       "      <td>237024</td>\n",
       "      <td>2133-01-09 12:18:30</td>\n",
       "      <td>2133-01-12 15:51:03</td>\n",
       "      <td>2.845</td>\n",
       "      <td>261027.0</td>\n",
       "      <td>3.3937</td>\n",
       "      <td>56</td>\n",
       "    </tr>\n",
       "    <tr>\n",
       "      <th>2</th>\n",
       "      <td>68</td>\n",
       "      <td>170467</td>\n",
       "      <td>225771</td>\n",
       "      <td>2173-12-31 01:52:46</td>\n",
       "      <td>2173-12-31 21:33:34</td>\n",
       "      <td>11.418</td>\n",
       "      <td>294232.0</td>\n",
       "      <td>3.5368</td>\n",
       "      <td>41</td>\n",
       "    </tr>\n",
       "    <tr>\n",
       "      <th>3</th>\n",
       "      <td>68</td>\n",
       "      <td>108329</td>\n",
       "      <td>272667</td>\n",
       "      <td>2174-01-08 13:12:06</td>\n",
       "      <td>2174-01-14 22:45:42</td>\n",
       "      <td>7.652</td>\n",
       "      <td>225771.0</td>\n",
       "      <td>0.8200</td>\n",
       "      <td>41</td>\n",
       "    </tr>\n",
       "    <tr>\n",
       "      <th>4</th>\n",
       "      <td>91</td>\n",
       "      <td>121205</td>\n",
       "      <td>256972</td>\n",
       "      <td>2177-05-07 03:52:00</td>\n",
       "      <td>2177-05-10 15:16:00</td>\n",
       "      <td>9.576</td>\n",
       "      <td>218528.0</td>\n",
       "      <td>0.4965</td>\n",
       "      <td>81</td>\n",
       "    </tr>\n",
       "  </tbody>\n",
       "</table>\n",
       "</div>"
      ],
      "text/plain": [
       "   subjectid  hadmid  icustayid          icu_intime         icu_outtime  \\\n",
       "0         36  122659     211200 2131-05-16 23:18:26 2131-05-23 19:56:11   \n",
       "1         41  101757     237024 2133-01-09 12:18:30 2133-01-12 15:51:03   \n",
       "2         68  170467     225771 2173-12-31 01:52:46 2173-12-31 21:33:34   \n",
       "3         68  108329     272667 2174-01-08 13:12:06 2174-01-14 22:45:42   \n",
       "4         91  121205     256972 2177-05-07 03:52:00 2177-05-10 15:16:00   \n",
       "\n",
       "   readm_days  prev_icustayid  prev_iculos  age  \n",
       "0      11.425        280987.0       1.1096   69  \n",
       "1       2.845        261027.0       3.3937   56  \n",
       "2      11.418        294232.0       3.5368   41  \n",
       "3       7.652        225771.0       0.8200   41  \n",
       "4       9.576        218528.0       0.4965   81  "
      ]
     },
     "execution_count": 13,
     "metadata": {},
     "output_type": "execute_result"
    }
   ],
   "source": [
    "q_age = \"\"\"SELECT DISTINCT subject_id, dob FROM patients;\"\"\"\n",
    "\n",
    "age = exec_query(q_age) # query output\n",
    "df_age = pd.DataFrame(age, columns=['subjectid', 'dob'])\n",
    "\n",
    "df_readm2 = pd.merge(df_readm1, df_age, on='subjectid', how='left')\n",
    "\n",
    "# Calculate age\n",
    "age = df_readm2.icu_intime.values.astype('datetime64[D]') - df_readm2.dob.values.astype('datetime64[D]')\n",
    "age = age / 365\n",
    "df_readm2['age'] = age.astype(int)\n",
    "df_readm2['age'] = df_readm2.age.apply(age_adj)\n",
    "\n",
    "df_readm2 = df_readm2[df_readm2.age > 17]\n",
    "df_readm2.drop('dob', axis=1, inplace=True)\n",
    "\n",
    "print df_readm2.shape\n",
    "df_readm2.head()"
   ]
  },
  {
   "cell_type": "markdown",
   "metadata": {},
   "source": [
    "### Ethnicity\n",
    "Ethnicity of the patients.\n",
    "\n",
    "Legend:\n",
    "  * `0`: Asian\n",
    "  * `1`: Black\n",
    "  * `2`: Hispanic\n",
    "  * `3`: White\n",
    "  * `4`: Other\n",
    "  * `5`: N/A\n",
    "\n",
    "**Notes**:\n",
    "  * Prior exploratory data analyses found that African-Americans were the leading group for being prone to ICU readmissions.  85% of their group were readmitted into the ICU.\n",
    "  * Dataset provides many specific ethnicity categories, thus providing little sample size when grouping the data by ethnicity. The feature/column has been processed in order to bin the data into more broad ethnicity categorizations.\n",
    "    * Ethnicity na accounts for data unable to be collected or declined by patients."
   ]
  },
  {
   "cell_type": "code",
   "execution_count": 14,
   "metadata": {
    "collapsed": true
   },
   "outputs": [],
   "source": [
    "def overall_ethn(ethn):\n",
    "    if 'hispanic' in ethn.lower():\n",
    "        new_ethn = 'hispanic'\n",
    "    elif 'asian' in ethn.lower() or 'pacific islander' in ethn.lower():\n",
    "        new_ethn = 'asian'\n",
    "    elif 'white' in ethn.lower():\n",
    "        new_ethn = 'white'\n",
    "    elif 'black' in ethn.lower():\n",
    "        new_ethn = 'black'\n",
    "    elif 'decline' in ethn.lower() or 'unable' in ethn.lower():\n",
    "        new_ethn = 'na'\n",
    "    else:\n",
    "        new_ethn = 'other'\n",
    "    return new_ethn"
   ]
  },
  {
   "cell_type": "code",
   "execution_count": 15,
   "metadata": {
    "collapsed": false
   },
   "outputs": [
    {
     "name": "stdout",
     "output_type": "stream",
     "text": [
      "(6161, 10)\n"
     ]
    },
    {
     "data": {
      "text/html": [
       "<div>\n",
       "<table border=\"1\" class=\"dataframe\">\n",
       "  <thead>\n",
       "    <tr style=\"text-align: right;\">\n",
       "      <th></th>\n",
       "      <th>subjectid</th>\n",
       "      <th>hadmid</th>\n",
       "      <th>icustayid</th>\n",
       "      <th>icu_intime</th>\n",
       "      <th>icu_outtime</th>\n",
       "      <th>readm_days</th>\n",
       "      <th>prev_icustayid</th>\n",
       "      <th>prev_iculos</th>\n",
       "      <th>age</th>\n",
       "      <th>ethnicity</th>\n",
       "    </tr>\n",
       "  </thead>\n",
       "  <tbody>\n",
       "    <tr>\n",
       "      <th>0</th>\n",
       "      <td>36</td>\n",
       "      <td>122659</td>\n",
       "      <td>211200</td>\n",
       "      <td>2131-05-16 23:18:26</td>\n",
       "      <td>2131-05-23 19:56:11</td>\n",
       "      <td>11.425</td>\n",
       "      <td>280987.0</td>\n",
       "      <td>1.1096</td>\n",
       "      <td>69</td>\n",
       "      <td>3</td>\n",
       "    </tr>\n",
       "    <tr>\n",
       "      <th>1</th>\n",
       "      <td>41</td>\n",
       "      <td>101757</td>\n",
       "      <td>237024</td>\n",
       "      <td>2133-01-09 12:18:30</td>\n",
       "      <td>2133-01-12 15:51:03</td>\n",
       "      <td>2.845</td>\n",
       "      <td>261027.0</td>\n",
       "      <td>3.3937</td>\n",
       "      <td>56</td>\n",
       "      <td>3</td>\n",
       "    </tr>\n",
       "    <tr>\n",
       "      <th>2</th>\n",
       "      <td>68</td>\n",
       "      <td>170467</td>\n",
       "      <td>225771</td>\n",
       "      <td>2173-12-31 01:52:46</td>\n",
       "      <td>2173-12-31 21:33:34</td>\n",
       "      <td>11.418</td>\n",
       "      <td>294232.0</td>\n",
       "      <td>3.5368</td>\n",
       "      <td>41</td>\n",
       "      <td>1</td>\n",
       "    </tr>\n",
       "    <tr>\n",
       "      <th>3</th>\n",
       "      <td>68</td>\n",
       "      <td>108329</td>\n",
       "      <td>272667</td>\n",
       "      <td>2174-01-08 13:12:06</td>\n",
       "      <td>2174-01-14 22:45:42</td>\n",
       "      <td>7.652</td>\n",
       "      <td>225771.0</td>\n",
       "      <td>0.8200</td>\n",
       "      <td>41</td>\n",
       "      <td>1</td>\n",
       "    </tr>\n",
       "    <tr>\n",
       "      <th>4</th>\n",
       "      <td>91</td>\n",
       "      <td>121205</td>\n",
       "      <td>256972</td>\n",
       "      <td>2177-05-07 03:52:00</td>\n",
       "      <td>2177-05-10 15:16:00</td>\n",
       "      <td>9.576</td>\n",
       "      <td>218528.0</td>\n",
       "      <td>0.4965</td>\n",
       "      <td>81</td>\n",
       "      <td>3</td>\n",
       "    </tr>\n",
       "  </tbody>\n",
       "</table>\n",
       "</div>"
      ],
      "text/plain": [
       "   subjectid  hadmid  icustayid          icu_intime         icu_outtime  \\\n",
       "0         36  122659     211200 2131-05-16 23:18:26 2131-05-23 19:56:11   \n",
       "1         41  101757     237024 2133-01-09 12:18:30 2133-01-12 15:51:03   \n",
       "2         68  170467     225771 2173-12-31 01:52:46 2173-12-31 21:33:34   \n",
       "3         68  108329     272667 2174-01-08 13:12:06 2174-01-14 22:45:42   \n",
       "4         91  121205     256972 2177-05-07 03:52:00 2177-05-10 15:16:00   \n",
       "\n",
       "   readm_days  prev_icustayid  prev_iculos  age  ethnicity  \n",
       "0      11.425        280987.0       1.1096   69          3  \n",
       "1       2.845        261027.0       3.3937   56          3  \n",
       "2      11.418        294232.0       3.5368   41          1  \n",
       "3       7.652        225771.0       0.8200   41          1  \n",
       "4       9.576        218528.0       0.4965   81          3  "
      ]
     },
     "execution_count": 15,
     "metadata": {},
     "output_type": "execute_result"
    }
   ],
   "source": [
    "q_ethn = \"\"\"SELECT DISTINCT ON (subject_id) subject_id, ethnicity \n",
    "FROM admissions;\"\"\"\n",
    "\n",
    "ethnicity = exec_query(q_ethn) # query output\n",
    "df_ethn = pd.DataFrame(ethnicity, columns=['subjectid', 'ethnicity'])\n",
    "\n",
    "df_readm3 = pd.merge(df_readm2, df_ethn, on='subjectid', how='left')\n",
    "df_readm3['ethnicity'] = df_readm3.ethnicity.apply(overall_ethn)\n",
    "df_readm3['ethnicity'].replace(to_replace = \n",
    "                               {'asian': 0, 'black':1, 'hispanic': 2,\n",
    "                               'white': 3, 'other': 4, 'na': 5}, inplace=True)\n",
    "\n",
    "print df_readm3.shape\n",
    "df_readm3.head()"
   ]
  },
  {
   "cell_type": "markdown",
   "metadata": {},
   "source": [
    "### Marital Status\n",
    "Martial status of the patients.\n",
    "\n",
    "Legend:\n",
    "  * `0`: Single\n",
    "  * `1`: Married\n",
    "  * `2`: Divorced\n",
    "  * `3`: Separated\n",
    "  * `4`: Widowed\n",
    "  * `5`: Life Partner\n",
    "  * `6`: Unknown (*default*)"
   ]
  },
  {
   "cell_type": "code",
   "execution_count": 16,
   "metadata": {
    "collapsed": false
   },
   "outputs": [
    {
     "name": "stdout",
     "output_type": "stream",
     "text": [
      "(6161, 11)\n"
     ]
    },
    {
     "data": {
      "text/html": [
       "<div>\n",
       "<table border=\"1\" class=\"dataframe\">\n",
       "  <thead>\n",
       "    <tr style=\"text-align: right;\">\n",
       "      <th></th>\n",
       "      <th>subjectid</th>\n",
       "      <th>hadmid</th>\n",
       "      <th>icustayid</th>\n",
       "      <th>icu_intime</th>\n",
       "      <th>icu_outtime</th>\n",
       "      <th>readm_days</th>\n",
       "      <th>prev_icustayid</th>\n",
       "      <th>prev_iculos</th>\n",
       "      <th>age</th>\n",
       "      <th>ethnicity</th>\n",
       "      <th>marital_status</th>\n",
       "    </tr>\n",
       "  </thead>\n",
       "  <tbody>\n",
       "    <tr>\n",
       "      <th>0</th>\n",
       "      <td>36</td>\n",
       "      <td>122659</td>\n",
       "      <td>211200</td>\n",
       "      <td>2131-05-16 23:18:26</td>\n",
       "      <td>2131-05-23 19:56:11</td>\n",
       "      <td>11.425</td>\n",
       "      <td>280987.0</td>\n",
       "      <td>1.1096</td>\n",
       "      <td>69</td>\n",
       "      <td>3</td>\n",
       "      <td>1</td>\n",
       "    </tr>\n",
       "    <tr>\n",
       "      <th>1</th>\n",
       "      <td>41</td>\n",
       "      <td>101757</td>\n",
       "      <td>237024</td>\n",
       "      <td>2133-01-09 12:18:30</td>\n",
       "      <td>2133-01-12 15:51:03</td>\n",
       "      <td>2.845</td>\n",
       "      <td>261027.0</td>\n",
       "      <td>3.3937</td>\n",
       "      <td>56</td>\n",
       "      <td>3</td>\n",
       "      <td>0</td>\n",
       "    </tr>\n",
       "    <tr>\n",
       "      <th>2</th>\n",
       "      <td>68</td>\n",
       "      <td>170467</td>\n",
       "      <td>225771</td>\n",
       "      <td>2173-12-31 01:52:46</td>\n",
       "      <td>2173-12-31 21:33:34</td>\n",
       "      <td>11.418</td>\n",
       "      <td>294232.0</td>\n",
       "      <td>3.5368</td>\n",
       "      <td>41</td>\n",
       "      <td>1</td>\n",
       "      <td>0</td>\n",
       "    </tr>\n",
       "    <tr>\n",
       "      <th>3</th>\n",
       "      <td>68</td>\n",
       "      <td>108329</td>\n",
       "      <td>272667</td>\n",
       "      <td>2174-01-08 13:12:06</td>\n",
       "      <td>2174-01-14 22:45:42</td>\n",
       "      <td>7.652</td>\n",
       "      <td>225771.0</td>\n",
       "      <td>0.8200</td>\n",
       "      <td>41</td>\n",
       "      <td>1</td>\n",
       "      <td>0</td>\n",
       "    </tr>\n",
       "    <tr>\n",
       "      <th>4</th>\n",
       "      <td>91</td>\n",
       "      <td>121205</td>\n",
       "      <td>256972</td>\n",
       "      <td>2177-05-07 03:52:00</td>\n",
       "      <td>2177-05-10 15:16:00</td>\n",
       "      <td>9.576</td>\n",
       "      <td>218528.0</td>\n",
       "      <td>0.4965</td>\n",
       "      <td>81</td>\n",
       "      <td>3</td>\n",
       "      <td>1</td>\n",
       "    </tr>\n",
       "  </tbody>\n",
       "</table>\n",
       "</div>"
      ],
      "text/plain": [
       "   subjectid  hadmid  icustayid          icu_intime         icu_outtime  \\\n",
       "0         36  122659     211200 2131-05-16 23:18:26 2131-05-23 19:56:11   \n",
       "1         41  101757     237024 2133-01-09 12:18:30 2133-01-12 15:51:03   \n",
       "2         68  170467     225771 2173-12-31 01:52:46 2173-12-31 21:33:34   \n",
       "3         68  108329     272667 2174-01-08 13:12:06 2174-01-14 22:45:42   \n",
       "4         91  121205     256972 2177-05-07 03:52:00 2177-05-10 15:16:00   \n",
       "\n",
       "   readm_days  prev_icustayid  prev_iculos  age  ethnicity  marital_status  \n",
       "0      11.425        280987.0       1.1096   69          3               1  \n",
       "1       2.845        261027.0       3.3937   56          3               0  \n",
       "2      11.418        294232.0       3.5368   41          1               0  \n",
       "3       7.652        225771.0       0.8200   41          1               0  \n",
       "4       9.576        218528.0       0.4965   81          3               1  "
      ]
     },
     "execution_count": 16,
     "metadata": {},
     "output_type": "execute_result"
    }
   ],
   "source": [
    "q_marital = \"\"\"SELECT DISTINCT ON (subject_id, hadm_id) subject_id, \n",
    "hadm_id, marital_status \n",
    "FROM admissions;\"\"\"\n",
    "\n",
    "marital_status = exec_query(q_marital) # query output\n",
    "df_marital = pd.DataFrame(marital_status, \n",
    "                          columns=['subjectid', 'hadmid', 'marital_status'])\n",
    "\n",
    "df_readm4 = pd.merge(df_readm3, df_marital, on=['subjectid', 'hadmid'], how='left')\n",
    "df_readm4['marital_status'].replace(to_replace = \n",
    "                                   {'SINGLE': 0, 'MARRIED':1, 'DIVORCED': 2,\n",
    "                                    'SEPARATED': 3, 'WIDOWED': 4, \n",
    "                                    'LIFE PARTNER': 5, 'UNKNOWN (DEFAULT)': 6, \n",
    "                                    '':6}, inplace=True)\n",
    "print df_readm4.shape\n",
    "df_readm4.head()"
   ]
  },
  {
   "cell_type": "markdown",
   "metadata": {},
   "source": [
    "### Insurance Type\n",
    "Insurance type of the patients.\n",
    "\n",
    "Legend:\n",
    "  * `0`: Government\n",
    "  * `1`: Medicaid\n",
    "  * `2`: Medicare\n",
    "  * `3`: Private\n",
    "  * `4`: Self Pay"
   ]
  },
  {
   "cell_type": "code",
   "execution_count": 17,
   "metadata": {
    "collapsed": false
   },
   "outputs": [
    {
     "name": "stdout",
     "output_type": "stream",
     "text": [
      "(6161, 12)\n"
     ]
    },
    {
     "data": {
      "text/html": [
       "<div>\n",
       "<table border=\"1\" class=\"dataframe\">\n",
       "  <thead>\n",
       "    <tr style=\"text-align: right;\">\n",
       "      <th></th>\n",
       "      <th>subjectid</th>\n",
       "      <th>hadmid</th>\n",
       "      <th>icustayid</th>\n",
       "      <th>icu_intime</th>\n",
       "      <th>icu_outtime</th>\n",
       "      <th>readm_days</th>\n",
       "      <th>prev_icustayid</th>\n",
       "      <th>prev_iculos</th>\n",
       "      <th>age</th>\n",
       "      <th>ethnicity</th>\n",
       "      <th>marital_status</th>\n",
       "      <th>insurance</th>\n",
       "    </tr>\n",
       "  </thead>\n",
       "  <tbody>\n",
       "    <tr>\n",
       "      <th>0</th>\n",
       "      <td>36</td>\n",
       "      <td>122659</td>\n",
       "      <td>211200</td>\n",
       "      <td>2131-05-16 23:18:26</td>\n",
       "      <td>2131-05-23 19:56:11</td>\n",
       "      <td>11.425</td>\n",
       "      <td>280987.0</td>\n",
       "      <td>1.1096</td>\n",
       "      <td>69</td>\n",
       "      <td>3</td>\n",
       "      <td>1</td>\n",
       "      <td>2</td>\n",
       "    </tr>\n",
       "    <tr>\n",
       "      <th>1</th>\n",
       "      <td>41</td>\n",
       "      <td>101757</td>\n",
       "      <td>237024</td>\n",
       "      <td>2133-01-09 12:18:30</td>\n",
       "      <td>2133-01-12 15:51:03</td>\n",
       "      <td>2.845</td>\n",
       "      <td>261027.0</td>\n",
       "      <td>3.3937</td>\n",
       "      <td>56</td>\n",
       "      <td>3</td>\n",
       "      <td>0</td>\n",
       "      <td>3</td>\n",
       "    </tr>\n",
       "    <tr>\n",
       "      <th>2</th>\n",
       "      <td>68</td>\n",
       "      <td>170467</td>\n",
       "      <td>225771</td>\n",
       "      <td>2173-12-31 01:52:46</td>\n",
       "      <td>2173-12-31 21:33:34</td>\n",
       "      <td>11.418</td>\n",
       "      <td>294232.0</td>\n",
       "      <td>3.5368</td>\n",
       "      <td>41</td>\n",
       "      <td>1</td>\n",
       "      <td>0</td>\n",
       "      <td>2</td>\n",
       "    </tr>\n",
       "    <tr>\n",
       "      <th>3</th>\n",
       "      <td>68</td>\n",
       "      <td>108329</td>\n",
       "      <td>272667</td>\n",
       "      <td>2174-01-08 13:12:06</td>\n",
       "      <td>2174-01-14 22:45:42</td>\n",
       "      <td>7.652</td>\n",
       "      <td>225771.0</td>\n",
       "      <td>0.8200</td>\n",
       "      <td>41</td>\n",
       "      <td>1</td>\n",
       "      <td>0</td>\n",
       "      <td>2</td>\n",
       "    </tr>\n",
       "    <tr>\n",
       "      <th>4</th>\n",
       "      <td>91</td>\n",
       "      <td>121205</td>\n",
       "      <td>256972</td>\n",
       "      <td>2177-05-07 03:52:00</td>\n",
       "      <td>2177-05-10 15:16:00</td>\n",
       "      <td>9.576</td>\n",
       "      <td>218528.0</td>\n",
       "      <td>0.4965</td>\n",
       "      <td>81</td>\n",
       "      <td>3</td>\n",
       "      <td>1</td>\n",
       "      <td>2</td>\n",
       "    </tr>\n",
       "  </tbody>\n",
       "</table>\n",
       "</div>"
      ],
      "text/plain": [
       "   subjectid  hadmid  icustayid          icu_intime         icu_outtime  \\\n",
       "0         36  122659     211200 2131-05-16 23:18:26 2131-05-23 19:56:11   \n",
       "1         41  101757     237024 2133-01-09 12:18:30 2133-01-12 15:51:03   \n",
       "2         68  170467     225771 2173-12-31 01:52:46 2173-12-31 21:33:34   \n",
       "3         68  108329     272667 2174-01-08 13:12:06 2174-01-14 22:45:42   \n",
       "4         91  121205     256972 2177-05-07 03:52:00 2177-05-10 15:16:00   \n",
       "\n",
       "   readm_days  prev_icustayid  prev_iculos  age  ethnicity  marital_status  \\\n",
       "0      11.425        280987.0       1.1096   69          3               1   \n",
       "1       2.845        261027.0       3.3937   56          3               0   \n",
       "2      11.418        294232.0       3.5368   41          1               0   \n",
       "3       7.652        225771.0       0.8200   41          1               0   \n",
       "4       9.576        218528.0       0.4965   81          3               1   \n",
       "\n",
       "   insurance  \n",
       "0          2  \n",
       "1          3  \n",
       "2          2  \n",
       "3          2  \n",
       "4          2  "
      ]
     },
     "execution_count": 17,
     "metadata": {},
     "output_type": "execute_result"
    }
   ],
   "source": [
    "q_insurance = \"\"\"SELECT DISTINCT ON (subject_id, hadm_id) subject_id, \n",
    "hadm_id, insurance \n",
    "FROM admissions;\"\"\"\n",
    "\n",
    "insurance = exec_query(q_insurance) # query output\n",
    "df_insurance = pd.DataFrame(insurance, \n",
    "                          columns=['subjectid', 'hadmid', 'insurance'])\n",
    "\n",
    "df_readm5 = pd.merge(df_readm4, df_insurance, on=['subjectid', 'hadmid'], how='left')\n",
    "df_readm5['insurance'].replace(to_replace = \n",
    "                                   {'Government': 0, 'Medicaid':1, 'Medicare': 2,\n",
    "                                    'Private': 3, 'Self Pay': 4}, inplace=True)\n",
    "print df_readm5.shape\n",
    "df_readm5.head()"
   ]
  },
  {
   "cell_type": "markdown",
   "metadata": {},
   "source": [
    "### Non-English Speakers\n",
    "Binary feature indicating whether the patient is a non-english speaker or not.\n",
    "\n",
    "Legend:\n",
    "  * `0`: English speaker\n",
    "  * `1`: Non-English speaker"
   ]
  },
  {
   "cell_type": "code",
   "execution_count": 18,
   "metadata": {
    "collapsed": false
   },
   "outputs": [
    {
     "name": "stdout",
     "output_type": "stream",
     "text": [
      "(6161, 13)\n"
     ]
    },
    {
     "data": {
      "text/html": [
       "<div>\n",
       "<table border=\"1\" class=\"dataframe\">\n",
       "  <thead>\n",
       "    <tr style=\"text-align: right;\">\n",
       "      <th></th>\n",
       "      <th>subjectid</th>\n",
       "      <th>hadmid</th>\n",
       "      <th>icustayid</th>\n",
       "      <th>icu_intime</th>\n",
       "      <th>icu_outtime</th>\n",
       "      <th>readm_days</th>\n",
       "      <th>prev_icustayid</th>\n",
       "      <th>prev_iculos</th>\n",
       "      <th>age</th>\n",
       "      <th>ethnicity</th>\n",
       "      <th>marital_status</th>\n",
       "      <th>insurance</th>\n",
       "      <th>NonEnglish</th>\n",
       "    </tr>\n",
       "  </thead>\n",
       "  <tbody>\n",
       "    <tr>\n",
       "      <th>0</th>\n",
       "      <td>36</td>\n",
       "      <td>122659</td>\n",
       "      <td>211200</td>\n",
       "      <td>2131-05-16 23:18:26</td>\n",
       "      <td>2131-05-23 19:56:11</td>\n",
       "      <td>11.425</td>\n",
       "      <td>280987.0</td>\n",
       "      <td>1.1096</td>\n",
       "      <td>69</td>\n",
       "      <td>3</td>\n",
       "      <td>1</td>\n",
       "      <td>2</td>\n",
       "      <td>0</td>\n",
       "    </tr>\n",
       "    <tr>\n",
       "      <th>1</th>\n",
       "      <td>41</td>\n",
       "      <td>101757</td>\n",
       "      <td>237024</td>\n",
       "      <td>2133-01-09 12:18:30</td>\n",
       "      <td>2133-01-12 15:51:03</td>\n",
       "      <td>2.845</td>\n",
       "      <td>261027.0</td>\n",
       "      <td>3.3937</td>\n",
       "      <td>56</td>\n",
       "      <td>3</td>\n",
       "      <td>0</td>\n",
       "      <td>3</td>\n",
       "      <td>1</td>\n",
       "    </tr>\n",
       "    <tr>\n",
       "      <th>2</th>\n",
       "      <td>68</td>\n",
       "      <td>170467</td>\n",
       "      <td>225771</td>\n",
       "      <td>2173-12-31 01:52:46</td>\n",
       "      <td>2173-12-31 21:33:34</td>\n",
       "      <td>11.418</td>\n",
       "      <td>294232.0</td>\n",
       "      <td>3.5368</td>\n",
       "      <td>41</td>\n",
       "      <td>1</td>\n",
       "      <td>0</td>\n",
       "      <td>2</td>\n",
       "      <td>1</td>\n",
       "    </tr>\n",
       "    <tr>\n",
       "      <th>3</th>\n",
       "      <td>68</td>\n",
       "      <td>108329</td>\n",
       "      <td>272667</td>\n",
       "      <td>2174-01-08 13:12:06</td>\n",
       "      <td>2174-01-14 22:45:42</td>\n",
       "      <td>7.652</td>\n",
       "      <td>225771.0</td>\n",
       "      <td>0.8200</td>\n",
       "      <td>41</td>\n",
       "      <td>1</td>\n",
       "      <td>0</td>\n",
       "      <td>2</td>\n",
       "      <td>1</td>\n",
       "    </tr>\n",
       "    <tr>\n",
       "      <th>4</th>\n",
       "      <td>91</td>\n",
       "      <td>121205</td>\n",
       "      <td>256972</td>\n",
       "      <td>2177-05-07 03:52:00</td>\n",
       "      <td>2177-05-10 15:16:00</td>\n",
       "      <td>9.576</td>\n",
       "      <td>218528.0</td>\n",
       "      <td>0.4965</td>\n",
       "      <td>81</td>\n",
       "      <td>3</td>\n",
       "      <td>1</td>\n",
       "      <td>2</td>\n",
       "      <td>1</td>\n",
       "    </tr>\n",
       "  </tbody>\n",
       "</table>\n",
       "</div>"
      ],
      "text/plain": [
       "   subjectid  hadmid  icustayid          icu_intime         icu_outtime  \\\n",
       "0         36  122659     211200 2131-05-16 23:18:26 2131-05-23 19:56:11   \n",
       "1         41  101757     237024 2133-01-09 12:18:30 2133-01-12 15:51:03   \n",
       "2         68  170467     225771 2173-12-31 01:52:46 2173-12-31 21:33:34   \n",
       "3         68  108329     272667 2174-01-08 13:12:06 2174-01-14 22:45:42   \n",
       "4         91  121205     256972 2177-05-07 03:52:00 2177-05-10 15:16:00   \n",
       "\n",
       "   readm_days  prev_icustayid  prev_iculos  age  ethnicity  marital_status  \\\n",
       "0      11.425        280987.0       1.1096   69          3               1   \n",
       "1       2.845        261027.0       3.3937   56          3               0   \n",
       "2      11.418        294232.0       3.5368   41          1               0   \n",
       "3       7.652        225771.0       0.8200   41          1               0   \n",
       "4       9.576        218528.0       0.4965   81          3               1   \n",
       "\n",
       "   insurance  NonEnglish  \n",
       "0          2           0  \n",
       "1          3           1  \n",
       "2          2           1  \n",
       "3          2           1  \n",
       "4          2           1  "
      ]
     },
     "execution_count": 18,
     "metadata": {},
     "output_type": "execute_result"
    }
   ],
   "source": [
    "q_lang = \"\"\"SELECT DISTINCT ON (subject_id, hadm_id) subject_id, \n",
    "hadm_id, language \n",
    "FROM admissions;\"\"\"\n",
    "\n",
    "lang = exec_query(q_lang) # query output\n",
    "df_noneng = pd.DataFrame(lang, \n",
    "                          columns=['subjectid', 'hadmid', 'NonEnglish'])\n",
    "\n",
    "df_readm6 = pd.merge(df_readm5, df_noneng, on=['subjectid', 'hadmid'], how='left')\n",
    "df_readm6['NonEnglish'] = df_readm6['NonEnglish'].apply(lambda x: 0 if x == 'ENGL' else 1)\n",
    "\n",
    "print df_readm6.shape\n",
    "df_readm6.head()"
   ]
  },
  {
   "cell_type": "markdown",
   "metadata": {},
   "source": [
    "### N<sub>icutrav</sub>\n",
    "The number of total *ICU* ward transfers for each patient's unique ICU stay. The value indicates the number of (non-unique) intra-ICU ward transfers."
   ]
  },
  {
   "cell_type": "code",
   "execution_count": 19,
   "metadata": {
    "collapsed": false,
    "scrolled": true
   },
   "outputs": [
    {
     "name": "stdout",
     "output_type": "stream",
     "text": [
      "(6161, 14)\n"
     ]
    },
    {
     "data": {
      "text/html": [
       "<div>\n",
       "<table border=\"1\" class=\"dataframe\">\n",
       "  <thead>\n",
       "    <tr style=\"text-align: right;\">\n",
       "      <th></th>\n",
       "      <th>subjectid</th>\n",
       "      <th>hadmid</th>\n",
       "      <th>icustayid</th>\n",
       "      <th>icu_intime</th>\n",
       "      <th>icu_outtime</th>\n",
       "      <th>readm_days</th>\n",
       "      <th>prev_icustayid</th>\n",
       "      <th>prev_iculos</th>\n",
       "      <th>age</th>\n",
       "      <th>ethnicity</th>\n",
       "      <th>marital_status</th>\n",
       "      <th>insurance</th>\n",
       "      <th>NonEnglish</th>\n",
       "      <th>n_icutrav</th>\n",
       "    </tr>\n",
       "  </thead>\n",
       "  <tbody>\n",
       "    <tr>\n",
       "      <th>0</th>\n",
       "      <td>36</td>\n",
       "      <td>122659</td>\n",
       "      <td>211200</td>\n",
       "      <td>2131-05-16 23:18:26</td>\n",
       "      <td>2131-05-23 19:56:11</td>\n",
       "      <td>11.425</td>\n",
       "      <td>280987.0</td>\n",
       "      <td>1.1096</td>\n",
       "      <td>69</td>\n",
       "      <td>3</td>\n",
       "      <td>1</td>\n",
       "      <td>2</td>\n",
       "      <td>0</td>\n",
       "      <td>3</td>\n",
       "    </tr>\n",
       "    <tr>\n",
       "      <th>1</th>\n",
       "      <td>41</td>\n",
       "      <td>101757</td>\n",
       "      <td>237024</td>\n",
       "      <td>2133-01-09 12:18:30</td>\n",
       "      <td>2133-01-12 15:51:03</td>\n",
       "      <td>2.845</td>\n",
       "      <td>261027.0</td>\n",
       "      <td>3.3937</td>\n",
       "      <td>56</td>\n",
       "      <td>3</td>\n",
       "      <td>0</td>\n",
       "      <td>3</td>\n",
       "      <td>1</td>\n",
       "      <td>1</td>\n",
       "    </tr>\n",
       "    <tr>\n",
       "      <th>2</th>\n",
       "      <td>68</td>\n",
       "      <td>170467</td>\n",
       "      <td>225771</td>\n",
       "      <td>2173-12-31 01:52:46</td>\n",
       "      <td>2173-12-31 21:33:34</td>\n",
       "      <td>11.418</td>\n",
       "      <td>294232.0</td>\n",
       "      <td>3.5368</td>\n",
       "      <td>41</td>\n",
       "      <td>1</td>\n",
       "      <td>0</td>\n",
       "      <td>2</td>\n",
       "      <td>1</td>\n",
       "      <td>1</td>\n",
       "    </tr>\n",
       "    <tr>\n",
       "      <th>3</th>\n",
       "      <td>68</td>\n",
       "      <td>108329</td>\n",
       "      <td>272667</td>\n",
       "      <td>2174-01-08 13:12:06</td>\n",
       "      <td>2174-01-14 22:45:42</td>\n",
       "      <td>7.652</td>\n",
       "      <td>225771.0</td>\n",
       "      <td>0.8200</td>\n",
       "      <td>41</td>\n",
       "      <td>1</td>\n",
       "      <td>0</td>\n",
       "      <td>2</td>\n",
       "      <td>1</td>\n",
       "      <td>1</td>\n",
       "    </tr>\n",
       "    <tr>\n",
       "      <th>4</th>\n",
       "      <td>91</td>\n",
       "      <td>121205</td>\n",
       "      <td>256972</td>\n",
       "      <td>2177-05-07 03:52:00</td>\n",
       "      <td>2177-05-10 15:16:00</td>\n",
       "      <td>9.576</td>\n",
       "      <td>218528.0</td>\n",
       "      <td>0.4965</td>\n",
       "      <td>81</td>\n",
       "      <td>3</td>\n",
       "      <td>1</td>\n",
       "      <td>2</td>\n",
       "      <td>1</td>\n",
       "      <td>1</td>\n",
       "    </tr>\n",
       "  </tbody>\n",
       "</table>\n",
       "</div>"
      ],
      "text/plain": [
       "   subjectid  hadmid  icustayid          icu_intime         icu_outtime  \\\n",
       "0         36  122659     211200 2131-05-16 23:18:26 2131-05-23 19:56:11   \n",
       "1         41  101757     237024 2133-01-09 12:18:30 2133-01-12 15:51:03   \n",
       "2         68  170467     225771 2173-12-31 01:52:46 2173-12-31 21:33:34   \n",
       "3         68  108329     272667 2174-01-08 13:12:06 2174-01-14 22:45:42   \n",
       "4         91  121205     256972 2177-05-07 03:52:00 2177-05-10 15:16:00   \n",
       "\n",
       "   readm_days  prev_icustayid  prev_iculos  age  ethnicity  marital_status  \\\n",
       "0      11.425        280987.0       1.1096   69          3               1   \n",
       "1       2.845        261027.0       3.3937   56          3               0   \n",
       "2      11.418        294232.0       3.5368   41          1               0   \n",
       "3       7.652        225771.0       0.8200   41          1               0   \n",
       "4       9.576        218528.0       0.4965   81          3               1   \n",
       "\n",
       "   insurance  NonEnglish  n_icutrav  \n",
       "0          2           0          3  \n",
       "1          3           1          1  \n",
       "2          2           1          1  \n",
       "3          2           1          1  \n",
       "4          2           1          1  "
      ]
     },
     "execution_count": 19,
     "metadata": {},
     "output_type": "execute_result"
    }
   ],
   "source": [
    "q_multtrav = \"\"\"SELECT icustay_id, COUNT(*)\n",
    "FROM transfers\n",
    "WHERE icustay_id IS NOT NULL\n",
    "GROUP BY icustay_id\"\"\"\n",
    "\n",
    "mult_trav = exec_query(q_multtrav)\n",
    "df_multtrav = pd.DataFrame(mult_trav, columns=['icustayid', 'n_icutrav'])\n",
    "\n",
    "df_readm7 = pd.merge(df_readm6, df_multtrav, on='icustayid', how='left')\n",
    "\n",
    "print df_readm7.shape\n",
    "df_readm7.head()"
   ]
  },
  {
   "cell_type": "markdown",
   "metadata": {},
   "source": [
    "### Current Care Unit\n",
    "Type of ICU admitted/transferred into.\n",
    "\n",
    "**`prev_cu`**: categorical feature indicating previous care unit  \n",
    "**`curr_cu`**: categorical feature indicating current care unit  \n",
    "**`prev_ICU`**: binary feature indicating previous ICU  \n",
    "\n",
    "Legend:\n",
    "  * nonICU : 0\n",
    "  * MICU : 1\n",
    "  * CSRU : 2\n",
    "  * SICU : 3\n",
    "  * CCU : 4 \n",
    "  * TSICU : 5\n",
    "  * NICU :6 \n",
    "  * NWARD :7"
   ]
  },
  {
   "cell_type": "code",
   "execution_count": 20,
   "metadata": {
    "collapsed": false,
    "scrolled": true
   },
   "outputs": [],
   "source": [
    "def binary_cu(careunit):\n",
    "    if careunit > 0 and careunit < 7:\n",
    "        x = 1\n",
    "    else:\n",
    "        x = 0\n",
    "    return x"
   ]
  },
  {
   "cell_type": "code",
   "execution_count": 21,
   "metadata": {
    "collapsed": false,
    "scrolled": true
   },
   "outputs": [
    {
     "name": "stdout",
     "output_type": "stream",
     "text": [
      "(6161, 17)\n"
     ]
    },
    {
     "data": {
      "text/html": [
       "<div>\n",
       "<table border=\"1\" class=\"dataframe\">\n",
       "  <thead>\n",
       "    <tr style=\"text-align: right;\">\n",
       "      <th></th>\n",
       "      <th>subjectid</th>\n",
       "      <th>hadmid</th>\n",
       "      <th>icustayid</th>\n",
       "      <th>icu_intime</th>\n",
       "      <th>icu_outtime</th>\n",
       "      <th>readm_days</th>\n",
       "      <th>prev_icustayid</th>\n",
       "      <th>prev_iculos</th>\n",
       "      <th>age</th>\n",
       "      <th>ethnicity</th>\n",
       "      <th>marital_status</th>\n",
       "      <th>insurance</th>\n",
       "      <th>NonEnglish</th>\n",
       "      <th>n_icutrav</th>\n",
       "      <th>curr_cu</th>\n",
       "      <th>prev_cu</th>\n",
       "      <th>prev_ICU</th>\n",
       "    </tr>\n",
       "  </thead>\n",
       "  <tbody>\n",
       "    <tr>\n",
       "      <th>0</th>\n",
       "      <td>36</td>\n",
       "      <td>122659</td>\n",
       "      <td>211200</td>\n",
       "      <td>2131-05-16 23:18:26</td>\n",
       "      <td>2131-05-23 19:56:11</td>\n",
       "      <td>11.425</td>\n",
       "      <td>280987.0</td>\n",
       "      <td>1.1096</td>\n",
       "      <td>69</td>\n",
       "      <td>3</td>\n",
       "      <td>1</td>\n",
       "      <td>2</td>\n",
       "      <td>0</td>\n",
       "      <td>3</td>\n",
       "      <td>2</td>\n",
       "      <td>0</td>\n",
       "      <td>0</td>\n",
       "    </tr>\n",
       "    <tr>\n",
       "      <th>1</th>\n",
       "      <td>41</td>\n",
       "      <td>101757</td>\n",
       "      <td>237024</td>\n",
       "      <td>2133-01-09 12:18:30</td>\n",
       "      <td>2133-01-12 15:51:03</td>\n",
       "      <td>2.845</td>\n",
       "      <td>261027.0</td>\n",
       "      <td>3.3937</td>\n",
       "      <td>56</td>\n",
       "      <td>3</td>\n",
       "      <td>0</td>\n",
       "      <td>3</td>\n",
       "      <td>1</td>\n",
       "      <td>1</td>\n",
       "      <td>2</td>\n",
       "      <td>0</td>\n",
       "      <td>0</td>\n",
       "    </tr>\n",
       "    <tr>\n",
       "      <th>2</th>\n",
       "      <td>68</td>\n",
       "      <td>170467</td>\n",
       "      <td>225771</td>\n",
       "      <td>2173-12-31 01:52:46</td>\n",
       "      <td>2173-12-31 21:33:34</td>\n",
       "      <td>11.418</td>\n",
       "      <td>294232.0</td>\n",
       "      <td>3.5368</td>\n",
       "      <td>41</td>\n",
       "      <td>1</td>\n",
       "      <td>0</td>\n",
       "      <td>2</td>\n",
       "      <td>1</td>\n",
       "      <td>1</td>\n",
       "      <td>1</td>\n",
       "      <td>0</td>\n",
       "      <td>0</td>\n",
       "    </tr>\n",
       "    <tr>\n",
       "      <th>3</th>\n",
       "      <td>68</td>\n",
       "      <td>108329</td>\n",
       "      <td>272667</td>\n",
       "      <td>2174-01-08 13:12:06</td>\n",
       "      <td>2174-01-14 22:45:42</td>\n",
       "      <td>7.652</td>\n",
       "      <td>225771.0</td>\n",
       "      <td>0.8200</td>\n",
       "      <td>41</td>\n",
       "      <td>1</td>\n",
       "      <td>0</td>\n",
       "      <td>2</td>\n",
       "      <td>1</td>\n",
       "      <td>1</td>\n",
       "      <td>1</td>\n",
       "      <td>0</td>\n",
       "      <td>0</td>\n",
       "    </tr>\n",
       "    <tr>\n",
       "      <th>4</th>\n",
       "      <td>91</td>\n",
       "      <td>121205</td>\n",
       "      <td>256972</td>\n",
       "      <td>2177-05-07 03:52:00</td>\n",
       "      <td>2177-05-10 15:16:00</td>\n",
       "      <td>9.576</td>\n",
       "      <td>218528.0</td>\n",
       "      <td>0.4965</td>\n",
       "      <td>81</td>\n",
       "      <td>3</td>\n",
       "      <td>1</td>\n",
       "      <td>2</td>\n",
       "      <td>1</td>\n",
       "      <td>1</td>\n",
       "      <td>1</td>\n",
       "      <td>0</td>\n",
       "      <td>0</td>\n",
       "    </tr>\n",
       "  </tbody>\n",
       "</table>\n",
       "</div>"
      ],
      "text/plain": [
       "   subjectid  hadmid  icustayid          icu_intime         icu_outtime  \\\n",
       "0         36  122659     211200 2131-05-16 23:18:26 2131-05-23 19:56:11   \n",
       "1         41  101757     237024 2133-01-09 12:18:30 2133-01-12 15:51:03   \n",
       "2         68  170467     225771 2173-12-31 01:52:46 2173-12-31 21:33:34   \n",
       "3         68  108329     272667 2174-01-08 13:12:06 2174-01-14 22:45:42   \n",
       "4         91  121205     256972 2177-05-07 03:52:00 2177-05-10 15:16:00   \n",
       "\n",
       "   readm_days  prev_icustayid  prev_iculos  age  ethnicity  marital_status  \\\n",
       "0      11.425        280987.0       1.1096   69          3               1   \n",
       "1       2.845        261027.0       3.3937   56          3               0   \n",
       "2      11.418        294232.0       3.5368   41          1               0   \n",
       "3       7.652        225771.0       0.8200   41          1               0   \n",
       "4       9.576        218528.0       0.4965   81          3               1   \n",
       "\n",
       "   insurance  NonEnglish  n_icutrav  curr_cu  prev_cu  prev_ICU  \n",
       "0          2           0          3        2        0         0  \n",
       "1          3           1          1        2        0         0  \n",
       "2          2           1          1        1        0         0  \n",
       "3          2           1          1        1        0         0  \n",
       "4          2           1          1        1        0         0  "
      ]
     },
     "execution_count": 21,
     "metadata": {},
     "output_type": "execute_result"
    }
   ],
   "source": [
    "q_careunit = \"\"\"SELECT DISTINCT ON (icustay_id, intime) icustay_id, \n",
    "intime, curr_careunit, prev_careunit\n",
    "FROM transfers WHERE icustay_id IS NOT NULL;\"\"\"\n",
    "\n",
    "careunit = exec_query(q_careunit)\n",
    "df_careunit = pd.DataFrame(careunit, \n",
    "                           columns = ['icustayid', 'icu_intime', \n",
    "                                      'curr_cu', 'prev_cu'])\n",
    "\n",
    "df_careunit.prev_cu.replace(to_replace = \n",
    "                            {'':0, 'MICU':1, 'CSRU': 2, 'SICU': 3, 'CCU': 4, \n",
    "                             'TSICU': 5,  'NICU':6, 'NWARD':7}, inplace=True)\n",
    "df_careunit.curr_cu.replace(to_replace = \n",
    "                            {'':0, 'MICU':1, 'CSRU': 2, 'SICU': 3, 'CCU': 4, \n",
    "                             'TSICU': 5,  'NICU':6, 'NWARD':7}, inplace=True)\n",
    "\n",
    "df_careunit['prev_ICU'] = df_careunit.prev_cu.apply(binary_cu)\n",
    "# df_careunit['curr_ICU'] = df_careunit.curr_cu.apply(binary_cu)\n",
    "\n",
    "df_readm8 = pd.merge(df_readm7, df_careunit, on=['icustayid', 'icu_intime'], how='left')\n",
    "\n",
    "print df_readm8.shape\n",
    "df_readm8.head()"
   ]
  },
  {
   "cell_type": "markdown",
   "metadata": {},
   "source": [
    "### ICU Discharge Care Unit\n",
    "Ward patient was transferred to after ICU stay.\n",
    "\n",
    "  * **`disch_cu`**: categorical feature indicating discharge unit from ICU\n",
    "  * **`disch_ICU`**: binary feature indicating ICU discharge\n",
    "\n",
    "Legend:\n",
    "  * nonICU : 0\n",
    "  * MICU : 1\n",
    "  * CSRU : 2\n",
    "  * SICU : 3\n",
    "  * CCU : 4 \n",
    "  * TSICU : 5\n",
    "  * NICU :6 \n",
    "  * NWARD :7\n",
    "  \n",
    "**Note**: Some records are missing information such as transfer from an ICU, indicating the end of the ICU stay. These `NULL` rows have been omitted."
   ]
  },
  {
   "cell_type": "code",
   "execution_count": 22,
   "metadata": {
    "collapsed": false,
    "scrolled": false
   },
   "outputs": [
    {
     "name": "stdout",
     "output_type": "stream",
     "text": [
      "(6160, 19)\n"
     ]
    },
    {
     "data": {
      "text/html": [
       "<div>\n",
       "<table border=\"1\" class=\"dataframe\">\n",
       "  <thead>\n",
       "    <tr style=\"text-align: right;\">\n",
       "      <th></th>\n",
       "      <th>subjectid</th>\n",
       "      <th>hadmid</th>\n",
       "      <th>icustayid</th>\n",
       "      <th>icu_intime</th>\n",
       "      <th>icu_outtime</th>\n",
       "      <th>readm_days</th>\n",
       "      <th>prev_icustayid</th>\n",
       "      <th>prev_iculos</th>\n",
       "      <th>age</th>\n",
       "      <th>ethnicity</th>\n",
       "      <th>marital_status</th>\n",
       "      <th>insurance</th>\n",
       "      <th>NonEnglish</th>\n",
       "      <th>n_icutrav</th>\n",
       "      <th>curr_cu</th>\n",
       "      <th>prev_cu</th>\n",
       "      <th>prev_ICU</th>\n",
       "      <th>disch_cu</th>\n",
       "      <th>disch_ICU</th>\n",
       "    </tr>\n",
       "  </thead>\n",
       "  <tbody>\n",
       "    <tr>\n",
       "      <th>0</th>\n",
       "      <td>36</td>\n",
       "      <td>122659</td>\n",
       "      <td>211200</td>\n",
       "      <td>2131-05-16 23:18:26</td>\n",
       "      <td>2131-05-23 19:56:11</td>\n",
       "      <td>11.425</td>\n",
       "      <td>280987.0</td>\n",
       "      <td>1.1096</td>\n",
       "      <td>69</td>\n",
       "      <td>3</td>\n",
       "      <td>1</td>\n",
       "      <td>2</td>\n",
       "      <td>0</td>\n",
       "      <td>3</td>\n",
       "      <td>2</td>\n",
       "      <td>0</td>\n",
       "      <td>0</td>\n",
       "      <td>0</td>\n",
       "      <td>0</td>\n",
       "    </tr>\n",
       "    <tr>\n",
       "      <th>1</th>\n",
       "      <td>41</td>\n",
       "      <td>101757</td>\n",
       "      <td>237024</td>\n",
       "      <td>2133-01-09 12:18:30</td>\n",
       "      <td>2133-01-12 15:51:03</td>\n",
       "      <td>2.845</td>\n",
       "      <td>261027.0</td>\n",
       "      <td>3.3937</td>\n",
       "      <td>56</td>\n",
       "      <td>3</td>\n",
       "      <td>0</td>\n",
       "      <td>3</td>\n",
       "      <td>1</td>\n",
       "      <td>1</td>\n",
       "      <td>2</td>\n",
       "      <td>0</td>\n",
       "      <td>0</td>\n",
       "      <td>0</td>\n",
       "      <td>0</td>\n",
       "    </tr>\n",
       "    <tr>\n",
       "      <th>2</th>\n",
       "      <td>68</td>\n",
       "      <td>170467</td>\n",
       "      <td>225771</td>\n",
       "      <td>2173-12-31 01:52:46</td>\n",
       "      <td>2173-12-31 21:33:34</td>\n",
       "      <td>11.418</td>\n",
       "      <td>294232.0</td>\n",
       "      <td>3.5368</td>\n",
       "      <td>41</td>\n",
       "      <td>1</td>\n",
       "      <td>0</td>\n",
       "      <td>2</td>\n",
       "      <td>1</td>\n",
       "      <td>1</td>\n",
       "      <td>1</td>\n",
       "      <td>0</td>\n",
       "      <td>0</td>\n",
       "      <td>0</td>\n",
       "      <td>0</td>\n",
       "    </tr>\n",
       "    <tr>\n",
       "      <th>3</th>\n",
       "      <td>68</td>\n",
       "      <td>108329</td>\n",
       "      <td>272667</td>\n",
       "      <td>2174-01-08 13:12:06</td>\n",
       "      <td>2174-01-14 22:45:42</td>\n",
       "      <td>7.652</td>\n",
       "      <td>225771.0</td>\n",
       "      <td>0.8200</td>\n",
       "      <td>41</td>\n",
       "      <td>1</td>\n",
       "      <td>0</td>\n",
       "      <td>2</td>\n",
       "      <td>1</td>\n",
       "      <td>1</td>\n",
       "      <td>1</td>\n",
       "      <td>0</td>\n",
       "      <td>0</td>\n",
       "      <td>0</td>\n",
       "      <td>0</td>\n",
       "    </tr>\n",
       "    <tr>\n",
       "      <th>4</th>\n",
       "      <td>91</td>\n",
       "      <td>121205</td>\n",
       "      <td>256972</td>\n",
       "      <td>2177-05-07 03:52:00</td>\n",
       "      <td>2177-05-10 15:16:00</td>\n",
       "      <td>9.576</td>\n",
       "      <td>218528.0</td>\n",
       "      <td>0.4965</td>\n",
       "      <td>81</td>\n",
       "      <td>3</td>\n",
       "      <td>1</td>\n",
       "      <td>2</td>\n",
       "      <td>1</td>\n",
       "      <td>1</td>\n",
       "      <td>1</td>\n",
       "      <td>0</td>\n",
       "      <td>0</td>\n",
       "      <td>0</td>\n",
       "      <td>0</td>\n",
       "    </tr>\n",
       "  </tbody>\n",
       "</table>\n",
       "</div>"
      ],
      "text/plain": [
       "   subjectid  hadmid  icustayid          icu_intime         icu_outtime  \\\n",
       "0         36  122659     211200 2131-05-16 23:18:26 2131-05-23 19:56:11   \n",
       "1         41  101757     237024 2133-01-09 12:18:30 2133-01-12 15:51:03   \n",
       "2         68  170467     225771 2173-12-31 01:52:46 2173-12-31 21:33:34   \n",
       "3         68  108329     272667 2174-01-08 13:12:06 2174-01-14 22:45:42   \n",
       "4         91  121205     256972 2177-05-07 03:52:00 2177-05-10 15:16:00   \n",
       "\n",
       "   readm_days  prev_icustayid  prev_iculos  age  ethnicity  marital_status  \\\n",
       "0      11.425        280987.0       1.1096   69          3               1   \n",
       "1       2.845        261027.0       3.3937   56          3               0   \n",
       "2      11.418        294232.0       3.5368   41          1               0   \n",
       "3       7.652        225771.0       0.8200   41          1               0   \n",
       "4       9.576        218528.0       0.4965   81          3               1   \n",
       "\n",
       "   insurance  NonEnglish  n_icutrav  curr_cu  prev_cu  prev_ICU  disch_cu  \\\n",
       "0          2           0          3        2        0         0         0   \n",
       "1          3           1          1        2        0         0         0   \n",
       "2          2           1          1        1        0         0         0   \n",
       "3          2           1          1        1        0         0         0   \n",
       "4          2           1          1        1        0         0         0   \n",
       "\n",
       "   disch_ICU  \n",
       "0          0  \n",
       "1          0  \n",
       "2          0  \n",
       "3          0  \n",
       "4          0  "
      ]
     },
     "execution_count": 22,
     "metadata": {},
     "output_type": "execute_result"
    }
   ],
   "source": [
    "q_disch = \"\"\"SELECT DISTINCT ON (t1.outtime) t1.subject_id, t1.icustay_id, t2.curr_careunit, t1.outtime \n",
    "FROM\n",
    "  (SELECT * FROM transfers WHERE curr_careunit LIKE '%U') as t1\n",
    "INNER JOIN\n",
    "  (SELECT * FROM transfers WHERE prev_careunit != '') as t2\n",
    "ON t1.outtime = t2.intime\"\"\"\n",
    "\n",
    "disch_unit = exec_query(q_disch)\n",
    "df_disch = pd.DataFrame(disch_unit, \n",
    "                        columns=['subjectid', 'icustayid', 'disch_cu', 'icu_outtime'])\n",
    "df_disch['disch_cu'].replace(to_replace = \n",
    "                            {'':0, 'MICU':1, 'CSRU': 2, 'SICU': 3, 'CCU': 4, \n",
    "                             'TSICU': 5,  'NICU':6, 'NWARD':7}, inplace=True)\n",
    "\n",
    "df_disch['disch_ICU'] = df_disch.disch_cu.apply(binary_cu)\n",
    "\n",
    "df_readm9 = pd.merge(df_readm8, df_disch[['icustayid', 'disch_cu', 'icu_outtime', 'disch_ICU']], \n",
    "                       on=['icustayid', 'icu_outtime'], how='inner')\n",
    "print df_readm9.shape\n",
    "df_readm9.head()"
   ]
  },
  {
   "cell_type": "markdown",
   "metadata": {},
   "source": [
    "### ICU Time (Day/Night)\n",
    "Time of ICU \"admission\" and \"discharge\" (day or night)\n",
    "\n",
    "Features\n",
    "  * **`icu_in_day`**: Time of ICU admission\n",
    "  * **`icu_out_day`**: Time of ICU discharge\n",
    "\n",
    "Legend:\n",
    "  * **`0`**: night\n",
    "  * **`1`**: day"
   ]
  },
  {
   "cell_type": "code",
   "execution_count": 23,
   "metadata": {
    "collapsed": false,
    "scrolled": true
   },
   "outputs": [],
   "source": [
    "def day_night(datetime):\n",
    "    hour = np.timedelta64(np.datetime64(datetime, 'h') - (np.datetime64(datetime, 'D')), 'h')\n",
    "    if hour.astype(np.int64) >=6 and hour.astype(np.int64) <=18:\n",
    "        time = 1 # day\n",
    "    else:\n",
    "        time = 0 # night\n",
    "    return time"
   ]
  },
  {
   "cell_type": "code",
   "execution_count": 24,
   "metadata": {
    "collapsed": false,
    "scrolled": true
   },
   "outputs": [
    {
     "name": "stdout",
     "output_type": "stream",
     "text": [
      "(6160, 21)\n"
     ]
    },
    {
     "data": {
      "text/html": [
       "<div>\n",
       "<table border=\"1\" class=\"dataframe\">\n",
       "  <thead>\n",
       "    <tr style=\"text-align: right;\">\n",
       "      <th></th>\n",
       "      <th>subjectid</th>\n",
       "      <th>hadmid</th>\n",
       "      <th>icustayid</th>\n",
       "      <th>icu_intime</th>\n",
       "      <th>icu_outtime</th>\n",
       "      <th>readm_days</th>\n",
       "      <th>prev_icustayid</th>\n",
       "      <th>prev_iculos</th>\n",
       "      <th>age</th>\n",
       "      <th>ethnicity</th>\n",
       "      <th>...</th>\n",
       "      <th>insurance</th>\n",
       "      <th>NonEnglish</th>\n",
       "      <th>n_icutrav</th>\n",
       "      <th>curr_cu</th>\n",
       "      <th>prev_cu</th>\n",
       "      <th>prev_ICU</th>\n",
       "      <th>disch_cu</th>\n",
       "      <th>disch_ICU</th>\n",
       "      <th>icu_in_day</th>\n",
       "      <th>icu_out_day</th>\n",
       "    </tr>\n",
       "  </thead>\n",
       "  <tbody>\n",
       "    <tr>\n",
       "      <th>0</th>\n",
       "      <td>36</td>\n",
       "      <td>122659</td>\n",
       "      <td>211200</td>\n",
       "      <td>2131-05-16 23:18:26</td>\n",
       "      <td>2131-05-23 19:56:11</td>\n",
       "      <td>11.425</td>\n",
       "      <td>280987.0</td>\n",
       "      <td>1.1096</td>\n",
       "      <td>69</td>\n",
       "      <td>3</td>\n",
       "      <td>...</td>\n",
       "      <td>2</td>\n",
       "      <td>0</td>\n",
       "      <td>3</td>\n",
       "      <td>2</td>\n",
       "      <td>0</td>\n",
       "      <td>0</td>\n",
       "      <td>0</td>\n",
       "      <td>0</td>\n",
       "      <td>0</td>\n",
       "      <td>0</td>\n",
       "    </tr>\n",
       "    <tr>\n",
       "      <th>1</th>\n",
       "      <td>41</td>\n",
       "      <td>101757</td>\n",
       "      <td>237024</td>\n",
       "      <td>2133-01-09 12:18:30</td>\n",
       "      <td>2133-01-12 15:51:03</td>\n",
       "      <td>2.845</td>\n",
       "      <td>261027.0</td>\n",
       "      <td>3.3937</td>\n",
       "      <td>56</td>\n",
       "      <td>3</td>\n",
       "      <td>...</td>\n",
       "      <td>3</td>\n",
       "      <td>1</td>\n",
       "      <td>1</td>\n",
       "      <td>2</td>\n",
       "      <td>0</td>\n",
       "      <td>0</td>\n",
       "      <td>0</td>\n",
       "      <td>0</td>\n",
       "      <td>1</td>\n",
       "      <td>1</td>\n",
       "    </tr>\n",
       "    <tr>\n",
       "      <th>2</th>\n",
       "      <td>68</td>\n",
       "      <td>170467</td>\n",
       "      <td>225771</td>\n",
       "      <td>2173-12-31 01:52:46</td>\n",
       "      <td>2173-12-31 21:33:34</td>\n",
       "      <td>11.418</td>\n",
       "      <td>294232.0</td>\n",
       "      <td>3.5368</td>\n",
       "      <td>41</td>\n",
       "      <td>1</td>\n",
       "      <td>...</td>\n",
       "      <td>2</td>\n",
       "      <td>1</td>\n",
       "      <td>1</td>\n",
       "      <td>1</td>\n",
       "      <td>0</td>\n",
       "      <td>0</td>\n",
       "      <td>0</td>\n",
       "      <td>0</td>\n",
       "      <td>0</td>\n",
       "      <td>0</td>\n",
       "    </tr>\n",
       "    <tr>\n",
       "      <th>3</th>\n",
       "      <td>68</td>\n",
       "      <td>108329</td>\n",
       "      <td>272667</td>\n",
       "      <td>2174-01-08 13:12:06</td>\n",
       "      <td>2174-01-14 22:45:42</td>\n",
       "      <td>7.652</td>\n",
       "      <td>225771.0</td>\n",
       "      <td>0.8200</td>\n",
       "      <td>41</td>\n",
       "      <td>1</td>\n",
       "      <td>...</td>\n",
       "      <td>2</td>\n",
       "      <td>1</td>\n",
       "      <td>1</td>\n",
       "      <td>1</td>\n",
       "      <td>0</td>\n",
       "      <td>0</td>\n",
       "      <td>0</td>\n",
       "      <td>0</td>\n",
       "      <td>1</td>\n",
       "      <td>0</td>\n",
       "    </tr>\n",
       "    <tr>\n",
       "      <th>4</th>\n",
       "      <td>91</td>\n",
       "      <td>121205</td>\n",
       "      <td>256972</td>\n",
       "      <td>2177-05-07 03:52:00</td>\n",
       "      <td>2177-05-10 15:16:00</td>\n",
       "      <td>9.576</td>\n",
       "      <td>218528.0</td>\n",
       "      <td>0.4965</td>\n",
       "      <td>81</td>\n",
       "      <td>3</td>\n",
       "      <td>...</td>\n",
       "      <td>2</td>\n",
       "      <td>1</td>\n",
       "      <td>1</td>\n",
       "      <td>1</td>\n",
       "      <td>0</td>\n",
       "      <td>0</td>\n",
       "      <td>0</td>\n",
       "      <td>0</td>\n",
       "      <td>0</td>\n",
       "      <td>1</td>\n",
       "    </tr>\n",
       "  </tbody>\n",
       "</table>\n",
       "<p>5 rows × 21 columns</p>\n",
       "</div>"
      ],
      "text/plain": [
       "   subjectid  hadmid  icustayid          icu_intime         icu_outtime  \\\n",
       "0         36  122659     211200 2131-05-16 23:18:26 2131-05-23 19:56:11   \n",
       "1         41  101757     237024 2133-01-09 12:18:30 2133-01-12 15:51:03   \n",
       "2         68  170467     225771 2173-12-31 01:52:46 2173-12-31 21:33:34   \n",
       "3         68  108329     272667 2174-01-08 13:12:06 2174-01-14 22:45:42   \n",
       "4         91  121205     256972 2177-05-07 03:52:00 2177-05-10 15:16:00   \n",
       "\n",
       "   readm_days  prev_icustayid  prev_iculos  age  ethnicity     ...       \\\n",
       "0      11.425        280987.0       1.1096   69          3     ...        \n",
       "1       2.845        261027.0       3.3937   56          3     ...        \n",
       "2      11.418        294232.0       3.5368   41          1     ...        \n",
       "3       7.652        225771.0       0.8200   41          1     ...        \n",
       "4       9.576        218528.0       0.4965   81          3     ...        \n",
       "\n",
       "   insurance  NonEnglish  n_icutrav  curr_cu  prev_cu  prev_ICU  disch_cu  \\\n",
       "0          2           0          3        2        0         0         0   \n",
       "1          3           1          1        2        0         0         0   \n",
       "2          2           1          1        1        0         0         0   \n",
       "3          2           1          1        1        0         0         0   \n",
       "4          2           1          1        1        0         0         0   \n",
       "\n",
       "   disch_ICU  icu_in_day  icu_out_day  \n",
       "0          0           0            0  \n",
       "1          0           1            1  \n",
       "2          0           0            0  \n",
       "3          0           1            0  \n",
       "4          0           0            1  \n",
       "\n",
       "[5 rows x 21 columns]"
      ]
     },
     "execution_count": 24,
     "metadata": {},
     "output_type": "execute_result"
    }
   ],
   "source": [
    "df_readm9['icu_in_day'] = df_readm9['icu_intime'].apply(day_night)\n",
    "df_readm9['icu_out_day'] = df_readm9['icu_outtime'].apply(day_night)\n",
    "print df_readm9.shape\n",
    "df_readm9.head()"
   ]
  },
  {
   "cell_type": "markdown",
   "metadata": {},
   "source": [
    "### ICU Readmission\n",
    "Risk Scores based on ICU readmissions (*multiple unique ICU admissions within the specified interval*).\n",
    "\n",
    "**`Risk Score = N`<sub>ICU readmission</sub> ` = N`<sub>Total ICU admissions</sub>` - 1`**  \n",
    "The value of the risk score indicates the count/frequency of readmission for the given ICU stay.\n",
    " * `0`: indicates first ICU stay during the interval\n",
    " * `2`: indicates 3 total ICU stays and 2 ICU readmissions during the interval "
   ]
  },
  {
   "cell_type": "code",
   "execution_count": 25,
   "metadata": {
    "collapsed": true,
    "scrolled": true
   },
   "outputs": [],
   "source": [
    "# df_icustay4['icustayid'].groupby(df_icustay4['subjectid']).agg('count'-9'')\n",
    "d_risk = dict()\n",
    "for i, row in df_readm4.iterrows():\n",
    "    if d_risk.has_key(row.subjectid):\n",
    "        d_risk[row.subjectid]['count'] += 1\n",
    "        d_risk[row.subjectid][row.icustayid] = d_risk[row.subjectid]['count'] \n",
    "\n",
    "    else:\n",
    "        d_icu = {'count': 0}\n",
    "        d_icu[row.icustayid] = d_icu['count']\n",
    "        d_risk[row.subjectid] = d_icu\n",
    "        \n",
    "        \n",
    "df_readm9['readm_risk'] = df_readm9.subjectid.astype(str)+'-'+df_readm9.astype(str).icustayid"
   ]
  },
  {
   "cell_type": "code",
   "execution_count": 26,
   "metadata": {
    "collapsed": true,
    "scrolled": true
   },
   "outputs": [],
   "source": [
    "def intra_interval(stay):\n",
    "    risk_score = str.split(stay, '-')\n",
    "    sid = int(risk_score[0])\n",
    "    stayid = int(risk_score[1])\n",
    "    \n",
    "    return d_risk[sid][stayid]    "
   ]
  },
  {
   "cell_type": "code",
   "execution_count": 27,
   "metadata": {
    "collapsed": false,
    "scrolled": true
   },
   "outputs": [
    {
     "name": "stdout",
     "output_type": "stream",
     "text": [
      "(6160, 22)\n"
     ]
    },
    {
     "data": {
      "text/html": [
       "<div>\n",
       "<table border=\"1\" class=\"dataframe\">\n",
       "  <thead>\n",
       "    <tr style=\"text-align: right;\">\n",
       "      <th></th>\n",
       "      <th>subjectid</th>\n",
       "      <th>hadmid</th>\n",
       "      <th>icustayid</th>\n",
       "      <th>icu_intime</th>\n",
       "      <th>icu_outtime</th>\n",
       "      <th>readm_days</th>\n",
       "      <th>prev_icustayid</th>\n",
       "      <th>prev_iculos</th>\n",
       "      <th>age</th>\n",
       "      <th>ethnicity</th>\n",
       "      <th>...</th>\n",
       "      <th>NonEnglish</th>\n",
       "      <th>n_icutrav</th>\n",
       "      <th>curr_cu</th>\n",
       "      <th>prev_cu</th>\n",
       "      <th>prev_ICU</th>\n",
       "      <th>disch_cu</th>\n",
       "      <th>disch_ICU</th>\n",
       "      <th>icu_in_day</th>\n",
       "      <th>icu_out_day</th>\n",
       "      <th>readm_risk</th>\n",
       "    </tr>\n",
       "  </thead>\n",
       "  <tbody>\n",
       "    <tr>\n",
       "      <th>0</th>\n",
       "      <td>36</td>\n",
       "      <td>122659</td>\n",
       "      <td>211200</td>\n",
       "      <td>2131-05-16 23:18:26</td>\n",
       "      <td>2131-05-23 19:56:11</td>\n",
       "      <td>11.425</td>\n",
       "      <td>280987.0</td>\n",
       "      <td>1.1096</td>\n",
       "      <td>69</td>\n",
       "      <td>3</td>\n",
       "      <td>...</td>\n",
       "      <td>0</td>\n",
       "      <td>3</td>\n",
       "      <td>2</td>\n",
       "      <td>0</td>\n",
       "      <td>0</td>\n",
       "      <td>0</td>\n",
       "      <td>0</td>\n",
       "      <td>0</td>\n",
       "      <td>0</td>\n",
       "      <td>0</td>\n",
       "    </tr>\n",
       "    <tr>\n",
       "      <th>1</th>\n",
       "      <td>41</td>\n",
       "      <td>101757</td>\n",
       "      <td>237024</td>\n",
       "      <td>2133-01-09 12:18:30</td>\n",
       "      <td>2133-01-12 15:51:03</td>\n",
       "      <td>2.845</td>\n",
       "      <td>261027.0</td>\n",
       "      <td>3.3937</td>\n",
       "      <td>56</td>\n",
       "      <td>3</td>\n",
       "      <td>...</td>\n",
       "      <td>1</td>\n",
       "      <td>1</td>\n",
       "      <td>2</td>\n",
       "      <td>0</td>\n",
       "      <td>0</td>\n",
       "      <td>0</td>\n",
       "      <td>0</td>\n",
       "      <td>1</td>\n",
       "      <td>1</td>\n",
       "      <td>0</td>\n",
       "    </tr>\n",
       "    <tr>\n",
       "      <th>2</th>\n",
       "      <td>68</td>\n",
       "      <td>170467</td>\n",
       "      <td>225771</td>\n",
       "      <td>2173-12-31 01:52:46</td>\n",
       "      <td>2173-12-31 21:33:34</td>\n",
       "      <td>11.418</td>\n",
       "      <td>294232.0</td>\n",
       "      <td>3.5368</td>\n",
       "      <td>41</td>\n",
       "      <td>1</td>\n",
       "      <td>...</td>\n",
       "      <td>1</td>\n",
       "      <td>1</td>\n",
       "      <td>1</td>\n",
       "      <td>0</td>\n",
       "      <td>0</td>\n",
       "      <td>0</td>\n",
       "      <td>0</td>\n",
       "      <td>0</td>\n",
       "      <td>0</td>\n",
       "      <td>0</td>\n",
       "    </tr>\n",
       "    <tr>\n",
       "      <th>3</th>\n",
       "      <td>68</td>\n",
       "      <td>108329</td>\n",
       "      <td>272667</td>\n",
       "      <td>2174-01-08 13:12:06</td>\n",
       "      <td>2174-01-14 22:45:42</td>\n",
       "      <td>7.652</td>\n",
       "      <td>225771.0</td>\n",
       "      <td>0.8200</td>\n",
       "      <td>41</td>\n",
       "      <td>1</td>\n",
       "      <td>...</td>\n",
       "      <td>1</td>\n",
       "      <td>1</td>\n",
       "      <td>1</td>\n",
       "      <td>0</td>\n",
       "      <td>0</td>\n",
       "      <td>0</td>\n",
       "      <td>0</td>\n",
       "      <td>1</td>\n",
       "      <td>0</td>\n",
       "      <td>1</td>\n",
       "    </tr>\n",
       "    <tr>\n",
       "      <th>4</th>\n",
       "      <td>91</td>\n",
       "      <td>121205</td>\n",
       "      <td>256972</td>\n",
       "      <td>2177-05-07 03:52:00</td>\n",
       "      <td>2177-05-10 15:16:00</td>\n",
       "      <td>9.576</td>\n",
       "      <td>218528.0</td>\n",
       "      <td>0.4965</td>\n",
       "      <td>81</td>\n",
       "      <td>3</td>\n",
       "      <td>...</td>\n",
       "      <td>1</td>\n",
       "      <td>1</td>\n",
       "      <td>1</td>\n",
       "      <td>0</td>\n",
       "      <td>0</td>\n",
       "      <td>0</td>\n",
       "      <td>0</td>\n",
       "      <td>0</td>\n",
       "      <td>1</td>\n",
       "      <td>0</td>\n",
       "    </tr>\n",
       "  </tbody>\n",
       "</table>\n",
       "<p>5 rows × 22 columns</p>\n",
       "</div>"
      ],
      "text/plain": [
       "   subjectid  hadmid  icustayid          icu_intime         icu_outtime  \\\n",
       "0         36  122659     211200 2131-05-16 23:18:26 2131-05-23 19:56:11   \n",
       "1         41  101757     237024 2133-01-09 12:18:30 2133-01-12 15:51:03   \n",
       "2         68  170467     225771 2173-12-31 01:52:46 2173-12-31 21:33:34   \n",
       "3         68  108329     272667 2174-01-08 13:12:06 2174-01-14 22:45:42   \n",
       "4         91  121205     256972 2177-05-07 03:52:00 2177-05-10 15:16:00   \n",
       "\n",
       "   readm_days  prev_icustayid  prev_iculos  age  ethnicity     ...      \\\n",
       "0      11.425        280987.0       1.1096   69          3     ...       \n",
       "1       2.845        261027.0       3.3937   56          3     ...       \n",
       "2      11.418        294232.0       3.5368   41          1     ...       \n",
       "3       7.652        225771.0       0.8200   41          1     ...       \n",
       "4       9.576        218528.0       0.4965   81          3     ...       \n",
       "\n",
       "   NonEnglish  n_icutrav  curr_cu  prev_cu  prev_ICU  disch_cu  disch_ICU  \\\n",
       "0           0          3        2        0         0         0          0   \n",
       "1           1          1        2        0         0         0          0   \n",
       "2           1          1        1        0         0         0          0   \n",
       "3           1          1        1        0         0         0          0   \n",
       "4           1          1        1        0         0         0          0   \n",
       "\n",
       "   icu_in_day  icu_out_day  readm_risk  \n",
       "0           0            0           0  \n",
       "1           1            1           0  \n",
       "2           0            0           0  \n",
       "3           1            0           1  \n",
       "4           0            1           0  \n",
       "\n",
       "[5 rows x 22 columns]"
      ]
     },
     "execution_count": 27,
     "metadata": {},
     "output_type": "execute_result"
    }
   ],
   "source": [
    "df_readm9['readm_risk'] = df_readm9['readm_risk'].apply(intra_interval)\n",
    "print df_readm9.shape\n",
    "df_readm9.head()"
   ]
  },
  {
   "cell_type": "markdown",
   "metadata": {},
   "source": [
    "### Traversal Pairs\n",
    "**Feature transformation** The probability of the feature combination pair is used as weight and applied onto the count for each row.\n",
    "\n",
    "**Note**: The overall hospital admission LOS may be extracted by taking the aggregate mean of the DataFrame, after it has been grouped by `subject_id`."
   ]
  },
  {
   "cell_type": "code",
   "execution_count": 28,
   "metadata": {
    "collapsed": true,
    "scrolled": true
   },
   "outputs": [],
   "source": [
    "q_trav = \"\"\"SELECT subject_id, icustay_id, eventtype,\n",
    "prev_careunit, curr_careunit\n",
    "FROM transfers\n",
    "WHERE icustay_id IS NOT NULL;\"\"\"\n",
    "mult_trav = exec_query(q_trav, False)\n",
    "mult_col = ['subjectid', 'icustayid', 'eventtype', 'prev_cu', 'curr_cu']\n",
    "df_trav = pd.DataFrame(mult_trav, columns = mult_col)\n",
    "df_trav.replace(to_replace='', value=np.nan, inplace=True, regex=True)\n",
    "\n",
    "df_trav = df_trav[df_trav.prev_cu != 'NICU']\n",
    "df_trav = df_trav[df_trav.prev_cu != 'NWARD']\n",
    "df_trav = df_trav[df_trav.curr_cu != 'NICU']\n",
    "df_trav = df_trav[df_trav.curr_cu != 'NWARD']\n",
    "df_trav.prev_cu.fillna('nonicu', inplace=True)\n",
    "df_trav.curr_cu.fillna('nonicu', inplace=True)\n",
    "\n",
    "df_trav['trans'] = df_trav.prev_cu+'-'+df_trav.curr_cu\n",
    "\n",
    "# Filter for Patients with ICU readmission\n",
    "q_icupat=\"\"\"SELECT * FROM\n",
    "    (SELECT subject_id, COUNT(icustay_id) AS n_icustays\n",
    "    FROM icustays\n",
    "    GROUP BY subject_id) AS sub_q\n",
    "WHERE n_icustays > 1;\"\"\"\n",
    "\n",
    "icupat = exec_query(q_icupat)\n",
    "df_icupat = pd.DataFrame(icupat, columns=['subjectid', 'n_icustays'])\n",
    "df_icupat\n",
    "# filter for ICU patients with readmissions\n",
    "filter_preadm = list(df_icupat.subjectid)\n",
    "df_trav = df_trav[df_trav.subjectid.isin(filter_preadm)]"
   ]
  },
  {
   "cell_type": "code",
   "execution_count": 29,
   "metadata": {
    "collapsed": true,
    "scrolled": true
   },
   "outputs": [],
   "source": [
    "from collections import Counter\n",
    "\n",
    "icuid = list(df_trav.icustayid.value_counts().index) # unique subject_id\n",
    "\n",
    "main_d = dict()\n",
    "for stay in icuid:\n",
    "    pair_d = dict(Counter(df_trav[df_trav.icustayid==stay].trans))\n",
    "    pair_d['icustayid'] = stay # add subjectid key\n",
    "    main_d[stay] = pair_d"
   ]
  },
  {
   "cell_type": "markdown",
   "metadata": {},
   "source": [
    "#### Count of Traversal Pair"
   ]
  },
  {
   "cell_type": "code",
   "execution_count": 30,
   "metadata": {
    "collapsed": true,
    "scrolled": true
   },
   "outputs": [],
   "source": [
    "df_toppairs = df_trav.trans.value_counts(ascending=False).to_frame()\n",
    "df_top = df_toppairs.transpose().iloc[:,0:11]\n",
    "\n",
    "df_pairct = pd.DataFrame.from_dict(main_d, orient='index')\n",
    "\n",
    "# drop non-top trans pair cols\n",
    "pairs_drop = list(df_toppairs.iloc[10:].index)\n",
    "df_pairct.drop(pairs_drop, axis=1, inplace=True) \n",
    "\n",
    "df_readm10 = pd.merge(df_readm9, df_pairct, on='icustayid', how='left')"
   ]
  },
  {
   "cell_type": "markdown",
   "metadata": {},
   "source": [
    "#### Probability Transformation (Weight)"
   ]
  },
  {
   "cell_type": "code",
   "execution_count": 31,
   "metadata": {
    "collapsed": false,
    "scrolled": true
   },
   "outputs": [
    {
     "data": {
      "text/html": [
       "<div>\n",
       "<table border=\"1\" class=\"dataframe\">\n",
       "  <thead>\n",
       "    <tr style=\"text-align: right;\">\n",
       "      <th>curr_cu</th>\n",
       "      <th>CCU</th>\n",
       "      <th>CSRU</th>\n",
       "      <th>MICU</th>\n",
       "      <th>SICU</th>\n",
       "      <th>TSICU</th>\n",
       "    </tr>\n",
       "    <tr>\n",
       "      <th>prev_cu</th>\n",
       "      <th></th>\n",
       "      <th></th>\n",
       "      <th></th>\n",
       "      <th></th>\n",
       "      <th></th>\n",
       "    </tr>\n",
       "  </thead>\n",
       "  <tbody>\n",
       "    <tr>\n",
       "      <th>CCU</th>\n",
       "      <td>0.058462</td>\n",
       "      <td>0.029022</td>\n",
       "      <td>0.018337</td>\n",
       "      <td>0.009021</td>\n",
       "      <td>0.008323</td>\n",
       "    </tr>\n",
       "    <tr>\n",
       "      <th>CSRU</th>\n",
       "      <td>0.039126</td>\n",
       "      <td>0.230929</td>\n",
       "      <td>0.008767</td>\n",
       "      <td>0.011963</td>\n",
       "      <td>0.007491</td>\n",
       "    </tr>\n",
       "    <tr>\n",
       "      <th>MICU</th>\n",
       "      <td>0.039126</td>\n",
       "      <td>0.012852</td>\n",
       "      <td>0.100891</td>\n",
       "      <td>0.036478</td>\n",
       "      <td>0.032043</td>\n",
       "    </tr>\n",
       "    <tr>\n",
       "      <th>SICU</th>\n",
       "      <td>0.012056</td>\n",
       "      <td>0.006633</td>\n",
       "      <td>0.015488</td>\n",
       "      <td>0.083742</td>\n",
       "      <td>0.014149</td>\n",
       "    </tr>\n",
       "    <tr>\n",
       "      <th>TSICU</th>\n",
       "      <td>0.009099</td>\n",
       "      <td>0.003731</td>\n",
       "      <td>0.010520</td>\n",
       "      <td>0.018631</td>\n",
       "      <td>0.110695</td>\n",
       "    </tr>\n",
       "    <tr>\n",
       "      <th>nonicu</th>\n",
       "      <td>0.842129</td>\n",
       "      <td>0.716833</td>\n",
       "      <td>0.845996</td>\n",
       "      <td>0.840165</td>\n",
       "      <td>0.827299</td>\n",
       "    </tr>\n",
       "  </tbody>\n",
       "</table>\n",
       "</div>"
      ],
      "text/plain": [
       "curr_cu       CCU      CSRU      MICU      SICU     TSICU\n",
       "prev_cu                                                  \n",
       "CCU      0.058462  0.029022  0.018337  0.009021  0.008323\n",
       "CSRU     0.039126  0.230929  0.008767  0.011963  0.007491\n",
       "MICU     0.039126  0.012852  0.100891  0.036478  0.032043\n",
       "SICU     0.012056  0.006633  0.015488  0.083742  0.014149\n",
       "TSICU    0.009099  0.003731  0.010520  0.018631  0.110695\n",
       "nonicu   0.842129  0.716833  0.845996  0.840165  0.827299"
      ]
     },
     "execution_count": 31,
     "metadata": {},
     "output_type": "execute_result"
    }
   ],
   "source": [
    "prev_cu = df_trav.prev_cu\n",
    "curr_cu = df_trav.curr_cu\n",
    "pair_prob = pd.crosstab(prev_cu, curr_cu) / pd.crosstab(prev_cu, curr_cu).sum()\n",
    "pair_prob"
   ]
  },
  {
   "cell_type": "code",
   "execution_count": 32,
   "metadata": {
    "collapsed": true,
    "scrolled": true
   },
   "outputs": [],
   "source": [
    "df_pairprob = pair_prob.unstack().to_frame(name='prob').reset_index()\n",
    "df_pairprob['trans'] = df_pairprob.prev_cu+'-'+df_pairprob.curr_cu\n",
    "df_pairprob.drop(['curr_cu', 'prev_cu'], axis=1, inplace=True)\n",
    "df_pairprob.set_index('trans', drop=True, inplace=True)\n",
    "# df_pairprob.sort_values('prob', ascending=False).head()"
   ]
  },
  {
   "cell_type": "code",
   "execution_count": 33,
   "metadata": {
    "collapsed": false,
    "scrolled": true
   },
   "outputs": [
    {
     "name": "stdout",
     "output_type": "stream",
     "text": [
      "(6160, 32)\n"
     ]
    },
    {
     "data": {
      "text/html": [
       "<div>\n",
       "<table border=\"1\" class=\"dataframe\">\n",
       "  <thead>\n",
       "    <tr style=\"text-align: right;\">\n",
       "      <th></th>\n",
       "      <th>subjectid</th>\n",
       "      <th>hadmid</th>\n",
       "      <th>icustayid</th>\n",
       "      <th>icu_intime</th>\n",
       "      <th>icu_outtime</th>\n",
       "      <th>readm_days</th>\n",
       "      <th>prev_icustayid</th>\n",
       "      <th>prev_iculos</th>\n",
       "      <th>age</th>\n",
       "      <th>ethnicity</th>\n",
       "      <th>...</th>\n",
       "      <th>nonicu-SICU</th>\n",
       "      <th>nonicu-CSRU</th>\n",
       "      <th>nonicu-MICU</th>\n",
       "      <th>MICU-MICU</th>\n",
       "      <th>nonicu-TSICU</th>\n",
       "      <th>nonicu-CCU</th>\n",
       "      <th>TSICU-TSICU</th>\n",
       "      <th>SICU-SICU</th>\n",
       "      <th>CSRU-CSRU</th>\n",
       "      <th>CCU-CCU</th>\n",
       "    </tr>\n",
       "  </thead>\n",
       "  <tbody>\n",
       "    <tr>\n",
       "      <th>0</th>\n",
       "      <td>36</td>\n",
       "      <td>122659</td>\n",
       "      <td>211200</td>\n",
       "      <td>2131-05-16 23:18:26</td>\n",
       "      <td>2131-05-23 19:56:11</td>\n",
       "      <td>11.425</td>\n",
       "      <td>280987.0</td>\n",
       "      <td>1.1096</td>\n",
       "      <td>69</td>\n",
       "      <td>3</td>\n",
       "      <td>...</td>\n",
       "      <td>0.0</td>\n",
       "      <td>0.717</td>\n",
       "      <td>0.000</td>\n",
       "      <td>0.0</td>\n",
       "      <td>0.0</td>\n",
       "      <td>0.0</td>\n",
       "      <td>0.0</td>\n",
       "      <td>0.0</td>\n",
       "      <td>0.462</td>\n",
       "      <td>0.0</td>\n",
       "    </tr>\n",
       "    <tr>\n",
       "      <th>1</th>\n",
       "      <td>41</td>\n",
       "      <td>101757</td>\n",
       "      <td>237024</td>\n",
       "      <td>2133-01-09 12:18:30</td>\n",
       "      <td>2133-01-12 15:51:03</td>\n",
       "      <td>2.845</td>\n",
       "      <td>261027.0</td>\n",
       "      <td>3.3937</td>\n",
       "      <td>56</td>\n",
       "      <td>3</td>\n",
       "      <td>...</td>\n",
       "      <td>0.0</td>\n",
       "      <td>0.717</td>\n",
       "      <td>0.000</td>\n",
       "      <td>0.0</td>\n",
       "      <td>0.0</td>\n",
       "      <td>0.0</td>\n",
       "      <td>0.0</td>\n",
       "      <td>0.0</td>\n",
       "      <td>0.000</td>\n",
       "      <td>0.0</td>\n",
       "    </tr>\n",
       "    <tr>\n",
       "      <th>2</th>\n",
       "      <td>68</td>\n",
       "      <td>170467</td>\n",
       "      <td>225771</td>\n",
       "      <td>2173-12-31 01:52:46</td>\n",
       "      <td>2173-12-31 21:33:34</td>\n",
       "      <td>11.418</td>\n",
       "      <td>294232.0</td>\n",
       "      <td>3.5368</td>\n",
       "      <td>41</td>\n",
       "      <td>1</td>\n",
       "      <td>...</td>\n",
       "      <td>0.0</td>\n",
       "      <td>0.000</td>\n",
       "      <td>0.846</td>\n",
       "      <td>0.0</td>\n",
       "      <td>0.0</td>\n",
       "      <td>0.0</td>\n",
       "      <td>0.0</td>\n",
       "      <td>0.0</td>\n",
       "      <td>0.000</td>\n",
       "      <td>0.0</td>\n",
       "    </tr>\n",
       "    <tr>\n",
       "      <th>3</th>\n",
       "      <td>68</td>\n",
       "      <td>108329</td>\n",
       "      <td>272667</td>\n",
       "      <td>2174-01-08 13:12:06</td>\n",
       "      <td>2174-01-14 22:45:42</td>\n",
       "      <td>7.652</td>\n",
       "      <td>225771.0</td>\n",
       "      <td>0.8200</td>\n",
       "      <td>41</td>\n",
       "      <td>1</td>\n",
       "      <td>...</td>\n",
       "      <td>0.0</td>\n",
       "      <td>0.000</td>\n",
       "      <td>0.846</td>\n",
       "      <td>0.0</td>\n",
       "      <td>0.0</td>\n",
       "      <td>0.0</td>\n",
       "      <td>0.0</td>\n",
       "      <td>0.0</td>\n",
       "      <td>0.000</td>\n",
       "      <td>0.0</td>\n",
       "    </tr>\n",
       "    <tr>\n",
       "      <th>4</th>\n",
       "      <td>91</td>\n",
       "      <td>121205</td>\n",
       "      <td>256972</td>\n",
       "      <td>2177-05-07 03:52:00</td>\n",
       "      <td>2177-05-10 15:16:00</td>\n",
       "      <td>9.576</td>\n",
       "      <td>218528.0</td>\n",
       "      <td>0.4965</td>\n",
       "      <td>81</td>\n",
       "      <td>3</td>\n",
       "      <td>...</td>\n",
       "      <td>0.0</td>\n",
       "      <td>0.000</td>\n",
       "      <td>0.846</td>\n",
       "      <td>0.0</td>\n",
       "      <td>0.0</td>\n",
       "      <td>0.0</td>\n",
       "      <td>0.0</td>\n",
       "      <td>0.0</td>\n",
       "      <td>0.000</td>\n",
       "      <td>0.0</td>\n",
       "    </tr>\n",
       "  </tbody>\n",
       "</table>\n",
       "<p>5 rows × 32 columns</p>\n",
       "</div>"
      ],
      "text/plain": [
       "   subjectid  hadmid  icustayid          icu_intime         icu_outtime  \\\n",
       "0         36  122659     211200 2131-05-16 23:18:26 2131-05-23 19:56:11   \n",
       "1         41  101757     237024 2133-01-09 12:18:30 2133-01-12 15:51:03   \n",
       "2         68  170467     225771 2173-12-31 01:52:46 2173-12-31 21:33:34   \n",
       "3         68  108329     272667 2174-01-08 13:12:06 2174-01-14 22:45:42   \n",
       "4         91  121205     256972 2177-05-07 03:52:00 2177-05-10 15:16:00   \n",
       "\n",
       "   readm_days  prev_icustayid  prev_iculos  age  ethnicity   ...     \\\n",
       "0      11.425        280987.0       1.1096   69          3   ...      \n",
       "1       2.845        261027.0       3.3937   56          3   ...      \n",
       "2      11.418        294232.0       3.5368   41          1   ...      \n",
       "3       7.652        225771.0       0.8200   41          1   ...      \n",
       "4       9.576        218528.0       0.4965   81          3   ...      \n",
       "\n",
       "   nonicu-SICU  nonicu-CSRU  nonicu-MICU  MICU-MICU  nonicu-TSICU  nonicu-CCU  \\\n",
       "0          0.0        0.717        0.000        0.0           0.0         0.0   \n",
       "1          0.0        0.717        0.000        0.0           0.0         0.0   \n",
       "2          0.0        0.000        0.846        0.0           0.0         0.0   \n",
       "3          0.0        0.000        0.846        0.0           0.0         0.0   \n",
       "4          0.0        0.000        0.846        0.0           0.0         0.0   \n",
       "\n",
       "   TSICU-TSICU  SICU-SICU  CSRU-CSRU  CCU-CCU  \n",
       "0          0.0        0.0      0.462      0.0  \n",
       "1          0.0        0.0      0.000      0.0  \n",
       "2          0.0        0.0      0.000      0.0  \n",
       "3          0.0        0.0      0.000      0.0  \n",
       "4          0.0        0.0      0.000      0.0  \n",
       "\n",
       "[5 rows x 32 columns]"
      ]
     },
     "execution_count": 33,
     "metadata": {},
     "output_type": "execute_result"
    }
   ],
   "source": [
    "pairs = ['nonicu-MICU', 'nonicu-SICU', 'nonicu-TSICU', 'nonicu-CSRU',\n",
    "         'MICU-MICU', 'TSICU-TSICU', 'nonicu-CCU', 'CCU-CCU', 'CSRU-CSRU',\n",
    "         'SICU-SICU']\n",
    "\n",
    "for elem in pairs:\n",
    "    df_readm10[elem].fillna(0, inplace=True)\n",
    "    df_readm10[elem] = np.round(df_readm10[elem] * df_pairprob.loc[elem].values[0],3)\n",
    "    \n",
    "print df_readm10.shape\n",
    "df_readm10.head()"
   ]
  },
  {
   "cell_type": "markdown",
   "metadata": {},
   "source": [
    "## Clinical Features\n",
    "Compile my operations-focused features with Luyan's clinical features.\n",
    "\n",
    "### Surgical Patients\n",
    "Feature indicating whether ICU stay involved a surgical procedure.\n",
    "\n",
    "Legend:\n",
    "  * **`0`**: No surgery\n",
    "  * **`1`**: Surgery"
   ]
  },
  {
   "cell_type": "code",
   "execution_count": 34,
   "metadata": {
    "collapsed": true
   },
   "outputs": [],
   "source": [
    "def icu_surg(data):\n",
    "    if data['surgtime'] >= data['icu_intime'] and data['surgtime'] <= data['icu_outtime']:\n",
    "        surg = 1\n",
    "    else:\n",
    "        surg = 0\n",
    "    return surg"
   ]
  },
  {
   "cell_type": "code",
   "execution_count": 35,
   "metadata": {
    "collapsed": false
   },
   "outputs": [
    {
     "name": "stdout",
     "output_type": "stream",
     "text": [
      "(6160, 33)\n"
     ]
    },
    {
     "data": {
      "text/html": [
       "<div>\n",
       "<table border=\"1\" class=\"dataframe\">\n",
       "  <thead>\n",
       "    <tr style=\"text-align: right;\">\n",
       "      <th></th>\n",
       "      <th>subjectid</th>\n",
       "      <th>hadmid</th>\n",
       "      <th>icustayid</th>\n",
       "      <th>icu_intime</th>\n",
       "      <th>icu_outtime</th>\n",
       "      <th>readm_days</th>\n",
       "      <th>prev_icustayid</th>\n",
       "      <th>prev_iculos</th>\n",
       "      <th>age</th>\n",
       "      <th>ethnicity</th>\n",
       "      <th>...</th>\n",
       "      <th>nonicu-CSRU</th>\n",
       "      <th>nonicu-MICU</th>\n",
       "      <th>MICU-MICU</th>\n",
       "      <th>nonicu-TSICU</th>\n",
       "      <th>nonicu-CCU</th>\n",
       "      <th>TSICU-TSICU</th>\n",
       "      <th>SICU-SICU</th>\n",
       "      <th>CSRU-CSRU</th>\n",
       "      <th>CCU-CCU</th>\n",
       "      <th>surg</th>\n",
       "    </tr>\n",
       "  </thead>\n",
       "  <tbody>\n",
       "    <tr>\n",
       "      <th>0</th>\n",
       "      <td>36</td>\n",
       "      <td>122659</td>\n",
       "      <td>211200</td>\n",
       "      <td>2131-05-16 23:18:26</td>\n",
       "      <td>2131-05-23 19:56:11</td>\n",
       "      <td>11.425</td>\n",
       "      <td>280987.0</td>\n",
       "      <td>1.1096</td>\n",
       "      <td>69</td>\n",
       "      <td>3</td>\n",
       "      <td>...</td>\n",
       "      <td>0.717</td>\n",
       "      <td>0.000</td>\n",
       "      <td>0.0</td>\n",
       "      <td>0.0</td>\n",
       "      <td>0.0</td>\n",
       "      <td>0.0</td>\n",
       "      <td>0.0</td>\n",
       "      <td>0.462</td>\n",
       "      <td>0.0</td>\n",
       "      <td>0</td>\n",
       "    </tr>\n",
       "    <tr>\n",
       "      <th>1</th>\n",
       "      <td>41</td>\n",
       "      <td>101757</td>\n",
       "      <td>237024</td>\n",
       "      <td>2133-01-09 12:18:30</td>\n",
       "      <td>2133-01-12 15:51:03</td>\n",
       "      <td>2.845</td>\n",
       "      <td>261027.0</td>\n",
       "      <td>3.3937</td>\n",
       "      <td>56</td>\n",
       "      <td>3</td>\n",
       "      <td>...</td>\n",
       "      <td>0.717</td>\n",
       "      <td>0.000</td>\n",
       "      <td>0.0</td>\n",
       "      <td>0.0</td>\n",
       "      <td>0.0</td>\n",
       "      <td>0.0</td>\n",
       "      <td>0.0</td>\n",
       "      <td>0.000</td>\n",
       "      <td>0.0</td>\n",
       "      <td>0</td>\n",
       "    </tr>\n",
       "    <tr>\n",
       "      <th>2</th>\n",
       "      <td>68</td>\n",
       "      <td>170467</td>\n",
       "      <td>225771</td>\n",
       "      <td>2173-12-31 01:52:46</td>\n",
       "      <td>2173-12-31 21:33:34</td>\n",
       "      <td>11.418</td>\n",
       "      <td>294232.0</td>\n",
       "      <td>3.5368</td>\n",
       "      <td>41</td>\n",
       "      <td>1</td>\n",
       "      <td>...</td>\n",
       "      <td>0.000</td>\n",
       "      <td>0.846</td>\n",
       "      <td>0.0</td>\n",
       "      <td>0.0</td>\n",
       "      <td>0.0</td>\n",
       "      <td>0.0</td>\n",
       "      <td>0.0</td>\n",
       "      <td>0.000</td>\n",
       "      <td>0.0</td>\n",
       "      <td>0</td>\n",
       "    </tr>\n",
       "    <tr>\n",
       "      <th>3</th>\n",
       "      <td>68</td>\n",
       "      <td>108329</td>\n",
       "      <td>272667</td>\n",
       "      <td>2174-01-08 13:12:06</td>\n",
       "      <td>2174-01-14 22:45:42</td>\n",
       "      <td>7.652</td>\n",
       "      <td>225771.0</td>\n",
       "      <td>0.8200</td>\n",
       "      <td>41</td>\n",
       "      <td>1</td>\n",
       "      <td>...</td>\n",
       "      <td>0.000</td>\n",
       "      <td>0.846</td>\n",
       "      <td>0.0</td>\n",
       "      <td>0.0</td>\n",
       "      <td>0.0</td>\n",
       "      <td>0.0</td>\n",
       "      <td>0.0</td>\n",
       "      <td>0.000</td>\n",
       "      <td>0.0</td>\n",
       "      <td>0</td>\n",
       "    </tr>\n",
       "    <tr>\n",
       "      <th>4</th>\n",
       "      <td>91</td>\n",
       "      <td>121205</td>\n",
       "      <td>256972</td>\n",
       "      <td>2177-05-07 03:52:00</td>\n",
       "      <td>2177-05-10 15:16:00</td>\n",
       "      <td>9.576</td>\n",
       "      <td>218528.0</td>\n",
       "      <td>0.4965</td>\n",
       "      <td>81</td>\n",
       "      <td>3</td>\n",
       "      <td>...</td>\n",
       "      <td>0.000</td>\n",
       "      <td>0.846</td>\n",
       "      <td>0.0</td>\n",
       "      <td>0.0</td>\n",
       "      <td>0.0</td>\n",
       "      <td>0.0</td>\n",
       "      <td>0.0</td>\n",
       "      <td>0.000</td>\n",
       "      <td>0.0</td>\n",
       "      <td>0</td>\n",
       "    </tr>\n",
       "  </tbody>\n",
       "</table>\n",
       "<p>5 rows × 33 columns</p>\n",
       "</div>"
      ],
      "text/plain": [
       "   subjectid  hadmid  icustayid          icu_intime         icu_outtime  \\\n",
       "0         36  122659     211200 2131-05-16 23:18:26 2131-05-23 19:56:11   \n",
       "1         41  101757     237024 2133-01-09 12:18:30 2133-01-12 15:51:03   \n",
       "2         68  170467     225771 2173-12-31 01:52:46 2173-12-31 21:33:34   \n",
       "3         68  108329     272667 2174-01-08 13:12:06 2174-01-14 22:45:42   \n",
       "4         91  121205     256972 2177-05-07 03:52:00 2177-05-10 15:16:00   \n",
       "\n",
       "   readm_days  prev_icustayid  prev_iculos  age  ethnicity  ...   nonicu-CSRU  \\\n",
       "0      11.425        280987.0       1.1096   69          3  ...         0.717   \n",
       "1       2.845        261027.0       3.3937   56          3  ...         0.717   \n",
       "2      11.418        294232.0       3.5368   41          1  ...         0.000   \n",
       "3       7.652        225771.0       0.8200   41          1  ...         0.000   \n",
       "4       9.576        218528.0       0.4965   81          3  ...         0.000   \n",
       "\n",
       "   nonicu-MICU  MICU-MICU  nonicu-TSICU  nonicu-CCU  TSICU-TSICU  SICU-SICU  \\\n",
       "0        0.000        0.0           0.0         0.0          0.0        0.0   \n",
       "1        0.000        0.0           0.0         0.0          0.0        0.0   \n",
       "2        0.846        0.0           0.0         0.0          0.0        0.0   \n",
       "3        0.846        0.0           0.0         0.0          0.0        0.0   \n",
       "4        0.846        0.0           0.0         0.0          0.0        0.0   \n",
       "\n",
       "   CSRU-CSRU  CCU-CCU  surg  \n",
       "0      0.462      0.0     0  \n",
       "1      0.000      0.0     0  \n",
       "2      0.000      0.0     0  \n",
       "3      0.000      0.0     0  \n",
       "4      0.000      0.0     0  \n",
       "\n",
       "[5 rows x 33 columns]"
      ]
     },
     "execution_count": 35,
     "metadata": {},
     "output_type": "execute_result"
    }
   ],
   "source": [
    "q_surg = \"\"\"SELECT DISTINCT ON (subject_id, hadm_id) subject_id, hadm_id, transfertime, curr_service\n",
    "FROM services\n",
    "WHERE curr_service LIKE '%SURG%';\"\"\"\n",
    "\n",
    "surg = exec_query(q_surg)\n",
    "df_surg = pd.DataFrame(surg, columns=['subjectid', 'hadmid', 'surgtime', 'surg'])\n",
    "\n",
    "df_readm11 = df_readm10.merge(df_surg, \n",
    "                       on=['subjectid','hadmid'], how='left')\n",
    "\n",
    "df_readm11['surg'].fillna(0, inplace=True)\n",
    "df_readm11['surg'] = df_readm11.apply(icu_surg, axis=1)\n",
    "df_readm11.drop(['surgtime'], axis=1, inplace=True)\n",
    "\n",
    "print df_readm11.shape\n",
    "df_readm11.head()"
   ]
  },
  {
   "cell_type": "markdown",
   "metadata": {},
   "source": [
    "### Abnormal Hemoglobin\n",
    "Feature indicating whether patient has abnormal hemoglobin results.\n",
    "\n",
    "Legend:\n",
    "  * **`0`**: Normal hemoglobin or unknown\n",
    "  * **`1`**: Abnormal hemoglobin"
   ]
  },
  {
   "cell_type": "code",
   "execution_count": 36,
   "metadata": {
    "collapsed": false
   },
   "outputs": [
    {
     "name": "stdout",
     "output_type": "stream",
     "text": [
      "(6160, 34)\n"
     ]
    },
    {
     "data": {
      "text/html": [
       "<div>\n",
       "<table border=\"1\" class=\"dataframe\">\n",
       "  <thead>\n",
       "    <tr style=\"text-align: right;\">\n",
       "      <th></th>\n",
       "      <th>subjectid</th>\n",
       "      <th>hadmid</th>\n",
       "      <th>icustayid</th>\n",
       "      <th>icu_intime</th>\n",
       "      <th>icu_outtime</th>\n",
       "      <th>readm_days</th>\n",
       "      <th>prev_icustayid</th>\n",
       "      <th>prev_iculos</th>\n",
       "      <th>age</th>\n",
       "      <th>ethnicity</th>\n",
       "      <th>...</th>\n",
       "      <th>nonicu-MICU</th>\n",
       "      <th>MICU-MICU</th>\n",
       "      <th>nonicu-TSICU</th>\n",
       "      <th>nonicu-CCU</th>\n",
       "      <th>TSICU-TSICU</th>\n",
       "      <th>SICU-SICU</th>\n",
       "      <th>CSRU-CSRU</th>\n",
       "      <th>CCU-CCU</th>\n",
       "      <th>surg</th>\n",
       "      <th>hemoglobin</th>\n",
       "    </tr>\n",
       "  </thead>\n",
       "  <tbody>\n",
       "    <tr>\n",
       "      <th>0</th>\n",
       "      <td>36</td>\n",
       "      <td>122659</td>\n",
       "      <td>211200</td>\n",
       "      <td>2131-05-16 23:18:26</td>\n",
       "      <td>2131-05-23 19:56:11</td>\n",
       "      <td>11.425</td>\n",
       "      <td>280987.0</td>\n",
       "      <td>1.1096</td>\n",
       "      <td>69</td>\n",
       "      <td>3</td>\n",
       "      <td>...</td>\n",
       "      <td>0.000</td>\n",
       "      <td>0.0</td>\n",
       "      <td>0.0</td>\n",
       "      <td>0.0</td>\n",
       "      <td>0.0</td>\n",
       "      <td>0.0</td>\n",
       "      <td>0.462</td>\n",
       "      <td>0.0</td>\n",
       "      <td>0</td>\n",
       "      <td>1.0</td>\n",
       "    </tr>\n",
       "    <tr>\n",
       "      <th>1</th>\n",
       "      <td>41</td>\n",
       "      <td>101757</td>\n",
       "      <td>237024</td>\n",
       "      <td>2133-01-09 12:18:30</td>\n",
       "      <td>2133-01-12 15:51:03</td>\n",
       "      <td>2.845</td>\n",
       "      <td>261027.0</td>\n",
       "      <td>3.3937</td>\n",
       "      <td>56</td>\n",
       "      <td>3</td>\n",
       "      <td>...</td>\n",
       "      <td>0.000</td>\n",
       "      <td>0.0</td>\n",
       "      <td>0.0</td>\n",
       "      <td>0.0</td>\n",
       "      <td>0.0</td>\n",
       "      <td>0.0</td>\n",
       "      <td>0.000</td>\n",
       "      <td>0.0</td>\n",
       "      <td>0</td>\n",
       "      <td>1.0</td>\n",
       "    </tr>\n",
       "    <tr>\n",
       "      <th>2</th>\n",
       "      <td>68</td>\n",
       "      <td>170467</td>\n",
       "      <td>225771</td>\n",
       "      <td>2173-12-31 01:52:46</td>\n",
       "      <td>2173-12-31 21:33:34</td>\n",
       "      <td>11.418</td>\n",
       "      <td>294232.0</td>\n",
       "      <td>3.5368</td>\n",
       "      <td>41</td>\n",
       "      <td>1</td>\n",
       "      <td>...</td>\n",
       "      <td>0.846</td>\n",
       "      <td>0.0</td>\n",
       "      <td>0.0</td>\n",
       "      <td>0.0</td>\n",
       "      <td>0.0</td>\n",
       "      <td>0.0</td>\n",
       "      <td>0.000</td>\n",
       "      <td>0.0</td>\n",
       "      <td>0</td>\n",
       "      <td>1.0</td>\n",
       "    </tr>\n",
       "    <tr>\n",
       "      <th>3</th>\n",
       "      <td>68</td>\n",
       "      <td>108329</td>\n",
       "      <td>272667</td>\n",
       "      <td>2174-01-08 13:12:06</td>\n",
       "      <td>2174-01-14 22:45:42</td>\n",
       "      <td>7.652</td>\n",
       "      <td>225771.0</td>\n",
       "      <td>0.8200</td>\n",
       "      <td>41</td>\n",
       "      <td>1</td>\n",
       "      <td>...</td>\n",
       "      <td>0.846</td>\n",
       "      <td>0.0</td>\n",
       "      <td>0.0</td>\n",
       "      <td>0.0</td>\n",
       "      <td>0.0</td>\n",
       "      <td>0.0</td>\n",
       "      <td>0.000</td>\n",
       "      <td>0.0</td>\n",
       "      <td>0</td>\n",
       "      <td>1.0</td>\n",
       "    </tr>\n",
       "    <tr>\n",
       "      <th>4</th>\n",
       "      <td>91</td>\n",
       "      <td>121205</td>\n",
       "      <td>256972</td>\n",
       "      <td>2177-05-07 03:52:00</td>\n",
       "      <td>2177-05-10 15:16:00</td>\n",
       "      <td>9.576</td>\n",
       "      <td>218528.0</td>\n",
       "      <td>0.4965</td>\n",
       "      <td>81</td>\n",
       "      <td>3</td>\n",
       "      <td>...</td>\n",
       "      <td>0.846</td>\n",
       "      <td>0.0</td>\n",
       "      <td>0.0</td>\n",
       "      <td>0.0</td>\n",
       "      <td>0.0</td>\n",
       "      <td>0.0</td>\n",
       "      <td>0.000</td>\n",
       "      <td>0.0</td>\n",
       "      <td>0</td>\n",
       "      <td>1.0</td>\n",
       "    </tr>\n",
       "  </tbody>\n",
       "</table>\n",
       "<p>5 rows × 34 columns</p>\n",
       "</div>"
      ],
      "text/plain": [
       "   subjectid  hadmid  icustayid          icu_intime         icu_outtime  \\\n",
       "0         36  122659     211200 2131-05-16 23:18:26 2131-05-23 19:56:11   \n",
       "1         41  101757     237024 2133-01-09 12:18:30 2133-01-12 15:51:03   \n",
       "2         68  170467     225771 2173-12-31 01:52:46 2173-12-31 21:33:34   \n",
       "3         68  108329     272667 2174-01-08 13:12:06 2174-01-14 22:45:42   \n",
       "4         91  121205     256972 2177-05-07 03:52:00 2177-05-10 15:16:00   \n",
       "\n",
       "   readm_days  prev_icustayid  prev_iculos  age  ethnicity     ...      \\\n",
       "0      11.425        280987.0       1.1096   69          3     ...       \n",
       "1       2.845        261027.0       3.3937   56          3     ...       \n",
       "2      11.418        294232.0       3.5368   41          1     ...       \n",
       "3       7.652        225771.0       0.8200   41          1     ...       \n",
       "4       9.576        218528.0       0.4965   81          3     ...       \n",
       "\n",
       "   nonicu-MICU  MICU-MICU  nonicu-TSICU  nonicu-CCU  TSICU-TSICU  SICU-SICU  \\\n",
       "0        0.000        0.0           0.0         0.0          0.0        0.0   \n",
       "1        0.000        0.0           0.0         0.0          0.0        0.0   \n",
       "2        0.846        0.0           0.0         0.0          0.0        0.0   \n",
       "3        0.846        0.0           0.0         0.0          0.0        0.0   \n",
       "4        0.846        0.0           0.0         0.0          0.0        0.0   \n",
       "\n",
       "   CSRU-CSRU  CCU-CCU  surg  hemoglobin  \n",
       "0      0.462      0.0     0         1.0  \n",
       "1      0.000      0.0     0         1.0  \n",
       "2      0.000      0.0     0         1.0  \n",
       "3      0.000      0.0     0         1.0  \n",
       "4      0.000      0.0     0         1.0  \n",
       "\n",
       "[5 rows x 34 columns]"
      ]
     },
     "execution_count": 36,
     "metadata": {},
     "output_type": "execute_result"
    }
   ],
   "source": [
    "q_hemoglb = \"\"\"\n",
    "select subject_id,hadm_id, hemoglobin from \n",
    "(select icu.subject_id,icu.hadm_id, label,fluid,charttime,outtime,(outtime-charttime)/24.0 as timegap,value,flag,\n",
    "case when flag='abnormal' then 1 else 0 end as hemoglobin,\n",
    "ROW_NUMBER() OVER(PARTITION BY icu.subject_id,icu.hadm_id ORDER BY charttime DESC) AS rk\n",
    "from  d_labitems as dlab \n",
    "inner join labevents as lab \n",
    "on dlab.itemid=lab.itemid \n",
    "inner join icustays as icu \n",
    "on icu.subject_id= lab.subject_id \n",
    "and icu.hadm_id = lab.hadm_id \n",
    "where dlab.label='HEMOGLOBIN' and fluid = 'BLOOD'and charttime<=outtime) as sub_query \n",
    "where rk=1;\"\"\"\n",
    "\n",
    "hemoglb = exec_query(q_hemoglb)\n",
    "df_hemoglb = pd.DataFrame(hemoglb, columns=['subjectid', 'hadmid', 'hemoglobin'])\n",
    "\n",
    "df_readm12 = df_readm11.merge(df_hemoglb, on=['subjectid','hadmid'], how='left')\n",
    "\n",
    "print df_readm12.shape\n",
    "df_readm12.head()"
   ]
  },
  {
   "cell_type": "code",
   "execution_count": 37,
   "metadata": {
    "collapsed": false
   },
   "outputs": [
    {
     "data": {
      "text/plain": [
       "32"
      ]
     },
     "execution_count": 37,
     "metadata": {},
     "output_type": "execute_result"
    }
   ],
   "source": [
    "df_readm12.hemoglobin.isnull().sum()"
   ]
  },
  {
   "cell_type": "markdown",
   "metadata": {},
   "source": [
    "###  HADM Procedures\n",
    "Features indicating presence of a procedure."
   ]
  },
  {
   "cell_type": "code",
   "execution_count": 38,
   "metadata": {
    "collapsed": false
   },
   "outputs": [
    {
     "name": "stdout",
     "output_type": "stream",
     "text": [
      "(6160, 41)\n"
     ]
    },
    {
     "data": {
      "text/html": [
       "<div>\n",
       "<table border=\"1\" class=\"dataframe\">\n",
       "  <thead>\n",
       "    <tr style=\"text-align: right;\">\n",
       "      <th></th>\n",
       "      <th>subjectid</th>\n",
       "      <th>hadmid</th>\n",
       "      <th>icustayid</th>\n",
       "      <th>icu_intime</th>\n",
       "      <th>icu_outtime</th>\n",
       "      <th>readm_days</th>\n",
       "      <th>prev_icustayid</th>\n",
       "      <th>prev_iculos</th>\n",
       "      <th>age</th>\n",
       "      <th>ethnicity</th>\n",
       "      <th>...</th>\n",
       "      <th>CCU-CCU</th>\n",
       "      <th>surg</th>\n",
       "      <th>hemoglobin</th>\n",
       "      <th>operation_nervous</th>\n",
       "      <th>operation_respiratory</th>\n",
       "      <th>operation_cardiovascular</th>\n",
       "      <th>operation_digestive</th>\n",
       "      <th>dialysis</th>\n",
       "      <th>intubation_res_gas</th>\n",
       "      <th>num_operations</th>\n",
       "    </tr>\n",
       "  </thead>\n",
       "  <tbody>\n",
       "    <tr>\n",
       "      <th>0</th>\n",
       "      <td>36</td>\n",
       "      <td>122659</td>\n",
       "      <td>211200</td>\n",
       "      <td>2131-05-16 23:18:26</td>\n",
       "      <td>2131-05-23 19:56:11</td>\n",
       "      <td>11.425</td>\n",
       "      <td>280987.0</td>\n",
       "      <td>1.1096</td>\n",
       "      <td>69</td>\n",
       "      <td>3</td>\n",
       "      <td>...</td>\n",
       "      <td>0.0</td>\n",
       "      <td>0</td>\n",
       "      <td>1.0</td>\n",
       "      <td>0.0</td>\n",
       "      <td>0.0</td>\n",
       "      <td>1.0</td>\n",
       "      <td>0.0</td>\n",
       "      <td>0.0</td>\n",
       "      <td>0.0</td>\n",
       "      <td>2.0</td>\n",
       "    </tr>\n",
       "    <tr>\n",
       "      <th>1</th>\n",
       "      <td>41</td>\n",
       "      <td>101757</td>\n",
       "      <td>237024</td>\n",
       "      <td>2133-01-09 12:18:30</td>\n",
       "      <td>2133-01-12 15:51:03</td>\n",
       "      <td>2.845</td>\n",
       "      <td>261027.0</td>\n",
       "      <td>3.3937</td>\n",
       "      <td>56</td>\n",
       "      <td>3</td>\n",
       "      <td>...</td>\n",
       "      <td>0.0</td>\n",
       "      <td>0</td>\n",
       "      <td>1.0</td>\n",
       "      <td>1.0</td>\n",
       "      <td>1.0</td>\n",
       "      <td>1.0</td>\n",
       "      <td>1.0</td>\n",
       "      <td>0.0</td>\n",
       "      <td>1.0</td>\n",
       "      <td>2.0</td>\n",
       "    </tr>\n",
       "    <tr>\n",
       "      <th>2</th>\n",
       "      <td>68</td>\n",
       "      <td>170467</td>\n",
       "      <td>225771</td>\n",
       "      <td>2173-12-31 01:52:46</td>\n",
       "      <td>2173-12-31 21:33:34</td>\n",
       "      <td>11.418</td>\n",
       "      <td>294232.0</td>\n",
       "      <td>3.5368</td>\n",
       "      <td>41</td>\n",
       "      <td>1</td>\n",
       "      <td>...</td>\n",
       "      <td>0.0</td>\n",
       "      <td>0</td>\n",
       "      <td>1.0</td>\n",
       "      <td>0.0</td>\n",
       "      <td>0.0</td>\n",
       "      <td>1.0</td>\n",
       "      <td>0.0</td>\n",
       "      <td>0.0</td>\n",
       "      <td>0.0</td>\n",
       "      <td>1.0</td>\n",
       "    </tr>\n",
       "    <tr>\n",
       "      <th>3</th>\n",
       "      <td>68</td>\n",
       "      <td>108329</td>\n",
       "      <td>272667</td>\n",
       "      <td>2174-01-08 13:12:06</td>\n",
       "      <td>2174-01-14 22:45:42</td>\n",
       "      <td>7.652</td>\n",
       "      <td>225771.0</td>\n",
       "      <td>0.8200</td>\n",
       "      <td>41</td>\n",
       "      <td>1</td>\n",
       "      <td>...</td>\n",
       "      <td>0.0</td>\n",
       "      <td>0</td>\n",
       "      <td>1.0</td>\n",
       "      <td>0.0</td>\n",
       "      <td>0.0</td>\n",
       "      <td>1.0</td>\n",
       "      <td>0.0</td>\n",
       "      <td>0.0</td>\n",
       "      <td>0.0</td>\n",
       "      <td>1.0</td>\n",
       "    </tr>\n",
       "    <tr>\n",
       "      <th>4</th>\n",
       "      <td>91</td>\n",
       "      <td>121205</td>\n",
       "      <td>256972</td>\n",
       "      <td>2177-05-07 03:52:00</td>\n",
       "      <td>2177-05-10 15:16:00</td>\n",
       "      <td>9.576</td>\n",
       "      <td>218528.0</td>\n",
       "      <td>0.4965</td>\n",
       "      <td>81</td>\n",
       "      <td>3</td>\n",
       "      <td>...</td>\n",
       "      <td>0.0</td>\n",
       "      <td>0</td>\n",
       "      <td>1.0</td>\n",
       "      <td>1.0</td>\n",
       "      <td>0.0</td>\n",
       "      <td>1.0</td>\n",
       "      <td>1.0</td>\n",
       "      <td>0.0</td>\n",
       "      <td>1.0</td>\n",
       "      <td>2.0</td>\n",
       "    </tr>\n",
       "  </tbody>\n",
       "</table>\n",
       "<p>5 rows × 41 columns</p>\n",
       "</div>"
      ],
      "text/plain": [
       "   subjectid  hadmid  icustayid          icu_intime         icu_outtime  \\\n",
       "0         36  122659     211200 2131-05-16 23:18:26 2131-05-23 19:56:11   \n",
       "1         41  101757     237024 2133-01-09 12:18:30 2133-01-12 15:51:03   \n",
       "2         68  170467     225771 2173-12-31 01:52:46 2173-12-31 21:33:34   \n",
       "3         68  108329     272667 2174-01-08 13:12:06 2174-01-14 22:45:42   \n",
       "4         91  121205     256972 2177-05-07 03:52:00 2177-05-10 15:16:00   \n",
       "\n",
       "   readm_days  prev_icustayid  prev_iculos  age  ethnicity       ...        \\\n",
       "0      11.425        280987.0       1.1096   69          3       ...         \n",
       "1       2.845        261027.0       3.3937   56          3       ...         \n",
       "2      11.418        294232.0       3.5368   41          1       ...         \n",
       "3       7.652        225771.0       0.8200   41          1       ...         \n",
       "4       9.576        218528.0       0.4965   81          3       ...         \n",
       "\n",
       "   CCU-CCU  surg  hemoglobin  operation_nervous  operation_respiratory  \\\n",
       "0      0.0     0         1.0                0.0                    0.0   \n",
       "1      0.0     0         1.0                1.0                    1.0   \n",
       "2      0.0     0         1.0                0.0                    0.0   \n",
       "3      0.0     0         1.0                0.0                    0.0   \n",
       "4      0.0     0         1.0                1.0                    0.0   \n",
       "\n",
       "   operation_cardiovascular  operation_digestive  dialysis  \\\n",
       "0                       1.0                  0.0       0.0   \n",
       "1                       1.0                  1.0       0.0   \n",
       "2                       1.0                  0.0       0.0   \n",
       "3                       1.0                  0.0       0.0   \n",
       "4                       1.0                  1.0       0.0   \n",
       "\n",
       "   intubation_res_gas  num_operations  \n",
       "0                 0.0             2.0  \n",
       "1                 1.0             2.0  \n",
       "2                 0.0             1.0  \n",
       "3                 0.0             1.0  \n",
       "4                 1.0             2.0  \n",
       "\n",
       "[5 rows x 41 columns]"
      ]
     },
     "execution_count": 38,
     "metadata": {},
     "output_type": "execute_result"
    }
   ],
   "source": [
    "q_proc = procedure = \"\"\"\n",
    "with procedure_table AS (select *,\n",
    "case when icd9_code between '01' and '05'    \n",
    "    then 1\n",
    "    else 0\n",
    "    end as operation_nervous,  \n",
    "case when (icd9_code between '30' and '34')\n",
    "     or (icd9_code between '9390' and '9399')\n",
    "     then 1\n",
    "     else 0\n",
    "     end as operation_respiratory,   \n",
    "case when (icd9_code between '35' and '39')\n",
    "       or (icd9_code='0013')\n",
    "       or (icd9_code='0017')\n",
    "       or (icd9_code between'9960' and '9969')\n",
    "    then 1\n",
    "    else 0\n",
    "    end as operation_cardiovascular,\n",
    "case when (icd9_code='3995')\n",
    "     or (icd9_code='5498')\n",
    "     then 1\n",
    "     else 0\n",
    "     end as dialysis, \n",
    "case when icd9_code between '42' and '54'\n",
    "    then 1\n",
    "    else 0\n",
    "    end as operation_digestive,    \n",
    "case when icd9_code between'960' and '967'\n",
    "     then 1\n",
    "     else 0\n",
    "     end as intubation_res_gas\n",
    "from procedures_icd)\n",
    "select subject_id,hadm_id,\n",
    "MAX(operation_nervous) AS operation_nervous,\n",
    "MAX(operation_respiratory) AS operation_respiratory,\n",
    "MAX(operation_cardiovascular) AS operation_cardiovascular,\n",
    "MAX(operation_digestive) AS operation_digestive,\n",
    "MAX(dialysis) AS dialysis,\n",
    "MAX(intubation_res_gas) AS intubation_res_gas,\n",
    "case \n",
    "when max(seq_num)<=5 then 1\n",
    "when max(seq_num)<=10 then 2\n",
    "else 3\n",
    "end as num_operations\n",
    "from procedure_table group by subject_id,hadm_id;\n",
    "\"\"\"\n",
    "\n",
    "proced = exec_query(q_proc)\n",
    "proc_cols = ['subjectid', 'hadmid', 'operation_nervous','operation_respiratory', 'operation_cardiovascular', \n",
    "             'operation_digestive', 'dialysis', 'intubation_res_gas','num_operations']\n",
    "df_proced = pd.DataFrame(proced, columns=proc_cols)\n",
    "\n",
    "df_readm13 = df_readm12.merge(df_proced, on=['subjectid','hadmid'], how='left')\n",
    "\n",
    "print df_readm13.shape\n",
    "df_readm13.head()"
   ]
  },
  {
   "cell_type": "markdown",
   "metadata": {},
   "source": [
    "## DRG Code"
   ]
  },
  {
   "cell_type": "code",
   "execution_count": 39,
   "metadata": {
    "collapsed": false,
    "scrolled": true
   },
   "outputs": [
    {
     "name": "stdout",
     "output_type": "stream",
     "text": [
      "(14271, 42)\n"
     ]
    },
    {
     "data": {
      "text/html": [
       "<div>\n",
       "<table border=\"1\" class=\"dataframe\">\n",
       "  <thead>\n",
       "    <tr style=\"text-align: right;\">\n",
       "      <th></th>\n",
       "      <th>subjectid</th>\n",
       "      <th>hadmid</th>\n",
       "      <th>icustayid</th>\n",
       "      <th>icu_intime</th>\n",
       "      <th>icu_outtime</th>\n",
       "      <th>readm_days</th>\n",
       "      <th>prev_icustayid</th>\n",
       "      <th>prev_iculos</th>\n",
       "      <th>age</th>\n",
       "      <th>ethnicity</th>\n",
       "      <th>...</th>\n",
       "      <th>surg</th>\n",
       "      <th>hemoglobin</th>\n",
       "      <th>operation_nervous</th>\n",
       "      <th>operation_respiratory</th>\n",
       "      <th>operation_cardiovascular</th>\n",
       "      <th>operation_digestive</th>\n",
       "      <th>dialysis</th>\n",
       "      <th>intubation_res_gas</th>\n",
       "      <th>num_operations</th>\n",
       "      <th>drg_code</th>\n",
       "    </tr>\n",
       "  </thead>\n",
       "  <tbody>\n",
       "    <tr>\n",
       "      <th>0</th>\n",
       "      <td>36</td>\n",
       "      <td>122659</td>\n",
       "      <td>211200</td>\n",
       "      <td>2131-05-16 23:18:26</td>\n",
       "      <td>2131-05-23 19:56:11</td>\n",
       "      <td>11.425</td>\n",
       "      <td>280987.0</td>\n",
       "      <td>1.1096</td>\n",
       "      <td>69</td>\n",
       "      <td>3</td>\n",
       "      <td>...</td>\n",
       "      <td>0</td>\n",
       "      <td>1.0</td>\n",
       "      <td>0.0</td>\n",
       "      <td>0.0</td>\n",
       "      <td>1.0</td>\n",
       "      <td>0.0</td>\n",
       "      <td>0.0</td>\n",
       "      <td>0.0</td>\n",
       "      <td>2.0</td>\n",
       "      <td>439</td>\n",
       "    </tr>\n",
       "    <tr>\n",
       "      <th>1</th>\n",
       "      <td>36</td>\n",
       "      <td>122659</td>\n",
       "      <td>211200</td>\n",
       "      <td>2131-05-16 23:18:26</td>\n",
       "      <td>2131-05-23 19:56:11</td>\n",
       "      <td>11.425</td>\n",
       "      <td>280987.0</td>\n",
       "      <td>1.1096</td>\n",
       "      <td>69</td>\n",
       "      <td>3</td>\n",
       "      <td>...</td>\n",
       "      <td>0</td>\n",
       "      <td>1.0</td>\n",
       "      <td>0.0</td>\n",
       "      <td>0.0</td>\n",
       "      <td>1.0</td>\n",
       "      <td>0.0</td>\n",
       "      <td>0.0</td>\n",
       "      <td>0.0</td>\n",
       "      <td>2.0</td>\n",
       "      <td>7912</td>\n",
       "    </tr>\n",
       "    <tr>\n",
       "      <th>2</th>\n",
       "      <td>41</td>\n",
       "      <td>101757</td>\n",
       "      <td>237024</td>\n",
       "      <td>2133-01-09 12:18:30</td>\n",
       "      <td>2133-01-12 15:51:03</td>\n",
       "      <td>2.845</td>\n",
       "      <td>261027.0</td>\n",
       "      <td>3.3937</td>\n",
       "      <td>56</td>\n",
       "      <td>3</td>\n",
       "      <td>...</td>\n",
       "      <td>0</td>\n",
       "      <td>1.0</td>\n",
       "      <td>1.0</td>\n",
       "      <td>1.0</td>\n",
       "      <td>1.0</td>\n",
       "      <td>1.0</td>\n",
       "      <td>0.0</td>\n",
       "      <td>1.0</td>\n",
       "      <td>2.0</td>\n",
       "      <td>001</td>\n",
       "    </tr>\n",
       "    <tr>\n",
       "      <th>3</th>\n",
       "      <td>41</td>\n",
       "      <td>101757</td>\n",
       "      <td>237024</td>\n",
       "      <td>2133-01-09 12:18:30</td>\n",
       "      <td>2133-01-12 15:51:03</td>\n",
       "      <td>2.845</td>\n",
       "      <td>261027.0</td>\n",
       "      <td>3.3937</td>\n",
       "      <td>56</td>\n",
       "      <td>3</td>\n",
       "      <td>...</td>\n",
       "      <td>0</td>\n",
       "      <td>1.0</td>\n",
       "      <td>1.0</td>\n",
       "      <td>1.0</td>\n",
       "      <td>1.0</td>\n",
       "      <td>1.0</td>\n",
       "      <td>0.0</td>\n",
       "      <td>1.0</td>\n",
       "      <td>2.0</td>\n",
       "      <td>0214</td>\n",
       "    </tr>\n",
       "    <tr>\n",
       "      <th>4</th>\n",
       "      <td>68</td>\n",
       "      <td>170467</td>\n",
       "      <td>225771</td>\n",
       "      <td>2173-12-31 01:52:46</td>\n",
       "      <td>2173-12-31 21:33:34</td>\n",
       "      <td>11.418</td>\n",
       "      <td>294232.0</td>\n",
       "      <td>3.5368</td>\n",
       "      <td>41</td>\n",
       "      <td>1</td>\n",
       "      <td>...</td>\n",
       "      <td>0</td>\n",
       "      <td>1.0</td>\n",
       "      <td>0.0</td>\n",
       "      <td>0.0</td>\n",
       "      <td>1.0</td>\n",
       "      <td>0.0</td>\n",
       "      <td>0.0</td>\n",
       "      <td>0.0</td>\n",
       "      <td>1.0</td>\n",
       "      <td>8924</td>\n",
       "    </tr>\n",
       "  </tbody>\n",
       "</table>\n",
       "<p>5 rows × 42 columns</p>\n",
       "</div>"
      ],
      "text/plain": [
       "   subjectid  hadmid  icustayid          icu_intime         icu_outtime  \\\n",
       "0         36  122659     211200 2131-05-16 23:18:26 2131-05-23 19:56:11   \n",
       "1         36  122659     211200 2131-05-16 23:18:26 2131-05-23 19:56:11   \n",
       "2         41  101757     237024 2133-01-09 12:18:30 2133-01-12 15:51:03   \n",
       "3         41  101757     237024 2133-01-09 12:18:30 2133-01-12 15:51:03   \n",
       "4         68  170467     225771 2173-12-31 01:52:46 2173-12-31 21:33:34   \n",
       "\n",
       "   readm_days  prev_icustayid  prev_iculos  age  ethnicity    ...     surg  \\\n",
       "0      11.425        280987.0       1.1096   69          3    ...        0   \n",
       "1      11.425        280987.0       1.1096   69          3    ...        0   \n",
       "2       2.845        261027.0       3.3937   56          3    ...        0   \n",
       "3       2.845        261027.0       3.3937   56          3    ...        0   \n",
       "4      11.418        294232.0       3.5368   41          1    ...        0   \n",
       "\n",
       "   hemoglobin  operation_nervous  operation_respiratory  \\\n",
       "0         1.0                0.0                    0.0   \n",
       "1         1.0                0.0                    0.0   \n",
       "2         1.0                1.0                    1.0   \n",
       "3         1.0                1.0                    1.0   \n",
       "4         1.0                0.0                    0.0   \n",
       "\n",
       "   operation_cardiovascular  operation_digestive  dialysis  \\\n",
       "0                       1.0                  0.0       0.0   \n",
       "1                       1.0                  0.0       0.0   \n",
       "2                       1.0                  1.0       0.0   \n",
       "3                       1.0                  1.0       0.0   \n",
       "4                       1.0                  0.0       0.0   \n",
       "\n",
       "   intubation_res_gas  num_operations  drg_code  \n",
       "0                 0.0             2.0       439  \n",
       "1                 0.0             2.0      7912  \n",
       "2                 1.0             2.0       001  \n",
       "3                 1.0             2.0      0214  \n",
       "4                 0.0             1.0      8924  \n",
       "\n",
       "[5 rows x 42 columns]"
      ]
     },
     "execution_count": 39,
     "metadata": {},
     "output_type": "execute_result"
    }
   ],
   "source": [
    "q_drg = procedure = \"\"\"\n",
    "SELECT subject_id, hadm_id, drg_code\n",
    "FROM drgcodes;\n",
    "\"\"\"\n",
    "\n",
    "drg = exec_query(q_drg)\n",
    "\n",
    "df_drg = pd.DataFrame(drg, columns=['subjectid', 'hadmid', 'drg_code'])\n",
    "\n",
    "df_readm14 = df_readm13.merge(df_drg, on=['subjectid','hadmid'], how='left')\n",
    "print df_readm14.shape\n",
    "df_readm14.head()"
   ]
  },
  {
   "cell_type": "markdown",
   "metadata": {},
   "source": [
    "## Response Variable\n",
    "### Average ICU LOS\n",
    "Feature (Response): The average length of stay in the ICU (`icustay_id`) for each patient's hospital admission.\n",
    "  * Feature is the response/dependent variable (`y`)"
   ]
  },
  {
   "cell_type": "code",
   "execution_count": 40,
   "metadata": {
    "collapsed": false,
    "scrolled": false
   },
   "outputs": [
    {
     "name": "stdout",
     "output_type": "stream",
     "text": [
      "(14271, 43)\n"
     ]
    },
    {
     "data": {
      "text/html": [
       "<div>\n",
       "<table border=\"1\" class=\"dataframe\">\n",
       "  <thead>\n",
       "    <tr style=\"text-align: right;\">\n",
       "      <th></th>\n",
       "      <th>subjectid</th>\n",
       "      <th>hadmid</th>\n",
       "      <th>icustayid</th>\n",
       "      <th>icu_intime</th>\n",
       "      <th>icu_outtime</th>\n",
       "      <th>readm_days</th>\n",
       "      <th>prev_icustayid</th>\n",
       "      <th>prev_iculos</th>\n",
       "      <th>age</th>\n",
       "      <th>ethnicity</th>\n",
       "      <th>...</th>\n",
       "      <th>hemoglobin</th>\n",
       "      <th>operation_nervous</th>\n",
       "      <th>operation_respiratory</th>\n",
       "      <th>operation_cardiovascular</th>\n",
       "      <th>operation_digestive</th>\n",
       "      <th>dialysis</th>\n",
       "      <th>intubation_res_gas</th>\n",
       "      <th>num_operations</th>\n",
       "      <th>drg_code</th>\n",
       "      <th>icu_los</th>\n",
       "    </tr>\n",
       "  </thead>\n",
       "  <tbody>\n",
       "    <tr>\n",
       "      <th>0</th>\n",
       "      <td>36</td>\n",
       "      <td>122659</td>\n",
       "      <td>211200</td>\n",
       "      <td>2131-05-16 23:18:26</td>\n",
       "      <td>2131-05-23 19:56:11</td>\n",
       "      <td>11.425</td>\n",
       "      <td>280987</td>\n",
       "      <td>1.1096</td>\n",
       "      <td>69</td>\n",
       "      <td>3</td>\n",
       "      <td>...</td>\n",
       "      <td>1</td>\n",
       "      <td>0.0</td>\n",
       "      <td>0.0</td>\n",
       "      <td>1.0</td>\n",
       "      <td>0.0</td>\n",
       "      <td>0.0</td>\n",
       "      <td>0.0</td>\n",
       "      <td>2.0</td>\n",
       "      <td>439</td>\n",
       "      <td>6.8595</td>\n",
       "    </tr>\n",
       "    <tr>\n",
       "      <th>1</th>\n",
       "      <td>36</td>\n",
       "      <td>122659</td>\n",
       "      <td>211200</td>\n",
       "      <td>2131-05-16 23:18:26</td>\n",
       "      <td>2131-05-23 19:56:11</td>\n",
       "      <td>11.425</td>\n",
       "      <td>280987</td>\n",
       "      <td>1.1096</td>\n",
       "      <td>69</td>\n",
       "      <td>3</td>\n",
       "      <td>...</td>\n",
       "      <td>1</td>\n",
       "      <td>0.0</td>\n",
       "      <td>0.0</td>\n",
       "      <td>1.0</td>\n",
       "      <td>0.0</td>\n",
       "      <td>0.0</td>\n",
       "      <td>0.0</td>\n",
       "      <td>2.0</td>\n",
       "      <td>7912</td>\n",
       "      <td>6.8595</td>\n",
       "    </tr>\n",
       "    <tr>\n",
       "      <th>2</th>\n",
       "      <td>41</td>\n",
       "      <td>101757</td>\n",
       "      <td>237024</td>\n",
       "      <td>2133-01-09 12:18:30</td>\n",
       "      <td>2133-01-12 15:51:03</td>\n",
       "      <td>2.845</td>\n",
       "      <td>261027</td>\n",
       "      <td>3.3937</td>\n",
       "      <td>56</td>\n",
       "      <td>3</td>\n",
       "      <td>...</td>\n",
       "      <td>1</td>\n",
       "      <td>1.0</td>\n",
       "      <td>1.0</td>\n",
       "      <td>1.0</td>\n",
       "      <td>1.0</td>\n",
       "      <td>0.0</td>\n",
       "      <td>1.0</td>\n",
       "      <td>2.0</td>\n",
       "      <td>1</td>\n",
       "      <td>3.1476</td>\n",
       "    </tr>\n",
       "    <tr>\n",
       "      <th>3</th>\n",
       "      <td>41</td>\n",
       "      <td>101757</td>\n",
       "      <td>237024</td>\n",
       "      <td>2133-01-09 12:18:30</td>\n",
       "      <td>2133-01-12 15:51:03</td>\n",
       "      <td>2.845</td>\n",
       "      <td>261027</td>\n",
       "      <td>3.3937</td>\n",
       "      <td>56</td>\n",
       "      <td>3</td>\n",
       "      <td>...</td>\n",
       "      <td>1</td>\n",
       "      <td>1.0</td>\n",
       "      <td>1.0</td>\n",
       "      <td>1.0</td>\n",
       "      <td>1.0</td>\n",
       "      <td>0.0</td>\n",
       "      <td>1.0</td>\n",
       "      <td>2.0</td>\n",
       "      <td>214</td>\n",
       "      <td>3.1476</td>\n",
       "    </tr>\n",
       "    <tr>\n",
       "      <th>4</th>\n",
       "      <td>68</td>\n",
       "      <td>170467</td>\n",
       "      <td>225771</td>\n",
       "      <td>2173-12-31 01:52:46</td>\n",
       "      <td>2173-12-31 21:33:34</td>\n",
       "      <td>11.418</td>\n",
       "      <td>294232</td>\n",
       "      <td>3.5368</td>\n",
       "      <td>41</td>\n",
       "      <td>1</td>\n",
       "      <td>...</td>\n",
       "      <td>1</td>\n",
       "      <td>0.0</td>\n",
       "      <td>0.0</td>\n",
       "      <td>1.0</td>\n",
       "      <td>0.0</td>\n",
       "      <td>0.0</td>\n",
       "      <td>0.0</td>\n",
       "      <td>1.0</td>\n",
       "      <td>8924</td>\n",
       "      <td>0.8200</td>\n",
       "    </tr>\n",
       "  </tbody>\n",
       "</table>\n",
       "<p>5 rows × 43 columns</p>\n",
       "</div>"
      ],
      "text/plain": [
       "   subjectid  hadmid  icustayid          icu_intime         icu_outtime  \\\n",
       "0         36  122659     211200 2131-05-16 23:18:26 2131-05-23 19:56:11   \n",
       "1         36  122659     211200 2131-05-16 23:18:26 2131-05-23 19:56:11   \n",
       "2         41  101757     237024 2133-01-09 12:18:30 2133-01-12 15:51:03   \n",
       "3         41  101757     237024 2133-01-09 12:18:30 2133-01-12 15:51:03   \n",
       "4         68  170467     225771 2173-12-31 01:52:46 2173-12-31 21:33:34   \n",
       "\n",
       "   readm_days  prev_icustayid  prev_iculos  age  ethnicity   ...     \\\n",
       "0      11.425          280987       1.1096   69          3   ...      \n",
       "1      11.425          280987       1.1096   69          3   ...      \n",
       "2       2.845          261027       3.3937   56          3   ...      \n",
       "3       2.845          261027       3.3937   56          3   ...      \n",
       "4      11.418          294232       3.5368   41          1   ...      \n",
       "\n",
       "   hemoglobin  operation_nervous  operation_respiratory  \\\n",
       "0           1                0.0                    0.0   \n",
       "1           1                0.0                    0.0   \n",
       "2           1                1.0                    1.0   \n",
       "3           1                1.0                    1.0   \n",
       "4           1                0.0                    0.0   \n",
       "\n",
       "   operation_cardiovascular  operation_digestive  dialysis  \\\n",
       "0                       1.0                  0.0       0.0   \n",
       "1                       1.0                  0.0       0.0   \n",
       "2                       1.0                  1.0       0.0   \n",
       "3                       1.0                  1.0       0.0   \n",
       "4                       1.0                  0.0       0.0   \n",
       "\n",
       "   intubation_res_gas  num_operations  drg_code  icu_los  \n",
       "0                 0.0             2.0       439   6.8595  \n",
       "1                 0.0             2.0      7912   6.8595  \n",
       "2                 1.0             2.0         1   3.1476  \n",
       "3                 1.0             2.0       214   3.1476  \n",
       "4                 0.0             1.0      8924   0.8200  \n",
       "\n",
       "[5 rows x 43 columns]"
      ]
     },
     "execution_count": 40,
     "metadata": {},
     "output_type": "execute_result"
    }
   ],
   "source": [
    "q_iculos = \"\"\"SELECT icustay_id, los \n",
    "FROM icustays;\"\"\"\n",
    "\n",
    "iculos = exec_query(q_iculos)\n",
    "df_iculos = pd.DataFrame(iculos, columns=['icustayid', 'icu_los'])\n",
    "\n",
    "df_icustay_f = pd.merge(df_readm14, df_iculos, on='icustayid', how='left')\n",
    "df_icustay_f.fillna(0, inplace=True)\n",
    "df_icustay_f['prev_icustayid'] = df_icustay_f['prev_icustayid'].astype(int)\n",
    "df_icustay_f['hemoglobin'] = df_icustay_f['hemoglobin'].astype(int)\n",
    "df_icustay_f['drg_code'] = df_icustay_f['drg_code'].astype(int)\n",
    "\n",
    "\n",
    "print df_icustay_f.shape\n",
    "df_icustay_f.head()"
   ]
  },
  {
   "cell_type": "markdown",
   "metadata": {},
   "source": [
    "## Composite Dataset\n",
    "Drop unneeded features that were used for data engineering/feature extraction.\n",
    "  * **`icu_intime`**\n",
    "  * **`icu_outtime`**\n",
    "  * **`prev_icustayid`**"
   ]
  },
  {
   "cell_type": "code",
   "execution_count": 41,
   "metadata": {
    "collapsed": false,
    "scrolled": true
   },
   "outputs": [
    {
     "name": "stdout",
     "output_type": "stream",
     "text": [
      "(14271, 40)\n"
     ]
    },
    {
     "data": {
      "text/html": [
       "<div>\n",
       "<table border=\"1\" class=\"dataframe\">\n",
       "  <thead>\n",
       "    <tr style=\"text-align: right;\">\n",
       "      <th></th>\n",
       "      <th>subjectid</th>\n",
       "      <th>hadmid</th>\n",
       "      <th>icustayid</th>\n",
       "      <th>readm_days</th>\n",
       "      <th>prev_iculos</th>\n",
       "      <th>age</th>\n",
       "      <th>ethnicity</th>\n",
       "      <th>marital_status</th>\n",
       "      <th>insurance</th>\n",
       "      <th>NonEnglish</th>\n",
       "      <th>...</th>\n",
       "      <th>hemoglobin</th>\n",
       "      <th>operation_nervous</th>\n",
       "      <th>operation_respiratory</th>\n",
       "      <th>operation_cardiovascular</th>\n",
       "      <th>operation_digestive</th>\n",
       "      <th>dialysis</th>\n",
       "      <th>intubation_res_gas</th>\n",
       "      <th>num_operations</th>\n",
       "      <th>drg_code</th>\n",
       "      <th>icu_los</th>\n",
       "    </tr>\n",
       "  </thead>\n",
       "  <tbody>\n",
       "    <tr>\n",
       "      <th>0</th>\n",
       "      <td>36</td>\n",
       "      <td>122659</td>\n",
       "      <td>211200</td>\n",
       "      <td>11.425</td>\n",
       "      <td>1.1096</td>\n",
       "      <td>69</td>\n",
       "      <td>3</td>\n",
       "      <td>1</td>\n",
       "      <td>2</td>\n",
       "      <td>0</td>\n",
       "      <td>...</td>\n",
       "      <td>1</td>\n",
       "      <td>0.0</td>\n",
       "      <td>0.0</td>\n",
       "      <td>1.0</td>\n",
       "      <td>0.0</td>\n",
       "      <td>0.0</td>\n",
       "      <td>0.0</td>\n",
       "      <td>2.0</td>\n",
       "      <td>439</td>\n",
       "      <td>6.8595</td>\n",
       "    </tr>\n",
       "    <tr>\n",
       "      <th>1</th>\n",
       "      <td>36</td>\n",
       "      <td>122659</td>\n",
       "      <td>211200</td>\n",
       "      <td>11.425</td>\n",
       "      <td>1.1096</td>\n",
       "      <td>69</td>\n",
       "      <td>3</td>\n",
       "      <td>1</td>\n",
       "      <td>2</td>\n",
       "      <td>0</td>\n",
       "      <td>...</td>\n",
       "      <td>1</td>\n",
       "      <td>0.0</td>\n",
       "      <td>0.0</td>\n",
       "      <td>1.0</td>\n",
       "      <td>0.0</td>\n",
       "      <td>0.0</td>\n",
       "      <td>0.0</td>\n",
       "      <td>2.0</td>\n",
       "      <td>7912</td>\n",
       "      <td>6.8595</td>\n",
       "    </tr>\n",
       "    <tr>\n",
       "      <th>2</th>\n",
       "      <td>41</td>\n",
       "      <td>101757</td>\n",
       "      <td>237024</td>\n",
       "      <td>2.845</td>\n",
       "      <td>3.3937</td>\n",
       "      <td>56</td>\n",
       "      <td>3</td>\n",
       "      <td>0</td>\n",
       "      <td>3</td>\n",
       "      <td>1</td>\n",
       "      <td>...</td>\n",
       "      <td>1</td>\n",
       "      <td>1.0</td>\n",
       "      <td>1.0</td>\n",
       "      <td>1.0</td>\n",
       "      <td>1.0</td>\n",
       "      <td>0.0</td>\n",
       "      <td>1.0</td>\n",
       "      <td>2.0</td>\n",
       "      <td>1</td>\n",
       "      <td>3.1476</td>\n",
       "    </tr>\n",
       "    <tr>\n",
       "      <th>3</th>\n",
       "      <td>41</td>\n",
       "      <td>101757</td>\n",
       "      <td>237024</td>\n",
       "      <td>2.845</td>\n",
       "      <td>3.3937</td>\n",
       "      <td>56</td>\n",
       "      <td>3</td>\n",
       "      <td>0</td>\n",
       "      <td>3</td>\n",
       "      <td>1</td>\n",
       "      <td>...</td>\n",
       "      <td>1</td>\n",
       "      <td>1.0</td>\n",
       "      <td>1.0</td>\n",
       "      <td>1.0</td>\n",
       "      <td>1.0</td>\n",
       "      <td>0.0</td>\n",
       "      <td>1.0</td>\n",
       "      <td>2.0</td>\n",
       "      <td>214</td>\n",
       "      <td>3.1476</td>\n",
       "    </tr>\n",
       "    <tr>\n",
       "      <th>4</th>\n",
       "      <td>68</td>\n",
       "      <td>170467</td>\n",
       "      <td>225771</td>\n",
       "      <td>11.418</td>\n",
       "      <td>3.5368</td>\n",
       "      <td>41</td>\n",
       "      <td>1</td>\n",
       "      <td>0</td>\n",
       "      <td>2</td>\n",
       "      <td>1</td>\n",
       "      <td>...</td>\n",
       "      <td>1</td>\n",
       "      <td>0.0</td>\n",
       "      <td>0.0</td>\n",
       "      <td>1.0</td>\n",
       "      <td>0.0</td>\n",
       "      <td>0.0</td>\n",
       "      <td>0.0</td>\n",
       "      <td>1.0</td>\n",
       "      <td>8924</td>\n",
       "      <td>0.8200</td>\n",
       "    </tr>\n",
       "  </tbody>\n",
       "</table>\n",
       "<p>5 rows × 40 columns</p>\n",
       "</div>"
      ],
      "text/plain": [
       "   subjectid  hadmid  icustayid  readm_days  prev_iculos  age  ethnicity  \\\n",
       "0         36  122659     211200      11.425       1.1096   69          3   \n",
       "1         36  122659     211200      11.425       1.1096   69          3   \n",
       "2         41  101757     237024       2.845       3.3937   56          3   \n",
       "3         41  101757     237024       2.845       3.3937   56          3   \n",
       "4         68  170467     225771      11.418       3.5368   41          1   \n",
       "\n",
       "   marital_status  insurance  NonEnglish   ...     hemoglobin  \\\n",
       "0               1          2           0   ...              1   \n",
       "1               1          2           0   ...              1   \n",
       "2               0          3           1   ...              1   \n",
       "3               0          3           1   ...              1   \n",
       "4               0          2           1   ...              1   \n",
       "\n",
       "   operation_nervous  operation_respiratory  operation_cardiovascular  \\\n",
       "0                0.0                    0.0                       1.0   \n",
       "1                0.0                    0.0                       1.0   \n",
       "2                1.0                    1.0                       1.0   \n",
       "3                1.0                    1.0                       1.0   \n",
       "4                0.0                    0.0                       1.0   \n",
       "\n",
       "   operation_digestive  dialysis  intubation_res_gas  num_operations  \\\n",
       "0                  0.0       0.0                 0.0             2.0   \n",
       "1                  0.0       0.0                 0.0             2.0   \n",
       "2                  1.0       0.0                 1.0             2.0   \n",
       "3                  1.0       0.0                 1.0             2.0   \n",
       "4                  0.0       0.0                 0.0             1.0   \n",
       "\n",
       "   drg_code  icu_los  \n",
       "0       439   6.8595  \n",
       "1      7912   6.8595  \n",
       "2         1   3.1476  \n",
       "3       214   3.1476  \n",
       "4      8924   0.8200  \n",
       "\n",
       "[5 rows x 40 columns]"
      ]
     },
     "execution_count": 41,
     "metadata": {},
     "output_type": "execute_result"
    }
   ],
   "source": [
    "df_icustay_f.drop(['icu_intime', 'icu_outtime', 'prev_icustayid'], axis=1, inplace=True)\n",
    "\n",
    "print df_icustay_f.shape\n",
    "df_icustay_f.head()"
   ]
  },
  {
   "cell_type": "code",
   "execution_count": 42,
   "metadata": {
    "collapsed": false,
    "scrolled": true
   },
   "outputs": [
    {
     "name": "stdout",
     "output_type": "stream",
     "text": [
      "<class 'pandas.core.frame.DataFrame'>\n",
      "Int64Index: 14271 entries, 0 to 14270\n",
      "Data columns (total 40 columns):\n",
      "subjectid                   14271 non-null int64\n",
      "hadmid                      14271 non-null int64\n",
      "icustayid                   14271 non-null int64\n",
      "readm_days                  14271 non-null float64\n",
      "prev_iculos                 14271 non-null float64\n",
      "age                         14271 non-null int64\n",
      "ethnicity                   14271 non-null int64\n",
      "marital_status              14271 non-null int64\n",
      "insurance                   14271 non-null int64\n",
      "NonEnglish                  14271 non-null int64\n",
      "n_icutrav                   14271 non-null int64\n",
      "curr_cu                     14271 non-null int64\n",
      "prev_cu                     14271 non-null int64\n",
      "prev_ICU                    14271 non-null int64\n",
      "disch_cu                    14271 non-null int64\n",
      "disch_ICU                   14271 non-null int64\n",
      "icu_in_day                  14271 non-null int64\n",
      "icu_out_day                 14271 non-null int64\n",
      "readm_risk                  14271 non-null int64\n",
      "nonicu-SICU                 14271 non-null float64\n",
      "nonicu-CSRU                 14271 non-null float64\n",
      "nonicu-MICU                 14271 non-null float64\n",
      "MICU-MICU                   14271 non-null float64\n",
      "nonicu-TSICU                14271 non-null float64\n",
      "nonicu-CCU                  14271 non-null float64\n",
      "TSICU-TSICU                 14271 non-null float64\n",
      "SICU-SICU                   14271 non-null float64\n",
      "CSRU-CSRU                   14271 non-null float64\n",
      "CCU-CCU                     14271 non-null float64\n",
      "surg                        14271 non-null int64\n",
      "hemoglobin                  14271 non-null int64\n",
      "operation_nervous           14271 non-null float64\n",
      "operation_respiratory       14271 non-null float64\n",
      "operation_cardiovascular    14271 non-null float64\n",
      "operation_digestive         14271 non-null float64\n",
      "dialysis                    14271 non-null float64\n",
      "intubation_res_gas          14271 non-null float64\n",
      "num_operations              14271 non-null float64\n",
      "drg_code                    14271 non-null int64\n",
      "icu_los                     14271 non-null float64\n",
      "dtypes: float64(20), int64(20)\n",
      "memory usage: 4.5 MB\n"
     ]
    }
   ],
   "source": [
    "df_icustay_f.info()"
   ]
  },
  {
   "cell_type": "code",
   "execution_count": 43,
   "metadata": {
    "collapsed": false,
    "scrolled": false
   },
   "outputs": [
    {
     "data": {
      "text/html": [
       "<div>\n",
       "<table border=\"1\" class=\"dataframe\">\n",
       "  <thead>\n",
       "    <tr style=\"text-align: right;\">\n",
       "      <th></th>\n",
       "      <th>subjectid</th>\n",
       "      <th>hadmid</th>\n",
       "      <th>icustayid</th>\n",
       "      <th>readm_days</th>\n",
       "      <th>prev_iculos</th>\n",
       "      <th>age</th>\n",
       "      <th>ethnicity</th>\n",
       "      <th>marital_status</th>\n",
       "      <th>insurance</th>\n",
       "      <th>NonEnglish</th>\n",
       "      <th>...</th>\n",
       "      <th>hemoglobin</th>\n",
       "      <th>operation_nervous</th>\n",
       "      <th>operation_respiratory</th>\n",
       "      <th>operation_cardiovascular</th>\n",
       "      <th>operation_digestive</th>\n",
       "      <th>dialysis</th>\n",
       "      <th>intubation_res_gas</th>\n",
       "      <th>num_operations</th>\n",
       "      <th>drg_code</th>\n",
       "      <th>icu_los</th>\n",
       "    </tr>\n",
       "  </thead>\n",
       "  <tbody>\n",
       "    <tr>\n",
       "      <th>count</th>\n",
       "      <td>14271.000000</td>\n",
       "      <td>14271.000000</td>\n",
       "      <td>14271.000000</td>\n",
       "      <td>14271.000000</td>\n",
       "      <td>14271.000000</td>\n",
       "      <td>14271.000000</td>\n",
       "      <td>14271.000000</td>\n",
       "      <td>14271.000000</td>\n",
       "      <td>14271.000000</td>\n",
       "      <td>14271.000000</td>\n",
       "      <td>...</td>\n",
       "      <td>14271.000000</td>\n",
       "      <td>14271.000000</td>\n",
       "      <td>14271.000000</td>\n",
       "      <td>14271.000000</td>\n",
       "      <td>14271.000000</td>\n",
       "      <td>14271.000000</td>\n",
       "      <td>14271.000000</td>\n",
       "      <td>14271.000000</td>\n",
       "      <td>14271.000000</td>\n",
       "      <td>14271.000000</td>\n",
       "    </tr>\n",
       "    <tr>\n",
       "      <th>mean</th>\n",
       "      <td>42435.322122</td>\n",
       "      <td>149910.159554</td>\n",
       "      <td>249568.158924</td>\n",
       "      <td>9.223935</td>\n",
       "      <td>4.914445</td>\n",
       "      <td>64.650060</td>\n",
       "      <td>2.770794</td>\n",
       "      <td>1.383085</td>\n",
       "      <td>2.124518</td>\n",
       "      <td>0.273912</td>\n",
       "      <td>...</td>\n",
       "      <td>0.959288</td>\n",
       "      <td>0.114288</td>\n",
       "      <td>0.235232</td>\n",
       "      <td>0.647747</td>\n",
       "      <td>0.315955</td>\n",
       "      <td>0.145190</td>\n",
       "      <td>0.439212</td>\n",
       "      <td>1.610539</td>\n",
       "      <td>1892.224721</td>\n",
       "      <td>4.810023</td>\n",
       "    </tr>\n",
       "    <tr>\n",
       "      <th>std</th>\n",
       "      <td>29472.624266</td>\n",
       "      <td>28875.852387</td>\n",
       "      <td>28816.201225</td>\n",
       "      <td>7.826954</td>\n",
       "      <td>7.145175</td>\n",
       "      <td>16.363483</td>\n",
       "      <td>0.903597</td>\n",
       "      <td>1.501662</td>\n",
       "      <td>0.668425</td>\n",
       "      <td>0.445980</td>\n",
       "      <td>...</td>\n",
       "      <td>0.197629</td>\n",
       "      <td>0.318172</td>\n",
       "      <td>0.424159</td>\n",
       "      <td>0.477689</td>\n",
       "      <td>0.464912</td>\n",
       "      <td>0.352304</td>\n",
       "      <td>0.496308</td>\n",
       "      <td>0.900338</td>\n",
       "      <td>2402.950210</td>\n",
       "      <td>7.016887</td>\n",
       "    </tr>\n",
       "    <tr>\n",
       "      <th>min</th>\n",
       "      <td>36.000000</td>\n",
       "      <td>100021.000000</td>\n",
       "      <td>200001.000000</td>\n",
       "      <td>0.001000</td>\n",
       "      <td>0.000100</td>\n",
       "      <td>18.000000</td>\n",
       "      <td>0.000000</td>\n",
       "      <td>0.000000</td>\n",
       "      <td>0.000000</td>\n",
       "      <td>0.000000</td>\n",
       "      <td>...</td>\n",
       "      <td>0.000000</td>\n",
       "      <td>0.000000</td>\n",
       "      <td>0.000000</td>\n",
       "      <td>0.000000</td>\n",
       "      <td>0.000000</td>\n",
       "      <td>0.000000</td>\n",
       "      <td>0.000000</td>\n",
       "      <td>0.000000</td>\n",
       "      <td>0.000000</td>\n",
       "      <td>0.000300</td>\n",
       "    </tr>\n",
       "    <tr>\n",
       "      <th>25%</th>\n",
       "      <td>17610.000000</td>\n",
       "      <td>125173.000000</td>\n",
       "      <td>224478.000000</td>\n",
       "      <td>2.846000</td>\n",
       "      <td>1.354300</td>\n",
       "      <td>54.000000</td>\n",
       "      <td>3.000000</td>\n",
       "      <td>0.000000</td>\n",
       "      <td>2.000000</td>\n",
       "      <td>0.000000</td>\n",
       "      <td>...</td>\n",
       "      <td>1.000000</td>\n",
       "      <td>0.000000</td>\n",
       "      <td>0.000000</td>\n",
       "      <td>0.000000</td>\n",
       "      <td>0.000000</td>\n",
       "      <td>0.000000</td>\n",
       "      <td>0.000000</td>\n",
       "      <td>1.000000</td>\n",
       "      <td>240.500000</td>\n",
       "      <td>1.389500</td>\n",
       "    </tr>\n",
       "    <tr>\n",
       "      <th>50%</th>\n",
       "      <td>31683.000000</td>\n",
       "      <td>149685.000000</td>\n",
       "      <td>249532.000000</td>\n",
       "      <td>6.323000</td>\n",
       "      <td>2.542200</td>\n",
       "      <td>66.000000</td>\n",
       "      <td>3.000000</td>\n",
       "      <td>1.000000</td>\n",
       "      <td>2.000000</td>\n",
       "      <td>0.000000</td>\n",
       "      <td>...</td>\n",
       "      <td>1.000000</td>\n",
       "      <td>0.000000</td>\n",
       "      <td>0.000000</td>\n",
       "      <td>1.000000</td>\n",
       "      <td>0.000000</td>\n",
       "      <td>0.000000</td>\n",
       "      <td>0.000000</td>\n",
       "      <td>1.000000</td>\n",
       "      <td>870.000000</td>\n",
       "      <td>2.588700</td>\n",
       "    </tr>\n",
       "    <tr>\n",
       "      <th>75%</th>\n",
       "      <td>67735.000000</td>\n",
       "      <td>174918.000000</td>\n",
       "      <td>274307.000000</td>\n",
       "      <td>14.067500</td>\n",
       "      <td>5.085900</td>\n",
       "      <td>78.000000</td>\n",
       "      <td>3.000000</td>\n",
       "      <td>2.000000</td>\n",
       "      <td>3.000000</td>\n",
       "      <td>1.000000</td>\n",
       "      <td>...</td>\n",
       "      <td>1.000000</td>\n",
       "      <td>0.000000</td>\n",
       "      <td>0.000000</td>\n",
       "      <td>1.000000</td>\n",
       "      <td>1.000000</td>\n",
       "      <td>0.000000</td>\n",
       "      <td>1.000000</td>\n",
       "      <td>2.000000</td>\n",
       "      <td>2234.000000</td>\n",
       "      <td>5.104150</td>\n",
       "    </tr>\n",
       "    <tr>\n",
       "      <th>max</th>\n",
       "      <td>99865.000000</td>\n",
       "      <td>199958.000000</td>\n",
       "      <td>299994.000000</td>\n",
       "      <td>29.997000</td>\n",
       "      <td>116.832700</td>\n",
       "      <td>100.000000</td>\n",
       "      <td>5.000000</td>\n",
       "      <td>6.000000</td>\n",
       "      <td>4.000000</td>\n",
       "      <td>1.000000</td>\n",
       "      <td>...</td>\n",
       "      <td>1.000000</td>\n",
       "      <td>1.000000</td>\n",
       "      <td>1.000000</td>\n",
       "      <td>1.000000</td>\n",
       "      <td>1.000000</td>\n",
       "      <td>1.000000</td>\n",
       "      <td>1.000000</td>\n",
       "      <td>3.000000</td>\n",
       "      <td>9524.000000</td>\n",
       "      <td>173.072500</td>\n",
       "    </tr>\n",
       "  </tbody>\n",
       "</table>\n",
       "<p>8 rows × 40 columns</p>\n",
       "</div>"
      ],
      "text/plain": [
       "          subjectid         hadmid      icustayid    readm_days   prev_iculos  \\\n",
       "count  14271.000000   14271.000000   14271.000000  14271.000000  14271.000000   \n",
       "mean   42435.322122  149910.159554  249568.158924      9.223935      4.914445   \n",
       "std    29472.624266   28875.852387   28816.201225      7.826954      7.145175   \n",
       "min       36.000000  100021.000000  200001.000000      0.001000      0.000100   \n",
       "25%    17610.000000  125173.000000  224478.000000      2.846000      1.354300   \n",
       "50%    31683.000000  149685.000000  249532.000000      6.323000      2.542200   \n",
       "75%    67735.000000  174918.000000  274307.000000     14.067500      5.085900   \n",
       "max    99865.000000  199958.000000  299994.000000     29.997000    116.832700   \n",
       "\n",
       "                age     ethnicity  marital_status     insurance    NonEnglish  \\\n",
       "count  14271.000000  14271.000000    14271.000000  14271.000000  14271.000000   \n",
       "mean      64.650060      2.770794        1.383085      2.124518      0.273912   \n",
       "std       16.363483      0.903597        1.501662      0.668425      0.445980   \n",
       "min       18.000000      0.000000        0.000000      0.000000      0.000000   \n",
       "25%       54.000000      3.000000        0.000000      2.000000      0.000000   \n",
       "50%       66.000000      3.000000        1.000000      2.000000      0.000000   \n",
       "75%       78.000000      3.000000        2.000000      3.000000      1.000000   \n",
       "max      100.000000      5.000000        6.000000      4.000000      1.000000   \n",
       "\n",
       "           ...         hemoglobin  operation_nervous  operation_respiratory  \\\n",
       "count      ...       14271.000000       14271.000000           14271.000000   \n",
       "mean       ...           0.959288           0.114288               0.235232   \n",
       "std        ...           0.197629           0.318172               0.424159   \n",
       "min        ...           0.000000           0.000000               0.000000   \n",
       "25%        ...           1.000000           0.000000               0.000000   \n",
       "50%        ...           1.000000           0.000000               0.000000   \n",
       "75%        ...           1.000000           0.000000               0.000000   \n",
       "max        ...           1.000000           1.000000               1.000000   \n",
       "\n",
       "       operation_cardiovascular  operation_digestive      dialysis  \\\n",
       "count              14271.000000         14271.000000  14271.000000   \n",
       "mean                   0.647747             0.315955      0.145190   \n",
       "std                    0.477689             0.464912      0.352304   \n",
       "min                    0.000000             0.000000      0.000000   \n",
       "25%                    0.000000             0.000000      0.000000   \n",
       "50%                    1.000000             0.000000      0.000000   \n",
       "75%                    1.000000             1.000000      0.000000   \n",
       "max                    1.000000             1.000000      1.000000   \n",
       "\n",
       "       intubation_res_gas  num_operations      drg_code       icu_los  \n",
       "count        14271.000000    14271.000000  14271.000000  14271.000000  \n",
       "mean             0.439212        1.610539   1892.224721      4.810023  \n",
       "std              0.496308        0.900338   2402.950210      7.016887  \n",
       "min              0.000000        0.000000      0.000000      0.000300  \n",
       "25%              0.000000        1.000000    240.500000      1.389500  \n",
       "50%              0.000000        1.000000    870.000000      2.588700  \n",
       "75%              1.000000        2.000000   2234.000000      5.104150  \n",
       "max              1.000000        3.000000   9524.000000    173.072500  \n",
       "\n",
       "[8 rows x 40 columns]"
      ]
     },
     "execution_count": 43,
     "metadata": {},
     "output_type": "execute_result"
    }
   ],
   "source": [
    "df_icustay_f.describe()"
   ]
  },
  {
   "cell_type": "markdown",
   "metadata": {},
   "source": [
    "### Correlation Heatmap\n",
    "Pearson Correlation (linear relationship) between the target (`icu_los`) and explanatory variables. Those with a correlation coefficient of `NaN` indiciate that there is not much variation."
   ]
  },
  {
   "cell_type": "code",
   "execution_count": 47,
   "metadata": {
    "collapsed": false
   },
   "outputs": [
    {
     "data": {
      "image/png": "[encoded data removed]",
      "text/plain": [
       "<matplotlib.figure.Figure at 0x7f6bbbadc0d0>"
      ]
     },
     "metadata": {},
     "output_type": "display_data"
    }
   ],
   "source": [
    "plt.figure(figsize=(5,7))\n",
    "data_pcorr = df_icustay_f.corr()\n",
    "cmap = sns.diverging_palette(10, 220, as_cmap=True)\n",
    "sns.heatmap(data_pcorr[['icu_los']], annot=True, cmap = cmap, \n",
    "            linewidths=0.3)\n",
    "plt.show()"
   ]
  },
  {
   "cell_type": "markdown",
   "metadata": {},
   "source": [
    "# Predictive Modeling"
   ]
  },
  {
   "cell_type": "code",
   "execution_count": 45,
   "metadata": {
    "collapsed": false,
    "scrolled": true
   },
   "outputs": [],
   "source": [
    "am_debugging = True\n",
    "if am_debugging:\n",
    "    np.random.seed(2)\n",
    "else:\n",
    "    np.random.seed()"
   ]
  },
  {
   "cell_type": "code",
   "execution_count": 46,
   "metadata": {
    "collapsed": true
   },
   "outputs": [],
   "source": [
    "def lr_gridsearch(X_train, X_test, y_train):\n",
    "    \"\"\"\n",
    "    Function determines the optimal parameters of the best classifier model/estimator by \n",
    "    performing a grid search. The best model will be fitted with the Training set and subsequently \n",
    "    used to predict the classification/labels of the Testing set. The function returns the \n",
    "    \"best\" classifier instance, classifier predictions, best parameters, and grid score.\n",
    "    :param X_train: Training set features\n",
    "    :param X_test: Testing set features\n",
    "    :param y_train: Training set labels\n",
    "    :return: tuple of (best classifier instance, clf predictions, dict of best params, grid score)\n",
    "    \"\"\"\n",
    "    param_grid = [\n",
    "        {'fit_intercept': [True, False], 'normalize': [True, False]}]\n",
    "\n",
    "    # Blank clf instance\n",
    "    blank_clf = LinearRegression()\n",
    "\n",
    "    # Grid Search - Hyperparameters Optimization\n",
    "    clf = grid_search.GridSearchCV(blank_clf, param_grid\n",
    "#                                    , n_jobs=-1\n",
    "                                  )  # classifier + optimal params\n",
    "    clf = clf.fit(X_train, y_train)  # fitted classifier\n",
    "    best_est = clf.best_estimator_\n",
    "    clf_pred = best_est.predict(X_test)\n",
    "\n",
    "    best_params = clf.best_params_  # best parameters identified by grid search\n",
    "    score = clf.best_score_  # best grid score\n",
    "    return (best_est, clf_pred, best_params, score)\n",
    "\n",
    "\n",
    "def svr_gridsearch(X_train, X_test, y_train):\n",
    "    \"\"\"\n",
    "    Function determines the optimal parameters of the best classifier model/estimator by performing a grid search.\n",
    "    The best model will be fitted with the Training set and subsequently used to predict the classification/labels\n",
    "    of the Testing set. The function returns the \"best\" classifier instance, classifier predictions, best parameters,\n",
    "    and grid score.\n",
    "\n",
    "    :param X_train: Training set features\n",
    "    :param X_test: Testing set features\n",
    "    :param y_train: Training set labels\n",
    "    :return: tuple of (best classifier instance, clf predictions, dict of best parameters, grid score)\n",
    "    \"\"\"\n",
    "    # Parameter Grid - dictionary of parameters (map parameter names to values to be searched)\n",
    "    param_grid = [\n",
    "        {'C': [0.01, 0.1, 1, 10, 100, 1000], 'gamma': [0.0001, 0.001, 0.01, 0.1, 1, 10], 'kernel': ['linear']},\n",
    "        {'C': [0.01, 0.1, 1, 10, 100, 1000], 'gamma': [0.0001, 0.001, 0.01, 0.1, 1, 10], 'kernel': ['rbf']}\n",
    "#         {'C':[0.01, 0.1, 1, 10, 100, 1000], 'gamma': [0.0001, 0.001, 0.01, 0.1, 1, 10], 'degree': [2], 'kernel': ['poly']}\n",
    "    ]\n",
    "\n",
    "    \n",
    "    # Blank clf instance\n",
    "    blank_clf = SVR()\n",
    "\n",
    "    # Grid Search - Hyperparameters Optimization\n",
    "    clf = grid_search.GridSearchCV(blank_clf, param_grid\n",
    "#                                    , n_jobs=-1\n",
    "                                  )  # classifier + optimal parameters\n",
    "    clf = clf.fit(X_train, y_train)  # fitted classifier\n",
    "    best_est = clf.best_estimator_\n",
    "    clf_pred = best_est.predict(X_test)\n",
    "\n",
    "    best_params = clf.best_params_  # best parameters identified by grid search\n",
    "    score = clf.best_score_  # best grid score\n",
    "    return (best_est, clf_pred, best_params, score)\n",
    "\n",
    "\n",
    "def rf_gridsearch(X_train, X_test, y_train):\n",
    "    # Parameter Grid - dictionary of parameters (map parameter names to values to be searched)\n",
    "    param_grid = [\n",
    "        {'n_estimators': [1, 2, 3, 4, 5, 6, 7, 8, 9, 10], \n",
    "         'criterion': ['mse', 'mae']}\n",
    "    ]\n",
    "\n",
    "    rfr = RandomForestRegressor(random_state=2\n",
    "#                                 , n_jobs=-1\n",
    "                               )\n",
    "\n",
    "    # Grid search to find \"best\" random forest classifier -- Hyperparameters Optimization\n",
    "    clf = grid_search.GridSearchCV(rfr, param_grid)  # classifier + optimal parameters\n",
    "    clf = clf.fit(X_train, y_train)  # fitted classifier -- Training Set\n",
    "    best_est = clf.best_estimator_\n",
    "    clf_pred = best_est.predict(X_test)  # apply classifier on test set for label predictions\n",
    "    params = clf.best_params_  # optimal parameters\n",
    "    score = clf.best_score_  # best grid score\n",
    "    imp = best_est.feature_importances_\n",
    "    return (best_est, clf_pred, params, score, imp)\n",
    "\n",
    "\n",
    "def gbr_gridsearch(X_train, X_test, y_train):\n",
    "    # Parameter Grid - dictionary of parameters (map parameter names to values to be searched)\n",
    "    param_grid = [\n",
    "        {'loss': ['ls', 'lad', 'huber', 'quantile'], 'criterion': ['friedman_mse', 'mae', 'mse']}]\n",
    "    \n",
    "    # Blank clf instance\n",
    "    blank_clf = GradientBoostingRegressor(random_state=2)\n",
    "\n",
    "    # Grid Search - Hyperparameters Optimization\n",
    "    clf = grid_search.GridSearchCV(blank_clf, param_grid\n",
    "#                                    , n_jobs=-1\n",
    "                                  )  # classifier + optimal parameters\n",
    "    clf = clf.fit(X_train, y_train)  # fitted classifier\n",
    "    best_est = clf.best_estimator_\n",
    "    clf_pred = best_est.predict(X_test)\n",
    "\n",
    "    best_params = clf.best_params_  # best parameters identified by grid search\n",
    "    score = clf.best_score_  # best grid score\n",
    "    return (best_est, clf_pred, best_params, score)"
   ]
  },
  {
   "cell_type": "markdown",
   "metadata": {},
   "source": [
    "## Heart (Cardiovascular) Diseases"
   ]
  },
  {
   "cell_type": "code",
   "execution_count": 48,
   "metadata": {
    "collapsed": false
   },
   "outputs": [],
   "source": [
    "q_cardio = procedure = \"\"\"\n",
    "SELECT drg_code, LOWER(description)\n",
    "FROM drgcodes;\n",
    "\"\"\"\n",
    "\n",
    "cdv = exec_query(q_cardio)\n",
    "df_cdv = pd.DataFrame(cdv, columns=['code', 'desc'])\n",
    "\n",
    "cdv_code = []\n",
    "cdv_desc = []\n",
    "for row in df_cdv.iterrows():\n",
    "    lst = str.split(row[1]['desc'])\n",
    "    if len(difflib.get_close_matches('coronary', lst, cutoff=0.8)) > 0:\n",
    "        cdv_code += [row[1]['code']]\n",
    "        cdv_desc += [row[1]['desc']]\n",
    "    elif len(difflib.get_close_matches('myocardial', lst, cutoff=0.8)) > 0:\n",
    "        cdv_code += [row[1]['code']]\n",
    "        cdv_desc += [row[1]['desc']]\n",
    "    elif len(difflib.get_close_matches('heart', lst, cutoff=0.8)) > 0:\n",
    "        cdv_code += [row[1]['code']]\n",
    "        cdv_desc += [row[1]['desc']]\n",
    "    elif len(difflib.get_close_matches('cardiac', lst, cutoff=0.8)) > 0:\n",
    "        cdv_code += [row[1]['code']]\n",
    "        cdv_desc += [row[1]['desc']]\n",
    "    elif len(difflib.get_close_matches('cardiothoracic', lst, cutoff=0.8)) > 0:\n",
    "        cdv_code += [row[1]['code']]\n",
    "        cdv_desc += [row[1]['desc']]\n",
    "    elif len(difflib.get_close_matches('cardiovascular', lst, cutoff=0.8)) > 0:\n",
    "        cdv_code += [row[1]['code']]\n",
    "        cdv_desc += [row[1]['desc']]"
   ]
  },
  {
   "cell_type": "code",
   "execution_count": 51,
   "metadata": {
    "collapsed": false
   },
   "outputs": [
    {
     "data": {
      "text/plain": [
       "(2812, 40)"
      ]
     },
     "execution_count": 51,
     "metadata": {},
     "output_type": "execute_result"
    }
   ],
   "source": [
    "cdv_lst = np.array(list(set(cdv_code))).astype(int)\n",
    "df_icustay_cdv = df_icustay_f[df_icustay_f['drg_code'].isin(cdv_lst)]\n",
    "df_icustay_cdv.shape"
   ]
  },
  {
   "cell_type": "code",
   "execution_count": 146,
   "metadata": {
    "collapsed": false
   },
   "outputs": [
    {
     "data": {
      "text/plain": [
       "count    2812.000000\n",
       "mean        3.844793\n",
       "std         4.539969\n",
       "min         0.001400\n",
       "25%         1.310550\n",
       "50%         2.401000\n",
       "75%         4.376350\n",
       "max        76.921100\n",
       "Name: icu_los, dtype: float64"
      ]
     },
     "execution_count": 146,
     "metadata": {},
     "output_type": "execute_result"
    }
   ],
   "source": [
    "df_icustay_cdv['icu_los'].describe()"
   ]
  },
  {
   "cell_type": "code",
   "execution_count": 147,
   "metadata": {
    "collapsed": false
   },
   "outputs": [
    {
     "data": {
      "text/plain": [
       "<matplotlib.axes._subplots.AxesSubplot at 0x7f6d068aebd0>"
      ]
     },
     "execution_count": 147,
     "metadata": {},
     "output_type": "execute_result"
    },
    {
     "data": {
      "image/png": "[encoded data removed]",
      "text/plain": [
       "<matplotlib.figure.Figure at 0x7f6d020239d0>"
      ]
     },
     "metadata": {},
     "output_type": "display_data"
    }
   ],
   "source": [
    "df_icustay_cdv['icu_los'].plot(kind='box', ylim=[0, 15])"
   ]
  },
  {
   "cell_type": "markdown",
   "metadata": {},
   "source": [
    "#### Partition: Training & Testing Sets"
   ]
  },
  {
   "cell_type": "code",
   "execution_count": 48,
   "metadata": {
    "collapsed": true
   },
   "outputs": [],
   "source": [
    "def data_partition(data, train_thres=0.75):\n",
    "    \"\"\"\n",
    "    Helper function identifying indices for each record to be a part of the\n",
    "    training set. The quantity of a given subject's set of records is determined\n",
    "    by the training threshold.\n",
    "    \n",
    "    :param data: pandas DataFrame\n",
    "    :param train_thres: float indicating threshold\n",
    "    :return: list of training indices\n",
    "    \"\"\"\n",
    "    if train_thres > 0.83:\n",
    "        return \"This helper function is not appropriate for training threshold > 83%.\"\n",
    "    \n",
    "    idx_lst = []\n",
    "    subj_count = dict(Counter(data.subjectid))\n",
    "    sid_lst = list(data.subjectid.value_counts().index.sort_values(ascending=True))\n",
    "    for sid in sid_lst:\n",
    "        idx_min = data['subjectid'][data.subjectid == sid].idxmin()\n",
    "        if subj_count[sid] > 2:\n",
    "            end_idx = idx_min + int(np.round(subj_count[sid] * train_thres))\n",
    "            idx_lst += range(idx_min, end_idx)\n",
    "        else:\n",
    "            idx_lst += [idx_min]\n",
    "    return idx_lst"
   ]
  },
  {
   "cell_type": "code",
   "execution_count": 149,
   "metadata": {
    "collapsed": false
   },
   "outputs": [
    {
     "data": {
      "text/plain": [
       "((2031, 40), (825, 40))"
      ]
     },
     "execution_count": 149,
     "metadata": {},
     "output_type": "execute_result"
    }
   ],
   "source": [
    "data = df_icustay_cdv.copy()\n",
    "\n",
    "train_idx = data_partition(data, 0.80)\n",
    "train_data = data.ix[train_idx]\n",
    "test_idx = data.index[data.index.isin(train_idx)==False]\n",
    "test_data = data.ix[test_idx]\n",
    "\n",
    "train_data.shape, test_data.shape"
   ]
  },
  {
   "cell_type": "markdown",
   "metadata": {},
   "source": [
    "#### Drop Arbitrary Identifiers\n",
    "Drop `subjectid`, `hadmid`, and `icustayid` that serve only for the purpose of identification."
   ]
  },
  {
   "cell_type": "code",
   "execution_count": 150,
   "metadata": {
    "collapsed": false
   },
   "outputs": [],
   "source": [
    "train_data.drop(['subjectid','hadmid', 'icustayid'], axis=1, inplace=True)\n",
    "test_data.drop(['subjectid','hadmid', 'icustayid'], axis=1, inplace=True)\n",
    "\n",
    "train_data.dropna(inplace=True)\n",
    "test_data.dropna(inplace=True)"
   ]
  },
  {
   "cell_type": "code",
   "execution_count": 151,
   "metadata": {
    "collapsed": false
   },
   "outputs": [
    {
     "data": {
      "text/plain": [
       "((1987, 36), (825, 36), (1987,), (825,))"
      ]
     },
     "execution_count": 151,
     "metadata": {},
     "output_type": "execute_result"
    }
   ],
   "source": [
    "X_train = train_data.iloc[:, :-1]\n",
    "X_test = test_data.iloc[:, :-1]\n",
    "y_train = np.array(train_data.iloc[:, -1])\n",
    "y_test = np.array(test_data.iloc[:, -1])\n",
    "X_train.shape, X_test.shape, y_train.shape, y_test.shape"
   ]
  },
  {
   "cell_type": "markdown",
   "metadata": {},
   "source": [
    "#### Normalization"
   ]
  },
  {
   "cell_type": "code",
   "execution_count": 152,
   "metadata": {
    "collapsed": false
   },
   "outputs": [
    {
     "data": {
      "text/plain": [
       "((1987, 36), (825, 36), (1987,), (825,))"
      ]
     },
     "execution_count": 152,
     "metadata": {},
     "output_type": "execute_result"
    }
   ],
   "source": [
    "scaler = StandardScaler().fit(X_train) # scaler object fitted to training set\n",
    "\n",
    "# Transform\n",
    "scaled_X_train = scaler.transform(X_train)\n",
    "scaled_X_test = scaler.transform(X_test)\n",
    "\n",
    "# scaled_X_train, scaled_X_test = scale(X_train, X_test)\n",
    "scaled_X_train.shape, scaled_X_test.shape, y_train.shape, y_test.shape"
   ]
  },
  {
   "cell_type": "markdown",
   "metadata": {},
   "source": [
    "## Model"
   ]
  },
  {
   "cell_type": "markdown",
   "metadata": {},
   "source": [
    "### Model: Linear Regression"
   ]
  },
  {
   "cell_type": "code",
   "execution_count": 153,
   "metadata": {
    "collapsed": false,
    "scrolled": true
   },
   "outputs": [
    {
     "name": "stdout",
     "output_type": "stream",
     "text": [
      "Best Parameters:  {'normalize': True, 'fit_intercept': True}\n",
      "Best Grid Search Score:  0.177900636344\n",
      "Best Estimator:  LinearRegression(copy_X=True, fit_intercept=True, n_jobs=1, normalize=True)\n"
     ]
    }
   ],
   "source": [
    "lr_model, lr_pred, lr_p, lr_score = lr_gridsearch(scaled_X_train, scaled_X_test, y_train)\n",
    "print \"Best Parameters: \", lr_p\n",
    "print \"Best Grid Search Score: \", lr_score\n",
    "print \"Best Estimator: \", lr_model"
   ]
  },
  {
   "cell_type": "markdown",
   "metadata": {},
   "source": [
    "### Metrics\n",
    "\n",
    "#### Root Mean Squared Error (RMSE)\n",
    "Indicates the *absolute fit* of the model to the data. In other words, how close the observed data points are to the model's predicted values.\n",
    "\n",
    "Also, it is the standard deviation of unexplained variance (residuals)."
   ]
  },
  {
   "cell_type": "code",
   "execution_count": 105,
   "metadata": {
    "collapsed": false,
    "scrolled": true
   },
   "outputs": [
    {
     "name": "stdout",
     "output_type": "stream",
     "text": [
      "RMSE = 3.789 days\n"
     ]
    }
   ],
   "source": [
    "print \"RMSE = %.3f days\" % np.sqrt(mean_squared_error(y_test, lr_pred))"
   ]
  },
  {
   "cell_type": "code",
   "execution_count": 106,
   "metadata": {
    "collapsed": false,
    "scrolled": true
   },
   "outputs": [
    {
     "name": "stdout",
     "output_type": "stream",
     "text": [
      "[0.00,58.80]\n"
     ]
    }
   ],
   "source": [
    "print \"[%.2f,%.2f]\" % (y_test.min(), y_test.max())"
   ]
  },
  {
   "cell_type": "markdown",
   "metadata": {},
   "source": [
    "#### Mean Absolute Error\n",
    "The Mean Absolute Error measures how close the model's predictions are to the observed values."
   ]
  },
  {
   "cell_type": "code",
   "execution_count": 107,
   "metadata": {
    "collapsed": false,
    "scrolled": true
   },
   "outputs": [
    {
     "name": "stdout",
     "output_type": "stream",
     "text": [
      " MAE = 2.222\n"
     ]
    }
   ],
   "source": [
    "print \" MAE = %.3f\" % mean_absolute_error(y_test, lr_pred)"
   ]
  },
  {
   "cell_type": "markdown",
   "metadata": {},
   "source": [
    "#### R<sup>2</sup>: Coefficient of Determination\n",
    "R<sup>2</sup> quantifies the goodness of fit of the linear model. More specifically, it depicts the predictive power of the model.\n",
    "\n",
    "Range: [0, 1]"
   ]
  },
  {
   "cell_type": "code",
   "execution_count": 108,
   "metadata": {
    "collapsed": false,
    "scrolled": true
   },
   "outputs": [
    {
     "name": "stdout",
     "output_type": "stream",
     "text": [
      "r2 = 0.274\n"
     ]
    }
   ],
   "source": [
    "print \"r2 = %.3f\" % r2_score(y_test, lr_pred)"
   ]
  },
  {
   "cell_type": "markdown",
   "metadata": {},
   "source": [
    "### Model: k-Nearest Neighbors"
   ]
  },
  {
   "cell_type": "code",
   "execution_count": 109,
   "metadata": {
    "collapsed": true
   },
   "outputs": [],
   "source": [
    "knn_model = KNeighborsRegressor(n_neighbors=5, weights='uniform') # look at 5 closest neighbors\n",
    "knn_model.fit(scaled_X_train, y_train) # fit model on training data\n",
    "knn_pred = knn_model.predict(scaled_X_test)"
   ]
  },
  {
   "cell_type": "markdown",
   "metadata": {},
   "source": [
    "### Metrics\n",
    "\n",
    "#### Root Mean Squared Error (RMSE)\n",
    "Indicates the *absolute fit* of the model to the data. In other words, how close the observed data points are to the model's predicted values.\n",
    "\n",
    "Also, it is the standard deviation of unexplained variance (residuals)."
   ]
  },
  {
   "cell_type": "code",
   "execution_count": 110,
   "metadata": {
    "collapsed": false
   },
   "outputs": [
    {
     "name": "stdout",
     "output_type": "stream",
     "text": [
      "RMSE = 3.218 days\n"
     ]
    }
   ],
   "source": [
    "print \"RMSE = %.3f days\" % np.sqrt(mean_squared_error(y_test, knn_pred))"
   ]
  },
  {
   "cell_type": "code",
   "execution_count": 111,
   "metadata": {
    "collapsed": false
   },
   "outputs": [
    {
     "name": "stdout",
     "output_type": "stream",
     "text": [
      "[0.00,58.80]\n"
     ]
    }
   ],
   "source": [
    "print \"[%.2f,%.2f]\" % (y_test.min(), y_test.max())"
   ]
  },
  {
   "cell_type": "markdown",
   "metadata": {},
   "source": [
    "#### Mean Absolute Error\n",
    "The Mean Absolute Error measures how close the model's predictions are to the observed values."
   ]
  },
  {
   "cell_type": "code",
   "execution_count": 112,
   "metadata": {
    "collapsed": false
   },
   "outputs": [
    {
     "name": "stdout",
     "output_type": "stream",
     "text": [
      " MAE = 1.861\n"
     ]
    }
   ],
   "source": [
    "print \" MAE = %.3f\" % mean_absolute_error(y_test, knn_pred)"
   ]
  },
  {
   "cell_type": "markdown",
   "metadata": {},
   "source": [
    "#### R<sup>2</sup>: Coefficient of Determination\n",
    "R<sup>2</sup> quantifies the goodness of fit of the linear model. More specifically, it depicts the predictive power of the model.\n",
    "\n",
    "Range: [0, 1]"
   ]
  },
  {
   "cell_type": "code",
   "execution_count": 113,
   "metadata": {
    "collapsed": false
   },
   "outputs": [
    {
     "name": "stdout",
     "output_type": "stream",
     "text": [
      "r2 = 0.476\n"
     ]
    }
   ],
   "source": [
    "print \"r2 = %.3f\" % r2_score(y_test, knn_pred)"
   ]
  },
  {
   "cell_type": "markdown",
   "metadata": {},
   "source": [
    "The k-NN model has very poor predictive power. This may be attributed to the fact that it's a \"lazy learning\" algorithm, *lacking generalization*. The model only does work (build a model) at the time of prediction and uses minimal, if any Training data."
   ]
  },
  {
   "cell_type": "markdown",
   "metadata": {},
   "source": [
    "### Model: Random Forest\n",
    "\n",
    "#### Criterion\n",
    "  1. **mse**: mean squared error\n",
    "  2. **mae**: mean absolute error"
   ]
  },
  {
   "cell_type": "code",
   "execution_count": 114,
   "metadata": {
    "collapsed": false
   },
   "outputs": [
    {
     "name": "stdout",
     "output_type": "stream",
     "text": [
      "Best Parameters:  {'n_estimators': 10, 'criterion': 'mse'}\n",
      "Best Grid Search Score:  -0.0034169426875\n",
      "Best Estimator:  RandomForestRegressor(bootstrap=True, criterion='mse', max_depth=None,\n",
      "           max_features='auto', max_leaf_nodes=None,\n",
      "           min_impurity_split=1e-07, min_samples_leaf=1,\n",
      "           min_samples_split=2, min_weight_fraction_leaf=0.0,\n",
      "           n_estimators=10, n_jobs=1, oob_score=False, random_state=2,\n",
      "           verbose=0, warm_start=False)\n"
     ]
    }
   ],
   "source": [
    "rf_model, rf_pred, rf_p, rf_score, rf_imp = rf_gridsearch(scaled_X_train, scaled_X_test, y_train)\n",
    "print \"Best Parameters: \", rf_p\n",
    "print \"Best Grid Search Score: \", rf_score\n",
    "print \"Best Estimator: \", rf_model"
   ]
  },
  {
   "cell_type": "markdown",
   "metadata": {},
   "source": [
    "### Metrics\n",
    "\n",
    "#### Root Mean Squared Error (RMSE)\n",
    "Indicates the *absolute fit* of the model to the data. In other words, how close the observed data points are to the model's predicted values.\n",
    "\n",
    "Also, it is the standard deviation of unexplained variance (residuals)."
   ]
  },
  {
   "cell_type": "code",
   "execution_count": 115,
   "metadata": {
    "collapsed": false
   },
   "outputs": [
    {
     "name": "stdout",
     "output_type": "stream",
     "text": [
      "RMSE = 2.626 days\n"
     ]
    }
   ],
   "source": [
    "print \"RMSE = %.3f days\" % np.sqrt(mean_squared_error(y_test, rf_pred))"
   ]
  },
  {
   "cell_type": "code",
   "execution_count": 116,
   "metadata": {
    "collapsed": false
   },
   "outputs": [
    {
     "name": "stdout",
     "output_type": "stream",
     "text": [
      "[0.00,58.80]\n"
     ]
    }
   ],
   "source": [
    "print \"[%.2f,%.2f]\" % (y_test.min(), y_test.max())"
   ]
  },
  {
   "cell_type": "markdown",
   "metadata": {},
   "source": [
    "#### Mean Absolute Error\n",
    "The Mean Absolute Error measures how close the model's predictions are to the observed values."
   ]
  },
  {
   "cell_type": "code",
   "execution_count": 117,
   "metadata": {
    "collapsed": false,
    "scrolled": true
   },
   "outputs": [
    {
     "name": "stdout",
     "output_type": "stream",
     "text": [
      " MAE = 1.477\n"
     ]
    }
   ],
   "source": [
    "print \" MAE = %.3f\" % mean_absolute_error(y_test, rf_pred)"
   ]
  },
  {
   "cell_type": "markdown",
   "metadata": {},
   "source": [
    "The average difference between prediction and observation is 2.5 days, which is relatively low."
   ]
  },
  {
   "cell_type": "markdown",
   "metadata": {},
   "source": [
    "#### R<sup>2</sup>: Coefficient of Determination\n",
    "R<sup>2</sup> quantifies the goodness of fit of the linear model. More specifically, it depicts the predictive power of the model.\n",
    "\n",
    "Range: [0, 1]"
   ]
  },
  {
   "cell_type": "code",
   "execution_count": 159,
   "metadata": {
    "collapsed": false
   },
   "outputs": [
    {
     "name": "stdout",
     "output_type": "stream",
     "text": [
      "r2 = 0.651\n"
     ]
    }
   ],
   "source": [
    "print \"r2 = %.3f\" % r2_score(y_test, rf_pred)"
   ]
  },
  {
   "cell_type": "markdown",
   "metadata": {},
   "source": [
    "### Model: Gradient Boosting Regressor"
   ]
  },
  {
   "cell_type": "code",
   "execution_count": 119,
   "metadata": {
    "collapsed": false,
    "scrolled": true
   },
   "outputs": [
    {
     "name": "stdout",
     "output_type": "stream",
     "text": [
      "Best Parameters:  {'loss': 'huber', 'criterion': 'friedman_mse'}\n",
      "Best Grid Search Score:  0.136015999324\n",
      "Best Estimator:  GradientBoostingRegressor(alpha=0.9, criterion='friedman_mse', init=None,\n",
      "             learning_rate=0.1, loss='huber', max_depth=3,\n",
      "             max_features=None, max_leaf_nodes=None,\n",
      "             min_impurity_split=1e-07, min_samples_leaf=1,\n",
      "             min_samples_split=2, min_weight_fraction_leaf=0.0,\n",
      "             n_estimators=100, presort='auto', random_state=2,\n",
      "             subsample=1.0, verbose=0, warm_start=False)\n"
     ]
    }
   ],
   "source": [
    "gbr_model, gbr_pred, gbr_p, gbr_score = gbr_gridsearch(scaled_X_train, scaled_X_test, y_train)\n",
    "print \"Best Parameters: \", gbr_p\n",
    "print \"Best Grid Search Score: \", gbr_score\n",
    "print \"Best Estimator: \", gbr_model"
   ]
  },
  {
   "cell_type": "markdown",
   "metadata": {},
   "source": [
    "### Metrics\n",
    "\n",
    "#### Root Mean Squared Error (RMSE)\n",
    "Indicates the *absolute fit* of the model to the data. In other words, how close the observed data points are to the model's predicted values.\n",
    "\n",
    "Also, it is the standard deviation of unexplained variance (residuals)."
   ]
  },
  {
   "cell_type": "code",
   "execution_count": 120,
   "metadata": {
    "collapsed": false,
    "scrolled": true
   },
   "outputs": [
    {
     "name": "stdout",
     "output_type": "stream",
     "text": [
      "RMSE = 3.571 days\n"
     ]
    }
   ],
   "source": [
    "print \"RMSE = %.3f days\" % np.sqrt(mean_squared_error(y_test, gbr_pred))"
   ]
  },
  {
   "cell_type": "code",
   "execution_count": 121,
   "metadata": {
    "collapsed": false,
    "scrolled": true
   },
   "outputs": [
    {
     "name": "stdout",
     "output_type": "stream",
     "text": [
      "[0.00,58.80]\n"
     ]
    }
   ],
   "source": [
    "print \"[%.2f,%.2f]\" % (y_test.min(), y_test.max())"
   ]
  },
  {
   "cell_type": "markdown",
   "metadata": {},
   "source": [
    "#### Mean Absolute Error\n",
    "The Mean Absolute Error measures how close the model's predictions are to the observed values."
   ]
  },
  {
   "cell_type": "code",
   "execution_count": 122,
   "metadata": {
    "collapsed": false,
    "scrolled": true
   },
   "outputs": [
    {
     "name": "stdout",
     "output_type": "stream",
     "text": [
      " MAE = 1.886\n"
     ]
    }
   ],
   "source": [
    "print \" MAE = %.3f\" % mean_absolute_error(y_test, gbr_pred)"
   ]
  },
  {
   "cell_type": "markdown",
   "metadata": {},
   "source": [
    "#### R<sup>2</sup>: Coefficient of Determination\n",
    "R<sup>2</sup> quantifies the goodness of fit of the linear model. More specifically, it depicts the predictive power of the model.\n",
    "\n",
    "Range: [0, 1]"
   ]
  },
  {
   "cell_type": "code",
   "execution_count": 123,
   "metadata": {
    "collapsed": false,
    "scrolled": true
   },
   "outputs": [
    {
     "name": "stdout",
     "output_type": "stream",
     "text": [
      "r2 = 0.355\n"
     ]
    }
   ],
   "source": [
    "print \"r2 = %.3f\" % r2_score(y_test, gbr_pred)"
   ]
  },
  {
   "cell_type": "markdown",
   "metadata": {},
   "source": [
    "## Respiratory Systems"
   ]
  },
  {
   "cell_type": "code",
   "execution_count": 49,
   "metadata": {
    "collapsed": false
   },
   "outputs": [],
   "source": [
    "q_resp = procedure = \"\"\"\n",
    "SELECT drg_code, LOWER(description)\n",
    "FROM drgcodes;\n",
    "\"\"\"\n",
    "\n",
    "resp = exec_query(q_resp)\n",
    "df_resp = pd.DataFrame(resp, columns=['code', 'desc'])\n",
    "\n",
    "resp_code = []\n",
    "resp_desc = []\n",
    "for row in df_cdv.iterrows():\n",
    "    lst = str.split(row[1]['desc'])\n",
    "    if len(difflib.get_close_matches('pulmonary', lst, cutoff=0.8)) > 0:\n",
    "        resp_code += [row[1]['code']]\n",
    "        resp_desc += [row[1]['desc']]\n",
    "    elif len(difflib.get_close_matches('respiratory', lst, cutoff=0.8)) > 0:\n",
    "        resp_code += [row[1]['code']]\n",
    "        resp_desc += [row[1]['desc']]\n",
    "    elif len(difflib.get_close_matches('pneumonia', lst, cutoff=0.8)) > 0:\n",
    "        resp_code += [row[1]['code']]\n",
    "        resp_desc += [row[1]['desc']]\n",
    "    elif len(difflib.get_close_matches('asthma', lst, cutoff=0.8)) > 0:\n",
    "        resp_code += [row[1]['code']]\n",
    "        resp_desc += [row[1]['desc']]\n",
    "    elif len(difflib.get_close_matches('bronchi', lst, cutoff=0.8)) > 0:\n",
    "        resp_code += [row[1]['code']]\n",
    "        resp_desc += [row[1]['desc']]"
   ]
  },
  {
   "cell_type": "code",
   "execution_count": 50,
   "metadata": {
    "collapsed": false
   },
   "outputs": [
    {
     "data": {
      "text/plain": [
       "(1888, 40)"
      ]
     },
     "execution_count": 50,
     "metadata": {},
     "output_type": "execute_result"
    }
   ],
   "source": [
    "resp_lst = np.array(list(set(resp_code))).astype(int)\n",
    "df_icustay_resp = df_icustay_f[df_icustay_f['drg_code'].isin(resp_lst)]\n",
    "df_icustay_resp.shape"
   ]
  },
  {
   "cell_type": "code",
   "execution_count": 126,
   "metadata": {
    "collapsed": false
   },
   "outputs": [
    {
     "data": {
      "text/plain": [
       "count    1888.000000\n",
       "mean        4.630800\n",
       "std         6.055987\n",
       "min         0.003600\n",
       "25%         1.497575\n",
       "50%         2.811700\n",
       "75%         5.297300\n",
       "max        97.489700\n",
       "Name: icu_los, dtype: float64"
      ]
     },
     "execution_count": 126,
     "metadata": {},
     "output_type": "execute_result"
    }
   ],
   "source": [
    "df_icustay_resp['icu_los'].describe()"
   ]
  },
  {
   "cell_type": "code",
   "execution_count": 127,
   "metadata": {
    "collapsed": false
   },
   "outputs": [
    {
     "data": {
      "text/plain": [
       "<matplotlib.axes._subplots.AxesSubplot at 0x7f6d0686d8d0>"
      ]
     },
     "execution_count": 127,
     "metadata": {},
     "output_type": "execute_result"
    },
    {
     "data": {
      "image/png": "[encoded data removed]",
      "text/plain": [
       "<matplotlib.figure.Figure at 0x7f6d16e840d0>"
      ]
     },
     "metadata": {},
     "output_type": "display_data"
    }
   ],
   "source": [
    "df_icustay_resp['icu_los'].plot(kind='box', ylim=[0, 15])"
   ]
  },
  {
   "cell_type": "markdown",
   "metadata": {},
   "source": [
    "#### Partition: Training & Testing Sets"
   ]
  },
  {
   "cell_type": "code",
   "execution_count": 128,
   "metadata": {
    "collapsed": false
   },
   "outputs": [
    {
     "data": {
      "text/plain": [
       "((1341, 40), (580, 40))"
      ]
     },
     "execution_count": 128,
     "metadata": {},
     "output_type": "execute_result"
    }
   ],
   "source": [
    "data1 = df_icustay_resp.copy()\n",
    "\n",
    "train_idx1 = data_partition(data1, 0.80)\n",
    "train_data1 = data1.ix[train_idx1]\n",
    "test_idx1 = data1.index[data1.index.isin(train_idx1)==False]\n",
    "test_data1 = data1.ix[test_idx1]\n",
    "\n",
    "train_data1.shape, test_data1.shape"
   ]
  },
  {
   "cell_type": "markdown",
   "metadata": {},
   "source": [
    "#### Drop Arbitrary Identifiers\n",
    "Drop `subjectid`, `hadmid`, and `icustayid` that serve only for the purpose of identification."
   ]
  },
  {
   "cell_type": "code",
   "execution_count": 129,
   "metadata": {
    "collapsed": false
   },
   "outputs": [],
   "source": [
    "train_data1.drop(['subjectid','hadmid', 'icustayid'], axis=1, inplace=True)\n",
    "test_data1.drop(['subjectid','hadmid', 'icustayid'], axis=1, inplace=True)\n",
    "\n",
    "train_data1.dropna(inplace=True)\n",
    "test_data1.dropna(inplace=True)"
   ]
  },
  {
   "cell_type": "code",
   "execution_count": 130,
   "metadata": {
    "collapsed": false
   },
   "outputs": [
    {
     "data": {
      "text/plain": [
       "((1308, 36), (580, 36), (1308,), (580,))"
      ]
     },
     "execution_count": 130,
     "metadata": {},
     "output_type": "execute_result"
    }
   ],
   "source": [
    "X_train1 = train_data1.iloc[:, :-1]\n",
    "X_test1 = test_data1.iloc[:, :-1]\n",
    "y_train1 = np.array(train_data1.iloc[:, -1])\n",
    "y_test1 = np.array(test_data1.iloc[:, -1])\n",
    "X_train1.shape, X_test1.shape, y_train1.shape, y_test1.shape"
   ]
  },
  {
   "cell_type": "markdown",
   "metadata": {},
   "source": [
    "#### Normalization"
   ]
  },
  {
   "cell_type": "code",
   "execution_count": 131,
   "metadata": {
    "collapsed": false
   },
   "outputs": [
    {
     "data": {
      "text/plain": [
       "((1308, 36), (580, 36), (1308,), (580,))"
      ]
     },
     "execution_count": 131,
     "metadata": {},
     "output_type": "execute_result"
    }
   ],
   "source": [
    "scaler1 = StandardScaler().fit(X_train1) # scaler object fitted to training set\n",
    "\n",
    "# Transform\n",
    "scaled_X_train1 = scaler1.transform(X_train1)\n",
    "scaled_X_test1 = scaler1.transform(X_test1)\n",
    "\n",
    "# scaled_X_train, scaled_X_test = scale(X_train, X_test)\n",
    "scaled_X_train1.shape, scaled_X_test1.shape, y_train1.shape, y_test1.shape"
   ]
  },
  {
   "cell_type": "markdown",
   "metadata": {},
   "source": [
    "### Model: Linear Regression"
   ]
  },
  {
   "cell_type": "code",
   "execution_count": 132,
   "metadata": {
    "collapsed": false,
    "scrolled": true
   },
   "outputs": [
    {
     "name": "stdout",
     "output_type": "stream",
     "text": [
      "Best Parameters:  {'normalize': True, 'fit_intercept': True}\n",
      "Best Grid Search Score:  0.0744389550478\n",
      "Best Estimator:  LinearRegression(copy_X=True, fit_intercept=True, n_jobs=1, normalize=True)\n"
     ]
    }
   ],
   "source": [
    "lr_model1, lr_pred1, lr_p1, lr_score1 = lr_gridsearch(scaled_X_train1, scaled_X_test1, y_train1)\n",
    "print \"Best Parameters: \", lr_p1\n",
    "print \"Best Grid Search Score: \", lr_score1\n",
    "print \"Best Estimator: \", lr_model1"
   ]
  },
  {
   "cell_type": "markdown",
   "metadata": {},
   "source": [
    "### Metrics\n",
    "\n",
    "#### Root Mean Squared Error (RMSE)\n",
    "Indicates the *absolute fit* of the model to the data. In other words, how close the observed data points are to the model's predicted values.\n",
    "\n",
    "Also, it is the standard deviation of unexplained variance (residuals)."
   ]
  },
  {
   "cell_type": "code",
   "execution_count": 133,
   "metadata": {
    "collapsed": false,
    "scrolled": true
   },
   "outputs": [
    {
     "name": "stdout",
     "output_type": "stream",
     "text": [
      "RMSE = 7.818 days\n"
     ]
    }
   ],
   "source": [
    "print \"RMSE = %.3f days\" % np.sqrt(mean_squared_error(y_test1, lr_pred1))"
   ]
  },
  {
   "cell_type": "code",
   "execution_count": 134,
   "metadata": {
    "collapsed": false,
    "scrolled": true
   },
   "outputs": [
    {
     "name": "stdout",
     "output_type": "stream",
     "text": [
      "[0.00,97.49]\n"
     ]
    }
   ],
   "source": [
    "print \"[%.2f,%.2f]\" % (y_test1.min(), y_test1.max())"
   ]
  },
  {
   "cell_type": "markdown",
   "metadata": {},
   "source": [
    "#### Mean Absolute Error\n",
    "The Mean Absolute Error measures how close the model's predictions are to the observed values."
   ]
  },
  {
   "cell_type": "code",
   "execution_count": 135,
   "metadata": {
    "collapsed": false,
    "scrolled": false
   },
   "outputs": [
    {
     "name": "stdout",
     "output_type": "stream",
     "text": [
      " MAE = 5.282\n"
     ]
    }
   ],
   "source": [
    "print \" MAE = %.3f\" % mean_absolute_error(y_test1, lr_pred1)"
   ]
  },
  {
   "cell_type": "markdown",
   "metadata": {},
   "source": [
    "#### R<sup>2</sup>: Coefficient of Determination\n",
    "R<sup>2</sup> quantifies the goodness of fit of the linear model. More specifically, it depicts the predictive power of the model.\n",
    "\n",
    "Range: [0, 1]"
   ]
  },
  {
   "cell_type": "code",
   "execution_count": 136,
   "metadata": {
    "collapsed": false,
    "scrolled": true
   },
   "outputs": [
    {
     "name": "stdout",
     "output_type": "stream",
     "text": [
      "r2 = -0.203\n"
     ]
    }
   ],
   "source": [
    "print \"r2 = %.3f\" % r2_score(y_test1, lr_pred1)"
   ]
  },
  {
   "cell_type": "markdown",
   "metadata": {},
   "source": [
    "### Model: k-Nearest Neighbors"
   ]
  },
  {
   "cell_type": "code",
   "execution_count": 137,
   "metadata": {
    "collapsed": true
   },
   "outputs": [],
   "source": [
    "knn_model1 = KNeighborsRegressor(n_neighbors=5, weights='uniform') # look at 5 closest neighbors\n",
    "knn_model1.fit(scaled_X_train1, y_train1) # fit model on training data\n",
    "knn_pred1 = knn_model1.predict(scaled_X_test1)"
   ]
  },
  {
   "cell_type": "markdown",
   "metadata": {},
   "source": [
    "### Metrics\n",
    "\n",
    "#### Root Mean Squared Error (RMSE)\n",
    "Indicates the *absolute fit* of the model to the data. In other words, how close the observed data points are to the model's predicted values.\n",
    "\n",
    "Also, it is the standard deviation of unexplained variance (residuals)."
   ]
  },
  {
   "cell_type": "code",
   "execution_count": 138,
   "metadata": {
    "collapsed": false
   },
   "outputs": [
    {
     "name": "stdout",
     "output_type": "stream",
     "text": [
      "RMSE = 6.153 days\n"
     ]
    }
   ],
   "source": [
    "print \"RMSE = %.3f days\" % np.sqrt(mean_squared_error(y_test1, knn_pred1))"
   ]
  },
  {
   "cell_type": "code",
   "execution_count": 139,
   "metadata": {
    "collapsed": false
   },
   "outputs": [
    {
     "name": "stdout",
     "output_type": "stream",
     "text": [
      "[0.00,97.49]\n"
     ]
    }
   ],
   "source": [
    "print \"[%.2f,%.2f]\" % (y_test1.min(), y_test1.max())"
   ]
  },
  {
   "cell_type": "markdown",
   "metadata": {},
   "source": [
    "The k-NN model has an RMSE value of 8.6 days. The value is somewhat small relative to the range of the `dependent variable` (average ICU LOS). Thus, indicating that model has decent accuracy in predicting the response.\n",
    "\n",
    "#### Mean Absolute Error\n",
    "The Mean Absolute Error measures how close the model's predictions are to the observed values."
   ]
  },
  {
   "cell_type": "code",
   "execution_count": 140,
   "metadata": {
    "collapsed": false
   },
   "outputs": [
    {
     "name": "stdout",
     "output_type": "stream",
     "text": [
      " MAE = 2.877\n"
     ]
    }
   ],
   "source": [
    "print \" MAE = %.3f\" % mean_absolute_error(y_test1, knn_pred1)"
   ]
  },
  {
   "cell_type": "markdown",
   "metadata": {},
   "source": [
    "The average difference between prediction and observation is 4.8 days, which is relatively low.\n",
    "\n",
    "#### R<sup>2</sup>: Coefficient of Determination\n",
    "R<sup>2</sup> quantifies the goodness of fit of the linear model. More specifically, it depicts the predictive power of the model.\n",
    "\n",
    "Range: [0, 1]"
   ]
  },
  {
   "cell_type": "code",
   "execution_count": 141,
   "metadata": {
    "collapsed": false
   },
   "outputs": [
    {
     "name": "stdout",
     "output_type": "stream",
     "text": [
      "r2 = 0.255\n"
     ]
    }
   ],
   "source": [
    "print \"r2 = %.3f\" % r2_score(y_test1, knn_pred1)"
   ]
  },
  {
   "cell_type": "markdown",
   "metadata": {},
   "source": [
    "The k-NN model has very poor predictive power. This may be attributed to the fact that it's a \"lazy learning\" algorithm, *lacking generalization*. The model only does work (build a model) at the time of prediction and uses minimal, if any Training data."
   ]
  },
  {
   "cell_type": "markdown",
   "metadata": {},
   "source": [
    "### Model: Random Forest\n",
    "\n",
    "#### Criterion\n",
    "  1. **mse**: mean squared error\n",
    "  2. **mae**: mean absolute error"
   ]
  },
  {
   "cell_type": "code",
   "execution_count": 154,
   "metadata": {
    "collapsed": false
   },
   "outputs": [
    {
     "name": "stdout",
     "output_type": "stream",
     "text": [
      "Best Parameters:  {'n_estimators': 10, 'criterion': 'mae'}\n",
      "Best Grid Search Score:  0.0102367224718\n",
      "Best Estimator:  RandomForestRegressor(bootstrap=True, criterion='mae', max_depth=None,\n",
      "           max_features='auto', max_leaf_nodes=None,\n",
      "           min_impurity_split=1e-07, min_samples_leaf=1,\n",
      "           min_samples_split=2, min_weight_fraction_leaf=0.0,\n",
      "           n_estimators=10, n_jobs=1, oob_score=False, random_state=2,\n",
      "           verbose=0, warm_start=False)\n"
     ]
    }
   ],
   "source": [
    "rf_model1, rf_pred1, rf_p1, rf_score1, rf_imp1 = rf_gridsearch(scaled_X_train1, scaled_X_test1, y_train1)\n",
    "print \"Best Parameters: \", rf_p1\n",
    "print \"Best Grid Search Score: \", rf_score1\n",
    "print \"Best Estimator: \", rf_model1"
   ]
  },
  {
   "cell_type": "markdown",
   "metadata": {},
   "source": [
    "### Metrics\n",
    "\n",
    "#### Root Mean Squared Error (RMSE)\n",
    "Indicates the *absolute fit* of the model to the data. In other words, how close the observed data points are to the model's predicted values.\n",
    "\n",
    "Also, it is the standard deviation of unexplained variance (residuals)."
   ]
  },
  {
   "cell_type": "code",
   "execution_count": 155,
   "metadata": {
    "collapsed": false
   },
   "outputs": [
    {
     "name": "stdout",
     "output_type": "stream",
     "text": [
      "RMSE = 5.293 days\n"
     ]
    }
   ],
   "source": [
    "print \"RMSE = %.3f days\" % np.sqrt(mean_squared_error(y_test1, rf_pred1))"
   ]
  },
  {
   "cell_type": "code",
   "execution_count": 156,
   "metadata": {
    "collapsed": false
   },
   "outputs": [
    {
     "name": "stdout",
     "output_type": "stream",
     "text": [
      "[0.00,97.49]\n"
     ]
    }
   ],
   "source": [
    "print \"[%.2f,%.2f]\" % (y_test1.min(), y_test1.max())"
   ]
  },
  {
   "cell_type": "markdown",
   "metadata": {},
   "source": [
    "#### Mean Absolute Error\n",
    "The Mean Absolute Error measures how close the model's predictions are to the observed values."
   ]
  },
  {
   "cell_type": "code",
   "execution_count": 157,
   "metadata": {
    "collapsed": false,
    "scrolled": true
   },
   "outputs": [
    {
     "name": "stdout",
     "output_type": "stream",
     "text": [
      " MAE = 2.201\n"
     ]
    }
   ],
   "source": [
    "print \" MAE = %.3f\" % mean_absolute_error(y_test1, rf_pred1)"
   ]
  },
  {
   "cell_type": "markdown",
   "metadata": {},
   "source": [
    "The average difference between prediction and observation is 2.5 days, which is relatively low."
   ]
  },
  {
   "cell_type": "markdown",
   "metadata": {},
   "source": [
    "#### R<sup>2</sup>: Coefficient of Determination\n",
    "R<sup>2</sup> quantifies the goodness of fit of the linear model. More specifically, it depicts the predictive power of the model.\n",
    "\n",
    "Range: [0, 1]"
   ]
  },
  {
   "cell_type": "code",
   "execution_count": 158,
   "metadata": {
    "collapsed": false
   },
   "outputs": [
    {
     "name": "stdout",
     "output_type": "stream",
     "text": [
      "r2 = 0.449\n"
     ]
    }
   ],
   "source": [
    "print \"r2 = %.3f\" % r2_score(y_test1, rf_pred1)"
   ]
  },
  {
   "cell_type": "markdown",
   "metadata": {},
   "source": [
    "The Random Forest model has poor predictive power."
   ]
  },
  {
   "cell_type": "markdown",
   "metadata": {},
   "source": [
    "### Model: Gradient Boosting Regressor"
   ]
  },
  {
   "cell_type": "code",
   "execution_count": 160,
   "metadata": {
    "collapsed": false,
    "scrolled": true
   },
   "outputs": [
    {
     "name": "stdout",
     "output_type": "stream",
     "text": [
      "Best Parameters:  {'loss': 'lad', 'criterion': 'mae'}\n",
      "Best Grid Search Score:  0.144162105681\n",
      "Best Estimator:  GradientBoostingRegressor(alpha=0.9, criterion='mae', init=None,\n",
      "             learning_rate=0.1, loss='lad', max_depth=3, max_features=None,\n",
      "             max_leaf_nodes=None, min_impurity_split=1e-07,\n",
      "             min_samples_leaf=1, min_samples_split=2,\n",
      "             min_weight_fraction_leaf=0.0, n_estimators=100,\n",
      "             presort='auto', random_state=2, subsample=1.0, verbose=0,\n",
      "             warm_start=False)\n"
     ]
    }
   ],
   "source": [
    "gbr_model1, gbr_pred1, gbr_p1, gbr_score1 = gbr_gridsearch(scaled_X_train1, scaled_X_test1, y_train1)\n",
    "print \"Best Parameters: \", gbr_p1\n",
    "print \"Best Grid Search Score: \", gbr_score1\n",
    "print \"Best Estimator: \", gbr_model1"
   ]
  },
  {
   "cell_type": "markdown",
   "metadata": {},
   "source": [
    "### Metrics\n",
    "\n",
    "#### Root Mean Squared Error (RMSE)\n",
    "Indicates the *absolute fit* of the model to the data. In other words, how close the observed data points are to the model's predicted values.\n",
    "\n",
    "Also, it is the standard deviation of unexplained variance (residuals)."
   ]
  },
  {
   "cell_type": "code",
   "execution_count": 161,
   "metadata": {
    "collapsed": false,
    "scrolled": true
   },
   "outputs": [
    {
     "name": "stdout",
     "output_type": "stream",
     "text": [
      "RMSE = 6.556 days\n"
     ]
    }
   ],
   "source": [
    "print \"RMSE = %.3f days\" % np.sqrt(mean_squared_error(y_test1, gbr_pred1))"
   ]
  },
  {
   "cell_type": "code",
   "execution_count": 162,
   "metadata": {
    "collapsed": false,
    "scrolled": true
   },
   "outputs": [
    {
     "name": "stdout",
     "output_type": "stream",
     "text": [
      "[0.00,97.49]\n"
     ]
    }
   ],
   "source": [
    "print \"[%.2f,%.2f]\" % (y_test1.min(), y_test1.max())"
   ]
  },
  {
   "cell_type": "markdown",
   "metadata": {},
   "source": [
    "#### Mean Absolute Error\n",
    "The Mean Absolute Error measures how close the model's predictions are to the observed values."
   ]
  },
  {
   "cell_type": "code",
   "execution_count": 163,
   "metadata": {
    "collapsed": false,
    "scrolled": true
   },
   "outputs": [
    {
     "name": "stdout",
     "output_type": "stream",
     "text": [
      " MAE = 2.774\n"
     ]
    }
   ],
   "source": [
    "print \" MAE = %.3f\" % mean_absolute_error(y_test1, gbr_pred1)"
   ]
  },
  {
   "cell_type": "markdown",
   "metadata": {},
   "source": [
    "The average difference between prediction and observation is 4.2 days, which is low."
   ]
  },
  {
   "cell_type": "markdown",
   "metadata": {},
   "source": [
    "#### R<sup>2</sup>: Coefficient of Determination\n",
    "R<sup>2</sup> quantifies the goodness of fit of the linear model. More specifically, it depicts the predictive power of the model.\n",
    "\n",
    "Range: [0, 1]"
   ]
  },
  {
   "cell_type": "code",
   "execution_count": 164,
   "metadata": {
    "collapsed": false,
    "scrolled": true
   },
   "outputs": [
    {
     "name": "stdout",
     "output_type": "stream",
     "text": [
      "r2 = 0.154\n"
     ]
    }
   ],
   "source": [
    "print \"r2 = %.3f\" % r2_score(y_test1, gbr_pred1)"
   ]
  },
  {
   "cell_type": "markdown",
   "metadata": {},
   "source": [
    "## Musculoskeletal Systems"
   ]
  },
  {
   "cell_type": "code",
   "execution_count": 52,
   "metadata": {
    "collapsed": false
   },
   "outputs": [],
   "source": [
    "q_muscoskeletal = procedure = \"\"\"\n",
    "SELECT drg_code, LOWER(description)\n",
    "FROM drgcodes;\n",
    "\"\"\"\n",
    "\n",
    "muscoskeletal = exec_query(q_muscoskeletal)\n",
    "df_muscoskeletal = pd.DataFrame(muscoskeletal, columns=['code', 'desc'])\n",
    "\n",
    "muscoskeletal_code = []\n",
    "muscoskeletal_desc = []\n",
    "for row in df_muscoskeletal.iterrows():\n",
    "    lst = str.split(row[1]['desc'])\n",
    "    if len(difflib.get_close_matches('muscoskeletal', lst, cutoff=0.8)) > 0:\n",
    "        muscoskeletal_code += [row[1]['code']]\n",
    "        muscoskeletal_desc += [row[1]['desc']]\n",
    "    elif len(difflib.get_close_matches('connective tissue', lst, cutoff=0.8)) > 0:\n",
    "        muscoskeletal_code += [row[1]['code']]\n",
    "        muscoskeletal_desc += [row[1]['desc']]\n",
    "    elif len(difflib.get_close_matches('hip', lst, cutoff=0.8)) > 0:\n",
    "        muscoskeletal_code += [row[1]['code']]\n",
    "        muscoskeletal_desc += [row[1]['desc']]\n",
    "    elif len(difflib.get_close_matches('femur', lst, cutoff=0.8)) > 0:\n",
    "        muscoskeletal_code += [row[1]['code']]\n",
    "        muscoskeletal_desc += [row[1]['desc']]\n",
    "    elif len(difflib.get_close_matches('joint', lst, cutoff=0.8)) > 0:\n",
    "        muscoskeletal_code += [row[1]['code']]\n",
    "        muscoskeletal_desc += [row[1]['desc']]\n",
    "    elif len(difflib.get_close_matches('shoulder', lst, cutoff=0.8)) > 0:\n",
    "        muscoskeletal_code += [row[1]['code']]\n",
    "        muscoskeletal_desc += [row[1]['desc']]\n",
    "    elif len(difflib.get_close_matches('elbow', lst, cutoff=0.8)) > 0:\n",
    "        muscoskeletal_code += [row[1]['code']]\n",
    "        muscoskeletal_desc += [row[1]['desc']]\n",
    "    elif len(difflib.get_close_matches('spinal fusion', lst, cutoff=0.8)) > 0:\n",
    "        muscoskeletal_code += [row[1]['code']]\n",
    "        muscoskeletal_desc += [row[1]['desc']]\n",
    "    elif len(difflib.get_close_matches('fracture', lst, cutoff=0.8)) > 0:\n",
    "        muscoskeletal_code += [row[1]['code']]\n",
    "        muscoskeletal_desc += [row[1]['desc']]\n",
    "    elif len(difflib.get_close_matches('bone', lst, cutoff=0.8)) > 0:\n",
    "        muscoskeletal_code += [row[1]['code']]\n",
    "        muscoskeletal_desc += [row[1]['desc']]\n",
    "    elif len(difflib.get_close_matches('osteomyelitis', lst, cutoff=0.8)) > 0:\n",
    "        muscoskeletal_code += [row[1]['code']]\n",
    "        muscoskeletal_desc += [row[1]['desc']]\n",
    "    elif len(difflib.get_close_matches('arthritis', lst, cutoff=0.8)) > 0:\n",
    "        muscoskeletal_code += [row[1]['code']]\n",
    "        muscoskeletal_desc += [row[1]['desc']]\n",
    "    elif len(difflib.get_close_matches('soft tissue', lst, cutoff=0.8)) > 0:\n",
    "        muscoskeletal_code += [row[1]['code']]\n",
    "        muscoskeletal_desc += [row[1]['desc']]"
   ]
  },
  {
   "cell_type": "code",
   "execution_count": 53,
   "metadata": {
    "collapsed": false
   },
   "outputs": [
    {
     "data": {
      "text/plain": [
       "(1629, 40)"
      ]
     },
     "execution_count": 53,
     "metadata": {},
     "output_type": "execute_result"
    }
   ],
   "source": [
    "muscoskeletal_lst = np.array(list(set(muscoskeletal_code))).astype(int)\n",
    "df_icustay_muscoskeletal = df_icustay_f[df_icustay_f['drg_code'].isin(muscoskeletal_lst)]\n",
    "df_icustay_muscoskeletal.shape"
   ]
  },
  {
   "cell_type": "code",
   "execution_count": 174,
   "metadata": {
    "collapsed": false,
    "scrolled": true
   },
   "outputs": [
    {
     "data": {
      "text/plain": [
       "count    1629.000000\n",
       "mean        5.626203\n",
       "std         8.442286\n",
       "min         0.003300\n",
       "25%         1.492500\n",
       "50%         2.917000\n",
       "75%         6.061700\n",
       "max        98.644600\n",
       "Name: icu_los, dtype: float64"
      ]
     },
     "execution_count": 174,
     "metadata": {},
     "output_type": "execute_result"
    }
   ],
   "source": [
    "df_icustay_muscoskeletal['icu_los'].describe()"
   ]
  },
  {
   "cell_type": "code",
   "execution_count": 175,
   "metadata": {
    "collapsed": false
   },
   "outputs": [
    {
     "data": {
      "text/plain": [
       "<matplotlib.axes._subplots.AxesSubplot at 0x7f6d0ddeb8d0>"
      ]
     },
     "execution_count": 175,
     "metadata": {},
     "output_type": "execute_result"
    },
    {
     "data": {
      "image/png": "[encoded data removed]",
      "text/plain": [
       "<matplotlib.figure.Figure at 0x7f6d06a8dc50>"
      ]
     },
     "metadata": {},
     "output_type": "display_data"
    }
   ],
   "source": [
    "df_icustay_muscoskeletal['icu_los'].plot(kind='box', ylim=[0, 15])"
   ]
  },
  {
   "cell_type": "markdown",
   "metadata": {},
   "source": [
    "#### Partition: Training & Testing Sets"
   ]
  },
  {
   "cell_type": "code",
   "execution_count": 176,
   "metadata": {
    "collapsed": false
   },
   "outputs": [
    {
     "data": {
      "text/plain": [
       "((1260, 40), (422, 40))"
      ]
     },
     "execution_count": 176,
     "metadata": {},
     "output_type": "execute_result"
    }
   ],
   "source": [
    "data2 = df_icustay_muscoskeletal.copy()\n",
    "\n",
    "train_idx2 = data_partition(data2, 0.80)\n",
    "train_data2 = data2.ix[train_idx2]\n",
    "test_idx2 = data2.index[data2.index.isin(train_idx2)==False]\n",
    "test_data2 = data2.ix[test_idx2]\n",
    "\n",
    "train_data2.shape, test_data2.shape"
   ]
  },
  {
   "cell_type": "markdown",
   "metadata": {},
   "source": [
    "#### Drop Arbitrary Identifiers\n",
    "Drop `subjectid`, `hadmid`, and `icustayid` that serve only for the purpose of identification."
   ]
  },
  {
   "cell_type": "code",
   "execution_count": 177,
   "metadata": {
    "collapsed": false
   },
   "outputs": [],
   "source": [
    "train_data2.drop(['subjectid','hadmid', 'icustayid'], axis=1, inplace=True)\n",
    "test_data2.drop(['subjectid','hadmid', 'icustayid'], axis=1, inplace=True)\n",
    "\n",
    "train_data2.dropna(inplace=True)\n",
    "test_data2.dropna(inplace=True)"
   ]
  },
  {
   "cell_type": "code",
   "execution_count": 178,
   "metadata": {
    "collapsed": false
   },
   "outputs": [
    {
     "data": {
      "text/plain": [
       "((1207, 36), (422, 36), (1207,), (422,))"
      ]
     },
     "execution_count": 178,
     "metadata": {},
     "output_type": "execute_result"
    }
   ],
   "source": [
    "X_train2 = train_data2.iloc[:, :-1]\n",
    "X_test2 = test_data2.iloc[:, :-1]\n",
    "y_train2 = np.array(train_data2.iloc[:, -1])\n",
    "y_test2 = np.array(test_data2.iloc[:, -1])\n",
    "X_train2.shape, X_test2.shape, y_train2.shape, y_test2.shape"
   ]
  },
  {
   "cell_type": "markdown",
   "metadata": {},
   "source": [
    "#### Normalization"
   ]
  },
  {
   "cell_type": "code",
   "execution_count": 179,
   "metadata": {
    "collapsed": false
   },
   "outputs": [
    {
     "data": {
      "text/plain": [
       "((1207, 36), (422, 36), (1207,), (422,))"
      ]
     },
     "execution_count": 179,
     "metadata": {},
     "output_type": "execute_result"
    }
   ],
   "source": [
    "scaler2 = StandardScaler().fit(X_train2) # scaler object fitted to training set\n",
    "\n",
    "# Transform\n",
    "scaled_X_train2 = scaler2.transform(X_train2)\n",
    "scaled_X_test2 = scaler2.transform(X_test2)\n",
    "\n",
    "# scaled_X_train, scaled_X_test = scale(X_train, X_test)\n",
    "scaled_X_train2.shape, scaled_X_test2.shape, y_train2.shape, y_test2.shape"
   ]
  },
  {
   "cell_type": "markdown",
   "metadata": {},
   "source": [
    "### Model: Linear Regression"
   ]
  },
  {
   "cell_type": "code",
   "execution_count": 180,
   "metadata": {
    "collapsed": false,
    "scrolled": true
   },
   "outputs": [
    {
     "name": "stdout",
     "output_type": "stream",
     "text": [
      "Best Parameters:  {'normalize': True, 'fit_intercept': False}\n",
      "Best Grid Search Score:  -435.924317912\n",
      "Best Estimator:  LinearRegression(copy_X=True, fit_intercept=False, n_jobs=1, normalize=True)\n"
     ]
    }
   ],
   "source": [
    "lr_model2, lr_pred2, lr_p2, lr_score2 = lr_gridsearch(scaled_X_train2, scaled_X_test2, y_train2)\n",
    "print \"Best Parameters: \", lr_p2\n",
    "print \"Best Grid Search Score: \", lr_score2\n",
    "print \"Best Estimator: \", lr_model2"
   ]
  },
  {
   "cell_type": "markdown",
   "metadata": {},
   "source": [
    "### Metrics\n",
    "\n",
    "#### Root Mean Squared Error (RMSE)\n",
    "Indicates the *absolute fit* of the model to the data. In other words, how close the observed data points are to the model's predicted values.\n",
    "\n",
    "Also, it is the standard deviation of unexplained variance (residuals)."
   ]
  },
  {
   "cell_type": "code",
   "execution_count": 181,
   "metadata": {
    "collapsed": false,
    "scrolled": true
   },
   "outputs": [
    {
     "name": "stdout",
     "output_type": "stream",
     "text": [
      "RMSE = 7.956 days\n"
     ]
    }
   ],
   "source": [
    "print \"RMSE = %.3f days\" % np.sqrt(mean_squared_error(y_test2, lr_pred2))"
   ]
  },
  {
   "cell_type": "code",
   "execution_count": 182,
   "metadata": {
    "collapsed": false,
    "scrolled": true
   },
   "outputs": [
    {
     "name": "stdout",
     "output_type": "stream",
     "text": [
      "[0.06,50.86]\n"
     ]
    }
   ],
   "source": [
    "print \"[%.2f,%.2f]\" % (y_test2.min(), y_test2.max())"
   ]
  },
  {
   "cell_type": "markdown",
   "metadata": {},
   "source": [
    "#### Mean Absolute Error\n",
    "The Mean Absolute Error measures how close the model's predictions are to the observed values."
   ]
  },
  {
   "cell_type": "code",
   "execution_count": 183,
   "metadata": {
    "collapsed": false,
    "scrolled": true
   },
   "outputs": [
    {
     "name": "stdout",
     "output_type": "stream",
     "text": [
      " MAE = 6.125\n"
     ]
    }
   ],
   "source": [
    "print \" MAE = %.3f\" % mean_absolute_error(y_test2, lr_pred2)"
   ]
  },
  {
   "cell_type": "markdown",
   "metadata": {},
   "source": [
    "#### R<sup>2</sup>: Coefficient of Determination\n",
    "R<sup>2</sup> quantifies the goodness of fit of the linear model. More specifically, it depicts the predictive power of the model.\n",
    "\n",
    "Range: [0, 1]"
   ]
  },
  {
   "cell_type": "code",
   "execution_count": 184,
   "metadata": {
    "collapsed": false,
    "scrolled": true
   },
   "outputs": [
    {
     "name": "stdout",
     "output_type": "stream",
     "text": [
      "r2 = -0.639\n"
     ]
    }
   ],
   "source": [
    "print \"r2 = %.3f\" % r2_score(y_test2, lr_pred2)"
   ]
  },
  {
   "cell_type": "markdown",
   "metadata": {},
   "source": [
    "### Model: k-Nearest Neighbors"
   ]
  },
  {
   "cell_type": "code",
   "execution_count": 185,
   "metadata": {
    "collapsed": false
   },
   "outputs": [],
   "source": [
    "knn_model2 = KNeighborsRegressor(n_neighbors=5, weights='uniform') # look at 5 closest neighbors\n",
    "knn_model2.fit(scaled_X_train2, y_train2) # fit model on training data\n",
    "knn_pred2 = knn_model2.predict(scaled_X_test2)"
   ]
  },
  {
   "cell_type": "markdown",
   "metadata": {},
   "source": [
    "### Metrics\n",
    "\n",
    "#### Root Mean Squared Error (RMSE)\n",
    "Indicates the *absolute fit* of the model to the data. In other words, how close the observed data points are to the model's predicted values.\n",
    "\n",
    "Also, it is the standard deviation of unexplained variance (residuals)."
   ]
  },
  {
   "cell_type": "code",
   "execution_count": 186,
   "metadata": {
    "collapsed": false
   },
   "outputs": [
    {
     "name": "stdout",
     "output_type": "stream",
     "text": [
      "RMSE = 6.285 days\n"
     ]
    }
   ],
   "source": [
    "print \"RMSE = %.3f days\" % np.sqrt(mean_squared_error(y_test2, knn_pred2))"
   ]
  },
  {
   "cell_type": "code",
   "execution_count": 187,
   "metadata": {
    "collapsed": false
   },
   "outputs": [
    {
     "name": "stdout",
     "output_type": "stream",
     "text": [
      "[0.06,50.86]\n"
     ]
    }
   ],
   "source": [
    "print \"[%.2f,%.2f]\" % (y_test2.min(), y_test2.max())"
   ]
  },
  {
   "cell_type": "markdown",
   "metadata": {},
   "source": [
    "#### Mean Absolute Error\n",
    "The Mean Absolute Error measures how close the model's predictions are to the observed values."
   ]
  },
  {
   "cell_type": "code",
   "execution_count": 188,
   "metadata": {
    "collapsed": false
   },
   "outputs": [
    {
     "name": "stdout",
     "output_type": "stream",
     "text": [
      " MAE = 3.668\n"
     ]
    }
   ],
   "source": [
    "print \" MAE = %.3f\" % mean_absolute_error(y_test2, knn_pred2)"
   ]
  },
  {
   "cell_type": "markdown",
   "metadata": {},
   "source": [
    "#### R<sup>2</sup>: Coefficient of Determination\n",
    "R<sup>2</sup> quantifies the goodness of fit of the linear model. More specifically, it depicts the predictive power of the model.\n",
    "\n",
    "Range: [0, 1]"
   ]
  },
  {
   "cell_type": "code",
   "execution_count": 189,
   "metadata": {
    "collapsed": false
   },
   "outputs": [
    {
     "name": "stdout",
     "output_type": "stream",
     "text": [
      "r2 = -0.023\n"
     ]
    }
   ],
   "source": [
    "print \"r2 = %.3f\" % r2_score(y_test2, knn_pred2)"
   ]
  },
  {
   "cell_type": "markdown",
   "metadata": {},
   "source": [
    "The k-NN model has very poor predictive power. This may be attributed to the fact that it's a \"lazy learning\" algorithm, *lacking generalization*. The model only does work (build a model) at the time of prediction and uses minimal, if any Training data."
   ]
  },
  {
   "cell_type": "markdown",
   "metadata": {},
   "source": [
    "### Model: Random Forest\n",
    "\n",
    "#### Criterion\n",
    "  1. **mse**: mean squared error\n",
    "  2. **mae**: mean absolute error"
   ]
  },
  {
   "cell_type": "code",
   "execution_count": 191,
   "metadata": {
    "collapsed": false
   },
   "outputs": [
    {
     "name": "stdout",
     "output_type": "stream",
     "text": [
      "Best Parameters:  {'n_estimators': 10, 'criterion': 'mse'}\n",
      "Best Grid Search Score:  0.0956773049978\n",
      "Best Estimator:  RandomForestRegressor(bootstrap=True, criterion='mse', max_depth=None,\n",
      "           max_features='auto', max_leaf_nodes=None,\n",
      "           min_impurity_split=1e-07, min_samples_leaf=1,\n",
      "           min_samples_split=2, min_weight_fraction_leaf=0.0,\n",
      "           n_estimators=10, n_jobs=1, oob_score=False, random_state=2,\n",
      "           verbose=0, warm_start=False)\n"
     ]
    }
   ],
   "source": [
    "rf_model2, rf_pred2, rf_p2, rf_score2, rf_imp2 = rf_gridsearch(scaled_X_train2, scaled_X_test2, y_train2)\n",
    "print \"Best Parameters: \", rf_p2\n",
    "print \"Best Grid Search Score: \", rf_score2\n",
    "print \"Best Estimator: \", rf_model2"
   ]
  },
  {
   "cell_type": "markdown",
   "metadata": {},
   "source": [
    "### Metrics\n",
    "\n",
    "#### Root Mean Squared Error (RMSE)\n",
    "Indicates the *absolute fit* of the model to the data. In other words, how close the observed data points are to the model's predicted values.\n",
    "\n",
    "Also, it is the standard deviation of unexplained variance (residuals)."
   ]
  },
  {
   "cell_type": "code",
   "execution_count": 192,
   "metadata": {
    "collapsed": false
   },
   "outputs": [
    {
     "name": "stdout",
     "output_type": "stream",
     "text": [
      "RMSE = 5.838 days\n"
     ]
    }
   ],
   "source": [
    "print \"RMSE = %.3f days\" % np.sqrt(mean_squared_error(y_test2, rf_pred2))"
   ]
  },
  {
   "cell_type": "code",
   "execution_count": 193,
   "metadata": {
    "collapsed": false
   },
   "outputs": [
    {
     "name": "stdout",
     "output_type": "stream",
     "text": [
      "[0.06,50.86]\n"
     ]
    }
   ],
   "source": [
    "print \"[%.2f,%.2f]\" % (y_test2.min(), y_test2.max())"
   ]
  },
  {
   "cell_type": "markdown",
   "metadata": {},
   "source": [
    "#### Mean Absolute Error\n",
    "The Mean Absolute Error measures how close the model's predictions are to the observed values."
   ]
  },
  {
   "cell_type": "code",
   "execution_count": 194,
   "metadata": {
    "collapsed": false,
    "scrolled": true
   },
   "outputs": [
    {
     "name": "stdout",
     "output_type": "stream",
     "text": [
      " MAE = 3.148\n"
     ]
    }
   ],
   "source": [
    "print \" MAE = %.3f\" % mean_absolute_error(y_test2, rf_pred2)"
   ]
  },
  {
   "cell_type": "markdown",
   "metadata": {},
   "source": [
    "#### R<sup>2</sup>: Coefficient of Determination\n",
    "R<sup>2</sup> quantifies the goodness of fit of the linear model. More specifically, it depicts the predictive power of the model.\n",
    "\n",
    "Range: [0, 1]"
   ]
  },
  {
   "cell_type": "code",
   "execution_count": 195,
   "metadata": {
    "collapsed": false
   },
   "outputs": [
    {
     "name": "stdout",
     "output_type": "stream",
     "text": [
      "r2 = 0.117\n"
     ]
    }
   ],
   "source": [
    "print \"r2 = %.3f\" % r2_score(y_test2, rf_pred2)"
   ]
  },
  {
   "cell_type": "markdown",
   "metadata": {},
   "source": [
    "### Model: Gradient Boosting Regressor"
   ]
  },
  {
   "cell_type": "code",
   "execution_count": 196,
   "metadata": {
    "collapsed": false,
    "scrolled": true
   },
   "outputs": [
    {
     "name": "stdout",
     "output_type": "stream",
     "text": [
      "Best Parameters:  {'loss': 'huber', 'criterion': 'friedman_mse'}\n",
      "Best Grid Search Score:  0.221450539623\n",
      "Best Estimator:  GradientBoostingRegressor(alpha=0.9, criterion='friedman_mse', init=None,\n",
      "             learning_rate=0.1, loss='huber', max_depth=3,\n",
      "             max_features=None, max_leaf_nodes=None,\n",
      "             min_impurity_split=1e-07, min_samples_leaf=1,\n",
      "             min_samples_split=2, min_weight_fraction_leaf=0.0,\n",
      "             n_estimators=100, presort='auto', random_state=2,\n",
      "             subsample=1.0, verbose=0, warm_start=False)\n"
     ]
    }
   ],
   "source": [
    "gbr_model2, gbr_pred2, gbr_p2, gbr_score2 = gbr_gridsearch(scaled_X_train2, scaled_X_test2, y_train2)\n",
    "print \"Best Parameters: \", gbr_p2\n",
    "print \"Best Grid Search Score: \", gbr_score2\n",
    "print \"Best Estimator: \", gbr_model2"
   ]
  },
  {
   "cell_type": "markdown",
   "metadata": {},
   "source": [
    "### Metrics\n",
    "\n",
    "#### Root Mean Squared Error (RMSE)\n",
    "Indicates the *absolute fit* of the model to the data. In other words, how close the observed data points are to the model's predicted values.\n",
    "\n",
    "Also, it is the standard deviation of unexplained variance (residuals)."
   ]
  },
  {
   "cell_type": "code",
   "execution_count": 197,
   "metadata": {
    "collapsed": false,
    "scrolled": true
   },
   "outputs": [
    {
     "name": "stdout",
     "output_type": "stream",
     "text": [
      "RMSE = 5.585 days\n"
     ]
    }
   ],
   "source": [
    "print \"RMSE = %.3f days\" % np.sqrt(mean_squared_error(y_test2, gbr_pred2))"
   ]
  },
  {
   "cell_type": "code",
   "execution_count": 198,
   "metadata": {
    "collapsed": false,
    "scrolled": true
   },
   "outputs": [
    {
     "name": "stdout",
     "output_type": "stream",
     "text": [
      "[0.06,50.86]\n"
     ]
    }
   ],
   "source": [
    "print \"[%.2f,%.2f]\" % (y_test2.min(), y_test2.max())"
   ]
  },
  {
   "cell_type": "markdown",
   "metadata": {},
   "source": [
    "The Gradient Boosting model has an RMSE value of 8.3 days. The value is somewhat small relative to the range of the `dependent variable` (average ICU LOS). Thus, indicating that model has decent accuracy in predicting the response."
   ]
  },
  {
   "cell_type": "markdown",
   "metadata": {},
   "source": [
    "#### Mean Absolute Error\n",
    "The Mean Absolute Error measures how close the model's predictions are to the observed values."
   ]
  },
  {
   "cell_type": "code",
   "execution_count": 199,
   "metadata": {
    "collapsed": false,
    "scrolled": true
   },
   "outputs": [
    {
     "name": "stdout",
     "output_type": "stream",
     "text": [
      " MAE = 3.064\n"
     ]
    }
   ],
   "source": [
    "print \" MAE = %.3f\" % mean_absolute_error(y_test2, gbr_pred2)"
   ]
  },
  {
   "cell_type": "markdown",
   "metadata": {},
   "source": [
    "The average difference between prediction and observation is 4.2 days, which is low."
   ]
  },
  {
   "cell_type": "markdown",
   "metadata": {},
   "source": [
    "#### R<sup>2</sup>: Coefficient of Determination\n",
    "R<sup>2</sup> quantifies the goodness of fit of the linear model. More specifically, it depicts the predictive power of the model.\n",
    "\n",
    "Range: [0, 1]"
   ]
  },
  {
   "cell_type": "code",
   "execution_count": 200,
   "metadata": {
    "collapsed": false,
    "scrolled": true
   },
   "outputs": [
    {
     "name": "stdout",
     "output_type": "stream",
     "text": [
      "r2 = 0.192\n"
     ]
    }
   ],
   "source": [
    "print \"r2 = %.3f\" % r2_score(y_test2, gbr_pred2)"
   ]
  },
  {
   "cell_type": "markdown",
   "metadata": {},
   "source": [
    "## Nervous System Diseases"
   ]
  },
  {
   "cell_type": "code",
   "execution_count": 49,
   "metadata": {
    "collapsed": false
   },
   "outputs": [],
   "source": [
    "q_nervous = procedure = \"\"\"\n",
    "SELECT drg_code, LOWER(description)\n",
    "FROM drgcodes;\n",
    "\"\"\"\n",
    "\n",
    "nervous = exec_query(q_nervous)\n",
    "df_nervous = pd.DataFrame(nervous, columns=['code', 'desc'])\n",
    "\n",
    "nervous_code = []\n",
    "nervous_desc = []\n",
    "for row in df_nervous.iterrows():\n",
    "    lst = str.split(row[1]['desc'])\n",
    "    if len(difflib.get_close_matches('nervous', lst, cutoff=0.8)) > 0:\n",
    "        nervous_code += [row[1]['code']]\n",
    "        nervous_desc += [row[1]['desc']]\n",
    "    elif len(difflib.get_close_matches('encephalopathy', lst, cutoff=0.8)) > 0:\n",
    "        nervous_code += [row[1]['code']]\n",
    "        nervous_desc += [row[1]['desc']]\n",
    "    elif len(difflib.get_close_matches('coma', lst, cutoff=0.8)) > 0:\n",
    "        nervous_code += [row[1]['code']]\n",
    "        nervous_desc += [row[1]['desc']]\n",
    "    elif len(difflib.get_close_matches('stupor', lst, cutoff=0.8)) > 0:\n",
    "        nervous_code += [row[1]['code']]\n",
    "        nervous_desc += [row[1]['desc']]\n",
    "    elif len(difflib.get_close_matches('cerebro', lst, cutoff=0.8)) > 0:\n",
    "        nervous_code += [row[1]['code']]\n",
    "        nervous_desc += [row[1]['desc']]\n",
    "    elif len(difflib.get_close_matches('nerve', lst, cutoff=0.8)) > 0:\n",
    "        nervous_code += [row[1]['code']]\n",
    "        nervous_desc += [row[1]['desc']]\n",
    "    elif len(difflib.get_close_matches('meningitis', lst, cutoff=0.8)) > 0:\n",
    "        nervous_code += [row[1]['code']]\n",
    "        nervous_desc += [row[1]['desc']]"
   ]
  },
  {
   "cell_type": "code",
   "execution_count": 50,
   "metadata": {
    "collapsed": false
   },
   "outputs": [
    {
     "data": {
      "text/plain": [
       "(1304, 40)"
      ]
     },
     "execution_count": 50,
     "metadata": {},
     "output_type": "execute_result"
    }
   ],
   "source": [
    "nervous_lst = np.array(list(set(nervous_code))).astype(int)\n",
    "df_icustay_nerv = df_icustay_f[df_icustay_f['drg_code'].isin(nervous_lst)]\n",
    "df_icustay_nerv.shape"
   ]
  },
  {
   "cell_type": "code",
   "execution_count": 51,
   "metadata": {
    "collapsed": false
   },
   "outputs": [
    {
     "data": {
      "text/plain": [
       "count    1304.000000\n",
       "mean        6.586456\n",
       "std        10.523379\n",
       "min         0.004700\n",
       "25%         1.429300\n",
       "50%         2.889100\n",
       "75%         6.453225\n",
       "max        98.644600\n",
       "Name: icu_los, dtype: float64"
      ]
     },
     "execution_count": 51,
     "metadata": {},
     "output_type": "execute_result"
    }
   ],
   "source": [
    "df_icustay_nerv['icu_los'].describe()"
   ]
  },
  {
   "cell_type": "code",
   "execution_count": 52,
   "metadata": {
    "collapsed": false
   },
   "outputs": [
    {
     "data": {
      "text/plain": [
       "<matplotlib.axes._subplots.AxesSubplot at 0x7f6bbb78b750>"
      ]
     },
     "execution_count": 52,
     "metadata": {},
     "output_type": "execute_result"
    },
    {
     "data": {
      "image/png": "[encoded data removed]",
      "text/plain": [
       "<matplotlib.figure.Figure at 0x7f6bcf024ad0>"
      ]
     },
     "metadata": {},
     "output_type": "display_data"
    }
   ],
   "source": [
    "df_icustay_nerv['icu_los'].plot(kind='box', ylim=[0, 15])"
   ]
  },
  {
   "cell_type": "markdown",
   "metadata": {},
   "source": [
    "#### Partition: Training & Testing Sets"
   ]
  },
  {
   "cell_type": "code",
   "execution_count": 53,
   "metadata": {
    "collapsed": false
   },
   "outputs": [
    {
     "data": {
      "text/plain": [
       "((1001, 40), (355, 40))"
      ]
     },
     "execution_count": 53,
     "metadata": {},
     "output_type": "execute_result"
    }
   ],
   "source": [
    "data3 = df_icustay_nerv.copy()\n",
    "\n",
    "train_idx3 = data_partition(data3, 0.80)\n",
    "train_data3 = data3.ix[train_idx3]\n",
    "test_idx3 = data3.index[data3.index.isin(train_idx3)==False]\n",
    "test_data3 = data3.ix[test_idx3]\n",
    "\n",
    "train_data3.shape, test_data3.shape"
   ]
  },
  {
   "cell_type": "markdown",
   "metadata": {},
   "source": [
    "#### Drop Arbitrary Identifiers\n",
    "Drop `subjectid`, `hadmid`, and `icustayid` that serve only for the purpose of identification."
   ]
  },
  {
   "cell_type": "code",
   "execution_count": 54,
   "metadata": {
    "collapsed": false
   },
   "outputs": [],
   "source": [
    "train_data3.drop(['subjectid','hadmid', 'icustayid'], axis=1, inplace=True)\n",
    "test_data3.drop(['subjectid','hadmid', 'icustayid'], axis=1, inplace=True)\n",
    "\n",
    "train_data3.dropna(inplace=True)\n",
    "test_data3.dropna(inplace=True)"
   ]
  },
  {
   "cell_type": "code",
   "execution_count": 55,
   "metadata": {
    "collapsed": false
   },
   "outputs": [
    {
     "data": {
      "text/plain": [
       "((949, 36), (355, 36), (949,), (355,))"
      ]
     },
     "execution_count": 55,
     "metadata": {},
     "output_type": "execute_result"
    }
   ],
   "source": [
    "X_train3 = train_data3.iloc[:, :-1]\n",
    "X_test3 = test_data3.iloc[:, :-1]\n",
    "y_train3 = np.array(train_data3.iloc[:, -1])\n",
    "y_test3 = np.array(test_data3.iloc[:, -1])\n",
    "X_train3.shape, X_test3.shape, y_train3.shape, y_test3.shape"
   ]
  },
  {
   "cell_type": "markdown",
   "metadata": {},
   "source": [
    "#### Normalization"
   ]
  },
  {
   "cell_type": "code",
   "execution_count": 56,
   "metadata": {
    "collapsed": false
   },
   "outputs": [
    {
     "data": {
      "text/plain": [
       "((949, 36), (355, 36), (949,), (355,))"
      ]
     },
     "execution_count": 56,
     "metadata": {},
     "output_type": "execute_result"
    }
   ],
   "source": [
    "scaler3 = StandardScaler().fit(X_train3) # scaler object fitted to training set\n",
    "\n",
    "# Transform\n",
    "scaled_X_train3 = scaler3.transform(X_train3)\n",
    "scaled_X_test3 = scaler3.transform(X_test3)\n",
    "\n",
    "# scaled_X_train, scaled_X_test = scale(X_train, X_test)\n",
    "scaled_X_train3.shape, scaled_X_test3.shape, y_train3.shape, y_test3.shape"
   ]
  },
  {
   "cell_type": "markdown",
   "metadata": {},
   "source": [
    "### Model: Linear Regression"
   ]
  },
  {
   "cell_type": "code",
   "execution_count": 57,
   "metadata": {
    "collapsed": false,
    "scrolled": true
   },
   "outputs": [
    {
     "name": "stdout",
     "output_type": "stream",
     "text": [
      "Best Parameters:  {'normalize': False, 'fit_intercept': True}\n",
      "Best Grid Search Score:  0.152410996272\n",
      "Best Estimator:  LinearRegression(copy_X=True, fit_intercept=True, n_jobs=1, normalize=False)\n"
     ]
    }
   ],
   "source": [
    "lr_model3, lr_pred3, lr_p3, lr_score3 = lr_gridsearch(scaled_X_train3, scaled_X_test3, y_train3)\n",
    "print \"Best Parameters: \", lr_p3\n",
    "print \"Best Grid Search Score: \", lr_score3\n",
    "print \"Best Estimator: \", lr_model3"
   ]
  },
  {
   "cell_type": "markdown",
   "metadata": {},
   "source": [
    "### Metrics\n",
    "\n",
    "#### Root Mean Squared Error (RMSE)\n",
    "Indicates the *absolute fit* of the model to the data. In other words, how close the observed data points are to the model's predicted values.\n",
    "\n",
    "Also, it is the standard deviation of unexplained variance (residuals)."
   ]
  },
  {
   "cell_type": "code",
   "execution_count": 58,
   "metadata": {
    "collapsed": false,
    "scrolled": true
   },
   "outputs": [
    {
     "name": "stdout",
     "output_type": "stream",
     "text": [
      "RMSE = 8.159 days\n"
     ]
    }
   ],
   "source": [
    "print \"RMSE = %.3f days\" % np.sqrt(mean_squared_error(y_test3, lr_pred3))"
   ]
  },
  {
   "cell_type": "code",
   "execution_count": 214,
   "metadata": {
    "collapsed": false,
    "scrolled": true
   },
   "outputs": [
    {
     "name": "stdout",
     "output_type": "stream",
     "text": [
      "[0.00,74.31]\n"
     ]
    }
   ],
   "source": [
    "print \"[%.2f,%.2f]\" % (y_test3.min(), y_test3.max())"
   ]
  },
  {
   "cell_type": "markdown",
   "metadata": {},
   "source": [
    "#### Mean Absolute Error\n",
    "The Mean Absolute Error measures how close the model's predictions are to the observed values."
   ]
  },
  {
   "cell_type": "code",
   "execution_count": 215,
   "metadata": {
    "collapsed": false,
    "scrolled": true
   },
   "outputs": [
    {
     "name": "stdout",
     "output_type": "stream",
     "text": [
      " MAE = 5.253\n"
     ]
    }
   ],
   "source": [
    "print \" MAE = %.3f\" % mean_absolute_error(y_test3, lr_pred3)"
   ]
  },
  {
   "cell_type": "markdown",
   "metadata": {},
   "source": [
    "#### R<sup>2</sup>: Coefficient of Determination\n",
    "R<sup>2</sup> quantifies the goodness of fit of the linear model. More specifically, it depicts the predictive power of the model.\n",
    "\n",
    "Range: [0, 1]"
   ]
  },
  {
   "cell_type": "code",
   "execution_count": 216,
   "metadata": {
    "collapsed": false,
    "scrolled": true
   },
   "outputs": [
    {
     "name": "stdout",
     "output_type": "stream",
     "text": [
      "r2 = 0.304\n"
     ]
    }
   ],
   "source": [
    "print \"r2 = %.3f\" % r2_score(y_test3, lr_pred3)"
   ]
  },
  {
   "cell_type": "markdown",
   "metadata": {},
   "source": [
    "### Model: k-Nearest Neighbors"
   ]
  },
  {
   "cell_type": "code",
   "execution_count": 59,
   "metadata": {
    "collapsed": false
   },
   "outputs": [],
   "source": [
    "knn_model3 = KNeighborsRegressor(n_neighbors=5, weights='uniform') # look at 5 closest neighbors\n",
    "knn_model3.fit(scaled_X_train3, y_train3) # fit model on training data\n",
    "knn_pred3 = knn_model3.predict(scaled_X_test3)"
   ]
  },
  {
   "cell_type": "markdown",
   "metadata": {},
   "source": [
    "### Metrics\n",
    "\n",
    "#### Root Mean Squared Error (RMSE)\n",
    "Indicates the *absolute fit* of the model to the data. In other words, how close the observed data points are to the model's predicted values.\n",
    "\n",
    "Also, it is the standard deviation of unexplained variance (residuals)."
   ]
  },
  {
   "cell_type": "code",
   "execution_count": 218,
   "metadata": {
    "collapsed": false
   },
   "outputs": [
    {
     "name": "stdout",
     "output_type": "stream",
     "text": [
      "RMSE = 8.619 days\n"
     ]
    }
   ],
   "source": [
    "print \"RMSE = %.3f days\" % np.sqrt(mean_squared_error(y_test3, knn_pred3))"
   ]
  },
  {
   "cell_type": "code",
   "execution_count": 219,
   "metadata": {
    "collapsed": false
   },
   "outputs": [
    {
     "name": "stdout",
     "output_type": "stream",
     "text": [
      "[0.00,74.31]\n"
     ]
    }
   ],
   "source": [
    "print \"[%.2f,%.2f]\" % (y_test3.min(), y_test3.max())"
   ]
  },
  {
   "cell_type": "markdown",
   "metadata": {},
   "source": [
    "#### Mean Absolute Error\n",
    "The Mean Absolute Error measures how close the model's predictions are to the observed values."
   ]
  },
  {
   "cell_type": "code",
   "execution_count": 220,
   "metadata": {
    "collapsed": false
   },
   "outputs": [
    {
     "name": "stdout",
     "output_type": "stream",
     "text": [
      " MAE = 5.012\n"
     ]
    }
   ],
   "source": [
    "print \" MAE = %.3f\" % mean_absolute_error(y_test3, knn_pred3)"
   ]
  },
  {
   "cell_type": "markdown",
   "metadata": {},
   "source": [
    "#### R<sup>2</sup>: Coefficient of Determination\n",
    "R<sup>2</sup> quantifies the goodness of fit of the linear model. More specifically, it depicts the predictive power of the model.\n",
    "\n",
    "Range: [0, 1]"
   ]
  },
  {
   "cell_type": "code",
   "execution_count": 221,
   "metadata": {
    "collapsed": false
   },
   "outputs": [
    {
     "name": "stdout",
     "output_type": "stream",
     "text": [
      "r2 = 0.224\n"
     ]
    }
   ],
   "source": [
    "print \"r2 = %.3f\" % r2_score(y_test3, knn_pred3)"
   ]
  },
  {
   "cell_type": "markdown",
   "metadata": {},
   "source": [
    "The k-NN model has very poor predictive power. This may be attributed to the fact that it's a \"lazy learning\" algorithm, *lacking generalization*. The model only does work (build a model) at the time of prediction and uses minimal, if any Training data."
   ]
  },
  {
   "cell_type": "markdown",
   "metadata": {},
   "source": [
    "## Model: Random Forest\n",
    "\n",
    "#### Criterion\n",
    "  1. **mse**: mean squared error\n",
    "  2. **mae**: mean absolute error"
   ]
  },
  {
   "cell_type": "code",
   "execution_count": 60,
   "metadata": {
    "collapsed": false
   },
   "outputs": [
    {
     "name": "stdout",
     "output_type": "stream",
     "text": [
      "Best Parameters:  {'n_estimators': 10, 'criterion': 'mae'}\n",
      "Best Grid Search Score:  0.208290450648\n",
      "Best Estimator:  RandomForestRegressor(bootstrap=True, criterion='mae', max_depth=None,\n",
      "           max_features='auto', max_leaf_nodes=None,\n",
      "           min_impurity_split=1e-07, min_samples_leaf=1,\n",
      "           min_samples_split=2, min_weight_fraction_leaf=0.0,\n",
      "           n_estimators=10, n_jobs=1, oob_score=False, random_state=2,\n",
      "           verbose=0, warm_start=False)\n"
     ]
    }
   ],
   "source": [
    "rf_model3, rf_pred3, rf_p3, rf_score3, rf_imp3 = rf_gridsearch(scaled_X_train3, scaled_X_test3, y_train3)\n",
    "print \"Best Parameters: \", rf_p3\n",
    "print \"Best Grid Search Score: \", rf_score3\n",
    "print \"Best Estimator: \", rf_model3"
   ]
  },
  {
   "cell_type": "markdown",
   "metadata": {},
   "source": [
    "### Metrics\n",
    "\n",
    "#### Root Mean Squared Error (RMSE)\n",
    "Indicates the *absolute fit* of the model to the data. In other words, how close the observed data points are to the model's predicted values.\n",
    "\n",
    "Also, it is the standard deviation of unexplained variance (residuals)."
   ]
  },
  {
   "cell_type": "code",
   "execution_count": 223,
   "metadata": {
    "collapsed": false
   },
   "outputs": [
    {
     "name": "stdout",
     "output_type": "stream",
     "text": [
      "RMSE = 7.441 days\n"
     ]
    }
   ],
   "source": [
    "print \"RMSE = %.3f days\" % np.sqrt(mean_squared_error(y_test3, rf_pred3))"
   ]
  },
  {
   "cell_type": "code",
   "execution_count": 224,
   "metadata": {
    "collapsed": false
   },
   "outputs": [
    {
     "name": "stdout",
     "output_type": "stream",
     "text": [
      "[0.00,74.31]\n"
     ]
    }
   ],
   "source": [
    "print \"[%.2f,%.2f]\" % (y_test3.min(), y_test3.max())"
   ]
  },
  {
   "cell_type": "markdown",
   "metadata": {},
   "source": [
    "#### Mean Absolute Error\n",
    "The Mean Absolute Error measures how close the model's predictions are to the observed values."
   ]
  },
  {
   "cell_type": "code",
   "execution_count": 225,
   "metadata": {
    "collapsed": false,
    "scrolled": true
   },
   "outputs": [
    {
     "name": "stdout",
     "output_type": "stream",
     "text": [
      " MAE = 4.140\n"
     ]
    }
   ],
   "source": [
    "print \" MAE = %.3f\" % mean_absolute_error(y_test3, rf_pred3)"
   ]
  },
  {
   "cell_type": "markdown",
   "metadata": {},
   "source": [
    "#### R<sup>2</sup>: Coefficient of Determination\n",
    "R<sup>2</sup> quantifies the goodness of fit of the linear model. More specifically, it depicts the predictive power of the model.\n",
    "\n",
    "Range: [0, 1]"
   ]
  },
  {
   "cell_type": "code",
   "execution_count": 226,
   "metadata": {
    "collapsed": false
   },
   "outputs": [
    {
     "name": "stdout",
     "output_type": "stream",
     "text": [
      "r2 = 0.421\n"
     ]
    }
   ],
   "source": [
    "print \"r2 = %.3f\" % r2_score(y_test3, rf_pred3)"
   ]
  },
  {
   "cell_type": "markdown",
   "metadata": {},
   "source": [
    "## Model: Gradient Boosting Regressor"
   ]
  },
  {
   "cell_type": "code",
   "execution_count": 61,
   "metadata": {
    "collapsed": false,
    "scrolled": true
   },
   "outputs": [
    {
     "name": "stdout",
     "output_type": "stream",
     "text": [
      "Best Parameters:  {'loss': 'ls', 'criterion': 'mse'}\n",
      "Best Grid Search Score:  0.288573503648\n",
      "Best Estimator:  GradientBoostingRegressor(alpha=0.9, criterion='mse', init=None,\n",
      "             learning_rate=0.1, loss='ls', max_depth=3, max_features=None,\n",
      "             max_leaf_nodes=None, min_impurity_split=1e-07,\n",
      "             min_samples_leaf=1, min_samples_split=2,\n",
      "             min_weight_fraction_leaf=0.0, n_estimators=100,\n",
      "             presort='auto', random_state=2, subsample=1.0, verbose=0,\n",
      "             warm_start=False)\n"
     ]
    }
   ],
   "source": [
    "gbr_model3, gbr_pred3, gbr_p3, gbr_score3 = gbr_gridsearch(scaled_X_train3, scaled_X_test3, y_train3)\n",
    "print \"Best Parameters: \", gbr_p3\n",
    "print \"Best Grid Search Score: \", gbr_score3\n",
    "print \"Best Estimator: \", gbr_model3"
   ]
  },
  {
   "cell_type": "markdown",
   "metadata": {},
   "source": [
    "### Metrics\n",
    "\n",
    "#### Root Mean Squared Error (RMSE)\n",
    "Indicates the *absolute fit* of the model to the data. In other words, how close the observed data points are to the model's predicted values.\n",
    "\n",
    "Also, it is the standard deviation of unexplained variance (residuals)."
   ]
  },
  {
   "cell_type": "code",
   "execution_count": 228,
   "metadata": {
    "collapsed": false,
    "scrolled": true
   },
   "outputs": [
    {
     "name": "stdout",
     "output_type": "stream",
     "text": [
      "RMSE = 7.390 days\n"
     ]
    }
   ],
   "source": [
    "print \"RMSE = %.3f days\" % np.sqrt(mean_squared_error(y_test3, gbr_pred3))"
   ]
  },
  {
   "cell_type": "code",
   "execution_count": 229,
   "metadata": {
    "collapsed": false,
    "scrolled": true
   },
   "outputs": [
    {
     "name": "stdout",
     "output_type": "stream",
     "text": [
      "[0.00,74.31]\n"
     ]
    }
   ],
   "source": [
    "print \"[%.2f,%.2f]\" % (y_test3.min(), y_test3.max())"
   ]
  },
  {
   "cell_type": "markdown",
   "metadata": {},
   "source": [
    "#### Mean Absolute Error\n",
    "The Mean Absolute Error measures how close the model's predictions are to the observed values."
   ]
  },
  {
   "cell_type": "code",
   "execution_count": 230,
   "metadata": {
    "collapsed": false,
    "scrolled": true
   },
   "outputs": [
    {
     "name": "stdout",
     "output_type": "stream",
     "text": [
      " MAE = 4.282\n"
     ]
    }
   ],
   "source": [
    "print \" MAE = %.3f\" % mean_absolute_error(y_test3, gbr_pred3)"
   ]
  },
  {
   "cell_type": "markdown",
   "metadata": {},
   "source": [
    "#### R<sup>2</sup>: Coefficient of Determination\n",
    "R<sup>2</sup> quantifies the goodness of fit of the linear model. More specifically, it depicts the predictive power of the model.\n",
    "\n",
    "Range: [0, 1]"
   ]
  },
  {
   "cell_type": "code",
   "execution_count": 231,
   "metadata": {
    "collapsed": false,
    "scrolled": true
   },
   "outputs": [
    {
     "name": "stdout",
     "output_type": "stream",
     "text": [
      "r2 = 0.429\n"
     ]
    }
   ],
   "source": [
    "print \"r2 = %.3f\" % r2_score(y_test3, gbr_pred3)"
   ]
  },
  {
   "cell_type": "markdown",
   "metadata": {},
   "source": [
    "## Infectious Diseases"
   ]
  },
  {
   "cell_type": "code",
   "execution_count": 64,
   "metadata": {
    "collapsed": false
   },
   "outputs": [],
   "source": [
    "q_infectious = procedure = \"\"\"\n",
    "SELECT drg_code, LOWER(description)\n",
    "FROM drgcodes;\n",
    "\"\"\"\n",
    "\n",
    "infectious = exec_query(q_infectious)\n",
    "df_infectious = pd.DataFrame(infectious, columns=['code', 'desc'])\n",
    "\n",
    "infectious_code = []\n",
    "infectious_desc = []\n",
    "for row in df_infectious.iterrows():\n",
    "    lst = str.split(row[1]['desc'])\n",
    "    if len(difflib.get_close_matches('infectious', lst, cutoff=0.8)) > 0:\n",
    "        infectious_code += [row[1]['code']]\n",
    "        infectious_desc += [row[1]['desc']]\n",
    "    elif len(difflib.get_close_matches('parisitic', lst, cutoff=0.8)) > 0:\n",
    "        infectious_code += [row[1]['code']]\n",
    "        infectious_desc += [row[1]['desc']]\n",
    "    elif len(difflib.get_close_matches('septicemia', lst, cutoff=0.8)) > 0:\n",
    "        infectious_code += [row[1]['code']]\n",
    "        infectious_desc += [row[1]['desc']]\n",
    "    elif len(difflib.get_close_matches('sepsis', lst, cutoff=0.8)) > 0:\n",
    "        infectious_code += [row[1]['code']]\n",
    "        infectious_desc += [row[1]['desc']]"
   ]
  },
  {
   "cell_type": "code",
   "execution_count": 65,
   "metadata": {
    "collapsed": false
   },
   "outputs": [
    {
     "data": {
      "text/plain": [
       "(2256, 40)"
      ]
     },
     "execution_count": 65,
     "metadata": {},
     "output_type": "execute_result"
    }
   ],
   "source": [
    "infectious_lst = np.array(list(set(infectious_code))).astype(int)\n",
    "df_icustay_infect = df_icustay_f[df_icustay_f['drg_code'].isin(infectious_lst)]\n",
    "df_icustay_infect.shape"
   ]
  },
  {
   "cell_type": "code",
   "execution_count": 66,
   "metadata": {
    "collapsed": false
   },
   "outputs": [
    {
     "data": {
      "text/plain": [
       "count    2256.000000\n",
       "mean        5.132864\n",
       "std         6.395462\n",
       "min         0.004300\n",
       "25%         1.651900\n",
       "50%         2.950500\n",
       "75%         5.903300\n",
       "max        68.025700\n",
       "Name: icu_los, dtype: float64"
      ]
     },
     "execution_count": 66,
     "metadata": {},
     "output_type": "execute_result"
    }
   ],
   "source": [
    "df_icustay_infect['icu_los'].describe()"
   ]
  },
  {
   "cell_type": "code",
   "execution_count": 67,
   "metadata": {
    "collapsed": false
   },
   "outputs": [
    {
     "data": {
      "text/plain": [
       "<matplotlib.axes._subplots.AxesSubplot at 0x7f6bcf223850>"
      ]
     },
     "execution_count": 67,
     "metadata": {},
     "output_type": "execute_result"
    },
    {
     "data": {
      "image/png": "[encoded data removed]",
      "text/plain": [
       "<matplotlib.figure.Figure at 0x7f6bcf21ca10>"
      ]
     },
     "metadata": {},
     "output_type": "display_data"
    }
   ],
   "source": [
    "df_icustay_infect['icu_los'].plot(kind='box', ylim=[0, 15])"
   ]
  },
  {
   "cell_type": "markdown",
   "metadata": {},
   "source": [
    "#### Partition: Training & Testing Sets"
   ]
  },
  {
   "cell_type": "code",
   "execution_count": 68,
   "metadata": {
    "collapsed": false
   },
   "outputs": [
    {
     "data": {
      "text/plain": [
       "((1527, 40), (758, 40))"
      ]
     },
     "execution_count": 68,
     "metadata": {},
     "output_type": "execute_result"
    }
   ],
   "source": [
    "data4 = df_icustay_infect[:3000].copy()\n",
    "\n",
    "train_idx4 = data_partition(data4, 0.70)\n",
    "train_data4 = data4.ix[train_idx4]\n",
    "test_idx4 = data4.index[data4.index.isin(train_idx4)==False]\n",
    "test_data4 = data4.ix[test_idx4]\n",
    "\n",
    "train_data4.shape, test_data4.shape"
   ]
  },
  {
   "cell_type": "markdown",
   "metadata": {},
   "source": [
    "#### Drop Arbitrary Identifiers\n",
    "Drop `subjectid`, `hadmid`, and `icustayid` that serve only for the purpose of identification."
   ]
  },
  {
   "cell_type": "code",
   "execution_count": 69,
   "metadata": {
    "collapsed": false
   },
   "outputs": [
    {
     "data": {
      "text/plain": [
       "((1498, 36), (758, 36), (1498,), (758,))"
      ]
     },
     "execution_count": 69,
     "metadata": {},
     "output_type": "execute_result"
    }
   ],
   "source": [
    "train_data4.drop(['subjectid','hadmid', 'icustayid'], axis=1, inplace=True)\n",
    "test_data4.drop(['subjectid','hadmid', 'icustayid'], axis=1, inplace=True)\n",
    "\n",
    "train_data4.dropna(inplace=True)\n",
    "test_data4.dropna(inplace=True)\n",
    "\n",
    "X_train4 = train_data4.iloc[:, :-1]\n",
    "X_test4 = test_data4.iloc[:, :-1]\n",
    "y_train4 = np.array(train_data4.iloc[:, -1])\n",
    "y_test4 = np.array(test_data4.iloc[:, -1])\n",
    "X_train4.shape, X_test4.shape, y_train4.shape, y_test4.shape"
   ]
  },
  {
   "cell_type": "markdown",
   "metadata": {},
   "source": [
    "#### Normalization"
   ]
  },
  {
   "cell_type": "code",
   "execution_count": 70,
   "metadata": {
    "collapsed": false
   },
   "outputs": [
    {
     "data": {
      "text/plain": [
       "((1498, 36), (758, 36), (1498,), (758,))"
      ]
     },
     "execution_count": 70,
     "metadata": {},
     "output_type": "execute_result"
    }
   ],
   "source": [
    "scaler4 = StandardScaler().fit(X_train4) # scaler object fitted to training set\n",
    "\n",
    "# Transform\n",
    "scaled_X_train4 = scaler4.transform(X_train4)\n",
    "scaled_X_test4 = scaler4.transform(X_test4)\n",
    "\n",
    "# scaled_X_train, scaled_X_test = scale(X_train, X_test)\n",
    "scaled_X_train4.shape, scaled_X_test4.shape, y_train4.shape, y_test4.shape"
   ]
  },
  {
   "cell_type": "markdown",
   "metadata": {},
   "source": [
    "## Model: Linear Regression"
   ]
  },
  {
   "cell_type": "code",
   "execution_count": 71,
   "metadata": {
    "collapsed": false
   },
   "outputs": [
    {
     "name": "stdout",
     "output_type": "stream",
     "text": [
      "Best Parameters:  {'normalize': False, 'fit_intercept': True}\n",
      "Best Grid Search Score:  0.073060399538\n",
      "Best Estimator:  LinearRegression(copy_X=True, fit_intercept=True, n_jobs=1, normalize=False)\n"
     ]
    }
   ],
   "source": [
    "lr_model4, lr_pred4, lr_p4, lr_score4 = lr_gridsearch(scaled_X_train4, scaled_X_test4, y_train4)\n",
    "print \"Best Parameters: \", lr_p4\n",
    "print \"Best Grid Search Score: \", lr_score4\n",
    "print \"Best Estimator: \", lr_model4"
   ]
  },
  {
   "cell_type": "markdown",
   "metadata": {},
   "source": [
    "### Metrics\n",
    "\n",
    "#### Root Mean Squared Error (RMSE)\n",
    "Indicates the *absolute fit* of the model to the data. In other words, how close the observed data points are to the model's predicted values.\n",
    "\n",
    "Also, it is the standard deviation of unexplained variance (residuals)."
   ]
  },
  {
   "cell_type": "code",
   "execution_count": 242,
   "metadata": {
    "collapsed": false
   },
   "outputs": [
    {
     "name": "stdout",
     "output_type": "stream",
     "text": [
      "RMSE = 6.461 days\n"
     ]
    }
   ],
   "source": [
    "print \"RMSE = %.3f days\" % np.sqrt(mean_squared_error(y_test4, lr_pred4))"
   ]
  },
  {
   "cell_type": "code",
   "execution_count": 244,
   "metadata": {
    "collapsed": false
   },
   "outputs": [
    {
     "name": "stdout",
     "output_type": "stream",
     "text": [
      "[0.00,68.03]\n"
     ]
    }
   ],
   "source": [
    "print \"[%.2f,%.2f]\" % (y_test4.min(), y_test4.max())"
   ]
  },
  {
   "cell_type": "markdown",
   "metadata": {},
   "source": [
    "#### Mean Absolute Error\n",
    "The Mean Absolute Error measures how close the model's predictions are to the observed values."
   ]
  },
  {
   "cell_type": "code",
   "execution_count": 245,
   "metadata": {
    "collapsed": false
   },
   "outputs": [
    {
     "name": "stdout",
     "output_type": "stream",
     "text": [
      " MAE = 3.608\n"
     ]
    }
   ],
   "source": [
    "print \" MAE = %.3f\" % mean_absolute_error(y_test4, lr_pred4)"
   ]
  },
  {
   "cell_type": "markdown",
   "metadata": {},
   "source": [
    "#### R<sup>2</sup>: Coefficient of Determination\n",
    "R<sup>2</sup> quantifies the goodness of fit of the linear model. More specifically, it depicts the predictive power of the model.\n",
    "\n",
    "Range: [0, 1]"
   ]
  },
  {
   "cell_type": "code",
   "execution_count": 246,
   "metadata": {
    "collapsed": false
   },
   "outputs": [
    {
     "name": "stdout",
     "output_type": "stream",
     "text": [
      "r2 = 0.216\n"
     ]
    }
   ],
   "source": [
    "print \"r2 = %.3f\" % r2_score(y_test4, lr_pred4)"
   ]
  },
  {
   "cell_type": "markdown",
   "metadata": {},
   "source": [
    "### Model: k-Nearest Neighbors"
   ]
  },
  {
   "cell_type": "code",
   "execution_count": 72,
   "metadata": {
    "collapsed": false
   },
   "outputs": [],
   "source": [
    "knn_model4 = KNeighborsRegressor(n_neighbors=5, weights='uniform') # look at 5 closest neighbors\n",
    "knn_model4.fit(scaled_X_train4, y_train4) # fit model on training data\n",
    "knn_pred4 = knn_model4.predict(scaled_X_test4)"
   ]
  },
  {
   "cell_type": "markdown",
   "metadata": {},
   "source": [
    "### Metrics\n",
    "\n",
    "#### Root Mean Squared Error (RMSE)\n",
    "Indicates the *absolute fit* of the model to the data. In other words, how close the observed data points are to the model's predicted values.\n",
    "\n",
    "Also, it is the standard deviation of unexplained variance (residuals)."
   ]
  },
  {
   "cell_type": "code",
   "execution_count": 248,
   "metadata": {
    "collapsed": false
   },
   "outputs": [
    {
     "name": "stdout",
     "output_type": "stream",
     "text": [
      "RMSE = 6.341 days\n"
     ]
    }
   ],
   "source": [
    "print \"RMSE = %.3f days\" % np.sqrt(mean_squared_error(y_test4, knn_pred4))"
   ]
  },
  {
   "cell_type": "code",
   "execution_count": 249,
   "metadata": {
    "collapsed": false
   },
   "outputs": [
    {
     "name": "stdout",
     "output_type": "stream",
     "text": [
      "[0.00,68.03]\n"
     ]
    }
   ],
   "source": [
    "print \"[%.2f,%.2f]\" % (y_test4.min(), y_test4.max())"
   ]
  },
  {
   "cell_type": "markdown",
   "metadata": {},
   "source": [
    "#### Mean Absolute Error\n",
    "The Mean Absolute Error measures how close the model's predictions are to the observed values."
   ]
  },
  {
   "cell_type": "code",
   "execution_count": 250,
   "metadata": {
    "collapsed": false
   },
   "outputs": [
    {
     "name": "stdout",
     "output_type": "stream",
     "text": [
      " MAE = 3.194\n"
     ]
    }
   ],
   "source": [
    "print \" MAE = %.3f\" % mean_absolute_error(y_test4, knn_pred4)"
   ]
  },
  {
   "cell_type": "markdown",
   "metadata": {},
   "source": [
    "#### R<sup>2</sup>: Coefficient of Determination\n",
    "R<sup>2</sup> quantifies the goodness of fit of the linear model. More specifically, it depicts the predictive power of the model.\n",
    "\n",
    "Range: [0, 1]"
   ]
  },
  {
   "cell_type": "code",
   "execution_count": 251,
   "metadata": {
    "collapsed": false
   },
   "outputs": [
    {
     "name": "stdout",
     "output_type": "stream",
     "text": [
      "r2 = 0.245\n"
     ]
    }
   ],
   "source": [
    "print \"r2 = %.3f\" % r2_score(y_test4, knn_pred4)"
   ]
  },
  {
   "cell_type": "markdown",
   "metadata": {},
   "source": [
    "The k-NN model has very poor predictive power. This may be attributed to the fact that it's a \"lazy learning\" algorithm, *lacking generalization*. The model only does work (build a model) at the time of prediction and uses minimal, if any Training data."
   ]
  },
  {
   "cell_type": "markdown",
   "metadata": {},
   "source": [
    "## Model: Random Forest\n",
    "\n",
    "#### Criterion\n",
    "  1. **mse**: mean squared error\n",
    "  2. **mae**: mean absolute error"
   ]
  },
  {
   "cell_type": "code",
   "execution_count": 73,
   "metadata": {
    "collapsed": false
   },
   "outputs": [
    {
     "name": "stdout",
     "output_type": "stream",
     "text": [
      "Best Parameters:  {'n_estimators': 10, 'criterion': 'mae'}\n",
      "Best Grid Search Score:  -0.0138563171102\n",
      "Best Estimator:  RandomForestRegressor(bootstrap=True, criterion='mae', max_depth=None,\n",
      "           max_features='auto', max_leaf_nodes=None,\n",
      "           min_impurity_split=1e-07, min_samples_leaf=1,\n",
      "           min_samples_split=2, min_weight_fraction_leaf=0.0,\n",
      "           n_estimators=10, n_jobs=1, oob_score=False, random_state=2,\n",
      "           verbose=0, warm_start=False)\n"
     ]
    }
   ],
   "source": [
    "rf_model4, rf_pred4, rf_p4, rf_score4, rf_imp4 = rf_gridsearch(scaled_X_train4, scaled_X_test4, y_train4)\n",
    "print \"Best Parameters: \", rf_p4\n",
    "print \"Best Grid Search Score: \", rf_score4\n",
    "print \"Best Estimator: \", rf_model4"
   ]
  },
  {
   "cell_type": "markdown",
   "metadata": {},
   "source": [
    "### Metrics\n",
    "\n",
    "#### Root Mean Squared Error (RMSE)\n",
    "Indicates the *absolute fit* of the model to the data. In other words, how close the observed data points are to the model's predicted values.\n",
    "\n",
    "Also, it is the standard deviation of unexplained variance (residuals)."
   ]
  },
  {
   "cell_type": "code",
   "execution_count": 253,
   "metadata": {
    "collapsed": false
   },
   "outputs": [
    {
     "name": "stdout",
     "output_type": "stream",
     "text": [
      "RMSE = 4.758 days\n"
     ]
    }
   ],
   "source": [
    "print \"RMSE = %.3f days\" % np.sqrt(mean_squared_error(y_test4, rf_pred4))"
   ]
  },
  {
   "cell_type": "code",
   "execution_count": 254,
   "metadata": {
    "collapsed": false
   },
   "outputs": [
    {
     "name": "stdout",
     "output_type": "stream",
     "text": [
      "[0.00,68.03]\n"
     ]
    }
   ],
   "source": [
    "print \"[%.2f,%.2f]\" % (y_test4.min(), y_test4.max())"
   ]
  },
  {
   "cell_type": "markdown",
   "metadata": {},
   "source": [
    "#### Mean Absolute Error\n",
    "The Mean Absolute Error measures how close the model's predictions are to the observed values."
   ]
  },
  {
   "cell_type": "code",
   "execution_count": 255,
   "metadata": {
    "collapsed": false,
    "scrolled": true
   },
   "outputs": [
    {
     "name": "stdout",
     "output_type": "stream",
     "text": [
      " MAE = 2.191\n"
     ]
    }
   ],
   "source": [
    "print \" MAE = %.3f\" % mean_absolute_error(y_test4, rf_pred4)"
   ]
  },
  {
   "cell_type": "markdown",
   "metadata": {},
   "source": [
    "#### R<sup>2</sup>: Coefficient of Determination\n",
    "R<sup>2</sup> quantifies the goodness of fit of the linear model. More specifically, it depicts the predictive power of the model.\n",
    "\n",
    "Range: [0, 1]"
   ]
  },
  {
   "cell_type": "code",
   "execution_count": 256,
   "metadata": {
    "collapsed": false
   },
   "outputs": [
    {
     "name": "stdout",
     "output_type": "stream",
     "text": [
      "r2 = 0.575\n"
     ]
    }
   ],
   "source": [
    "print \"r2 = %.3f\" % r2_score(y_test4, rf_pred4)"
   ]
  },
  {
   "cell_type": "markdown",
   "metadata": {},
   "source": [
    "## Model: Gradient Boosting Regressor"
   ]
  },
  {
   "cell_type": "code",
   "execution_count": 74,
   "metadata": {
    "collapsed": false,
    "scrolled": true
   },
   "outputs": [
    {
     "name": "stdout",
     "output_type": "stream",
     "text": [
      "Best Parameters:  {'loss': 'huber', 'criterion': 'friedman_mse'}\n",
      "Best Grid Search Score:  0.0765525620515\n",
      "Best Estimator:  GradientBoostingRegressor(alpha=0.9, criterion='friedman_mse', init=None,\n",
      "             learning_rate=0.1, loss='huber', max_depth=3,\n",
      "             max_features=None, max_leaf_nodes=None,\n",
      "             min_impurity_split=1e-07, min_samples_leaf=1,\n",
      "             min_samples_split=2, min_weight_fraction_leaf=0.0,\n",
      "             n_estimators=100, presort='auto', random_state=2,\n",
      "             subsample=1.0, verbose=0, warm_start=False)\n"
     ]
    }
   ],
   "source": [
    "gbr_model4, gbr_pred4, gbr_p4, gbr_score4 = gbr_gridsearch(scaled_X_train4, scaled_X_test4, y_train4)\n",
    "print \"Best Parameters: \", gbr_p4\n",
    "print \"Best Grid Search Score: \", gbr_score4\n",
    "print \"Best Estimator: \", gbr_model4"
   ]
  },
  {
   "cell_type": "markdown",
   "metadata": {},
   "source": [
    "### Metrics\n",
    "\n",
    "#### Root Mean Squared Error (RMSE)\n",
    "Indicates the *absolute fit* of the model to the data. In other words, how close the observed data points are to the model's predicted values.\n",
    "\n",
    "Also, it is the standard deviation of unexplained variance (residuals)."
   ]
  },
  {
   "cell_type": "code",
   "execution_count": 258,
   "metadata": {
    "collapsed": false,
    "scrolled": true
   },
   "outputs": [
    {
     "name": "stdout",
     "output_type": "stream",
     "text": [
      "RMSE = 6.186 days\n"
     ]
    }
   ],
   "source": [
    "print \"RMSE = %.3f days\" % np.sqrt(mean_squared_error(y_test4, gbr_pred4))"
   ]
  },
  {
   "cell_type": "code",
   "execution_count": 259,
   "metadata": {
    "collapsed": false,
    "scrolled": true
   },
   "outputs": [
    {
     "name": "stdout",
     "output_type": "stream",
     "text": [
      "[0.00,68.03]\n"
     ]
    }
   ],
   "source": [
    "print \"[%.2f,%.2f]\" % (y_test4.min(), y_test4.max())"
   ]
  },
  {
   "cell_type": "markdown",
   "metadata": {},
   "source": [
    "#### Mean Absolute Error\n",
    "The Mean Absolute Error measures how close the model's predictions are to the observed values."
   ]
  },
  {
   "cell_type": "code",
   "execution_count": 260,
   "metadata": {
    "collapsed": false,
    "scrolled": true
   },
   "outputs": [
    {
     "name": "stdout",
     "output_type": "stream",
     "text": [
      " MAE = 3.046\n"
     ]
    }
   ],
   "source": [
    "print \" MAE = %.3f\" % mean_absolute_error(y_test4, gbr_pred4)"
   ]
  },
  {
   "cell_type": "markdown",
   "metadata": {},
   "source": [
    "#### R<sup>2</sup>: Coefficient of Determination\n",
    "R<sup>2</sup> quantifies the goodness of fit of the linear model. More specifically, it depicts the predictive power of the model.\n",
    "\n",
    "Range: [0, 1]"
   ]
  },
  {
   "cell_type": "code",
   "execution_count": 261,
   "metadata": {
    "collapsed": false,
    "scrolled": true
   },
   "outputs": [
    {
     "name": "stdout",
     "output_type": "stream",
     "text": [
      "r2 = 0.281\n"
     ]
    }
   ],
   "source": [
    "print \"r2 = %.3f\" % r2_score(y_test4, gbr_pred4)"
   ]
  },
  {
   "cell_type": "markdown",
   "metadata": {},
   "source": [
    "## MDC: Other"
   ]
  },
  {
   "cell_type": "code",
   "execution_count": 58,
   "metadata": {
    "collapsed": false
   },
   "outputs": [
    {
     "data": {
      "text/plain": [
       "(14271, 40)"
      ]
     },
     "execution_count": 58,
     "metadata": {},
     "output_type": "execute_result"
    }
   ],
   "source": [
    "df_icustay_other = df_icustay_f[df_icustay_f['drg_code'].isin(cdv_code)==False]\n",
    "df_icustay_other = df_icustay_f[df_icustay_f['drg_code'].isin(resp_code)==False]\n",
    "df_icustay_other = df_icustay_f[df_icustay_f['drg_code'].isin(muscoskeletal_code)==False]\n",
    "df_icustay_other = df_icustay_f[df_icustay_f['drg_code'].isin(nervous_code)==False]\n",
    "df_icustay_other = df_icustay_f[df_icustay_f['drg_code'].isin(infectious_code)==False]\n",
    "\n",
    "df_icustay_other.shape"
   ]
  },
  {
   "cell_type": "code",
   "execution_count": 59,
   "metadata": {
    "collapsed": false
   },
   "outputs": [
    {
     "data": {
      "text/plain": [
       "count    14271.000000\n",
       "mean         4.810023\n",
       "std          7.016887\n",
       "min          0.000300\n",
       "25%          1.389500\n",
       "50%          2.588700\n",
       "75%          5.104150\n",
       "max        173.072500\n",
       "Name: icu_los, dtype: float64"
      ]
     },
     "execution_count": 59,
     "metadata": {},
     "output_type": "execute_result"
    }
   ],
   "source": [
    "df_icustay_other['icu_los'].describe()"
   ]
  },
  {
   "cell_type": "code",
   "execution_count": 60,
   "metadata": {
    "collapsed": false
   },
   "outputs": [
    {
     "data": {
      "text/plain": [
       "<matplotlib.axes._subplots.AxesSubplot at 0x7f0951edcf10>"
      ]
     },
     "execution_count": 60,
     "metadata": {},
     "output_type": "execute_result"
    },
    {
     "data": {
      "image/png": "[encoded data removed]",
      "text/plain": [
       "<matplotlib.figure.Figure at 0x7f094c5e4d50>"
      ]
     },
     "metadata": {},
     "output_type": "display_data"
    }
   ],
   "source": [
    "df_icustay_other['icu_los'].plot(kind='box', ylim=[0, 15])"
   ]
  },
  {
   "cell_type": "markdown",
   "metadata": {},
   "source": [
    "#### Partition: Training & Testing Sets"
   ]
  },
  {
   "cell_type": "code",
   "execution_count": 63,
   "metadata": {
    "collapsed": false
   },
   "outputs": [
    {
     "data": {
      "text/plain": [
       "((2100, 40), (900, 40))"
      ]
     },
     "execution_count": 63,
     "metadata": {},
     "output_type": "execute_result"
    }
   ],
   "source": [
    "data5 = df_icustay_other[:3000].copy()\n",
    "\n",
    "train_idx5 = data_partition(data5, 0.70)\n",
    "train_data5 = data5.ix[train_idx5]\n",
    "test_idx5 = data5.index[data5.index.isin(train_idx5)==False]\n",
    "test_data5 = data5.ix[test_idx5]\n",
    "\n",
    "train_data5.shape, test_data5.shape"
   ]
  },
  {
   "cell_type": "markdown",
   "metadata": {},
   "source": [
    "#### Drop Arbitrary Identifiers\n",
    "Drop `subjectid`, `hadmid`, and `icustayid` that serve only for the purpose of identification."
   ]
  },
  {
   "cell_type": "code",
   "execution_count": 64,
   "metadata": {
    "collapsed": false
   },
   "outputs": [],
   "source": [
    "train_data5.drop(['subjectid','hadmid', 'icustayid'], axis=1, inplace=True)\n",
    "test_data5.drop(['subjectid','hadmid', 'icustayid'], axis=1, inplace=True)\n",
    "\n",
    "train_data5.dropna(inplace=True)\n",
    "test_data5.dropna(inplace=True)"
   ]
  },
  {
   "cell_type": "code",
   "execution_count": 65,
   "metadata": {
    "collapsed": false
   },
   "outputs": [
    {
     "data": {
      "text/plain": [
       "((2100, 36), (900, 36), (2100,), (900,))"
      ]
     },
     "execution_count": 65,
     "metadata": {},
     "output_type": "execute_result"
    }
   ],
   "source": [
    "X_train5 = train_data5.iloc[:, :-1]\n",
    "X_test5 = test_data5.iloc[:, :-1]\n",
    "y_train5 = np.array(train_data5.iloc[:, -1])\n",
    "y_test5 = np.array(test_data5.iloc[:, -1])\n",
    "X_train5.shape, X_test5.shape, y_train5.shape, y_test5.shape"
   ]
  },
  {
   "cell_type": "markdown",
   "metadata": {},
   "source": [
    "#### Normalization"
   ]
  },
  {
   "cell_type": "code",
   "execution_count": 66,
   "metadata": {
    "collapsed": false
   },
   "outputs": [
    {
     "data": {
      "text/plain": [
       "((2100, 36), (900, 36), (2100,), (900,))"
      ]
     },
     "execution_count": 66,
     "metadata": {},
     "output_type": "execute_result"
    }
   ],
   "source": [
    "scaler5 = StandardScaler().fit(X_train5) # scaler object fitted to training set\n",
    "\n",
    "# Transform\n",
    "scaled_X_train5 = scaler5.transform(X_train5)\n",
    "scaled_X_test5 = scaler5.transform(X_test5)\n",
    "\n",
    "# scaled_X_train, scaled_X_test = scale(X_train, X_test)\n",
    "scaled_X_train5.shape, scaled_X_test5.shape, y_train5.shape, y_test5.shape"
   ]
  },
  {
   "cell_type": "markdown",
   "metadata": {},
   "source": [
    "### Model: Linear Regression"
   ]
  },
  {
   "cell_type": "code",
   "execution_count": 67,
   "metadata": {
    "collapsed": false,
    "scrolled": true
   },
   "outputs": [
    {
     "name": "stdout",
     "output_type": "stream",
     "text": [
      "Best Parameters:  {'normalize': True, 'fit_intercept': False}\n",
      "Best Grid Search Score:  -613.229214986\n",
      "Best Estimator:  LinearRegression(copy_X=True, fit_intercept=False, n_jobs=1, normalize=True)\n"
     ]
    }
   ],
   "source": [
    "lr_model5, lr_pred5, lr_p5, lr_score5 = lr_gridsearch(scaled_X_train5, scaled_X_test5, y_train5)\n",
    "print \"Best Parameters: \", lr_p5\n",
    "print \"Best Grid Search Score: \", lr_score5\n",
    "print \"Best Estimator: \", lr_model5"
   ]
  },
  {
   "cell_type": "markdown",
   "metadata": {},
   "source": [
    "### Metrics\n",
    "\n",
    "#### Root Mean Squared Error (RMSE)\n",
    "Indicates the *absolute fit* of the model to the data. In other words, how close the observed data points are to the model's predicted values.\n",
    "\n",
    "Also, it is the standard deviation of unexplained variance (residuals)."
   ]
  },
  {
   "cell_type": "code",
   "execution_count": 68,
   "metadata": {
    "collapsed": false,
    "scrolled": true
   },
   "outputs": [
    {
     "name": "stdout",
     "output_type": "stream",
     "text": [
      "RMSE = 9.352 days\n"
     ]
    }
   ],
   "source": [
    "print \"RMSE = %.3f days\" % np.sqrt(mean_squared_error(y_test5, lr_pred5))"
   ]
  },
  {
   "cell_type": "code",
   "execution_count": 69,
   "metadata": {
    "collapsed": false,
    "scrolled": true
   },
   "outputs": [
    {
     "name": "stdout",
     "output_type": "stream",
     "text": [
      "[0.00,68.03]\n"
     ]
    }
   ],
   "source": [
    "print \"[%.2f,%.2f]\" % (y_test5.min(), y_test5.max())"
   ]
  },
  {
   "cell_type": "markdown",
   "metadata": {},
   "source": [
    "#### Mean Absolute Error\n",
    "The Mean Absolute Error measures how close the model's predictions are to the observed values."
   ]
  },
  {
   "cell_type": "code",
   "execution_count": 70,
   "metadata": {
    "collapsed": false,
    "scrolled": true
   },
   "outputs": [
    {
     "name": "stdout",
     "output_type": "stream",
     "text": [
      " MAE = 6.729\n"
     ]
    }
   ],
   "source": [
    "print \" MAE = %.3f\" % mean_absolute_error(y_test5, lr_pred5)"
   ]
  },
  {
   "cell_type": "markdown",
   "metadata": {},
   "source": [
    "#### R<sup>2</sup>: Coefficient of Determination\n",
    "R<sup>2</sup> quantifies the goodness of fit of the linear model. More specifically, it depicts the predictive power of the model.\n",
    "\n",
    "Range: [0, 1]"
   ]
  },
  {
   "cell_type": "code",
   "execution_count": 71,
   "metadata": {
    "collapsed": false,
    "scrolled": true
   },
   "outputs": [
    {
     "name": "stdout",
     "output_type": "stream",
     "text": [
      "r2 = -0.125\n"
     ]
    }
   ],
   "source": [
    "print \"r2 = %.3f\" % r2_score(y_test5, lr_pred5)"
   ]
  },
  {
   "cell_type": "markdown",
   "metadata": {},
   "source": [
    "### Model: k-Nearest Neighbors"
   ]
  },
  {
   "cell_type": "code",
   "execution_count": 72,
   "metadata": {
    "collapsed": false
   },
   "outputs": [],
   "source": [
    "knn_model5 = KNeighborsRegressor(n_neighbors=5, weights='uniform') # look at 5 closest neighbors\n",
    "knn_model5.fit(scaled_X_train5, y_train5) # fit model on training data\n",
    "knn_pred5 = knn_model5.predict(scaled_X_test5)"
   ]
  },
  {
   "cell_type": "markdown",
   "metadata": {},
   "source": [
    "### Metrics\n",
    "\n",
    "#### Root Mean Squared Error (RMSE)\n",
    "Indicates the *absolute fit* of the model to the data. In other words, how close the observed data points are to the model's predicted values.\n",
    "\n",
    "Also, it is the standard deviation of unexplained variance (residuals)."
   ]
  },
  {
   "cell_type": "code",
   "execution_count": 73,
   "metadata": {
    "collapsed": false
   },
   "outputs": [
    {
     "name": "stdout",
     "output_type": "stream",
     "text": [
      "RMSE = 7.711 days\n"
     ]
    }
   ],
   "source": [
    "print \"RMSE = %.3f days\" % np.sqrt(mean_squared_error(y_test5, knn_pred5))"
   ]
  },
  {
   "cell_type": "code",
   "execution_count": 74,
   "metadata": {
    "collapsed": false
   },
   "outputs": [
    {
     "name": "stdout",
     "output_type": "stream",
     "text": [
      "[0.00,68.03]\n"
     ]
    }
   ],
   "source": [
    "print \"[%.2f,%.2f]\" % (y_test5.min(), y_test5.max())"
   ]
  },
  {
   "cell_type": "markdown",
   "metadata": {},
   "source": [
    "#### Mean Absolute Error\n",
    "The Mean Absolute Error measures how close the model's predictions are to the observed values."
   ]
  },
  {
   "cell_type": "code",
   "execution_count": 75,
   "metadata": {
    "collapsed": false
   },
   "outputs": [
    {
     "name": "stdout",
     "output_type": "stream",
     "text": [
      " MAE = 3.778\n"
     ]
    }
   ],
   "source": [
    "print \" MAE = %.3f\" % mean_absolute_error(y_test5, knn_pred5)"
   ]
  },
  {
   "cell_type": "markdown",
   "metadata": {},
   "source": [
    "#### R<sup>2</sup>: Coefficient of Determination\n",
    "R<sup>2</sup> quantifies the goodness of fit of the linear model. More specifically, it depicts the predictive power of the model.\n",
    "\n",
    "Range: [0, 1]"
   ]
  },
  {
   "cell_type": "code",
   "execution_count": 76,
   "metadata": {
    "collapsed": false
   },
   "outputs": [
    {
     "name": "stdout",
     "output_type": "stream",
     "text": [
      "r2 = 0.235\n"
     ]
    }
   ],
   "source": [
    "print \"r2 = %.3f\" % r2_score(y_test5, knn_pred5)"
   ]
  },
  {
   "cell_type": "markdown",
   "metadata": {},
   "source": [
    "The k-NN model has very poor predictive power. This may be attributed to the fact that it's a \"lazy learning\" algorithm, *lacking generalization*. The model only does work (build a model) at the time of prediction and uses minimal, if any Training data."
   ]
  },
  {
   "cell_type": "markdown",
   "metadata": {},
   "source": [
    "## Model: Random Forest\n",
    "\n",
    "#### Criterion\n",
    "  1. **mse**: mean squared error\n",
    "  2. **mae**: mean absolute error"
   ]
  },
  {
   "cell_type": "code",
   "execution_count": 77,
   "metadata": {
    "collapsed": false
   },
   "outputs": [
    {
     "name": "stdout",
     "output_type": "stream",
     "text": [
      "Best Parameters:  {'n_estimators': 10, 'criterion': 'mae'}\n",
      "Best Grid Search Score:  0.157394169202\n",
      "Best Estimator:  RandomForestRegressor(bootstrap=True, criterion='mae', max_depth=None,\n",
      "           max_features='auto', max_leaf_nodes=None,\n",
      "           min_impurity_split=1e-07, min_samples_leaf=1,\n",
      "           min_samples_split=2, min_weight_fraction_leaf=0.0,\n",
      "           n_estimators=10, n_jobs=1, oob_score=False, random_state=2,\n",
      "           verbose=0, warm_start=False)\n"
     ]
    }
   ],
   "source": [
    "rf_model5, rf_pred5, rf_p5, rf_score5, rf_imp5 = rf_gridsearch(scaled_X_train5, scaled_X_test5, y_train5)\n",
    "print \"Best Parameters: \", rf_p5\n",
    "print \"Best Grid Search Score: \", rf_score5\n",
    "print \"Best Estimator: \", rf_model5"
   ]
  },
  {
   "cell_type": "markdown",
   "metadata": {},
   "source": [
    "### Metrics\n",
    "\n",
    "#### Root Mean Squared Error (RMSE)\n",
    "Indicates the *absolute fit* of the model to the data. In other words, how close the observed data points are to the model's predicted values.\n",
    "\n",
    "Also, it is the standard deviation of unexplained variance (residuals)."
   ]
  },
  {
   "cell_type": "code",
   "execution_count": 78,
   "metadata": {
    "collapsed": false
   },
   "outputs": [
    {
     "name": "stdout",
     "output_type": "stream",
     "text": [
      "RMSE = 5.744 days\n"
     ]
    }
   ],
   "source": [
    "print \"RMSE = %.3f days\" % np.sqrt(mean_squared_error(y_test5, rf_pred5))"
   ]
  },
  {
   "cell_type": "code",
   "execution_count": 79,
   "metadata": {
    "collapsed": false
   },
   "outputs": [
    {
     "name": "stdout",
     "output_type": "stream",
     "text": [
      "[0.00,68.03]\n"
     ]
    }
   ],
   "source": [
    "print \"[%.2f,%.2f]\" % (y_test5.min(), y_test5.max())"
   ]
  },
  {
   "cell_type": "markdown",
   "metadata": {},
   "source": [
    "#### Mean Absolute Error\n",
    "The Mean Absolute Error measures how close the model's predictions are to the observed values."
   ]
  },
  {
   "cell_type": "code",
   "execution_count": 80,
   "metadata": {
    "collapsed": false,
    "scrolled": true
   },
   "outputs": [
    {
     "name": "stdout",
     "output_type": "stream",
     "text": [
      " MAE = 2.975\n"
     ]
    }
   ],
   "source": [
    "print \" MAE = %.3f\" % mean_absolute_error(y_test5, rf_pred5)"
   ]
  },
  {
   "cell_type": "markdown",
   "metadata": {},
   "source": [
    "#### R<sup>2</sup>: Coefficient of Determination\n",
    "R<sup>2</sup> quantifies the goodness of fit of the linear model. More specifically, it depicts the predictive power of the model.\n",
    "\n",
    "Range: [0, 1]"
   ]
  },
  {
   "cell_type": "code",
   "execution_count": 81,
   "metadata": {
    "collapsed": false
   },
   "outputs": [
    {
     "name": "stdout",
     "output_type": "stream",
     "text": [
      "r2 = 0.576\n"
     ]
    }
   ],
   "source": [
    "print \"r2 = %.3f\" % r2_score(y_test5, rf_pred5)"
   ]
  },
  {
   "cell_type": "markdown",
   "metadata": {},
   "source": [
    "## Model: Gradient Boosting Regressor"
   ]
  },
  {
   "cell_type": "code",
   "execution_count": 82,
   "metadata": {
    "collapsed": false,
    "scrolled": true
   },
   "outputs": [
    {
     "name": "stdout",
     "output_type": "stream",
     "text": [
      "Best Parameters:  {'loss': 'lad', 'criterion': 'friedman_mse'}\n",
      "Best Grid Search Score:  0.156036322291\n",
      "Best Estimator:  GradientBoostingRegressor(alpha=0.9, criterion='friedman_mse', init=None,\n",
      "             learning_rate=0.1, loss='lad', max_depth=3, max_features=None,\n",
      "             max_leaf_nodes=None, min_impurity_split=1e-07,\n",
      "             min_samples_leaf=1, min_samples_split=2,\n",
      "             min_weight_fraction_leaf=0.0, n_estimators=100,\n",
      "             presort='auto', random_state=2, subsample=1.0, verbose=0,\n",
      "             warm_start=False)\n"
     ]
    }
   ],
   "source": [
    "gbr_model5, gbr_pred5, gbr_p5, gbr_score5 = gbr_gridsearch(scaled_X_train5, scaled_X_test5, y_train5)\n",
    "print \"Best Parameters: \", gbr_p5\n",
    "print \"Best Grid Search Score: \", gbr_score5\n",
    "print \"Best Estimator: \", gbr_model5"
   ]
  },
  {
   "cell_type": "markdown",
   "metadata": {},
   "source": [
    "### Metrics\n",
    "\n",
    "#### Root Mean Squared Error (RMSE)\n",
    "Indicates the *absolute fit* of the model to the data. In other words, how close the observed data points are to the model's predicted values.\n",
    "\n",
    "Also, it is the standard deviation of unexplained variance (residuals)."
   ]
  },
  {
   "cell_type": "code",
   "execution_count": 83,
   "metadata": {
    "collapsed": false,
    "scrolled": true
   },
   "outputs": [
    {
     "name": "stdout",
     "output_type": "stream",
     "text": [
      "RMSE = 7.787 days\n"
     ]
    }
   ],
   "source": [
    "print \"RMSE = %.3f days\" % np.sqrt(mean_squared_error(y_test5, gbr_pred5))"
   ]
  },
  {
   "cell_type": "code",
   "execution_count": 84,
   "metadata": {
    "collapsed": false,
    "scrolled": true
   },
   "outputs": [
    {
     "name": "stdout",
     "output_type": "stream",
     "text": [
      "[0.00,68.03]\n"
     ]
    }
   ],
   "source": [
    "print \"[%.2f,%.2f]\" % (y_test5.min(), y_test5.max())"
   ]
  },
  {
   "cell_type": "markdown",
   "metadata": {},
   "source": [
    "#### Mean Absolute Error\n",
    "The Mean Absolute Error measures how close the model's predictions are to the observed values."
   ]
  },
  {
   "cell_type": "code",
   "execution_count": 85,
   "metadata": {
    "collapsed": false,
    "scrolled": true
   },
   "outputs": [
    {
     "name": "stdout",
     "output_type": "stream",
     "text": [
      " MAE = 3.554\n"
     ]
    }
   ],
   "source": [
    "print \" MAE = %.3f\" % mean_absolute_error(y_test5, gbr_pred5)"
   ]
  },
  {
   "cell_type": "markdown",
   "metadata": {},
   "source": [
    "#### R<sup>2</sup>: Coefficient of Determination\n",
    "R<sup>2</sup> quantifies the goodness of fit of the linear model. More specifically, it depicts the predictive power of the model.\n",
    "\n",
    "Range: [0, 1]"
   ]
  },
  {
   "cell_type": "code",
   "execution_count": 86,
   "metadata": {
    "collapsed": false,
    "scrolled": true
   },
   "outputs": [
    {
     "name": "stdout",
     "output_type": "stream",
     "text": [
      "r2 = 0.220\n"
     ]
    }
   ],
   "source": [
    "print \"r2 = %.3f\" % r2_score(y_test5, gbr_pred5)"
   ]
  },
  {
   "cell_type": "markdown",
   "metadata": {},
   "source": [
    "# Summary Results"
   ]
  },
  {
   "cell_type": "markdown",
   "metadata": {},
   "source": [
    "## Model Predictions\n",
    "### Cardiovascular Diseases"
   ]
  },
  {
   "cell_type": "code",
   "execution_count": 167,
   "metadata": {
    "collapsed": false
   },
   "outputs": [
    {
     "data": {
      "image/png": "[encoded data removed]",
      "text/plain": [
       "<matplotlib.figure.Figure at 0x7f6d0dc4f690>"
      ]
     },
     "metadata": {},
     "output_type": "display_data"
    }
   ],
   "source": [
    "x_lim = [0,50]\n",
    "y_lim = [0,800]\n",
    "\n",
    "plt.figure(figsize=(15, 10))\n",
    "plt.subplot(2,3,1)\n",
    "plt.hist(np.round(y_test), bins=10, color='b')\n",
    "plt.title(\"True (y-test)\")\n",
    "plt.ylabel('Frequency')\n",
    "plt.xlim(x_lim)\n",
    "plt.ylim(y_lim)\n",
    "plt.legend(loc='upper right')\n",
    "\n",
    "plt.subplot(2,3,2)\n",
    "plt.hist(np.round(lr_pred), bins=3, color='g')\n",
    "plt.title(\"Model: Linear Regression\")\n",
    "plt.xlim(x_lim)\n",
    "plt.ylim(y_lim)\n",
    "plt.legend(loc='upper right')\n",
    "\n",
    "\n",
    "plt.subplot(2,3,3)\n",
    "plt.hist(np.round(knn_pred), bins=5, color='g')\n",
    "plt.title(\"Model: k-Nearest Neighbors\")\n",
    "plt.xlabel('ICU Length of Stay (days)')\n",
    "plt.ylabel('Frequency')\n",
    "plt.xlim(x_lim)\n",
    "plt.ylim(y_lim)\n",
    "plt.legend(loc='upper right')\n",
    "\n",
    "plt.subplot(2,3,4)\n",
    "plt.hist(np.round(rf_pred), bins=6, color='g')\n",
    "plt.title(\"Model: Random Forest\")\n",
    "plt.xlabel('ICU Length of Stay (days)')\n",
    "plt.xlim(x_lim)\n",
    "plt.ylim(y_lim)\n",
    "plt.legend(loc='upper right')\n",
    "\n",
    "plt.subplot(2,3,5)\n",
    "plt.hist(np.round(gbr_pred), bins=5, color='g')\n",
    "plt.title(\"Model: Gradient Boosting\")\n",
    "plt.xlabel('ICU Length of Stay (days)')\n",
    "plt.xlim(x_lim)\n",
    "plt.ylim(y_lim)\n",
    "plt.legend(loc='upper right')\n",
    "\n",
    "plt.suptitle('Histogram: Response (Models vs. True) \\n Circulatory Diseases')\n",
    "\n",
    "plt.show()"
   ]
  },
  {
   "cell_type": "markdown",
   "metadata": {},
   "source": [
    "## Respiratory System"
   ]
  },
  {
   "cell_type": "code",
   "execution_count": 171,
   "metadata": {
    "collapsed": false
   },
   "outputs": [
    {
     "data": {
      "image/png": "[encoded data removed]",
      "text/plain": [
       "<matplotlib.figure.Figure at 0x7f6d06bb56d0>"
      ]
     },
     "metadata": {},
     "output_type": "display_data"
    }
   ],
   "source": [
    "x_lim = [0,50]\n",
    "y_lim = [0,700]\n",
    "\n",
    "plt.figure(figsize=(15, 10))\n",
    "plt.subplot(2,3,1)\n",
    "plt.hist(np.round(y_test1), bins=15, color='b')\n",
    "plt.title(\"True (y-test)\")\n",
    "plt.ylabel('Frequency')\n",
    "plt.xlim(x_lim)\n",
    "plt.ylim(y_lim)\n",
    "plt.legend(loc='upper right')\n",
    "\n",
    "plt.subplot(2,3,2)\n",
    "plt.hist(np.round(lr_pred1), bins=6, color='g')\n",
    "plt.title(\"Model: Linear Regression\")\n",
    "plt.xlim(x_lim)\n",
    "plt.ylim(y_lim)\n",
    "plt.legend(loc='upper right')\n",
    "\n",
    "plt.subplot(2,3,3)\n",
    "plt.hist(np.round(knn_pred1), bins=5, color='g')\n",
    "plt.title(\"Model: k-Nearest Neighbors\")\n",
    "plt.xlabel('ICU Length of Stay (days)')\n",
    "plt.ylabel('Frequency')\n",
    "plt.xlim(x_lim)\n",
    "plt.ylim(y_lim)\n",
    "plt.legend(loc='upper right')\n",
    "\n",
    "plt.subplot(2,3,4)\n",
    "plt.hist(np.round(rf_pred1), bins=8, color='g')\n",
    "plt.title(\"Model: Random Forest\")\n",
    "plt.xlabel('ICU Length of Stay (days)')\n",
    "plt.xlim(x_lim)\n",
    "plt.ylim(y_lim)\n",
    "plt.legend(loc='upper right')\n",
    "\n",
    "plt.subplot(2,3,5)\n",
    "plt.hist(np.round(gbr_pred1), bins=2, color='g')\n",
    "plt.title(\"Model: Gradient Boosting\")\n",
    "plt.xlabel('ICU Length of Stay (days)')\n",
    "plt.xlim(x_lim)\n",
    "plt.ylim(y_lim)\n",
    "plt.legend(loc='upper right')\n",
    "\n",
    "plt.suptitle('Histogram: Response (Models vs. True) \\n Respiratory Diseases')\n",
    "\n",
    "plt.show()"
   ]
  },
  {
   "cell_type": "markdown",
   "metadata": {},
   "source": [
    "## Musculoskeletal"
   ]
  },
  {
   "cell_type": "code",
   "execution_count": 203,
   "metadata": {
    "collapsed": false
   },
   "outputs": [
    {
     "data": {
      "image/png": "[encoded data removed]",
      "text/plain": [
       "<matplotlib.figure.Figure at 0x7f6b73d6a9d0>"
      ]
     },
     "metadata": {},
     "output_type": "display_data"
    }
   ],
   "source": [
    "x_lim = [0,50]\n",
    "y_lim = [0,300]\n",
    "\n",
    "plt.figure(figsize=(15, 10))\n",
    "plt.subplot(2,3,1)\n",
    "plt.hist(np.round(y_test2), bins=8, color='b')\n",
    "plt.title(\"True (y-test)\")\n",
    "plt.ylabel('Frequency')\n",
    "plt.xlim(x_lim)\n",
    "plt.ylim(y_lim)\n",
    "plt.legend(loc='upper right')\n",
    "\n",
    "plt.subplot(2,3,2)\n",
    "plt.hist(np.round(lr_pred2), bins=5, color='g')\n",
    "plt.title(\"Model: Linear Regression\")\n",
    "plt.xlim(x_lim)\n",
    "plt.ylim(y_lim)\n",
    "plt.legend(loc='upper right')\n",
    "\n",
    "plt.subplot(2,3,3)\n",
    "plt.hist(np.round(knn_pred2), bins=6, color='g')\n",
    "plt.title(\"Model: k-Nearest Neighbors\")\n",
    "plt.xlabel('ICU Length of Stay (days)')\n",
    "plt.ylabel('Frequency')\n",
    "plt.xlim(x_lim)\n",
    "plt.ylim(y_lim)\n",
    "plt.legend(loc='upper right')\n",
    "\n",
    "plt.subplot(2,3,4)\n",
    "plt.hist(np.round(rf_pred2), bins=6, color='g')\n",
    "plt.title(\"Model: Random Forest\")\n",
    "plt.xlabel('ICU Length of Stay (days)')\n",
    "plt.xlim(x_lim)\n",
    "plt.ylim(y_lim)\n",
    "plt.legend(loc='upper right')\n",
    "\n",
    "plt.subplot(2,3,5)\n",
    "plt.hist(np.round(gbr_pred2), bins=4, color='g')\n",
    "plt.title(\"Model: Gradient Boosting\")\n",
    "plt.xlabel('ICU Length of Stay (days)')\n",
    "plt.xlim(x_lim)\n",
    "plt.ylim(y_lim)\n",
    "plt.legend(loc='upper right')\n",
    "\n",
    "plt.suptitle('Histogram: Response (Models vs. True) \\n Muscoskeletal')\n",
    "\n",
    "plt.show()"
   ]
  },
  {
   "cell_type": "markdown",
   "metadata": {
    "collapsed": true
   },
   "source": [
    "## Nervous System"
   ]
  },
  {
   "cell_type": "code",
   "execution_count": 63,
   "metadata": {
    "collapsed": false
   },
   "outputs": [
    {
     "data": {
      "image/png": "[encoded data removed]",
      "text/plain": [
       "<matplotlib.figure.Figure at 0x7f6bbbae86d0>"
      ]
     },
     "metadata": {},
     "output_type": "display_data"
    }
   ],
   "source": [
    "x_lim = [0,50]\n",
    "y_lim = [0,200]\n",
    "\n",
    "plt.figure(figsize=(15, 10))\n",
    "plt.subplot(2,3,1)\n",
    "plt.hist(np.round(y_test3), bins=11, color='b')\n",
    "plt.title(\"True (y-test)\")\n",
    "plt.ylabel('Frequency')\n",
    "plt.xlim(x_lim)\n",
    "plt.ylim(y_lim)\n",
    "plt.legend(loc='upper right')\n",
    "\n",
    "plt.subplot(2,3,2)\n",
    "plt.hist(np.round(lr_pred3), bins=7, color='g')\n",
    "plt.title(\"Model: Linear Regression\")\n",
    "plt.xlim(x_lim)\n",
    "plt.ylim(y_lim)\n",
    "plt.legend(loc='upper right')\n",
    "\n",
    "plt.subplot(2,3,3)\n",
    "plt.hist(np.round(knn_pred3), bins=7, color='g')\n",
    "plt.title(\"Model: k-Nearest Neighbors\")\n",
    "plt.xlabel('ICU Length of Stay (days)')\n",
    "plt.ylabel('Frequency')\n",
    "plt.xlim(x_lim)\n",
    "plt.ylim(y_lim)\n",
    "plt.legend(loc='upper right')\n",
    "\n",
    "plt.subplot(2,3,4)\n",
    "plt.hist(np.round(rf_pred3), bins=7, color='g')\n",
    "plt.title(\"Model: Random Forest\")\n",
    "plt.xlabel('ICU Length of Stay (days)')\n",
    "plt.xlim(x_lim)\n",
    "plt.ylim(y_lim)\n",
    "plt.legend(loc='upper right')\n",
    "\n",
    "plt.subplot(2,3,5)\n",
    "plt.hist(np.round(gbr_pred3), bins=7, color='g')\n",
    "plt.title(\"Model: Gradient Boosting\")\n",
    "plt.xlabel('ICU Length of Stay (days)')\n",
    "plt.xlim(x_lim)\n",
    "plt.ylim(y_lim)\n",
    "plt.legend(loc='upper right')\n",
    "\n",
    "plt.suptitle('Histogram: Response (Models vs. True) \\n Nervous System')\n",
    "plt.show()"
   ]
  },
  {
   "cell_type": "markdown",
   "metadata": {
    "collapsed": true
   },
   "source": [
    "## Infectious Diseases"
   ]
  },
  {
   "cell_type": "code",
   "execution_count": 76,
   "metadata": {
    "collapsed": false
   },
   "outputs": [
    {
     "data": {
      "image/png": "[encoded data removed]",
      "text/plain": [
       "<matplotlib.figure.Figure at 0x7f6bbba6cb90>"
      ]
     },
     "metadata": {},
     "output_type": "display_data"
    }
   ],
   "source": [
    "x_lim = [0,50]\n",
    "y_lim = [0,350]\n",
    "\n",
    "plt.figure(figsize=(15, 10))\n",
    "plt.subplot(2,3,1)\n",
    "plt.hist(np.round(y_test4), bins=10, color='b')\n",
    "plt.title(\"True (y-test)\")\n",
    "plt.ylabel('Frequency')\n",
    "plt.xlim(x_lim)\n",
    "plt.ylim(y_lim)\n",
    "plt.legend(loc='upper right')\n",
    "\n",
    "plt.subplot(2,3,2)\n",
    "plt.hist(np.round(lr_pred4), bins=4, color='g')\n",
    "plt.title(\"Model: Linear Regression\")\n",
    "plt.xlim(x_lim)\n",
    "plt.ylim(y_lim)\n",
    "plt.legend(loc='upper right')\n",
    "\n",
    "plt.subplot(2,3,3)\n",
    "plt.hist(np.round(knn_pred4), bins=5, color='g')\n",
    "plt.title(\"Model: k-Nearest Neighbors\")\n",
    "plt.xlabel('ICU Length of Stay (days)')\n",
    "plt.ylabel('Frequency')\n",
    "plt.xlim(x_lim)\n",
    "plt.ylim(y_lim)\n",
    "plt.legend(loc='upper right')\n",
    "\n",
    "plt.subplot(2,3,4)\n",
    "plt.hist(np.round(rf_pred4), bins=8, color='g')\n",
    "plt.title(\"Model: Random Forest\")\n",
    "plt.xlabel('ICU Length of Stay (days)')\n",
    "plt.xlim(x_lim)\n",
    "plt.ylim(y_lim)\n",
    "plt.legend(loc='upper right')\n",
    "\n",
    "plt.subplot(2,3,5)\n",
    "plt.hist(np.round(gbr_pred4), bins=9, color='g')\n",
    "plt.title(\"Model: Gradient Boosting\")\n",
    "plt.xlabel('ICU Length of Stay (days)')\n",
    "plt.xlim(x_lim)\n",
    "plt.ylim(y_lim)\n",
    "plt.legend(loc='upper right')\n",
    "\n",
    "plt.suptitle('Histogram: Response (Models vs. True) \\n Infectious Diseases')\n",
    "plt.show()"
   ]
  },
  {
   "cell_type": "markdown",
   "metadata": {},
   "source": [
    "## Others"
   ]
  },
  {
   "cell_type": "code",
   "execution_count": 89,
   "metadata": {
    "collapsed": false
   },
   "outputs": [
    {
     "data": {
      "image/png": "[encoded data removed]",
      "text/plain": [
       "<matplotlib.figure.Figure at 0x7f0951fa72d0>"
      ]
     },
     "metadata": {},
     "output_type": "display_data"
    }
   ],
   "source": [
    "x_lim = [0,50]\n",
    "y_lim = [0,800]\n",
    "\n",
    "plt.figure(figsize=(15, 10))\n",
    "plt.subplot(2,3,1)\n",
    "plt.hist(np.round(y_test5), bins=10, color='b')\n",
    "plt.title(\"True (y-test)\")\n",
    "plt.ylabel('Frequency')\n",
    "plt.xlim(x_lim)\n",
    "plt.ylim(y_lim)\n",
    "plt.legend(loc='upper right')\n",
    "\n",
    "plt.subplot(2,3,2)\n",
    "plt.hist(np.round(lr_pred5), bins=7, color='g')\n",
    "plt.title(\"Model: Linear Regression\")\n",
    "plt.xlim(x_lim)\n",
    "plt.ylim(y_lim)\n",
    "plt.legend(loc='upper right')\n",
    "\n",
    "plt.subplot(2,3,3)\n",
    "plt.hist(np.round(knn_pred5), bins=10, color='g')\n",
    "plt.title(\"Model: k-Nearest Neighbors\")\n",
    "plt.xlabel('ICU Length of Stay (days)')\n",
    "plt.ylabel('Frequency')\n",
    "plt.xlim(x_lim)\n",
    "plt.ylim(y_lim)\n",
    "plt.legend(loc='upper right')\n",
    "\n",
    "plt.subplot(2,3,4)\n",
    "plt.hist(np.round(rf_pred5), bins=8, color='g')\n",
    "plt.title(\"Model: Random Forest\")\n",
    "plt.xlabel('ICU Length of Stay (days)')\n",
    "plt.xlim(x_lim)\n",
    "plt.ylim(y_lim)\n",
    "plt.legend(loc='upper right')\n",
    "\n",
    "plt.subplot(2,3,5)\n",
    "plt.hist(np.round(gbr_pred5), bins=5, color='g')\n",
    "plt.title(\"Model: Gradient Boosting\")\n",
    "plt.xlabel('ICU Length of Stay (days)')\n",
    "plt.xlim(x_lim)\n",
    "plt.ylim(y_lim)\n",
    "plt.legend(loc='upper right')\n",
    "\n",
    "plt.suptitle('Histogram: Response (Models vs. True) \\n Others')\n",
    "plt.show()"
   ]
  },
  {
   "cell_type": "markdown",
   "metadata": {},
   "source": [
    "## Conclusion\n",
    "\n",
    "### Main Points\n",
    "1. NLP tokenization (*fuzzy logic search*) had minor dropoffs in the models performance. This may be due to loss of specificity with the NLP searches as it relies on *thresholds* and *consecutive string sequences*.\n",
    "  * **Note**: Inexperience with NLP may also be a large factor.\n",
    "2. Observation patterns remain the same:\n",
    "  * **Random Forest** remains to be the best model (*best resembles y-true distribution*)\n",
    "  * **Heart Disease** and **Infectious Diseases** are still the best disease categories, followed by **Respiratory** and **Nervous System** diseases.\n",
    "  * **Musculoskeletal Disease** remains to be the weakest and most likely irrelevant category.\n",
    "  \n",
    "**Note**: Support Vector Machines were not tested due to computation requirements and unproven success from prior analyses."
   ]
  },
  {
   "cell_type": "markdown",
   "metadata": {},
   "source": [
    "### Results\n",
    "\n",
    "#### Root Mean Squared Error\n",
    "<table>\n",
    "  <tr>\n",
    "    <th rowspan=\"2\"> </th>\n",
    "    <th colspan=\"7\">RMSE</th>\n",
    "  </tr>\n",
    "  <tr>\n",
    "    <th>Heart Disease</th>\n",
    "    <th>Respiratory</th> \n",
    "    <th>Musculoskeletal</th>\n",
    "    <th>Nervous System</th>\n",
    "    <th>Infectious Diseases</th>\n",
    "    <th>Others</th>\n",
    "\n",
    "  </tr>\n",
    "  <tr>\n",
    "    <td>**Linear Regression**</td>\n",
    "    <td>3.8</td>\n",
    "    <td>7.8</td>\n",
    "    <td>8.0</td>\n",
    "    <td>8.2</td> \n",
    "    <td>6.5</td>\n",
    "    <td>9.4</td>\n",
    "  </tr>\n",
    "  <tr>\n",
    "    <td>**k-Nearest Neighbors**</td>\n",
    "    <td>3.2</td>\n",
    "    <td>6.2</td> \n",
    "    <td>6.3</td>\n",
    "    <td>8.6</td>\n",
    "    <td>6.3</td> \n",
    "    <td>7.7</td>\n",
    "  </tr>\n",
    "  <tr>\n",
    "    <td>**Random Forest**</td>\n",
    "    <td>**2.6**</td>\n",
    "    <td>**5.3**</td> \n",
    "    <td>**5.8**</td>\n",
    "    <td>**7.4**</td>\n",
    "    <td>**4.8**</td> \n",
    "    <td>**5.7**</td>\n",
    "  </tr>\n",
    "  <tr>\n",
    "    <td>**Gradient Boosting**</td>\n",
    "    <td>3.6</td>\n",
    "    <td>6.6</td> \n",
    "    <td>5.6</td>\n",
    "    <td>7.4</td>\n",
    "    <td>6.2</td> \n",
    "    <td>7.8</td>\n",
    "  </tr>\n",
    "</table>\n",
    "\n",
    "#### Mean Absolute Error\n",
    "<table>\n",
    "  <tr>\n",
    "    <th rowspan=\"2\"> </th>\n",
    "    <th colspan=\"7\">MAE</th>\n",
    "  </tr>\n",
    "  <tr>\n",
    "    <th>Heart Disease</th>\n",
    "    <th>Respiratory</th> \n",
    "    <th>Musculoskeletal</th>\n",
    "    <th>Nervous System</th>\n",
    "    <th>Infectious Diseases</th>\n",
    "    <th>Others</th>\n",
    "  </tr>\n",
    "  <tr>\n",
    "    <td>**Linear Regression**</td>\n",
    "    <td>2.2</td>\n",
    "    <td>5.3</td>\n",
    "    <td>6.1</td>\n",
    "    <td>5.3</td> \n",
    "    <td>3.6</td>\n",
    "    <td>5.7</td>\n",
    "  </tr>\n",
    "  <tr>\n",
    "    <td>**k-Nearest Neighbors**</td>\n",
    "    <td>1.9</td>\n",
    "    <td>2.9</td> \n",
    "    <td>3.7</td>\n",
    "    <td>5.0</td>\n",
    "    <td>3.2</td> \n",
    "    <td>3.8</td>\n",
    "  </tr>\n",
    "  <tr>\n",
    "    <td>**Random Forest**</td>\n",
    "    <td>**1.5**</td>\n",
    "    <td>**2.2**</td> \n",
    "    <td>**3.1**</td>\n",
    "    <td>**4.1**</td>\n",
    "    <td>**2.2**</td> \n",
    "    <td>**3.0**</td>\n",
    "  </tr>\n",
    "  <tr>\n",
    "    <td>**Gradient Boosting**</td>\n",
    "    <td>1.9</td>\n",
    "    <td>2.8</td> \n",
    "    <td>3.1</td>\n",
    "    <td>4.3</td>\n",
    "    <td>3.1</td> \n",
    "    <td>3.6</td>\n",
    "  </tr>\n",
    "</table>\n",
    "\n",
    "#### R<sup>2</sup>\n",
    "<table>\n",
    "  <tr>\n",
    "    <th rowspan=\"2\"> </th>\n",
    "    <th colspan=\"7\">R<sup>2</sup></th>\n",
    "  </tr>\n",
    "  <tr>\n",
    "    <th>Heart Disease</th>\n",
    "    <th>Respiratory</th> \n",
    "    <th>Musculoskeletal</th>\n",
    "    <th>Nervous System</th>\n",
    "    <th>Infectious Diseases</th>\n",
    "    <th>Others</th>\n",
    "  </tr>\n",
    "  <tr>\n",
    "    <td>**Linear Regression**</td>\n",
    "    <td>0.27</td>\n",
    "    <td>-0.20</td>\n",
    "    <td>-0.64</td>\n",
    "    <td>0.30</td> \n",
    "    <td>0.22</td>\n",
    "    <td>-0.13</td>\n",
    "  </tr>\n",
    "  <tr>\n",
    "    <td>**k-Nearest Neighbors**</td>\n",
    "    <td>0.48</td>\n",
    "    <td>0.26</td> \n",
    "    <td>-0.02</td>\n",
    "    <td>0.22</td>\n",
    "    <td>0.25</td> \n",
    "    <td>0.24</td>\n",
    "  </tr>\n",
    "  <tr>\n",
    "    <td>**Random Forest**</td>\n",
    "    <td>**0.65**</td>\n",
    "    <td>**0.45**</td> \n",
    "    <td>**0.12**</td>\n",
    "    <td>**0.42**</td>\n",
    "    <td>**0.58**</td> \n",
    "    <td>**0.58**</td>\n",
    "  </tr>\n",
    "  <tr>\n",
    "    <td>**Gradient Boosting**</td>\n",
    "    <td>0.36</td>\n",
    "    <td>0.15</td> \n",
    "    <td>0.19</td>\n",
    "    <td>0.43</td>\n",
    "    <td>0.28</td> \n",
    "    <td>0.22</td>\n",
    "  </tr>\n",
    "</table>"
   ]
  }
 ],
 "metadata": {
  "kernelspec": {
   "display_name": "Python 2",
   "language": "python",
   "name": "python2"
  },
  "language_info": {
   "codemirror_mode": {
    "name": "ipython",
    "version": 2
   },
   "file_extension": ".py",
   "mimetype": "text/x-python",
   "name": "python",
   "nbconvert_exporter": "python",
   "pygments_lexer": "ipython2",
   "version": "2.7.12"
  }
 },
 "nbformat": 4,
 "nbformat_minor": 2
}
